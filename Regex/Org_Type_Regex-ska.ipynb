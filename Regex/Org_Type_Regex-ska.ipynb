{
 "cells": [
  {
   "cell_type": "code",
   "execution_count": 2,
   "metadata": {},
   "outputs": [],
   "source": [
    "import re\n",
    "import pandas as pd\n",
    "# import MySQLdb\n",
    "import sys, csv, os\n",
    "# sys.path.append(\"D:/DataBaseUpdate/To_clone\")\n",
    "# from ConfigFiles import config #this attaches my database credentials"
   ]
  },
  {
   "cell_type": "code",
   "execution_count": 79,
   "metadata": {
    "collapsed": true
   },
   "outputs": [],
   "source": [
    "academic = []\n",
    "government = []\n",
    "corporate = []\n",
    "hospital = []\n",
    "\n",
    "lookup = {'Academic': academic, 'Government': government, \"Corporate\": corporate, 'Hospital': hospital}\n",
    "\n",
    "def add_to_list(item, category):\n",
    "    lookup[category].append(item)\n",
    "\n",
    "with open('AcadCorpGovIndiv.txt', 'rb') as myfile:\n",
    "    category = None\n",
    "    for line in myfile.readlines():\n",
    "        if line.startswith(\"*\"):\n",
    "            category = line[2:].strip(\"\\r\\n\")\n",
    "            if category == 'People':\n",
    "                break\n",
    "        if not line.startswith(\"*\"):\n",
    "            add_to_list(line[6:].strip(\"\\r\\n\").replace(\"\\\\b\", \"\"), category)"
   ]
  },
  {
   "cell_type": "code",
   "execution_count": 80,
   "metadata": {
    "collapsed": true
   },
   "outputs": [],
   "source": [
    "government += [\"represented\", \"Department of\",\"United States of America\", \"The National Institute of Standards and Technology\",\n",
    "               \"National Institutes of Health\", \"Tennessee Valley Authority\"]\n",
    "academic += ['Massachusetts Institute of Technology', 'California Institute of Technology','Rensselaer Polytechnic Institute']\n",
    "hospital += ['Sloan-Kettering Institute for Cancer Research']\n",
    "corporate += ['Battelle Memorial Institute', 'The Scripps Research Institute','The Salk Institute for Biological Studies','Dana-Farber Cancer Institute, Inc.', 'Midwest Research Institute', 'Southwest Research Institute', 'Whitehead Institute for Biomedical Research', 'SRI International', 'International Business Machines', 'General Dynamics']"
   ]
  },
  {
   "cell_type": "code",
   "execution_count": 81,
   "metadata": {
    "scrolled": true
   },
   "outputs": [
    {
     "name": "stdout",
     "output_type": "stream",
     "text": [
      "corporate\n",
      "['AB$', 'AG', 'Boeing', 'Company', 'Corporation', 'Consultant', 'Corp', 'Gmbh', 'IBM', 'Inc', 'KGAA', 'KK$', 'LLC', 'Limited', 'Ltd', 'NTT', 'NV$', 'PLC', 'SA$', 'SPA$', 'Corporation$', 'LLC$', 'Battelle Memorial Institute', 'The Scripps Research Institute', 'The Salk Institute for Biological Studies', 'Dana-Farber Cancer Institute, Inc.', 'Midwest Research Institute', 'Southwest Research Institute', 'Whitehead Institute for Biomedical Research', 'SRI International', 'International Business Machines', 'General Dynamics', 'Aerospace Federally Funded Research and Development Center', 'Ames Laboratory', 'Argonne National Laboratory', 'Arroyo Center', 'Brookhaven National Laboratory', 'Center for Advanced Aviation System Development', 'Center for Communications and Computing', 'Center for Enterprise Modernization', 'Center for Naval Analyses', 'Center for Nuclear Waste Regulatory Analyses', 'CMS Alliance to Modernize Healthcare', 'Fermi National Accelerator Laboratory', 'Frederick National Laboratory for Cancer Research', 'Homeland Security Studies and Analysis Institute', 'Homeland Security Systems Engineering and Development Institute', 'Idaho National Laboratory', 'Jet Propulsion Laboratory', 'Judiciary Engineering and  Modernization Center', 'Lawrence Berkeley National Laboratory', 'Lincoln Laboratory', 'Los Alamos National Laboratory', 'National Biodefense Analysis and Countermeasures Center', 'National Center for Atmospheric Research', 'National Cybersecurity Center of Excellence', 'National Optical Astronomy Observatory', 'National Defense Research Institute', 'National Optical Astronomy Observatory', 'National Radio Astronomy Observatory', 'National Renewable Energy Laboratory', 'National Security Engineering Center', 'National Solar Observatory', 'Oak Ridge National Laboratory', 'Pacific Northwest National Laboratory', 'Princeton Plasma Physics Laboratory', 'Project Air Force', 'Sandia National Laboratories', 'Savannah River National Laboratory', 'Science and Technology Policy Institute', 'SLAC National Accelerator Laboratory', 'Software Engineering Institute', 'Systems and Analyses Center', 'Thomas Jefferson National Accelerator Facility']\n",
      "academic\n",
      "['Acad', 'Academic', 'Coll', 'Colleg', 'Ecole', 'Escola', 'Inst of Tech[a-z]+', 'MIT', 'Sch', 'School', 'Univ', 'Massachusetts Institute of Technology', 'California Institute of Technology', 'Rensselaer Polytechnic Institute', 'university', 'alumni', 'univ', 'national cancer', 'brigham', 'jackson lab', 'research center', 'akademie', 'vib', 'RIKEN', 'Eye & Ear', 'medical school', 'national jewish health', 'eth zurich', 'Center for', 'univeristy', 'higher education', 'cold spring harbor', 'akadamie', 'centre for', 'fundacio', 'Universit\\xe9', 'centre', 'planck', 'universuty', 'Universit\\xe2t', 'fundacion', 'UNIVERSIT\\xc0', 'agence nationale', 'insitute', 'UNIVERSIT\\xc9', 'eye and ear in rmary', 'Society for', 'Unversity', 'cancer centre', 'universite', 'institue', 'istituto', 'cancer center', 'fondation', 'universiteit', 'universitet', 'universitaet', 'city of hope', 'educational fund', 'zentrum', 'consejo', 'ecole', 'universtiy', 'centro', 'kettering', 'mayo', 'schule', 'institucio', 'centrum', 'hospital for sick', \"children's hospital\", 'academisch', 'universita', \"universit 'at\", 'unviersity', 'georgia tech', 'school of', 'consiglio nazionale', 'intellectual properties', 'fondazione', 'national centre', 'centro nacional', 'centre national', 'foundation', 'regents', 'council', 'fred hutchinson', 'general hospital corporation', 'universidade', 'research hospital', 'medical center', 'foundation', 'universitat', 'universidad', 'colegio', 'univerisite', 'institut', 'institute', 'instituto', 'trustees', 'academia', 'academy', 'college']\n",
      "hospital\n",
      "['Clinic', 'Hopital', 'Hosp(ital)?', 'infirmary', 'Sloan-Kettering Institute for Cancer Research']\n",
      "government\n",
      "['Academ(y|ies)', 'Res Inst', 'Res Org', 'Air Force', 'Army', 'CSIRO', 'Min', 'NASA', 'NSF', 'Natl?', 'Nav(y|al)', 'USAF', 'ministry', 'national', 'represented', 'Department of', 'United States of America', 'The National Institute of Standards and Technology', 'National Institutes of Health', 'Tennessee Valley Authority', '']\n"
     ]
    }
   ],
   "source": [
    "#adding in the logic from Sanjay's email\n",
    "with open('new_thesaurus.txt', 'rb') as myfile:\n",
    "    counter =0\n",
    "    for line in myfile.readlines():\n",
    "        if line != \"\\r\\n\":\n",
    "            if counter ==0:\n",
    "                academic += [item.lstrip(\" \").rstrip(\" \").strip(\"\\r\\n\") for item in line.split(',')]\n",
    "            if counter ==1:\n",
    "                government += [item.lstrip(\" \").rstrip(\" \").strip(\"\\r\\n\") for item in line.split(',')]\n",
    "            if counter ==2:\n",
    "                corporate += [item.lstrip(\" \").rstrip(\" \").strip(\"\\r\\n\") for item in line.split(',')]\n",
    "            counter +=1\n",
    "\n",
    "print \"corporate\"\n",
    "print corporate\n",
    "\n",
    "print \"academic\"\n",
    "print academic\n",
    "\n",
    "print \"hospital\"\n",
    "print hospital\n",
    "\n",
    "print \"government\"\n",
    "print government"
   ]
  },
  {
   "cell_type": "code",
   "execution_count": 82,
   "metadata": {},
   "outputs": [
    {
     "name": "stdout",
     "output_type": "stream",
     "text": [
      "corporate\n",
      "['\\\\bAB$', '\\\\bAG\\\\b', '\\\\bBoeing\\\\b', '\\\\bCompany\\\\b', '\\\\bCorporation\\\\b', '\\\\bConsultant\\\\b', '\\\\bCorp\\\\b', '\\\\bGmbh\\\\b', '\\\\bIBM\\\\b', '\\\\bInc\\\\b', '\\\\bKGAA\\\\b', '\\\\bKK$', '\\\\bLLC\\\\b', '\\\\bLimited\\\\b', '\\\\bLtd\\\\b', '\\\\bNTT\\\\b', '\\\\bNV$', '\\\\bPLC\\\\b', '\\\\bSA$', '\\\\bSPA$', '\\\\bCorporation$', '\\\\bLLC$', '\\\\bBattelle Memorial Institute\\\\b', '\\\\bThe Scripps Research Institute\\\\b', '\\\\bThe Salk Institute for Biological Studies\\\\b', '\\\\bDana-Farber Cancer Institute, Inc.\\\\b', '\\\\bMidwest Research Institute\\\\b', '\\\\bSouthwest Research Institute\\\\b', '\\\\bWhitehead Institute for Biomedical Research\\\\b', '\\\\bSRI International\\\\b', '\\\\bInternational Business Machines\\\\b', '\\\\bGeneral Dynamics\\\\b', '\\\\bAerospace Federally Funded Research and Development Center\\\\b', '\\\\bAmes Laboratory\\\\b', '\\\\bArgonne National Laboratory\\\\b', '\\\\bArroyo Center\\\\b', '\\\\bBrookhaven National Laboratory\\\\b', '\\\\bCenter for Advanced Aviation System Development\\\\b', '\\\\bCenter for Communications and Computing\\\\b', '\\\\bCenter for Enterprise Modernization\\\\b', '\\\\bCenter for Naval Analyses\\\\b', '\\\\bCenter for Nuclear Waste Regulatory Analyses\\\\b', '\\\\bCMS Alliance to Modernize Healthcare\\\\b', '\\\\bFermi National Accelerator Laboratory\\\\b', '\\\\bFrederick National Laboratory for Cancer Research\\\\b', '\\\\bHomeland Security Studies and Analysis Institute\\\\b', '\\\\bHomeland Security Systems Engineering and Development Institute\\\\b', '\\\\bIdaho National Laboratory\\\\b', '\\\\bJet Propulsion Laboratory\\\\b', '\\\\bJudiciary Engineering and  Modernization Center\\\\b', '\\\\bLawrence Berkeley National Laboratory\\\\b', '\\\\bLincoln Laboratory\\\\b', '\\\\bLos Alamos National Laboratory\\\\b', '\\\\bNational Biodefense Analysis and Countermeasures Center\\\\b', '\\\\bNational Center for Atmospheric Research\\\\b', '\\\\bNational Cybersecurity Center of Excellence\\\\b', '\\\\bNational Optical Astronomy Observatory\\\\b', '\\\\bNational Defense Research Institute\\\\b', '\\\\bNational Optical Astronomy Observatory\\\\b', '\\\\bNational Radio Astronomy Observatory\\\\b', '\\\\bNational Renewable Energy Laboratory\\\\b', '\\\\bNational Security Engineering Center\\\\b', '\\\\bNational Solar Observatory\\\\b', '\\\\bOak Ridge National Laboratory\\\\b', '\\\\bPacific Northwest National Laboratory\\\\b', '\\\\bPrinceton Plasma Physics Laboratory\\\\b', '\\\\bProject Air Force\\\\b', '\\\\bSandia National Laboratories\\\\b', '\\\\bSavannah River National Laboratory\\\\b', '\\\\bScience and Technology Policy Institute\\\\b', '\\\\bSLAC National Accelerator Laboratory\\\\b', '\\\\bSoftware Engineering Institute\\\\b', '\\\\bSystems and Analyses Center\\\\b', '\\\\bThomas Jefferson National Accelerator Facility\\\\b']\n",
      "academic\n",
      "['\\\\bAcad\\\\b', '\\\\bAcademic\\\\b', '\\\\bColl\\\\b', '\\\\bColleg\\\\b', '\\\\bEcole\\\\b', '\\\\bEscola\\\\b', '\\\\bInst of Tech[a-z]+\\\\b', '\\\\bMIT\\\\b', '\\\\bSch\\\\b', '\\\\bSchool\\\\b', '\\\\bUniv\\\\b', '\\\\bMassachusetts Institute of Technology\\\\b', '\\\\bCalifornia Institute of Technology\\\\b', '\\\\bRensselaer Polytechnic Institute\\\\b', '\\\\buniversity\\\\b', '\\\\balumni\\\\b', '\\\\buniv\\\\b', '\\\\bnational cancer\\\\b', '\\\\bbrigham\\\\b', '\\\\bjackson lab\\\\b', '\\\\bresearch center\\\\b', '\\\\bakademie\\\\b', '\\\\bvib\\\\b', '\\\\bRIKEN\\\\b', '\\\\bEye & Ear\\\\b', '\\\\bmedical school\\\\b', '\\\\bnational jewish health\\\\b', '\\\\beth zurich\\\\b', '\\\\bCenter for\\\\b', '\\\\buniveristy\\\\b', '\\\\bhigher education\\\\b', '\\\\bcold spring harbor\\\\b', '\\\\bakadamie\\\\b', '\\\\bcentre for\\\\b', '\\\\bfundacio\\\\b', '\\\\bUniversit\\xe9\\\\b', '\\\\bcentre\\\\b', '\\\\bplanck\\\\b', '\\\\buniversuty\\\\b', '\\\\bUniversit\\xe2t\\\\b', '\\\\bfundacion\\\\b', '\\\\bUNIVERSIT\\xc0\\\\b', '\\\\bagence nationale\\\\b', '\\\\binsitute\\\\b', '\\\\bUNIVERSIT\\xc9\\\\b', '\\\\beye and ear in rmary\\\\b', '\\\\bSociety for\\\\b', '\\\\bUnversity\\\\b', '\\\\bcancer centre\\\\b', '\\\\buniversite\\\\b', '\\\\binstitue\\\\b', '\\\\bistituto\\\\b', '\\\\bcancer center\\\\b', '\\\\bfondation\\\\b', '\\\\buniversiteit\\\\b', '\\\\buniversitet\\\\b', '\\\\buniversitaet\\\\b', '\\\\bcity of hope\\\\b', '\\\\beducational fund\\\\b', '\\\\bzentrum\\\\b', '\\\\bconsejo\\\\b', '\\\\becole\\\\b', '\\\\buniverstiy\\\\b', '\\\\bcentro\\\\b', '\\\\bkettering\\\\b', '\\\\bmayo\\\\b', '\\\\bschule\\\\b', '\\\\binstitucio\\\\b', '\\\\bcentrum\\\\b', '\\\\bhospital for sick\\\\b', \"\\\\bchildren's hospital\\\\b\", '\\\\bacademisch\\\\b', '\\\\buniversita\\\\b', \"\\\\buniversit 'at\\\\b\", '\\\\bunviersity\\\\b', '\\\\bgeorgia tech\\\\b', '\\\\bschool of\\\\b', '\\\\bconsiglio nazionale\\\\b', '\\\\bintellectual properties\\\\b', '\\\\bfondazione\\\\b', '\\\\bnational centre\\\\b', '\\\\bcentro nacional\\\\b', '\\\\bcentre national\\\\b', '\\\\bfoundation\\\\b', '\\\\bregents\\\\b', '\\\\bcouncil\\\\b', '\\\\bfred hutchinson\\\\b', '\\\\bgeneral hospital corporation\\\\b', '\\\\buniversidade\\\\b', '\\\\bresearch hospital\\\\b', '\\\\bmedical center\\\\b', '\\\\bfoundation\\\\b', '\\\\buniversitat\\\\b', '\\\\buniversidad\\\\b', '\\\\bcolegio\\\\b', '\\\\buniverisite\\\\b', '\\\\binstitut\\\\b', '\\\\binstitute\\\\b', '\\\\binstituto\\\\b', '\\\\btrustees\\\\b', '\\\\bacademia\\\\b', '\\\\bacademy\\\\b', '\\\\bcollege\\\\b']\n",
      "hospital\n",
      "['\\\\bClinic\\\\b', '\\\\bHopital\\\\b', '\\\\bHosp(ital)?\\\\b', '\\\\binfirmary\\\\b', '\\\\bSloan-Kettering Institute for Cancer Research\\\\b']\n",
      "government\n",
      "['\\\\bAcadem(y|ies)\\\\b', '\\\\bRes Inst\\\\b', '\\\\bRes Org\\\\b', '\\\\bAir Force\\\\b', '\\\\bArmy\\\\b', '\\\\bCSIRO\\\\b', '\\\\bMin\\\\b', '\\\\bNASA\\\\b', '\\\\bNSF\\\\b', '\\\\bNatl?\\\\b', '\\\\bNav(y|al)\\\\b', '\\\\bUSAF\\\\b', '\\\\bministry\\\\b', '\\\\bnational\\\\b', '\\\\brepresented\\\\b', '\\\\bDepartment of\\\\b', '\\\\bUnited States of America\\\\b', '\\\\bThe National Institute of Standards and Technology\\\\b', '\\\\bNational Institutes of Health\\\\b', '\\\\bTennessee Valley Authority\\\\b', '\\\\b\\\\b']\n"
     ]
    }
   ],
   "source": [
    "academic_stops = [item if \"$\" in item else (item + \"\\\\b\") for item in academic ]\n",
    "academic_stops = [\"\\\\b\" + item for item in academic_stops ]\n",
    "\n",
    "corporate_stops = [item if \"$\" in item else (item + \"\\\\b\") for item in corporate ]\n",
    "corporate_stops = [\"\\\\b\" + item for item in corporate_stops ]\n",
    "\n",
    "government_stops = [item if \"$\" in item else (item + \"\\\\b\") for item in government ]\n",
    "government_stops = [\"\\\\b\" + item for item in government_stops ]\n",
    "\n",
    "hospital_stops = [item if \"$\" in item else (item + \"\\\\b\") for item in hospital ]\n",
    "hospital_stops = [\"\\\\b\" + item for item in hospital_stops ]\n",
    "\n",
    "print \"corporate\"\n",
    "print corporate_stops\n",
    "\n",
    "print \"academic\"\n",
    "print academic_stops\n",
    "\n",
    "print \"hospital\"\n",
    "print hospital_stops\n",
    "\n",
    "print \"government\"\n",
    "print government_stops"
   ]
  },
  {
   "cell_type": "code",
   "execution_count": 83,
   "metadata": {
    "collapsed": true
   },
   "outputs": [],
   "source": [
    "academic_regex = re.compile(\"|\".join(academic_stops), re.IGNORECASE)\n",
    "government_regex = re.compile(\"|\".join(government_stops), re.IGNORECASE)\n",
    "corporate_regex = re.compile(\"|\".join(corporate_stops), re.IGNORECASE)\n",
    "hospital_regex = re.compile(\"|\".join(hospital_stops), re.IGNORECASE)\n",
    "institute_regex = re.compile(\"institute\", re.IGNORECASE) "
   ]
  },
  {
   "cell_type": "code",
   "execution_count": 84,
   "metadata": {},
   "outputs": [],
   "source": [
    "def org_types(text):\n",
    "    if text == \"\":\n",
    "        return \"Person\"\n",
    "    academic = bool(re.search(academic_regex, text))\n",
    "    government = bool(re.search(government_regex, text))\n",
    "    corporate = bool(re.search(corporate_regex, text))\n",
    "    hospital = bool(re.search(hospital_regex, text))\n",
    "    institute = bool(re.search(institute_regex, text)) \n",
    "\n",
    "    if corporate:\n",
    "        return \"Corporate\"\n",
    "    if academic: \n",
    "        return \"Academic\"\n",
    "    if government:\n",
    "        return \"Government\"\n",
    "    if hospital:\n",
    "        return \"Hospital\"\n",
    "    if institute: \n",
    "        return \"Institute\"\n",
    "    else:\n",
    "        return \"Ambiguous\""
   ]
  },
  {
   "cell_type": "code",
   "execution_count": 85,
   "metadata": {},
   "outputs": [
    {
     "name": "stdout",
     "output_type": "stream",
     "text": [
      "                                         organization  thes_types\n",
      "0                           22nd Century Limited, LLC   Corporate\n",
      "1                             540 Grid Solutions, LLC   Corporate\n",
      "2                                         ACell, Inc.   Corporate\n",
      "3                                 ADMA Products, Inc.   Corporate\n",
      "4                        ADVANCED CERAMIC FIBERS, LLC   Corporate\n",
      "5                                       AFMODEL, LLC.   Corporate\n",
      "6                           AG ENERGY SOLUTIONS, INC.   Corporate\n",
      "7                  AGC Flat Glass North America, Inc.   Corporate\n",
      "8                    AIR PRODUCTS AND CHEMICALS, INC.   Corporate\n",
      "9                        ALF OPERATING PARTNERS, LTD.   Corporate\n",
      "10                       ALGETERNAL TECHNOLOGIES, LLC   Corporate\n",
      "11                        AMO Wavefront Sciences, LLC   Corporate\n",
      "12                                          AMPT, LLC   Corporate\n",
      "13            API Intellectual Property Holdings, LLC   Corporate\n",
      "14                             APPLIED STEMCELL, INC.   Corporate\n",
      "15                              APPLIED SUNSHINE, LLC   Corporate\n",
      "16                            ARBOR THERAPEUTICS, LLC   Corporate\n",
      "17                         AROG PHARMACEUTICALS, INC.   Corporate\n",
      "18                    ASCENT SOLAR TECHNOLOGIES, INC.   Corporate\n",
      "19                                  ASM America, Inc.   Corporate\n",
      "20                               ASTUTE MEDICAL, INC.   Corporate\n",
      "21                              ATC Technologies, LLC   Corporate\n",
      "22                                     ATTOSTAT, INC.   Corporate\n",
      "23                                AVI BioPharma, Inc.   Corporate\n",
      "24                                        AVOGY, INC.   Corporate\n",
      "25                                       Aadigen, LLC   Corporate\n",
      "26           Abengoa Bioenergy New Technologies, LLC.   Corporate\n",
      "27                                       Ablexis, LLC   Corporate\n",
      "28                            Abraxis Bioscience, LLC   Corporate\n",
      "29                            Accuri Cytometers, Inc.   Corporate\n",
      "...                                               ...         ...\n",
      "1757                               Wenger Corporation   Corporate\n",
      "1758                         West Virginia University    Academic\n",
      "1759     Whitehead Institute for Biomedical Research    Corporate\n",
      "1760                    William Marsh Rice University    Academic\n",
      "1761                        Winbond Electronics Corp.   Corporate\n",
      "1762             Wisconsin Alumni Research Foundation    Academic\n",
      "1763         Women and Infants' Hospital Rhode Island  Government\n",
      "1764                          Wright State University    Academic\n",
      "1765                     Wyatt Technology Corporation   Corporate\n",
      "1766                                X DEVELOPMENT LLC   Corporate\n",
      "1767  Xenogenic Development Limited Liability Company   Corporate\n",
      "1768                                Xerox Corporation   Corporate\n",
      "1769                                      Xintec Inc.   Corporate\n",
      "1770                                Yageo Corporation   Corporate\n",
      "1771                                  Yale University    Academic\n",
      "1772                               Yamaha Corporation   Corporate\n",
      "1773                                             Z124  Government\n",
      "1774                                        ZIH Corp.   Corporate\n",
      "1775                                              ZON  Government\n",
      "1776                           Zeno Semiconductor Inc   Corporate\n",
      "1777                     Zenon Technology Partnership  Government\n",
      "1778                        Zephyr Energy Systems LLC   Corporate\n",
      "1779                              Zoetis Services LLC   Corporate\n",
      "1780                                 Zygo Corporation   Corporate\n",
      "1781                                        adidas AG   Corporate\n",
      "1782                                    eSionic Corp.   Corporate\n",
      "1783                                             fybr  Government\n",
      "1784                                     iNanoBio LLC   Corporate\n",
      "1785                              mVerify Corporation   Corporate\n",
      "1786                     nLIGHT Photonics Corporation   Corporate\n",
      "\n",
      "[1787 rows x 2 columns]\n"
     ]
    }
   ],
   "source": [
    "data = pd.read_csv('/Users/sarora/dev/EAGER/data/orgs/all.srtd.csv')\n",
    "data['organization'] = data['organization'].fillna(\"\")\n",
    "data = data.dropna()\n",
    "data['thes_types'] = data['organization'].apply(lambda x : org_types(x))\n",
    "print data"
   ]
  },
  {
   "cell_type": "code",
   "execution_count": 87,
   "metadata": {
    "collapsed": true
   },
   "outputs": [],
   "source": [
    "data.to_csv('/Users/sarora/dev/EAGER/data/orgs/assignees_lookedup_types.csv')"
   ]
  },
  {
   "cell_type": "markdown",
   "metadata": {},
   "source": [
    "### Check the most common assignees"
   ]
  },
  {
   "cell_type": "code",
   "execution_count": 88,
   "metadata": {
    "scrolled": false
   },
   "outputs": [
    {
     "data": {
      "text/html": [
       "<div>\n",
       "<style>\n",
       "    .dataframe thead tr:only-child th {\n",
       "        text-align: right;\n",
       "    }\n",
       "\n",
       "    .dataframe thead th {\n",
       "        text-align: left;\n",
       "    }\n",
       "\n",
       "    .dataframe tbody tr th {\n",
       "        vertical-align: top;\n",
       "    }\n",
       "</style>\n",
       "<table border=\"1\" class=\"dataframe\">\n",
       "  <thead>\n",
       "    <tr style=\"text-align: right;\">\n",
       "      <th></th>\n",
       "      <th>Unnamed: 0</th>\n",
       "      <th>organization</th>\n",
       "      <th>thes_types</th>\n",
       "    </tr>\n",
       "  </thead>\n",
       "  <tbody>\n",
       "    <tr>\n",
       "      <th>0</th>\n",
       "      <td>0</td>\n",
       "      <td>22nd Century Limited, LLC</td>\n",
       "      <td>Corporate</td>\n",
       "    </tr>\n",
       "    <tr>\n",
       "      <th>1</th>\n",
       "      <td>1</td>\n",
       "      <td>540 Grid Solutions, LLC</td>\n",
       "      <td>Corporate</td>\n",
       "    </tr>\n",
       "    <tr>\n",
       "      <th>2</th>\n",
       "      <td>2</td>\n",
       "      <td>ACell, Inc.</td>\n",
       "      <td>Corporate</td>\n",
       "    </tr>\n",
       "    <tr>\n",
       "      <th>3</th>\n",
       "      <td>3</td>\n",
       "      <td>ADMA Products, Inc.</td>\n",
       "      <td>Corporate</td>\n",
       "    </tr>\n",
       "    <tr>\n",
       "      <th>4</th>\n",
       "      <td>4</td>\n",
       "      <td>ADVANCED CERAMIC FIBERS, LLC</td>\n",
       "      <td>Corporate</td>\n",
       "    </tr>\n",
       "  </tbody>\n",
       "</table>\n",
       "</div>"
      ],
      "text/plain": [
       "   Unnamed: 0                  organization thes_types\n",
       "0           0     22nd Century Limited, LLC  Corporate\n",
       "1           1       540 Grid Solutions, LLC  Corporate\n",
       "2           2                   ACell, Inc.  Corporate\n",
       "3           3           ADMA Products, Inc.  Corporate\n",
       "4           4  ADVANCED CERAMIC FIBERS, LLC  Corporate"
      ]
     },
     "execution_count": 88,
     "metadata": {},
     "output_type": "execute_result"
    }
   ],
   "source": [
    "data = pd.read_csv('/Users/sarora/dev/EAGER/data/orgs/assignees_lookedup_types.csv')\n",
    "data.head()"
   ]
  },
  {
   "cell_type": "code",
   "execution_count": 103,
   "metadata": {},
   "outputs": [
    {
     "data": {
      "text/html": [
       "<div>\n",
       "<style>\n",
       "    .dataframe thead tr:only-child th {\n",
       "        text-align: right;\n",
       "    }\n",
       "\n",
       "    .dataframe thead th {\n",
       "        text-align: left;\n",
       "    }\n",
       "\n",
       "    .dataframe tbody tr th {\n",
       "        vertical-align: top;\n",
       "    }\n",
       "</style>\n",
       "<table border=\"1\" class=\"dataframe\">\n",
       "  <thead>\n",
       "    <tr style=\"text-align: right;\">\n",
       "      <th></th>\n",
       "      <th>thes_types</th>\n",
       "    </tr>\n",
       "    <tr>\n",
       "      <th>thes_types</th>\n",
       "      <th></th>\n",
       "    </tr>\n",
       "  </thead>\n",
       "  <tbody>\n",
       "    <tr>\n",
       "      <th>Academic</th>\n",
       "      <td>235</td>\n",
       "    </tr>\n",
       "    <tr>\n",
       "      <th>Corporate</th>\n",
       "      <td>1375</td>\n",
       "    </tr>\n",
       "    <tr>\n",
       "      <th>Government</th>\n",
       "      <td>177</td>\n",
       "    </tr>\n",
       "  </tbody>\n",
       "</table>\n",
       "</div>"
      ],
      "text/plain": [
       "            thes_types\n",
       "thes_types            \n",
       "Academic           235\n",
       "Corporate         1375\n",
       "Government         177"
      ]
     },
     "execution_count": 103,
     "metadata": {},
     "output_type": "execute_result"
    }
   ],
   "source": [
    "counts = data.groupby(\"thes_types\").agg({'thes_types': 'count'})\n",
    "to_check"
   ]
  }
 ],
 "metadata": {
  "anaconda-cloud": {},
  "kernelspec": {
   "display_name": "Python 2",
   "language": "python",
   "name": "python2"
  },
  "language_info": {
   "codemirror_mode": {
    "name": "ipython",
    "version": 2
   },
   "file_extension": ".py",
   "mimetype": "text/x-python",
   "name": "python",
   "nbconvert_exporter": "python",
   "pygments_lexer": "ipython2",
   "version": "2.7.14"
  }
 },
 "nbformat": 4,
 "nbformat_minor": 1
}
