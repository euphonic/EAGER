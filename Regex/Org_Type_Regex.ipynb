{
 "cells": [
  {
   "cell_type": "code",
   "execution_count": 2,
   "metadata": {
    "collapsed": true
   },
   "outputs": [],
   "source": [
    "import re\n",
    "import pandas as pd\n",
    "import MySQLdb\n",
    "import sys, csv, os\n",
    "sys.path.append(\"D:/DataBaseUpdate/To_clone\")\n",
    "from ConfigFiles import config #this attaches my database credentials"
   ]
  },
  {
   "cell_type": "code",
   "execution_count": 5,
   "metadata": {
    "collapsed": false
   },
   "outputs": [],
   "source": [
    "academic = []\n",
    "government = []\n",
    "corporate = []\n",
    "hospital = []\n",
    "\n",
    "lookup = {'Academic': academic, 'Government': government, \"Corporate\": corporate, 'Hospital': hospital}\n",
    "\n",
    "def add_to_list(item, category):\n",
    "    lookup[category].append(item)\n",
    "\n",
    "with open('AcadCorpGovIndiv.txt', 'rb') as myfile:\n",
    "    category = None\n",
    "    for line in myfile.readlines():\n",
    "        if line.startswith(\"*\"):\n",
    "            category = line[2:].strip(\"\\r\\n\")\n",
    "            if category == 'People':\n",
    "                break\n",
    "        if not line.startswith(\"*\"):\n",
    "            add_to_list(line[6:].strip(\"\\r\\n\"), category)"
   ]
  },
  {
   "cell_type": "code",
   "execution_count": 6,
   "metadata": {
    "collapsed": false
   },
   "outputs": [],
   "source": [
    "government += [\"represented\", \"Department of\",\"United States of America\", \"The National Institute of Standards and Technology\",\n",
    "               \"National Institutes of Health\"]\n",
    "academic += ['Massachusetts Institute of Technology', 'California Institute of Technology','Rensselaer Polytechnic Institute']\n",
    "hospital += ['Sloan-Kettering Institute for Cancer Research']\n",
    "corporate += ['Battelle Memorial Institute', 'The Scripps Research Institute','The Salk Institute for Biological Studies','Dana-Farber Cancer Institute, Inc.', 'Midwest Research Institute', 'Southwest Research Institute', 'Whitehead Institute for Biomedical Research']"
   ]
  },
  {
   "cell_type": "code",
   "execution_count": 30,
   "metadata": {
    "collapsed": false
   },
   "outputs": [],
   "source": [
    "academic_regex = re.compile(\"|\".join(academic), re.IGNORECASE)"
   ]
  },
  {
   "cell_type": "code",
   "execution_count": 31,
   "metadata": {
    "collapsed": true
   },
   "outputs": [],
   "source": [
    "government_regex = re.compile(\"|\".join(government), re.IGNORECASE)"
   ]
  },
  {
   "cell_type": "code",
   "execution_count": 32,
   "metadata": {
    "collapsed": true
   },
   "outputs": [],
   "source": [
    "corporate_regex = re.compile(\"|\".join(corporate), re.IGNORECASE)\n",
    "hospital_regex = re.compile(\"|\".join(hospital), re.IGNORECASE)"
   ]
  },
  {
   "cell_type": "code",
   "execution_count": 39,
   "metadata": {
    "collapsed": true
   },
   "outputs": [],
   "source": [
    "def org_types(text):\n",
    "    if text == \"\":\n",
    "        return \"Person\"\n",
    "    academic = bool(re.search(academic_regex, text))\n",
    "    government = bool(re.search(government_regex, text))\n",
    "    corporate = bool(re.search(corporate_regex, text))\n",
    "    hospital = bool(re.search(hospital_regex, text))\n",
    "    total = academic + government + corporate + hospital\n",
    "    if total > 1:\n",
    "        return \"Ambiguous\"\n",
    "    if academic: \n",
    "        return \"Academic\"\n",
    "    if government:\n",
    "        return \"Government\"\n",
    "    if corporate:\n",
    "        return \"Corporate\"\n",
    "    if hospital:\n",
    "        return \"Hospital\"\n",
    "    else:\n",
    "        return \"Corporate\""
   ]
  },
  {
   "cell_type": "code",
   "execution_count": 40,
   "metadata": {
    "collapsed": false
   },
   "outputs": [],
   "source": [
    "data = pd.read_csv('F:\\Govt_Int\\Final_CSVS/assignee_type.csv')\n",
    "data['organization'] = data['organization'].fillna(\"\")\n",
    "data = data.dropna()\n",
    "data['thes_types'] = data['organization'].apply(lambda x : org_types(x))"
   ]
  },
  {
   "cell_type": "code",
   "execution_count": 41,
   "metadata": {
    "collapsed": false
   },
   "outputs": [],
   "source": [
    "#data[\"Inst\"] = data['organization'].apply(lambda x : True if 'Institute' in x else False)\n",
    "#data[data[\"Inst\"]==True].groupby('organization').max().sort_values(\"thes_types\", ascending=False)"
   ]
  },
  {
   "cell_type": "code",
   "execution_count": 42,
   "metadata": {
    "collapsed": false
   },
   "outputs": [],
   "source": [
    "data.to_csv('F:\\Govt_Int\\Final_CSVS/assignees_lookedup_types.csv')"
   ]
  },
  {
   "cell_type": "markdown",
   "metadata": {},
   "source": [
    "### Check the most common assignees"
   ]
  },
  {
   "cell_type": "code",
   "execution_count": 3,
   "metadata": {
    "collapsed": false,
    "scrolled": true
   },
   "outputs": [
    {
     "name": "stderr",
     "output_type": "stream",
     "text": [
      "C:\\Program Files\\Anaconda2\\lib\\site-packages\\IPython\\core\\interactiveshell.py:2717: DtypeWarning: Columns (1) have mixed types. Specify dtype option on import or set low_memory=False.\n",
      "  interactivity=interactivity, compiler=compiler, result=result)\n"
     ]
    },
    {
     "data": {
      "text/html": [
       "<div>\n",
       "<table border=\"1\" class=\"dataframe\">\n",
       "  <thead>\n",
       "    <tr style=\"text-align: right;\">\n",
       "      <th></th>\n",
       "      <th>Unnamed: 0</th>\n",
       "      <th>patent_id</th>\n",
       "      <th>assignee_type</th>\n",
       "      <th>organization</th>\n",
       "      <th>thes_types</th>\n",
       "    </tr>\n",
       "  </thead>\n",
       "  <tbody>\n",
       "    <tr>\n",
       "      <th>0</th>\n",
       "      <td>0</td>\n",
       "      <td>3930295</td>\n",
       "      <td>2.0</td>\n",
       "      <td>Signetics Corporation</td>\n",
       "      <td>Corporate</td>\n",
       "    </tr>\n",
       "    <tr>\n",
       "      <th>1</th>\n",
       "      <td>1</td>\n",
       "      <td>3930295</td>\n",
       "      <td>2.0</td>\n",
       "      <td>Watkins-Johnson</td>\n",
       "      <td>Corporate</td>\n",
       "    </tr>\n",
       "    <tr>\n",
       "      <th>2</th>\n",
       "      <td>2</td>\n",
       "      <td>3930317</td>\n",
       "      <td>6.0</td>\n",
       "      <td>The United States of America as represented by...</td>\n",
       "      <td>Government</td>\n",
       "    </tr>\n",
       "    <tr>\n",
       "      <th>3</th>\n",
       "      <td>3</td>\n",
       "      <td>3930366</td>\n",
       "      <td>2.0</td>\n",
       "      <td>General Motors Corporation</td>\n",
       "      <td>Corporate</td>\n",
       "    </tr>\n",
       "    <tr>\n",
       "      <th>4</th>\n",
       "      <td>4</td>\n",
       "      <td>3930405</td>\n",
       "      <td>0.0</td>\n",
       "      <td>The United States of America as represented by...</td>\n",
       "      <td>Government</td>\n",
       "    </tr>\n",
       "  </tbody>\n",
       "</table>\n",
       "</div>"
      ],
      "text/plain": [
       "   Unnamed: 0 patent_id  assignee_type  \\\n",
       "0           0   3930295            2.0   \n",
       "1           1   3930295            2.0   \n",
       "2           2   3930317            6.0   \n",
       "3           3   3930366            2.0   \n",
       "4           4   3930405            0.0   \n",
       "\n",
       "                                        organization  thes_types  \n",
       "0                             Signetics Corporation    Corporate  \n",
       "1                                    Watkins-Johnson   Corporate  \n",
       "2  The United States of America as represented by...  Government  \n",
       "3                         General Motors Corporation   Corporate  \n",
       "4  The United States of America as represented by...  Government  "
      ]
     },
     "execution_count": 3,
     "metadata": {},
     "output_type": "execute_result"
    }
   ],
   "source": [
    "data = pd.read_csv('F:\\Govt_Int\\Final_CSVS/assignees_lookedup_types.csv')\n",
    "data.head()"
   ]
  },
  {
   "cell_type": "code",
   "execution_count": 22,
   "metadata": {
    "collapsed": false
   },
   "outputs": [],
   "source": [
    "counts = data.groupby(\"organization\").agg({'patent_id':'count', 'thes_types':'min'})\n",
    "to_check = counts[counts['patent_id'] >20]\n",
    "#to_check['thes_types'].value_counts()"
   ]
  },
  {
   "cell_type": "code",
   "execution_count": 23,
   "metadata": {
    "collapsed": false
   },
   "outputs": [],
   "source": [
    "to_check.reset_index(inplace=True)\n",
    "to_check.columns = ['organization', 'type', 'count']\n",
    "to_check.to_csv('F:/Govt_Int/ManualCheck/top_orgs_to_check.csv', index = False)"
   ]
  },
  {
   "cell_type": "code",
   "execution_count": null,
   "metadata": {
    "collapsed": true
   },
   "outputs": [],
   "source": []
  },
  {
   "cell_type": "markdown",
   "metadata": {
    "collapsed": false
   },
   "source": [
    "### Use the regex to classify all the assignees"
   ]
  },
  {
   "cell_type": "code",
   "execution_count": 43,
   "metadata": {
    "collapsed": false
   },
   "outputs": [
    {
     "data": {
      "text/html": [
       "<div>\n",
       "<table border=\"1\" class=\"dataframe\">\n",
       "  <thead>\n",
       "    <tr style=\"text-align: right;\">\n",
       "      <th></th>\n",
       "      <th>id</th>\n",
       "      <th>type</th>\n",
       "      <th>name_first</th>\n",
       "      <th>name_last</th>\n",
       "      <th>organization</th>\n",
       "      <th>thes_types</th>\n",
       "    </tr>\n",
       "  </thead>\n",
       "  <tbody>\n",
       "    <tr>\n",
       "      <th>0</th>\n",
       "      <td>00003f5c5d92354570b9bae01b3e7272</td>\n",
       "      <td>0</td>\n",
       "      <td></td>\n",
       "      <td></td>\n",
       "      <td>E-Z Anchor Bolt Template, Inc.</td>\n",
       "      <td>Corporate</td>\n",
       "    </tr>\n",
       "    <tr>\n",
       "      <th>1</th>\n",
       "      <td>000058159cdbf11415ffad8001c192f6</td>\n",
       "      <td>0</td>\n",
       "      <td></td>\n",
       "      <td></td>\n",
       "      <td>Roll and Go AG</td>\n",
       "      <td>Corporate</td>\n",
       "    </tr>\n",
       "    <tr>\n",
       "      <th>2</th>\n",
       "      <td>00005a7b722c0d70af7c0f6706cdc067</td>\n",
       "      <td>0</td>\n",
       "      <td></td>\n",
       "      <td></td>\n",
       "      <td>PERSCITUS INNOVATIONS LLC</td>\n",
       "      <td>Corporate</td>\n",
       "    </tr>\n",
       "    <tr>\n",
       "      <th>3</th>\n",
       "      <td>00007b72e8f46f63797266c63ad3a34f</td>\n",
       "      <td>0</td>\n",
       "      <td></td>\n",
       "      <td></td>\n",
       "      <td>Fleetwood Aluminum Products, Inc.</td>\n",
       "      <td>Corporate</td>\n",
       "    </tr>\n",
       "    <tr>\n",
       "      <th>4</th>\n",
       "      <td>000099cec50350524fc0704f0cdd8db6</td>\n",
       "      <td>0</td>\n",
       "      <td></td>\n",
       "      <td></td>\n",
       "      <td>B.V. Nederlandse Industrie Van Eiprodukten</td>\n",
       "      <td>Corporate</td>\n",
       "    </tr>\n",
       "  </tbody>\n",
       "</table>\n",
       "</div>"
      ],
      "text/plain": [
       "                                 id  type name_first name_last  \\\n",
       "0  00003f5c5d92354570b9bae01b3e7272     0                        \n",
       "1  000058159cdbf11415ffad8001c192f6     0                        \n",
       "2  00005a7b722c0d70af7c0f6706cdc067     0                        \n",
       "3  00007b72e8f46f63797266c63ad3a34f     0                        \n",
       "4  000099cec50350524fc0704f0cdd8db6     0                        \n",
       "\n",
       "                                 organization thes_types  \n",
       "0             E-Z Anchor Bolt Template, Inc.   Corporate  \n",
       "1                              Roll and Go AG  Corporate  \n",
       "2                   PERSCITUS INNOVATIONS LLC  Corporate  \n",
       "3           Fleetwood Aluminum Products, Inc.  Corporate  \n",
       "4  B.V. Nederlandse Industrie Van Eiprodukten  Corporate  "
      ]
     },
     "execution_count": 43,
     "metadata": {},
     "output_type": "execute_result"
    }
   ],
   "source": [
    "all_assignees = pd.read_csv(\"F:/Govt_Int/Final_CSVS/all_assignees.csv\").fillna(\"\")\n",
    "all_assignees['thes_types'] = all_assignees['organization'].apply(lambda x : org_types(x))\n",
    "all_assignees.head()"
   ]
  },
  {
   "cell_type": "code",
   "execution_count": 45,
   "metadata": {
    "collapsed": false
   },
   "outputs": [
    {
     "data": {
      "text/plain": [
       "Corporate     328532\n",
       "Person         40483\n",
       "Academic        4142\n",
       "Government      1734\n",
       "Ambiguous       1617\n",
       "Hospital         405\n",
       "Name: thes_types, dtype: int64"
      ]
     },
     "execution_count": 45,
     "metadata": {},
     "output_type": "execute_result"
    }
   ],
   "source": [
    "all_assignees['thes_types'].value_counts()"
   ]
  },
  {
   "cell_type": "code",
   "execution_count": 46,
   "metadata": {
    "collapsed": true
   },
   "outputs": [],
   "source": [
    "mydb = MySQLdb.connect(config.host, config.username, config.password, 'patent_20170808')"
   ]
  },
  {
   "cell_type": "code",
   "execution_count": 49,
   "metadata": {
    "collapsed": false
   },
   "outputs": [
    {
     "name": "stderr",
     "output_type": "stream",
     "text": [
      "C:\\Program Files\\Anaconda2\\lib\\site-packages\\pandas\\io\\sql.py:1445: Warning: Data truncated for column 'organization' at row 67\n",
      "  conn.executemany(self.insert_statement(), data_list)\n",
      "C:\\Program Files\\Anaconda2\\lib\\site-packages\\pandas\\io\\sql.py:1445: Warning: Data truncated for column 'organization' at row 171\n",
      "  conn.executemany(self.insert_statement(), data_list)\n",
      "C:\\Program Files\\Anaconda2\\lib\\site-packages\\pandas\\io\\sql.py:1445: Warning: Data truncated for column 'organization' at row 179\n",
      "  conn.executemany(self.insert_statement(), data_list)\n",
      "C:\\Program Files\\Anaconda2\\lib\\site-packages\\pandas\\io\\sql.py:1445: Warning: Data truncated for column 'organization' at row 273\n",
      "  conn.executemany(self.insert_statement(), data_list)\n",
      "C:\\Program Files\\Anaconda2\\lib\\site-packages\\pandas\\io\\sql.py:1445: Warning: Data truncated for column 'organization' at row 326\n",
      "  conn.executemany(self.insert_statement(), data_list)\n",
      "C:\\Program Files\\Anaconda2\\lib\\site-packages\\pandas\\io\\sql.py:1445: Warning: Data truncated for column 'organization' at row 335\n",
      "  conn.executemany(self.insert_statement(), data_list)\n",
      "C:\\Program Files\\Anaconda2\\lib\\site-packages\\pandas\\io\\sql.py:1445: Warning: Data truncated for column 'organization' at row 367\n",
      "  conn.executemany(self.insert_statement(), data_list)\n",
      "C:\\Program Files\\Anaconda2\\lib\\site-packages\\pandas\\io\\sql.py:1445: Warning: Data truncated for column 'organization' at row 398\n",
      "  conn.executemany(self.insert_statement(), data_list)\n",
      "C:\\Program Files\\Anaconda2\\lib\\site-packages\\pandas\\io\\sql.py:1445: Warning: Data truncated for column 'organization' at row 473\n",
      "  conn.executemany(self.insert_statement(), data_list)\n",
      "C:\\Program Files\\Anaconda2\\lib\\site-packages\\pandas\\io\\sql.py:1445: Warning: Data truncated for column 'organization' at row 644\n",
      "  conn.executemany(self.insert_statement(), data_list)\n",
      "C:\\Program Files\\Anaconda2\\lib\\site-packages\\pandas\\io\\sql.py:1445: Warning: Data truncated for column 'organization' at row 692\n",
      "  conn.executemany(self.insert_statement(), data_list)\n",
      "C:\\Program Files\\Anaconda2\\lib\\site-packages\\pandas\\io\\sql.py:1445: Warning: Data truncated for column 'organization' at row 727\n",
      "  conn.executemany(self.insert_statement(), data_list)\n",
      "C:\\Program Files\\Anaconda2\\lib\\site-packages\\pandas\\io\\sql.py:1445: Warning: Data truncated for column 'organization' at row 750\n",
      "  conn.executemany(self.insert_statement(), data_list)\n",
      "C:\\Program Files\\Anaconda2\\lib\\site-packages\\pandas\\io\\sql.py:1445: Warning: Data truncated for column 'organization' at row 781\n",
      "  conn.executemany(self.insert_statement(), data_list)\n",
      "C:\\Program Files\\Anaconda2\\lib\\site-packages\\pandas\\io\\sql.py:1445: Warning: Data truncated for column 'organization' at row 803\n",
      "  conn.executemany(self.insert_statement(), data_list)\n",
      "C:\\Program Files\\Anaconda2\\lib\\site-packages\\pandas\\io\\sql.py:1445: Warning: Data truncated for column 'organization' at row 917\n",
      "  conn.executemany(self.insert_statement(), data_list)\n",
      "C:\\Program Files\\Anaconda2\\lib\\site-packages\\pandas\\io\\sql.py:1445: Warning: Data truncated for column 'organization' at row 929\n",
      "  conn.executemany(self.insert_statement(), data_list)\n",
      "C:\\Program Files\\Anaconda2\\lib\\site-packages\\pandas\\io\\sql.py:1445: Warning: Data truncated for column 'organization' at row 1043\n",
      "  conn.executemany(self.insert_statement(), data_list)\n",
      "C:\\Program Files\\Anaconda2\\lib\\site-packages\\pandas\\io\\sql.py:1445: Warning: Data truncated for column 'organization' at row 1103\n",
      "  conn.executemany(self.insert_statement(), data_list)\n",
      "C:\\Program Files\\Anaconda2\\lib\\site-packages\\pandas\\io\\sql.py:1445: Warning: Data truncated for column 'organization' at row 1225\n",
      "  conn.executemany(self.insert_statement(), data_list)\n",
      "C:\\Program Files\\Anaconda2\\lib\\site-packages\\pandas\\io\\sql.py:1445: Warning: Data truncated for column 'name_first' at row 1292\n",
      "  conn.executemany(self.insert_statement(), data_list)\n",
      "C:\\Program Files\\Anaconda2\\lib\\site-packages\\pandas\\io\\sql.py:1445: Warning: Data truncated for column 'organization' at row 1361\n",
      "  conn.executemany(self.insert_statement(), data_list)\n",
      "C:\\Program Files\\Anaconda2\\lib\\site-packages\\pandas\\io\\sql.py:1445: Warning: Data truncated for column 'organization' at row 1393\n",
      "  conn.executemany(self.insert_statement(), data_list)\n",
      "C:\\Program Files\\Anaconda2\\lib\\site-packages\\pandas\\io\\sql.py:1445: Warning: Data truncated for column 'organization' at row 1413\n",
      "  conn.executemany(self.insert_statement(), data_list)\n",
      "C:\\Program Files\\Anaconda2\\lib\\site-packages\\pandas\\io\\sql.py:1445: Warning: Data truncated for column 'organization' at row 1422\n",
      "  conn.executemany(self.insert_statement(), data_list)\n",
      "C:\\Program Files\\Anaconda2\\lib\\site-packages\\pandas\\io\\sql.py:1445: Warning: Data truncated for column 'organization' at row 1650\n",
      "  conn.executemany(self.insert_statement(), data_list)\n",
      "C:\\Program Files\\Anaconda2\\lib\\site-packages\\pandas\\io\\sql.py:1445: Warning: Data truncated for column 'organization' at row 1651\n",
      "  conn.executemany(self.insert_statement(), data_list)\n",
      "C:\\Program Files\\Anaconda2\\lib\\site-packages\\pandas\\io\\sql.py:1445: Warning: Data truncated for column 'organization' at row 1737\n",
      "  conn.executemany(self.insert_statement(), data_list)\n",
      "C:\\Program Files\\Anaconda2\\lib\\site-packages\\pandas\\io\\sql.py:1445: Warning: Data truncated for column 'organization' at row 1758\n",
      "  conn.executemany(self.insert_statement(), data_list)\n",
      "C:\\Program Files\\Anaconda2\\lib\\site-packages\\pandas\\io\\sql.py:1445: Warning: Data truncated for column 'name_first' at row 1847\n",
      "  conn.executemany(self.insert_statement(), data_list)\n",
      "C:\\Program Files\\Anaconda2\\lib\\site-packages\\pandas\\io\\sql.py:1445: Warning: Data truncated for column 'organization' at row 1904\n",
      "  conn.executemany(self.insert_statement(), data_list)\n",
      "C:\\Program Files\\Anaconda2\\lib\\site-packages\\pandas\\io\\sql.py:1445: Warning: Data truncated for column 'organization' at row 1944\n",
      "  conn.executemany(self.insert_statement(), data_list)\n",
      "C:\\Program Files\\Anaconda2\\lib\\site-packages\\pandas\\io\\sql.py:1445: Warning: Data truncated for column 'organization' at row 1957\n",
      "  conn.executemany(self.insert_statement(), data_list)\n",
      "C:\\Program Files\\Anaconda2\\lib\\site-packages\\pandas\\io\\sql.py:1445: Warning: Data truncated for column 'organization' at row 2005\n",
      "  conn.executemany(self.insert_statement(), data_list)\n",
      "C:\\Program Files\\Anaconda2\\lib\\site-packages\\pandas\\io\\sql.py:1445: Warning: Data truncated for column 'name_first' at row 2117\n",
      "  conn.executemany(self.insert_statement(), data_list)\n",
      "C:\\Program Files\\Anaconda2\\lib\\site-packages\\pandas\\io\\sql.py:1445: Warning: Data truncated for column 'name_first' at row 2184\n",
      "  conn.executemany(self.insert_statement(), data_list)\n",
      "C:\\Program Files\\Anaconda2\\lib\\site-packages\\pandas\\io\\sql.py:1445: Warning: Data truncated for column 'organization' at row 2352\n",
      "  conn.executemany(self.insert_statement(), data_list)\n",
      "C:\\Program Files\\Anaconda2\\lib\\site-packages\\pandas\\io\\sql.py:1445: Warning: Data truncated for column 'organization' at row 2378\n",
      "  conn.executemany(self.insert_statement(), data_list)\n",
      "C:\\Program Files\\Anaconda2\\lib\\site-packages\\pandas\\io\\sql.py:1445: Warning: Data truncated for column 'organization' at row 2411\n",
      "  conn.executemany(self.insert_statement(), data_list)\n",
      "C:\\Program Files\\Anaconda2\\lib\\site-packages\\pandas\\io\\sql.py:1445: Warning: Data truncated for column 'organization' at row 2489\n",
      "  conn.executemany(self.insert_statement(), data_list)\n",
      "C:\\Program Files\\Anaconda2\\lib\\site-packages\\pandas\\io\\sql.py:1445: Warning: Data truncated for column 'organization' at row 2525\n",
      "  conn.executemany(self.insert_statement(), data_list)\n",
      "C:\\Program Files\\Anaconda2\\lib\\site-packages\\pandas\\io\\sql.py:1445: Warning: Data truncated for column 'organization' at row 2549\n",
      "  conn.executemany(self.insert_statement(), data_list)\n",
      "C:\\Program Files\\Anaconda2\\lib\\site-packages\\pandas\\io\\sql.py:1445: Warning: Data truncated for column 'organization' at row 2625\n",
      "  conn.executemany(self.insert_statement(), data_list)\n",
      "C:\\Program Files\\Anaconda2\\lib\\site-packages\\pandas\\io\\sql.py:1445: Warning: Data truncated for column 'organization' at row 2683\n",
      "  conn.executemany(self.insert_statement(), data_list)\n",
      "C:\\Program Files\\Anaconda2\\lib\\site-packages\\pandas\\io\\sql.py:1445: Warning: Data truncated for column 'organization' at row 2738\n",
      "  conn.executemany(self.insert_statement(), data_list)\n",
      "C:\\Program Files\\Anaconda2\\lib\\site-packages\\pandas\\io\\sql.py:1445: Warning: Data truncated for column 'name_first' at row 2748\n",
      "  conn.executemany(self.insert_statement(), data_list)\n",
      "C:\\Program Files\\Anaconda2\\lib\\site-packages\\pandas\\io\\sql.py:1445: Warning: Data truncated for column 'name_first' at row 2842\n",
      "  conn.executemany(self.insert_statement(), data_list)\n",
      "C:\\Program Files\\Anaconda2\\lib\\site-packages\\pandas\\io\\sql.py:1445: Warning: Data truncated for column 'organization' at row 2874\n",
      "  conn.executemany(self.insert_statement(), data_list)\n",
      "C:\\Program Files\\Anaconda2\\lib\\site-packages\\pandas\\io\\sql.py:1445: Warning: Data truncated for column 'name_first' at row 2879\n",
      "  conn.executemany(self.insert_statement(), data_list)\n",
      "C:\\Program Files\\Anaconda2\\lib\\site-packages\\pandas\\io\\sql.py:1445: Warning: Data truncated for column 'name_first' at row 2890\n",
      "  conn.executemany(self.insert_statement(), data_list)\n",
      "C:\\Program Files\\Anaconda2\\lib\\site-packages\\pandas\\io\\sql.py:1445: Warning: Data truncated for column 'organization' at row 2964\n",
      "  conn.executemany(self.insert_statement(), data_list)\n",
      "C:\\Program Files\\Anaconda2\\lib\\site-packages\\pandas\\io\\sql.py:1445: Warning: Data truncated for column 'organization' at row 2981\n",
      "  conn.executemany(self.insert_statement(), data_list)\n",
      "C:\\Program Files\\Anaconda2\\lib\\site-packages\\pandas\\io\\sql.py:1445: Warning: Data truncated for column 'organization' at row 3211\n",
      "  conn.executemany(self.insert_statement(), data_list)\n",
      "C:\\Program Files\\Anaconda2\\lib\\site-packages\\pandas\\io\\sql.py:1445: Warning: Data truncated for column 'organization' at row 3220\n",
      "  conn.executemany(self.insert_statement(), data_list)\n",
      "C:\\Program Files\\Anaconda2\\lib\\site-packages\\pandas\\io\\sql.py:1445: Warning: Data truncated for column 'name_first' at row 3223\n",
      "  conn.executemany(self.insert_statement(), data_list)\n",
      "C:\\Program Files\\Anaconda2\\lib\\site-packages\\pandas\\io\\sql.py:1445: Warning: Data truncated for column 'organization' at row 3245\n",
      "  conn.executemany(self.insert_statement(), data_list)\n",
      "C:\\Program Files\\Anaconda2\\lib\\site-packages\\pandas\\io\\sql.py:1445: Warning: Data truncated for column 'organization' at row 3315\n",
      "  conn.executemany(self.insert_statement(), data_list)\n",
      "C:\\Program Files\\Anaconda2\\lib\\site-packages\\pandas\\io\\sql.py:1445: Warning: Data truncated for column 'organization' at row 3457\n",
      "  conn.executemany(self.insert_statement(), data_list)\n",
      "C:\\Program Files\\Anaconda2\\lib\\site-packages\\pandas\\io\\sql.py:1445: Warning: Data truncated for column 'organization' at row 3465\n",
      "  conn.executemany(self.insert_statement(), data_list)\n",
      "C:\\Program Files\\Anaconda2\\lib\\site-packages\\pandas\\io\\sql.py:1445: Warning: Data truncated for column 'organization' at row 3502\n",
      "  conn.executemany(self.insert_statement(), data_list)\n",
      "C:\\Program Files\\Anaconda2\\lib\\site-packages\\pandas\\io\\sql.py:1445: Warning: Data truncated for column 'organization' at row 3538\n",
      "  conn.executemany(self.insert_statement(), data_list)\n",
      "C:\\Program Files\\Anaconda2\\lib\\site-packages\\pandas\\io\\sql.py:1445: Warning: Data truncated for column 'organization' at row 3551\n",
      "  conn.executemany(self.insert_statement(), data_list)\n",
      "C:\\Program Files\\Anaconda2\\lib\\site-packages\\pandas\\io\\sql.py:1445: Warning: Data truncated for column 'organization' at row 3667\n",
      "  conn.executemany(self.insert_statement(), data_list)\n"
     ]
    }
   ],
   "source": [
    "#only run this once to upload the data\n",
    "all_assignees.to_sql(con=mydb, name='assignees_by_type', if_exists='replace', flavor='mysql')"
   ]
  },
  {
   "cell_type": "code",
   "execution_count": null,
   "metadata": {
    "collapsed": true
   },
   "outputs": [],
   "source": []
  }
 ],
 "metadata": {
  "anaconda-cloud": {},
  "kernelspec": {
   "display_name": "Python [conda root]",
   "language": "python",
   "name": "conda-root-py"
  },
  "language_info": {
   "codemirror_mode": {
    "name": "ipython",
    "version": 2
   },
   "file_extension": ".py",
   "mimetype": "text/x-python",
   "name": "python",
   "nbconvert_exporter": "python",
   "pygments_lexer": "ipython2",
   "version": "2.7.12"
  }
 },
 "nbformat": 4,
 "nbformat_minor": 1
}
