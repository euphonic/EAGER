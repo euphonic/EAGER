{
  "cells": [
    {
      "cell_type": "markdown",
      "source": [
        "# text-classification-model-v1\n",
        "This notebook classifies website data using transfer learning starting from an existing hugging face model\n",
        "* Get a model checkpoint for an encoder model \n",
        "* Use reinforcement learning to apply the model on a new classification problem (EAGER website data) with limited new trained data\n",
        "* Apply new head of model to full EAGER corpus to come up with mixes of models"
      ],
      "metadata": {
        "application/vnd.databricks.v1+cell": {
          "title": "",
          "showTitle": false,
          "inputWidgets": {},
          "nuid": "0f4a7543-ec4c-474c-b521-4802595e4876"
        },
        "id": "lZvTZmCQHd5R"
      }
    },
    {
      "cell_type": "code",
      "source": [
        "!git clone https://github.com/euphonic/EAGER.git"
      ],
      "metadata": {
        "id": "a_WNoVLbeL8O",
        "outputId": "acc0b7c9-8b7d-4ade-fcd8-382ac93e7c42",
        "colab": {
          "base_uri": "https://localhost:8080/"
        }
      },
      "execution_count": 1,
      "outputs": [
        {
          "output_type": "stream",
          "name": "stdout",
          "text": [
            "Cloning into 'EAGER'...\n",
            "remote: Enumerating objects: 19616, done.\u001b[K\n",
            "remote: Counting objects: 100% (308/308), done.\u001b[K\n",
            "remote: Compressing objects: 100% (207/207), done.\u001b[K\n",
            "remote: Total 19616 (delta 180), reused 164 (delta 101), pack-reused 19308\u001b[K\n",
            "Receiving objects: 100% (19616/19616), 370.00 MiB | 25.37 MiB/s, done.\n",
            "Resolving deltas: 100% (5898/5898), done.\n",
            "Checking out files: 100% (11765/11765), done.\n"
          ]
        }
      ]
    },
    {
      "cell_type": "markdown",
      "source": [
        "## Install libraries"
      ],
      "metadata": {
        "application/vnd.databricks.v1+cell": {
          "title": "",
          "showTitle": false,
          "inputWidgets": {},
          "nuid": "8e4b8524-ce8a-4b1c-a856-81c666331356"
        },
        "id": "RdcnNNj6Hd5V"
      }
    },
    {
      "cell_type": "code",
      "source": [
        "# install bson for reading mongodb data\n",
        "!pip uninstall --yes bson\n",
        "!pip install pymongo"
      ],
      "metadata": {
        "application/vnd.databricks.v1+cell": {
          "title": "",
          "showTitle": false,
          "inputWidgets": {},
          "nuid": "7b1fc814-f557-408e-a78a-e01186855b19"
        },
        "id": "rdYtnUqAHd5V",
        "outputId": "5ff96467-7836-4ebf-c07f-f773983c5d11"
      },
      "outputs": [
        {
          "output_type": "display_data",
          "metadata": {
            "application/vnd.databricks.v1+output": {
              "datasetInfos": [],
              "data": "<div class=\"ansiout\"><span class=\"ansi-yellow-fg\">WARNING: Skipping bson as it is not installed.</span>\r\nRequirement already satisfied: pymongo in /databricks/python3/lib/python3.8/site-packages (4.1.1)\r\n<span class=\"ansi-yellow-fg\">WARNING: You are using pip version 21.0.1; however, version 22.0.4 is available.\r\nYou should consider upgrading via the &#39;/databricks/python3/bin/python -m pip install --upgrade pip&#39; command.</span>\r\n</div>",
              "removedWidgets": [],
              "addedWidgets": {},
              "metadata": {},
              "type": "html",
              "arguments": {}
            }
          },
          "data": {
            "text/html": [
              "<style scoped>\n  .ansiout {\n    display: block;\n    unicode-bidi: embed;\n    white-space: pre-wrap;\n    word-wrap: break-word;\n    word-break: break-all;\n    font-family: \"Source Code Pro\", \"Menlo\", monospace;;\n    font-size: 13px;\n    color: #555;\n    margin-left: 4px;\n    line-height: 19px;\n  }\n</style>\n<div class=\"ansiout\"><span class=\"ansi-yellow-fg\">WARNING: Skipping bson as it is not installed.</span>\r\nRequirement already satisfied: pymongo in /databricks/python3/lib/python3.8/site-packages (4.1.1)\r\n<span class=\"ansi-yellow-fg\">WARNING: You are using pip version 21.0.1; however, version 22.0.4 is available.\r\nYou should consider upgrading via the &#39;/databricks/python3/bin/python -m pip install --upgrade pip&#39; command.</span>\r\n</div>"
            ]
          }
        }
      ],
      "execution_count": null
    },
    {
      "cell_type": "code",
      "source": [
        "# install hugging face \n",
        "!pip install transformers\n",
        "!pip install datasets\n",
        "!pip install DatasetDict"
      ],
      "metadata": {
        "application/vnd.databricks.v1+cell": {
          "title": "",
          "showTitle": false,
          "inputWidgets": {},
          "nuid": "2238a78f-fba2-4cc7-89c2-41ca41d51102"
        },
        "colab": {
          "base_uri": "https://localhost:8080/"
        },
        "id": "GcOexQceHd5X",
        "outputId": "3a4ce51f-026c-4774-b0a0-69a100df3f26"
      },
      "outputs": [
        {
          "output_type": "stream",
          "name": "stdout",
          "text": [
            "Collecting transformers\n",
            "  Downloading transformers-4.19.2-py3-none-any.whl (4.2 MB)\n",
            "\u001b[K     |████████████████████████████████| 4.2 MB 8.4 MB/s \n",
            "\u001b[?25hRequirement already satisfied: requests in /usr/local/lib/python3.7/dist-packages (from transformers) (2.23.0)\n",
            "Requirement already satisfied: packaging>=20.0 in /usr/local/lib/python3.7/dist-packages (from transformers) (21.3)\n",
            "Collecting tokenizers!=0.11.3,<0.13,>=0.11.1\n",
            "  Downloading tokenizers-0.12.1-cp37-cp37m-manylinux_2_12_x86_64.manylinux2010_x86_64.whl (6.6 MB)\n",
            "\u001b[K     |████████████████████████████████| 6.6 MB 37.4 MB/s \n",
            "\u001b[?25hRequirement already satisfied: regex!=2019.12.17 in /usr/local/lib/python3.7/dist-packages (from transformers) (2019.12.20)\n",
            "Requirement already satisfied: filelock in /usr/local/lib/python3.7/dist-packages (from transformers) (3.7.0)\n",
            "Requirement already satisfied: numpy>=1.17 in /usr/local/lib/python3.7/dist-packages (from transformers) (1.21.6)\n",
            "Collecting huggingface-hub<1.0,>=0.1.0\n",
            "  Downloading huggingface_hub-0.6.0-py3-none-any.whl (84 kB)\n",
            "\u001b[K     |████████████████████████████████| 84 kB 2.6 MB/s \n",
            "\u001b[?25hRequirement already satisfied: tqdm>=4.27 in /usr/local/lib/python3.7/dist-packages (from transformers) (4.64.0)\n",
            "Collecting pyyaml>=5.1\n",
            "  Downloading PyYAML-6.0-cp37-cp37m-manylinux_2_5_x86_64.manylinux1_x86_64.manylinux_2_12_x86_64.manylinux2010_x86_64.whl (596 kB)\n",
            "\u001b[K     |████████████████████████████████| 596 kB 37.8 MB/s \n",
            "\u001b[?25hRequirement already satisfied: importlib-metadata in /usr/local/lib/python3.7/dist-packages (from transformers) (4.11.3)\n",
            "Requirement already satisfied: typing-extensions>=3.7.4.3 in /usr/local/lib/python3.7/dist-packages (from huggingface-hub<1.0,>=0.1.0->transformers) (4.2.0)\n",
            "Requirement already satisfied: pyparsing!=3.0.5,>=2.0.2 in /usr/local/lib/python3.7/dist-packages (from packaging>=20.0->transformers) (3.0.9)\n",
            "Requirement already satisfied: zipp>=0.5 in /usr/local/lib/python3.7/dist-packages (from importlib-metadata->transformers) (3.8.0)\n",
            "Requirement already satisfied: chardet<4,>=3.0.2 in /usr/local/lib/python3.7/dist-packages (from requests->transformers) (3.0.4)\n",
            "Requirement already satisfied: urllib3!=1.25.0,!=1.25.1,<1.26,>=1.21.1 in /usr/local/lib/python3.7/dist-packages (from requests->transformers) (1.24.3)\n",
            "Requirement already satisfied: idna<3,>=2.5 in /usr/local/lib/python3.7/dist-packages (from requests->transformers) (2.10)\n",
            "Requirement already satisfied: certifi>=2017.4.17 in /usr/local/lib/python3.7/dist-packages (from requests->transformers) (2021.10.8)\n",
            "Installing collected packages: pyyaml, tokenizers, huggingface-hub, transformers\n",
            "  Attempting uninstall: pyyaml\n",
            "    Found existing installation: PyYAML 3.13\n",
            "    Uninstalling PyYAML-3.13:\n",
            "      Successfully uninstalled PyYAML-3.13\n",
            "Successfully installed huggingface-hub-0.6.0 pyyaml-6.0 tokenizers-0.12.1 transformers-4.19.2\n",
            "Collecting datasets\n",
            "  Downloading datasets-2.2.1-py3-none-any.whl (342 kB)\n",
            "\u001b[K     |████████████████████████████████| 342 kB 7.3 MB/s \n",
            "\u001b[?25hRequirement already satisfied: huggingface-hub<1.0.0,>=0.1.0 in /usr/local/lib/python3.7/dist-packages (from datasets) (0.6.0)\n",
            "Requirement already satisfied: tqdm>=4.62.1 in /usr/local/lib/python3.7/dist-packages (from datasets) (4.64.0)\n",
            "Requirement already satisfied: pyarrow>=6.0.0 in /usr/local/lib/python3.7/dist-packages (from datasets) (6.0.1)\n",
            "Collecting fsspec[http]>=2021.05.0\n",
            "  Downloading fsspec-2022.3.0-py3-none-any.whl (136 kB)\n",
            "\u001b[K     |████████████████████████████████| 136 kB 51.6 MB/s \n",
            "\u001b[?25hRequirement already satisfied: dill in /usr/local/lib/python3.7/dist-packages (from datasets) (0.3.4)\n",
            "Requirement already satisfied: numpy>=1.17 in /usr/local/lib/python3.7/dist-packages (from datasets) (1.21.6)\n",
            "Requirement already satisfied: importlib-metadata in /usr/local/lib/python3.7/dist-packages (from datasets) (4.11.3)\n",
            "Collecting xxhash\n",
            "  Downloading xxhash-3.0.0-cp37-cp37m-manylinux_2_17_x86_64.manylinux2014_x86_64.whl (212 kB)\n",
            "\u001b[K     |████████████████████████████████| 212 kB 50.8 MB/s \n",
            "\u001b[?25hRequirement already satisfied: requests>=2.19.0 in /usr/local/lib/python3.7/dist-packages (from datasets) (2.23.0)\n",
            "Collecting aiohttp\n",
            "  Downloading aiohttp-3.8.1-cp37-cp37m-manylinux_2_5_x86_64.manylinux1_x86_64.manylinux_2_12_x86_64.manylinux2010_x86_64.whl (1.1 MB)\n",
            "\u001b[K     |████████████████████████████████| 1.1 MB 38.5 MB/s \n",
            "\u001b[?25hRequirement already satisfied: multiprocess in /usr/local/lib/python3.7/dist-packages (from datasets) (0.70.12.2)\n",
            "Requirement already satisfied: packaging in /usr/local/lib/python3.7/dist-packages (from datasets) (21.3)\n",
            "Collecting responses<0.19\n",
            "  Downloading responses-0.18.0-py3-none-any.whl (38 kB)\n",
            "Requirement already satisfied: pandas in /usr/local/lib/python3.7/dist-packages (from datasets) (1.3.5)\n",
            "Requirement already satisfied: pyyaml in /usr/local/lib/python3.7/dist-packages (from huggingface-hub<1.0.0,>=0.1.0->datasets) (6.0)\n",
            "Requirement already satisfied: typing-extensions>=3.7.4.3 in /usr/local/lib/python3.7/dist-packages (from huggingface-hub<1.0.0,>=0.1.0->datasets) (4.2.0)\n",
            "Requirement already satisfied: filelock in /usr/local/lib/python3.7/dist-packages (from huggingface-hub<1.0.0,>=0.1.0->datasets) (3.7.0)\n",
            "Requirement already satisfied: pyparsing!=3.0.5,>=2.0.2 in /usr/local/lib/python3.7/dist-packages (from packaging->datasets) (3.0.9)\n",
            "Requirement already satisfied: chardet<4,>=3.0.2 in /usr/local/lib/python3.7/dist-packages (from requests>=2.19.0->datasets) (3.0.4)\n",
            "Requirement already satisfied: urllib3!=1.25.0,!=1.25.1,<1.26,>=1.21.1 in /usr/local/lib/python3.7/dist-packages (from requests>=2.19.0->datasets) (1.24.3)\n",
            "Requirement already satisfied: idna<3,>=2.5 in /usr/local/lib/python3.7/dist-packages (from requests>=2.19.0->datasets) (2.10)\n",
            "Requirement already satisfied: certifi>=2017.4.17 in /usr/local/lib/python3.7/dist-packages (from requests>=2.19.0->datasets) (2021.10.8)\n",
            "Collecting urllib3!=1.25.0,!=1.25.1,<1.26,>=1.21.1\n",
            "  Downloading urllib3-1.25.11-py2.py3-none-any.whl (127 kB)\n",
            "\u001b[K     |████████████████████████████████| 127 kB 51.0 MB/s \n",
            "\u001b[?25hCollecting aiosignal>=1.1.2\n",
            "  Downloading aiosignal-1.2.0-py3-none-any.whl (8.2 kB)\n",
            "Collecting yarl<2.0,>=1.0\n",
            "  Downloading yarl-1.7.2-cp37-cp37m-manylinux_2_5_x86_64.manylinux1_x86_64.manylinux_2_12_x86_64.manylinux2010_x86_64.whl (271 kB)\n",
            "\u001b[K     |████████████████████████████████| 271 kB 53.1 MB/s \n",
            "\u001b[?25hRequirement already satisfied: attrs>=17.3.0 in /usr/local/lib/python3.7/dist-packages (from aiohttp->datasets) (21.4.0)\n",
            "Collecting asynctest==0.13.0\n",
            "  Downloading asynctest-0.13.0-py3-none-any.whl (26 kB)\n",
            "Collecting async-timeout<5.0,>=4.0.0a3\n",
            "  Downloading async_timeout-4.0.2-py3-none-any.whl (5.8 kB)\n",
            "Requirement already satisfied: charset-normalizer<3.0,>=2.0 in /usr/local/lib/python3.7/dist-packages (from aiohttp->datasets) (2.0.12)\n",
            "Collecting frozenlist>=1.1.1\n",
            "  Downloading frozenlist-1.3.0-cp37-cp37m-manylinux_2_5_x86_64.manylinux1_x86_64.manylinux_2_17_x86_64.manylinux2014_x86_64.whl (144 kB)\n",
            "\u001b[K     |████████████████████████████████| 144 kB 52.1 MB/s \n",
            "\u001b[?25hCollecting multidict<7.0,>=4.5\n",
            "  Downloading multidict-6.0.2-cp37-cp37m-manylinux_2_17_x86_64.manylinux2014_x86_64.whl (94 kB)\n",
            "\u001b[K     |████████████████████████████████| 94 kB 3.5 MB/s \n",
            "\u001b[?25hRequirement already satisfied: zipp>=0.5 in /usr/local/lib/python3.7/dist-packages (from importlib-metadata->datasets) (3.8.0)\n",
            "Requirement already satisfied: python-dateutil>=2.7.3 in /usr/local/lib/python3.7/dist-packages (from pandas->datasets) (2.8.2)\n",
            "Requirement already satisfied: pytz>=2017.3 in /usr/local/lib/python3.7/dist-packages (from pandas->datasets) (2022.1)\n",
            "Requirement already satisfied: six>=1.5 in /usr/local/lib/python3.7/dist-packages (from python-dateutil>=2.7.3->pandas->datasets) (1.15.0)\n",
            "Installing collected packages: multidict, frozenlist, yarl, urllib3, asynctest, async-timeout, aiosignal, fsspec, aiohttp, xxhash, responses, datasets\n",
            "  Attempting uninstall: urllib3\n",
            "    Found existing installation: urllib3 1.24.3\n",
            "    Uninstalling urllib3-1.24.3:\n",
            "      Successfully uninstalled urllib3-1.24.3\n",
            "\u001b[31mERROR: pip's dependency resolver does not currently take into account all the packages that are installed. This behaviour is the source of the following dependency conflicts.\n",
            "datascience 0.10.6 requires folium==0.2.1, but you have folium 0.8.3 which is incompatible.\u001b[0m\n",
            "Successfully installed aiohttp-3.8.1 aiosignal-1.2.0 async-timeout-4.0.2 asynctest-0.13.0 datasets-2.2.1 frozenlist-1.3.0 fsspec-2022.3.0 multidict-6.0.2 responses-0.18.0 urllib3-1.25.11 xxhash-3.0.0 yarl-1.7.2\n",
            "\u001b[31mERROR: Could not find a version that satisfies the requirement DatasetDict (from versions: none)\u001b[0m\n",
            "\u001b[31mERROR: No matching distribution found for DatasetDict\u001b[0m\n"
          ]
        }
      ],
      "execution_count": 2
    },
    {
      "cell_type": "code",
      "source": [
        "import tensorflow as tf\n",
        "import numpy as np\n",
        "from transformers import pipeline, AutoTokenizer, TFAutoModelForSequenceClassification\n",
        "\n",
        "import gzip\n",
        "import tarfile\n",
        "import shutil\n",
        "import bson\n",
        "import pandas as pd"
      ],
      "metadata": {
        "application/vnd.databricks.v1+cell": {
          "title": "",
          "showTitle": false,
          "inputWidgets": {},
          "nuid": "144a2724-a33e-4ba1-a213-c60a9b79332d"
        },
        "id": "t2s6DtyCHd5Y"
      },
      "outputs": [],
      "execution_count": 27
    },
    {
      "cell_type": "markdown",
      "source": [
        "## Canned Examples"
      ],
      "metadata": {
        "application/vnd.databricks.v1+cell": {
          "title": "",
          "showTitle": false,
          "inputWidgets": {},
          "nuid": "93d0ce2e-bfcc-4757-9f34-336fdea389aa"
        },
        "id": "bLai_4xPHd5Z"
      }
    },
    {
      "cell_type": "code",
      "source": [
        "print(pipeline('sentiment-analysis')('This application looks promising'))"
      ],
      "metadata": {
        "application/vnd.databricks.v1+cell": {
          "title": "",
          "showTitle": false,
          "inputWidgets": {},
          "nuid": "b3135b01-edb4-4842-85dc-3a4dbb4a2494"
        },
        "id": "ZpEzbpnVHd5Z",
        "outputId": "3d467428-fde9-42d9-f226-69552fae6a3d"
      },
      "outputs": [
        {
          "output_type": "display_data",
          "metadata": {
            "application/vnd.databricks.v1+output": {
              "datasetInfos": [],
              "data": "<div class=\"ansiout\">No model was supplied, defaulted to distilbert-base-uncased-finetuned-sst-2-english (https://huggingface.co/distilbert-base-uncased-finetuned-sst-2-english)\n[{&#39;label&#39;: &#39;POSITIVE&#39;, &#39;score&#39;: 0.9940495491027832}]\n</div>",
              "removedWidgets": [],
              "addedWidgets": {},
              "metadata": {},
              "type": "html",
              "arguments": {}
            }
          },
          "data": {
            "text/html": [
              "<style scoped>\n  .ansiout {\n    display: block;\n    unicode-bidi: embed;\n    white-space: pre-wrap;\n    word-wrap: break-word;\n    word-break: break-all;\n    font-family: \"Source Code Pro\", \"Menlo\", monospace;;\n    font-size: 13px;\n    color: #555;\n    margin-left: 4px;\n    line-height: 19px;\n  }\n</style>\n<div class=\"ansiout\">No model was supplied, defaulted to distilbert-base-uncased-finetuned-sst-2-english (https://huggingface.co/distilbert-base-uncased-finetuned-sst-2-english)\n[{&#39;label&#39;: &#39;POSITIVE&#39;, &#39;score&#39;: 0.9940495491027832}]\n</div>"
            ]
          }
        }
      ],
      "execution_count": null
    },
    {
      "cell_type": "code",
      "source": [
        "# Same as before\n",
        "checkpoint = \"bert-base-uncased\"\n",
        "tokenizer = AutoTokenizer.from_pretrained(checkpoint)\n",
        "model = TFAutoModelForSequenceClassification.from_pretrained(checkpoint)\n",
        "sequences = [\n",
        "    \"I've been waiting for a HuggingFace course my whole life.\",\n",
        "    \"This course is amazing!\",\n",
        "]\n",
        "batch = dict(tokenizer(sequences, padding=True, truncation=True, return_tensors=\"tf\"))\n",
        "\n",
        "# This is new\n",
        "model.compile(optimizer=\"adam\", loss=\"sparse_categorical_crossentropy\")\n",
        "labels = tf.convert_to_tensor([1, 1])\n",
        "model.train_on_batch(batch, labels)"
      ],
      "metadata": {
        "application/vnd.databricks.v1+cell": {
          "title": "",
          "showTitle": false,
          "inputWidgets": {},
          "nuid": "d01f8dec-f7bd-448d-b353-b5d07cfed227"
        },
        "colab": {
          "base_uri": "https://localhost:8080/",
          "height": 284,
          "referenced_widgets": [
            "b20c6fa458b5499baae3209ceee5d09a",
            "10e4caeeb7ed4042833baf07b89ed3b9",
            "22cf634dc8ed49eb9f50c672f3edd0a2",
            "9e9ac8a1094647bba645f59cf874e2b3",
            "85ea92104c2c497490cceda080c9b396",
            "9c9811958005430e85c990fa6c03a0c3",
            "1625c257d6194908acc66a302a1c8956",
            "dffc9f93957a45ad9fa550e3f3a44209",
            "46b69d5ed12b48a2b03fa7cf0b079cb8",
            "afcf8b5644cd478a96b28da90f4894d4",
            "bea6439c76ce406799298042f10b33b1",
            "d80fccb0cb7a4202897adec6a12c6796",
            "c16411c3ae534253a2722e7cc9dc2914",
            "1cc498e1a0d74ea484bb796ee4ca570d",
            "f4464878ca374ddab11462e97f98ea17",
            "efaa459c85ae4465bcb68d3ec30deadd",
            "0982d6ddb77b4f32a919a7693d885f3a",
            "429df113cdc14180a876919e40f6b9cd",
            "c48fbfceff7347b6871b21f8fb953239",
            "83af23d229e647d6a19f14eca8aa5b4c",
            "33ca764a50f94cc2b6a6ab4353bb227f",
            "9e60c88f1c824bf08c4756691ef50ae0",
            "cd55b592b80d4f748e4a0960f36a3908",
            "166dfb536c534d039a965752a6c15471",
            "16bc980934624c6f8d6da5d2bbf61dcf",
            "29bfc4c99fc94d9980b7ca5a0432e846",
            "4a48b0c1b10a426a9bfa598d34c565ae",
            "8affaea371cf4591a1cd585f7183f884",
            "201c072554974e86af32c5cb9bc8af21",
            "bd7ee6fafde3440787d28d62943e9c44",
            "501820fa974f4da18f2e1e63ae7ab42e",
            "605f6a5e23414b1eac1a03f12460125f",
            "073d731131a94fe6a4cc409b3363e022",
            "5e0ca8d996574134955cf4dceab9906c",
            "0de5d4c031e34495a6e89057982595b8",
            "0aa108b3f33e4d08b90567ac2bd70844",
            "e19284c9d4fe40baa53d3253fcd8bcfa",
            "9539681ddf5a4a3e98bf031188170c2c",
            "e61a1a0d88a24e75869745a4d7b93598",
            "236508e2495f455e98784fa7e414bd10",
            "76935d75e69a478aaad9c5f5f080e0c4",
            "0c4fb79907d24a72889ea6aec766f5bd",
            "e310f52d01584c9dac636eff1e0d39fd",
            "237297842d3c4223bc36cc902d45f259",
            "b56ecff5ab55407699288f3cb54629b2",
            "051a7c1636664efba6846492a200ceb7",
            "f5b137e20dfc474899accb5a86cc671b",
            "8574df380ced4b36bbefb82dec96ecab",
            "e4d5e280109f45c1bf441fd4e17d8ef1",
            "811e0cc669fd41168fe1bca3e47aa5a5",
            "cf7a4ae04e5b4475afafec192fab2196",
            "562bff3f1da24b2ba25e49f51484b792",
            "4529b7608dba46a99b02423eb553f286",
            "fdd08195256d4ea18141cedda6ff6372",
            "9182ae3dbf3144dab02957e072d71b15"
          ]
        },
        "id": "W3qiBwZmHd5a",
        "outputId": "dac2649a-459f-4411-8b7a-11c824a2fa6b"
      },
      "outputs": [
        {
          "output_type": "display_data",
          "data": {
            "text/plain": [
              "Downloading:   0%|          | 0.00/28.0 [00:00<?, ?B/s]"
            ],
            "application/vnd.jupyter.widget-view+json": {
              "version_major": 2,
              "version_minor": 0,
              "model_id": "b20c6fa458b5499baae3209ceee5d09a"
            }
          },
          "metadata": {}
        },
        {
          "output_type": "display_data",
          "data": {
            "text/plain": [
              "Downloading:   0%|          | 0.00/570 [00:00<?, ?B/s]"
            ],
            "application/vnd.jupyter.widget-view+json": {
              "version_major": 2,
              "version_minor": 0,
              "model_id": "d80fccb0cb7a4202897adec6a12c6796"
            }
          },
          "metadata": {}
        },
        {
          "output_type": "display_data",
          "data": {
            "text/plain": [
              "Downloading:   0%|          | 0.00/226k [00:00<?, ?B/s]"
            ],
            "application/vnd.jupyter.widget-view+json": {
              "version_major": 2,
              "version_minor": 0,
              "model_id": "cd55b592b80d4f748e4a0960f36a3908"
            }
          },
          "metadata": {}
        },
        {
          "output_type": "display_data",
          "data": {
            "text/plain": [
              "Downloading:   0%|          | 0.00/455k [00:00<?, ?B/s]"
            ],
            "application/vnd.jupyter.widget-view+json": {
              "version_major": 2,
              "version_minor": 0,
              "model_id": "5e0ca8d996574134955cf4dceab9906c"
            }
          },
          "metadata": {}
        },
        {
          "output_type": "display_data",
          "data": {
            "text/plain": [
              "Downloading:   0%|          | 0.00/511M [00:00<?, ?B/s]"
            ],
            "application/vnd.jupyter.widget-view+json": {
              "version_major": 2,
              "version_minor": 0,
              "model_id": "b56ecff5ab55407699288f3cb54629b2"
            }
          },
          "metadata": {}
        },
        {
          "output_type": "stream",
          "name": "stderr",
          "text": [
            "All model checkpoint layers were used when initializing TFBertForSequenceClassification.\n",
            "\n",
            "Some layers of TFBertForSequenceClassification were not initialized from the model checkpoint at bert-base-uncased and are newly initialized: ['classifier']\n",
            "You should probably TRAIN this model on a down-stream task to be able to use it for predictions and inference.\n"
          ]
        },
        {
          "output_type": "execute_result",
          "data": {
            "text/plain": [
              "2.3841855067985307e-07"
            ]
          },
          "metadata": {},
          "execution_count": 28
        }
      ],
      "execution_count": 28
    },
    {
      "cell_type": "markdown",
      "source": [
        "## EAGER test"
      ],
      "metadata": {
        "application/vnd.databricks.v1+cell": {
          "title": "",
          "showTitle": false,
          "inputWidgets": {},
          "nuid": "12fbbe10-39c6-484b-83d5-4fe16bf4db7e"
        },
        "id": "P94eAj5dHd5b"
      }
    },
    {
      "cell_type": "code",
      "source": [
        "# EAGER data -- unpack\n",
        "tar_dir = '/dbfs/FileStore/eager/'\n",
        "tar_file = tar_dir + \"FirmDB_about2_20190131.tar\"\n",
        "print (tar_file)"
      ],
      "metadata": {
        "application/vnd.databricks.v1+cell": {
          "title": "",
          "showTitle": false,
          "inputWidgets": {},
          "nuid": "3aaea956-d642-47ff-98e6-c33eef8ce6bf"
        },
        "id": "VIzqM3AoHd5c",
        "outputId": "783ae2f5-a7fd-4995-d4c0-f24927e7cf4d"
      },
      "outputs": [
        {
          "output_type": "display_data",
          "metadata": {
            "application/vnd.databricks.v1+output": {
              "datasetInfos": [],
              "data": "<div class=\"ansiout\">/dbfs/FileStore/eager/FirmDB_about2_20190131.tar\n</div>",
              "removedWidgets": [],
              "addedWidgets": {},
              "metadata": {},
              "type": "html",
              "arguments": {}
            }
          },
          "data": {
            "text/html": [
              "<style scoped>\n  .ansiout {\n    display: block;\n    unicode-bidi: embed;\n    white-space: pre-wrap;\n    word-wrap: break-word;\n    word-break: break-all;\n    font-family: \"Source Code Pro\", \"Menlo\", monospace;;\n    font-size: 13px;\n    color: #555;\n    margin-left: 4px;\n    line-height: 19px;\n  }\n</style>\n<div class=\"ansiout\">/dbfs/FileStore/eager/FirmDB_about2_20190131.tar\n</div>"
            ]
          }
        }
      ],
      "execution_count": null
    },
    {
      "cell_type": "code",
      "source": [
        "# tar = tarfile.open(tar_file)\n",
        "# tar.extractall(tar_dir)\n",
        "# tar.close()"
      ],
      "metadata": {
        "application/vnd.databricks.v1+cell": {
          "title": "",
          "showTitle": false,
          "inputWidgets": {},
          "nuid": "a2e94b6c-632b-44df-a0c1-72f5dc7a02a2"
        },
        "id": "THWwvtoVHd5c",
        "outputId": "ce938c70-4e58-429e-9877-19112da4ce51"
      },
      "outputs": [
        {
          "output_type": "display_data",
          "metadata": {
            "application/vnd.databricks.v1+output": {
              "datasetInfos": [],
              "data": "<div class=\"ansiout\"></div>",
              "removedWidgets": [],
              "addedWidgets": {},
              "metadata": {},
              "type": "html",
              "arguments": {}
            }
          },
          "data": {
            "text/html": [
              "<style scoped>\n  .ansiout {\n    display: block;\n    unicode-bidi: embed;\n    white-space: pre-wrap;\n    word-wrap: break-word;\n    word-break: break-all;\n    font-family: \"Source Code Pro\", \"Menlo\", monospace;;\n    font-size: 13px;\n    color: #555;\n    margin-left: 4px;\n    line-height: 19px;\n  }\n</style>\n<div class=\"ansiout\"></div>"
            ]
          }
        }
      ],
      "execution_count": null
    },
    {
      "cell_type": "code",
      "source": [
        "# gunzip about us pages\n",
        "ungzip_file = tar_dir + \"FirmDB_about2_20190131/pages_ABOUT2.bson\"\n",
        "gzip_file = ungzip_file + \".gz\"\n",
        "print (gzip_file)"
      ],
      "metadata": {
        "application/vnd.databricks.v1+cell": {
          "title": "",
          "showTitle": false,
          "inputWidgets": {},
          "nuid": "aa397cad-d363-4330-af27-70d7b26db548"
        },
        "id": "G1tQ9hF6Hd5d",
        "outputId": "374b0c38-042d-4ba2-a86f-eb1325a17336"
      },
      "outputs": [
        {
          "output_type": "display_data",
          "metadata": {
            "application/vnd.databricks.v1+output": {
              "datasetInfos": [],
              "data": "<div class=\"ansiout\">/dbfs/FileStore/eager/FirmDB_about2_20190131/pages_ABOUT2.bson.gz\n</div>",
              "removedWidgets": [],
              "addedWidgets": {},
              "metadata": {},
              "type": "html",
              "arguments": {}
            }
          },
          "data": {
            "text/html": [
              "<style scoped>\n  .ansiout {\n    display: block;\n    unicode-bidi: embed;\n    white-space: pre-wrap;\n    word-wrap: break-word;\n    word-break: break-all;\n    font-family: \"Source Code Pro\", \"Menlo\", monospace;;\n    font-size: 13px;\n    color: #555;\n    margin-left: 4px;\n    line-height: 19px;\n  }\n</style>\n<div class=\"ansiout\">/dbfs/FileStore/eager/FirmDB_about2_20190131/pages_ABOUT2.bson.gz\n</div>"
            ]
          }
        }
      ],
      "execution_count": null
    },
    {
      "cell_type": "code",
      "source": [
        "with gzip.open(gzip_file, 'rb') as f_in:\n",
        "    with open(ungzip_file, 'wb') as f_out:\n",
        "        shutil.copyfileobj(f_in, f_out)"
      ],
      "metadata": {
        "application/vnd.databricks.v1+cell": {
          "title": "",
          "showTitle": false,
          "inputWidgets": {},
          "nuid": "a8ac7afe-d770-4fab-b25d-4c83d00dfb7e"
        },
        "id": "4-iN7wVVHd5e",
        "outputId": "7e3defd2-34fe-4a11-a2d1-5ca865108752"
      },
      "outputs": [
        {
          "output_type": "display_data",
          "metadata": {
            "application/vnd.databricks.v1+output": {
              "datasetInfos": [],
              "data": "<div class=\"ansiout\"></div>",
              "removedWidgets": [],
              "addedWidgets": {},
              "metadata": {},
              "type": "html",
              "arguments": {}
            }
          },
          "data": {
            "text/html": [
              "<style scoped>\n  .ansiout {\n    display: block;\n    unicode-bidi: embed;\n    white-space: pre-wrap;\n    word-wrap: break-word;\n    word-break: break-all;\n    font-family: \"Source Code Pro\", \"Menlo\", monospace;;\n    font-size: 13px;\n    color: #555;\n    margin-left: 4px;\n    line-height: 19px;\n  }\n</style>\n<div class=\"ansiout\"></div>"
            ]
          }
        }
      ],
      "execution_count": null
    },
    {
      "cell_type": "code",
      "source": [
        "with open(ungzip_file,'rb') as f:\n",
        "    about_pages = bson.decode_all(f.read())"
      ],
      "metadata": {
        "application/vnd.databricks.v1+cell": {
          "title": "",
          "showTitle": false,
          "inputWidgets": {},
          "nuid": "53fa15fc-4b91-4c75-a3eb-79e6f846c7aa"
        },
        "id": "wL2oqbXdHd5e",
        "outputId": "976f2f0c-257b-4645-cc30-4dad815f402a"
      },
      "outputs": [
        {
          "output_type": "display_data",
          "metadata": {
            "application/vnd.databricks.v1+output": {
              "datasetInfos": [],
              "data": "<div class=\"ansiout\"></div>",
              "removedWidgets": [],
              "addedWidgets": {},
              "metadata": {},
              "type": "html",
              "arguments": {}
            }
          },
          "data": {
            "text/html": [
              "<style scoped>\n  .ansiout {\n    display: block;\n    unicode-bidi: embed;\n    white-space: pre-wrap;\n    word-wrap: break-word;\n    word-break: break-all;\n    font-family: \"Source Code Pro\", \"Menlo\", monospace;;\n    font-size: 13px;\n    color: #555;\n    margin-left: 4px;\n    line-height: 19px;\n  }\n</style>\n<div class=\"ansiout\"></div>"
            ]
          }
        }
      ],
      "execution_count": null
    },
    {
      "cell_type": "code",
      "source": [
        "about_pages[0]['full_text']"
      ],
      "metadata": {
        "application/vnd.databricks.v1+cell": {
          "title": "",
          "showTitle": false,
          "inputWidgets": {},
          "nuid": "69a67d6a-26bb-408a-863f-2a8fdd989ce5"
        },
        "id": "ouabkENlHd5f",
        "outputId": "c47e56d1-c639-4c67-f4f0-181baea0fb87"
      },
      "outputs": [
        {
          "output_type": "display_data",
          "metadata": {
            "application/vnd.databricks.v1+output": {
              "datasetInfos": [],
              "data": "<div class=\"ansiout\">Out[11]: [&#39;About Xintec&#39;,\n &#39;Introduction&#39;,\n &#39;Vision &amp; Core Value&#39;,\n &#39;Management Team&#39;,\n &#39;Milestone&#39;,\n &#39;Press Center&#39;,\n &#39;Quality &amp; ESH Policy&#39;,\n &#39;Business Ethics&#39;,\n &#39;Contact Us&#39;,\n &#39;Products / Services&#39;,\n &#39;Optical Sensor CSP&#39;,\n &#39;PPI &amp; 3D Chip Scale Package&#39;,\n &#39;MEMS &amp; Sensor Packaging&#39;,\n &#39;Design and Modeling Services&#39;,\n &#39;Investor Relation&#39;,\n &#39;Company Profile&#39;,\n &#39;Monthly Revenue&#39;,\n &#39;Quarterly Results&#39;,\n &#39;Financial Reports&#39;,\n &#34;Shareholders&#39; Service&#34;,\n &#39;Material Information&#39;,\n &#39;TSE MOPS&#39;,\n &#39;Calendar of Events&#39;,\n &#39;FAQ&#39;,\n &#39;Human Resources&#39;,\n &#39;Training &amp; Development&#39;,\n &#39;Work &amp; Life&#39;,\n &#39;Recruting&#39;,\n &#39;CSR&#39;,\n &#39;Message from Chairman&#39;,\n &#39;Corporate Governance&#39;,\n &#39;Stakeholder Engagement&#39;,\n &#39;Work Environment &amp; Social Contribution&#39;,\n &#39;CSR Policy and Reports&#39;,\n &#39;繁中&#39;,\n &#39;About Xintec&#39;,\n &#39;\\r\\n          &gt;\\r\\n          &#39;,\n &#39;About Xintec&#39;,\n &#39;\\r\\n          &gt; Vision &amp; Core Value\\r\\n        &#39;,\n &#39;Introduction&#39;,\n &#39;Vision &amp; Core Value&#39;,\n &#39;Management Team&#39;,\n &#39;Milestone&#39;,\n &#39;Press Center&#39;,\n &#39;Quality &amp; ESH Policy&#39;,\n &#39;Business Ethics&#39;,\n &#39;Contact Us&#39;,\n &#39;Vision &amp; Core Value&#39;,\n &#39;Company Vision&#39;,\n &#39;Be the best advanced wafer level packaging foundry service provider.&#39;,\n &#39;Company Core Value&#39;,\n &#39;Integrity: Being honest to customers, shareholder and ourselves. Willing to commit and always fulfill commitment.&#39;,\n &#39;Innovation: Passionately generate and realize value adding ideas.&#39;,\n &#39;Customer Orientation: Offer customer desired technology, robust production, excellent quality and premium service.&#39;,\n &#39;Copyright © 2014 Xintec Inc. ALL rights reserved.\\r\\n      \\xa0|\\xa0\\r\\n      &#39;,\n &#39;Site Map&#39;,\n &#39;\\r\\n      \\xa0|\\xa0\\r\\n      &#39;,\n &#39;Contact Us&#39;,\n &#39;\\r\\n      This website is best viewed by Internet Explorer 8+&#39;]</div>",
              "removedWidgets": [],
              "addedWidgets": {},
              "metadata": {},
              "type": "html",
              "arguments": {}
            }
          },
          "data": {
            "text/html": [
              "<style scoped>\n  .ansiout {\n    display: block;\n    unicode-bidi: embed;\n    white-space: pre-wrap;\n    word-wrap: break-word;\n    word-break: break-all;\n    font-family: \"Source Code Pro\", \"Menlo\", monospace;;\n    font-size: 13px;\n    color: #555;\n    margin-left: 4px;\n    line-height: 19px;\n  }\n</style>\n<div class=\"ansiout\">Out[11]: [&#39;About Xintec&#39;,\n &#39;Introduction&#39;,\n &#39;Vision &amp; Core Value&#39;,\n &#39;Management Team&#39;,\n &#39;Milestone&#39;,\n &#39;Press Center&#39;,\n &#39;Quality &amp; ESH Policy&#39;,\n &#39;Business Ethics&#39;,\n &#39;Contact Us&#39;,\n &#39;Products / Services&#39;,\n &#39;Optical Sensor CSP&#39;,\n &#39;PPI &amp; 3D Chip Scale Package&#39;,\n &#39;MEMS &amp; Sensor Packaging&#39;,\n &#39;Design and Modeling Services&#39;,\n &#39;Investor Relation&#39;,\n &#39;Company Profile&#39;,\n &#39;Monthly Revenue&#39;,\n &#39;Quarterly Results&#39;,\n &#39;Financial Reports&#39;,\n &#34;Shareholders&#39; Service&#34;,\n &#39;Material Information&#39;,\n &#39;TSE MOPS&#39;,\n &#39;Calendar of Events&#39;,\n &#39;FAQ&#39;,\n &#39;Human Resources&#39;,\n &#39;Training &amp; Development&#39;,\n &#39;Work &amp; Life&#39;,\n &#39;Recruting&#39;,\n &#39;CSR&#39;,\n &#39;Message from Chairman&#39;,\n &#39;Corporate Governance&#39;,\n &#39;Stakeholder Engagement&#39;,\n &#39;Work Environment &amp; Social Contribution&#39;,\n &#39;CSR Policy and Reports&#39;,\n &#39;繁中&#39;,\n &#39;About Xintec&#39;,\n &#39;\\r\\n          &gt;\\r\\n          &#39;,\n &#39;About Xintec&#39;,\n &#39;\\r\\n          &gt; Vision &amp; Core Value\\r\\n        &#39;,\n &#39;Introduction&#39;,\n &#39;Vision &amp; Core Value&#39;,\n &#39;Management Team&#39;,\n &#39;Milestone&#39;,\n &#39;Press Center&#39;,\n &#39;Quality &amp; ESH Policy&#39;,\n &#39;Business Ethics&#39;,\n &#39;Contact Us&#39;,\n &#39;Vision &amp; Core Value&#39;,\n &#39;Company Vision&#39;,\n &#39;Be the best advanced wafer level packaging foundry service provider.&#39;,\n &#39;Company Core Value&#39;,\n &#39;Integrity: Being honest to customers, shareholder and ourselves. Willing to commit and always fulfill commitment.&#39;,\n &#39;Innovation: Passionately generate and realize value adding ideas.&#39;,\n &#39;Customer Orientation: Offer customer desired technology, robust production, excellent quality and premium service.&#39;,\n &#39;Copyright © 2014 Xintec Inc. ALL rights reserved.\\r\\n      \\xa0|\\xa0\\r\\n      &#39;,\n &#39;Site Map&#39;,\n &#39;\\r\\n      \\xa0|\\xa0\\r\\n      &#39;,\n &#39;Contact Us&#39;,\n &#39;\\r\\n      This website is best viewed by Internet Explorer 8+&#39;]</div>"
            ]
          }
        }
      ],
      "execution_count": null
    },
    {
      "cell_type": "markdown",
      "source": [
        "### Zero-shot classification"
      ],
      "metadata": {
        "application/vnd.databricks.v1+cell": {
          "title": "",
          "showTitle": false,
          "inputWidgets": {},
          "nuid": "ccc890d1-6be7-4fdd-8e3e-78a544621909"
        },
        "id": "Gq0xF1ShHd5f"
      }
    },
    {
      "cell_type": "code",
      "source": [
        "firm_file_location = '/dbfs/FileStore/eager/about/Zygo.txt'\n",
        "txt_file = open(firm_file_location, \"r\")\n",
        "content_list = txt_file.readlines()\n",
        "print(content_list)"
      ],
      "metadata": {
        "application/vnd.databricks.v1+cell": {
          "title": "",
          "showTitle": false,
          "inputWidgets": {},
          "nuid": "d81bcfe4-cf1e-4d6b-9441-0c3cd4c5fca4"
        },
        "id": "TZVZrQxHHd5g",
        "outputId": "6e45fc1c-bc4d-4a8b-c43b-d2a48ade7dcf"
      },
      "outputs": [
        {
          "output_type": "display_data",
          "metadata": {
            "application/vnd.databricks.v1+output": {
              "datasetInfos": [],
              "data": "<div class=\"ansiout\">[&#39;Metrology\\n&#39;, &#39;3Optical Profilers\\n&#39;, &#39;Laser Interferometers\\n&#39;, &#39;Position Metrology Systems\\n&#39;, &#39;Custom Metrology Solutions\\n&#39;, &#39;Trade-in &amp; Upgrade Program\\n&#39;, &#39;Optics\\n&#39;, &#39;Optical Components Group\\n&#39;, &#39;Electro-Optics Group\\n&#39;, &#39;- Engineering &amp; Product Development\\n&#39;, &#39;- Electro-Optical Assembly\\n&#39;, &#39;- Opto-Mechanical Assembly\\n&#39;, &#39;- Turnkey System Manufacturing\\n&#39;, &#39;Markets &amp; Applications\\n&#39;, &#39;[close]\\n&#39;, &#39;\\n&#39;, &#39;By continuing to use this site, you agree to our \\n&#39;, &#39;Privacy and Cookie Policy\\n&#39;, &#39;. \\n&#39;, &#39;OK\\n&#39;, &#34;What&#39;s New at ZYGO?\\n&#34;, &#39;››\\n&#39;, &#39;News:\\n&#39;, &#39; Launches Latest Generation of ZeGage Non-Contact 3Optical Profilers\\n&#39;, &#39;››\\n&#39;, &#39;Blog:\\n&#39;, &#39; Using Grazing Incidence Interferometry to Measure Large or Non-Specular Surfaces\\n&#39;, &#39;››\\n&#39;, &#39;Blog:\\n&#39;, &#39; Process Metrology Helps Ensure Quality of Smartphone Camera Lenses\\n&#39;, &#39;››\\n&#39;, &#39;Blog:\\n&#39;, &#39; Precision Lead Angle Metrology Improves Shaft Seals and Engine Efficiency\\n&#39;, &#39;››\\n&#39;, &#39;Blog:\\n&#39;, &#39; Precision Gear Tooth Metrology Helps Automaker Silence Humming Differential\\n&#39;, &#39;››\\n&#39;, &#39;Blog:\\n&#39;, &#39; Measuring Roughness on Super-Smooth Surfaces\\n&#39;, &#39;››\\n&#39;, &#39;Blog:\\n&#39;, &#39; New Smart Setup Feature Streamlines Precision Surface Metrology\\n&#39;, &#39;››\\n&#39;, &#39;Blog:\\n&#39;, &#39; Think you know ZYGO? Check out these six surprising facts and statistics...\\n&#39;, &#39;Visit at these\\n&#39;, &#39;Upcoming Events:\\n&#39;, &#39;MD&amp;West\\n&#39;, &#39;02/05\\n&#39;, &#39;Photonics West\\n&#39;, &#39;02/05\\n&#39;, &#39;Advanced Lithography\\n&#39;, &#39;02/26\\n&#39;, &#39;Houstex\\n&#39;, &#39;02/26\\n&#39;, &#39;Defense &amp; Sensing\\n&#39;, &#39;04/16\\n&#39;, &#39;Ann. Mtg. &amp; Exhibt\\n&#39;, &#39;05/19\\n&#39;, &#39;West\\n&#39;, &#39;07/09\\n&#39;, &#39;Optics &amp; Photonics\\n&#39;, &#39;08/13\\n&#39;, &#39;Optifab\\n&#39;, &#39;10/15\\n&#39;, &#39;(Click for a complete list)\\n&#39;, &#39;Privacy and Cookie Policy\\n&#39;, &#39;Privacy Policy Inquiry Form\\n&#39;, &#39;Unsubscribe\\n&#39;, &#39;×\\n&#39;, &#39;Privacy Policy InquiryAbout Us\\n&#39;, &#39;Company Profile\\n&#39;, &#39;News Releases\\n&#39;, &#39;Trade Show Schedule\\n&#39;, &#39;Manufacturing Locations\\n&#39;, &#39;Sales/Service Offices\\n&#39;, &#39;How to Get to Patent Information\\n&#39;, &#39;Registrations\\n&#39;, &#39;Conflict Minerals Policy\\n&#39;, &#39;Privacy and Cookie Policy\\n&#39;, &#39;Terms &amp; Conditions\\n&#39;, &#34;ZYGO&#39;s booth at Photonics West\\n&#34;, &#39;Micro-Seminar in Progress\\n&#39;, &#39;free\\n&#39;, &#39;~ 2019 ~\\n&#39;, &#39;MD&amp;West\\n&#39;, &#39;Photonics West 2019 Exhibition\\n&#39;, &#39;W3 Fair+Convention 2019\\n&#39;, &#39;Advanced Lithography\\n&#39;, &#39;Houstex\\n&#39;, &#39;Defense &amp; Sensing\\n&#39;, &#39;CONTROL\\n&#39;, &#39;Annual Meeting &amp; Exhibition\\n&#39;, &#39;EUSPEN\\n&#39;, &#39;LASER\\n&#39;, &#39;West\\n&#39;, &#39;Optics &amp; Photonics\\n&#39;, &#39;Optifab 2019\\n&#39;, &#39;IMTS\\n&#39;, &#39;[close]\\n&#39;, &#39;\\n&#39;, &#39;By continuing to use this site, you agree to our \\n&#39;, &#39;Privacy and Cookie Policy\\n&#39;, &#39;. \\n&#39;, &#39;OK\\n&#39;, &#34;What&#39;s New at ZYGO?\\n&#34;, &#39;››\\n&#39;, &#39;News:\\n&#39;, &#39; Launches Latest Generation of ZeGage Non-Contact 3Optical Profilers\\n&#39;, &#39;››\\n&#39;, &#39;Blog:\\n&#39;, &#39; Using Grazing Incidence Interferometry to Measure Large or Non-Specular Surfaces\\n&#39;, &#39;››\\n&#39;, &#39;Blog:\\n&#39;, &#39; Process Metrology Helps Ensure Quality of Smartphone Camera Lenses\\n&#39;, &#39;››\\n&#39;, &#39;Blog:\\n&#39;, &#39; Precision Lead Angle Metrology Improves Shaft Seals and Engine Efficiency\\n&#39;, &#39;››\\n&#39;, &#39;Blog:\\n&#39;, &#39; Precision Gear Tooth Metrology Helps Automaker Silence Humming Differential\\n&#39;, &#39;››\\n&#39;, &#39;Blog:\\n&#39;, &#39; Measuring Roughness on Super-Smooth Surfaces\\n&#39;, &#39;››\\n&#39;, &#39;Blog:\\n&#39;, &#39; New Smart Setup Feature Streamlines Precision Surface Metrology\\n&#39;, &#39;››\\n&#39;, &#39;Blog:\\n&#39;, &#39; Think you know ZYGO? Check out these six surprising facts and statistics...\\n&#39;, &#39;Visit at these\\n&#39;, &#39;Upcoming Events:\\n&#39;, &#39;MD&amp;West\\n&#39;, &#39;02/05\\n&#39;, &#39;Photonics West\\n&#39;, &#39;02/05\\n&#39;, &#39;Advanced Lithography\\n&#39;, &#39;02/26\\n&#39;, &#39;Houstex\\n&#39;, &#39;02/26\\n&#39;, &#39;Defense &amp; Sensing\\n&#39;, &#39;04/16\\n&#39;, &#39;Ann. Mtg. &amp; Exhibt\\n&#39;, &#39;05/19\\n&#39;, &#39;West\\n&#39;, &#39;07/09\\n&#39;, &#39;Optics &amp; Photonics\\n&#39;, &#39;08/13\\n&#39;, &#39;Optifab\\n&#39;, &#39;10/15\\n&#39;, &#39;(Click for a complete list)\\n&#39;, &#39;Privacy and Cookie Policy\\n&#39;, &#39;Privacy Policy Inquiry Form\\n&#39;, &#39;Unsubscribe\\n&#39;, &#39;×\\n&#39;, &#39;Privacy Policy InquiryOptical Surface Profilers\\n&#39;, &#39;Products\\n&#39;, &#39;3Optical Profilers\\n&#39;, &#39;Laser Interferometers\\n&#39;, &#39;Position Metrology Systems\\n&#39;, &#39;Custom Metrology Solutions\\n&#39;, &#39;Trade-in &amp; Upgrade Program\\n&#39;, &#39;Optical Surface Profilers\\n&#39;, &#39;ZeGage™ Pro\\xa0 \\n&#39;, &#39;New!\\n&#39;, &#39;NewView™ 9000\\n&#39;, &#39;Nexview™NX2\\n&#39;, &#39;Nomad™\\n&#39;, &#39;Compass™\\n&#39;, &#39;APM650™\\n&#39;, &#39;Mx™ Software\\n&#39;, &#39;Profiler Objectives\\n&#39;, &#39;Optical Profiler Basics\\n&#39;, &#39;Surface Roughness Measurement\\n&#39;, &#39;Surface Profiling\\n&#39;, &#39;3Optical Microscopy\\n&#39;, &#39;3Interference Microscopy\\n&#39;, &#34;ZYGO&#39;s 3Optical Profiler instruments enable precise, quantitative, ISO-compliant, \\n&#34;, &#39;non-contact\\n&#39;, &#39; surface measurement and characterization of micro- and nano-scale surface features, capturing \\n&#39;, &#39;up to two million data points\\n&#39;, &#39;in just seconds\\n&#39;, &#34;. Choosing the right optical profiler system depends on your application&#39;s requirements, including speed, precision, vertical range, automation, and flexibility.\\n&#34;, &#39;Our 3Optical Profiler instruments achieve best in class performance through advanced, patented, and differentiated technologies with superior speed, precision, resolution, and application versatility all in a single metrology instrument.\\n&#39;, &#34;With multiple configurations that range from simple to use benchtop systems to advanced fully automated platforms, ZYGO&#39;s optical profilers have proven themselves in installations that range from R&amp;and standards laboratories to industrial process control workstations to in-line metrology solutions.\\n&#34;, &#39;Regardless of the installation type, our systems provide leading performance for optical measurements of surface structure and texture across varying surface scales and offer hundreds of reportable parameters, including areal surface roughness to 25178 standards as well as 2profile standards, 4287/4288.\\n&#39;, &#34;How Does ZYGO&#39;s Technology Compare?  What Are Some Of The Key Advantages?\\n&#34;, &#39;Our instruments include several advantages based on the core technology employed, system-level features and options, software functionality, and many others.  For simplicity, we have compared our CSI-technology to two of the most common alternative optical technologies (confocal, focus variation). Highlighted below are just some of the key attributes and advantages.\\n&#39;, &#39;• Higher speed\\n&#39;, &#39;• Superior Z-resolution (independent of magnification)\\n&#39;, &#39;• Wider magnification/range\\n&#39;, &#39;• Capable of measuring super-smooth to rough surfaces\\n&#39;, &#39;What Are Some Of the Main Markets and Applications?\\n&#39;, &#39;• Automotive &amp; Precision Machining\\n&#39;, &#39;• Micro-manufacturing &amp; Nanotechnology\\n&#39;, &#39;• Consumer Electronics &amp; Displays\\n&#39;, &#39;• Optics &amp; Photonics\\n&#39;, &#39;• Aerospace &amp; Defense\\n&#39;, &#39;\\xa0ZeGage\\n&#39;, &#39;™\\n&#39;, &#39;STANDARD\\n&#39;, &#39;PERFORMANCE\\n&#39;, &#39;DESIGN\\n&#39;, &#39;ROBUST\\n&#39;, &#39;PERFORMANCE\\n&#39;, &#39;USE,\\n&#39;, &#39;ENTRY-LEVEL\\n&#39;, &#39;BENCH-SYSTEM\\n&#39;, &#39;RIGHT\\n&#39;, &#39;FLOOR!\\n&#39;, &#39;\\xa0NewView\\n&#39;, &#39;™\\n&#39;, &#39;HIGH\\n&#39;, &#39;PERFORMANCE\\n&#39;, &#39;PERFORMANCE, FLEXIBILITY, AND\\n&#39;, &#39;VALUE\\n&#39;, &#39;FOR\\n&#39;, &#39;OF\\n&#39;, &#39;APPLICATIONS\\n&#39;, &#39;TO\\n&#39;, &#39;NEEDS!\\n&#39;, &#39;\\xa0Nexview\\n&#39;, &#39;™\\n&#39;, &#39;ULTRA\\n&#39;, &#39;PERFORMANCE\\n&#39;, &#39;INDUSTRY-LEADING\\n&#39;, &#39;SPEED, PRECISION\\n&#39;, &#39;AUTOMATION\\n&#39;, &#39;THE\\n&#39;, &#39;DEMANDING\\n&#39;, &#39;APPLICATIONS\\n&#39;, &#39;–\\n&#39;, &#39;FAST!\\n&#39;, &#39;Specialty Models\\n&#39;, &#39;\\n&#39;, &#39;In addition to the standard configurations, we have specialty models that apply in a package tailored for specific applications which include:\\n&#39;, &#39;Compass\\n&#39;, &#34;™ – For applications that require complete characterization of micro lenses and their alignment features, ZYGO&#39;s Compass™ system provides full surface, non-contact, 3mapping of surface form and deviation, topography, and relational/dimensional metrology of spherical or aspherical lenses and molds with sub-nanometer height precision, and millions of data points.\\n&#34;, &#39;Nomad\\n&#39;, &#39;™ – The Nomad™ portable optical profiler is the ideal solution for measuring surfaces that are too large for the measurement stage of a conventional workstation profiler. As with our other optical profilers, the Nomad portable profiler has sub-nanometer measurement precision that is independent of field magnification.\\n&#39;, &#39;APM650\\n&#39;, &#39;™ – The APM650™ packaging metrology system provides automated measurement of panel-based PCBs and other advanced packaging applications. It provides both 2&amp; 3measurements with sub-nanometer vertical precision and sub-micron lateral precision. The APM650 system features a large X/stage which accommodates panels up to 650\\xa0x\\xa0650\\xa0mm.\\n&#39;, &#39;\\n&#39;, &#39;Profiler Objectives\\n&#39;, &#39;Optical profiler objectives, mounted on a turret\\n&#39;, &#39;\\n&#39;, &#39;The performance and capability of any optical profiler is largely dependent on the lens \\n&#39;, &#39;objectives\\n&#39;, &#39; it uses. Objectives determine the magnification, working distance, slope capability, and field of view of the profiler, so choosing the right \\n&#39;, &#39;objective\\n&#39;, &#39;(s) is very important to achieving your metrology goals.\\n&#39;, &#39;The wide range of \\n&#39;, &#39;objectives\\n&#39;, &#39; offers for its \\n&#39;, &#39;optical profilers\\n&#39;, &#39; is \\n&#39;, &#39;unmatched in the industry\\n&#39;, &#39;, and is continually growing. All \\n&#39;, &#39;objectives\\n&#39;, &#39; are designed and manufactured \\n&#39;, &#39;in-house\\n&#39;, &#39;, ensuring top-quality objectives that are ideally suited for use in our profilers. This capability is unique to ZYGO.\\n&#39;, &#39;\\n&#39;, &#39;specialty objectives\\n&#39;, &#39; for long working distances, wide field of view, and the ability to measure \\n&#39;, &#39;thin films\\n&#39;, &#39; and surfaces that are under a transparent surface. Download the \\n&#39;, &#39;objectives selection chart\\n&#39;, &#39; (PDF) to see our full lineup of \\n&#39;, &#39;objectives\\n&#39;, &#39;Inquiry Form\\n&#39;, &#39;\\n&#39;, &#34;Please use the form below to contact us with any questions you have regarding ZYGO&#39;s \\n&#34;, &#39;Optical Profiler\\n&#39;, &#39; systems, or \\n&#39;, &#39;surface profiling\\n&#39;, &#39;First Name \\n&#39;, &#39;*\\n&#39;, &#39;Last Name \\n&#39;, &#39;*\\n&#39;, &#39;Phone Number\\n&#39;, &#39;E-mail Address \\n&#39;, &#39;*\\n&#39;, &#39;Company or Organization \\n&#39;, &#39;*\\n&#39;, &#39;Job Title or Function \\n&#39;, &#39;*\\n&#39;, &#39;Street Address\\n&#39;, &#39;City\\n&#39;, &#39;State/Province\\xa0\\n&#39;, &#39;*\\n&#39;, &#39;Zip/Postal Code\\n&#39;, &#39;---Select---\\n&#39;, &#39;Alabama\\n&#39;, &#39;Alaska\\n&#39;, &#39;Arizona\\n&#39;, &#39;Arkansas\\n&#39;, &#39;California\\n&#39;, &#39;Colorado\\n&#39;, &#39;Connecticut\\n&#39;, &#39;Delaware\\n&#39;, &#39;District of Columbia\\n&#39;, &#39;Florida\\n&#39;, &#39;Georgia\\n&#39;, &#39;Hawaii\\n&#39;, &#39;Idaho\\n&#39;, &#39;Illinois\\n&#39;, &#39;Indiana\\n&#39;, &#39;Iowa\\n&#39;, &#39;Kansas\\n&#39;, &#39;Kentucky\\n&#39;, &#39;Louisiana\\n&#39;, &#39;Maine\\n&#39;, &#39;Maryland\\n&#39;, &#39;Massachusetts\\n&#39;, &#39;Michigan\\n&#39;, &#39;Minnesota\\n&#39;, &#39;Mississippi\\n&#39;, &#39;Missouri\\n&#39;, &#39;Montana\\n&#39;, &#39;Nebraska\\n&#39;, &#39;Nevada\\n&#39;, &#39;New Hampshire\\n&#39;, &#39;New Jersey\\n&#39;, &#39;New Mexico\\n&#39;, &#39;New York\\n&#39;, &#39;North Carolina\\n&#39;, &#39;North Dakota\\n&#39;, &#39;Ohio\\n&#39;, &#39;Oklahoma\\n&#39;, &#39;Oregon\\n&#39;, &#39;Pennsylvania\\n&#39;, &#39;Rhode Island\\n&#39;, &#39;South Carolina\\n&#39;, &#39;South Dakota\\n&#39;, &#39;Tennessee\\n&#39;, &#39;Texas\\n&#39;, &#39;Utah\\n&#39;, &#39;Vermont\\n&#39;, &#39;Virginia\\n&#39;, &#39;Washington\\n&#39;, &#39;West Virginia\\n&#39;, &#39;Wisconsin\\n&#39;, &#39;Wyoming\\n&#39;, &#39;Alberta\\n&#39;, &#39;British Columbia\\n&#39;, &#39;Manitoba\\n&#39;, &#39;New Brunswick\\n&#39;, &#39;Newfoundland and Labrador\\n&#39;, &#39;Northwest Territories\\n&#39;, &#39;Nova Scotia\\n&#39;, &#39;Nunavut\\n&#39;, &#39;Ontario\\n&#39;, &#39;Prince Edward Island\\n&#39;, &#39;Quebec\\n&#39;, &#39;Saskatchewan\\n&#39;, &#39;Yukon Territories\\n&#39;, &#39;International/Other\\n&#39;, &#39;Country/Region \\n&#39;, &#39;*\\n&#39;, &#39;---Select---\\n&#39;, &#39;Afghanistan\\n&#39;, &#39;Albania\\n&#39;, &#39;Algeria\\n&#39;, &#39;Andorra\\n&#39;, &#39;Angola\\n&#39;, &#39;Antigua and Barbuda\\n&#39;, &#39;Argentina\\n&#39;, &#39;Armenia\\n&#39;, &#39;Australia\\n&#39;, &#39;Austria\\n&#39;, &#39;Azerbaijan\\n&#39;, &#39;Bahamas\\n&#39;, &#39;Bahrain\\n&#39;, &#39;Bangladesh\\n&#39;, &#39;Barbados\\n&#39;, &#39;Belarus\\n&#39;, &#39;Belgium\\n&#39;, &#39;Belize\\n&#39;, &#39;Benin\\n&#39;, &#39;Bhutan\\n&#39;, &#39;Bolivia, Plurinational State of\\n&#39;, &#39;Bonaire, Sint Eustatius and Saba\\n&#39;, &#39;Bosnia and Herzegovina\\n&#39;, &#39;Botswana\\n&#39;, &#39;Brazil\\n&#39;, &#39;Brunei Darussalam\\n&#39;, &#39;Bulgaria\\n&#39;, &#39;Burkina Faso\\n&#39;, &#39;Burundi\\n&#39;, &#39;Cambodia\\n&#39;, &#39;Cameroon\\n&#39;, &#39;Canada\\n&#39;, &#39;Cape Verde\\n&#39;, &#39;Central African Republic\\n&#39;, &#39;Chad\\n&#39;, &#39;Chile\\n&#39;, &#39;China\\n&#39;, &#39;Colombia\\n&#39;, &#39;Comoros\\n&#39;, &#39;Congo\\n&#39;, &#39;Congo, the Democratic Republic of the\\n&#39;, &#39;Costa Rica\\n&#39;, &#34;Cote d&#39;Ivoire\\n&#34;, &#39;Croatia\\n&#39;, &#39;Cuba\\n&#39;, &#39;Cyprus\\n&#39;, &#39;Czech Republic\\n&#39;, &#39;Denmark\\n&#39;, &#39;Djibouti\\n&#39;, &#39;Dominica\\n&#39;, &#39;Dominican Republic\\n&#39;, &#39;Ecuador\\n&#39;, &#39;Egypt\\n&#39;, &#39;El Salvador\\n&#39;, &#39;Equatorial Guinea\\n&#39;, &#39;Eritrea\\n&#39;, &#39;Estonia\\n&#39;, &#39;Ethiopia\\n&#39;, &#39;Fiji\\n&#39;, &#39;Finland\\n&#39;, &#39;France\\n&#39;, &#39;Gabon\\n&#39;, &#39;Gambia\\n&#39;, &#39;Georgia\\n&#39;, &#39;Germany\\n&#39;, &#39;Ghana\\n&#39;, &#39;Greece\\n&#39;, &#39;Greenland\\n&#39;, &#39;Grenada\\n&#39;, &#39;Guatemala\\n&#39;, &#39;Guinea\\n&#39;, &#39;Guinea-Bissau\\n&#39;, &#39;Guyana\\n&#39;, &#39;Haiti\\n&#39;, &#39;Honduras\\n&#39;, &#39;Hungary\\n&#39;, &#39;Iceland\\n&#39;, &#39;India\\n&#39;, &#39;Indonesia\\n&#39;, &#39;Iran, Islamic Republic of\\n&#39;, &#39;Iraq\\n&#39;, &#39;Ireland\\n&#39;, &#39;Israel\\n&#39;, &#39;Italy\\n&#39;, &#39;Jamaica\\n&#39;, &#39;Japan\\n&#39;, &#39;Jordan\\n&#39;, &#39;Kazakhstan\\n&#39;, &#39;Kenya\\n&#39;, &#39;Kiribati\\n&#39;, &#34;Korea, Democratic People&#39;s Republic of\\n&#34;, &#39;Korea, Republic of\\n&#39;, &#39;Kuwait\\n&#39;, &#39;Kyrgyzstan\\n&#39;, &#34;Lao People&#39;s Democratic Republic\\n&#34;, &#39;Lebanon\\n&#39;, &#39;Lesotho\\n&#39;, &#39;Liberia\\n&#39;, &#39;Libya\\n&#39;, &#39;Liechtenstein\\n&#39;, &#39;Lithuania\\n&#39;, &#39;Luxembourg\\n&#39;, &#39;Madagascar\\n&#39;, &#39;Malawi\\n&#39;, &#39;Malaysia\\n&#39;, &#39;Maldives\\n&#39;, &#39;Mali\\n&#39;, &#39;Mauritania\\n&#39;, &#39;Mauritius\\n&#39;, &#39;Mexico\\n&#39;, &#39;Moldova, Republic of\\n&#39;, &#39;Monaco\\n&#39;, &#39;Mongolia\\n&#39;, &#39;Montenegro\\n&#39;, &#39;Morocco\\n&#39;, &#39;Mozambique\\n&#39;, &#39;Myanmar\\n&#39;, &#39;Namibia\\n&#39;, &#39;Nauru\\n&#39;, &#39;Nepal\\n&#39;, &#39;Netherlands\\n&#39;, &#39;New Zealand\\n&#39;, &#39;Nicaragua\\n&#39;, &#39;Niger\\n&#39;, &#39;Nigeria\\n&#39;, &#39;Norway\\n&#39;, &#39;Oman\\n&#39;, &#39;Pakistan\\n&#39;, &#39;Palestine\\n&#39;, &#39;Panama\\n&#39;, &#39;Papua New Guinea\\n&#39;, &#39;Paraguay\\n&#39;, &#39;Peru\\n&#39;, &#39;Philippines\\n&#39;, &#39;Poland\\n&#39;, &#39;Portugal\\n&#39;, &#39;Qatar\\n&#39;, &#39;Romania\\n&#39;, &#39;Russian Federation\\n&#39;, &#39;Rwanda\\n&#39;, &#39;Saint Helena, Ascension and Tristan da Cunha\\n&#39;, &#39;Saint Kitts and Nevis\\n&#39;, &#39;Saint Lucia\\n&#39;, &#39;Saint Vincent and the Grenadines\\n&#39;, &#39;Samoa\\n&#39;, &#39;San Marino\\n&#39;, &#39;Sao Tome and Principe\\n&#39;, &#39;Saudi Arabia\\n&#39;, &#39;Senegal\\n&#39;, &#39;Serbia\\n&#39;, &#39;Sierra Leone\\n&#39;, &#39;Singapore\\n&#39;, &#39;Slovakia\\n&#39;, &#39;Slovenia\\n&#39;, &#39;Solomon Islands\\n&#39;, &#39;Somalia\\n&#39;, &#39;South Africa\\n&#39;, &#39;South Sudan\\n&#39;, &#39;Spain\\n&#39;, &#39;Sri Lanka\\n&#39;, &#39;Sudan\\n&#39;, &#39;Suriname\\n&#39;, &#39;Swaziland\\n&#39;, &#39;Sweden\\n&#39;, &#39;Switzerland\\n&#39;, &#39;Syrian Arab Republic\\n&#39;, &#39;Taiwan (R.O.C.)\\n&#39;, &#39;Tajikistan\\n&#39;, &#39;Tanzania, United Republic of\\n&#39;, &#39;Thailand\\n&#39;, &#39;Timor-Leste\\n&#39;, &#39;Togo\\n&#39;, &#39;Tonga\\n&#39;, &#39;Trinidad and Tobago\\n&#39;, &#39;Tunisia\\n&#39;, &#39;Turkey\\n&#39;, &#39;Turkmenistan\\n&#39;, &#39;Tuvalu\\n&#39;, &#39;Uganda\\n&#39;, &#39;Ukraine\\n&#39;, &#39;United Arab Emirates\\n&#39;, &#39;United Kingdom\\n&#39;, &#39;United States\\n&#39;, &#39;Uruguay\\n&#39;, &#39;Uzbekistan\\n&#39;, &#39;Vanuatu\\n&#39;, &#39;Venezuela, Bolivarian Republic of\\n&#39;, &#39;Viet Nam\\n&#39;, &#39;Wallis and Futuna\\n&#39;, &#39;Yemen\\n&#39;, &#39;Zambia\\n&#39;, &#39;Zimbabwe\\n&#39;, &#39;\\xa0 Check this box to provide consent for to contact you in the future. **\\n&#39;, &#39;\\n&#39;, &#39;Please indicate your level of interest... \\n&#39;, &#39;*\\n&#39;, &#39;*\\n&#39;, &#39; Required entries\\n&#39;, &#39;Note:\\n&#39;, &#39;[close]\\n&#39;, &#39;\\n&#39;, &#39;By continuing to use this site, you agree to our \\n&#39;, &#39;Privacy and Cookie Policy\\n&#39;, &#39;. \\n&#39;, &#39;OK\\n&#39;, &#39;Brochures \\n&#39;, &#39;Brochures \\n&#39;, &#39;Nexview™ NX2\\n&#39;, &#39;NewView™ 9000\\n&#39;, &#39;ZeGage™ Pro\\n&#39;, &#39;Compass™\\n&#39;, &#39;Advanced 3Films Analysis\\n&#39;, &#39;Optical Profiler Accessory Guide\\n&#39;, &#39;Spec Sheets \\n&#39;, &#39;Spec Sheets \\n&#39;, &#39;Nexview™ NX2\\n&#39;, &#39;NewView™ 9000\\n&#39;, &#39;ZeGage™ Pro\\n&#39;, &#39;ZeGage™ Pro HR\\n&#39;, &#39;Compass™\\n&#39;, &#39;Nexview™\\xa0NX2, NewView™\\xa09000, ZeGage™\\xa0Pro Objectives\\n&#39;, &#39;Nexview™, NewView™ 8000, ZeGage Objective Chart\\n&#39;, &#39;Technical Papers \\n&#39;, &#39;Technical Papers \\n&#39;, &#39;Applications of model-based transparent surface films analysis using coherence scanning interferometry\\n&#39;, &#39;Limits to Resolution in Optical Dimension Metrology\\n&#39;, &#39;Using Coherence Scanning Interferometry to Measure High-Slope Parts\\n&#39;, &#39;Using Coherence Scanning Interferometry for Model-based Transparent Surface Films Analysis\\n&#39;, &#39;Measuring the Form of Highly Sloped Surfaces using Optical Profiling\\n&#39;, &#39;Show All 57 Items \\n&#39;, &#39;Show Only First Five \\n&#39;, &#39;The Meaning and Measure of Vertical Resolution in Optical Surface Topography Measurement\\n&#39;, &#39;Interference microscope objectives for wide-field areal surface topography measurements\\n&#39;, &#39;The meaning and measure of vertical resolution in surface metrology\\n&#39;, &#39;Interference Microscopy for Surface Structure Analysis (book chapter)\\n&#39;, &#39;Advances in optical metrology\\n&#39;, &#39;new class of wide-field objectives for 3interference microscopy\\n&#39;, &#39;Calibration of the amplification coefficient in interference microscopy by means of a wavelength standard\\n&#39;, &#39;The standards rash - is there a cure?\\n&#39;, &#39;Measuring high-slope parts using coherence scanning interferometry\\n&#39;, &#39;Principles of interference microscopy for the measurement of surface topography\\n&#39;, &#39;Wide-Field Interference Microscopy for Areal Topography of Precision Engineered Surface\\n&#39;, &#39;The state of the art in interference microscopy: Modern techniques for geometric form, surface texture and areal structure analysis\\n&#39;, &#39;Measuring High-Slope and Super-Smooth Optics with High Dynamic Range Coherence Scanning Interferometry\\n&#39;, &#39;High Slope Metrology with Non-Contact Interferometry\\n&#39;, &#39;Progress in the specification of optical instruments for the measurement of surface form and texture\\n&#39;, &#39;Interference Microscopy for Clean Air - How Optical Metrology Is Improving Quality Control of Fuel Injection Systems\\n&#39;, &#39;Scanning White-Light Interferometry Fingerprints the Polishing Process\\n&#39;, &#39;Understanding Surface Texture Parameters\\n&#39;, &#39;Lateral resolution and instrument transfer function as criteria for selecting surface metrology instruments\\n&#39;, &#39;The Expanding Role of Optical Metrology in Precision Engineering\\n&#39;, &#39;The Meaning and Measure of Lateral Resolution for Surface Profiling Interferometers\\n&#39;, &#39;Coherence scanning interferometry (book chapter)\\n&#39;, &#39;Phase Shifting Interferometry (book chapter)\\n&#39;, &#39;Non-Contact Glass Testing\\n&#39;, &#39;Design of error-compensating algorithms for sinusoidal phase shifting interferometry\\n&#39;, &#39;Model-based white light interference microscopy for metrology of transparent film stacks and optically-unresolved structures\\n&#39;, &#39;Suppressing phase errors from vibration in phase-shifting interferometry\\n&#39;, &#39;Transparent film profiling and analysis by interference microscopy\\n&#39;, &#39;Characterization of materials and film stacks for accurate surface topography measurement using a white-light optical profiler\\n&#39;, &#39;Metrology of optically-unresolved features using interferometric surface profiling and modeling\\n&#39;, &#39;Angle-resolved three-dimensional analysis of surface films by coherence scanning interferometry\\n&#39;, &#39;Stroboscopic white-light interference microscopy\\n&#39;, &#39;Generating fringe-free images from phase-shifted interferometry data\\n&#39;, &#39;Optical Topography Measurement of Patterned Wafers\\n&#39;, &#39;Signal modeling for low-coherence height-scanning interference microscopy\\n&#39;, &#39;Static and dynamic characterization of and devices using optical interference microscopy\\n&#39;, &#39;Valve cone measurement using white light interference microscopy in a spherical measurement geometry\\n&#39;, &#39;Determination of fringe order in white-light interference microscopy\\n&#39;, &#39;Optical interferometry for measurement of the geometric dimensions of industrial parts\\n&#39;, &#39;Step height measurements using a combination of a laser displacement gage and a broadband interferometric surface profiler\\n&#39;, &#39;Optical properties of alumina titanium carbide sliders used in rigid disk drives\\n&#39;, &#39;Determining the optical constants of read-write sliders during flying-height testing\\n&#39;, &#39;Scanning Interferometer Characterizes Surfaces\\n&#39;, &#39;Vibration in phase shifting interferometry\\n&#39;, &#39;High-speed non-contact profiler based on scanning white light interferometry\\n&#39;, &#39;Determination of the phase change on reflection from two-beam interference\\n&#39;, &#39;Surface profiling by frequency-domain analysis of white-light interferograms\\n&#39;, &#39;Three-dimensional imaging by sub-Nyquist sampling of white-light interferograms\\n&#39;, &#39;What is Frequency Domain Analysis?\\n&#39;, &#39;Interferometric microscope with true color imaging\\n&#39;, &#39;Evaluation of the measurement performance of a coherence scanning microscope using roughness specimens\\n&#39;, &#39;Contact Today\\n&#39;, &#39;››\\n&#39;, &#39;News:\\n&#39;, &#39; Launches Latest Generation of ZeGage Non-Contact 3Optical Profilers\\n&#39;, &#39;››\\n&#39;, &#39;Blog:\\n&#39;, &#39; Using Grazing Incidence Interferometry to Measure Large or Non-Specular Surfaces\\n&#39;, &#39;››\\n&#39;, &#39;Blog:\\n&#39;, &#39; Process Metrology Helps Ensure Quality of Smartphone Camera Lenses\\n&#39;, &#39;››\\n&#39;, &#39;Blog:\\n&#39;, &#39; Precision Lead Angle Metrology Improves Shaft Seals and Engine Efficiency\\n&#39;, &#39;››\\n&#39;, &#39;Blog:\\n&#39;, &#39; Precision Gear Tooth Metrology Helps Automaker Silence Humming Differential\\n&#39;, &#39;››\\n&#39;, &#39;Blog:\\n&#39;, &#39; Measuring Roughness on Super-Smooth Surfaces\\n&#39;, &#39;››\\n&#39;, &#39;Blog:\\n&#39;, &#39; New Smart Setup Feature Streamlines Precision Surface Metrology\\n&#39;, &#39;››\\n&#39;, &#39;Blog:\\n&#39;, &#39; Think you know ZYGO? Check out these six surprising facts and statistics...\\n&#39;, &#39;Privacy and Cookie Policy\\n&#39;, &#39;Privacy Policy Inquiry Form\\n&#39;, &#39;Unsubscribe\\n&#39;, &#39;×\\n&#39;, &#39;Privacy Policy InquiryProducts\\n&#39;, &#39;Markets\\n&#39;, &#39;Applications\\n&#39;, &#39;Support\\n&#39;, &#39;Form, Waviness, Roughness\\n&#39;, &#39;Patent Information\\n&#39;, &#39;Registrations\\n&#39;, &#39;Launches Latest Generation of ZeGage Non-Contact 3Optical Profilers\\n&#39;, &#39;Middlefield, – has announced the introduction of its latest generation of ZeGage™ 3optical profiling instruments providing precise and rapid non-contact measurement of surface topography for enhanced quality and process control.\\n&#39;, &#34;The two new models, ZeGage Pro and ZeGage Pro , offer up to 2improvement in data points, a 50% larger maximum field of view, and increased measurement speed with simplified setup.  The ZeGage Pro systems maintain a small footprint, with versatile performance and ease of use. The new system&#39;s time-saving large field-of-view, combined with optional automated part staging, allows larger components to be measured quickly and easily in most environments.\\n&#34;, &#34;At the core of the ZeGage Pro 3optical profiler is ZYGO&#39;s Mx™ software platform.   This comprehensive user-friendly control and analysis platform supports a broad range of surface metrology applications and data analyses. The rich suite of features includes results compliant with 25178 and 4287, image stitching, and automated measurement patterns.  The ZeGage Pro profilers now expand this offering with unique features that simplify operation and minimize operator variability, such as ZYGO&#39;s exclusive fast focus, Part Finder and Smart Setup tools.\\n&#34;, &#39;Commenting on the launch of the ZeGage Pro and ZeGage Pro profilers , Eric Felkel, Product Manager of Optical Profilers at said, &#34;Our latest generation of ZeGage profilers represents a new class of non-contact surface measurement system, while complementing our existing portfolio of metrology products .  It integrates our industry-leading and differentiated Coherence Scanning Interferometry (CSI) technology into a compact system, delivering fast and flexible results to meet the most stringent QC/requirements.   &#34;The ZeGage Pro sets a new benchmark for high value, easy-to-use, non-contact metrology tools that deliver precision on the production floor, without the need for expensive vibration isolation systems or consumables,&#34; he added.\\n&#39;, &#39;Summary of Main Features:\\n&#39;, &#39;• Large format imaging sensor yields 1.9 million data points – a 50% increase in field of view and 2more data points compared to the previous generation\\n&#39;, &#39;• SureScan™ technology reduces vibration sensitivity, providing greater flexibility in locating the instrument within a facility\\n&#39;, &#39;• Improved data acquisition and speed;  &gt;1.5faster than the previous generation\\n&#39;, &#39;• Higher sensitivity and dynamic range for reliable and precise metrology on challenging surfaces (e.g. high slopes , low reflectivity, rough texture)\\n&#39;, &#39;• Innovative and intuitive Mx™ software with &#34;smart&#34; features for enhanced ease-of-use, automation and productivity\\n&#39;, &#39;[close]Form, Waviness, Roughness\\n&#39;, &#39;Patent Information\\n&#39;, &#39;Registrations\\n&#39;, &#39;Privacy and Cookie Policy Last modified: May 3, 2018\\n&#39;, &#39;Please read this policy carefully.  By visiting this website, you acknowledge and agree to the practices described in this policy, except where your specific consent is requested.  This Privacy Policy, and the Legal Notices listed on this website, which may be updated from time to time, describes our collection, use and disclosure of personal and non-personal information collected through this website or in the course of our business activities.\\n&#39;, &#39;For the purposes of applicable data protection law, we, the business unit for this website, are the controller of any personal information collected from you on this website or otherwise for conducting or developing our business with you.\\n&#39;, &#39;Information We Collect Automatically\\n&#39;, &#39;When you visit this website, our server automatically collects certain browser or device generated information, including but not limited to your:\\n&#39;, &#39;domain;\\n&#39;, &#39;browser type;\\n&#39;, &#39;page visits.\\n&#39;, &#39;We do not use this automatically collected information to try to identify you, however, we may associate it with the information you provide voluntarily, as detailed below.\\n&#39;, &#39;Information You Provide\\n&#39;, &#39;In using this website, conducting business with us or seeking to conduct business with us, you may voluntarily provide personal information to us in the following ways:\\n&#39;, &#34;by filling in forms (for example, a &#39;Contact Us&#39; form), on our website or at a trade show or anywhere else we conduct business;\\n&#34;, &#39;by downloading documentation from our website;\\n&#39;, &#39;by subscribing to newsletters or other communications;\\n&#39;, &#39;by corresponding with us by phone, e-mail or otherwise using our contact details; or\\n&#39;, &#39;by applying for a job, work placement or internship.\\n&#39;, &#39;Typically, the personal information you give us may include your name, company name, address, e-mail address, phone number, and any personal details required to resolve any enquiries or complaints.  This information is required to enter into a contract with you (such as in anticipation of an employment contract or a purchase agreement or the provision of services such as the download of information from our website) and failure to provide any information may result in our inability to provide requested services or products or consider your application for employment.\\n&#39;, &#39;Information We Obtain from Third Parties\\n&#39;, &#39;We may also obtain information about you and the company you work for from third parties, including social media and data augmentation services.\\n&#39;, &#39;Cookies\\n&#39;, &#34;cookie is a small file that can be placed on your device&#39;s hard drive or on a website server.   We use cookies to obtain some of the automatically collected information described above. Most browsers automatically collect cookies, but you do not have to accept a cookie, and you can in fact modify your browser so that it will not accept cookies. For more information about cookies including how to set your internet browser to reject cookies please go to allaboutcookies.org .\\n&#34;, &#39;By continuing to use this website, following display of our pop-up cookie notification banner, you agree to our use of cookies.\\n&#39;, &#39;Different types of cookies are used for different purposes on our website, these are known as: strictly necessary cookies, performance cookies, and functionality cookies. Some cookies may be provided by an external third party to provide additional functionality to our website and these are included below.\\n&#39;, &#39;Strictly necessary cookies\\n&#39;, &#39;These are cookies that are essential to fulfil an action requested by you, such as identifying you as being logged in. If you prevent these cookies by adjusting your browser settings, we cannot guarantee how our website will perform during your visit.\\n&#39;, &#39;Performance cookies\\n&#39;, &#39;These are cookies used to improve our website, for example for analytics that let us see how our website is being used and where to make improvements. These cookies are used to collect information about how visitors use our website. The information is collected in an anonymous form and includes the number of visitors, where visitors have come from to the websites and the pages they visited.\\n&#39;, &#39;Functionality cookies\\n&#39;, &#34;These cookies enhance the performance and functionality of our website, often as a result of something you&#39;re doing as a user. For instance, we may personalize our content for you or remember your preferences.\\n&#34;, &#39;Managing and Deleting Cookies\\n&#39;, &#39;If you want to manage cookies, you can do so from your browser. You can find out how to do this by going to the help menu in your browser. Please see allaboutcookies.org for further information.\\n&#39;, &#39;Use of Personal Information\\n&#39;, &#39;The following is an overview of our purposes for using your personal information.  Please remember that additional details on how we process your personal information may be provided to you in a separate notice or contract.    All processing (i.e. use) of your personal information is justified by a &#34;condition&#34; for processing. In the majority of cases, processing will be justified on the basis that:\\n&#39;, &#39;you have consented to the processing;\\n&#39;, &#39;the processing is necessary to perform a contract with you or take steps to enter into a contract;\\n&#39;, &#39;the processing is necessary for us to comply with a relevant legal obligation; or\\n&#39;, &#39;the processing is in our legitimate interests, subject to your interests and fundamental rights, and notably our legitimate interest in using suppler, customer and website user data to conduct and develop our business activities with them and with others.\\n&#39;, &#39;We use the personal information we collect to:\\n&#39;, &#39;conduct and develop our business with you and with others;\\n&#39;, &#39;improve our website, and our products and services generally;\\n&#39;, &#34;customize our website to users&#39; needs;\\n&#34;, &#39;provide you with documentation or communications which you have requested;\\n&#39;, &#39;correspond with users to resolve their queries or complaints;\\n&#39;, &#39;manage a recruitment, work placement or internship process, including considering applications and making offers;\\n&#39;, &#39;provide you with any services or products you request; and\\n&#39;, &#39;send you marketing communications, where it is lawful for us to do so.\\n&#39;, &#39;Disclosure of Personal Information\\n&#39;, &#39;We are part of a global  group of companies, and from time to time it will be necessary to share your information with our affiliated businesses. We may also appoint third party service providers (who will operate under our instructions) to assist us in providing information, products or services to you, in conducting and managing our business, or in managing and improving this website, and these third parties may need access to your information.\\n&#39;, &#39;If your personal information is transferred outside the to other group companies or to service providers, we will take steps to ensure that your information receives the same level of protection as if it remained within the EEA, including by entering into data transfer agreements, using the Commission approved Standard Contractual Clauses, or by relying on certification schemes such as the - Privacy Shield.  For transfers to other group companies in the United States (a country that has not received a decision from the Commission determining that the United States provides adequate protection to personal information), we have put in place Commission approved Standard Contractual Clauses, which protect personal information transferred between group companies.  You have a right to obtain details of the mechanism under which your information is transferred outside of the by contacting us through Contact Us link below.\\n&#39;, &#39;We may share your personal information with third parties in connection with potential or actual sale of our company or any of our assets, or those of any affiliated company, in which case personal information held by us about our users may be one of the transferred assets.\\n&#39;, &#39;We will also respond to requests for information where required by to do so by law, or when we believe that disclosure is necessary to protect our rights and/or comply with a judicial proceeding, court order, request from a regulator or any other legal process served on us.\\n&#39;, &#39;Marketing, &amp; emails\\n&#39;, &#34;Where lawful to do so, and subject to your consent where required, we may communicate with you by and email to tell you about our products and services. If you wish to opt-out of receiving marketing communications, please use the &#39;unsubscribe&#39; link provided in our emails or text the number in our SMS, or otherwise contact us directly through the Contact Us link below and we will stop sending you communications.\\n&#34;, &#39;Profiling for marketing purposes\\n&#39;, &#39;The purpose of any profiling is to deliver website content or email content that has high relevancy and, or applicability to the company that you represent. To achieve this, we use the information you have provided, and information provided by third party data augmentation services, to try and identify the industry code and other important information for the company you represent. Additionally, we also try and identify the product and application interests your company may have based on your visiting patterns at our websites (Information we collect automatically) and responses to our emails (Information you provide).  Based on this information we then tailor the email content and potentially the website content to better match the requirements and interests of the company you represent. The described processing is based on our legitimate interest (Art. 6 (1) (f) GDPR).\\n&#39;, &#39;Security\\n&#39;, &#39;We use data storage and security techniques to protect your personal information from unauthorized access, improper use or disclosure, unauthorized modification or unlawful destruction or accidental loss. However, it is important to remember that no website can be 100% secure and we cannot be held responsible for unauthorized or unintended access that is beyond our control.\\n&#39;, &#39;Retention of your Information\\n&#39;, &#39;We apply a general rule of keeping personal information only for as long as required to fulfil the purposes for which it was collected.  However, in some circumstances we may retain personal information for longer periods of time, for instance where we are required to do so in accordance with legal, tax and accounting requirements.  In specific circumstances we may also retain your personal information for longer periods of time so that we have an accurate record of your dealings with us in the event of any complaints or challenges.\\n&#39;, &#39;External Links\\n&#39;, &#39;This website may contain links to third party sites. Since we do not control nor are we responsible for the privacy practices of those websites, we encourage you to review the privacy policies of these third-party sites. This policy applies solely to personal information collected by this Website or in the course of our business activities.\\n&#39;, &#39;Your rights\\n&#39;, &#39;Subject to applicable law, you may have some or all of the following rights in respect of your personal information:\\n&#39;, &#39;to obtain a copy of your personal information together with information about how and on what basis that personal information is processed;\\n&#39;, &#39;to rectify inaccurate personal information (including the right to have incomplete personal information completed);\\n&#39;, &#39;to erase your personal information (in limited circumstances, where it is no longer necessary in relation to the purposes for which it was collected or processed);\\n&#39;, &#39;to restrict processing of your personal information where:\\n&#39;, &#39;the accuracy of the personal information is contested;\\n&#39;, &#39;the processing is unlawful but you object to the erasure of the personal information;\\n&#39;, &#39;we no longer require the personal information, but it is still required for the establishment, exercise or defense of a legal claim;\\n&#39;, &#39;to port your data in machine-readable format to a third party (or to you) when we justify our processing on the basis of your consent or the performance of a contract with you;\\n&#39;, &#39;to withdraw your consent to our processing of your personal information (where that processing is based on your consent);\\n&#39;, &#39;to object to decisions which are based solely on automated processing or profiling; and\\n&#39;, &#39;to obtain or see a copy of the appropriate safeguards under which your personal information is transferred to a third country or international organisation.\\n&#39;, &#39;In addition to the above rights, you have the right to object to any processing of your information which we have justified based on a legitimate interest, including profiling (as opposed to your consent, or to perform a contract with you). You also have the right to object to any processing of your information for direct marketing purposes, including profiling for marketing purposes.\\n&#39;, &#39;You also have the right to lodge a complaint with your local supervisory authority for data protection.\\n&#39;, &#39;In relation to all these rights, please contact us using the Contact Us link below. Please note that we may request proof of identity, and we reserve the right to charge a fee where permitted by law, for instance if your request is manifestly unfounded or excessive. We will endeavour to respond to your request within all applicable timeframes.\\n&#39;, &#39;Contact Us\\n&#39;, &#39;If you have any questions in relation to this policy or you wish to exercise any of your rights, please click here to submit your request .\\n&#39;, &#39;[close]Facts and Statistics About About Us\\n&#39;, &#39;Company Profile\\n&#39;, &#39;News Releases\\n&#39;, &#39;Trade Show Schedule\\n&#39;, &#39;Manufacturing Locations\\n&#39;, &#39;Sales/Service Offices\\n&#39;, &#39;How to Get to Patent Information\\n&#39;, &#39;Registrations\\n&#39;, &#39;Conflict Minerals Policy\\n&#39;, &#39;Privacy and Cookie Policy\\n&#39;, &#39;Terms &amp; Conditions\\n&#39;, &#39;June 6, 2018\\n&#39;, &#39;Check out these six surprising facts and statistics... \\n&#39;, &#39;metrology products\\n&#39;, &#39; and \\n&#39;, &#39;precision optical components and assemblies\\n&#39;, &#34;.  The infographic below highlights some little-known facts and statistics about the breadth and depth of ZYGO&#39;s experience and business. \\n&#34;, &#39;\\n&#39;, &#39;Have a question about ZYGO? \\xa0Just fill out the form...\\n&#39;, &#39;First Name \\n&#39;, &#39;*\\n&#39;, &#39;Last Name \\n&#39;, &#39;*\\n&#39;, &#39;Phone Number\\n&#39;, &#39;E-mail Address \\n&#39;, &#39;*\\n&#39;, &#39;Company or Organization \\n&#39;, &#39;*\\n&#39;, &#39;Job Title or Function \\n&#39;, &#39;*\\n&#39;, &#39;Street Address\\n&#39;, &#39;City\\n&#39;, &#39;State/Province\\xa0\\n&#39;, &#39;*\\n&#39;, &#39;Zip/Postal Code\\n&#39;, &#39;---Select---\\n&#39;, &#39;Alabama\\n&#39;, &#39;Alaska\\n&#39;, &#39;Arizona\\n&#39;, &#39;Arkansas\\n&#39;, &#39;California\\n&#39;, &#39;Colorado\\n&#39;, &#39;Connecticut\\n&#39;, &#39;Delaware\\n&#39;, &#39;District of Columbia\\n&#39;, &#39;Florida\\n&#39;, &#39;Georgia\\n&#39;, &#39;Hawaii\\n&#39;, &#39;Idaho\\n&#39;, &#39;Illinois\\n&#39;, &#39;Indiana\\n&#39;, &#39;Iowa\\n&#39;, &#39;Kansas\\n&#39;, &#39;Kentucky\\n&#39;, &#39;Louisiana\\n&#39;, &#39;Maine\\n&#39;, &#39;Maryland\\n&#39;, &#39;Massachusetts\\n&#39;, &#39;Michigan\\n&#39;, &#39;Minnesota\\n&#39;, &#39;Mississippi\\n&#39;, &#39;Missouri\\n&#39;, &#39;Montana\\n&#39;, &#39;Nebraska\\n&#39;, &#39;Nevada\\n&#39;, &#39;New Hampshire\\n&#39;, &#39;New Jersey\\n&#39;, &#39;New Mexico\\n&#39;, &#39;New York\\n&#39;, &#39;North Carolina\\n&#39;, &#39;North Dakota\\n&#39;, &#39;Ohio\\n&#39;, &#39;Oklahoma\\n&#39;, &#39;Oregon\\n&#39;, &#39;Pennsylvania\\n&#39;, &#39;Rhode Island\\n&#39;, &#39;South Carolina\\n&#39;, &#39;South Dakota\\n&#39;, &#39;Tennessee\\n&#39;, &#39;Texas\\n&#39;, &#39;Utah\\n&#39;, &#39;Vermont\\n&#39;, &#39;Virginia\\n&#39;, &#39;Washington\\n&#39;, &#39;West Virginia\\n&#39;, &#39;Wisconsin\\n&#39;, &#39;Wyoming\\n&#39;, &#39;Alberta\\n&#39;, &#39;British Columbia\\n&#39;, &#39;Manitoba\\n&#39;, &#39;New Brunswick\\n&#39;, &#39;Newfoundland and Labrador\\n&#39;, &#39;Northwest Territories\\n&#39;, &#39;Nova Scotia\\n&#39;, &#39;Nunavut\\n&#39;, &#39;Ontario\\n&#39;, &#39;Prince Edward Island\\n&#39;, &#39;Quebec\\n&#39;, &#39;Saskatchewan\\n&#39;, &#39;Yukon Territories\\n&#39;, &#39;International/Other\\n&#39;, &#39;Country/Region \\n&#39;, &#39;*\\n&#39;, &#39;---Select---\\n&#39;, &#39;Afghanistan\\n&#39;, &#39;Albania\\n&#39;, &#39;Algeria\\n&#39;, &#39;Andorra\\n&#39;, &#39;Angola\\n&#39;, &#39;Antigua and Barbuda\\n&#39;, &#39;Argentina\\n&#39;, &#39;Armenia\\n&#39;, &#39;Australia\\n&#39;, &#39;Austria\\n&#39;, &#39;Azerbaijan\\n&#39;, &#39;Bahamas\\n&#39;, &#39;Bahrain\\n&#39;, &#39;Bangladesh\\n&#39;, &#39;Barbados\\n&#39;, &#39;Belarus\\n&#39;, &#39;Belgium\\n&#39;, &#39;Belize\\n&#39;, &#39;Benin\\n&#39;, &#39;Bhutan\\n&#39;, &#39;Bolivia, Plurinational State of\\n&#39;, &#39;Bonaire, Sint Eustatius and Saba\\n&#39;, &#39;Bosnia and Herzegovina\\n&#39;, &#39;Botswana\\n&#39;, &#39;Brazil\\n&#39;, &#39;Brunei Darussalam\\n&#39;, &#39;Bulgaria\\n&#39;, &#39;Burkina Faso\\n&#39;, &#39;Burundi\\n&#39;, &#39;Cambodia\\n&#39;, &#39;Cameroon\\n&#39;, &#39;Canada\\n&#39;, &#39;Cape Verde\\n&#39;, &#39;Central African Republic\\n&#39;, &#39;Chad\\n&#39;, &#39;Chile\\n&#39;, &#39;China\\n&#39;, &#39;Colombia\\n&#39;, &#39;Comoros\\n&#39;, &#39;Congo\\n&#39;, &#39;Congo, the Democratic Republic of the\\n&#39;, &#39;Costa Rica\\n&#39;, &#34;Cote d&#39;Ivoire\\n&#34;, &#39;Croatia\\n&#39;, &#39;Cuba\\n&#39;, &#39;Cyprus\\n&#39;, &#39;Czech Republic\\n&#39;, &#39;Denmark\\n&#39;, &#39;Djibouti\\n&#39;, &#39;Dominica\\n&#39;, &#39;Dominican Republic\\n&#39;, &#39;Ecuador\\n&#39;, &#39;Egypt\\n&#39;, &#39;El Salvador\\n&#39;, &#39;Equatorial Guinea\\n&#39;, &#39;Eritrea\\n&#39;, &#39;Estonia\\n&#39;, &#39;Ethiopia\\n&#39;, &#39;Fiji\\n&#39;, &#39;Finland\\n&#39;, &#39;France\\n&#39;, &#39;Gabon\\n&#39;, &#39;Gambia\\n&#39;, &#39;Georgia\\n&#39;, &#39;Germany\\n&#39;, &#39;Ghana\\n&#39;, &#39;Greece\\n&#39;, &#39;Greenland\\n&#39;, &#39;Grenada\\n&#39;, &#39;Guatemala\\n&#39;, &#39;Guinea\\n&#39;, &#39;Guinea-Bissau\\n&#39;, &#39;Guyana\\n&#39;, &#39;Haiti\\n&#39;, &#39;Honduras\\n&#39;, &#39;Hungary\\n&#39;, &#39;Iceland\\n&#39;, &#39;India\\n&#39;, &#39;Indonesia\\n&#39;, &#39;Iran, Islamic Republic of\\n&#39;, &#39;Iraq\\n&#39;, &#39;Ireland\\n&#39;, &#39;Israel\\n&#39;, &#39;Italy\\n&#39;, &#39;Jamaica\\n&#39;, &#39;Japan\\n&#39;, &#39;Jordan\\n&#39;, &#39;Kazakhstan\\n&#39;, &#39;Kenya\\n&#39;, &#39;Kiribati\\n&#39;, &#34;Korea, Democratic People&#39;s Republic of\\n&#34;, &#39;Korea, Republic of\\n&#39;, &#39;Kuwait\\n&#39;, &#39;Kyrgyzstan\\n&#39;, &#34;Lao People&#39;s Democratic Republic\\n&#34;, &#39;Lebanon\\n&#39;, &#39;Lesotho\\n&#39;, &#39;Liberia\\n&#39;, &#39;Libya\\n&#39;, &#39;Liechtenstein\\n&#39;, &#39;Lithuania\\n&#39;, &#39;Luxembourg\\n&#39;, &#39;Madagascar\\n&#39;, &#39;Malawi\\n&#39;, &#39;Malaysia\\n&#39;, &#39;Maldives\\n&#39;, &#39;Mali\\n&#39;, &#39;Mauritania\\n&#39;, &#39;Mauritius\\n&#39;, &#39;Mexico\\n&#39;, &#39;Moldova, Republic of\\n&#39;, &#39;Monaco\\n&#39;, &#39;Mongolia\\n&#39;, &#39;Montenegro\\n&#39;, &#39;Morocco\\n&#39;, &#39;Mozambique\\n&#39;, &#39;Myanmar\\n&#39;, &#39;Namibia\\n&#39;, &#39;Nauru\\n&#39;, &#39;Nepal\\n&#39;, &#39;Netherlands\\n&#39;, &#39;New Zealand\\n&#39;, &#39;Nicaragua\\n&#39;, &#39;Niger\\n&#39;, &#39;Nigeria\\n&#39;, &#39;Norway\\n&#39;, &#39;Oman\\n&#39;, &#39;Pakistan\\n&#39;, &#39;Palestine\\n&#39;, &#39;Panama\\n&#39;, &#39;Papua New Guinea\\n&#39;, &#39;Paraguay\\n&#39;, &#39;Peru\\n&#39;, &#39;Philippines\\n&#39;, &#39;Poland\\n&#39;, &#39;Portugal\\n&#39;, &#39;Qatar\\n&#39;, &#39;Romania\\n&#39;, &#39;Russian Federation\\n&#39;, &#39;Rwanda\\n&#39;, &#39;Saint Helena, Ascension and Tristan da Cunha\\n&#39;, &#39;Saint Kitts and Nevis\\n&#39;, &#39;Saint Lucia\\n&#39;, &#39;Saint Vincent and the Grenadines\\n&#39;, &#39;Samoa\\n&#39;, &#39;San Marino\\n&#39;, &#39;Sao Tome and Principe\\n&#39;, &#39;Saudi Arabia\\n&#39;, &#39;Senegal\\n&#39;, &#39;Serbia\\n&#39;, &#39;Sierra Leone\\n&#39;, &#39;Singapore\\n&#39;, &#39;Slovakia\\n&#39;, &#39;Slovenia\\n&#39;, &#39;Solomon Islands\\n&#39;, &#39;Somalia\\n&#39;, &#39;South Africa\\n&#39;, &#39;South Sudan\\n&#39;, &#39;Spain\\n&#39;, &#39;Sri Lanka\\n&#39;, &#39;Sudan\\n&#39;, &#39;Suriname\\n&#39;, &#39;Swaziland\\n&#39;, &#39;Sweden\\n&#39;, &#39;Switzerland\\n&#39;, &#39;Syrian Arab Republic\\n&#39;, &#39;Taiwan (R.O.C.)\\n&#39;, &#39;Tajikistan\\n&#39;, &#39;Tanzania, United Republic of\\n&#39;, &#39;Thailand\\n&#39;, &#39;Timor-Leste\\n&#39;, &#39;Togo\\n&#39;, &#39;Tonga\\n&#39;, &#39;Trinidad and Tobago\\n&#39;, &#39;Tunisia\\n&#39;, &#39;Turkey\\n&#39;, &#39;Turkmenistan\\n&#39;, &#39;Tuvalu\\n&#39;, &#39;Uganda\\n&#39;, &#39;Ukraine\\n&#39;, &#39;United Arab Emirates\\n&#39;, &#39;United Kingdom\\n&#39;, &#39;United States\\n&#39;, &#39;Uruguay\\n&#39;, &#39;Uzbekistan\\n&#39;, &#39;Vanuatu\\n&#39;, &#39;Venezuela, Bolivarian Republic of\\n&#39;, &#39;Viet Nam\\n&#39;, &#39;Wallis and Futuna\\n&#39;, &#39;Yemen\\n&#39;, &#39;Zambia\\n&#39;, &#39;Zimbabwe\\n&#39;, &#39;\\xa0 Check this box to provide consent for to contact you in the future. **\\n&#39;, &#39;\\n&#39;, &#39;Please indicate your level of interest... \\n&#39;, &#39;*\\n&#39;, &#39;*\\n&#39;, &#39; Required entries\\n&#39;, &#39;Note:\\n&#39;, &#39;[close]\\n&#39;, &#39;\\n&#39;, &#39;By continuing to use this site, you agree to our \\n&#39;, &#39;Privacy and Cookie Policy\\n&#39;, &#39;. \\n&#39;, &#39;OK\\n&#39;, &#34;What&#39;s New at ZYGO?\\n&#34;, &#39;››\\n&#39;, &#39;News:\\n&#39;, &#39; Launches Latest Generation of ZeGage Non-Contact 3Optical Profilers\\n&#39;, &#39;››\\n&#39;, &#39;Blog:\\n&#39;, &#39; Using Grazing Incidence Interferometry to Measure Large or Non-Specular Surfaces\\n&#39;, &#39;››\\n&#39;, &#39;Blog:\\n&#39;, &#39; Process Metrology Helps Ensure Quality of Smartphone Camera Lenses\\n&#39;, &#39;››\\n&#39;, &#39;Blog:\\n&#39;, &#39; Precision Lead Angle Metrology Improves Shaft Seals and Engine Efficiency\\n&#39;, &#39;››\\n&#39;, &#39;Blog:\\n&#39;, &#39; Precision Gear Tooth Metrology Helps Automaker Silence Humming Differential\\n&#39;, &#39;››\\n&#39;, &#39;Blog:\\n&#39;, &#39; Measuring Roughness on Super-Smooth Surfaces\\n&#39;, &#39;››\\n&#39;, &#39;Blog:\\n&#39;, &#39; New Smart Setup Feature Streamlines Precision Surface Metrology\\n&#39;, &#39;››\\n&#39;, &#39;Blog:\\n&#39;, &#39; Think you know ZYGO? Check out these six surprising facts and statistics...\\n&#39;, &#39;Visit at these\\n&#39;, &#39;Upcoming Events:\\n&#39;, &#39;MD&amp;West\\n&#39;, &#39;02/05\\n&#39;, &#39;Photonics West\\n&#39;, &#39;02/05\\n&#39;, &#39;Advanced Lithography\\n&#39;, &#39;02/26\\n&#39;, &#39;Houstex\\n&#39;, &#39;02/26\\n&#39;, &#39;Defense &amp; Sensing\\n&#39;, &#39;04/16\\n&#39;, &#39;Ann. Mtg. &amp; Exhibt\\n&#39;, &#39;05/19\\n&#39;, &#39;West\\n&#39;, &#39;07/09\\n&#39;, &#39;Optics &amp; Photonics\\n&#39;, &#39;08/13\\n&#39;, &#39;Optifab\\n&#39;, &#39;10/15\\n&#39;, &#39;(Click for a complete list)\\n&#39;, &#39;Privacy and Cookie Policy\\n&#39;, &#39;Privacy Policy Inquiry Form\\n&#39;, &#39;Unsubscribe\\n&#39;, &#39;×\\n&#39;, &#39;Privacy Policy Inquiry3Optical Surface Profiler\\n&#39;, &#39;Products\\n&#39;, &#39;3Optical Profilers\\n&#39;, &#39;Laser Interferometers\\n&#39;, &#39;Position Metrology Systems\\n&#39;, &#39;Custom Metrology Solutions\\n&#39;, &#39;Trade-in &amp; Upgrade Program\\n&#39;, &#39;Optical Surface Profilers\\n&#39;, &#39;ZeGage™ Pro\\xa0 \\n&#39;, &#39;New!\\n&#39;, &#39;NewView™ 9000\\n&#39;, &#39;Nexview™NX2\\n&#39;, &#39;Nomad™\\n&#39;, &#39;Compass™\\n&#39;, &#39;APM650™\\n&#39;, &#39;Mx™ Software\\n&#39;, &#39;Profiler Objectives\\n&#39;, &#39;Optical Profiler Basics\\n&#39;, &#39;Surface Roughness Measurement\\n&#39;, &#39;Surface Profiling\\n&#39;, &#39;3Optical Microscopy\\n&#39;, &#39;3Interference Microscopy\\n&#39;, &#39;Production Ready 3Optical Profiler\\n&#39;, &#39;Key Features:\\n&#39;, &#39;\\x95 Vibration-resistant, for metrology and process control on the production floor.\\n&#39;, &#39;\\x95 25178-compliant results ensure confidence in your metrology.\\n&#39;, &#39;\\x95 Non-contact, area-based metrology technique prevents part damage and is insensitive to part lay.\\n&#39;, &#39;\\x95 Measurements require no consumables.\\n&#39;, &#39;ZeGage™ Pro\\n&#39;, &#39; and \\n&#39;, &#39;ZeGage™ Pro HR\\n&#39;, &#39; 3optical profilers provide non-contact measurement and characterization of micro- and nano-scale features of virtually any surface, and set the new standard for performance, ease of use, flexibility, and precision of benchtop-class industrial non-contact surface profilers.\\n&#39;, &#39;\\n&#39;, &#39;The base ZeGage™ Pro model delivers surface mapping at the nanometer scale, meeting the needs for most industrial surfaces.  For smoother samples, with a much finer surface finish, the ZeGage™ Pro offers more than 20higher precision with 0.15\\xa0nm vertical precision.\\n&#39;, &#39;\\n&#39;, &#34;ZYGO&#39;s  ZeGage™ products have been taking interferometric surface profiling out of the lab and into production for nearly a decade. With the ZeGage Pro and Pro systems, powerful and trusted capabilities such as SureScan™ technology for vibration robust metrology are now paired with ZYGO&#39;s exclusive Part Finder and \\n&#34;, &#39;Smart Setup\\n&#39;, &#39; tools to make sample changes fast and easy, minimizing wasted time and maximizing throughput.\\n&#39;, &#39;Mx Software\\n&#39;, &#39; Screen (click image for a larger view)\\n&#39;, &#39;\\n&#39;, &#34;Like all earlier ZeGage™ profilers, the ZeGage™ Pro and Pro systems are constructed with a compact benchtop-friendly design.  Coupled with SureScan™ technology, there is no need for expensive vibration isolation tables, system enclosures, or consumables. They also run ZYGO&#39;s interactive control software, \\n&#34;, &#39;Mx™\\n&#39;, &#39;, for easy and detailed visualization to help you control your process.\\n&#39;, &#39;Powerful Performance \\n&#39;, &#39;Proprietary non-contact measurement technology is enhanced with SureScan™ technology for low sensitivity to vibration and easy placement anywhere within your facility.\\n&#39;, &#39;Quantitative surface metrology with nanometer-level precision provides superior gage capability.\\n&#39;, &#39;High resolution 1.9 million pixel image sensor provides fast areal measurements in seconds, for excellent surface detail and visualization.\\n&#39;, &#39;Fully-automated measurement sequences and field stitching enable high resolution inspection of large areas. (Requires optional motorized part stage.)\\n&#39;, &#39;Versatility\\n&#39;, &#39;Measures a wide variety of surface materials and parameters, including 2and 3profiling of surface texture, form, step-height and more.\\n&#39;, &#39;Included Mx software provides comprehensive tools for surface data visualization, analysis and reporting.\\n&#39;, &#39;Expand the measurement range of your investment with accessories that include objective turrets, manual and motorized sample stages, and optional software modules for film topography profiling and 2analysis using Cognex VisionPro®.\\n&#39;, &#39; Productivity and Value\\n&#39;, &#39;Smart Setup technology reduces training time, and shortens part changeover by automating part finding, light setting, and scan configuration.  Smart Setup usually results in a first data map within 1 minute of placing the sample under the objective.\\n&#39;, &#39;Cost-effective price-to-performance ratio compares favorably to alternative systems, including mechanical contact stylus profilers.\\n&#39;, &#39;Non-contact method means no consumable replacement costs to worry about.\\n&#39;, &#39;Compact, vibration-tolerant SureScan™ technology for easy integration anywhere in your facility.\\n&#39;, &#39;Inquiry Form\\n&#39;, &#39;\\n&#39;, &#39;Please use the form below to contact us with any questions you have regarding ZeGage™ \\n&#39;, &#39;3Optical Surface Profilers\\n&#39;, &#39;, or \\n&#39;, &#39;surface profiling\\n&#39;, &#39;First Name \\n&#39;, &#39;*\\n&#39;, &#39;Last Name \\n&#39;, &#39;*\\n&#39;, &#39;Phone Number\\n&#39;, &#39;E-mail Address \\n&#39;, &#39;*\\n&#39;, &#39;Company or Organization \\n&#39;, &#39;*\\n&#39;, &#39;Job Title or Function \\n&#39;, &#39;*\\n&#39;, &#39;Street Address\\n&#39;, &#39;City\\n&#39;, &#39;State/Province\\xa0\\n&#39;, &#39;*\\n&#39;, &#39;Zip/Postal Code\\n&#39;, &#39;---Select---\\n&#39;, &#39;Alabama\\n&#39;, &#39;Alaska\\n&#39;, &#39;Arizona\\n&#39;, &#39;Arkansas\\n&#39;, &#39;California\\n&#39;, &#39;Colorado\\n&#39;, &#39;Connecticut\\n&#39;, &#39;Delaware\\n&#39;, &#39;District of Columbia\\n&#39;, &#39;Florida\\n&#39;, &#39;Georgia\\n&#39;, &#39;Hawaii\\n&#39;, &#39;Idaho\\n&#39;, &#39;Illinois\\n&#39;, &#39;Indiana\\n&#39;, &#39;Iowa\\n&#39;, &#39;Kansas\\n&#39;, &#39;Kentucky\\n&#39;, &#39;Louisiana\\n&#39;, &#39;Maine\\n&#39;, &#39;Maryland\\n&#39;, &#39;Massachusetts\\n&#39;, &#39;Michigan\\n&#39;, &#39;Minnesota\\n&#39;, &#39;Mississippi\\n&#39;, &#39;Missouri\\n&#39;, &#39;Montana\\n&#39;, &#39;Nebraska\\n&#39;, &#39;Nevada\\n&#39;, &#39;New Hampshire\\n&#39;, &#39;New Jersey\\n&#39;, &#39;New Mexico\\n&#39;, &#39;New York\\n&#39;, &#39;North Carolina\\n&#39;, &#39;North Dakota\\n&#39;, &#39;Ohio\\n&#39;, &#39;Oklahoma\\n&#39;, &#39;Oregon\\n&#39;, &#39;Pennsylvania\\n&#39;, &#39;Rhode Island\\n&#39;, &#39;South Carolina\\n&#39;, &#39;South Dakota\\n&#39;, &#39;Tennessee\\n&#39;, &#39;Texas\\n&#39;, &#39;Utah\\n&#39;, &#39;Vermont\\n&#39;, &#39;Virginia\\n&#39;, &#39;Washington\\n&#39;, &#39;West Virginia\\n&#39;, &#39;Wisconsin\\n&#39;, &#39;Wyoming\\n&#39;, &#39;Alberta\\n&#39;, &#39;British Columbia\\n&#39;, &#39;Manitoba\\n&#39;, &#39;New Brunswick\\n&#39;, &#39;Newfoundland and Labrador\\n&#39;, &#39;Northwest Territories\\n&#39;, &#39;Nova Scotia\\n&#39;, &#39;Nunavut\\n&#39;, &#39;Ontario\\n&#39;, &#39;Prince Edward Island\\n&#39;, &#39;Quebec\\n&#39;, &#39;Saskatchewan\\n&#39;, &#39;Yukon Territories\\n&#39;, &#39;International/Other\\n&#39;, &#39;Country/Region \\n&#39;, &#39;*\\n&#39;, &#39;---Select---\\n&#39;, &#39;Afghanistan\\n&#39;, &#39;Albania\\n&#39;, &#39;Algeria\\n&#39;, &#39;Andorra\\n&#39;, &#39;Angola\\n&#39;, &#39;Antigua and Barbuda\\n&#39;, &#39;Argentina\\n&#39;, &#39;Armenia\\n&#39;, &#39;Australia\\n&#39;, &#39;Austria\\n&#39;, &#39;Azerbaijan\\n&#39;, &#39;Bahamas\\n&#39;, &#39;Bahrain\\n&#39;, &#39;Bangladesh\\n&#39;, &#39;Barbados\\n&#39;, &#39;Belarus\\n&#39;, &#39;Belgium\\n&#39;, &#39;Belize\\n&#39;, &#39;Benin\\n&#39;, &#39;Bhutan\\n&#39;, &#39;Bolivia, Plurinational State of\\n&#39;, &#39;Bonaire, Sint Eustatius and Saba\\n&#39;, &#39;Bosnia and Herzegovina\\n&#39;, &#39;Botswana\\n&#39;, &#39;Brazil\\n&#39;, &#39;Brunei Darussalam\\n&#39;, &#39;Bulgaria\\n&#39;, &#39;Burkina Faso\\n&#39;, &#39;Burundi\\n&#39;, &#39;Cambodia\\n&#39;, &#39;Cameroon\\n&#39;, &#39;Canada\\n&#39;, &#39;Cape Verde\\n&#39;, &#39;Central African Republic\\n&#39;, &#39;Chad\\n&#39;, &#39;Chile\\n&#39;, &#39;China\\n&#39;, &#39;Colombia\\n&#39;, &#39;Comoros\\n&#39;, &#39;Congo\\n&#39;, &#39;Congo, the Democratic Republic of the\\n&#39;, &#39;Costa Rica\\n&#39;, &#34;Cote d&#39;Ivoire\\n&#34;, &#39;Croatia\\n&#39;, &#39;Cuba\\n&#39;, &#39;Cyprus\\n&#39;, &#39;Czech Republic\\n&#39;, &#39;Denmark\\n&#39;, &#39;Djibouti\\n&#39;, &#39;Dominica\\n&#39;, &#39;Dominican Republic\\n&#39;, &#39;Ecuador\\n&#39;, &#39;Egypt\\n&#39;, &#39;El Salvador\\n&#39;, &#39;Equatorial Guinea\\n&#39;, &#39;Eritrea\\n&#39;, &#39;Estonia\\n&#39;, &#39;Ethiopia\\n&#39;, &#39;Fiji\\n&#39;, &#39;Finland\\n&#39;, &#39;France\\n&#39;, &#39;Gabon\\n&#39;, &#39;Gambia\\n&#39;, &#39;Georgia\\n&#39;, &#39;Germany\\n&#39;, &#39;Ghana\\n&#39;, &#39;Greece\\n&#39;, &#39;Greenland\\n&#39;, &#39;Grenada\\n&#39;, &#39;Guatemala\\n&#39;, &#39;Guinea\\n&#39;, &#39;Guinea-Bissau\\n&#39;, &#39;Guyana\\n&#39;, &#39;Haiti\\n&#39;, &#39;Honduras\\n&#39;, &#39;Hungary\\n&#39;, &#39;Iceland\\n&#39;, &#39;India\\n&#39;, &#39;Indonesia\\n&#39;, &#39;Iran, Islamic Republic of\\n&#39;, &#39;Iraq\\n&#39;, &#39;Ireland\\n&#39;, &#39;Israel\\n&#39;, &#39;Ital\n*** WARNING: skipped 8554 bytes of output ***\n\n\n</div>",
              "removedWidgets": [],
              "addedWidgets": {},
              "metadata": {},
              "type": "html",
              "arguments": {}
            }
          },
          "data": {
            "text/html": [
              "<style scoped>\n  .ansiout {\n    display: block;\n    unicode-bidi: embed;\n    white-space: pre-wrap;\n    word-wrap: break-word;\n    word-break: break-all;\n    font-family: \"Source Code Pro\", \"Menlo\", monospace;;\n    font-size: 13px;\n    color: #555;\n    margin-left: 4px;\n    line-height: 19px;\n  }\n</style>\n<div class=\"ansiout\">[&#39;Metrology\\n&#39;, &#39;3Optical Profilers\\n&#39;, &#39;Laser Interferometers\\n&#39;, &#39;Position Metrology Systems\\n&#39;, &#39;Custom Metrology Solutions\\n&#39;, &#39;Trade-in &amp; Upgrade Program\\n&#39;, &#39;Optics\\n&#39;, &#39;Optical Components Group\\n&#39;, &#39;Electro-Optics Group\\n&#39;, &#39;- Engineering &amp; Product Development\\n&#39;, &#39;- Electro-Optical Assembly\\n&#39;, &#39;- Opto-Mechanical Assembly\\n&#39;, &#39;- Turnkey System Manufacturing\\n&#39;, &#39;Markets &amp; Applications\\n&#39;, &#39;[close]\\n&#39;, &#39;\\n&#39;, &#39;By continuing to use this site, you agree to our \\n&#39;, &#39;Privacy and Cookie Policy\\n&#39;, &#39;. \\n&#39;, &#39;OK\\n&#39;, &#34;What&#39;s New at ZYGO?\\n&#34;, &#39;››\\n&#39;, &#39;News:\\n&#39;, &#39; Launches Latest Generation of ZeGage Non-Contact 3Optical Profilers\\n&#39;, &#39;››\\n&#39;, &#39;Blog:\\n&#39;, &#39; Using Grazing Incidence Interferometry to Measure Large or Non-Specular Surfaces\\n&#39;, &#39;››\\n&#39;, &#39;Blog:\\n&#39;, &#39; Process Metrology Helps Ensure Quality of Smartphone Camera Lenses\\n&#39;, &#39;››\\n&#39;, &#39;Blog:\\n&#39;, &#39; Precision Lead Angle Metrology Improves Shaft Seals and Engine Efficiency\\n&#39;, &#39;››\\n&#39;, &#39;Blog:\\n&#39;, &#39; Precision Gear Tooth Metrology Helps Automaker Silence Humming Differential\\n&#39;, &#39;››\\n&#39;, &#39;Blog:\\n&#39;, &#39; Measuring Roughness on Super-Smooth Surfaces\\n&#39;, &#39;››\\n&#39;, &#39;Blog:\\n&#39;, &#39; New Smart Setup Feature Streamlines Precision Surface Metrology\\n&#39;, &#39;››\\n&#39;, &#39;Blog:\\n&#39;, &#39; Think you know ZYGO? Check out these six surprising facts and statistics...\\n&#39;, &#39;Visit at these\\n&#39;, &#39;Upcoming Events:\\n&#39;, &#39;MD&amp;West\\n&#39;, &#39;02/05\\n&#39;, &#39;Photonics West\\n&#39;, &#39;02/05\\n&#39;, &#39;Advanced Lithography\\n&#39;, &#39;02/26\\n&#39;, &#39;Houstex\\n&#39;, &#39;02/26\\n&#39;, &#39;Defense &amp; Sensing\\n&#39;, &#39;04/16\\n&#39;, &#39;Ann. Mtg. &amp; Exhibt\\n&#39;, &#39;05/19\\n&#39;, &#39;West\\n&#39;, &#39;07/09\\n&#39;, &#39;Optics &amp; Photonics\\n&#39;, &#39;08/13\\n&#39;, &#39;Optifab\\n&#39;, &#39;10/15\\n&#39;, &#39;(Click for a complete list)\\n&#39;, &#39;Privacy and Cookie Policy\\n&#39;, &#39;Privacy Policy Inquiry Form\\n&#39;, &#39;Unsubscribe\\n&#39;, &#39;×\\n&#39;, &#39;Privacy Policy InquiryAbout Us\\n&#39;, &#39;Company Profile\\n&#39;, &#39;News Releases\\n&#39;, &#39;Trade Show Schedule\\n&#39;, &#39;Manufacturing Locations\\n&#39;, &#39;Sales/Service Offices\\n&#39;, &#39;How to Get to Patent Information\\n&#39;, &#39;Registrations\\n&#39;, &#39;Conflict Minerals Policy\\n&#39;, &#39;Privacy and Cookie Policy\\n&#39;, &#39;Terms &amp; Conditions\\n&#39;, &#34;ZYGO&#39;s booth at Photonics West\\n&#34;, &#39;Micro-Seminar in Progress\\n&#39;, &#39;free\\n&#39;, &#39;~ 2019 ~\\n&#39;, &#39;MD&amp;West\\n&#39;, &#39;Photonics West 2019 Exhibition\\n&#39;, &#39;W3 Fair+Convention 2019\\n&#39;, &#39;Advanced Lithography\\n&#39;, &#39;Houstex\\n&#39;, &#39;Defense &amp; Sensing\\n&#39;, &#39;CONTROL\\n&#39;, &#39;Annual Meeting &amp; Exhibition\\n&#39;, &#39;EUSPEN\\n&#39;, &#39;LASER\\n&#39;, &#39;West\\n&#39;, &#39;Optics &amp; Photonics\\n&#39;, &#39;Optifab 2019\\n&#39;, &#39;IMTS\\n&#39;, &#39;[close]\\n&#39;, &#39;\\n&#39;, &#39;By continuing to use this site, you agree to our \\n&#39;, &#39;Privacy and Cookie Policy\\n&#39;, &#39;. \\n&#39;, &#39;OK\\n&#39;, &#34;What&#39;s New at ZYGO?\\n&#34;, &#39;››\\n&#39;, &#39;News:\\n&#39;, &#39; Launches Latest Generation of ZeGage Non-Contact 3Optical Profilers\\n&#39;, &#39;››\\n&#39;, &#39;Blog:\\n&#39;, &#39; Using Grazing Incidence Interferometry to Measure Large or Non-Specular Surfaces\\n&#39;, &#39;››\\n&#39;, &#39;Blog:\\n&#39;, &#39; Process Metrology Helps Ensure Quality of Smartphone Camera Lenses\\n&#39;, &#39;››\\n&#39;, &#39;Blog:\\n&#39;, &#39; Precision Lead Angle Metrology Improves Shaft Seals and Engine Efficiency\\n&#39;, &#39;››\\n&#39;, &#39;Blog:\\n&#39;, &#39; Precision Gear Tooth Metrology Helps Automaker Silence Humming Differential\\n&#39;, &#39;››\\n&#39;, &#39;Blog:\\n&#39;, &#39; Measuring Roughness on Super-Smooth Surfaces\\n&#39;, &#39;››\\n&#39;, &#39;Blog:\\n&#39;, &#39; New Smart Setup Feature Streamlines Precision Surface Metrology\\n&#39;, &#39;››\\n&#39;, &#39;Blog:\\n&#39;, &#39; Think you know ZYGO? Check out these six surprising facts and statistics...\\n&#39;, &#39;Visit at these\\n&#39;, &#39;Upcoming Events:\\n&#39;, &#39;MD&amp;West\\n&#39;, &#39;02/05\\n&#39;, &#39;Photonics West\\n&#39;, &#39;02/05\\n&#39;, &#39;Advanced Lithography\\n&#39;, &#39;02/26\\n&#39;, &#39;Houstex\\n&#39;, &#39;02/26\\n&#39;, &#39;Defense &amp; Sensing\\n&#39;, &#39;04/16\\n&#39;, &#39;Ann. Mtg. &amp; Exhibt\\n&#39;, &#39;05/19\\n&#39;, &#39;West\\n&#39;, &#39;07/09\\n&#39;, &#39;Optics &amp; Photonics\\n&#39;, &#39;08/13\\n&#39;, &#39;Optifab\\n&#39;, &#39;10/15\\n&#39;, &#39;(Click for a complete list)\\n&#39;, &#39;Privacy and Cookie Policy\\n&#39;, &#39;Privacy Policy Inquiry Form\\n&#39;, &#39;Unsubscribe\\n&#39;, &#39;×\\n&#39;, &#39;Privacy Policy InquiryOptical Surface Profilers\\n&#39;, &#39;Products\\n&#39;, &#39;3Optical Profilers\\n&#39;, &#39;Laser Interferometers\\n&#39;, &#39;Position Metrology Systems\\n&#39;, &#39;Custom Metrology Solutions\\n&#39;, &#39;Trade-in &amp; Upgrade Program\\n&#39;, &#39;Optical Surface Profilers\\n&#39;, &#39;ZeGage™ Pro\\xa0 \\n&#39;, &#39;New!\\n&#39;, &#39;NewView™ 9000\\n&#39;, &#39;Nexview™NX2\\n&#39;, &#39;Nomad™\\n&#39;, &#39;Compass™\\n&#39;, &#39;APM650™\\n&#39;, &#39;Mx™ Software\\n&#39;, &#39;Profiler Objectives\\n&#39;, &#39;Optical Profiler Basics\\n&#39;, &#39;Surface Roughness Measurement\\n&#39;, &#39;Surface Profiling\\n&#39;, &#39;3Optical Microscopy\\n&#39;, &#39;3Interference Microscopy\\n&#39;, &#34;ZYGO&#39;s 3Optical Profiler instruments enable precise, quantitative, ISO-compliant, \\n&#34;, &#39;non-contact\\n&#39;, &#39; surface measurement and characterization of micro- and nano-scale surface features, capturing \\n&#39;, &#39;up to two million data points\\n&#39;, &#39;in just seconds\\n&#39;, &#34;. Choosing the right optical profiler system depends on your application&#39;s requirements, including speed, precision, vertical range, automation, and flexibility.\\n&#34;, &#39;Our 3Optical Profiler instruments achieve best in class performance through advanced, patented, and differentiated technologies with superior speed, precision, resolution, and application versatility all in a single metrology instrument.\\n&#39;, &#34;With multiple configurations that range from simple to use benchtop systems to advanced fully automated platforms, ZYGO&#39;s optical profilers have proven themselves in installations that range from R&amp;and standards laboratories to industrial process control workstations to in-line metrology solutions.\\n&#34;, &#39;Regardless of the installation type, our systems provide leading performance for optical measurements of surface structure and texture across varying surface scales and offer hundreds of reportable parameters, including areal surface roughness to 25178 standards as well as 2profile standards, 4287/4288.\\n&#39;, &#34;How Does ZYGO&#39;s Technology Compare?  What Are Some Of The Key Advantages?\\n&#34;, &#39;Our instruments include several advantages based on the core technology employed, system-level features and options, software functionality, and many others.  For simplicity, we have compared our CSI-technology to two of the most common alternative optical technologies (confocal, focus variation). Highlighted below are just some of the key attributes and advantages.\\n&#39;, &#39;• Higher speed\\n&#39;, &#39;• Superior Z-resolution (independent of magnification)\\n&#39;, &#39;• Wider magnification/range\\n&#39;, &#39;• Capable of measuring super-smooth to rough surfaces\\n&#39;, &#39;What Are Some Of the Main Markets and Applications?\\n&#39;, &#39;• Automotive &amp; Precision Machining\\n&#39;, &#39;• Micro-manufacturing &amp; Nanotechnology\\n&#39;, &#39;• Consumer Electronics &amp; Displays\\n&#39;, &#39;• Optics &amp; Photonics\\n&#39;, &#39;• Aerospace &amp; Defense\\n&#39;, &#39;\\xa0ZeGage\\n&#39;, &#39;™\\n&#39;, &#39;STANDARD\\n&#39;, &#39;PERFORMANCE\\n&#39;, &#39;DESIGN\\n&#39;, &#39;ROBUST\\n&#39;, &#39;PERFORMANCE\\n&#39;, &#39;USE,\\n&#39;, &#39;ENTRY-LEVEL\\n&#39;, &#39;BENCH-SYSTEM\\n&#39;, &#39;RIGHT\\n&#39;, &#39;FLOOR!\\n&#39;, &#39;\\xa0NewView\\n&#39;, &#39;™\\n&#39;, &#39;HIGH\\n&#39;, &#39;PERFORMANCE\\n&#39;, &#39;PERFORMANCE, FLEXIBILITY, AND\\n&#39;, &#39;VALUE\\n&#39;, &#39;FOR\\n&#39;, &#39;OF\\n&#39;, &#39;APPLICATIONS\\n&#39;, &#39;TO\\n&#39;, &#39;NEEDS!\\n&#39;, &#39;\\xa0Nexview\\n&#39;, &#39;™\\n&#39;, &#39;ULTRA\\n&#39;, &#39;PERFORMANCE\\n&#39;, &#39;INDUSTRY-LEADING\\n&#39;, &#39;SPEED, PRECISION\\n&#39;, &#39;AUTOMATION\\n&#39;, &#39;THE\\n&#39;, &#39;DEMANDING\\n&#39;, &#39;APPLICATIONS\\n&#39;, &#39;–\\n&#39;, &#39;FAST!\\n&#39;, &#39;Specialty Models\\n&#39;, &#39;\\n&#39;, &#39;In addition to the standard configurations, we have specialty models that apply in a package tailored for specific applications which include:\\n&#39;, &#39;Compass\\n&#39;, &#34;™ – For applications that require complete characterization of micro lenses and their alignment features, ZYGO&#39;s Compass™ system provides full surface, non-contact, 3mapping of surface form and deviation, topography, and relational/dimensional metrology of spherical or aspherical lenses and molds with sub-nanometer height precision, and millions of data points.\\n&#34;, &#39;Nomad\\n&#39;, &#39;™ – The Nomad™ portable optical profiler is the ideal solution for measuring surfaces that are too large for the measurement stage of a conventional workstation profiler. As with our other optical profilers, the Nomad portable profiler has sub-nanometer measurement precision that is independent of field magnification.\\n&#39;, &#39;APM650\\n&#39;, &#39;™ – The APM650™ packaging metrology system provides automated measurement of panel-based PCBs and other advanced packaging applications. It provides both 2&amp; 3measurements with sub-nanometer vertical precision and sub-micron lateral precision. The APM650 system features a large X/stage which accommodates panels up to 650\\xa0x\\xa0650\\xa0mm.\\n&#39;, &#39;\\n&#39;, &#39;Profiler Objectives\\n&#39;, &#39;Optical profiler objectives, mounted on a turret\\n&#39;, &#39;\\n&#39;, &#39;The performance and capability of any optical profiler is largely dependent on the lens \\n&#39;, &#39;objectives\\n&#39;, &#39; it uses. Objectives determine the magnification, working distance, slope capability, and field of view of the profiler, so choosing the right \\n&#39;, &#39;objective\\n&#39;, &#39;(s) is very important to achieving your metrology goals.\\n&#39;, &#39;The wide range of \\n&#39;, &#39;objectives\\n&#39;, &#39; offers for its \\n&#39;, &#39;optical profilers\\n&#39;, &#39; is \\n&#39;, &#39;unmatched in the industry\\n&#39;, &#39;, and is continually growing. All \\n&#39;, &#39;objectives\\n&#39;, &#39; are designed and manufactured \\n&#39;, &#39;in-house\\n&#39;, &#39;, ensuring top-quality objectives that are ideally suited for use in our profilers. This capability is unique to ZYGO.\\n&#39;, &#39;\\n&#39;, &#39;specialty objectives\\n&#39;, &#39; for long working distances, wide field of view, and the ability to measure \\n&#39;, &#39;thin films\\n&#39;, &#39; and surfaces that are under a transparent surface. Download the \\n&#39;, &#39;objectives selection chart\\n&#39;, &#39; (PDF) to see our full lineup of \\n&#39;, &#39;objectives\\n&#39;, &#39;Inquiry Form\\n&#39;, &#39;\\n&#39;, &#34;Please use the form below to contact us with any questions you have regarding ZYGO&#39;s \\n&#34;, &#39;Optical Profiler\\n&#39;, &#39; systems, or \\n&#39;, &#39;surface profiling\\n&#39;, &#39;First Name \\n&#39;, &#39;*\\n&#39;, &#39;Last Name \\n&#39;, &#39;*\\n&#39;, &#39;Phone Number\\n&#39;, &#39;E-mail Address \\n&#39;, &#39;*\\n&#39;, &#39;Company or Organization \\n&#39;, &#39;*\\n&#39;, &#39;Job Title or Function \\n&#39;, &#39;*\\n&#39;, &#39;Street Address\\n&#39;, &#39;City\\n&#39;, &#39;State/Province\\xa0\\n&#39;, &#39;*\\n&#39;, &#39;Zip/Postal Code\\n&#39;, &#39;---Select---\\n&#39;, &#39;Alabama\\n&#39;, &#39;Alaska\\n&#39;, &#39;Arizona\\n&#39;, &#39;Arkansas\\n&#39;, &#39;California\\n&#39;, &#39;Colorado\\n&#39;, &#39;Connecticut\\n&#39;, &#39;Delaware\\n&#39;, &#39;District of Columbia\\n&#39;, &#39;Florida\\n&#39;, &#39;Georgia\\n&#39;, &#39;Hawaii\\n&#39;, &#39;Idaho\\n&#39;, &#39;Illinois\\n&#39;, &#39;Indiana\\n&#39;, &#39;Iowa\\n&#39;, &#39;Kansas\\n&#39;, &#39;Kentucky\\n&#39;, &#39;Louisiana\\n&#39;, &#39;Maine\\n&#39;, &#39;Maryland\\n&#39;, &#39;Massachusetts\\n&#39;, &#39;Michigan\\n&#39;, &#39;Minnesota\\n&#39;, &#39;Mississippi\\n&#39;, &#39;Missouri\\n&#39;, &#39;Montana\\n&#39;, &#39;Nebraska\\n&#39;, &#39;Nevada\\n&#39;, &#39;New Hampshire\\n&#39;, &#39;New Jersey\\n&#39;, &#39;New Mexico\\n&#39;, &#39;New York\\n&#39;, &#39;North Carolina\\n&#39;, &#39;North Dakota\\n&#39;, &#39;Ohio\\n&#39;, &#39;Oklahoma\\n&#39;, &#39;Oregon\\n&#39;, &#39;Pennsylvania\\n&#39;, &#39;Rhode Island\\n&#39;, &#39;South Carolina\\n&#39;, &#39;South Dakota\\n&#39;, &#39;Tennessee\\n&#39;, &#39;Texas\\n&#39;, &#39;Utah\\n&#39;, &#39;Vermont\\n&#39;, &#39;Virginia\\n&#39;, &#39;Washington\\n&#39;, &#39;West Virginia\\n&#39;, &#39;Wisconsin\\n&#39;, &#39;Wyoming\\n&#39;, &#39;Alberta\\n&#39;, &#39;British Columbia\\n&#39;, &#39;Manitoba\\n&#39;, &#39;New Brunswick\\n&#39;, &#39;Newfoundland and Labrador\\n&#39;, &#39;Northwest Territories\\n&#39;, &#39;Nova Scotia\\n&#39;, &#39;Nunavut\\n&#39;, &#39;Ontario\\n&#39;, &#39;Prince Edward Island\\n&#39;, &#39;Quebec\\n&#39;, &#39;Saskatchewan\\n&#39;, &#39;Yukon Territories\\n&#39;, &#39;International/Other\\n&#39;, &#39;Country/Region \\n&#39;, &#39;*\\n&#39;, &#39;---Select---\\n&#39;, &#39;Afghanistan\\n&#39;, &#39;Albania\\n&#39;, &#39;Algeria\\n&#39;, &#39;Andorra\\n&#39;, &#39;Angola\\n&#39;, &#39;Antigua and Barbuda\\n&#39;, &#39;Argentina\\n&#39;, &#39;Armenia\\n&#39;, &#39;Australia\\n&#39;, &#39;Austria\\n&#39;, &#39;Azerbaijan\\n&#39;, &#39;Bahamas\\n&#39;, &#39;Bahrain\\n&#39;, &#39;Bangladesh\\n&#39;, &#39;Barbados\\n&#39;, &#39;Belarus\\n&#39;, &#39;Belgium\\n&#39;, &#39;Belize\\n&#39;, &#39;Benin\\n&#39;, &#39;Bhutan\\n&#39;, &#39;Bolivia, Plurinational State of\\n&#39;, &#39;Bonaire, Sint Eustatius and Saba\\n&#39;, &#39;Bosnia and Herzegovina\\n&#39;, &#39;Botswana\\n&#39;, &#39;Brazil\\n&#39;, &#39;Brunei Darussalam\\n&#39;, &#39;Bulgaria\\n&#39;, &#39;Burkina Faso\\n&#39;, &#39;Burundi\\n&#39;, &#39;Cambodia\\n&#39;, &#39;Cameroon\\n&#39;, &#39;Canada\\n&#39;, &#39;Cape Verde\\n&#39;, &#39;Central African Republic\\n&#39;, &#39;Chad\\n&#39;, &#39;Chile\\n&#39;, &#39;China\\n&#39;, &#39;Colombia\\n&#39;, &#39;Comoros\\n&#39;, &#39;Congo\\n&#39;, &#39;Congo, the Democratic Republic of the\\n&#39;, &#39;Costa Rica\\n&#39;, &#34;Cote d&#39;Ivoire\\n&#34;, &#39;Croatia\\n&#39;, &#39;Cuba\\n&#39;, &#39;Cyprus\\n&#39;, &#39;Czech Republic\\n&#39;, &#39;Denmark\\n&#39;, &#39;Djibouti\\n&#39;, &#39;Dominica\\n&#39;, &#39;Dominican Republic\\n&#39;, &#39;Ecuador\\n&#39;, &#39;Egypt\\n&#39;, &#39;El Salvador\\n&#39;, &#39;Equatorial Guinea\\n&#39;, &#39;Eritrea\\n&#39;, &#39;Estonia\\n&#39;, &#39;Ethiopia\\n&#39;, &#39;Fiji\\n&#39;, &#39;Finland\\n&#39;, &#39;France\\n&#39;, &#39;Gabon\\n&#39;, &#39;Gambia\\n&#39;, &#39;Georgia\\n&#39;, &#39;Germany\\n&#39;, &#39;Ghana\\n&#39;, &#39;Greece\\n&#39;, &#39;Greenland\\n&#39;, &#39;Grenada\\n&#39;, &#39;Guatemala\\n&#39;, &#39;Guinea\\n&#39;, &#39;Guinea-Bissau\\n&#39;, &#39;Guyana\\n&#39;, &#39;Haiti\\n&#39;, &#39;Honduras\\n&#39;, &#39;Hungary\\n&#39;, &#39;Iceland\\n&#39;, &#39;India\\n&#39;, &#39;Indonesia\\n&#39;, &#39;Iran, Islamic Republic of\\n&#39;, &#39;Iraq\\n&#39;, &#39;Ireland\\n&#39;, &#39;Israel\\n&#39;, &#39;Italy\\n&#39;, &#39;Jamaica\\n&#39;, &#39;Japan\\n&#39;, &#39;Jordan\\n&#39;, &#39;Kazakhstan\\n&#39;, &#39;Kenya\\n&#39;, &#39;Kiribati\\n&#39;, &#34;Korea, Democratic People&#39;s Republic of\\n&#34;, &#39;Korea, Republic of\\n&#39;, &#39;Kuwait\\n&#39;, &#39;Kyrgyzstan\\n&#39;, &#34;Lao People&#39;s Democratic Republic\\n&#34;, &#39;Lebanon\\n&#39;, &#39;Lesotho\\n&#39;, &#39;Liberia\\n&#39;, &#39;Libya\\n&#39;, &#39;Liechtenstein\\n&#39;, &#39;Lithuania\\n&#39;, &#39;Luxembourg\\n&#39;, &#39;Madagascar\\n&#39;, &#39;Malawi\\n&#39;, &#39;Malaysia\\n&#39;, &#39;Maldives\\n&#39;, &#39;Mali\\n&#39;, &#39;Mauritania\\n&#39;, &#39;Mauritius\\n&#39;, &#39;Mexico\\n&#39;, &#39;Moldova, Republic of\\n&#39;, &#39;Monaco\\n&#39;, &#39;Mongolia\\n&#39;, &#39;Montenegro\\n&#39;, &#39;Morocco\\n&#39;, &#39;Mozambique\\n&#39;, &#39;Myanmar\\n&#39;, &#39;Namibia\\n&#39;, &#39;Nauru\\n&#39;, &#39;Nepal\\n&#39;, &#39;Netherlands\\n&#39;, &#39;New Zealand\\n&#39;, &#39;Nicaragua\\n&#39;, &#39;Niger\\n&#39;, &#39;Nigeria\\n&#39;, &#39;Norway\\n&#39;, &#39;Oman\\n&#39;, &#39;Pakistan\\n&#39;, &#39;Palestine\\n&#39;, &#39;Panama\\n&#39;, &#39;Papua New Guinea\\n&#39;, &#39;Paraguay\\n&#39;, &#39;Peru\\n&#39;, &#39;Philippines\\n&#39;, &#39;Poland\\n&#39;, &#39;Portugal\\n&#39;, &#39;Qatar\\n&#39;, &#39;Romania\\n&#39;, &#39;Russian Federation\\n&#39;, &#39;Rwanda\\n&#39;, &#39;Saint Helena, Ascension and Tristan da Cunha\\n&#39;, &#39;Saint Kitts and Nevis\\n&#39;, &#39;Saint Lucia\\n&#39;, &#39;Saint Vincent and the Grenadines\\n&#39;, &#39;Samoa\\n&#39;, &#39;San Marino\\n&#39;, &#39;Sao Tome and Principe\\n&#39;, &#39;Saudi Arabia\\n&#39;, &#39;Senegal\\n&#39;, &#39;Serbia\\n&#39;, &#39;Sierra Leone\\n&#39;, &#39;Singapore\\n&#39;, &#39;Slovakia\\n&#39;, &#39;Slovenia\\n&#39;, &#39;Solomon Islands\\n&#39;, &#39;Somalia\\n&#39;, &#39;South Africa\\n&#39;, &#39;South Sudan\\n&#39;, &#39;Spain\\n&#39;, &#39;Sri Lanka\\n&#39;, &#39;Sudan\\n&#39;, &#39;Suriname\\n&#39;, &#39;Swaziland\\n&#39;, &#39;Sweden\\n&#39;, &#39;Switzerland\\n&#39;, &#39;Syrian Arab Republic\\n&#39;, &#39;Taiwan (R.O.C.)\\n&#39;, &#39;Tajikistan\\n&#39;, &#39;Tanzania, United Republic of\\n&#39;, &#39;Thailand\\n&#39;, &#39;Timor-Leste\\n&#39;, &#39;Togo\\n&#39;, &#39;Tonga\\n&#39;, &#39;Trinidad and Tobago\\n&#39;, &#39;Tunisia\\n&#39;, &#39;Turkey\\n&#39;, &#39;Turkmenistan\\n&#39;, &#39;Tuvalu\\n&#39;, &#39;Uganda\\n&#39;, &#39;Ukraine\\n&#39;, &#39;United Arab Emirates\\n&#39;, &#39;United Kingdom\\n&#39;, &#39;United States\\n&#39;, &#39;Uruguay\\n&#39;, &#39;Uzbekistan\\n&#39;, &#39;Vanuatu\\n&#39;, &#39;Venezuela, Bolivarian Republic of\\n&#39;, &#39;Viet Nam\\n&#39;, &#39;Wallis and Futuna\\n&#39;, &#39;Yemen\\n&#39;, &#39;Zambia\\n&#39;, &#39;Zimbabwe\\n&#39;, &#39;\\xa0 Check this box to provide consent for to contact you in the future. **\\n&#39;, &#39;\\n&#39;, &#39;Please indicate your level of interest... \\n&#39;, &#39;*\\n&#39;, &#39;*\\n&#39;, &#39; Required entries\\n&#39;, &#39;Note:\\n&#39;, &#39;[close]\\n&#39;, &#39;\\n&#39;, &#39;By continuing to use this site, you agree to our \\n&#39;, &#39;Privacy and Cookie Policy\\n&#39;, &#39;. \\n&#39;, &#39;OK\\n&#39;, &#39;Brochures \\n&#39;, &#39;Brochures \\n&#39;, &#39;Nexview™ NX2\\n&#39;, &#39;NewView™ 9000\\n&#39;, &#39;ZeGage™ Pro\\n&#39;, &#39;Compass™\\n&#39;, &#39;Advanced 3Films Analysis\\n&#39;, &#39;Optical Profiler Accessory Guide\\n&#39;, &#39;Spec Sheets \\n&#39;, &#39;Spec Sheets \\n&#39;, &#39;Nexview™ NX2\\n&#39;, &#39;NewView™ 9000\\n&#39;, &#39;ZeGage™ Pro\\n&#39;, &#39;ZeGage™ Pro HR\\n&#39;, &#39;Compass™\\n&#39;, &#39;Nexview™\\xa0NX2, NewView™\\xa09000, ZeGage™\\xa0Pro Objectives\\n&#39;, &#39;Nexview™, NewView™ 8000, ZeGage Objective Chart\\n&#39;, &#39;Technical Papers \\n&#39;, &#39;Technical Papers \\n&#39;, &#39;Applications of model-based transparent surface films analysis using coherence scanning interferometry\\n&#39;, &#39;Limits to Resolution in Optical Dimension Metrology\\n&#39;, &#39;Using Coherence Scanning Interferometry to Measure High-Slope Parts\\n&#39;, &#39;Using Coherence Scanning Interferometry for Model-based Transparent Surface Films Analysis\\n&#39;, &#39;Measuring the Form of Highly Sloped Surfaces using Optical Profiling\\n&#39;, &#39;Show All 57 Items \\n&#39;, &#39;Show Only First Five \\n&#39;, &#39;The Meaning and Measure of Vertical Resolution in Optical Surface Topography Measurement\\n&#39;, &#39;Interference microscope objectives for wide-field areal surface topography measurements\\n&#39;, &#39;The meaning and measure of vertical resolution in surface metrology\\n&#39;, &#39;Interference Microscopy for Surface Structure Analysis (book chapter)\\n&#39;, &#39;Advances in optical metrology\\n&#39;, &#39;new class of wide-field objectives for 3interference microscopy\\n&#39;, &#39;Calibration of the amplification coefficient in interference microscopy by means of a wavelength standard\\n&#39;, &#39;The standards rash - is there a cure?\\n&#39;, &#39;Measuring high-slope parts using coherence scanning interferometry\\n&#39;, &#39;Principles of interference microscopy for the measurement of surface topography\\n&#39;, &#39;Wide-Field Interference Microscopy for Areal Topography of Precision Engineered Surface\\n&#39;, &#39;The state of the art in interference microscopy: Modern techniques for geometric form, surface texture and areal structure analysis\\n&#39;, &#39;Measuring High-Slope and Super-Smooth Optics with High Dynamic Range Coherence Scanning Interferometry\\n&#39;, &#39;High Slope Metrology with Non-Contact Interferometry\\n&#39;, &#39;Progress in the specification of optical instruments for the measurement of surface form and texture\\n&#39;, &#39;Interference Microscopy for Clean Air - How Optical Metrology Is Improving Quality Control of Fuel Injection Systems\\n&#39;, &#39;Scanning White-Light Interferometry Fingerprints the Polishing Process\\n&#39;, &#39;Understanding Surface Texture Parameters\\n&#39;, &#39;Lateral resolution and instrument transfer function as criteria for selecting surface metrology instruments\\n&#39;, &#39;The Expanding Role of Optical Metrology in Precision Engineering\\n&#39;, &#39;The Meaning and Measure of Lateral Resolution for Surface Profiling Interferometers\\n&#39;, &#39;Coherence scanning interferometry (book chapter)\\n&#39;, &#39;Phase Shifting Interferometry (book chapter)\\n&#39;, &#39;Non-Contact Glass Testing\\n&#39;, &#39;Design of error-compensating algorithms for sinusoidal phase shifting interferometry\\n&#39;, &#39;Model-based white light interference microscopy for metrology of transparent film stacks and optically-unresolved structures\\n&#39;, &#39;Suppressing phase errors from vibration in phase-shifting interferometry\\n&#39;, &#39;Transparent film profiling and analysis by interference microscopy\\n&#39;, &#39;Characterization of materials and film stacks for accurate surface topography measurement using a white-light optical profiler\\n&#39;, &#39;Metrology of optically-unresolved features using interferometric surface profiling and modeling\\n&#39;, &#39;Angle-resolved three-dimensional analysis of surface films by coherence scanning interferometry\\n&#39;, &#39;Stroboscopic white-light interference microscopy\\n&#39;, &#39;Generating fringe-free images from phase-shifted interferometry data\\n&#39;, &#39;Optical Topography Measurement of Patterned Wafers\\n&#39;, &#39;Signal modeling for low-coherence height-scanning interference microscopy\\n&#39;, &#39;Static and dynamic characterization of and devices using optical interference microscopy\\n&#39;, &#39;Valve cone measurement using white light interference microscopy in a spherical measurement geometry\\n&#39;, &#39;Determination of fringe order in white-light interference microscopy\\n&#39;, &#39;Optical interferometry for measurement of the geometric dimensions of industrial parts\\n&#39;, &#39;Step height measurements using a combination of a laser displacement gage and a broadband interferometric surface profiler\\n&#39;, &#39;Optical properties of alumina titanium carbide sliders used in rigid disk drives\\n&#39;, &#39;Determining the optical constants of read-write sliders during flying-height testing\\n&#39;, &#39;Scanning Interferometer Characterizes Surfaces\\n&#39;, &#39;Vibration in phase shifting interferometry\\n&#39;, &#39;High-speed non-contact profiler based on scanning white light interferometry\\n&#39;, &#39;Determination of the phase change on reflection from two-beam interference\\n&#39;, &#39;Surface profiling by frequency-domain analysis of white-light interferograms\\n&#39;, &#39;Three-dimensional imaging by sub-Nyquist sampling of white-light interferograms\\n&#39;, &#39;What is Frequency Domain Analysis?\\n&#39;, &#39;Interferometric microscope with true color imaging\\n&#39;, &#39;Evaluation of the measurement performance of a coherence scanning microscope using roughness specimens\\n&#39;, &#39;Contact Today\\n&#39;, &#39;››\\n&#39;, &#39;News:\\n&#39;, &#39; Launches Latest Generation of ZeGage Non-Contact 3Optical Profilers\\n&#39;, &#39;››\\n&#39;, &#39;Blog:\\n&#39;, &#39; Using Grazing Incidence Interferometry to Measure Large or Non-Specular Surfaces\\n&#39;, &#39;››\\n&#39;, &#39;Blog:\\n&#39;, &#39; Process Metrology Helps Ensure Quality of Smartphone Camera Lenses\\n&#39;, &#39;››\\n&#39;, &#39;Blog:\\n&#39;, &#39; Precision Lead Angle Metrology Improves Shaft Seals and Engine Efficiency\\n&#39;, &#39;››\\n&#39;, &#39;Blog:\\n&#39;, &#39; Precision Gear Tooth Metrology Helps Automaker Silence Humming Differential\\n&#39;, &#39;››\\n&#39;, &#39;Blog:\\n&#39;, &#39; Measuring Roughness on Super-Smooth Surfaces\\n&#39;, &#39;››\\n&#39;, &#39;Blog:\\n&#39;, &#39; New Smart Setup Feature Streamlines Precision Surface Metrology\\n&#39;, &#39;››\\n&#39;, &#39;Blog:\\n&#39;, &#39; Think you know ZYGO? Check out these six surprising facts and statistics...\\n&#39;, &#39;Privacy and Cookie Policy\\n&#39;, &#39;Privacy Policy Inquiry Form\\n&#39;, &#39;Unsubscribe\\n&#39;, &#39;×\\n&#39;, &#39;Privacy Policy InquiryProducts\\n&#39;, &#39;Markets\\n&#39;, &#39;Applications\\n&#39;, &#39;Support\\n&#39;, &#39;Form, Waviness, Roughness\\n&#39;, &#39;Patent Information\\n&#39;, &#39;Registrations\\n&#39;, &#39;Launches Latest Generation of ZeGage Non-Contact 3Optical Profilers\\n&#39;, &#39;Middlefield, – has announced the introduction of its latest generation of ZeGage™ 3optical profiling instruments providing precise and rapid non-contact measurement of surface topography for enhanced quality and process control.\\n&#39;, &#34;The two new models, ZeGage Pro and ZeGage Pro , offer up to 2improvement in data points, a 50% larger maximum field of view, and increased measurement speed with simplified setup.  The ZeGage Pro systems maintain a small footprint, with versatile performance and ease of use. The new system&#39;s time-saving large field-of-view, combined with optional automated part staging, allows larger components to be measured quickly and easily in most environments.\\n&#34;, &#34;At the core of the ZeGage Pro 3optical profiler is ZYGO&#39;s Mx™ software platform.   This comprehensive user-friendly control and analysis platform supports a broad range of surface metrology applications and data analyses. The rich suite of features includes results compliant with 25178 and 4287, image stitching, and automated measurement patterns.  The ZeGage Pro profilers now expand this offering with unique features that simplify operation and minimize operator variability, such as ZYGO&#39;s exclusive fast focus, Part Finder and Smart Setup tools.\\n&#34;, &#39;Commenting on the launch of the ZeGage Pro and ZeGage Pro profilers , Eric Felkel, Product Manager of Optical Profilers at said, &#34;Our latest generation of ZeGage profilers represents a new class of non-contact surface measurement system, while complementing our existing portfolio of metrology products .  It integrates our industry-leading and differentiated Coherence Scanning Interferometry (CSI) technology into a compact system, delivering fast and flexible results to meet the most stringent QC/requirements.   &#34;The ZeGage Pro sets a new benchmark for high value, easy-to-use, non-contact metrology tools that deliver precision on the production floor, without the need for expensive vibration isolation systems or consumables,&#34; he added.\\n&#39;, &#39;Summary of Main Features:\\n&#39;, &#39;• Large format imaging sensor yields 1.9 million data points – a 50% increase in field of view and 2more data points compared to the previous generation\\n&#39;, &#39;• SureScan™ technology reduces vibration sensitivity, providing greater flexibility in locating the instrument within a facility\\n&#39;, &#39;• Improved data acquisition and speed;  &gt;1.5faster than the previous generation\\n&#39;, &#39;• Higher sensitivity and dynamic range for reliable and precise metrology on challenging surfaces (e.g. high slopes , low reflectivity, rough texture)\\n&#39;, &#39;• Innovative and intuitive Mx™ software with &#34;smart&#34; features for enhanced ease-of-use, automation and productivity\\n&#39;, &#39;[close]Form, Waviness, Roughness\\n&#39;, &#39;Patent Information\\n&#39;, &#39;Registrations\\n&#39;, &#39;Privacy and Cookie Policy Last modified: May 3, 2018\\n&#39;, &#39;Please read this policy carefully.  By visiting this website, you acknowledge and agree to the practices described in this policy, except where your specific consent is requested.  This Privacy Policy, and the Legal Notices listed on this website, which may be updated from time to time, describes our collection, use and disclosure of personal and non-personal information collected through this website or in the course of our business activities.\\n&#39;, &#39;For the purposes of applicable data protection law, we, the business unit for this website, are the controller of any personal information collected from you on this website or otherwise for conducting or developing our business with you.\\n&#39;, &#39;Information We Collect Automatically\\n&#39;, &#39;When you visit this website, our server automatically collects certain browser or device generated information, including but not limited to your:\\n&#39;, &#39;domain;\\n&#39;, &#39;browser type;\\n&#39;, &#39;page visits.\\n&#39;, &#39;We do not use this automatically collected information to try to identify you, however, we may associate it with the information you provide voluntarily, as detailed below.\\n&#39;, &#39;Information You Provide\\n&#39;, &#39;In using this website, conducting business with us or seeking to conduct business with us, you may voluntarily provide personal information to us in the following ways:\\n&#39;, &#34;by filling in forms (for example, a &#39;Contact Us&#39; form), on our website or at a trade show or anywhere else we conduct business;\\n&#34;, &#39;by downloading documentation from our website;\\n&#39;, &#39;by subscribing to newsletters or other communications;\\n&#39;, &#39;by corresponding with us by phone, e-mail or otherwise using our contact details; or\\n&#39;, &#39;by applying for a job, work placement or internship.\\n&#39;, &#39;Typically, the personal information you give us may include your name, company name, address, e-mail address, phone number, and any personal details required to resolve any enquiries or complaints.  This information is required to enter into a contract with you (such as in anticipation of an employment contract or a purchase agreement or the provision of services such as the download of information from our website) and failure to provide any information may result in our inability to provide requested services or products or consider your application for employment.\\n&#39;, &#39;Information We Obtain from Third Parties\\n&#39;, &#39;We may also obtain information about you and the company you work for from third parties, including social media and data augmentation services.\\n&#39;, &#39;Cookies\\n&#39;, &#34;cookie is a small file that can be placed on your device&#39;s hard drive or on a website server.   We use cookies to obtain some of the automatically collected information described above. Most browsers automatically collect cookies, but you do not have to accept a cookie, and you can in fact modify your browser so that it will not accept cookies. For more information about cookies including how to set your internet browser to reject cookies please go to allaboutcookies.org .\\n&#34;, &#39;By continuing to use this website, following display of our pop-up cookie notification banner, you agree to our use of cookies.\\n&#39;, &#39;Different types of cookies are used for different purposes on our website, these are known as: strictly necessary cookies, performance cookies, and functionality cookies. Some cookies may be provided by an external third party to provide additional functionality to our website and these are included below.\\n&#39;, &#39;Strictly necessary cookies\\n&#39;, &#39;These are cookies that are essential to fulfil an action requested by you, such as identifying you as being logged in. If you prevent these cookies by adjusting your browser settings, we cannot guarantee how our website will perform during your visit.\\n&#39;, &#39;Performance cookies\\n&#39;, &#39;These are cookies used to improve our website, for example for analytics that let us see how our website is being used and where to make improvements. These cookies are used to collect information about how visitors use our website. The information is collected in an anonymous form and includes the number of visitors, where visitors have come from to the websites and the pages they visited.\\n&#39;, &#39;Functionality cookies\\n&#39;, &#34;These cookies enhance the performance and functionality of our website, often as a result of something you&#39;re doing as a user. For instance, we may personalize our content for you or remember your preferences.\\n&#34;, &#39;Managing and Deleting Cookies\\n&#39;, &#39;If you want to manage cookies, you can do so from your browser. You can find out how to do this by going to the help menu in your browser. Please see allaboutcookies.org for further information.\\n&#39;, &#39;Use of Personal Information\\n&#39;, &#39;The following is an overview of our purposes for using your personal information.  Please remember that additional details on how we process your personal information may be provided to you in a separate notice or contract.    All processing (i.e. use) of your personal information is justified by a &#34;condition&#34; for processing. In the majority of cases, processing will be justified on the basis that:\\n&#39;, &#39;you have consented to the processing;\\n&#39;, &#39;the processing is necessary to perform a contract with you or take steps to enter into a contract;\\n&#39;, &#39;the processing is necessary for us to comply with a relevant legal obligation; or\\n&#39;, &#39;the processing is in our legitimate interests, subject to your interests and fundamental rights, and notably our legitimate interest in using suppler, customer and website user data to conduct and develop our business activities with them and with others.\\n&#39;, &#39;We use the personal information we collect to:\\n&#39;, &#39;conduct and develop our business with you and with others;\\n&#39;, &#39;improve our website, and our products and services generally;\\n&#39;, &#34;customize our website to users&#39; needs;\\n&#34;, &#39;provide you with documentation or communications which you have requested;\\n&#39;, &#39;correspond with users to resolve their queries or complaints;\\n&#39;, &#39;manage a recruitment, work placement or internship process, including considering applications and making offers;\\n&#39;, &#39;provide you with any services or products you request; and\\n&#39;, &#39;send you marketing communications, where it is lawful for us to do so.\\n&#39;, &#39;Disclosure of Personal Information\\n&#39;, &#39;We are part of a global  group of companies, and from time to time it will be necessary to share your information with our affiliated businesses. We may also appoint third party service providers (who will operate under our instructions) to assist us in providing information, products or services to you, in conducting and managing our business, or in managing and improving this website, and these third parties may need access to your information.\\n&#39;, &#39;If your personal information is transferred outside the to other group companies or to service providers, we will take steps to ensure that your information receives the same level of protection as if it remained within the EEA, including by entering into data transfer agreements, using the Commission approved Standard Contractual Clauses, or by relying on certification schemes such as the - Privacy Shield.  For transfers to other group companies in the United States (a country that has not received a decision from the Commission determining that the United States provides adequate protection to personal information), we have put in place Commission approved Standard Contractual Clauses, which protect personal information transferred between group companies.  You have a right to obtain details of the mechanism under which your information is transferred outside of the by contacting us through Contact Us link below.\\n&#39;, &#39;We may share your personal information with third parties in connection with potential or actual sale of our company or any of our assets, or those of any affiliated company, in which case personal information held by us about our users may be one of the transferred assets.\\n&#39;, &#39;We will also respond to requests for information where required by to do so by law, or when we believe that disclosure is necessary to protect our rights and/or comply with a judicial proceeding, court order, request from a regulator or any other legal process served on us.\\n&#39;, &#39;Marketing, &amp; emails\\n&#39;, &#34;Where lawful to do so, and subject to your consent where required, we may communicate with you by and email to tell you about our products and services. If you wish to opt-out of receiving marketing communications, please use the &#39;unsubscribe&#39; link provided in our emails or text the number in our SMS, or otherwise contact us directly through the Contact Us link below and we will stop sending you communications.\\n&#34;, &#39;Profiling for marketing purposes\\n&#39;, &#39;The purpose of any profiling is to deliver website content or email content that has high relevancy and, or applicability to the company that you represent. To achieve this, we use the information you have provided, and information provided by third party data augmentation services, to try and identify the industry code and other important information for the company you represent. Additionally, we also try and identify the product and application interests your company may have based on your visiting patterns at our websites (Information we collect automatically) and responses to our emails (Information you provide).  Based on this information we then tailor the email content and potentially the website content to better match the requirements and interests of the company you represent. The described processing is based on our legitimate interest (Art. 6 (1) (f) GDPR).\\n&#39;, &#39;Security\\n&#39;, &#39;We use data storage and security techniques to protect your personal information from unauthorized access, improper use or disclosure, unauthorized modification or unlawful destruction or accidental loss. However, it is important to remember that no website can be 100% secure and we cannot be held responsible for unauthorized or unintended access that is beyond our control.\\n&#39;, &#39;Retention of your Information\\n&#39;, &#39;We apply a general rule of keeping personal information only for as long as required to fulfil the purposes for which it was collected.  However, in some circumstances we may retain personal information for longer periods of time, for instance where we are required to do so in accordance with legal, tax and accounting requirements.  In specific circumstances we may also retain your personal information for longer periods of time so that we have an accurate record of your dealings with us in the event of any complaints or challenges.\\n&#39;, &#39;External Links\\n&#39;, &#39;This website may contain links to third party sites. Since we do not control nor are we responsible for the privacy practices of those websites, we encourage you to review the privacy policies of these third-party sites. This policy applies solely to personal information collected by this Website or in the course of our business activities.\\n&#39;, &#39;Your rights\\n&#39;, &#39;Subject to applicable law, you may have some or all of the following rights in respect of your personal information:\\n&#39;, &#39;to obtain a copy of your personal information together with information about how and on what basis that personal information is processed;\\n&#39;, &#39;to rectify inaccurate personal information (including the right to have incomplete personal information completed);\\n&#39;, &#39;to erase your personal information (in limited circumstances, where it is no longer necessary in relation to the purposes for which it was collected or processed);\\n&#39;, &#39;to restrict processing of your personal information where:\\n&#39;, &#39;the accuracy of the personal information is contested;\\n&#39;, &#39;the processing is unlawful but you object to the erasure of the personal information;\\n&#39;, &#39;we no longer require the personal information, but it is still required for the establishment, exercise or defense of a legal claim;\\n&#39;, &#39;to port your data in machine-readable format to a third party (or to you) when we justify our processing on the basis of your consent or the performance of a contract with you;\\n&#39;, &#39;to withdraw your consent to our processing of your personal information (where that processing is based on your consent);\\n&#39;, &#39;to object to decisions which are based solely on automated processing or profiling; and\\n&#39;, &#39;to obtain or see a copy of the appropriate safeguards under which your personal information is transferred to a third country or international organisation.\\n&#39;, &#39;In addition to the above rights, you have the right to object to any processing of your information which we have justified based on a legitimate interest, including profiling (as opposed to your consent, or to perform a contract with you). You also have the right to object to any processing of your information for direct marketing purposes, including profiling for marketing purposes.\\n&#39;, &#39;You also have the right to lodge a complaint with your local supervisory authority for data protection.\\n&#39;, &#39;In relation to all these rights, please contact us using the Contact Us link below. Please note that we may request proof of identity, and we reserve the right to charge a fee where permitted by law, for instance if your request is manifestly unfounded or excessive. We will endeavour to respond to your request within all applicable timeframes.\\n&#39;, &#39;Contact Us\\n&#39;, &#39;If you have any questions in relation to this policy or you wish to exercise any of your rights, please click here to submit your request .\\n&#39;, &#39;[close]Facts and Statistics About About Us\\n&#39;, &#39;Company Profile\\n&#39;, &#39;News Releases\\n&#39;, &#39;Trade Show Schedule\\n&#39;, &#39;Manufacturing Locations\\n&#39;, &#39;Sales/Service Offices\\n&#39;, &#39;How to Get to Patent Information\\n&#39;, &#39;Registrations\\n&#39;, &#39;Conflict Minerals Policy\\n&#39;, &#39;Privacy and Cookie Policy\\n&#39;, &#39;Terms &amp; Conditions\\n&#39;, &#39;June 6, 2018\\n&#39;, &#39;Check out these six surprising facts and statistics... \\n&#39;, &#39;metrology products\\n&#39;, &#39; and \\n&#39;, &#39;precision optical components and assemblies\\n&#39;, &#34;.  The infographic below highlights some little-known facts and statistics about the breadth and depth of ZYGO&#39;s experience and business. \\n&#34;, &#39;\\n&#39;, &#39;Have a question about ZYGO? \\xa0Just fill out the form...\\n&#39;, &#39;First Name \\n&#39;, &#39;*\\n&#39;, &#39;Last Name \\n&#39;, &#39;*\\n&#39;, &#39;Phone Number\\n&#39;, &#39;E-mail Address \\n&#39;, &#39;*\\n&#39;, &#39;Company or Organization \\n&#39;, &#39;*\\n&#39;, &#39;Job Title or Function \\n&#39;, &#39;*\\n&#39;, &#39;Street Address\\n&#39;, &#39;City\\n&#39;, &#39;State/Province\\xa0\\n&#39;, &#39;*\\n&#39;, &#39;Zip/Postal Code\\n&#39;, &#39;---Select---\\n&#39;, &#39;Alabama\\n&#39;, &#39;Alaska\\n&#39;, &#39;Arizona\\n&#39;, &#39;Arkansas\\n&#39;, &#39;California\\n&#39;, &#39;Colorado\\n&#39;, &#39;Connecticut\\n&#39;, &#39;Delaware\\n&#39;, &#39;District of Columbia\\n&#39;, &#39;Florida\\n&#39;, &#39;Georgia\\n&#39;, &#39;Hawaii\\n&#39;, &#39;Idaho\\n&#39;, &#39;Illinois\\n&#39;, &#39;Indiana\\n&#39;, &#39;Iowa\\n&#39;, &#39;Kansas\\n&#39;, &#39;Kentucky\\n&#39;, &#39;Louisiana\\n&#39;, &#39;Maine\\n&#39;, &#39;Maryland\\n&#39;, &#39;Massachusetts\\n&#39;, &#39;Michigan\\n&#39;, &#39;Minnesota\\n&#39;, &#39;Mississippi\\n&#39;, &#39;Missouri\\n&#39;, &#39;Montana\\n&#39;, &#39;Nebraska\\n&#39;, &#39;Nevada\\n&#39;, &#39;New Hampshire\\n&#39;, &#39;New Jersey\\n&#39;, &#39;New Mexico\\n&#39;, &#39;New York\\n&#39;, &#39;North Carolina\\n&#39;, &#39;North Dakota\\n&#39;, &#39;Ohio\\n&#39;, &#39;Oklahoma\\n&#39;, &#39;Oregon\\n&#39;, &#39;Pennsylvania\\n&#39;, &#39;Rhode Island\\n&#39;, &#39;South Carolina\\n&#39;, &#39;South Dakota\\n&#39;, &#39;Tennessee\\n&#39;, &#39;Texas\\n&#39;, &#39;Utah\\n&#39;, &#39;Vermont\\n&#39;, &#39;Virginia\\n&#39;, &#39;Washington\\n&#39;, &#39;West Virginia\\n&#39;, &#39;Wisconsin\\n&#39;, &#39;Wyoming\\n&#39;, &#39;Alberta\\n&#39;, &#39;British Columbia\\n&#39;, &#39;Manitoba\\n&#39;, &#39;New Brunswick\\n&#39;, &#39;Newfoundland and Labrador\\n&#39;, &#39;Northwest Territories\\n&#39;, &#39;Nova Scotia\\n&#39;, &#39;Nunavut\\n&#39;, &#39;Ontario\\n&#39;, &#39;Prince Edward Island\\n&#39;, &#39;Quebec\\n&#39;, &#39;Saskatchewan\\n&#39;, &#39;Yukon Territories\\n&#39;, &#39;International/Other\\n&#39;, &#39;Country/Region \\n&#39;, &#39;*\\n&#39;, &#39;---Select---\\n&#39;, &#39;Afghanistan\\n&#39;, &#39;Albania\\n&#39;, &#39;Algeria\\n&#39;, &#39;Andorra\\n&#39;, &#39;Angola\\n&#39;, &#39;Antigua and Barbuda\\n&#39;, &#39;Argentina\\n&#39;, &#39;Armenia\\n&#39;, &#39;Australia\\n&#39;, &#39;Austria\\n&#39;, &#39;Azerbaijan\\n&#39;, &#39;Bahamas\\n&#39;, &#39;Bahrain\\n&#39;, &#39;Bangladesh\\n&#39;, &#39;Barbados\\n&#39;, &#39;Belarus\\n&#39;, &#39;Belgium\\n&#39;, &#39;Belize\\n&#39;, &#39;Benin\\n&#39;, &#39;Bhutan\\n&#39;, &#39;Bolivia, Plurinational State of\\n&#39;, &#39;Bonaire, Sint Eustatius and Saba\\n&#39;, &#39;Bosnia and Herzegovina\\n&#39;, &#39;Botswana\\n&#39;, &#39;Brazil\\n&#39;, &#39;Brunei Darussalam\\n&#39;, &#39;Bulgaria\\n&#39;, &#39;Burkina Faso\\n&#39;, &#39;Burundi\\n&#39;, &#39;Cambodia\\n&#39;, &#39;Cameroon\\n&#39;, &#39;Canada\\n&#39;, &#39;Cape Verde\\n&#39;, &#39;Central African Republic\\n&#39;, &#39;Chad\\n&#39;, &#39;Chile\\n&#39;, &#39;China\\n&#39;, &#39;Colombia\\n&#39;, &#39;Comoros\\n&#39;, &#39;Congo\\n&#39;, &#39;Congo, the Democratic Republic of the\\n&#39;, &#39;Costa Rica\\n&#39;, &#34;Cote d&#39;Ivoire\\n&#34;, &#39;Croatia\\n&#39;, &#39;Cuba\\n&#39;, &#39;Cyprus\\n&#39;, &#39;Czech Republic\\n&#39;, &#39;Denmark\\n&#39;, &#39;Djibouti\\n&#39;, &#39;Dominica\\n&#39;, &#39;Dominican Republic\\n&#39;, &#39;Ecuador\\n&#39;, &#39;Egypt\\n&#39;, &#39;El Salvador\\n&#39;, &#39;Equatorial Guinea\\n&#39;, &#39;Eritrea\\n&#39;, &#39;Estonia\\n&#39;, &#39;Ethiopia\\n&#39;, &#39;Fiji\\n&#39;, &#39;Finland\\n&#39;, &#39;France\\n&#39;, &#39;Gabon\\n&#39;, &#39;Gambia\\n&#39;, &#39;Georgia\\n&#39;, &#39;Germany\\n&#39;, &#39;Ghana\\n&#39;, &#39;Greece\\n&#39;, &#39;Greenland\\n&#39;, &#39;Grenada\\n&#39;, &#39;Guatemala\\n&#39;, &#39;Guinea\\n&#39;, &#39;Guinea-Bissau\\n&#39;, &#39;Guyana\\n&#39;, &#39;Haiti\\n&#39;, &#39;Honduras\\n&#39;, &#39;Hungary\\n&#39;, &#39;Iceland\\n&#39;, &#39;India\\n&#39;, &#39;Indonesia\\n&#39;, &#39;Iran, Islamic Republic of\\n&#39;, &#39;Iraq\\n&#39;, &#39;Ireland\\n&#39;, &#39;Israel\\n&#39;, &#39;Italy\\n&#39;, &#39;Jamaica\\n&#39;, &#39;Japan\\n&#39;, &#39;Jordan\\n&#39;, &#39;Kazakhstan\\n&#39;, &#39;Kenya\\n&#39;, &#39;Kiribati\\n&#39;, &#34;Korea, Democratic People&#39;s Republic of\\n&#34;, &#39;Korea, Republic of\\n&#39;, &#39;Kuwait\\n&#39;, &#39;Kyrgyzstan\\n&#39;, &#34;Lao People&#39;s Democratic Republic\\n&#34;, &#39;Lebanon\\n&#39;, &#39;Lesotho\\n&#39;, &#39;Liberia\\n&#39;, &#39;Libya\\n&#39;, &#39;Liechtenstein\\n&#39;, &#39;Lithuania\\n&#39;, &#39;Luxembourg\\n&#39;, &#39;Madagascar\\n&#39;, &#39;Malawi\\n&#39;, &#39;Malaysia\\n&#39;, &#39;Maldives\\n&#39;, &#39;Mali\\n&#39;, &#39;Mauritania\\n&#39;, &#39;Mauritius\\n&#39;, &#39;Mexico\\n&#39;, &#39;Moldova, Republic of\\n&#39;, &#39;Monaco\\n&#39;, &#39;Mongolia\\n&#39;, &#39;Montenegro\\n&#39;, &#39;Morocco\\n&#39;, &#39;Mozambique\\n&#39;, &#39;Myanmar\\n&#39;, &#39;Namibia\\n&#39;, &#39;Nauru\\n&#39;, &#39;Nepal\\n&#39;, &#39;Netherlands\\n&#39;, &#39;New Zealand\\n&#39;, &#39;Nicaragua\\n&#39;, &#39;Niger\\n&#39;, &#39;Nigeria\\n&#39;, &#39;Norway\\n&#39;, &#39;Oman\\n&#39;, &#39;Pakistan\\n&#39;, &#39;Palestine\\n&#39;, &#39;Panama\\n&#39;, &#39;Papua New Guinea\\n&#39;, &#39;Paraguay\\n&#39;, &#39;Peru\\n&#39;, &#39;Philippines\\n&#39;, &#39;Poland\\n&#39;, &#39;Portugal\\n&#39;, &#39;Qatar\\n&#39;, &#39;Romania\\n&#39;, &#39;Russian Federation\\n&#39;, &#39;Rwanda\\n&#39;, &#39;Saint Helena, Ascension and Tristan da Cunha\\n&#39;, &#39;Saint Kitts and Nevis\\n&#39;, &#39;Saint Lucia\\n&#39;, &#39;Saint Vincent and the Grenadines\\n&#39;, &#39;Samoa\\n&#39;, &#39;San Marino\\n&#39;, &#39;Sao Tome and Principe\\n&#39;, &#39;Saudi Arabia\\n&#39;, &#39;Senegal\\n&#39;, &#39;Serbia\\n&#39;, &#39;Sierra Leone\\n&#39;, &#39;Singapore\\n&#39;, &#39;Slovakia\\n&#39;, &#39;Slovenia\\n&#39;, &#39;Solomon Islands\\n&#39;, &#39;Somalia\\n&#39;, &#39;South Africa\\n&#39;, &#39;South Sudan\\n&#39;, &#39;Spain\\n&#39;, &#39;Sri Lanka\\n&#39;, &#39;Sudan\\n&#39;, &#39;Suriname\\n&#39;, &#39;Swaziland\\n&#39;, &#39;Sweden\\n&#39;, &#39;Switzerland\\n&#39;, &#39;Syrian Arab Republic\\n&#39;, &#39;Taiwan (R.O.C.)\\n&#39;, &#39;Tajikistan\\n&#39;, &#39;Tanzania, United Republic of\\n&#39;, &#39;Thailand\\n&#39;, &#39;Timor-Leste\\n&#39;, &#39;Togo\\n&#39;, &#39;Tonga\\n&#39;, &#39;Trinidad and Tobago\\n&#39;, &#39;Tunisia\\n&#39;, &#39;Turkey\\n&#39;, &#39;Turkmenistan\\n&#39;, &#39;Tuvalu\\n&#39;, &#39;Uganda\\n&#39;, &#39;Ukraine\\n&#39;, &#39;United Arab Emirates\\n&#39;, &#39;United Kingdom\\n&#39;, &#39;United States\\n&#39;, &#39;Uruguay\\n&#39;, &#39;Uzbekistan\\n&#39;, &#39;Vanuatu\\n&#39;, &#39;Venezuela, Bolivarian Republic of\\n&#39;, &#39;Viet Nam\\n&#39;, &#39;Wallis and Futuna\\n&#39;, &#39;Yemen\\n&#39;, &#39;Zambia\\n&#39;, &#39;Zimbabwe\\n&#39;, &#39;\\xa0 Check this box to provide consent for to contact you in the future. **\\n&#39;, &#39;\\n&#39;, &#39;Please indicate your level of interest... \\n&#39;, &#39;*\\n&#39;, &#39;*\\n&#39;, &#39; Required entries\\n&#39;, &#39;Note:\\n&#39;, &#39;[close]\\n&#39;, &#39;\\n&#39;, &#39;By continuing to use this site, you agree to our \\n&#39;, &#39;Privacy and Cookie Policy\\n&#39;, &#39;. \\n&#39;, &#39;OK\\n&#39;, &#34;What&#39;s New at ZYGO?\\n&#34;, &#39;››\\n&#39;, &#39;News:\\n&#39;, &#39; Launches Latest Generation of ZeGage Non-Contact 3Optical Profilers\\n&#39;, &#39;››\\n&#39;, &#39;Blog:\\n&#39;, &#39; Using Grazing Incidence Interferometry to Measure Large or Non-Specular Surfaces\\n&#39;, &#39;››\\n&#39;, &#39;Blog:\\n&#39;, &#39; Process Metrology Helps Ensure Quality of Smartphone Camera Lenses\\n&#39;, &#39;››\\n&#39;, &#39;Blog:\\n&#39;, &#39; Precision Lead Angle Metrology Improves Shaft Seals and Engine Efficiency\\n&#39;, &#39;››\\n&#39;, &#39;Blog:\\n&#39;, &#39; Precision Gear Tooth Metrology Helps Automaker Silence Humming Differential\\n&#39;, &#39;››\\n&#39;, &#39;Blog:\\n&#39;, &#39; Measuring Roughness on Super-Smooth Surfaces\\n&#39;, &#39;››\\n&#39;, &#39;Blog:\\n&#39;, &#39; New Smart Setup Feature Streamlines Precision Surface Metrology\\n&#39;, &#39;››\\n&#39;, &#39;Blog:\\n&#39;, &#39; Think you know ZYGO? Check out these six surprising facts and statistics...\\n&#39;, &#39;Visit at these\\n&#39;, &#39;Upcoming Events:\\n&#39;, &#39;MD&amp;West\\n&#39;, &#39;02/05\\n&#39;, &#39;Photonics West\\n&#39;, &#39;02/05\\n&#39;, &#39;Advanced Lithography\\n&#39;, &#39;02/26\\n&#39;, &#39;Houstex\\n&#39;, &#39;02/26\\n&#39;, &#39;Defense &amp; Sensing\\n&#39;, &#39;04/16\\n&#39;, &#39;Ann. Mtg. &amp; Exhibt\\n&#39;, &#39;05/19\\n&#39;, &#39;West\\n&#39;, &#39;07/09\\n&#39;, &#39;Optics &amp; Photonics\\n&#39;, &#39;08/13\\n&#39;, &#39;Optifab\\n&#39;, &#39;10/15\\n&#39;, &#39;(Click for a complete list)\\n&#39;, &#39;Privacy and Cookie Policy\\n&#39;, &#39;Privacy Policy Inquiry Form\\n&#39;, &#39;Unsubscribe\\n&#39;, &#39;×\\n&#39;, &#39;Privacy Policy Inquiry3Optical Surface Profiler\\n&#39;, &#39;Products\\n&#39;, &#39;3Optical Profilers\\n&#39;, &#39;Laser Interferometers\\n&#39;, &#39;Position Metrology Systems\\n&#39;, &#39;Custom Metrology Solutions\\n&#39;, &#39;Trade-in &amp; Upgrade Program\\n&#39;, &#39;Optical Surface Profilers\\n&#39;, &#39;ZeGage™ Pro\\xa0 \\n&#39;, &#39;New!\\n&#39;, &#39;NewView™ 9000\\n&#39;, &#39;Nexview™NX2\\n&#39;, &#39;Nomad™\\n&#39;, &#39;Compass™\\n&#39;, &#39;APM650™\\n&#39;, &#39;Mx™ Software\\n&#39;, &#39;Profiler Objectives\\n&#39;, &#39;Optical Profiler Basics\\n&#39;, &#39;Surface Roughness Measurement\\n&#39;, &#39;Surface Profiling\\n&#39;, &#39;3Optical Microscopy\\n&#39;, &#39;3Interference Microscopy\\n&#39;, &#39;Production Ready 3Optical Profiler\\n&#39;, &#39;Key Features:\\n&#39;, &#39;\\x95 Vibration-resistant, for metrology and process control on the production floor.\\n&#39;, &#39;\\x95 25178-compliant results ensure confidence in your metrology.\\n&#39;, &#39;\\x95 Non-contact, area-based metrology technique prevents part damage and is insensitive to part lay.\\n&#39;, &#39;\\x95 Measurements require no consumables.\\n&#39;, &#39;ZeGage™ Pro\\n&#39;, &#39; and \\n&#39;, &#39;ZeGage™ Pro HR\\n&#39;, &#39; 3optical profilers provide non-contact measurement and characterization of micro- and nano-scale features of virtually any surface, and set the new standard for performance, ease of use, flexibility, and precision of benchtop-class industrial non-contact surface profilers.\\n&#39;, &#39;\\n&#39;, &#39;The base ZeGage™ Pro model delivers surface mapping at the nanometer scale, meeting the needs for most industrial surfaces.  For smoother samples, with a much finer surface finish, the ZeGage™ Pro offers more than 20higher precision with 0.15\\xa0nm vertical precision.\\n&#39;, &#39;\\n&#39;, &#34;ZYGO&#39;s  ZeGage™ products have been taking interferometric surface profiling out of the lab and into production for nearly a decade. With the ZeGage Pro and Pro systems, powerful and trusted capabilities such as SureScan™ technology for vibration robust metrology are now paired with ZYGO&#39;s exclusive Part Finder and \\n&#34;, &#39;Smart Setup\\n&#39;, &#39; tools to make sample changes fast and easy, minimizing wasted time and maximizing throughput.\\n&#39;, &#39;Mx Software\\n&#39;, &#39; Screen (click image for a larger view)\\n&#39;, &#39;\\n&#39;, &#34;Like all earlier ZeGage™ profilers, the ZeGage™ Pro and Pro systems are constructed with a compact benchtop-friendly design.  Coupled with SureScan™ technology, there is no need for expensive vibration isolation tables, system enclosures, or consumables. They also run ZYGO&#39;s interactive control software, \\n&#34;, &#39;Mx™\\n&#39;, &#39;, for easy and detailed visualization to help you control your process.\\n&#39;, &#39;Powerful Performance \\n&#39;, &#39;Proprietary non-contact measurement technology is enhanced with SureScan™ technology for low sensitivity to vibration and easy placement anywhere within your facility.\\n&#39;, &#39;Quantitative surface metrology with nanometer-level precision provides superior gage capability.\\n&#39;, &#39;High resolution 1.9 million pixel image sensor provides fast areal measurements in seconds, for excellent surface detail and visualization.\\n&#39;, &#39;Fully-automated measurement sequences and field stitching enable high resolution inspection of large areas. (Requires optional motorized part stage.)\\n&#39;, &#39;Versatility\\n&#39;, &#39;Measures a wide variety of surface materials and parameters, including 2and 3profiling of surface texture, form, step-height and more.\\n&#39;, &#39;Included Mx software provides comprehensive tools for surface data visualization, analysis and reporting.\\n&#39;, &#39;Expand the measurement range of your investment with accessories that include objective turrets, manual and motorized sample stages, and optional software modules for film topography profiling and 2analysis using Cognex VisionPro®.\\n&#39;, &#39; Productivity and Value\\n&#39;, &#39;Smart Setup technology reduces training time, and shortens part changeover by automating part finding, light setting, and scan configuration.  Smart Setup usually results in a first data map within 1 minute of placing the sample under the objective.\\n&#39;, &#39;Cost-effective price-to-performance ratio compares favorably to alternative systems, including mechanical contact stylus profilers.\\n&#39;, &#39;Non-contact method means no consumable replacement costs to worry about.\\n&#39;, &#39;Compact, vibration-tolerant SureScan™ technology for easy integration anywhere in your facility.\\n&#39;, &#39;Inquiry Form\\n&#39;, &#39;\\n&#39;, &#39;Please use the form below to contact us with any questions you have regarding ZeGage™ \\n&#39;, &#39;3Optical Surface Profilers\\n&#39;, &#39;, or \\n&#39;, &#39;surface profiling\\n&#39;, &#39;First Name \\n&#39;, &#39;*\\n&#39;, &#39;Last Name \\n&#39;, &#39;*\\n&#39;, &#39;Phone Number\\n&#39;, &#39;E-mail Address \\n&#39;, &#39;*\\n&#39;, &#39;Company or Organization \\n&#39;, &#39;*\\n&#39;, &#39;Job Title or Function \\n&#39;, &#39;*\\n&#39;, &#39;Street Address\\n&#39;, &#39;City\\n&#39;, &#39;State/Province\\xa0\\n&#39;, &#39;*\\n&#39;, &#39;Zip/Postal Code\\n&#39;, &#39;---Select---\\n&#39;, &#39;Alabama\\n&#39;, &#39;Alaska\\n&#39;, &#39;Arizona\\n&#39;, &#39;Arkansas\\n&#39;, &#39;California\\n&#39;, &#39;Colorado\\n&#39;, &#39;Connecticut\\n&#39;, &#39;Delaware\\n&#39;, &#39;District of Columbia\\n&#39;, &#39;Florida\\n&#39;, &#39;Georgia\\n&#39;, &#39;Hawaii\\n&#39;, &#39;Idaho\\n&#39;, &#39;Illinois\\n&#39;, &#39;Indiana\\n&#39;, &#39;Iowa\\n&#39;, &#39;Kansas\\n&#39;, &#39;Kentucky\\n&#39;, &#39;Louisiana\\n&#39;, &#39;Maine\\n&#39;, &#39;Maryland\\n&#39;, &#39;Massachusetts\\n&#39;, &#39;Michigan\\n&#39;, &#39;Minnesota\\n&#39;, &#39;Mississippi\\n&#39;, &#39;Missouri\\n&#39;, &#39;Montana\\n&#39;, &#39;Nebraska\\n&#39;, &#39;Nevada\\n&#39;, &#39;New Hampshire\\n&#39;, &#39;New Jersey\\n&#39;, &#39;New Mexico\\n&#39;, &#39;New York\\n&#39;, &#39;North Carolina\\n&#39;, &#39;North Dakota\\n&#39;, &#39;Ohio\\n&#39;, &#39;Oklahoma\\n&#39;, &#39;Oregon\\n&#39;, &#39;Pennsylvania\\n&#39;, &#39;Rhode Island\\n&#39;, &#39;South Carolina\\n&#39;, &#39;South Dakota\\n&#39;, &#39;Tennessee\\n&#39;, &#39;Texas\\n&#39;, &#39;Utah\\n&#39;, &#39;Vermont\\n&#39;, &#39;Virginia\\n&#39;, &#39;Washington\\n&#39;, &#39;West Virginia\\n&#39;, &#39;Wisconsin\\n&#39;, &#39;Wyoming\\n&#39;, &#39;Alberta\\n&#39;, &#39;British Columbia\\n&#39;, &#39;Manitoba\\n&#39;, &#39;New Brunswick\\n&#39;, &#39;Newfoundland and Labrador\\n&#39;, &#39;Northwest Territories\\n&#39;, &#39;Nova Scotia\\n&#39;, &#39;Nunavut\\n&#39;, &#39;Ontario\\n&#39;, &#39;Prince Edward Island\\n&#39;, &#39;Quebec\\n&#39;, &#39;Saskatchewan\\n&#39;, &#39;Yukon Territories\\n&#39;, &#39;International/Other\\n&#39;, &#39;Country/Region \\n&#39;, &#39;*\\n&#39;, &#39;---Select---\\n&#39;, &#39;Afghanistan\\n&#39;, &#39;Albania\\n&#39;, &#39;Algeria\\n&#39;, &#39;Andorra\\n&#39;, &#39;Angola\\n&#39;, &#39;Antigua and Barbuda\\n&#39;, &#39;Argentina\\n&#39;, &#39;Armenia\\n&#39;, &#39;Australia\\n&#39;, &#39;Austria\\n&#39;, &#39;Azerbaijan\\n&#39;, &#39;Bahamas\\n&#39;, &#39;Bahrain\\n&#39;, &#39;Bangladesh\\n&#39;, &#39;Barbados\\n&#39;, &#39;Belarus\\n&#39;, &#39;Belgium\\n&#39;, &#39;Belize\\n&#39;, &#39;Benin\\n&#39;, &#39;Bhutan\\n&#39;, &#39;Bolivia, Plurinational State of\\n&#39;, &#39;Bonaire, Sint Eustatius and Saba\\n&#39;, &#39;Bosnia and Herzegovina\\n&#39;, &#39;Botswana\\n&#39;, &#39;Brazil\\n&#39;, &#39;Brunei Darussalam\\n&#39;, &#39;Bulgaria\\n&#39;, &#39;Burkina Faso\\n&#39;, &#39;Burundi\\n&#39;, &#39;Cambodia\\n&#39;, &#39;Cameroon\\n&#39;, &#39;Canada\\n&#39;, &#39;Cape Verde\\n&#39;, &#39;Central African Republic\\n&#39;, &#39;Chad\\n&#39;, &#39;Chile\\n&#39;, &#39;China\\n&#39;, &#39;Colombia\\n&#39;, &#39;Comoros\\n&#39;, &#39;Congo\\n&#39;, &#39;Congo, the Democratic Republic of the\\n&#39;, &#39;Costa Rica\\n&#39;, &#34;Cote d&#39;Ivoire\\n&#34;, &#39;Croatia\\n&#39;, &#39;Cuba\\n&#39;, &#39;Cyprus\\n&#39;, &#39;Czech Republic\\n&#39;, &#39;Denmark\\n&#39;, &#39;Djibouti\\n&#39;, &#39;Dominica\\n&#39;, &#39;Dominican Republic\\n&#39;, &#39;Ecuador\\n&#39;, &#39;Egypt\\n&#39;, &#39;El Salvador\\n&#39;, &#39;Equatorial Guinea\\n&#39;, &#39;Eritrea\\n&#39;, &#39;Estonia\\n&#39;, &#39;Ethiopia\\n&#39;, &#39;Fiji\\n&#39;, &#39;Finland\\n&#39;, &#39;France\\n&#39;, &#39;Gabon\\n&#39;, &#39;Gambia\\n&#39;, &#39;Georgia\\n&#39;, &#39;Germany\\n&#39;, &#39;Ghana\\n&#39;, &#39;Greece\\n&#39;, &#39;Greenland\\n&#39;, &#39;Grenada\\n&#39;, &#39;Guatemala\\n&#39;, &#39;Guinea\\n&#39;, &#39;Guinea-Bissau\\n&#39;, &#39;Guyana\\n&#39;, &#39;Haiti\\n&#39;, &#39;Honduras\\n&#39;, &#39;Hungary\\n&#39;, &#39;Iceland\\n&#39;, &#39;India\\n&#39;, &#39;Indonesia\\n&#39;, &#39;Iran, Islamic Republic of\\n&#39;, &#39;Iraq\\n&#39;, &#39;Ireland\\n&#39;, &#39;Israel\\n&#39;, &#39;Ital\n*** WARNING: skipped 8554 bytes of output ***\n\n\n</div>"
            ]
          }
        }
      ],
      "execution_count": null
    },
    {
      "cell_type": "code",
      "source": [
        "content_list[6]"
      ],
      "metadata": {
        "application/vnd.databricks.v1+cell": {
          "title": "",
          "showTitle": false,
          "inputWidgets": {},
          "nuid": "2a386113-60eb-4341-86d9-b722dfde3901"
        },
        "id": "IoypVaehHd5g",
        "outputId": "b1e2f492-2f22-4f28-f3e4-c11e6ad6e218"
      },
      "outputs": [
        {
          "output_type": "display_data",
          "metadata": {
            "application/vnd.databricks.v1+output": {
              "datasetInfos": [],
              "data": "<div class=\"ansiout\">Out[13]: &#39;Optics\\n&#39;</div>",
              "removedWidgets": [],
              "addedWidgets": {},
              "metadata": {},
              "type": "html",
              "arguments": {}
            }
          },
          "data": {
            "text/html": [
              "<style scoped>\n  .ansiout {\n    display: block;\n    unicode-bidi: embed;\n    white-space: pre-wrap;\n    word-wrap: break-word;\n    word-break: break-all;\n    font-family: \"Source Code Pro\", \"Menlo\", monospace;;\n    font-size: 13px;\n    color: #555;\n    margin-left: 4px;\n    line-height: 19px;\n  }\n</style>\n<div class=\"ansiout\">Out[13]: &#39;Optics\\n&#39;</div>"
            ]
          }
        }
      ],
      "execution_count": null
    },
    {
      "cell_type": "code",
      "source": [
        "classifier = pipeline(\"zero-shot-classification\")"
      ],
      "metadata": {
        "application/vnd.databricks.v1+cell": {
          "title": "",
          "showTitle": false,
          "inputWidgets": {},
          "nuid": "5e3ecbd8-5998-45e4-899a-3fb9059e477f"
        },
        "id": "bzeIaBlJHd5g",
        "outputId": "1ae8f27e-785d-4832-d2a9-1d0391b0ce97"
      },
      "outputs": [
        {
          "output_type": "display_data",
          "metadata": {
            "application/vnd.databricks.v1+output": {
              "datasetInfos": [],
              "data": "<div class=\"ansiout\">No model was supplied, defaulted to facebook/bart-large-mnli (https://huggingface.co/facebook/bart-large-mnli)\nDownloading:   0%|          | 0.00/1.13k [00:00&lt;?, ?B/s]\nDownloading:   0%|          | 0.00/1.52G [00:00&lt;?, ?B/s]\nDownloading:   0%|          | 0.00/26.0 [00:00&lt;?, ?B/s]\nDownloading:   0%|          | 0.00/878k [00:00&lt;?, ?B/s]\nDownloading:   0%|          | 0.00/446k [00:00&lt;?, ?B/s]\nDownloading:   0%|          | 0.00/1.29M [00:00&lt;?, ?B/s]\n</div>",
              "removedWidgets": [],
              "addedWidgets": {},
              "metadata": {},
              "type": "html",
              "arguments": {}
            }
          },
          "data": {
            "text/html": [
              "<style scoped>\n  .ansiout {\n    display: block;\n    unicode-bidi: embed;\n    white-space: pre-wrap;\n    word-wrap: break-word;\n    word-break: break-all;\n    font-family: \"Source Code Pro\", \"Menlo\", monospace;;\n    font-size: 13px;\n    color: #555;\n    margin-left: 4px;\n    line-height: 19px;\n  }\n</style>\n<div class=\"ansiout\">No model was supplied, defaulted to facebook/bart-large-mnli (https://huggingface.co/facebook/bart-large-mnli)\nDownloading:   0%|          | 0.00/1.13k [00:00&lt;?, ?B/s]\nDownloading:   0%|          | 0.00/1.52G [00:00&lt;?, ?B/s]\nDownloading:   0%|          | 0.00/26.0 [00:00&lt;?, ?B/s]\nDownloading:   0%|          | 0.00/878k [00:00&lt;?, ?B/s]\nDownloading:   0%|          | 0.00/446k [00:00&lt;?, ?B/s]\nDownloading:   0%|          | 0.00/1.29M [00:00&lt;?, ?B/s]\n</div>"
            ]
          }
        }
      ],
      "execution_count": null
    },
    {
      "cell_type": "code",
      "source": [
        "candidate_labels = [\"business\", \"marketing\", \"manufacturing\", \"research\", \"engineering\"]\n",
        "\n",
        "for i in range(6,10):\n",
        "  res = classifier(content_list[i], candidate_labels)\n",
        "  print (res)"
      ],
      "metadata": {
        "application/vnd.databricks.v1+cell": {
          "title": "",
          "showTitle": false,
          "inputWidgets": {},
          "nuid": "03807895-ba43-4d94-8a23-2a3a5538fa6f"
        },
        "id": "4rroBy5XHd5g",
        "outputId": "135e6580-e60a-4bcc-d8b6-1b965a9869a1"
      },
      "outputs": [
        {
          "output_type": "display_data",
          "metadata": {
            "application/vnd.databricks.v1+output": {
              "datasetInfos": [],
              "data": "<div class=\"ansiout\">{&#39;sequence&#39;: &#39;Optics\\n&#39;, &#39;labels&#39;: [&#39;business&#39;, &#39;marketing&#39;, &#39;research&#39;, &#39;engineering&#39;, &#39;manufacturing&#39;], &#39;scores&#39;: [0.2477385550737381, 0.24553173780441284, 0.21116505563259125, 0.170455202460289, 0.12510938942432404]}\n{&#39;sequence&#39;: &#39;Optical Components Group\\n&#39;, &#39;labels&#39;: [&#39;business&#39;, &#39;engineering&#39;, &#39;research&#39;, &#39;manufacturing&#39;, &#39;marketing&#39;], &#39;scores&#39;: [0.7122617959976196, 0.10993733257055283, 0.09078780561685562, 0.05439535900950432, 0.03261769190430641]}\n{&#39;sequence&#39;: &#39;Electro-Optics Group\\n&#39;, &#39;labels&#39;: [&#39;business&#39;, &#39;research&#39;, &#39;engineering&#39;, &#39;marketing&#39;, &#39;manufacturing&#39;], &#39;scores&#39;: [0.6276072859764099, 0.19434507191181183, 0.10650159418582916, 0.03894878178834915, 0.03259727358818054]}\n{&#39;sequence&#39;: &#39;- Engineering &amp; Product Development\\n&#39;, &#39;labels&#39;: [&#39;engineering&#39;, &#39;business&#39;, &#39;research&#39;, &#39;manufacturing&#39;, &#39;marketing&#39;], &#39;scores&#39;: [0.663918673992157, 0.17188161611557007, 0.11716794222593307, 0.036675307899713516, 0.010356508195400238]}\n</div>",
              "removedWidgets": [],
              "addedWidgets": {},
              "metadata": {},
              "type": "html",
              "arguments": {}
            }
          },
          "data": {
            "text/html": [
              "<style scoped>\n  .ansiout {\n    display: block;\n    unicode-bidi: embed;\n    white-space: pre-wrap;\n    word-wrap: break-word;\n    word-break: break-all;\n    font-family: \"Source Code Pro\", \"Menlo\", monospace;;\n    font-size: 13px;\n    color: #555;\n    margin-left: 4px;\n    line-height: 19px;\n  }\n</style>\n<div class=\"ansiout\">{&#39;sequence&#39;: &#39;Optics\\n&#39;, &#39;labels&#39;: [&#39;business&#39;, &#39;marketing&#39;, &#39;research&#39;, &#39;engineering&#39;, &#39;manufacturing&#39;], &#39;scores&#39;: [0.2477385550737381, 0.24553173780441284, 0.21116505563259125, 0.170455202460289, 0.12510938942432404]}\n{&#39;sequence&#39;: &#39;Optical Components Group\\n&#39;, &#39;labels&#39;: [&#39;business&#39;, &#39;engineering&#39;, &#39;research&#39;, &#39;manufacturing&#39;, &#39;marketing&#39;], &#39;scores&#39;: [0.7122617959976196, 0.10993733257055283, 0.09078780561685562, 0.05439535900950432, 0.03261769190430641]}\n{&#39;sequence&#39;: &#39;Electro-Optics Group\\n&#39;, &#39;labels&#39;: [&#39;business&#39;, &#39;research&#39;, &#39;engineering&#39;, &#39;marketing&#39;, &#39;manufacturing&#39;], &#39;scores&#39;: [0.6276072859764099, 0.19434507191181183, 0.10650159418582916, 0.03894878178834915, 0.03259727358818054]}\n{&#39;sequence&#39;: &#39;- Engineering &amp; Product Development\\n&#39;, &#39;labels&#39;: [&#39;engineering&#39;, &#39;business&#39;, &#39;research&#39;, &#39;manufacturing&#39;, &#39;marketing&#39;], &#39;scores&#39;: [0.663918673992157, 0.17188161611557007, 0.11716794222593307, 0.036675307899713516, 0.010356508195400238]}\n</div>"
            ]
          }
        }
      ],
      "execution_count": null
    },
    {
      "cell_type": "code",
      "source": [
        "classifier(\"I havern't a dog.\")"
      ],
      "metadata": {
        "application/vnd.databricks.v1+cell": {
          "title": "",
          "showTitle": false,
          "inputWidgets": {},
          "nuid": "45c271da-6ad2-443e-9a2e-ac9c0cec0e0c"
        },
        "id": "aPZFopIsHd5h",
        "outputId": "31c60fdb-0a20-40ec-ebc9-376ac34616a5"
      },
      "outputs": [
        {
          "output_type": "display_data",
          "metadata": {
            "application/vnd.databricks.v1+output": {
              "datasetInfos": [],
              "data": "<div class=\"ansiout\">Out[31]: [{&#39;label&#39;: &#39;LABEL_0&#39;, &#39;score&#39;: 0.9532511234283447}]</div>",
              "removedWidgets": [],
              "addedWidgets": {},
              "metadata": {},
              "type": "html",
              "arguments": {}
            }
          },
          "data": {
            "text/html": [
              "<style scoped>\n  .ansiout {\n    display: block;\n    unicode-bidi: embed;\n    white-space: pre-wrap;\n    word-wrap: break-word;\n    word-break: break-all;\n    font-family: \"Source Code Pro\", \"Menlo\", monospace;;\n    font-size: 13px;\n    color: #555;\n    margin-left: 4px;\n    line-height: 19px;\n  }\n</style>\n<div class=\"ansiout\">Out[31]: [{&#39;label&#39;: &#39;LABEL_0&#39;, &#39;score&#39;: 0.9532511234283447}]</div>"
            ]
          }
        }
      ],
      "execution_count": null
    },
    {
      "cell_type": "code",
      "source": [
        "classifier = pipeline(\"text-classification\", model = \"textattack/distilbert-base-uncased-CoLA\")\n",
        "\n",
        "for i in range(0, len(content_list)):\n",
        "  print ((content_list[i]))\n",
        "  # res = classifier(content_list[i])\n",
        "  # print (res)"
      ],
      "metadata": {
        "application/vnd.databricks.v1+cell": {
          "title": "",
          "showTitle": false,
          "inputWidgets": {},
          "nuid": "80409629-9c49-4d69-9dc9-30ffb9df3f03"
        },
        "id": "C3UowNHIHd5h",
        "outputId": "3080c2b8-0c67-4333-a587-cd3997262493"
      },
      "outputs": [
        {
          "output_type": "display_data",
          "metadata": {
            "application/vnd.databricks.v1+output": {
              "datasetInfos": [],
              "data": "<div class=\"ansiout\">Downloading:   0%|          | 0.00/490 [00:00&lt;?, ?B/s]\nDownloading:   0%|          | 0.00/255M [00:00&lt;?, ?B/s]\nDownloading:   0%|          | 0.00/48.0 [00:00&lt;?, ?B/s]\nDownloading:   0%|          | 0.00/226k [00:00&lt;?, ?B/s]\nDownloading:   0%|          | 0.00/112 [00:00&lt;?, ?B/s]\nMetrology\n\n3Optical Profilers\n\nLaser Interferometers\n\nPosition Metrology Systems\n\nCustom Metrology Solutions\n\nTrade-in &amp; Upgrade Program\n\nOptics\n\nOptical Components Group\n\nElectro-Optics Group\n\n- Engineering &amp; Product Development\n\n- Electro-Optical Assembly\n\n- Opto-Mechanical Assembly\n\n- Turnkey System Manufacturing\n\nMarkets &amp; Applications\n\n[close]\n\n\n\nBy continuing to use this site, you agree to our \n\nPrivacy and Cookie Policy\n\n. \n\nOK\n\nWhat&#39;s New at ZYGO?\n\n››\n\nNews:\n\n Launches Latest Generation of ZeGage Non-Contact 3Optical Profilers\n\n››\n\nBlog:\n\n Using Grazing Incidence Interferometry to Measure Large or Non-Specular Surfaces\n\n››\n\nBlog:\n\n Process Metrology Helps Ensure Quality of Smartphone Camera Lenses\n\n››\n\nBlog:\n\n Precision Lead Angle Metrology Improves Shaft Seals and Engine Efficiency\n\n››\n\nBlog:\n\n Precision Gear Tooth Metrology Helps Automaker Silence Humming Differential\n\n››\n\nBlog:\n\n Measuring Roughness on Super-Smooth Surfaces\n\n››\n\nBlog:\n\n New Smart Setup Feature Streamlines Precision Surface Metrology\n\n››\n\nBlog:\n\n Think you know ZYGO? Check out these six surprising facts and statistics...\n\nVisit at these\n\nUpcoming Events:\n\nMD&amp;West\n\n02/05\n\nPhotonics West\n\n02/05\n\nAdvanced Lithography\n\n02/26\n\nHoustex\n\n02/26\n\nDefense &amp; Sensing\n\n04/16\n\nAnn. Mtg. &amp; Exhibt\n\n05/19\n\nWest\n\n07/09\n\nOptics &amp; Photonics\n\n08/13\n\nOptifab\n\n10/15\n\n(Click for a complete list)\n\nPrivacy and Cookie Policy\n\nPrivacy Policy Inquiry Form\n\nUnsubscribe\n\n×\n\nPrivacy Policy InquiryAbout Us\n\nCompany Profile\n\nNews Releases\n\nTrade Show Schedule\n\nManufacturing Locations\n\nSales/Service Offices\n\nHow to Get to Patent Information\n\nRegistrations\n\nConflict Minerals Policy\n\nPrivacy and Cookie Policy\n\nTerms &amp; Conditions\n\nZYGO&#39;s booth at Photonics West\n\nMicro-Seminar in Progress\n\nfree\n\n~ 2019 ~\n\nMD&amp;West\n\nPhotonics West 2019 Exhibition\n\nW3 Fair+Convention 2019\n\nAdvanced Lithography\n\nHoustex\n\nDefense &amp; Sensing\n\nCONTROL\n\nAnnual Meeting &amp; Exhibition\n\nEUSPEN\n\nLASER\n\nWest\n\nOptics &amp; Photonics\n\nOptifab 2019\n\nIMTS\n\n[close]\n\n\n\nBy continuing to use this site, you agree to our \n\nPrivacy and Cookie Policy\n\n. \n\nOK\n\nWhat&#39;s New at ZYGO?\n\n››\n\nNews:\n\n Launches Latest Generation of ZeGage Non-Contact 3Optical Profilers\n\n››\n\nBlog:\n\n Using Grazing Incidence Interferometry to Measure Large or Non-Specular Surfaces\n\n››\n\nBlog:\n\n Process Metrology Helps Ensure Quality of Smartphone Camera Lenses\n\n››\n\nBlog:\n\n Precision Lead Angle Metrology Improves Shaft Seals and Engine Efficiency\n\n››\n\nBlog:\n\n Precision Gear Tooth Metrology Helps Automaker Silence Humming Differential\n\n››\n\nBlog:\n\n Measuring Roughness on Super-Smooth Surfaces\n\n››\n\nBlog:\n\n New Smart Setup Feature Streamlines Precision Surface Metrology\n\n››\n\nBlog:\n\n Think you know ZYGO? Check out these six surprising facts and statistics...\n\nVisit at these\n\nUpcoming Events:\n\nMD&amp;West\n\n02/05\n\nPhotonics West\n\n02/05\n\nAdvanced Lithography\n\n02/26\n\nHoustex\n\n02/26\n\nDefense &amp; Sensing\n\n04/16\n\nAnn. Mtg. &amp; Exhibt\n\n05/19\n\nWest\n\n07/09\n\nOptics &amp; Photonics\n\n08/13\n\nOptifab\n\n10/15\n\n(Click for a complete list)\n\nPrivacy and Cookie Policy\n\nPrivacy Policy Inquiry Form\n\nUnsubscribe\n\n×\n\nPrivacy Policy InquiryOptical Surface Profilers\n\nProducts\n\n3Optical Profilers\n\nLaser Interferometers\n\nPosition Metrology Systems\n\nCustom Metrology Solutions\n\nTrade-in &amp; Upgrade Program\n\nOptical Surface Profilers\n\nZeGage™ Pro  \n\nNew!\n\nNewView™ 9000\n\nNexview™NX2\n\nNomad™\n\nCompass™\n\nAPM650™\n\nMx™ Software\n\nProfiler Objectives\n\nOptical Profiler Basics\n\nSurface Roughness Measurement\n\nSurface Profiling\n\n3Optical Microscopy\n\n3Interference Microscopy\n\nZYGO&#39;s 3Optical Profiler instruments enable precise, quantitative, ISO-compliant, \n\nnon-contact\n\n surface measurement and characterization of micro- and nano-scale surface features, capturing \n\nup to two million data points\n\nin just seconds\n\n. Choosing the right optical profiler system depends on your application&#39;s requirements, including speed, precision, vertical range, automation, and flexibility.\n\nOur 3Optical Profiler instruments achieve best in class performance through advanced, patented, and differentiated technologies with superior speed, precision, resolution, and application versatility all in a single metrology instrument.\n\nWith multiple configurations that range from simple to use benchtop systems to advanced fully automated platforms, ZYGO&#39;s optical profilers have proven themselves in installations that range from R&amp;and standards laboratories to industrial process control workstations to in-line metrology solutions.\n\nRegardless of the installation type, our systems provide leading performance for optical measurements of surface structure and texture across varying surface scales and offer hundreds of reportable parameters, including areal surface roughness to 25178 standards as well as 2profile standards, 4287/4288.\n\nHow Does ZYGO&#39;s Technology Compare?  What Are Some Of The Key Advantages?\n\nOur instruments include several advantages based on the core technology employed, system-level features and options, software functionality, and many others.  For simplicity, we have compared our CSI-technology to two of the most common alternative optical technologies (confocal, focus variation). Highlighted below are just some of the key attributes and advantages.\n\n• Higher speed\n\n• Superior Z-resolution (independent of magnification)\n\n• Wider magnification/range\n\n• Capable of measuring super-smooth to rough surfaces\n\nWhat Are Some Of the Main Markets and Applications?\n\n• Automotive &amp; Precision Machining\n\n• Micro-manufacturing &amp; Nanotechnology\n\n• Consumer Electronics &amp; Displays\n\n• Optics &amp; Photonics\n\n• Aerospace &amp; Defense\n\n ZeGage\n\n™\n\nSTANDARD\n\nPERFORMANCE\n\nDESIGN\n\nROBUST\n\nPERFORMANCE\n\nUSE,\n\nENTRY-LEVEL\n\nBENCH-SYSTEM\n\nRIGHT\n\nFLOOR!\n\n NewView\n\n™\n\nHIGH\n\nPERFORMANCE\n\nPERFORMANCE, FLEXIBILITY, AND\n\nVALUE\n\nFOR\n\nOF\n\nAPPLICATIONS\n\nTO\n\nNEEDS!\n\n Nexview\n\n™\n\nULTRA\n\nPERFORMANCE\n\nINDUSTRY-LEADING\n\nSPEED, PRECISION\n\nAUTOMATION\n\nTHE\n\nDEMANDING\n\nAPPLICATIONS\n\n–\n\nFAST!\n\nSpecialty Models\n\n\n\nIn addition to the standard configurations, we have specialty models that apply in a package tailored for specific applications which include:\n\nCompass\n\n™ – For applications that require complete characterization of micro lenses and their alignment features, ZYGO&#39;s Compass™ system provides full surface, non-contact, 3mapping of surface form and deviation, topography, and relational/dimensional metrology of spherical or aspherical lenses and molds with sub-nanometer height precision, and millions of data points.\n\nNomad\n\n™ – The Nomad™ portable optical profiler is the ideal solution for measuring surfaces that are too large for the measurement stage of a conventional workstation profiler. As with our other optical profilers, the Nomad portable profiler has sub-nanometer measurement precision that is independent of field magnification.\n\nAPM650\n\n™ – The APM650™ packaging metrology system provides automated measurement of panel-based PCBs and other advanced packaging applications. It provides both 2&amp; 3measurements with sub-nanometer vertical precision and sub-micron lateral precision. The APM650 system features a large X/stage which accommodates panels up to 650 x 650 mm.\n\n\n\nProfiler Objectives\n\nOptical profiler objectives, mounted on a turret\n\n\n\nThe performance and capability of any optical profiler is largely dependent on the lens \n\nobjectives\n\n it uses. Objectives determine the magnification, working distance, slope capability, and field of view of the profiler, so choosing the right \n\nobjective\n\n(s) is very important to achieving your metrology goals.\n\nThe wide range of \n\nobjectives\n\n offers for its \n\noptical profilers\n\n is \n\nunmatched in the industry\n\n, and is continually growing. All \n\nobjectives\n\n are designed and manufactured \n\nin-house\n\n, ensuring top-quality objectives that are ideally suited for use in our profilers. This capability is unique to ZYGO.\n\n\n\nspecialty objectives\n\n for long working distances, wide field of view, and the ability to measure \n\nthin films\n\n and surfaces that are under a transparent surface. Download the \n\nobjectives selection chart\n\n (PDF) to see our full lineup of \n\nobjectives\n\nInquiry Form\n\n\n\nPlease use the form below to contact us with any questions you have regarding ZYGO&#39;s \n\nOptical Profiler\n\n systems, or \n\nsurface profiling\n\nFirst Name \n\n*\n\nLast Name \n\n*\n\nPhone Number\n\nE-mail Address \n\n*\n\nCompany or Organization \n\n*\n\nJob Title or Function \n\n*\n\nStreet Address\n\nCity\n\nState/Province \n\n*\n\nZip/Postal Code\n\n---Select---\n\nAlabama\n\nAlaska\n\nArizona\n\nArkansas\n\nCalifornia\n\nColorado\n\nConnecticut\n\nDelaware\n\nDistrict of Columbia\n\nFlorida\n\nGeorgia\n\nHawaii\n\nIdaho\n\nIllinois\n\nIndiana\n\nIowa\n\nKansas\n\nKentucky\n\nLouisiana\n\nMaine\n\nMaryland\n\nMassachusetts\n\nMichigan\n\nMinnesota\n\nMississippi\n\nMissouri\n\nMontana\n\nNebraska\n\nNevada\n\nNew Hampshire\n\nNew Jersey\n\nNew Mexico\n\nNew York\n\nNorth Carolina\n\nNorth Dakota\n\nOhio\n\nOklahoma\n\nOregon\n\nPennsylvania\n\nRhode Island\n\nSouth Carolina\n\nSouth Dakota\n\nTennessee\n\nTexas\n\nUtah\n\nVermont\n\nVirginia\n\nWashington\n\nWest Virginia\n\nWisconsin\n\nWyoming\n\nAlberta\n\nBritish Columbia\n\nManitoba\n\nNew Brunswick\n\nNewfoundland and Labrador\n\nNorthwest Territories\n\nNova Scotia\n\nNunavut\n\nOntario\n\nPrince Edward Island\n\nQuebec\n\nSaskatchewan\n\nYukon Territories\n\nInternational/Other\n\nCountry/Region \n\n*\n\n---Select---\n\nAfghanistan\n\nAlbania\n\nAlgeria\n\nAndorra\n\nAngola\n\nAntigua and Barbuda\n\nArgentina\n\nArmenia\n\nAustralia\n\nAustria\n\nAzerbaijan\n\nBahamas\n\nBahrain\n\nBangladesh\n\nBarbados\n\nBelarus\n\nBelgium\n\nBelize\n\nBenin\n\nBhutan\n\nBolivia, Plurinational State of\n\nBonaire, Sint Eustatius and Saba\n\nBosnia and Herzegovina\n\nBotswana\n\nBrazil\n\nBrunei Darussalam\n\nBulgaria\n\nBurkina Faso\n\nBurundi\n\nCambodia\n\nCameroon\n\nCanada\n\nCape Verde\n\nCentral African Republic\n\nChad\n\nChile\n\nChina\n\nColombia\n\nComoros\n\nCongo\n\nCongo, the Democratic Republic of the\n\nCosta Rica\n\nCote d&#39;Ivoire\n\nCroatia\n\nCuba\n\nCyprus\n\nCzech Republic\n\nDenmark\n\nDjibouti\n\nDominica\n\nDominican Republic\n\nEcuador\n\nEgypt\n\nEl Salvador\n\nEquatorial Guinea\n\nEritrea\n\nEstonia\n\nEthiopia\n\nFiji\n\nFinland\n\nFrance\n\nGabon\n\nGambia\n\nGeorgia\n\nGermany\n\nGhana\n\nGreece\n\nGreenland\n\nGrenada\n\nGuatemala\n\nGuinea\n\nGuinea-Bissau\n\nGuyana\n\nHaiti\n\nHonduras\n\nHungary\n\nIceland\n\nIndia\n\nIndonesia\n\nIran, Islamic Republic of\n\nIraq\n\nIreland\n\nIsrael\n\nItaly\n\nJamaica\n\nJapan\n\nJordan\n\nKazakhstan\n\nKenya\n\nKiribati\n\nKorea, Democratic People&#39;s Republic of\n\nKorea, Republic of\n\nKuwait\n\nKyrgyzstan\n\nLao People&#39;s Democratic Republic\n\nLebanon\n\nLesotho\n\nLiberia\n\nLibya\n\nLiechtenstein\n\nLithuania\n\nLuxembourg\n\nMadagascar\n\nMalawi\n\nMalaysia\n\nMaldives\n\nMali\n\nMauritania\n\nMauritius\n\nMexico\n\nMoldova, Republic of\n\nMonaco\n\nMongolia\n\nMontenegro\n\nMorocco\n\nMozambique\n\nMyanmar\n\nNamibia\n\nNauru\n\nNepal\n\nNetherlands\n\nNew Zealand\n\nNicaragua\n\nNiger\n\nNigeria\n\nNorway\n\nOman\n\nPakistan\n\nPalestine\n\nPanama\n\nPapua New Guinea\n\nParaguay\n\nPeru\n\nPhilippines\n\nPoland\n\nPortugal\n\nQatar\n\nRomania\n\nRussian Federation\n\nRwanda\n\nSaint Helena, Ascension and Tristan da Cunha\n\nSaint Kitts and Nevis\n\nSaint Lucia\n\nSaint Vincent and the Grenadines\n\nSamoa\n\nSan Marino\n\nSao Tome and Principe\n\nSaudi Arabia\n\nSenegal\n\nSerbia\n\nSierra Leone\n\nSingapore\n\nSlovakia\n\nSlovenia\n\nSolomon Islands\n\nSomalia\n\nSouth Africa\n\nSouth Sudan\n\nSpain\n\nSri Lanka\n\nSudan\n\nSuriname\n\nSwaziland\n\nSweden\n\nSwitzerland\n\nSyrian Arab Republic\n\nTaiwan (R.O.C.)\n\nTajikistan\n\nTanzania, United Republic of\n\nThailand\n\nTimor-Leste\n\nTogo\n\nTonga\n\nTrinidad and Tobago\n\nTunisia\n\nTurkey\n\nTurkmenistan\n\nTuvalu\n\nUganda\n\nUkraine\n\nUnited Arab Emirates\n\nUnited Kingdom\n\nUnited States\n\nUruguay\n\nUzbekistan\n\nVanuatu\n\nVenezuela, Bolivarian Republic of\n\nViet Nam\n\nWallis and Futuna\n\nYemen\n\nZambia\n\nZimbabwe\n\n  Check this box to provide consent for to contact you in the future. **\n\n\n\nPlease indicate your level of interest... \n\n*\n\n*\n\n Required entries\n\nNote:\n\n[close]\n\n\n\nBy continuing to use this site, you agree to our \n\nPrivacy and Cookie Policy\n\n. \n\nOK\n\nBrochures \n\nBrochures \n\nNexview™ NX2\n\nNewView™ 9000\n\nZeGage™ Pro\n\nCompass™\n\nAdvanced 3Films Analysis\n\nOptical Profiler Accessory Guide\n\nSpec Sheets \n\nSpec Sheets \n\nNexview™ NX2\n\nNewView™ 9000\n\nZeGage™ Pro\n\nZeGage™ Pro HR\n\nCompass™\n\nNexview™ NX2, NewView™ 9000, ZeGage™ Pro Objectives\n\nNexview™, NewView™ 8000, ZeGage Objective Chart\n\nTechnical Papers \n\nTechnical Papers \n\nApplications of model-based transparent surface films analysis using coherence scanning interferometry\n\nLimits to Resolution in Optical Dimension Metrology\n\nUsing Coherence Scanning Interferometry to Measure High-Slope Parts\n\nUsing Coherence Scanning Interferometry for Model-based Transparent Surface Films Analysis\n\nMeasuring the Form of Highly Sloped Surfaces using Optical Profiling\n\nShow All 57 Items \n\nShow Only First Five \n\nThe Meaning and Measure of Vertical Resolution in Optical Surface Topography Measurement\n\nInterference microscope objectives for wide-field areal surface topography measurements\n\nThe meaning and measure of vertical resolution in surface metrology\n\nInterference Microscopy for Surface Structure Analysis (book chapter)\n\nAdvances in optical metrology\n\nnew class of wide-field objectives for 3interference microscopy\n\nCalibration of the amplification coefficient in interference microscopy by means of a wavelength standard\n\nThe standards rash - is there a cure?\n\nMeasuring high-slope parts using coherence scanning interferometry\n\nPrinciples of interference microscopy for the measurement of surface topography\n\nWide-Field Interference Microscopy for Areal Topography of Precision Engineered Surface\n\nThe state of the art in interference microscopy: Modern techniques for geometric form, surface texture and areal structure analysis\n\nMeasuring High-Slope and Super-Smooth Optics with High Dynamic Range Coherence Scanning Interferometry\n\nHigh Slope Metrology with Non-Contact Interferometry\n\nProgress in the specification of optical instruments for the measurement of surface form and texture\n\nInterference Microscopy for Clean Air - How Optical Metrology Is Improving Quality Control of Fuel Injection Systems\n\nScanning White-Light Interferometry Fingerprints the Polishing Process\n\nUnderstanding Surface Texture Parameters\n\nLateral resolution and instrument transfer function as criteria for selecting surface metrology instruments\n\nThe Expanding Role of Optical Metrology in Precision Engineering\n\nThe Meaning and Measure of Lateral Resolution for Surface Profiling Interferometers\n\nCoherence scanning interferometry (book chapter)\n\nPhase Shifting Interferometry (book chapter)\n\nNon-Contact Glass Testing\n\nDesign of error-compensating algorithms for sinusoidal phase shifting interferometry\n\nModel-based white light interference microscopy for metrology of transparent film stacks and optically-unresolved structures\n\nSuppressing phase errors from vibration in phase-shifting interferometry\n\nTransparent film profiling and analysis by interference microscopy\n\nCharacterization of materials and film stacks for accurate surface topography measurement using a white-light optical profiler\n\nMetrology of optically-unresolved features using interferometric surface profiling and modeling\n\nAngle-resolved three-dimensional analysis of surface films by coherence scanning interferometry\n\nStroboscopic white-light interference microscopy\n\nGenerating fringe-free images from phase-shifted interferometry data\n\nOptical Topography Measurement of Patterned Wafers\n\nSignal modeling for low-coherence height-scanning interference microscopy\n\nStatic and dynamic characterization of and devices using optical interference microscopy\n\nValve cone measurement using white light interference microscopy in a spherical measurement geometry\n\nDetermination of fringe order in white-light interference microscopy\n\nOptical interferometry for measurement of the geometric dimensions of industrial parts\n\nStep height measurements using a combination of a laser displacement gage and a broadband interferometric surface profiler\n\nOptical properties of alumina titanium carbide sliders used in rigid disk drives\n\nDetermining the optical constants of read-write sliders during flying-height testing\n\nScanning Interferometer Characterizes Surfaces\n\nVibration in phase shifting interferometry\n\nHigh-speed non-contact profiler based on scanning white light interferometry\n\nDetermination of the phase change on reflection from two-beam interference\n\nSurface profiling by frequency-domain analysis of white-light interferograms\n\nThree-dimensional imaging by sub-Nyquist sampling of white-light interferograms\n\nWhat is Frequency Domain Analysis?\n\nInterferometric microscope with true color imaging\n\nEvaluation of the measurement performance of a coherence scanning microscope using roughness specimens\n\nContact Today\n\n››\n\nNews:\n\n Launches Latest Generation of ZeGage Non-Contact 3Optical Profilers\n\n››\n\nBlog:\n\n Using Grazing Incidence Interferometry to Measure Large or Non-Specular Surfaces\n\n››\n\nBlog:\n\n Process Metrology Helps Ensure Quality of Smartphone Camera Lenses\n\n››\n\nBlog:\n\n Precision Lead Angle Metrology Improves Shaft Seals and Engine Efficiency\n\n››\n\nBlog:\n\n Precision Gear Tooth Metrology Helps Automaker Silence Humming Differential\n\n››\n\nBlog:\n\n Measuring Roughness on Super-Smooth Surfaces\n\n››\n\nBlog:\n\n New Smart Setup Feature Streamlines Precision Surface Metrology\n\n››\n\nBlog:\n\n Think you know ZYGO? Check out these six surprising facts and statistics...\n\nPrivacy and Cookie Policy\n\nPrivacy Policy Inquiry Form\n\nUnsubscribe\n\n×\n\nPrivacy Policy InquiryProducts\n\nMarkets\n\nApplications\n\nSupport\n\nForm, Waviness, Roughness\n\nPatent Information\n\nRegistrations\n\nLaunches Latest Generation of ZeGage Non-Contact 3Optical Profilers\n\nMiddlefield, – has announced the introduction of its latest generation of ZeGage™ 3optical profiling instruments providing precise and rapid non-contact measurement of surface topography for enhanced quality and process control.\n\nThe two new models, ZeGage Pro and ZeGage Pro , offer up to 2improvement in data points, a 50% larger maximum field of view, and increased measurement speed with simplified setup.  The ZeGage Pro systems maintain a small footprint, with versatile performance and ease of use. The new system&#39;s time-saving large field-of-view, combined with optional automated part staging, allows larger components to be measured quickly and easily in most environments.\n\nAt the core of the ZeGage Pro 3optical profiler is ZYGO&#39;s Mx™ software platform.   This comprehensive user-friendly control and analysis platform supports a broad range of surface metrology applications and data analyses. The rich suite of features includes results compliant with 25178 and 4287, image stitching, and automated measurement patterns.  The ZeGage Pro profilers now expand this offering with unique features that simplify operation and minimize operator variability, such as ZYGO&#39;s exclusive fast focus, Part Finder and Smart Setup tools.\n\nCommenting on the launch of the ZeGage Pro and ZeGage Pro profilers , Eric Felkel, Product Manager of Optical Profilers at said, &#34;Our latest generation of ZeGage profilers represents a new class of non-contact surface measurement system, while complementing our existing portfolio of metrology products .  It integrates our industry-leading and differentiated Coherence Scanning Interferometry (CSI) technology into a compact system, delivering fast and flexible results to meet the most stringent QC/requirements.   &#34;The ZeGage Pro sets a new benchmark for high value, easy-to-use, non-contact metrology tools that deliver precision on the production floor, without the need for expensive vibration isolation systems or consumables,&#34; he added.\n\nSummary of Main Features:\n\n• Large format imaging sensor yields 1.9 million data points – a 50% increase in field of view and 2more data points compared to the previous generation\n\n• SureScan™ technology reduces vibration sensitivity, providing greater flexibility in locating the instrument within a facility\n\n• Improved data acquisition and speed;  &gt;1.5faster than the previous generation\n\n• Higher sensitivity and dynamic range for reliable and precise metrology on challenging surfaces (e.g. high slopes , low reflectivity, rough texture)\n\n• Innovative and intuitive Mx™ software with &#34;smart&#34; features for enhanced ease-of-use, automation and productivity\n\n[close]Form, Waviness, Roughness\n\nPatent Information\n\nRegistrations\n\nPrivacy and Cookie Policy Last modified: May 3, 2018\n\nPlease read this policy carefully.  By visiting this website, you acknowledge and agree to the practices described in this policy, except where your specific consent is requested.  This Privacy Policy, and the Legal Notices listed on this website, which may be updated from time to time, describes our collection, use and disclosure of personal and non-personal information collected through this website or in the course of our business activities.\n\nFor the purposes of applicable data protection law, we, the business unit for this website, are the controller of any personal information collected from you on this website or otherwise for conducting or developing our business with you.\n\nInformation We Collect Automatically\n\nWhen you visit this website, our server automatically collects certain browser or device generated information, including but not limited to your:\n\ndomain;\n\nbrowser type;\n\npage visits.\n\nWe do not use this automatically collected information to try to identify you, however, we may associate it with the information you provide voluntarily, as detailed below.\n\nInformation You Provide\n\nIn using this website, conducting business with us or seeking to conduct business with us, you may voluntarily provide personal information to us in the following ways:\n\nby filling in forms (for example, a &#39;Contact Us&#39; form), on our website or at a trade show or anywhere else we conduct business;\n\nby downloading documentation from our website;\n\nby subscribing to newsletters or other communications;\n\nby corresponding with us by phone, e-mail or otherwise using our contact details; or\n\nby applying for a job, work placement or internship.\n\nTypically, the personal information you give us may include your name, company name, address, e-mail address, phone number, and any personal details required to resolve any enquiries or complaints.  This information is required to enter into a contract with you (such as in anticipation of an employment contract or a purchase agreement or the provision of services such as the download of information from our website) and failure to provide any information may result in our inability to provide requested services or products or consider your application for employment.\n\nInformation We Obtain from Third Parties\n\nWe may also obtain information about you and the company you work for from third parties, including social media and data augmentation services.\n\nCookies\n\ncookie is a small file that can be placed on your device&#39;s hard drive or on a website server.   We use cookies to obtain some of the automatically collected information described above. Most browsers automatically collect cookies, but you do not have to accept a cookie, and you can in fact modify your browser so that it will not accept cookies. For more information about cookies including how to set your internet browser to reject cookies please go to allaboutcookies.org .\n\nBy continuing to use this website, following display of our pop-up cookie notification banner, you agree to our use of cookies.\n\nDifferent types of cookies are used for different purposes on our website, these are known as: strictly necessary cookies, performance cookies, and functionality cookies. Some cookies may be provided by an external third party to provide additional functionality to our website and these are included below.\n\nStrictly necessary cookies\n\nThese are cookies that are essential to fulfil an action requested by you, such as identifying you as being logged in. If you prevent these cookies by adjusting your browser settings, we cannot guarantee how our website will perform during your visit.\n\nPerformance cookies\n\nThese are cookies used to improve our website, for example for analytics that let us see how our website is being used and where to make improvements. These cookies are used to collect information about how visitors use our website. The information is collected in an anonymous form and includes the number of visitors, where visitors have come from to the websites and the pages they visited.\n\nFunctionality cookies\n\nThese cookies enhance the performance and functionality of our website, often as a result of something you&#39;re doing as a user. For instance, we may personalize our content for you or remember your preferences.\n\nManaging and Deleting Cookies\n\nIf you want to manage cookies, you can do so from your browser. You can find out how to do this by going to the help menu in your browser. Please see allaboutcookies.org for further information.\n\n*** WARNING: skipped 2926 bytes of output ***\n\n\nWe may share your personal information with third parties in connection with potential or actual sale of our company or any of our assets, or those of any affiliated company, in which case personal information held by us about our users may be one of the transferred assets.\n\nWe will also respond to requests for information where required by to do so by law, or when we believe that disclosure is necessary to protect our rights and/or comply with a judicial proceeding, court order, request from a regulator or any other legal process served on us.\n\nMarketing, &amp; emails\n\nWhere lawful to do so, and subject to your consent where required, we may communicate with you by and email to tell you about our products and services. If you wish to opt-out of receiving marketing communications, please use the &#39;unsubscribe&#39; link provided in our emails or text the number in our SMS, or otherwise contact us directly through the Contact Us link below and we will stop sending you communications.\n\nProfiling for marketing purposes\n\nThe purpose of any profiling is to deliver website content or email content that has high relevancy and, or applicability to the company that you represent. To achieve this, we use the information you have provided, and information provided by third party data augmentation services, to try and identify the industry code and other important information for the company you represent. Additionally, we also try and identify the product and application interests your company may have based on your visiting patterns at our websites (Information we collect automatically) and responses to our emails (Information you provide).  Based on this information we then tailor the email content and potentially the website content to better match the requirements and interests of the company you represent. The described processing is based on our legitimate interest (Art. 6 (1) (f) GDPR).\n\nSecurity\n\nWe use data storage and security techniques to protect your personal information from unauthorized access, improper use or disclosure, unauthorized modification or unlawful destruction or accidental loss. However, it is important to remember that no website can be 100% secure and we cannot be held responsible for unauthorized or unintended access that is beyond our control.\n\nRetention of your Information\n\nWe apply a general rule of keeping personal information only for as long as required to fulfil the purposes for which it was collected.  However, in some circumstances we may retain personal information for longer periods of time, for instance where we are required to do so in accordance with legal, tax and accounting requirements.  In specific circumstances we may also retain your personal information for longer periods of time so that we have an accurate record of your dealings with us in the event of any complaints or challenges.\n\nExternal Links\n\nThis website may contain links to third party sites. Since we do not control nor are we responsible for the privacy practices of those websites, we encourage you to review the privacy policies of these third-party sites. This policy applies solely to personal information collected by this Website or in the course of our business activities.\n\nYour rights\n\nSubject to applicable law, you may have some or all of the following rights in respect of your personal information:\n\nto obtain a copy of your personal information together with information about how and on what basis that personal information is processed;\n\nto rectify inaccurate personal information (including the right to have incomplete personal information completed);\n\nto erase your personal information (in limited circumstances, where it is no longer necessary in relation to the purposes for which it was collected or processed);\n\nto restrict processing of your personal information where:\n\nthe accuracy of the personal information is contested;\n\nthe processing is unlawful but you object to the erasure of the personal information;\n\nwe no longer require the personal information, but it is still required for the establishment, exercise or defense of a legal claim;\n\nto port your data in machine-readable format to a third party (or to you) when we justify our processing on the basis of your consent or the performance of a contract with you;\n\nto withdraw your consent to our processing of your personal information (where that processing is based on your consent);\n\nto object to decisions which are based solely on automated processing or profiling; and\n\nto obtain or see a copy of the appropriate safeguards under which your personal information is transferred to a third country or international organisation.\n\nIn addition to the above rights, you have the right to object to any processing of your information which we have justified based on a legitimate interest, including profiling (as opposed to your consent, or to perform a contract with you). You also have the right to object to any processing of your information for direct marketing purposes, including profiling for marketing purposes.\n\nYou also have the right to lodge a complaint with your local supervisory authority for data protection.\n\nIn relation to all these rights, please contact us using the Contact Us link below. Please note that we may request proof of identity, and we reserve the right to charge a fee where permitted by law, for instance if your request is manifestly unfounded or excessive. We will endeavour to respond to your request within all applicable timeframes.\n\nContact Us\n\nIf you have any questions in relation to this policy or you wish to exercise any of your rights, please click here to submit your request .\n\n[close]Facts and Statistics About About Us\n\nCompany Profile\n\nNews Releases\n\nTrade Show Schedule\n\nManufacturing Locations\n\nSales/Service Offices\n\nHow to Get to Patent Information\n\nRegistrations\n\nConflict Minerals Policy\n\nPrivacy and Cookie Policy\n\nTerms &amp; Conditions\n\nJune 6, 2018\n\nCheck out these six surprising facts and statistics... \n\nmetrology products\n\n and \n\nprecision optical components and assemblies\n\n.  The infographic below highlights some little-known facts and statistics about the breadth and depth of ZYGO&#39;s experience and business. \n\n\n\nHave a question about ZYGO?  Just fill out the form...\n\nFirst Name \n\n*\n\nLast Name \n\n*\n\nPhone Number\n\nE-mail Address \n\n*\n\nCompany or Organization \n\n*\n\nJob Title or Function \n\n*\n\nStreet Address\n\nCity\n\nState/Province \n\n*\n\nZip/Postal Code\n\n---Select---\n\nAlabama\n\nAlaska\n\nArizona\n\nArkansas\n\nCalifornia\n\nColorado\n\nConnecticut\n\nDelaware\n\nDistrict of Columbia\n\nFlorida\n\nGeorgia\n\nHawaii\n\nIdaho\n\nIllinois\n\nIndiana\n\nIowa\n\nKansas\n\nKentucky\n\nLouisiana\n\nMaine\n\nMaryland\n\nMassachusetts\n\nMichigan\n\nMinnesota\n\nMississippi\n\nMissouri\n\nMontana\n\nNebraska\n\nNevada\n\nNew Hampshire\n\nNew Jersey\n\nNew Mexico\n\nNew York\n\nNorth Carolina\n\nNorth Dakota\n\nOhio\n\nOklahoma\n\nOregon\n\nPennsylvania\n\nRhode Island\n\nSouth Carolina\n\nSouth Dakota\n\nTennessee\n\nTexas\n\nUtah\n\nVermont\n\nVirginia\n\nWashington\n\nWest Virginia\n\nWisconsin\n\nWyoming\n\nAlberta\n\nBritish Columbia\n\nManitoba\n\nNew Brunswick\n\nNewfoundland and Labrador\n\nNorthwest Territories\n\nNova Scotia\n\nNunavut\n\nOntario\n\nPrince Edward Island\n\nQuebec\n\nSaskatchewan\n\nYukon Territories\n\nInternational/Other\n\nCountry/Region \n\n*\n\n---Select---\n\nAfghanistan\n\nAlbania\n\nAlgeria\n\nAndorra\n\nAngola\n\nAntigua and Barbuda\n\nArgentina\n\nArmenia\n\nAustralia\n\nAustria\n\nAzerbaijan\n\nBahamas\n\nBahrain\n\nBangladesh\n\nBarbados\n\nBelarus\n\nBelgium\n\nBelize\n\nBenin\n\nBhutan\n\nBolivia, Plurinational State of\n\nBonaire, Sint Eustatius and Saba\n\nBosnia and Herzegovina\n\nBotswana\n\nBrazil\n\nBrunei Darussalam\n\nBulgaria\n\nBurkina Faso\n\nBurundi\n\nCambodia\n\nCameroon\n\nCanada\n\nCape Verde\n\nCentral African Republic\n\nChad\n\nChile\n\nChina\n\nColombia\n\nComoros\n\nCongo\n\nCongo, the Democratic Republic of the\n\nCosta Rica\n\nCote d&#39;Ivoire\n\nCroatia\n\nCuba\n\nCyprus\n\nCzech Republic\n\nDenmark\n\nDjibouti\n\nDominica\n\nDominican Republic\n\nEcuador\n\nEgypt\n\nEl Salvador\n\nEquatorial Guinea\n\nEritrea\n\nEstonia\n\nEthiopia\n\nFiji\n\nFinland\n\nFrance\n\nGabon\n\nGambia\n\nGeorgia\n\nGermany\n\nGhana\n\nGreece\n\nGreenland\n\nGrenada\n\nGuatemala\n\nGuinea\n\nGuinea-Bissau\n\nGuyana\n\nHaiti\n\nHonduras\n\nHungary\n\nIceland\n\nIndia\n\nIndonesia\n\nIran, Islamic Republic of\n\nIraq\n\nIreland\n\nIsrael\n\nItaly\n\nJamaica\n\nJapan\n\nJordan\n\nKazakhstan\n\nKenya\n\nKiribati\n\nKorea, Democratic People&#39;s Republic of\n\nKorea, Republic of\n\nKuwait\n\nKyrgyzstan\n\nLao People&#39;s Democratic Republic\n\nLebanon\n\nLesotho\n\nLiberia\n\nLibya\n\nLiechtenstein\n\nLithuania\n\nLuxembourg\n\nMadagascar\n\nMalawi\n\nMalaysia\n\nMaldives\n\nMali\n\nMauritania\n\nMauritius\n\nMexico\n\nMoldova, Republic of\n\nMonaco\n\nMongolia\n\nMontenegro\n\nMorocco\n\nMozambique\n\nMyanmar\n\nNamibia\n\nNauru\n\nNepal\n\nNetherlands\n\nNew Zealand\n\nNicaragua\n\nNiger\n\nNigeria\n\nNorway\n\nOman\n\nPakistan\n\nPalestine\n\nPanama\n\nPapua New Guinea\n\nParaguay\n\nPeru\n\nPhilippines\n\nPoland\n\nPortugal\n\nQatar\n\nRomania\n\nRussian Federation\n\nRwanda\n\nSaint Helena, Ascension and Tristan da Cunha\n\nSaint Kitts and Nevis\n\nSaint Lucia\n\nSaint Vincent and the Grenadines\n\nSamoa\n\nSan Marino\n\nSao Tome and Principe\n\nSaudi Arabia\n\nSenegal\n\nSerbia\n\nSierra Leone\n\nSingapore\n\nSlovakia\n\nSlovenia\n\nSolomon Islands\n\nSomalia\n\nSouth Africa\n\nSouth Sudan\n\nSpain\n\nSri Lanka\n\nSudan\n\nSuriname\n\nSwaziland\n\nSweden\n\nSwitzerland\n\nSyrian Arab Republic\n\nTaiwan (R.O.C.)\n\nTajikistan\n\nTanzania, United Republic of\n\nThailand\n\nTimor-Leste\n\nTogo\n\nTonga\n\nTrinidad and Tobago\n\nTunisia\n\nTurkey\n\nTurkmenistan\n\nTuvalu\n\nUganda\n\nUkraine\n\nUnited Arab Emirates\n\nUnited Kingdom\n\nUnited States\n\nUruguay\n\nUzbekistan\n\nVanuatu\n\nVenezuela, Bolivarian Republic of\n\nViet Nam\n\nWallis and Futuna\n\nYemen\n\nZambia\n\nZimbabwe\n\n  Check this box to provide consent for to contact you in the future. **\n\n\n\nPlease indicate your level of interest... \n\n*\n\n*\n\n Required entries\n\nNote:\n\n[close]\n\n\n\nBy continuing to use this site, you agree to our \n\nPrivacy and Cookie Policy\n\n. \n\nOK\n\nWhat&#39;s New at ZYGO?\n\n››\n\nNews:\n\n Launches Latest Generation of ZeGage Non-Contact 3Optical Profilers\n\n››\n\nBlog:\n\n Using Grazing Incidence Interferometry to Measure Large or Non-Specular Surfaces\n\n››\n\nBlog:\n\n Process Metrology Helps Ensure Quality of Smartphone Camera Lenses\n\n››\n\nBlog:\n\n Precision Lead Angle Metrology Improves Shaft Seals and Engine Efficiency\n\n››\n\nBlog:\n\n Precision Gear Tooth Metrology Helps Automaker Silence Humming Differential\n\n››\n\nBlog:\n\n Measuring Roughness on Super-Smooth Surfaces\n\n››\n\nBlog:\n\n New Smart Setup Feature Streamlines Precision Surface Metrology\n\n››\n\nBlog:\n\n Think you know ZYGO? Check out these six surprising facts and statistics...\n\nVisit at these\n\nUpcoming Events:\n\nMD&amp;West\n\n02/05\n\nPhotonics West\n\n02/05\n\nAdvanced Lithography\n\n02/26\n\nHoustex\n\n02/26\n\nDefense &amp; Sensing\n\n04/16\n\nAnn. Mtg. &amp; Exhibt\n\n05/19\n\nWest\n\n07/09\n\nOptics &amp; Photonics\n\n08/13\n\nOptifab\n\n10/15\n\n(Click for a complete list)\n\nPrivacy and Cookie Policy\n\nPrivacy Policy Inquiry Form\n\nUnsubscribe\n\n×\n\nPrivacy Policy Inquiry3Optical Surface Profiler\n\nProducts\n\n3Optical Profilers\n\nLaser Interferometers\n\nPosition Metrology Systems\n\nCustom Metrology Solutions\n\nTrade-in &amp; Upgrade Program\n\nOptical Surface Profilers\n\nZeGage™ Pro  \n\nNew!\n\nNewView™ 9000\n\nNexview™NX2\n\nNomad™\n\nCompass™\n\nAPM650™\n\nMx™ Software\n\nProfiler Objectives\n\nOptical Profiler Basics\n\nSurface Roughness Measurement\n\nSurface Profiling\n\n3Optical Microscopy\n\n3Interference Microscopy\n\nProduction Ready 3Optical Profiler\n\nKey Features:\n\n Vibration-resistant, for metrology and process control on the production floor.\n\n 25178-compliant results ensure confidence in your metrology.\n\n Non-contact, area-based metrology technique prevents part damage and is insensitive to part lay.\n\n Measurements require no consumables.\n\nZeGage™ Pro\n\n and \n\nZeGage™ Pro HR\n\n 3optical profilers provide non-contact measurement and characterization of micro- and nano-scale features of virtually any surface, and set the new standard for performance, ease of use, flexibility, and precision of benchtop-class industrial non-contact surface profilers.\n\n\n\nThe base ZeGage™ Pro model delivers surface mapping at the nanometer scale, meeting the needs for most industrial surfaces.  For smoother samples, with a much finer surface finish, the ZeGage™ Pro offers more than 20higher precision with 0.15 nm vertical precision.\n\n\n\nZYGO&#39;s  ZeGage™ products have been taking interferometric surface profiling out of the lab and into production for nearly a decade. With the ZeGage Pro and Pro systems, powerful and trusted capabilities such as SureScan™ technology for vibration robust metrology are now paired with ZYGO&#39;s exclusive Part Finder and \n\nSmart Setup\n\n tools to make sample changes fast and easy, minimizing wasted time and maximizing throughput.\n\nMx Software\n\n Screen (click image for a larger view)\n\n\n\nLike all earlier ZeGage™ profilers, the ZeGage™ Pro and Pro systems are constructed with a compact benchtop-friendly design.  Coupled with SureScan™ technology, there is no need for expensive vibration isolation tables, system enclosures, or consumables. They also run ZYGO&#39;s interactive control software, \n\nMx™\n\n, for easy and detailed visualization to help you control your process.\n\nPowerful Performance \n\nProprietary non-contact measurement technology is enhanced with SureScan™ technology for low sensitivity to vibration and easy placement anywhere within your facility.\n\nQuantitative surface metrology with nanometer-level precision provides superior gage capability.\n\nHigh resolution 1.9 million pixel image sensor provides fast areal measurements in seconds, for excellent surface detail and visualization.\n\nFully-automated measurement sequences and field stitching enable high resolution inspection of large areas. (Requires optional motorized part stage.)\n\nVersatility\n\nMeasures a wide variety of surface materials and parameters, including 2and 3profiling of surface texture, form, step-height and more.\n\nIncluded Mx software provides comprehensive tools for surface data visualization, analysis and reporting.\n\nExpand the measurement range of your investment with accessories that include objective turrets, manual and motorized sample stages, and optional software modules for film topography profiling and 2analysis using Cognex VisionPro®.\n\n Productivity and Value\n\nSmart Setup technology reduces training time, and shortens part changeover by automating part finding, light setting, and scan configuration.  Smart Setup usually results in a first data map within 1 minute of placing the sample under the objective.\n\nCost-effective price-to-performance ratio compares favorably to alternative systems, including mechanical contact stylus profilers.\n\nNon-contact method means no consumable replacement costs to worry about.\n\nCompact, vibration-tolerant SureScan™ technology for easy integration anywhere in your facility.\n\nInquiry Form\n\n\n\nPlease use the form below to contact us with any questions you have regarding ZeGage™ \n\n3Optical Surface Profilers\n\n, or \n\nsurface profiling\n\nFirst Name \n\n*\n\nLast Name \n\n*\n\nPhone Number\n\nE-mail Address \n\n*\n\nCompany or Organization \n\n*\n\nJob Title or Function \n\n*\n\nStreet Address\n\nCity\n\nState/Province \n\n*\n\nZip/Postal Code\n\n---Select---\n\nAlabama\n\nAlaska\n\nArizona\n\nArkansas\n\nCalifornia\n\nColorado\n\nConnecticut\n\nDelaware\n\nDistrict of Columbia\n\nFlorida\n\nGeorgia\n\nHawaii\n\nIdaho\n\nIllinois\n\nIndiana\n\nIowa\n\nKansas\n\nKentucky\n\nLouisiana\n\nMaine\n\nMaryland\n\nMassachusetts\n\nMichigan\n\nMinnesota\n\nMississippi\n\nMissouri\n\nMontana\n\nNebraska\n\nNevada\n\nNew Hampshire\n\nNew Jersey\n\nNew Mexico\n\nNew York\n\nNorth Carolina\n\nNorth Dakota\n\nOhio\n\nOklahoma\n\nOregon\n\nPennsylvania\n\nRhode Island\n\nSouth Carolina\n\nSouth Dakota\n\nTennessee\n\nTexas\n\nUtah\n\nVermont\n\nVirginia\n\nWashington\n\nWest Virginia\n\nWisconsin\n\nWyoming\n\nAlberta\n\nBritish Columbia\n\nManitoba\n\nNew Brunswick\n\nNewfoundland and Labrador\n\nNorthwest Territories\n\nNova Scotia\n\nNunavut\n\nOntario\n\nPrince Edward Island\n\nQuebec\n\nSaskatchewan\n\nYukon Territories\n\nInternational/Other\n\nCountry/Region \n\n*\n\n---Select---\n\nAfghanistan\n\nAlbania\n\nAlgeria\n\nAndorra\n\nAngola\n\nAntigua and Barbuda\n\nArgentina\n\nArmenia\n\nAustralia\n\nAustria\n\nAzerbaijan\n\nBahamas\n\nBahrain\n\nBangladesh\n\nBarbados\n\nBelarus\n\nBelgium\n\nBelize\n\nBenin\n\nBhutan\n\nBolivia, Plurinational State of\n\nBonaire, Sint Eustatius and Saba\n\nBosnia and Herzegovina\n\nBotswana\n\nBrazil\n\nBrunei Darussalam\n\nBulgaria\n\nBurkina Faso\n\nBurundi\n\nCambodia\n\nCameroon\n\nCanada\n\nCape Verde\n\nCentral African Republic\n\nChad\n\nChile\n\nChina\n\nColombia\n\nComoros\n\nCongo\n\nCongo, the Democratic Republic of the\n\nCosta Rica\n\nCote d&#39;Ivoire\n\nCroatia\n\nCuba\n\nCyprus\n\nCzech Republic\n\nDenmark\n\nDjibouti\n\nDominica\n\nDominican Republic\n\nEcuador\n\nEgypt\n\nEl Salvador\n\nEquatorial Guinea\n\nEritrea\n\nEstonia\n\nEthiopia\n\nFiji\n\nFinland\n\nFrance\n\nGabon\n\nGambia\n\nGeorgia\n\nGermany\n\nGhana\n\nGreece\n\nGreenland\n\nGrenada\n\nGuatemala\n\nGuinea\n\nGuinea-Bissau\n\nGuyana\n\nHaiti\n\nHonduras\n\nHungary\n\nIceland\n\nIndia\n\nIndonesia\n\nIran, Islamic Republic of\n\nIraq\n\nIreland\n\nIsrael\n\nItaly\n\nJamaica\n\nJapan\n\nJordan\n\nKazakhstan\n\nKenya\n\nKiribati\n\nKorea, Democratic People&#39;s Republic of\n\nKorea, Republic of\n\nKuwait\n\nKyrgyzstan\n\nLao People&#39;s Democratic Republic\n\nLebanon\n\nLesotho\n\nLiberia\n\nLibya\n\nLiechtenstein\n\nLithuania\n\nLuxembourg\n\nMadagascar\n\nMalawi\n\nMalaysia\n\nMaldives\n\nMali\n\nMauritania\n\nMauritius\n\nMexico\n\nMoldova, Republic of\n\nMonaco\n\nMongolia\n\nMontenegro\n\nMorocco\n\nMozambique\n\nMyanmar\n\nNamibia\n\nNauru\n\nNepal\n\nNetherlands\n\nNew Zealand\n\nNicaragua\n\nNiger\n\nNigeria\n\nNorway\n\nOman\n\nPakistan\n\nPalestine\n\nPanama\n\nPapua New Guinea\n\nParaguay\n\nPeru\n\nPhilippines\n\nPoland\n\nPortugal\n\nQatar\n\nRomania\n\nRussian Federation\n\nRwanda\n\nSaint Helena, Ascension and Tristan da Cunha\n\nSaint Kitts and Nevis\n\nSaint Lucia\n\nSaint Vincent and the Grenadines\n\nSamoa\n\nSan Marino\n\nSao Tome and Principe\n\nSaudi Arabia\n\nSenegal\n\nSerbia\n\nSierra Leone\n\nSingapore\n\nSlovakia\n\nSlovenia\n\nSolomon Islands\n\nSomalia\n\nSouth Africa\n\nSouth Sudan\n\nSpain\n\nSri Lanka\n\nSudan\n\nSuriname\n\nSwaziland\n\nSweden\n\nSwitzerland\n\nSyrian Arab Republic\n\nTaiwan (R.O.C.)\n\nTajikistan\n\nTanzania, United Republic of\n\nThailand\n\nTimor-Leste\n\nTogo\n\nTonga\n\nTrinidad and Tobago\n\nTunisia\n\nTurkey\n\nTurkmenistan\n\nTuvalu\n\nUganda\n\nUkraine\n\nUnited Arab Emirates\n\nUnited Kingdom\n\nUnited States\n\nUruguay\n\nUzbekistan\n\nVanuatu\n\nVenezuela, Bolivarian Republic of\n\nViet Nam\n\nWallis and Futuna\n\nYemen\n\nZambia\n\nZimbabwe\n\n  Check this box to provide consent for to contact you in the future. **\n\n\n\nPlease indicate your level of interest... \n\n*\n\n*\n\n Required entries\n\nNote:\n\n[close]\n\n\n\nBy continuing to use this site, you agree to our \n\nPrivacy and Cookie Policy\n\n. \n\nOK\n\nBrochures \n\nBrochures \n\nZeGage™ Pro\n\nSpec Sheets \n\nSpec Sheets \n\nZeGage™ Pro\n\nZeGage™ Pro HR\n\nObjective Selection Chart\n\nApplication Notes \n\nApplication Notes \n\nCutting Tool Metrology\n\nMeasuring with an Optical Diverter on a NewView\n\nDiesel Fuel Injector Metrology\n\nOptical Profiling of Highly-Sloped Surfaces\n\nTransparent Films Analysis\n\nShow All 17 Items \n\nShow Only First Five \n\nMeasuring Sub-Angstrom Surface Texture\n\nMeasuring Dynamic Devices\n\nIdentifying and Controlling Vibration\n\nAnalysis\n\nIncluded Angle Measurements\n\nVision Software Suite\n\nGeometry and MetroPro® Calculations\n\nGetting the Most from the Advanced Texture Application\n\nFiltering on the NewView™\n\nversus RMS\n\nPhotovoltaic Panel Measurement on a NewView™\n\nMeasuring Honed Surfaces with a NewView\n\nTechnical Papers \n\nTechnical Papers \n\nLateral resolution and instrument transfer function as criteria for selecting surface metrology instruments\n\nEvaluation of the measurement performance of a coherence scanning microscope using roughness specimens\n\nApplications of model-based transparent surface films analysis using coherence scanning interferometry\n\nLimits to Resolution in Optical Dimension Metrology\n\nUsing Coherence Scanning Interferometry to Measure High-Slope Parts\n\nShow All 56 Items \n\nShow Only First Five \n\nUsing Coherence Scanning Interferometry for Model-based Transparent Surface Films Analysis\n\nMeasuring the Form of Highly Sloped Surfaces using Optical Profiling\n\nThe Meaning and Measure of Vertical Resolution in Optical Surface Topography Measurement\n\nInterference microscope objectives for wide-field areal surface topography measurements\n\nThe meaning and measure of vertical resolution in surface metrology\n\nInterference Microscopy for Surface Structure Analysis (book chapter)\n\nAdvances in optical metrology\n\nnew class of wide-field objectives for 3interference microscopy\n\nCalibration of the amplification coefficient in interference microscopy by means of a wavelength standard\n\nThe standards rash - is there a cure?\n\nMeasuring high-slope parts using coherence scanning interferometry\n\nPrinciples of interference microscopy for the measurement of surface topography\n\nWide-Field Interference Microscopy for Areal Topography of Precision Engineered Surface\n\nThe state of the art in interference microscopy: Modern techniques for geometric form, surface texture and areal structure analysis\n\nMeasuring High-Slope and Super-Smooth Optics with High Dynamic Range Coherence Scanning Interferometry\n\nHigh Slope Metrology with Non-Contact Interferometry\n\nProgress in the specification of optical instruments for the measurement of surface form and texture\n\nInterference Microscopy for Clean Air - How Optical Metrology Is Improving Quality Control of Fuel Injection Systems\n\nScanning White-Light Interferometry Fingerprints the Polishing Process\n\nUnderstanding Surface Texture Parameters\n\nThe Expanding Role of Optical Metrology in Precision Engineering\n\nThe Meaning and Measure of Lateral Resolution for Surface Profiling Interferometers\n\nCoherence scanning interferometry (book chapter)\n\nPhase Shifting Interferometry (book chapter)\n\nNon-Contact Glass Testing\n\nDesign of error-compensating algorithms for sinusoidal phase shifting interferometry\n\nModel-based white light interference microscopy for metrology of transparent film stacks and optically-unresolved structures\n\nSuppressing phase errors from vibration in phase-shifting interferometry\n\nTransparent film profiling and analysis by interference microscopy\n\nCharacterization of materials and film stacks for accurate surface topography measurement using a white-light optical profiler\n\nMetrology of optically-unresolved features using interferometric surface profiling and modeling\n\nAngle-resolved three-dimensional analysis of surface films by coherence scanning interferometry\n\nStroboscopic white-light interference microscopy\n\nGenerating fringe-free images from phase-shifted interferometry data\n\nOptical Topography Measurement of Patterned Wafers\n\nSignal modeling for low-coherence height-scanning interference microscopy\n\nStatic and dynamic characterization of and devices using optical interference microscopy\n\nValve cone measurement using white light interference microscopy in a spherical measurement geometry\n\nDetermination of fringe order in white-light interference microscopy\n\nOptical interferometry for measurement of the geometric dimensions of industrial parts\n\nStep height measurements using a combination of a laser displacement gage and a broadband interferometric surface profiler\n\nOptical properties of alumina titanium carbide sliders used in rigid disk drives\n\nDetermining the optical constants of read-write sliders during flying-height testing\n\nScanning Interferometer Characterizes Surfaces\n\nVibration in phase shifting interferometry\n\nHigh-speed non-contact profiler based on scanning white light interferometry\n\nDetermination of the phase change on reflection from two-beam interference\n\nSurface profiling by frequency-domain analysis of white-light interferograms\n\nThree-dimensional imaging by sub-Nyquist sampling of white-light interferograms\n\nWhat is Frequency Domain Analysis?\n\nNote: Login Required to download Application Notes; Click for details.\n\nContact Today\n\n››\n\nNews:\n\n Launches Latest Generation of ZeGage Non-Contact 3Optical Profilers\n\n››\n\nBlog:\n\n Using Grazing Incidence Interferometry to Measure Large or Non-Specular Surfaces\n\n››\n\nBlog:\n\n Process Metrology Helps Ensure Quality of Smartphone Camera Lenses\n\n››\n\nBlog:\n\n Precision Lead Angle Metrology Improves Shaft Seals and Engine Efficiency\n\n››\n\nBlog:\n\n Precision Gear Tooth Metrology Helps Automaker Silence Humming Differential\n\n››\n\nBlog:\n\n Measuring Roughness on Super-Smooth Surfaces\n\n››\n\nBlog:\n\n New Smart Setup Feature Streamlines Precision Surface Metrology\n\n››\n\nBlog:\n\n Think you know ZYGO? Check out these six surprising facts and statistics...\n\nPrivacy and Cookie Policy\n\nPrivacy Policy Inquiry Form\n\nUnsubscribe\n\n×\n\nPrivacy Policy Inquiry\n</div>",
              "removedWidgets": [],
              "addedWidgets": {},
              "metadata": {},
              "type": "html",
              "arguments": {}
            }
          },
          "data": {
            "text/html": [
              "<style scoped>\n  .ansiout {\n    display: block;\n    unicode-bidi: embed;\n    white-space: pre-wrap;\n    word-wrap: break-word;\n    word-break: break-all;\n    font-family: \"Source Code Pro\", \"Menlo\", monospace;;\n    font-size: 13px;\n    color: #555;\n    margin-left: 4px;\n    line-height: 19px;\n  }\n</style>\n<div class=\"ansiout\">Downloading:   0%|          | 0.00/490 [00:00&lt;?, ?B/s]\nDownloading:   0%|          | 0.00/255M [00:00&lt;?, ?B/s]\nDownloading:   0%|          | 0.00/48.0 [00:00&lt;?, ?B/s]\nDownloading:   0%|          | 0.00/226k [00:00&lt;?, ?B/s]\nDownloading:   0%|          | 0.00/112 [00:00&lt;?, ?B/s]\nMetrology\n\n3Optical Profilers\n\nLaser Interferometers\n\nPosition Metrology Systems\n\nCustom Metrology Solutions\n\nTrade-in &amp; Upgrade Program\n\nOptics\n\nOptical Components Group\n\nElectro-Optics Group\n\n- Engineering &amp; Product Development\n\n- Electro-Optical Assembly\n\n- Opto-Mechanical Assembly\n\n- Turnkey System Manufacturing\n\nMarkets &amp; Applications\n\n[close]\n\n\n\nBy continuing to use this site, you agree to our \n\nPrivacy and Cookie Policy\n\n. \n\nOK\n\nWhat&#39;s New at ZYGO?\n\n››\n\nNews:\n\n Launches Latest Generation of ZeGage Non-Contact 3Optical Profilers\n\n››\n\nBlog:\n\n Using Grazing Incidence Interferometry to Measure Large or Non-Specular Surfaces\n\n››\n\nBlog:\n\n Process Metrology Helps Ensure Quality of Smartphone Camera Lenses\n\n››\n\nBlog:\n\n Precision Lead Angle Metrology Improves Shaft Seals and Engine Efficiency\n\n››\n\nBlog:\n\n Precision Gear Tooth Metrology Helps Automaker Silence Humming Differential\n\n››\n\nBlog:\n\n Measuring Roughness on Super-Smooth Surfaces\n\n››\n\nBlog:\n\n New Smart Setup Feature Streamlines Precision Surface Metrology\n\n››\n\nBlog:\n\n Think you know ZYGO? Check out these six surprising facts and statistics...\n\nVisit at these\n\nUpcoming Events:\n\nMD&amp;West\n\n02/05\n\nPhotonics West\n\n02/05\n\nAdvanced Lithography\n\n02/26\n\nHoustex\n\n02/26\n\nDefense &amp; Sensing\n\n04/16\n\nAnn. Mtg. &amp; Exhibt\n\n05/19\n\nWest\n\n07/09\n\nOptics &amp; Photonics\n\n08/13\n\nOptifab\n\n10/15\n\n(Click for a complete list)\n\nPrivacy and Cookie Policy\n\nPrivacy Policy Inquiry Form\n\nUnsubscribe\n\n×\n\nPrivacy Policy InquiryAbout Us\n\nCompany Profile\n\nNews Releases\n\nTrade Show Schedule\n\nManufacturing Locations\n\nSales/Service Offices\n\nHow to Get to Patent Information\n\nRegistrations\n\nConflict Minerals Policy\n\nPrivacy and Cookie Policy\n\nTerms &amp; Conditions\n\nZYGO&#39;s booth at Photonics West\n\nMicro-Seminar in Progress\n\nfree\n\n~ 2019 ~\n\nMD&amp;West\n\nPhotonics West 2019 Exhibition\n\nW3 Fair+Convention 2019\n\nAdvanced Lithography\n\nHoustex\n\nDefense &amp; Sensing\n\nCONTROL\n\nAnnual Meeting &amp; Exhibition\n\nEUSPEN\n\nLASER\n\nWest\n\nOptics &amp; Photonics\n\nOptifab 2019\n\nIMTS\n\n[close]\n\n\n\nBy continuing to use this site, you agree to our \n\nPrivacy and Cookie Policy\n\n. \n\nOK\n\nWhat&#39;s New at ZYGO?\n\n››\n\nNews:\n\n Launches Latest Generation of ZeGage Non-Contact 3Optical Profilers\n\n››\n\nBlog:\n\n Using Grazing Incidence Interferometry to Measure Large or Non-Specular Surfaces\n\n››\n\nBlog:\n\n Process Metrology Helps Ensure Quality of Smartphone Camera Lenses\n\n››\n\nBlog:\n\n Precision Lead Angle Metrology Improves Shaft Seals and Engine Efficiency\n\n››\n\nBlog:\n\n Precision Gear Tooth Metrology Helps Automaker Silence Humming Differential\n\n››\n\nBlog:\n\n Measuring Roughness on Super-Smooth Surfaces\n\n››\n\nBlog:\n\n New Smart Setup Feature Streamlines Precision Surface Metrology\n\n››\n\nBlog:\n\n Think you know ZYGO? Check out these six surprising facts and statistics...\n\nVisit at these\n\nUpcoming Events:\n\nMD&amp;West\n\n02/05\n\nPhotonics West\n\n02/05\n\nAdvanced Lithography\n\n02/26\n\nHoustex\n\n02/26\n\nDefense &amp; Sensing\n\n04/16\n\nAnn. Mtg. &amp; Exhibt\n\n05/19\n\nWest\n\n07/09\n\nOptics &amp; Photonics\n\n08/13\n\nOptifab\n\n10/15\n\n(Click for a complete list)\n\nPrivacy and Cookie Policy\n\nPrivacy Policy Inquiry Form\n\nUnsubscribe\n\n×\n\nPrivacy Policy InquiryOptical Surface Profilers\n\nProducts\n\n3Optical Profilers\n\nLaser Interferometers\n\nPosition Metrology Systems\n\nCustom Metrology Solutions\n\nTrade-in &amp; Upgrade Program\n\nOptical Surface Profilers\n\nZeGage™ Pro  \n\nNew!\n\nNewView™ 9000\n\nNexview™NX2\n\nNomad™\n\nCompass™\n\nAPM650™\n\nMx™ Software\n\nProfiler Objectives\n\nOptical Profiler Basics\n\nSurface Roughness Measurement\n\nSurface Profiling\n\n3Optical Microscopy\n\n3Interference Microscopy\n\nZYGO&#39;s 3Optical Profiler instruments enable precise, quantitative, ISO-compliant, \n\nnon-contact\n\n surface measurement and characterization of micro- and nano-scale surface features, capturing \n\nup to two million data points\n\nin just seconds\n\n. Choosing the right optical profiler system depends on your application&#39;s requirements, including speed, precision, vertical range, automation, and flexibility.\n\nOur 3Optical Profiler instruments achieve best in class performance through advanced, patented, and differentiated technologies with superior speed, precision, resolution, and application versatility all in a single metrology instrument.\n\nWith multiple configurations that range from simple to use benchtop systems to advanced fully automated platforms, ZYGO&#39;s optical profilers have proven themselves in installations that range from R&amp;and standards laboratories to industrial process control workstations to in-line metrology solutions.\n\nRegardless of the installation type, our systems provide leading performance for optical measurements of surface structure and texture across varying surface scales and offer hundreds of reportable parameters, including areal surface roughness to 25178 standards as well as 2profile standards, 4287/4288.\n\nHow Does ZYGO&#39;s Technology Compare?  What Are Some Of The Key Advantages?\n\nOur instruments include several advantages based on the core technology employed, system-level features and options, software functionality, and many others.  For simplicity, we have compared our CSI-technology to two of the most common alternative optical technologies (confocal, focus variation). Highlighted below are just some of the key attributes and advantages.\n\n• Higher speed\n\n• Superior Z-resolution (independent of magnification)\n\n• Wider magnification/range\n\n• Capable of measuring super-smooth to rough surfaces\n\nWhat Are Some Of the Main Markets and Applications?\n\n• Automotive &amp; Precision Machining\n\n• Micro-manufacturing &amp; Nanotechnology\n\n• Consumer Electronics &amp; Displays\n\n• Optics &amp; Photonics\n\n• Aerospace &amp; Defense\n\n ZeGage\n\n™\n\nSTANDARD\n\nPERFORMANCE\n\nDESIGN\n\nROBUST\n\nPERFORMANCE\n\nUSE,\n\nENTRY-LEVEL\n\nBENCH-SYSTEM\n\nRIGHT\n\nFLOOR!\n\n NewView\n\n™\n\nHIGH\n\nPERFORMANCE\n\nPERFORMANCE, FLEXIBILITY, AND\n\nVALUE\n\nFOR\n\nOF\n\nAPPLICATIONS\n\nTO\n\nNEEDS!\n\n Nexview\n\n™\n\nULTRA\n\nPERFORMANCE\n\nINDUSTRY-LEADING\n\nSPEED, PRECISION\n\nAUTOMATION\n\nTHE\n\nDEMANDING\n\nAPPLICATIONS\n\n–\n\nFAST!\n\nSpecialty Models\n\n\n\nIn addition to the standard configurations, we have specialty models that apply in a package tailored for specific applications which include:\n\nCompass\n\n™ – For applications that require complete characterization of micro lenses and their alignment features, ZYGO&#39;s Compass™ system provides full surface, non-contact, 3mapping of surface form and deviation, topography, and relational/dimensional metrology of spherical or aspherical lenses and molds with sub-nanometer height precision, and millions of data points.\n\nNomad\n\n™ – The Nomad™ portable optical profiler is the ideal solution for measuring surfaces that are too large for the measurement stage of a conventional workstation profiler. As with our other optical profilers, the Nomad portable profiler has sub-nanometer measurement precision that is independent of field magnification.\n\nAPM650\n\n™ – The APM650™ packaging metrology system provides automated measurement of panel-based PCBs and other advanced packaging applications. It provides both 2&amp; 3measurements with sub-nanometer vertical precision and sub-micron lateral precision. The APM650 system features a large X/stage which accommodates panels up to 650 x 650 mm.\n\n\n\nProfiler Objectives\n\nOptical profiler objectives, mounted on a turret\n\n\n\nThe performance and capability of any optical profiler is largely dependent on the lens \n\nobjectives\n\n it uses. Objectives determine the magnification, working distance, slope capability, and field of view of the profiler, so choosing the right \n\nobjective\n\n(s) is very important to achieving your metrology goals.\n\nThe wide range of \n\nobjectives\n\n offers for its \n\noptical profilers\n\n is \n\nunmatched in the industry\n\n, and is continually growing. All \n\nobjectives\n\n are designed and manufactured \n\nin-house\n\n, ensuring top-quality objectives that are ideally suited for use in our profilers. This capability is unique to ZYGO.\n\n\n\nspecialty objectives\n\n for long working distances, wide field of view, and the ability to measure \n\nthin films\n\n and surfaces that are under a transparent surface. Download the \n\nobjectives selection chart\n\n (PDF) to see our full lineup of \n\nobjectives\n\nInquiry Form\n\n\n\nPlease use the form below to contact us with any questions you have regarding ZYGO&#39;s \n\nOptical Profiler\n\n systems, or \n\nsurface profiling\n\nFirst Name \n\n*\n\nLast Name \n\n*\n\nPhone Number\n\nE-mail Address \n\n*\n\nCompany or Organization \n\n*\n\nJob Title or Function \n\n*\n\nStreet Address\n\nCity\n\nState/Province \n\n*\n\nZip/Postal Code\n\n---Select---\n\nAlabama\n\nAlaska\n\nArizona\n\nArkansas\n\nCalifornia\n\nColorado\n\nConnecticut\n\nDelaware\n\nDistrict of Columbia\n\nFlorida\n\nGeorgia\n\nHawaii\n\nIdaho\n\nIllinois\n\nIndiana\n\nIowa\n\nKansas\n\nKentucky\n\nLouisiana\n\nMaine\n\nMaryland\n\nMassachusetts\n\nMichigan\n\nMinnesota\n\nMississippi\n\nMissouri\n\nMontana\n\nNebraska\n\nNevada\n\nNew Hampshire\n\nNew Jersey\n\nNew Mexico\n\nNew York\n\nNorth Carolina\n\nNorth Dakota\n\nOhio\n\nOklahoma\n\nOregon\n\nPennsylvania\n\nRhode Island\n\nSouth Carolina\n\nSouth Dakota\n\nTennessee\n\nTexas\n\nUtah\n\nVermont\n\nVirginia\n\nWashington\n\nWest Virginia\n\nWisconsin\n\nWyoming\n\nAlberta\n\nBritish Columbia\n\nManitoba\n\nNew Brunswick\n\nNewfoundland and Labrador\n\nNorthwest Territories\n\nNova Scotia\n\nNunavut\n\nOntario\n\nPrince Edward Island\n\nQuebec\n\nSaskatchewan\n\nYukon Territories\n\nInternational/Other\n\nCountry/Region \n\n*\n\n---Select---\n\nAfghanistan\n\nAlbania\n\nAlgeria\n\nAndorra\n\nAngola\n\nAntigua and Barbuda\n\nArgentina\n\nArmenia\n\nAustralia\n\nAustria\n\nAzerbaijan\n\nBahamas\n\nBahrain\n\nBangladesh\n\nBarbados\n\nBelarus\n\nBelgium\n\nBelize\n\nBenin\n\nBhutan\n\nBolivia, Plurinational State of\n\nBonaire, Sint Eustatius and Saba\n\nBosnia and Herzegovina\n\nBotswana\n\nBrazil\n\nBrunei Darussalam\n\nBulgaria\n\nBurkina Faso\n\nBurundi\n\nCambodia\n\nCameroon\n\nCanada\n\nCape Verde\n\nCentral African Republic\n\nChad\n\nChile\n\nChina\n\nColombia\n\nComoros\n\nCongo\n\nCongo, the Democratic Republic of the\n\nCosta Rica\n\nCote d&#39;Ivoire\n\nCroatia\n\nCuba\n\nCyprus\n\nCzech Republic\n\nDenmark\n\nDjibouti\n\nDominica\n\nDominican Republic\n\nEcuador\n\nEgypt\n\nEl Salvador\n\nEquatorial Guinea\n\nEritrea\n\nEstonia\n\nEthiopia\n\nFiji\n\nFinland\n\nFrance\n\nGabon\n\nGambia\n\nGeorgia\n\nGermany\n\nGhana\n\nGreece\n\nGreenland\n\nGrenada\n\nGuatemala\n\nGuinea\n\nGuinea-Bissau\n\nGuyana\n\nHaiti\n\nHonduras\n\nHungary\n\nIceland\n\nIndia\n\nIndonesia\n\nIran, Islamic Republic of\n\nIraq\n\nIreland\n\nIsrael\n\nItaly\n\nJamaica\n\nJapan\n\nJordan\n\nKazakhstan\n\nKenya\n\nKiribati\n\nKorea, Democratic People&#39;s Republic of\n\nKorea, Republic of\n\nKuwait\n\nKyrgyzstan\n\nLao People&#39;s Democratic Republic\n\nLebanon\n\nLesotho\n\nLiberia\n\nLibya\n\nLiechtenstein\n\nLithuania\n\nLuxembourg\n\nMadagascar\n\nMalawi\n\nMalaysia\n\nMaldives\n\nMali\n\nMauritania\n\nMauritius\n\nMexico\n\nMoldova, Republic of\n\nMonaco\n\nMongolia\n\nMontenegro\n\nMorocco\n\nMozambique\n\nMyanmar\n\nNamibia\n\nNauru\n\nNepal\n\nNetherlands\n\nNew Zealand\n\nNicaragua\n\nNiger\n\nNigeria\n\nNorway\n\nOman\n\nPakistan\n\nPalestine\n\nPanama\n\nPapua New Guinea\n\nParaguay\n\nPeru\n\nPhilippines\n\nPoland\n\nPortugal\n\nQatar\n\nRomania\n\nRussian Federation\n\nRwanda\n\nSaint Helena, Ascension and Tristan da Cunha\n\nSaint Kitts and Nevis\n\nSaint Lucia\n\nSaint Vincent and the Grenadines\n\nSamoa\n\nSan Marino\n\nSao Tome and Principe\n\nSaudi Arabia\n\nSenegal\n\nSerbia\n\nSierra Leone\n\nSingapore\n\nSlovakia\n\nSlovenia\n\nSolomon Islands\n\nSomalia\n\nSouth Africa\n\nSouth Sudan\n\nSpain\n\nSri Lanka\n\nSudan\n\nSuriname\n\nSwaziland\n\nSweden\n\nSwitzerland\n\nSyrian Arab Republic\n\nTaiwan (R.O.C.)\n\nTajikistan\n\nTanzania, United Republic of\n\nThailand\n\nTimor-Leste\n\nTogo\n\nTonga\n\nTrinidad and Tobago\n\nTunisia\n\nTurkey\n\nTurkmenistan\n\nTuvalu\n\nUganda\n\nUkraine\n\nUnited Arab Emirates\n\nUnited Kingdom\n\nUnited States\n\nUruguay\n\nUzbekistan\n\nVanuatu\n\nVenezuela, Bolivarian Republic of\n\nViet Nam\n\nWallis and Futuna\n\nYemen\n\nZambia\n\nZimbabwe\n\n  Check this box to provide consent for to contact you in the future. **\n\n\n\nPlease indicate your level of interest... \n\n*\n\n*\n\n Required entries\n\nNote:\n\n[close]\n\n\n\nBy continuing to use this site, you agree to our \n\nPrivacy and Cookie Policy\n\n. \n\nOK\n\nBrochures \n\nBrochures \n\nNexview™ NX2\n\nNewView™ 9000\n\nZeGage™ Pro\n\nCompass™\n\nAdvanced 3Films Analysis\n\nOptical Profiler Accessory Guide\n\nSpec Sheets \n\nSpec Sheets \n\nNexview™ NX2\n\nNewView™ 9000\n\nZeGage™ Pro\n\nZeGage™ Pro HR\n\nCompass™\n\nNexview™ NX2, NewView™ 9000, ZeGage™ Pro Objectives\n\nNexview™, NewView™ 8000, ZeGage Objective Chart\n\nTechnical Papers \n\nTechnical Papers \n\nApplications of model-based transparent surface films analysis using coherence scanning interferometry\n\nLimits to Resolution in Optical Dimension Metrology\n\nUsing Coherence Scanning Interferometry to Measure High-Slope Parts\n\nUsing Coherence Scanning Interferometry for Model-based Transparent Surface Films Analysis\n\nMeasuring the Form of Highly Sloped Surfaces using Optical Profiling\n\nShow All 57 Items \n\nShow Only First Five \n\nThe Meaning and Measure of Vertical Resolution in Optical Surface Topography Measurement\n\nInterference microscope objectives for wide-field areal surface topography measurements\n\nThe meaning and measure of vertical resolution in surface metrology\n\nInterference Microscopy for Surface Structure Analysis (book chapter)\n\nAdvances in optical metrology\n\nnew class of wide-field objectives for 3interference microscopy\n\nCalibration of the amplification coefficient in interference microscopy by means of a wavelength standard\n\nThe standards rash - is there a cure?\n\nMeasuring high-slope parts using coherence scanning interferometry\n\nPrinciples of interference microscopy for the measurement of surface topography\n\nWide-Field Interference Microscopy for Areal Topography of Precision Engineered Surface\n\nThe state of the art in interference microscopy: Modern techniques for geometric form, surface texture and areal structure analysis\n\nMeasuring High-Slope and Super-Smooth Optics with High Dynamic Range Coherence Scanning Interferometry\n\nHigh Slope Metrology with Non-Contact Interferometry\n\nProgress in the specification of optical instruments for the measurement of surface form and texture\n\nInterference Microscopy for Clean Air - How Optical Metrology Is Improving Quality Control of Fuel Injection Systems\n\nScanning White-Light Interferometry Fingerprints the Polishing Process\n\nUnderstanding Surface Texture Parameters\n\nLateral resolution and instrument transfer function as criteria for selecting surface metrology instruments\n\nThe Expanding Role of Optical Metrology in Precision Engineering\n\nThe Meaning and Measure of Lateral Resolution for Surface Profiling Interferometers\n\nCoherence scanning interferometry (book chapter)\n\nPhase Shifting Interferometry (book chapter)\n\nNon-Contact Glass Testing\n\nDesign of error-compensating algorithms for sinusoidal phase shifting interferometry\n\nModel-based white light interference microscopy for metrology of transparent film stacks and optically-unresolved structures\n\nSuppressing phase errors from vibration in phase-shifting interferometry\n\nTransparent film profiling and analysis by interference microscopy\n\nCharacterization of materials and film stacks for accurate surface topography measurement using a white-light optical profiler\n\nMetrology of optically-unresolved features using interferometric surface profiling and modeling\n\nAngle-resolved three-dimensional analysis of surface films by coherence scanning interferometry\n\nStroboscopic white-light interference microscopy\n\nGenerating fringe-free images from phase-shifted interferometry data\n\nOptical Topography Measurement of Patterned Wafers\n\nSignal modeling for low-coherence height-scanning interference microscopy\n\nStatic and dynamic characterization of and devices using optical interference microscopy\n\nValve cone measurement using white light interference microscopy in a spherical measurement geometry\n\nDetermination of fringe order in white-light interference microscopy\n\nOptical interferometry for measurement of the geometric dimensions of industrial parts\n\nStep height measurements using a combination of a laser displacement gage and a broadband interferometric surface profiler\n\nOptical properties of alumina titanium carbide sliders used in rigid disk drives\n\nDetermining the optical constants of read-write sliders during flying-height testing\n\nScanning Interferometer Characterizes Surfaces\n\nVibration in phase shifting interferometry\n\nHigh-speed non-contact profiler based on scanning white light interferometry\n\nDetermination of the phase change on reflection from two-beam interference\n\nSurface profiling by frequency-domain analysis of white-light interferograms\n\nThree-dimensional imaging by sub-Nyquist sampling of white-light interferograms\n\nWhat is Frequency Domain Analysis?\n\nInterferometric microscope with true color imaging\n\nEvaluation of the measurement performance of a coherence scanning microscope using roughness specimens\n\nContact Today\n\n››\n\nNews:\n\n Launches Latest Generation of ZeGage Non-Contact 3Optical Profilers\n\n››\n\nBlog:\n\n Using Grazing Incidence Interferometry to Measure Large or Non-Specular Surfaces\n\n››\n\nBlog:\n\n Process Metrology Helps Ensure Quality of Smartphone Camera Lenses\n\n››\n\nBlog:\n\n Precision Lead Angle Metrology Improves Shaft Seals and Engine Efficiency\n\n››\n\nBlog:\n\n Precision Gear Tooth Metrology Helps Automaker Silence Humming Differential\n\n››\n\nBlog:\n\n Measuring Roughness on Super-Smooth Surfaces\n\n››\n\nBlog:\n\n New Smart Setup Feature Streamlines Precision Surface Metrology\n\n››\n\nBlog:\n\n Think you know ZYGO? Check out these six surprising facts and statistics...\n\nPrivacy and Cookie Policy\n\nPrivacy Policy Inquiry Form\n\nUnsubscribe\n\n×\n\nPrivacy Policy InquiryProducts\n\nMarkets\n\nApplications\n\nSupport\n\nForm, Waviness, Roughness\n\nPatent Information\n\nRegistrations\n\nLaunches Latest Generation of ZeGage Non-Contact 3Optical Profilers\n\nMiddlefield, – has announced the introduction of its latest generation of ZeGage™ 3optical profiling instruments providing precise and rapid non-contact measurement of surface topography for enhanced quality and process control.\n\nThe two new models, ZeGage Pro and ZeGage Pro , offer up to 2improvement in data points, a 50% larger maximum field of view, and increased measurement speed with simplified setup.  The ZeGage Pro systems maintain a small footprint, with versatile performance and ease of use. The new system&#39;s time-saving large field-of-view, combined with optional automated part staging, allows larger components to be measured quickly and easily in most environments.\n\nAt the core of the ZeGage Pro 3optical profiler is ZYGO&#39;s Mx™ software platform.   This comprehensive user-friendly control and analysis platform supports a broad range of surface metrology applications and data analyses. The rich suite of features includes results compliant with 25178 and 4287, image stitching, and automated measurement patterns.  The ZeGage Pro profilers now expand this offering with unique features that simplify operation and minimize operator variability, such as ZYGO&#39;s exclusive fast focus, Part Finder and Smart Setup tools.\n\nCommenting on the launch of the ZeGage Pro and ZeGage Pro profilers , Eric Felkel, Product Manager of Optical Profilers at said, &#34;Our latest generation of ZeGage profilers represents a new class of non-contact surface measurement system, while complementing our existing portfolio of metrology products .  It integrates our industry-leading and differentiated Coherence Scanning Interferometry (CSI) technology into a compact system, delivering fast and flexible results to meet the most stringent QC/requirements.   &#34;The ZeGage Pro sets a new benchmark for high value, easy-to-use, non-contact metrology tools that deliver precision on the production floor, without the need for expensive vibration isolation systems or consumables,&#34; he added.\n\nSummary of Main Features:\n\n• Large format imaging sensor yields 1.9 million data points – a 50% increase in field of view and 2more data points compared to the previous generation\n\n• SureScan™ technology reduces vibration sensitivity, providing greater flexibility in locating the instrument within a facility\n\n• Improved data acquisition and speed;  &gt;1.5faster than the previous generation\n\n• Higher sensitivity and dynamic range for reliable and precise metrology on challenging surfaces (e.g. high slopes , low reflectivity, rough texture)\n\n• Innovative and intuitive Mx™ software with &#34;smart&#34; features for enhanced ease-of-use, automation and productivity\n\n[close]Form, Waviness, Roughness\n\nPatent Information\n\nRegistrations\n\nPrivacy and Cookie Policy Last modified: May 3, 2018\n\nPlease read this policy carefully.  By visiting this website, you acknowledge and agree to the practices described in this policy, except where your specific consent is requested.  This Privacy Policy, and the Legal Notices listed on this website, which may be updated from time to time, describes our collection, use and disclosure of personal and non-personal information collected through this website or in the course of our business activities.\n\nFor the purposes of applicable data protection law, we, the business unit for this website, are the controller of any personal information collected from you on this website or otherwise for conducting or developing our business with you.\n\nInformation We Collect Automatically\n\nWhen you visit this website, our server automatically collects certain browser or device generated information, including but not limited to your:\n\ndomain;\n\nbrowser type;\n\npage visits.\n\nWe do not use this automatically collected information to try to identify you, however, we may associate it with the information you provide voluntarily, as detailed below.\n\nInformation You Provide\n\nIn using this website, conducting business with us or seeking to conduct business with us, you may voluntarily provide personal information to us in the following ways:\n\nby filling in forms (for example, a &#39;Contact Us&#39; form), on our website or at a trade show or anywhere else we conduct business;\n\nby downloading documentation from our website;\n\nby subscribing to newsletters or other communications;\n\nby corresponding with us by phone, e-mail or otherwise using our contact details; or\n\nby applying for a job, work placement or internship.\n\nTypically, the personal information you give us may include your name, company name, address, e-mail address, phone number, and any personal details required to resolve any enquiries or complaints.  This information is required to enter into a contract with you (such as in anticipation of an employment contract or a purchase agreement or the provision of services such as the download of information from our website) and failure to provide any information may result in our inability to provide requested services or products or consider your application for employment.\n\nInformation We Obtain from Third Parties\n\nWe may also obtain information about you and the company you work for from third parties, including social media and data augmentation services.\n\nCookies\n\ncookie is a small file that can be placed on your device&#39;s hard drive or on a website server.   We use cookies to obtain some of the automatically collected information described above. Most browsers automatically collect cookies, but you do not have to accept a cookie, and you can in fact modify your browser so that it will not accept cookies. For more information about cookies including how to set your internet browser to reject cookies please go to allaboutcookies.org .\n\nBy continuing to use this website, following display of our pop-up cookie notification banner, you agree to our use of cookies.\n\nDifferent types of cookies are used for different purposes on our website, these are known as: strictly necessary cookies, performance cookies, and functionality cookies. Some cookies may be provided by an external third party to provide additional functionality to our website and these are included below.\n\nStrictly necessary cookies\n\nThese are cookies that are essential to fulfil an action requested by you, such as identifying you as being logged in. If you prevent these cookies by adjusting your browser settings, we cannot guarantee how our website will perform during your visit.\n\nPerformance cookies\n\nThese are cookies used to improve our website, for example for analytics that let us see how our website is being used and where to make improvements. These cookies are used to collect information about how visitors use our website. The information is collected in an anonymous form and includes the number of visitors, where visitors have come from to the websites and the pages they visited.\n\nFunctionality cookies\n\nThese cookies enhance the performance and functionality of our website, often as a result of something you&#39;re doing as a user. For instance, we may personalize our content for you or remember your preferences.\n\nManaging and Deleting Cookies\n\nIf you want to manage cookies, you can do so from your browser. You can find out how to do this by going to the help menu in your browser. Please see allaboutcookies.org for further information.\n\n*** WARNING: skipped 2926 bytes of output ***\n\n\nWe may share your personal information with third parties in connection with potential or actual sale of our company or any of our assets, or those of any affiliated company, in which case personal information held by us about our users may be one of the transferred assets.\n\nWe will also respond to requests for information where required by to do so by law, or when we believe that disclosure is necessary to protect our rights and/or comply with a judicial proceeding, court order, request from a regulator or any other legal process served on us.\n\nMarketing, &amp; emails\n\nWhere lawful to do so, and subject to your consent where required, we may communicate with you by and email to tell you about our products and services. If you wish to opt-out of receiving marketing communications, please use the &#39;unsubscribe&#39; link provided in our emails or text the number in our SMS, or otherwise contact us directly through the Contact Us link below and we will stop sending you communications.\n\nProfiling for marketing purposes\n\nThe purpose of any profiling is to deliver website content or email content that has high relevancy and, or applicability to the company that you represent. To achieve this, we use the information you have provided, and information provided by third party data augmentation services, to try and identify the industry code and other important information for the company you represent. Additionally, we also try and identify the product and application interests your company may have based on your visiting patterns at our websites (Information we collect automatically) and responses to our emails (Information you provide).  Based on this information we then tailor the email content and potentially the website content to better match the requirements and interests of the company you represent. The described processing is based on our legitimate interest (Art. 6 (1) (f) GDPR).\n\nSecurity\n\nWe use data storage and security techniques to protect your personal information from unauthorized access, improper use or disclosure, unauthorized modification or unlawful destruction or accidental loss. However, it is important to remember that no website can be 100% secure and we cannot be held responsible for unauthorized or unintended access that is beyond our control.\n\nRetention of your Information\n\nWe apply a general rule of keeping personal information only for as long as required to fulfil the purposes for which it was collected.  However, in some circumstances we may retain personal information for longer periods of time, for instance where we are required to do so in accordance with legal, tax and accounting requirements.  In specific circumstances we may also retain your personal information for longer periods of time so that we have an accurate record of your dealings with us in the event of any complaints or challenges.\n\nExternal Links\n\nThis website may contain links to third party sites. Since we do not control nor are we responsible for the privacy practices of those websites, we encourage you to review the privacy policies of these third-party sites. This policy applies solely to personal information collected by this Website or in the course of our business activities.\n\nYour rights\n\nSubject to applicable law, you may have some or all of the following rights in respect of your personal information:\n\nto obtain a copy of your personal information together with information about how and on what basis that personal information is processed;\n\nto rectify inaccurate personal information (including the right to have incomplete personal information completed);\n\nto erase your personal information (in limited circumstances, where it is no longer necessary in relation to the purposes for which it was collected or processed);\n\nto restrict processing of your personal information where:\n\nthe accuracy of the personal information is contested;\n\nthe processing is unlawful but you object to the erasure of the personal information;\n\nwe no longer require the personal information, but it is still required for the establishment, exercise or defense of a legal claim;\n\nto port your data in machine-readable format to a third party (or to you) when we justify our processing on the basis of your consent or the performance of a contract with you;\n\nto withdraw your consent to our processing of your personal information (where that processing is based on your consent);\n\nto object to decisions which are based solely on automated processing or profiling; and\n\nto obtain or see a copy of the appropriate safeguards under which your personal information is transferred to a third country or international organisation.\n\nIn addition to the above rights, you have the right to object to any processing of your information which we have justified based on a legitimate interest, including profiling (as opposed to your consent, or to perform a contract with you). You also have the right to object to any processing of your information for direct marketing purposes, including profiling for marketing purposes.\n\nYou also have the right to lodge a complaint with your local supervisory authority for data protection.\n\nIn relation to all these rights, please contact us using the Contact Us link below. Please note that we may request proof of identity, and we reserve the right to charge a fee where permitted by law, for instance if your request is manifestly unfounded or excessive. We will endeavour to respond to your request within all applicable timeframes.\n\nContact Us\n\nIf you have any questions in relation to this policy or you wish to exercise any of your rights, please click here to submit your request .\n\n[close]Facts and Statistics About About Us\n\nCompany Profile\n\nNews Releases\n\nTrade Show Schedule\n\nManufacturing Locations\n\nSales/Service Offices\n\nHow to Get to Patent Information\n\nRegistrations\n\nConflict Minerals Policy\n\nPrivacy and Cookie Policy\n\nTerms &amp; Conditions\n\nJune 6, 2018\n\nCheck out these six surprising facts and statistics... \n\nmetrology products\n\n and \n\nprecision optical components and assemblies\n\n.  The infographic below highlights some little-known facts and statistics about the breadth and depth of ZYGO&#39;s experience and business. \n\n\n\nHave a question about ZYGO?  Just fill out the form...\n\nFirst Name \n\n*\n\nLast Name \n\n*\n\nPhone Number\n\nE-mail Address \n\n*\n\nCompany or Organization \n\n*\n\nJob Title or Function \n\n*\n\nStreet Address\n\nCity\n\nState/Province \n\n*\n\nZip/Postal Code\n\n---Select---\n\nAlabama\n\nAlaska\n\nArizona\n\nArkansas\n\nCalifornia\n\nColorado\n\nConnecticut\n\nDelaware\n\nDistrict of Columbia\n\nFlorida\n\nGeorgia\n\nHawaii\n\nIdaho\n\nIllinois\n\nIndiana\n\nIowa\n\nKansas\n\nKentucky\n\nLouisiana\n\nMaine\n\nMaryland\n\nMassachusetts\n\nMichigan\n\nMinnesota\n\nMississippi\n\nMissouri\n\nMontana\n\nNebraska\n\nNevada\n\nNew Hampshire\n\nNew Jersey\n\nNew Mexico\n\nNew York\n\nNorth Carolina\n\nNorth Dakota\n\nOhio\n\nOklahoma\n\nOregon\n\nPennsylvania\n\nRhode Island\n\nSouth Carolina\n\nSouth Dakota\n\nTennessee\n\nTexas\n\nUtah\n\nVermont\n\nVirginia\n\nWashington\n\nWest Virginia\n\nWisconsin\n\nWyoming\n\nAlberta\n\nBritish Columbia\n\nManitoba\n\nNew Brunswick\n\nNewfoundland and Labrador\n\nNorthwest Territories\n\nNova Scotia\n\nNunavut\n\nOntario\n\nPrince Edward Island\n\nQuebec\n\nSaskatchewan\n\nYukon Territories\n\nInternational/Other\n\nCountry/Region \n\n*\n\n---Select---\n\nAfghanistan\n\nAlbania\n\nAlgeria\n\nAndorra\n\nAngola\n\nAntigua and Barbuda\n\nArgentina\n\nArmenia\n\nAustralia\n\nAustria\n\nAzerbaijan\n\nBahamas\n\nBahrain\n\nBangladesh\n\nBarbados\n\nBelarus\n\nBelgium\n\nBelize\n\nBenin\n\nBhutan\n\nBolivia, Plurinational State of\n\nBonaire, Sint Eustatius and Saba\n\nBosnia and Herzegovina\n\nBotswana\n\nBrazil\n\nBrunei Darussalam\n\nBulgaria\n\nBurkina Faso\n\nBurundi\n\nCambodia\n\nCameroon\n\nCanada\n\nCape Verde\n\nCentral African Republic\n\nChad\n\nChile\n\nChina\n\nColombia\n\nComoros\n\nCongo\n\nCongo, the Democratic Republic of the\n\nCosta Rica\n\nCote d&#39;Ivoire\n\nCroatia\n\nCuba\n\nCyprus\n\nCzech Republic\n\nDenmark\n\nDjibouti\n\nDominica\n\nDominican Republic\n\nEcuador\n\nEgypt\n\nEl Salvador\n\nEquatorial Guinea\n\nEritrea\n\nEstonia\n\nEthiopia\n\nFiji\n\nFinland\n\nFrance\n\nGabon\n\nGambia\n\nGeorgia\n\nGermany\n\nGhana\n\nGreece\n\nGreenland\n\nGrenada\n\nGuatemala\n\nGuinea\n\nGuinea-Bissau\n\nGuyana\n\nHaiti\n\nHonduras\n\nHungary\n\nIceland\n\nIndia\n\nIndonesia\n\nIran, Islamic Republic of\n\nIraq\n\nIreland\n\nIsrael\n\nItaly\n\nJamaica\n\nJapan\n\nJordan\n\nKazakhstan\n\nKenya\n\nKiribati\n\nKorea, Democratic People&#39;s Republic of\n\nKorea, Republic of\n\nKuwait\n\nKyrgyzstan\n\nLao People&#39;s Democratic Republic\n\nLebanon\n\nLesotho\n\nLiberia\n\nLibya\n\nLiechtenstein\n\nLithuania\n\nLuxembourg\n\nMadagascar\n\nMalawi\n\nMalaysia\n\nMaldives\n\nMali\n\nMauritania\n\nMauritius\n\nMexico\n\nMoldova, Republic of\n\nMonaco\n\nMongolia\n\nMontenegro\n\nMorocco\n\nMozambique\n\nMyanmar\n\nNamibia\n\nNauru\n\nNepal\n\nNetherlands\n\nNew Zealand\n\nNicaragua\n\nNiger\n\nNigeria\n\nNorway\n\nOman\n\nPakistan\n\nPalestine\n\nPanama\n\nPapua New Guinea\n\nParaguay\n\nPeru\n\nPhilippines\n\nPoland\n\nPortugal\n\nQatar\n\nRomania\n\nRussian Federation\n\nRwanda\n\nSaint Helena, Ascension and Tristan da Cunha\n\nSaint Kitts and Nevis\n\nSaint Lucia\n\nSaint Vincent and the Grenadines\n\nSamoa\n\nSan Marino\n\nSao Tome and Principe\n\nSaudi Arabia\n\nSenegal\n\nSerbia\n\nSierra Leone\n\nSingapore\n\nSlovakia\n\nSlovenia\n\nSolomon Islands\n\nSomalia\n\nSouth Africa\n\nSouth Sudan\n\nSpain\n\nSri Lanka\n\nSudan\n\nSuriname\n\nSwaziland\n\nSweden\n\nSwitzerland\n\nSyrian Arab Republic\n\nTaiwan (R.O.C.)\n\nTajikistan\n\nTanzania, United Republic of\n\nThailand\n\nTimor-Leste\n\nTogo\n\nTonga\n\nTrinidad and Tobago\n\nTunisia\n\nTurkey\n\nTurkmenistan\n\nTuvalu\n\nUganda\n\nUkraine\n\nUnited Arab Emirates\n\nUnited Kingdom\n\nUnited States\n\nUruguay\n\nUzbekistan\n\nVanuatu\n\nVenezuela, Bolivarian Republic of\n\nViet Nam\n\nWallis and Futuna\n\nYemen\n\nZambia\n\nZimbabwe\n\n  Check this box to provide consent for to contact you in the future. **\n\n\n\nPlease indicate your level of interest... \n\n*\n\n*\n\n Required entries\n\nNote:\n\n[close]\n\n\n\nBy continuing to use this site, you agree to our \n\nPrivacy and Cookie Policy\n\n. \n\nOK\n\nWhat&#39;s New at ZYGO?\n\n››\n\nNews:\n\n Launches Latest Generation of ZeGage Non-Contact 3Optical Profilers\n\n››\n\nBlog:\n\n Using Grazing Incidence Interferometry to Measure Large or Non-Specular Surfaces\n\n››\n\nBlog:\n\n Process Metrology Helps Ensure Quality of Smartphone Camera Lenses\n\n››\n\nBlog:\n\n Precision Lead Angle Metrology Improves Shaft Seals and Engine Efficiency\n\n››\n\nBlog:\n\n Precision Gear Tooth Metrology Helps Automaker Silence Humming Differential\n\n››\n\nBlog:\n\n Measuring Roughness on Super-Smooth Surfaces\n\n››\n\nBlog:\n\n New Smart Setup Feature Streamlines Precision Surface Metrology\n\n››\n\nBlog:\n\n Think you know ZYGO? Check out these six surprising facts and statistics...\n\nVisit at these\n\nUpcoming Events:\n\nMD&amp;West\n\n02/05\n\nPhotonics West\n\n02/05\n\nAdvanced Lithography\n\n02/26\n\nHoustex\n\n02/26\n\nDefense &amp; Sensing\n\n04/16\n\nAnn. Mtg. &amp; Exhibt\n\n05/19\n\nWest\n\n07/09\n\nOptics &amp; Photonics\n\n08/13\n\nOptifab\n\n10/15\n\n(Click for a complete list)\n\nPrivacy and Cookie Policy\n\nPrivacy Policy Inquiry Form\n\nUnsubscribe\n\n×\n\nPrivacy Policy Inquiry3Optical Surface Profiler\n\nProducts\n\n3Optical Profilers\n\nLaser Interferometers\n\nPosition Metrology Systems\n\nCustom Metrology Solutions\n\nTrade-in &amp; Upgrade Program\n\nOptical Surface Profilers\n\nZeGage™ Pro  \n\nNew!\n\nNewView™ 9000\n\nNexview™NX2\n\nNomad™\n\nCompass™\n\nAPM650™\n\nMx™ Software\n\nProfiler Objectives\n\nOptical Profiler Basics\n\nSurface Roughness Measurement\n\nSurface Profiling\n\n3Optical Microscopy\n\n3Interference Microscopy\n\nProduction Ready 3Optical Profiler\n\nKey Features:\n\n Vibration-resistant, for metrology and process control on the production floor.\n\n 25178-compliant results ensure confidence in your metrology.\n\n Non-contact, area-based metrology technique prevents part damage and is insensitive to part lay.\n\n Measurements require no consumables.\n\nZeGage™ Pro\n\n and \n\nZeGage™ Pro HR\n\n 3optical profilers provide non-contact measurement and characterization of micro- and nano-scale features of virtually any surface, and set the new standard for performance, ease of use, flexibility, and precision of benchtop-class industrial non-contact surface profilers.\n\n\n\nThe base ZeGage™ Pro model delivers surface mapping at the nanometer scale, meeting the needs for most industrial surfaces.  For smoother samples, with a much finer surface finish, the ZeGage™ Pro offers more than 20higher precision with 0.15 nm vertical precision.\n\n\n\nZYGO&#39;s  ZeGage™ products have been taking interferometric surface profiling out of the lab and into production for nearly a decade. With the ZeGage Pro and Pro systems, powerful and trusted capabilities such as SureScan™ technology for vibration robust metrology are now paired with ZYGO&#39;s exclusive Part Finder and \n\nSmart Setup\n\n tools to make sample changes fast and easy, minimizing wasted time and maximizing throughput.\n\nMx Software\n\n Screen (click image for a larger view)\n\n\n\nLike all earlier ZeGage™ profilers, the ZeGage™ Pro and Pro systems are constructed with a compact benchtop-friendly design.  Coupled with SureScan™ technology, there is no need for expensive vibration isolation tables, system enclosures, or consumables. They also run ZYGO&#39;s interactive control software, \n\nMx™\n\n, for easy and detailed visualization to help you control your process.\n\nPowerful Performance \n\nProprietary non-contact measurement technology is enhanced with SureScan™ technology for low sensitivity to vibration and easy placement anywhere within your facility.\n\nQuantitative surface metrology with nanometer-level precision provides superior gage capability.\n\nHigh resolution 1.9 million pixel image sensor provides fast areal measurements in seconds, for excellent surface detail and visualization.\n\nFully-automated measurement sequences and field stitching enable high resolution inspection of large areas. (Requires optional motorized part stage.)\n\nVersatility\n\nMeasures a wide variety of surface materials and parameters, including 2and 3profiling of surface texture, form, step-height and more.\n\nIncluded Mx software provides comprehensive tools for surface data visualization, analysis and reporting.\n\nExpand the measurement range of your investment with accessories that include objective turrets, manual and motorized sample stages, and optional software modules for film topography profiling and 2analysis using Cognex VisionPro®.\n\n Productivity and Value\n\nSmart Setup technology reduces training time, and shortens part changeover by automating part finding, light setting, and scan configuration.  Smart Setup usually results in a first data map within 1 minute of placing the sample under the objective.\n\nCost-effective price-to-performance ratio compares favorably to alternative systems, including mechanical contact stylus profilers.\n\nNon-contact method means no consumable replacement costs to worry about.\n\nCompact, vibration-tolerant SureScan™ technology for easy integration anywhere in your facility.\n\nInquiry Form\n\n\n\nPlease use the form below to contact us with any questions you have regarding ZeGage™ \n\n3Optical Surface Profilers\n\n, or \n\nsurface profiling\n\nFirst Name \n\n*\n\nLast Name \n\n*\n\nPhone Number\n\nE-mail Address \n\n*\n\nCompany or Organization \n\n*\n\nJob Title or Function \n\n*\n\nStreet Address\n\nCity\n\nState/Province \n\n*\n\nZip/Postal Code\n\n---Select---\n\nAlabama\n\nAlaska\n\nArizona\n\nArkansas\n\nCalifornia\n\nColorado\n\nConnecticut\n\nDelaware\n\nDistrict of Columbia\n\nFlorida\n\nGeorgia\n\nHawaii\n\nIdaho\n\nIllinois\n\nIndiana\n\nIowa\n\nKansas\n\nKentucky\n\nLouisiana\n\nMaine\n\nMaryland\n\nMassachusetts\n\nMichigan\n\nMinnesota\n\nMississippi\n\nMissouri\n\nMontana\n\nNebraska\n\nNevada\n\nNew Hampshire\n\nNew Jersey\n\nNew Mexico\n\nNew York\n\nNorth Carolina\n\nNorth Dakota\n\nOhio\n\nOklahoma\n\nOregon\n\nPennsylvania\n\nRhode Island\n\nSouth Carolina\n\nSouth Dakota\n\nTennessee\n\nTexas\n\nUtah\n\nVermont\n\nVirginia\n\nWashington\n\nWest Virginia\n\nWisconsin\n\nWyoming\n\nAlberta\n\nBritish Columbia\n\nManitoba\n\nNew Brunswick\n\nNewfoundland and Labrador\n\nNorthwest Territories\n\nNova Scotia\n\nNunavut\n\nOntario\n\nPrince Edward Island\n\nQuebec\n\nSaskatchewan\n\nYukon Territories\n\nInternational/Other\n\nCountry/Region \n\n*\n\n---Select---\n\nAfghanistan\n\nAlbania\n\nAlgeria\n\nAndorra\n\nAngola\n\nAntigua and Barbuda\n\nArgentina\n\nArmenia\n\nAustralia\n\nAustria\n\nAzerbaijan\n\nBahamas\n\nBahrain\n\nBangladesh\n\nBarbados\n\nBelarus\n\nBelgium\n\nBelize\n\nBenin\n\nBhutan\n\nBolivia, Plurinational State of\n\nBonaire, Sint Eustatius and Saba\n\nBosnia and Herzegovina\n\nBotswana\n\nBrazil\n\nBrunei Darussalam\n\nBulgaria\n\nBurkina Faso\n\nBurundi\n\nCambodia\n\nCameroon\n\nCanada\n\nCape Verde\n\nCentral African Republic\n\nChad\n\nChile\n\nChina\n\nColombia\n\nComoros\n\nCongo\n\nCongo, the Democratic Republic of the\n\nCosta Rica\n\nCote d&#39;Ivoire\n\nCroatia\n\nCuba\n\nCyprus\n\nCzech Republic\n\nDenmark\n\nDjibouti\n\nDominica\n\nDominican Republic\n\nEcuador\n\nEgypt\n\nEl Salvador\n\nEquatorial Guinea\n\nEritrea\n\nEstonia\n\nEthiopia\n\nFiji\n\nFinland\n\nFrance\n\nGabon\n\nGambia\n\nGeorgia\n\nGermany\n\nGhana\n\nGreece\n\nGreenland\n\nGrenada\n\nGuatemala\n\nGuinea\n\nGuinea-Bissau\n\nGuyana\n\nHaiti\n\nHonduras\n\nHungary\n\nIceland\n\nIndia\n\nIndonesia\n\nIran, Islamic Republic of\n\nIraq\n\nIreland\n\nIsrael\n\nItaly\n\nJamaica\n\nJapan\n\nJordan\n\nKazakhstan\n\nKenya\n\nKiribati\n\nKorea, Democratic People&#39;s Republic of\n\nKorea, Republic of\n\nKuwait\n\nKyrgyzstan\n\nLao People&#39;s Democratic Republic\n\nLebanon\n\nLesotho\n\nLiberia\n\nLibya\n\nLiechtenstein\n\nLithuania\n\nLuxembourg\n\nMadagascar\n\nMalawi\n\nMalaysia\n\nMaldives\n\nMali\n\nMauritania\n\nMauritius\n\nMexico\n\nMoldova, Republic of\n\nMonaco\n\nMongolia\n\nMontenegro\n\nMorocco\n\nMozambique\n\nMyanmar\n\nNamibia\n\nNauru\n\nNepal\n\nNetherlands\n\nNew Zealand\n\nNicaragua\n\nNiger\n\nNigeria\n\nNorway\n\nOman\n\nPakistan\n\nPalestine\n\nPanama\n\nPapua New Guinea\n\nParaguay\n\nPeru\n\nPhilippines\n\nPoland\n\nPortugal\n\nQatar\n\nRomania\n\nRussian Federation\n\nRwanda\n\nSaint Helena, Ascension and Tristan da Cunha\n\nSaint Kitts and Nevis\n\nSaint Lucia\n\nSaint Vincent and the Grenadines\n\nSamoa\n\nSan Marino\n\nSao Tome and Principe\n\nSaudi Arabia\n\nSenegal\n\nSerbia\n\nSierra Leone\n\nSingapore\n\nSlovakia\n\nSlovenia\n\nSolomon Islands\n\nSomalia\n\nSouth Africa\n\nSouth Sudan\n\nSpain\n\nSri Lanka\n\nSudan\n\nSuriname\n\nSwaziland\n\nSweden\n\nSwitzerland\n\nSyrian Arab Republic\n\nTaiwan (R.O.C.)\n\nTajikistan\n\nTanzania, United Republic of\n\nThailand\n\nTimor-Leste\n\nTogo\n\nTonga\n\nTrinidad and Tobago\n\nTunisia\n\nTurkey\n\nTurkmenistan\n\nTuvalu\n\nUganda\n\nUkraine\n\nUnited Arab Emirates\n\nUnited Kingdom\n\nUnited States\n\nUruguay\n\nUzbekistan\n\nVanuatu\n\nVenezuela, Bolivarian Republic of\n\nViet Nam\n\nWallis and Futuna\n\nYemen\n\nZambia\n\nZimbabwe\n\n  Check this box to provide consent for to contact you in the future. **\n\n\n\nPlease indicate your level of interest... \n\n*\n\n*\n\n Required entries\n\nNote:\n\n[close]\n\n\n\nBy continuing to use this site, you agree to our \n\nPrivacy and Cookie Policy\n\n. \n\nOK\n\nBrochures \n\nBrochures \n\nZeGage™ Pro\n\nSpec Sheets \n\nSpec Sheets \n\nZeGage™ Pro\n\nZeGage™ Pro HR\n\nObjective Selection Chart\n\nApplication Notes \n\nApplication Notes \n\nCutting Tool Metrology\n\nMeasuring with an Optical Diverter on a NewView\n\nDiesel Fuel Injector Metrology\n\nOptical Profiling of Highly-Sloped Surfaces\n\nTransparent Films Analysis\n\nShow All 17 Items \n\nShow Only First Five \n\nMeasuring Sub-Angstrom Surface Texture\n\nMeasuring Dynamic Devices\n\nIdentifying and Controlling Vibration\n\nAnalysis\n\nIncluded Angle Measurements\n\nVision Software Suite\n\nGeometry and MetroPro® Calculations\n\nGetting the Most from the Advanced Texture Application\n\nFiltering on the NewView™\n\nversus RMS\n\nPhotovoltaic Panel Measurement on a NewView™\n\nMeasuring Honed Surfaces with a NewView\n\nTechnical Papers \n\nTechnical Papers \n\nLateral resolution and instrument transfer function as criteria for selecting surface metrology instruments\n\nEvaluation of the measurement performance of a coherence scanning microscope using roughness specimens\n\nApplications of model-based transparent surface films analysis using coherence scanning interferometry\n\nLimits to Resolution in Optical Dimension Metrology\n\nUsing Coherence Scanning Interferometry to Measure High-Slope Parts\n\nShow All 56 Items \n\nShow Only First Five \n\nUsing Coherence Scanning Interferometry for Model-based Transparent Surface Films Analysis\n\nMeasuring the Form of Highly Sloped Surfaces using Optical Profiling\n\nThe Meaning and Measure of Vertical Resolution in Optical Surface Topography Measurement\n\nInterference microscope objectives for wide-field areal surface topography measurements\n\nThe meaning and measure of vertical resolution in surface metrology\n\nInterference Microscopy for Surface Structure Analysis (book chapter)\n\nAdvances in optical metrology\n\nnew class of wide-field objectives for 3interference microscopy\n\nCalibration of the amplification coefficient in interference microscopy by means of a wavelength standard\n\nThe standards rash - is there a cure?\n\nMeasuring high-slope parts using coherence scanning interferometry\n\nPrinciples of interference microscopy for the measurement of surface topography\n\nWide-Field Interference Microscopy for Areal Topography of Precision Engineered Surface\n\nThe state of the art in interference microscopy: Modern techniques for geometric form, surface texture and areal structure analysis\n\nMeasuring High-Slope and Super-Smooth Optics with High Dynamic Range Coherence Scanning Interferometry\n\nHigh Slope Metrology with Non-Contact Interferometry\n\nProgress in the specification of optical instruments for the measurement of surface form and texture\n\nInterference Microscopy for Clean Air - How Optical Metrology Is Improving Quality Control of Fuel Injection Systems\n\nScanning White-Light Interferometry Fingerprints the Polishing Process\n\nUnderstanding Surface Texture Parameters\n\nThe Expanding Role of Optical Metrology in Precision Engineering\n\nThe Meaning and Measure of Lateral Resolution for Surface Profiling Interferometers\n\nCoherence scanning interferometry (book chapter)\n\nPhase Shifting Interferometry (book chapter)\n\nNon-Contact Glass Testing\n\nDesign of error-compensating algorithms for sinusoidal phase shifting interferometry\n\nModel-based white light interference microscopy for metrology of transparent film stacks and optically-unresolved structures\n\nSuppressing phase errors from vibration in phase-shifting interferometry\n\nTransparent film profiling and analysis by interference microscopy\n\nCharacterization of materials and film stacks for accurate surface topography measurement using a white-light optical profiler\n\nMetrology of optically-unresolved features using interferometric surface profiling and modeling\n\nAngle-resolved three-dimensional analysis of surface films by coherence scanning interferometry\n\nStroboscopic white-light interference microscopy\n\nGenerating fringe-free images from phase-shifted interferometry data\n\nOptical Topography Measurement of Patterned Wafers\n\nSignal modeling for low-coherence height-scanning interference microscopy\n\nStatic and dynamic characterization of and devices using optical interference microscopy\n\nValve cone measurement using white light interference microscopy in a spherical measurement geometry\n\nDetermination of fringe order in white-light interference microscopy\n\nOptical interferometry for measurement of the geometric dimensions of industrial parts\n\nStep height measurements using a combination of a laser displacement gage and a broadband interferometric surface profiler\n\nOptical properties of alumina titanium carbide sliders used in rigid disk drives\n\nDetermining the optical constants of read-write sliders during flying-height testing\n\nScanning Interferometer Characterizes Surfaces\n\nVibration in phase shifting interferometry\n\nHigh-speed non-contact profiler based on scanning white light interferometry\n\nDetermination of the phase change on reflection from two-beam interference\n\nSurface profiling by frequency-domain analysis of white-light interferograms\n\nThree-dimensional imaging by sub-Nyquist sampling of white-light interferograms\n\nWhat is Frequency Domain Analysis?\n\nNote: Login Required to download Application Notes; Click for details.\n\nContact Today\n\n››\n\nNews:\n\n Launches Latest Generation of ZeGage Non-Contact 3Optical Profilers\n\n››\n\nBlog:\n\n Using Grazing Incidence Interferometry to Measure Large or Non-Specular Surfaces\n\n››\n\nBlog:\n\n Process Metrology Helps Ensure Quality of Smartphone Camera Lenses\n\n››\n\nBlog:\n\n Precision Lead Angle Metrology Improves Shaft Seals and Engine Efficiency\n\n››\n\nBlog:\n\n Precision Gear Tooth Metrology Helps Automaker Silence Humming Differential\n\n››\n\nBlog:\n\n Measuring Roughness on Super-Smooth Surfaces\n\n››\n\nBlog:\n\n New Smart Setup Feature Streamlines Precision Surface Metrology\n\n››\n\nBlog:\n\n Think you know ZYGO? Check out these six surprising facts and statistics...\n\nPrivacy and Cookie Policy\n\nPrivacy Policy Inquiry Form\n\nUnsubscribe\n\n×\n\nPrivacy Policy Inquiry\n</div>"
            ]
          }
        }
      ],
      "execution_count": null
    },
    {
      "cell_type": "markdown",
      "source": [
        "### Garbage classifier\n",
        "keep test == 1, discard == 0"
      ],
      "metadata": {
        "application/vnd.databricks.v1+cell": {
          "title": "",
          "showTitle": false,
          "inputWidgets": {},
          "nuid": "472b8981-006e-4f66-a1e3-c09d6265ad03"
        },
        "id": "DRTl-6LPHd5i"
      }
    },
    {
      "cell_type": "code",
      "source": [
        "from datasets import Dataset\n",
        "from sklearn.model_selection import train_test_split\n",
        "import pandas as pd"
      ],
      "metadata": {
        "application/vnd.databricks.v1+cell": {
          "title": "",
          "showTitle": false,
          "inputWidgets": {},
          "nuid": "b79bf537-9410-4ca2-bb59-fcd294e1dd71"
        },
        "id": "x_EORZV3Hd5i"
      },
      "outputs": [],
      "execution_count": 14
    },
    {
      "cell_type": "code",
      "source": [
        "firm_file_location = '/content/EAGER/data/modeling/garbage/garbage_classifier_input.csv'\n",
        "input_df = pd.read_csv(firm_file_location)"
      ],
      "metadata": {
        "application/vnd.databricks.v1+cell": {
          "title": "",
          "showTitle": false,
          "inputWidgets": {},
          "nuid": "3774f417-1166-4617-aaea-8f656af391d2"
        },
        "id": "8k4ONI1SHd5i"
      },
      "outputs": [],
      "execution_count": 11
    },
    {
      "cell_type": "code",
      "source": [
        "non_null_df = input_df[~ input_df['sample_text'].isnull() ]\n",
        "non_null_df"
      ],
      "metadata": {
        "id": "8RTBTX1ghM_r",
        "outputId": "147f4008-4e15-414a-b84d-0a3a34a8e1fb",
        "colab": {
          "base_uri": "https://localhost:8080/",
          "height": 424
        }
      },
      "execution_count": 12,
      "outputs": [
        {
          "output_type": "execute_result",
          "data": {
            "text/plain": [
              "                                            sample_text  keep_text\n",
              "0                                        Our Management          0\n",
              "1                                 Latest Press Releases          0\n",
              "2     On-Going Clinical Studies on Very Low Nicotine...          0\n",
              "3                      Links to the ‚ÄúMiracle Plant‚Äù          0\n",
              "4     This advisory note presents the conclusions an...          1\n",
              "...                                                 ...        ...\n",
              "4057                                      How It Works           0\n",
              "4058                                       Read Article          0\n",
              "4059                                         Tank Farms          0\n",
              "4060                                 Industries Served           0\n",
              "4061  ‚Äúis committed to being an authentic multi-cl...          1\n",
              "\n",
              "[4055 rows x 2 columns]"
            ],
            "text/html": [
              "\n",
              "  <div id=\"df-e7c4577c-3e58-4d72-a1db-33cbe17483f4\">\n",
              "    <div class=\"colab-df-container\">\n",
              "      <div>\n",
              "<style scoped>\n",
              "    .dataframe tbody tr th:only-of-type {\n",
              "        vertical-align: middle;\n",
              "    }\n",
              "\n",
              "    .dataframe tbody tr th {\n",
              "        vertical-align: top;\n",
              "    }\n",
              "\n",
              "    .dataframe thead th {\n",
              "        text-align: right;\n",
              "    }\n",
              "</style>\n",
              "<table border=\"1\" class=\"dataframe\">\n",
              "  <thead>\n",
              "    <tr style=\"text-align: right;\">\n",
              "      <th></th>\n",
              "      <th>sample_text</th>\n",
              "      <th>keep_text</th>\n",
              "    </tr>\n",
              "  </thead>\n",
              "  <tbody>\n",
              "    <tr>\n",
              "      <th>0</th>\n",
              "      <td>Our Management</td>\n",
              "      <td>0</td>\n",
              "    </tr>\n",
              "    <tr>\n",
              "      <th>1</th>\n",
              "      <td>Latest Press Releases</td>\n",
              "      <td>0</td>\n",
              "    </tr>\n",
              "    <tr>\n",
              "      <th>2</th>\n",
              "      <td>On-Going Clinical Studies on Very Low Nicotine...</td>\n",
              "      <td>0</td>\n",
              "    </tr>\n",
              "    <tr>\n",
              "      <th>3</th>\n",
              "      <td>Links to the ‚ÄúMiracle Plant‚Äù</td>\n",
              "      <td>0</td>\n",
              "    </tr>\n",
              "    <tr>\n",
              "      <th>4</th>\n",
              "      <td>This advisory note presents the conclusions an...</td>\n",
              "      <td>1</td>\n",
              "    </tr>\n",
              "    <tr>\n",
              "      <th>...</th>\n",
              "      <td>...</td>\n",
              "      <td>...</td>\n",
              "    </tr>\n",
              "    <tr>\n",
              "      <th>4057</th>\n",
              "      <td>How It Works</td>\n",
              "      <td>0</td>\n",
              "    </tr>\n",
              "    <tr>\n",
              "      <th>4058</th>\n",
              "      <td>Read Article</td>\n",
              "      <td>0</td>\n",
              "    </tr>\n",
              "    <tr>\n",
              "      <th>4059</th>\n",
              "      <td>Tank Farms</td>\n",
              "      <td>0</td>\n",
              "    </tr>\n",
              "    <tr>\n",
              "      <th>4060</th>\n",
              "      <td>Industries Served</td>\n",
              "      <td>0</td>\n",
              "    </tr>\n",
              "    <tr>\n",
              "      <th>4061</th>\n",
              "      <td>‚Äúis committed to being an authentic multi-cl...</td>\n",
              "      <td>1</td>\n",
              "    </tr>\n",
              "  </tbody>\n",
              "</table>\n",
              "<p>4055 rows × 2 columns</p>\n",
              "</div>\n",
              "      <button class=\"colab-df-convert\" onclick=\"convertToInteractive('df-e7c4577c-3e58-4d72-a1db-33cbe17483f4')\"\n",
              "              title=\"Convert this dataframe to an interactive table.\"\n",
              "              style=\"display:none;\">\n",
              "        \n",
              "  <svg xmlns=\"http://www.w3.org/2000/svg\" height=\"24px\"viewBox=\"0 0 24 24\"\n",
              "       width=\"24px\">\n",
              "    <path d=\"M0 0h24v24H0V0z\" fill=\"none\"/>\n",
              "    <path d=\"M18.56 5.44l.94 2.06.94-2.06 2.06-.94-2.06-.94-.94-2.06-.94 2.06-2.06.94zm-11 1L8.5 8.5l.94-2.06 2.06-.94-2.06-.94L8.5 2.5l-.94 2.06-2.06.94zm10 10l.94 2.06.94-2.06 2.06-.94-2.06-.94-.94-2.06-.94 2.06-2.06.94z\"/><path d=\"M17.41 7.96l-1.37-1.37c-.4-.4-.92-.59-1.43-.59-.52 0-1.04.2-1.43.59L10.3 9.45l-7.72 7.72c-.78.78-.78 2.05 0 2.83L4 21.41c.39.39.9.59 1.41.59.51 0 1.02-.2 1.41-.59l7.78-7.78 2.81-2.81c.8-.78.8-2.07 0-2.86zM5.41 20L4 18.59l7.72-7.72 1.47 1.35L5.41 20z\"/>\n",
              "  </svg>\n",
              "      </button>\n",
              "      \n",
              "  <style>\n",
              "    .colab-df-container {\n",
              "      display:flex;\n",
              "      flex-wrap:wrap;\n",
              "      gap: 12px;\n",
              "    }\n",
              "\n",
              "    .colab-df-convert {\n",
              "      background-color: #E8F0FE;\n",
              "      border: none;\n",
              "      border-radius: 50%;\n",
              "      cursor: pointer;\n",
              "      display: none;\n",
              "      fill: #1967D2;\n",
              "      height: 32px;\n",
              "      padding: 0 0 0 0;\n",
              "      width: 32px;\n",
              "    }\n",
              "\n",
              "    .colab-df-convert:hover {\n",
              "      background-color: #E2EBFA;\n",
              "      box-shadow: 0px 1px 2px rgba(60, 64, 67, 0.3), 0px 1px 3px 1px rgba(60, 64, 67, 0.15);\n",
              "      fill: #174EA6;\n",
              "    }\n",
              "\n",
              "    [theme=dark] .colab-df-convert {\n",
              "      background-color: #3B4455;\n",
              "      fill: #D2E3FC;\n",
              "    }\n",
              "\n",
              "    [theme=dark] .colab-df-convert:hover {\n",
              "      background-color: #434B5C;\n",
              "      box-shadow: 0px 1px 3px 1px rgba(0, 0, 0, 0.15);\n",
              "      filter: drop-shadow(0px 1px 2px rgba(0, 0, 0, 0.3));\n",
              "      fill: #FFFFFF;\n",
              "    }\n",
              "  </style>\n",
              "\n",
              "      <script>\n",
              "        const buttonEl =\n",
              "          document.querySelector('#df-e7c4577c-3e58-4d72-a1db-33cbe17483f4 button.colab-df-convert');\n",
              "        buttonEl.style.display =\n",
              "          google.colab.kernel.accessAllowed ? 'block' : 'none';\n",
              "\n",
              "        async function convertToInteractive(key) {\n",
              "          const element = document.querySelector('#df-e7c4577c-3e58-4d72-a1db-33cbe17483f4');\n",
              "          const dataTable =\n",
              "            await google.colab.kernel.invokeFunction('convertToInteractive',\n",
              "                                                     [key], {});\n",
              "          if (!dataTable) return;\n",
              "\n",
              "          const docLinkHtml = 'Like what you see? Visit the ' +\n",
              "            '<a target=\"_blank\" href=https://colab.research.google.com/notebooks/data_table.ipynb>data table notebook</a>'\n",
              "            + ' to learn more about interactive tables.';\n",
              "          element.innerHTML = '';\n",
              "          dataTable['output_type'] = 'display_data';\n",
              "          await google.colab.output.renderOutput(dataTable, element);\n",
              "          const docLink = document.createElement('div');\n",
              "          docLink.innerHTML = docLinkHtml;\n",
              "          element.appendChild(docLink);\n",
              "        }\n",
              "      </script>\n",
              "    </div>\n",
              "  </div>\n",
              "  "
            ]
          },
          "metadata": {},
          "execution_count": 12
        }
      ]
    },
    {
      "cell_type": "code",
      "source": [
        "dataset = Dataset.from_pandas(non_null_df, split='train')\n",
        "dataset.cast_column(\"keep_text\", datasets.Value('int8'))"
      ],
      "metadata": {
        "id": "zHfLRzGkiFiI",
        "outputId": "c09efa1c-8bbc-4614-da84-9e07fddf1d5f",
        "colab": {
          "base_uri": "https://localhost:8080/",
          "height": 118,
          "referenced_widgets": [
            "ae314b55d648477ba07e3037d68fe613",
            "cd955bd323be499c9cc90484829513c2",
            "1d366cce4de049ad84f8d030b7575183",
            "96757f6fbed34f80b8732df55e2fa650",
            "e43b9e605af4466897edb946e9ffa8ff",
            "060f9778ab144feaab80d15e4528f555",
            "44e96fe6bc674f96a4c7227901f7514f",
            "2490733ddc4247a2b79a5ae2907668ce",
            "6a986559e44b4145b0cc15f87ff4f836",
            "e580c847dbbc4c699038b527cb24d0c8",
            "d7a85ef9b50f4fcd8feb32793adcffad"
          ]
        }
      },
      "execution_count": 16,
      "outputs": [
        {
          "output_type": "display_data",
          "data": {
            "text/plain": [
              "Casting the dataset:   0%|          | 0/1 [00:00<?, ?ba/s]"
            ],
            "application/vnd.jupyter.widget-view+json": {
              "version_major": 2,
              "version_minor": 0,
              "model_id": "ae314b55d648477ba07e3037d68fe613"
            }
          },
          "metadata": {}
        },
        {
          "output_type": "execute_result",
          "data": {
            "text/plain": [
              "Dataset({\n",
              "    features: ['sample_text', 'keep_text', '__index_level_0__'],\n",
              "    num_rows: 4055\n",
              "})"
            ]
          },
          "metadata": {},
          "execution_count": 16
        }
      ]
    },
    {
      "cell_type": "code",
      "source": [
        "# 80% train, 20% test + validation\n",
        "train_test_dataset = dataset.train_test_split(test_size=0.2)\n",
        "# Split the 20% test + valid in half test, half valid\n",
        "test_valid_dataset = train_test_dataset['test'].train_test_split(test_size=0.2)\n",
        "# gather everyone if you want to have a single DatasetDict\n",
        "train_test_valid_dataset = datasets.DatasetDict({\n",
        "    'train': train_test_dataset['train'],\n",
        "    'test': test_valid_dataset['test'],\n",
        "    'valid': test_valid_dataset['train']})"
      ],
      "metadata": {
        "application/vnd.databricks.v1+cell": {
          "title": "",
          "showTitle": false,
          "inputWidgets": {},
          "nuid": "8f3ca393-7dc9-4bcd-b520-3bf3574a93d9"
        },
        "id": "dyBGbZBBHd5j"
      },
      "outputs": [],
      "execution_count": 19
    },
    {
      "cell_type": "code",
      "source": [
        "train_test_valid_dataset"
      ],
      "metadata": {
        "application/vnd.databricks.v1+cell": {
          "title": "",
          "showTitle": false,
          "inputWidgets": {},
          "nuid": "32181021-5c5d-4ec6-a311-d26f3ef8f6ff"
        },
        "colab": {
          "base_uri": "https://localhost:8080/"
        },
        "id": "GzgW60J7Hd5j",
        "outputId": "b60b295f-926f-4b32-9744-f3e4ba9a6f69"
      },
      "outputs": [
        {
          "output_type": "execute_result",
          "data": {
            "text/plain": [
              "DatasetDict({\n",
              "    train: Dataset({\n",
              "        features: ['sample_text', 'keep_text', '__index_level_0__'],\n",
              "        num_rows: 3244\n",
              "    })\n",
              "    test: Dataset({\n",
              "        features: ['sample_text', 'keep_text', '__index_level_0__'],\n",
              "        num_rows: 163\n",
              "    })\n",
              "    valid: Dataset({\n",
              "        features: ['sample_text', 'keep_text', '__index_level_0__'],\n",
              "        num_rows: 648\n",
              "    })\n",
              "})"
            ]
          },
          "metadata": {},
          "execution_count": 20
        }
      ],
      "execution_count": 20
    },
    {
      "cell_type": "code",
      "source": [
        "def tokenize_function(x):\n",
        "  return tokenizer(x[\"sample_text\"], truncation=True, max_length=100)"
      ],
      "metadata": {
        "application/vnd.databricks.v1+cell": {
          "title": "",
          "showTitle": false,
          "inputWidgets": {},
          "nuid": "374c15e1-4a5a-4b51-8583-f4f5af455789"
        },
        "id": "dOndawF9Hd5j"
      },
      "outputs": [],
      "execution_count": 25
    },
    {
      "cell_type": "code",
      "source": [
        "tokenized_dataset = train_test_valid_dataset.map(tokenize_function, batched=True, batch_size=2000)"
      ],
      "metadata": {
        "application/vnd.databricks.v1+cell": {
          "title": "",
          "showTitle": false,
          "inputWidgets": {},
          "nuid": "7197cc5b-ae28-46d0-a01b-16b88c79f479"
        },
        "colab": {
          "base_uri": "https://localhost:8080/",
          "height": 113,
          "referenced_widgets": [
            "66a5e01b6cbf4bc9a39ac11cf161059f",
            "3306db9f205d4ae5a46c60c449f58c33",
            "4cc15cf90d364cfb913557fad7a713b3",
            "93536155c444498d88a53bce621a47f1",
            "526bd4e6a3ce4cb9905d0acd6bc1f3ef",
            "750dfb7b9dd1401987c12bb337ef13b3",
            "a88cde78f47944cc8c1feb779989304f",
            "999d993ec51d4d5c85bf789e4725542b",
            "a5a62b97f92b4e52b963651239da674e",
            "eb9b3af5b2f34abcb3d3858d1f5b93a8",
            "ac19f31a2d014e708686d60ba62de8d5",
            "bc05e53fd5ab4637b330cd7eb5021aa1",
            "1f307f8ce06643c1afd1ad378026c933",
            "2f7c3cc230b34811a02150d85ca0a262",
            "8949fbd8e9df43bbbcab88c592eaf6f5",
            "d706511283414db49881219e1d1e8cd2",
            "87851b59f1a34f678d2a1305566f7efc",
            "c128cfcb99764a98bdd93a0adee73f3a",
            "5b4205bd4dac4befa755bd0b76a92a3a",
            "55cbcec5c893483496eb8870d82e2888",
            "079f49d6fb684abb9b119ea40ce0d5b3",
            "5fc4301b0bdc48e9a7a250ecc1d55374",
            "e9a63d683423407ab7b2542def05c6cb",
            "40add738feb84cd0aa769a11f8bfcfe9",
            "2effc730e0c84c44aa5f1af68f939736",
            "5a081c8de4f740b0b56774daf865b79b",
            "8ab5db135ecc48079bf084d9aff13190",
            "220565dbaf4a4924b33c4107c68ce76a",
            "b80746af5b854e83a811f5638d283e11",
            "85930d1de5b3410d912dd82d4df45424",
            "58beb6d9cdb2413d8f071363cf6524b8",
            "600e1595c30748beb11a4a61a74e0ebf",
            "43b05ca1098345f2b890ee41119a1792"
          ]
        },
        "id": "JwLZLmOXHd5j",
        "outputId": "63aaeea1-f98d-46aa-a84c-0103f96adfee"
      },
      "outputs": [
        {
          "output_type": "display_data",
          "data": {
            "text/plain": [
              "  0%|          | 0/2 [00:00<?, ?ba/s]"
            ],
            "application/vnd.jupyter.widget-view+json": {
              "version_major": 2,
              "version_minor": 0,
              "model_id": "66a5e01b6cbf4bc9a39ac11cf161059f"
            }
          },
          "metadata": {}
        },
        {
          "output_type": "display_data",
          "data": {
            "text/plain": [
              "  0%|          | 0/1 [00:00<?, ?ba/s]"
            ],
            "application/vnd.jupyter.widget-view+json": {
              "version_major": 2,
              "version_minor": 0,
              "model_id": "bc05e53fd5ab4637b330cd7eb5021aa1"
            }
          },
          "metadata": {}
        },
        {
          "output_type": "display_data",
          "data": {
            "text/plain": [
              "  0%|          | 0/1 [00:00<?, ?ba/s]"
            ],
            "application/vnd.jupyter.widget-view+json": {
              "version_major": 2,
              "version_minor": 0,
              "model_id": "e9a63d683423407ab7b2542def05c6cb"
            }
          },
          "metadata": {}
        }
      ],
      "execution_count": 29
    },
    {
      "cell_type": "code",
      "source": [
        "samples = tokenized_dataset[\"train\"].to_dict()\n",
        "samples = {k: v for k, v in samples.items() if k not in [\"idx\", \"sample_text\"]}\n",
        "set([len(x) for x in samples[\"input_ids\"]])"
      ],
      "metadata": {
        "application/vnd.databricks.v1+cell": {
          "title": "",
          "showTitle": false,
          "inputWidgets": {},
          "nuid": "550fa23f-c4f2-4615-a26d-3adf79a96adb"
        },
        "colab": {
          "base_uri": "https://localhost:8080/"
        },
        "id": "X084Or6XHd5k",
        "outputId": "8a3ae178-6e53-4599-8031-222c7a37640f"
      },
      "outputs": [
        {
          "output_type": "execute_result",
          "data": {
            "text/plain": [
              "{2,\n",
              " 3,\n",
              " 4,\n",
              " 5,\n",
              " 6,\n",
              " 7,\n",
              " 8,\n",
              " 9,\n",
              " 10,\n",
              " 11,\n",
              " 12,\n",
              " 13,\n",
              " 14,\n",
              " 15,\n",
              " 16,\n",
              " 17,\n",
              " 18,\n",
              " 19,\n",
              " 20,\n",
              " 21,\n",
              " 22,\n",
              " 23,\n",
              " 24,\n",
              " 25,\n",
              " 26,\n",
              " 27,\n",
              " 28,\n",
              " 29,\n",
              " 30,\n",
              " 31,\n",
              " 32,\n",
              " 33,\n",
              " 34,\n",
              " 35,\n",
              " 36,\n",
              " 37,\n",
              " 38,\n",
              " 39,\n",
              " 40,\n",
              " 41,\n",
              " 42,\n",
              " 43,\n",
              " 44,\n",
              " 45,\n",
              " 46,\n",
              " 47,\n",
              " 48,\n",
              " 49,\n",
              " 50,\n",
              " 51,\n",
              " 52,\n",
              " 53,\n",
              " 54,\n",
              " 55,\n",
              " 56,\n",
              " 57,\n",
              " 58,\n",
              " 59,\n",
              " 60,\n",
              " 61,\n",
              " 62,\n",
              " 63,\n",
              " 64,\n",
              " 65,\n",
              " 66,\n",
              " 67,\n",
              " 68,\n",
              " 69,\n",
              " 70,\n",
              " 71,\n",
              " 72,\n",
              " 73,\n",
              " 74,\n",
              " 75,\n",
              " 76,\n",
              " 77,\n",
              " 78,\n",
              " 79,\n",
              " 80,\n",
              " 81,\n",
              " 82,\n",
              " 83,\n",
              " 84,\n",
              " 85,\n",
              " 86,\n",
              " 87,\n",
              " 88,\n",
              " 89,\n",
              " 90,\n",
              " 91,\n",
              " 92,\n",
              " 93,\n",
              " 94,\n",
              " 95,\n",
              " 96,\n",
              " 97,\n",
              " 98,\n",
              " 99,\n",
              " 100}"
            ]
          },
          "metadata": {},
          "execution_count": 32
        }
      ],
      "execution_count": 32
    },
    {
      "cell_type": "code",
      "source": [
        "from transformers import DataCollatorWithPadding\n",
        "data_collator = DataCollatorWithPadding(tokenizer=tokenizer, padding=\"max_length\", max_length=100, return_tensors=\"tf\")"
      ],
      "metadata": {
        "application/vnd.databricks.v1+cell": {
          "title": "",
          "showTitle": false,
          "inputWidgets": {},
          "nuid": "5f1d2d9c-2e1a-4134-ba66-0bb84ba57ced"
        },
        "id": "Rz6vUEHDHd5k"
      },
      "outputs": [],
      "execution_count": 33
    },
    {
      "cell_type": "code",
      "source": [
        "batch = data_collator(samples)\n",
        "{k: v.shape for k, v in batch.items()}"
      ],
      "metadata": {
        "application/vnd.databricks.v1+cell": {
          "title": "",
          "showTitle": false,
          "inputWidgets": {},
          "nuid": "f4ba95c2-2f7f-4e54-8621-38210ca56136"
        },
        "colab": {
          "base_uri": "https://localhost:8080/"
        },
        "id": "wtdvlfuBHd5k",
        "outputId": "08336f22-cac4-4219-b43a-467b623585b7"
      },
      "outputs": [
        {
          "output_type": "execute_result",
          "data": {
            "text/plain": [
              "{'__index_level_0__': TensorShape([3244]),\n",
              " 'attention_mask': TensorShape([3244, 100]),\n",
              " 'input_ids': TensorShape([3244, 100]),\n",
              " 'keep_text': TensorShape([3244]),\n",
              " 'token_type_ids': TensorShape([3244, 100])}"
            ]
          },
          "metadata": {},
          "execution_count": 34
        }
      ],
      "execution_count": 34
    },
    {
      "cell_type": "code",
      "source": [
        "tf_train_dataset = tokenized_dataset[\"train\"].to_tf_dataset(\n",
        "    columns=[\"attention_mask\", \"input_ids\", \"token_type_ids\"],\n",
        "    label_cols=\"keep_text\",\n",
        "    shuffle=True,\n",
        "    collate_fn=data_collator,\n",
        "    batch_size=8,\n",
        ")\n",
        "\n",
        "tf_validation_dataset = tokenized_dataset[\"valid\"].to_tf_dataset(\n",
        "    columns=[\"attention_mask\", \"input_ids\", \"token_type_ids\"],\n",
        "    label_cols=\"keep_text\",\n",
        "    shuffle=False,\n",
        "    collate_fn=data_collator,\n",
        "    batch_size=8,\n",
        ")"
      ],
      "metadata": {
        "application/vnd.databricks.v1+cell": {
          "title": "",
          "showTitle": false,
          "inputWidgets": {},
          "nuid": "d2954963-3d41-404e-a0a7-ff5fca6255bb"
        },
        "id": "5A0M7mnRHd5k"
      },
      "outputs": [],
      "execution_count": 35
    },
    {
      "cell_type": "code",
      "source": [
        "tf_train_dataset"
      ],
      "metadata": {
        "application/vnd.databricks.v1+cell": {
          "title": "",
          "showTitle": false,
          "inputWidgets": {},
          "nuid": "8655526d-1a2b-4e62-bc93-c76a1a9d2279"
        },
        "colab": {
          "base_uri": "https://localhost:8080/"
        },
        "id": "_bWQ40BTHd5l",
        "outputId": "679cc8d1-2781-43c2-fbfe-10d9f772cbe9"
      },
      "outputs": [
        {
          "output_type": "execute_result",
          "data": {
            "text/plain": [
              "<PrefetchDataset element_spec=({'input_ids': TensorSpec(shape=(8, None), dtype=tf.int64, name=None), 'token_type_ids': TensorSpec(shape=(8, None), dtype=tf.int64, name=None), 'attention_mask': TensorSpec(shape=(8, None), dtype=tf.int64, name=None)}, TensorSpec(shape=(8,), dtype=tf.int64, name=None))>"
            ]
          },
          "metadata": {},
          "execution_count": 36
        }
      ],
      "execution_count": 36
    },
    {
      "cell_type": "code",
      "source": [
        "from transformers import TFAutoModelForSequenceClassification\n",
        "\n",
        "model = TFAutoModelForSequenceClassification.from_pretrained(checkpoint, num_labels=2)\n"
      ],
      "metadata": {
        "application/vnd.databricks.v1+cell": {
          "title": "",
          "showTitle": false,
          "inputWidgets": {},
          "nuid": "1f15493c-dc98-4d4f-86d7-b72a1ad2143d"
        },
        "colab": {
          "base_uri": "https://localhost:8080/"
        },
        "id": "X432Kg38Hd5l",
        "outputId": "c2608175-0bfe-42b4-e83a-5797bb33c4c3"
      },
      "outputs": [
        {
          "output_type": "stream",
          "name": "stderr",
          "text": [
            "All model checkpoint layers were used when initializing TFBertForSequenceClassification.\n",
            "\n",
            "Some layers of TFBertForSequenceClassification were not initialized from the model checkpoint at bert-base-uncased and are newly initialized: ['classifier']\n",
            "You should probably TRAIN this model on a down-stream task to be able to use it for predictions and inference.\n"
          ]
        }
      ],
      "execution_count": 37
    },
    {
      "cell_type": "code",
      "source": [
        "from tensorflow.keras.losses import SparseCategoricalCrossentropy\n",
        "\n",
        "model.compile(\n",
        "    optimizer=\"adam\",\n",
        "    loss=SparseCategoricalCrossentropy(from_logits=True),\n",
        "    metrics=[\"accuracy\"],\n",
        ")\n",
        "model.fit(\n",
        "    tf_train_dataset,\n",
        "    validation_data=tf_validation_dataset,\n",
        ")"
      ],
      "metadata": {
        "application/vnd.databricks.v1+cell": {
          "title": "",
          "showTitle": false,
          "inputWidgets": {},
          "nuid": "94bd7f01-b9f1-44df-bd48-d3b9dbead59f"
        },
        "id": "joT8vLnTHd5l"
      },
      "outputs": [],
      "execution_count": null
    },
    {
      "cell_type": "code",
      "source": [
        "from tensorflow.keras.optimizers.schedules import PolynomialDecay\n",
        "\n",
        "batch_size = 8\n",
        "num_epochs = 5\n",
        "# The number of training steps is the number of samples in the dataset, divided by the batch size then multiplied\n",
        "# by the total number of epochs. Note that the tf_train_dataset here is a batched tf.data.Dataset,\n",
        "# not the original Hugging Face Dataset, so its len() is already num_samples // batch_size.\n",
        "num_train_steps = len(tf_train_dataset) * num_epochs\n",
        "lr_scheduler = PolynomialDecay(\n",
        "    initial_learning_rate=5e-5, end_learning_rate=0.0, decay_steps=num_train_steps\n",
        ")\n",
        "from tensorflow.keras.optimizers import Adam\n",
        "\n",
        "opt = Adam(learning_rate=lr_scheduler)"
      ],
      "metadata": {
        "application/vnd.databricks.v1+cell": {
          "title": "",
          "showTitle": false,
          "inputWidgets": {},
          "nuid": "d51c0e72-19c4-4216-a967-3b8d086c884f"
        },
        "id": "0KlXr2cBHd5l"
      },
      "outputs": [],
      "execution_count": 39
    },
    {
      "cell_type": "code",
      "source": [
        "model = TFAutoModelForSequenceClassification.from_pretrained(checkpoint, num_labels=2)\n",
        "loss = tf.keras.losses.SparseCategoricalCrossentropy(from_logits=True)\n",
        "model.compile(optimizer=opt, loss=loss, metrics=[\"accuracy\"])"
      ],
      "metadata": {
        "application/vnd.databricks.v1+cell": {
          "title": "",
          "showTitle": false,
          "inputWidgets": {},
          "nuid": "f598e0ff-6b47-454c-bf4f-6551cf370755"
        },
        "colab": {
          "base_uri": "https://localhost:8080/"
        },
        "id": "3m85rdp1Hd5m",
        "outputId": "877e1481-1ac6-4196-bab2-642ef634e2e8"
      },
      "outputs": [
        {
          "output_type": "stream",
          "name": "stderr",
          "text": [
            "All model checkpoint layers were used when initializing TFBertForSequenceClassification.\n",
            "\n",
            "Some layers of TFBertForSequenceClassification were not initialized from the model checkpoint at bert-base-uncased and are newly initialized: ['classifier']\n",
            "You should probably TRAIN this model on a down-stream task to be able to use it for predictions and inference.\n"
          ]
        }
      ],
      "execution_count": 40
    },
    {
      "cell_type": "code",
      "source": [
        "model.fit(tf_train_dataset, validation_data=tf_validation_dataset, epochs=num_epochs)"
      ],
      "metadata": {
        "application/vnd.databricks.v1+cell": {
          "title": "",
          "showTitle": false,
          "inputWidgets": {},
          "nuid": "5e587906-026a-469e-adf0-1221784808c8"
        },
        "colab": {
          "base_uri": "https://localhost:8080/"
        },
        "id": "ZN2mOawdHd5m",
        "outputId": "29a0cb49-e297-4153-9490-9166538d86ce"
      },
      "outputs": [
        {
          "output_type": "stream",
          "name": "stdout",
          "text": [
            "Epoch 1/5\n",
            "405/405 [==============================] - 3497s 9s/step - loss: 0.2199 - accuracy: 0.9108 - val_loss: 0.2131 - val_accuracy: 0.9182\n",
            "Epoch 2/5\n",
            "405/405 [==============================] - 3465s 9s/step - loss: 0.1423 - accuracy: 0.9451 - val_loss: 0.1767 - val_accuracy: 0.9290\n",
            "Epoch 3/5\n",
            "405/405 [==============================] - 3466s 9s/step - loss: 0.0717 - accuracy: 0.9787 - val_loss: 0.2242 - val_accuracy: 0.9228\n",
            "Epoch 4/5\n",
            "405/405 [==============================] - 3489s 9s/step - loss: 0.0358 - accuracy: 0.9895 - val_loss: 0.3370 - val_accuracy: 0.9136\n",
            "Epoch 5/5\n",
            "405/405 [==============================] - 3661s 9s/step - loss: 0.0252 - accuracy: 0.9938 - val_loss: 0.3281 - val_accuracy: 0.9213\n"
          ]
        },
        {
          "output_type": "execute_result",
          "data": {
            "text/plain": [
              "<keras.callbacks.History at 0x7fe8fabb2d50>"
            ]
          },
          "metadata": {},
          "execution_count": 41
        }
      ],
      "execution_count": 41
    },
    {
      "cell_type": "code",
      "source": [
        "model.save('/content/EAGER/models/garbage_classifier_v1')"
      ],
      "metadata": {
        "application/vnd.databricks.v1+cell": {
          "title": "",
          "showTitle": false,
          "inputWidgets": {},
          "nuid": "90daa2f4-472a-4172-a6d9-dfbf99b21d9a"
        },
        "colab": {
          "base_uri": "https://localhost:8080/"
        },
        "id": "5FsjeJFvHd5m",
        "outputId": "5d01bba6-8c64-4cdf-87df-8b0f753bfd3f"
      },
      "outputs": [
        {
          "output_type": "stream",
          "name": "stderr",
          "text": [
            "WARNING:absl:Found untraced functions such as embeddings_layer_call_fn, embeddings_layer_call_and_return_conditional_losses, encoder_layer_call_fn, encoder_layer_call_and_return_conditional_losses, pooler_layer_call_fn while saving (showing 5 of 420). These functions will not be directly callable after loading.\n"
          ]
        },
        {
          "output_type": "stream",
          "name": "stdout",
          "text": [
            "INFO:tensorflow:Assets written to: /content/EAGER/models/garbage_classifier_v1/assets\n"
          ]
        },
        {
          "output_type": "stream",
          "name": "stderr",
          "text": [
            "INFO:tensorflow:Assets written to: /content/EAGER/models/garbage_classifier_v1/assets\n"
          ]
        }
      ],
      "execution_count": 43
    },
    {
      "cell_type": "code",
      "source": [
        "from google.colab import drive\n",
        "drive.mount('/content/drive')"
      ],
      "metadata": {
        "id": "StjevM7drari"
      },
      "execution_count": null,
      "outputs": []
    }
  ],
  "metadata": {
    "application/vnd.databricks.v1+notebook": {
      "notebookName": "text-classification-model-v1",
      "dashboards": [],
      "notebookMetadata": {
        "pythonIndentUnit": 2
      },
      "language": "python",
      "widgets": {},
      "notebookOrigID": 2369917885486749
    },
    "colab": {
      "name": "text-classification-model-v1.ipynb",
      "provenance": []
    },
    "language_info": {
      "name": "python"
    },
    "kernelspec": {
      "name": "python3",
      "display_name": "Python 3"
    },
    "widgets": {
      "application/vnd.jupyter.widget-state+json": {
        "b20c6fa458b5499baae3209ceee5d09a": {
          "model_module": "@jupyter-widgets/controls",
          "model_name": "HBoxModel",
          "model_module_version": "1.5.0",
          "state": {
            "_dom_classes": [],
            "_model_module": "@jupyter-widgets/controls",
            "_model_module_version": "1.5.0",
            "_model_name": "HBoxModel",
            "_view_count": null,
            "_view_module": "@jupyter-widgets/controls",
            "_view_module_version": "1.5.0",
            "_view_name": "HBoxView",
            "box_style": "",
            "children": [
              "IPY_MODEL_10e4caeeb7ed4042833baf07b89ed3b9",
              "IPY_MODEL_22cf634dc8ed49eb9f50c672f3edd0a2",
              "IPY_MODEL_9e9ac8a1094647bba645f59cf874e2b3"
            ],
            "layout": "IPY_MODEL_85ea92104c2c497490cceda080c9b396"
          }
        },
        "10e4caeeb7ed4042833baf07b89ed3b9": {
          "model_module": "@jupyter-widgets/controls",
          "model_name": "HTMLModel",
          "model_module_version": "1.5.0",
          "state": {
            "_dom_classes": [],
            "_model_module": "@jupyter-widgets/controls",
            "_model_module_version": "1.5.0",
            "_model_name": "HTMLModel",
            "_view_count": null,
            "_view_module": "@jupyter-widgets/controls",
            "_view_module_version": "1.5.0",
            "_view_name": "HTMLView",
            "description": "",
            "description_tooltip": null,
            "layout": "IPY_MODEL_9c9811958005430e85c990fa6c03a0c3",
            "placeholder": "​",
            "style": "IPY_MODEL_1625c257d6194908acc66a302a1c8956",
            "value": "Downloading: 100%"
          }
        },
        "22cf634dc8ed49eb9f50c672f3edd0a2": {
          "model_module": "@jupyter-widgets/controls",
          "model_name": "FloatProgressModel",
          "model_module_version": "1.5.0",
          "state": {
            "_dom_classes": [],
            "_model_module": "@jupyter-widgets/controls",
            "_model_module_version": "1.5.0",
            "_model_name": "FloatProgressModel",
            "_view_count": null,
            "_view_module": "@jupyter-widgets/controls",
            "_view_module_version": "1.5.0",
            "_view_name": "ProgressView",
            "bar_style": "success",
            "description": "",
            "description_tooltip": null,
            "layout": "IPY_MODEL_dffc9f93957a45ad9fa550e3f3a44209",
            "max": 28,
            "min": 0,
            "orientation": "horizontal",
            "style": "IPY_MODEL_46b69d5ed12b48a2b03fa7cf0b079cb8",
            "value": 28
          }
        },
        "9e9ac8a1094647bba645f59cf874e2b3": {
          "model_module": "@jupyter-widgets/controls",
          "model_name": "HTMLModel",
          "model_module_version": "1.5.0",
          "state": {
            "_dom_classes": [],
            "_model_module": "@jupyter-widgets/controls",
            "_model_module_version": "1.5.0",
            "_model_name": "HTMLModel",
            "_view_count": null,
            "_view_module": "@jupyter-widgets/controls",
            "_view_module_version": "1.5.0",
            "_view_name": "HTMLView",
            "description": "",
            "description_tooltip": null,
            "layout": "IPY_MODEL_afcf8b5644cd478a96b28da90f4894d4",
            "placeholder": "​",
            "style": "IPY_MODEL_bea6439c76ce406799298042f10b33b1",
            "value": " 28.0/28.0 [00:00&lt;00:00, 780B/s]"
          }
        },
        "85ea92104c2c497490cceda080c9b396": {
          "model_module": "@jupyter-widgets/base",
          "model_name": "LayoutModel",
          "model_module_version": "1.2.0",
          "state": {
            "_model_module": "@jupyter-widgets/base",
            "_model_module_version": "1.2.0",
            "_model_name": "LayoutModel",
            "_view_count": null,
            "_view_module": "@jupyter-widgets/base",
            "_view_module_version": "1.2.0",
            "_view_name": "LayoutView",
            "align_content": null,
            "align_items": null,
            "align_self": null,
            "border": null,
            "bottom": null,
            "display": null,
            "flex": null,
            "flex_flow": null,
            "grid_area": null,
            "grid_auto_columns": null,
            "grid_auto_flow": null,
            "grid_auto_rows": null,
            "grid_column": null,
            "grid_gap": null,
            "grid_row": null,
            "grid_template_areas": null,
            "grid_template_columns": null,
            "grid_template_rows": null,
            "height": null,
            "justify_content": null,
            "justify_items": null,
            "left": null,
            "margin": null,
            "max_height": null,
            "max_width": null,
            "min_height": null,
            "min_width": null,
            "object_fit": null,
            "object_position": null,
            "order": null,
            "overflow": null,
            "overflow_x": null,
            "overflow_y": null,
            "padding": null,
            "right": null,
            "top": null,
            "visibility": null,
            "width": null
          }
        },
        "9c9811958005430e85c990fa6c03a0c3": {
          "model_module": "@jupyter-widgets/base",
          "model_name": "LayoutModel",
          "model_module_version": "1.2.0",
          "state": {
            "_model_module": "@jupyter-widgets/base",
            "_model_module_version": "1.2.0",
            "_model_name": "LayoutModel",
            "_view_count": null,
            "_view_module": "@jupyter-widgets/base",
            "_view_module_version": "1.2.0",
            "_view_name": "LayoutView",
            "align_content": null,
            "align_items": null,
            "align_self": null,
            "border": null,
            "bottom": null,
            "display": null,
            "flex": null,
            "flex_flow": null,
            "grid_area": null,
            "grid_auto_columns": null,
            "grid_auto_flow": null,
            "grid_auto_rows": null,
            "grid_column": null,
            "grid_gap": null,
            "grid_row": null,
            "grid_template_areas": null,
            "grid_template_columns": null,
            "grid_template_rows": null,
            "height": null,
            "justify_content": null,
            "justify_items": null,
            "left": null,
            "margin": null,
            "max_height": null,
            "max_width": null,
            "min_height": null,
            "min_width": null,
            "object_fit": null,
            "object_position": null,
            "order": null,
            "overflow": null,
            "overflow_x": null,
            "overflow_y": null,
            "padding": null,
            "right": null,
            "top": null,
            "visibility": null,
            "width": null
          }
        },
        "1625c257d6194908acc66a302a1c8956": {
          "model_module": "@jupyter-widgets/controls",
          "model_name": "DescriptionStyleModel",
          "model_module_version": "1.5.0",
          "state": {
            "_model_module": "@jupyter-widgets/controls",
            "_model_module_version": "1.5.0",
            "_model_name": "DescriptionStyleModel",
            "_view_count": null,
            "_view_module": "@jupyter-widgets/base",
            "_view_module_version": "1.2.0",
            "_view_name": "StyleView",
            "description_width": ""
          }
        },
        "dffc9f93957a45ad9fa550e3f3a44209": {
          "model_module": "@jupyter-widgets/base",
          "model_name": "LayoutModel",
          "model_module_version": "1.2.0",
          "state": {
            "_model_module": "@jupyter-widgets/base",
            "_model_module_version": "1.2.0",
            "_model_name": "LayoutModel",
            "_view_count": null,
            "_view_module": "@jupyter-widgets/base",
            "_view_module_version": "1.2.0",
            "_view_name": "LayoutView",
            "align_content": null,
            "align_items": null,
            "align_self": null,
            "border": null,
            "bottom": null,
            "display": null,
            "flex": null,
            "flex_flow": null,
            "grid_area": null,
            "grid_auto_columns": null,
            "grid_auto_flow": null,
            "grid_auto_rows": null,
            "grid_column": null,
            "grid_gap": null,
            "grid_row": null,
            "grid_template_areas": null,
            "grid_template_columns": null,
            "grid_template_rows": null,
            "height": null,
            "justify_content": null,
            "justify_items": null,
            "left": null,
            "margin": null,
            "max_height": null,
            "max_width": null,
            "min_height": null,
            "min_width": null,
            "object_fit": null,
            "object_position": null,
            "order": null,
            "overflow": null,
            "overflow_x": null,
            "overflow_y": null,
            "padding": null,
            "right": null,
            "top": null,
            "visibility": null,
            "width": null
          }
        },
        "46b69d5ed12b48a2b03fa7cf0b079cb8": {
          "model_module": "@jupyter-widgets/controls",
          "model_name": "ProgressStyleModel",
          "model_module_version": "1.5.0",
          "state": {
            "_model_module": "@jupyter-widgets/controls",
            "_model_module_version": "1.5.0",
            "_model_name": "ProgressStyleModel",
            "_view_count": null,
            "_view_module": "@jupyter-widgets/base",
            "_view_module_version": "1.2.0",
            "_view_name": "StyleView",
            "bar_color": null,
            "description_width": ""
          }
        },
        "afcf8b5644cd478a96b28da90f4894d4": {
          "model_module": "@jupyter-widgets/base",
          "model_name": "LayoutModel",
          "model_module_version": "1.2.0",
          "state": {
            "_model_module": "@jupyter-widgets/base",
            "_model_module_version": "1.2.0",
            "_model_name": "LayoutModel",
            "_view_count": null,
            "_view_module": "@jupyter-widgets/base",
            "_view_module_version": "1.2.0",
            "_view_name": "LayoutView",
            "align_content": null,
            "align_items": null,
            "align_self": null,
            "border": null,
            "bottom": null,
            "display": null,
            "flex": null,
            "flex_flow": null,
            "grid_area": null,
            "grid_auto_columns": null,
            "grid_auto_flow": null,
            "grid_auto_rows": null,
            "grid_column": null,
            "grid_gap": null,
            "grid_row": null,
            "grid_template_areas": null,
            "grid_template_columns": null,
            "grid_template_rows": null,
            "height": null,
            "justify_content": null,
            "justify_items": null,
            "left": null,
            "margin": null,
            "max_height": null,
            "max_width": null,
            "min_height": null,
            "min_width": null,
            "object_fit": null,
            "object_position": null,
            "order": null,
            "overflow": null,
            "overflow_x": null,
            "overflow_y": null,
            "padding": null,
            "right": null,
            "top": null,
            "visibility": null,
            "width": null
          }
        },
        "bea6439c76ce406799298042f10b33b1": {
          "model_module": "@jupyter-widgets/controls",
          "model_name": "DescriptionStyleModel",
          "model_module_version": "1.5.0",
          "state": {
            "_model_module": "@jupyter-widgets/controls",
            "_model_module_version": "1.5.0",
            "_model_name": "DescriptionStyleModel",
            "_view_count": null,
            "_view_module": "@jupyter-widgets/base",
            "_view_module_version": "1.2.0",
            "_view_name": "StyleView",
            "description_width": ""
          }
        },
        "d80fccb0cb7a4202897adec6a12c6796": {
          "model_module": "@jupyter-widgets/controls",
          "model_name": "HBoxModel",
          "model_module_version": "1.5.0",
          "state": {
            "_dom_classes": [],
            "_model_module": "@jupyter-widgets/controls",
            "_model_module_version": "1.5.0",
            "_model_name": "HBoxModel",
            "_view_count": null,
            "_view_module": "@jupyter-widgets/controls",
            "_view_module_version": "1.5.0",
            "_view_name": "HBoxView",
            "box_style": "",
            "children": [
              "IPY_MODEL_c16411c3ae534253a2722e7cc9dc2914",
              "IPY_MODEL_1cc498e1a0d74ea484bb796ee4ca570d",
              "IPY_MODEL_f4464878ca374ddab11462e97f98ea17"
            ],
            "layout": "IPY_MODEL_efaa459c85ae4465bcb68d3ec30deadd"
          }
        },
        "c16411c3ae534253a2722e7cc9dc2914": {
          "model_module": "@jupyter-widgets/controls",
          "model_name": "HTMLModel",
          "model_module_version": "1.5.0",
          "state": {
            "_dom_classes": [],
            "_model_module": "@jupyter-widgets/controls",
            "_model_module_version": "1.5.0",
            "_model_name": "HTMLModel",
            "_view_count": null,
            "_view_module": "@jupyter-widgets/controls",
            "_view_module_version": "1.5.0",
            "_view_name": "HTMLView",
            "description": "",
            "description_tooltip": null,
            "layout": "IPY_MODEL_0982d6ddb77b4f32a919a7693d885f3a",
            "placeholder": "​",
            "style": "IPY_MODEL_429df113cdc14180a876919e40f6b9cd",
            "value": "Downloading: 100%"
          }
        },
        "1cc498e1a0d74ea484bb796ee4ca570d": {
          "model_module": "@jupyter-widgets/controls",
          "model_name": "FloatProgressModel",
          "model_module_version": "1.5.0",
          "state": {
            "_dom_classes": [],
            "_model_module": "@jupyter-widgets/controls",
            "_model_module_version": "1.5.0",
            "_model_name": "FloatProgressModel",
            "_view_count": null,
            "_view_module": "@jupyter-widgets/controls",
            "_view_module_version": "1.5.0",
            "_view_name": "ProgressView",
            "bar_style": "success",
            "description": "",
            "description_tooltip": null,
            "layout": "IPY_MODEL_c48fbfceff7347b6871b21f8fb953239",
            "max": 570,
            "min": 0,
            "orientation": "horizontal",
            "style": "IPY_MODEL_83af23d229e647d6a19f14eca8aa5b4c",
            "value": 570
          }
        },
        "f4464878ca374ddab11462e97f98ea17": {
          "model_module": "@jupyter-widgets/controls",
          "model_name": "HTMLModel",
          "model_module_version": "1.5.0",
          "state": {
            "_dom_classes": [],
            "_model_module": "@jupyter-widgets/controls",
            "_model_module_version": "1.5.0",
            "_model_name": "HTMLModel",
            "_view_count": null,
            "_view_module": "@jupyter-widgets/controls",
            "_view_module_version": "1.5.0",
            "_view_name": "HTMLView",
            "description": "",
            "description_tooltip": null,
            "layout": "IPY_MODEL_33ca764a50f94cc2b6a6ab4353bb227f",
            "placeholder": "​",
            "style": "IPY_MODEL_9e60c88f1c824bf08c4756691ef50ae0",
            "value": " 570/570 [00:00&lt;00:00, 14.2kB/s]"
          }
        },
        "efaa459c85ae4465bcb68d3ec30deadd": {
          "model_module": "@jupyter-widgets/base",
          "model_name": "LayoutModel",
          "model_module_version": "1.2.0",
          "state": {
            "_model_module": "@jupyter-widgets/base",
            "_model_module_version": "1.2.0",
            "_model_name": "LayoutModel",
            "_view_count": null,
            "_view_module": "@jupyter-widgets/base",
            "_view_module_version": "1.2.0",
            "_view_name": "LayoutView",
            "align_content": null,
            "align_items": null,
            "align_self": null,
            "border": null,
            "bottom": null,
            "display": null,
            "flex": null,
            "flex_flow": null,
            "grid_area": null,
            "grid_auto_columns": null,
            "grid_auto_flow": null,
            "grid_auto_rows": null,
            "grid_column": null,
            "grid_gap": null,
            "grid_row": null,
            "grid_template_areas": null,
            "grid_template_columns": null,
            "grid_template_rows": null,
            "height": null,
            "justify_content": null,
            "justify_items": null,
            "left": null,
            "margin": null,
            "max_height": null,
            "max_width": null,
            "min_height": null,
            "min_width": null,
            "object_fit": null,
            "object_position": null,
            "order": null,
            "overflow": null,
            "overflow_x": null,
            "overflow_y": null,
            "padding": null,
            "right": null,
            "top": null,
            "visibility": null,
            "width": null
          }
        },
        "0982d6ddb77b4f32a919a7693d885f3a": {
          "model_module": "@jupyter-widgets/base",
          "model_name": "LayoutModel",
          "model_module_version": "1.2.0",
          "state": {
            "_model_module": "@jupyter-widgets/base",
            "_model_module_version": "1.2.0",
            "_model_name": "LayoutModel",
            "_view_count": null,
            "_view_module": "@jupyter-widgets/base",
            "_view_module_version": "1.2.0",
            "_view_name": "LayoutView",
            "align_content": null,
            "align_items": null,
            "align_self": null,
            "border": null,
            "bottom": null,
            "display": null,
            "flex": null,
            "flex_flow": null,
            "grid_area": null,
            "grid_auto_columns": null,
            "grid_auto_flow": null,
            "grid_auto_rows": null,
            "grid_column": null,
            "grid_gap": null,
            "grid_row": null,
            "grid_template_areas": null,
            "grid_template_columns": null,
            "grid_template_rows": null,
            "height": null,
            "justify_content": null,
            "justify_items": null,
            "left": null,
            "margin": null,
            "max_height": null,
            "max_width": null,
            "min_height": null,
            "min_width": null,
            "object_fit": null,
            "object_position": null,
            "order": null,
            "overflow": null,
            "overflow_x": null,
            "overflow_y": null,
            "padding": null,
            "right": null,
            "top": null,
            "visibility": null,
            "width": null
          }
        },
        "429df113cdc14180a876919e40f6b9cd": {
          "model_module": "@jupyter-widgets/controls",
          "model_name": "DescriptionStyleModel",
          "model_module_version": "1.5.0",
          "state": {
            "_model_module": "@jupyter-widgets/controls",
            "_model_module_version": "1.5.0",
            "_model_name": "DescriptionStyleModel",
            "_view_count": null,
            "_view_module": "@jupyter-widgets/base",
            "_view_module_version": "1.2.0",
            "_view_name": "StyleView",
            "description_width": ""
          }
        },
        "c48fbfceff7347b6871b21f8fb953239": {
          "model_module": "@jupyter-widgets/base",
          "model_name": "LayoutModel",
          "model_module_version": "1.2.0",
          "state": {
            "_model_module": "@jupyter-widgets/base",
            "_model_module_version": "1.2.0",
            "_model_name": "LayoutModel",
            "_view_count": null,
            "_view_module": "@jupyter-widgets/base",
            "_view_module_version": "1.2.0",
            "_view_name": "LayoutView",
            "align_content": null,
            "align_items": null,
            "align_self": null,
            "border": null,
            "bottom": null,
            "display": null,
            "flex": null,
            "flex_flow": null,
            "grid_area": null,
            "grid_auto_columns": null,
            "grid_auto_flow": null,
            "grid_auto_rows": null,
            "grid_column": null,
            "grid_gap": null,
            "grid_row": null,
            "grid_template_areas": null,
            "grid_template_columns": null,
            "grid_template_rows": null,
            "height": null,
            "justify_content": null,
            "justify_items": null,
            "left": null,
            "margin": null,
            "max_height": null,
            "max_width": null,
            "min_height": null,
            "min_width": null,
            "object_fit": null,
            "object_position": null,
            "order": null,
            "overflow": null,
            "overflow_x": null,
            "overflow_y": null,
            "padding": null,
            "right": null,
            "top": null,
            "visibility": null,
            "width": null
          }
        },
        "83af23d229e647d6a19f14eca8aa5b4c": {
          "model_module": "@jupyter-widgets/controls",
          "model_name": "ProgressStyleModel",
          "model_module_version": "1.5.0",
          "state": {
            "_model_module": "@jupyter-widgets/controls",
            "_model_module_version": "1.5.0",
            "_model_name": "ProgressStyleModel",
            "_view_count": null,
            "_view_module": "@jupyter-widgets/base",
            "_view_module_version": "1.2.0",
            "_view_name": "StyleView",
            "bar_color": null,
            "description_width": ""
          }
        },
        "33ca764a50f94cc2b6a6ab4353bb227f": {
          "model_module": "@jupyter-widgets/base",
          "model_name": "LayoutModel",
          "model_module_version": "1.2.0",
          "state": {
            "_model_module": "@jupyter-widgets/base",
            "_model_module_version": "1.2.0",
            "_model_name": "LayoutModel",
            "_view_count": null,
            "_view_module": "@jupyter-widgets/base",
            "_view_module_version": "1.2.0",
            "_view_name": "LayoutView",
            "align_content": null,
            "align_items": null,
            "align_self": null,
            "border": null,
            "bottom": null,
            "display": null,
            "flex": null,
            "flex_flow": null,
            "grid_area": null,
            "grid_auto_columns": null,
            "grid_auto_flow": null,
            "grid_auto_rows": null,
            "grid_column": null,
            "grid_gap": null,
            "grid_row": null,
            "grid_template_areas": null,
            "grid_template_columns": null,
            "grid_template_rows": null,
            "height": null,
            "justify_content": null,
            "justify_items": null,
            "left": null,
            "margin": null,
            "max_height": null,
            "max_width": null,
            "min_height": null,
            "min_width": null,
            "object_fit": null,
            "object_position": null,
            "order": null,
            "overflow": null,
            "overflow_x": null,
            "overflow_y": null,
            "padding": null,
            "right": null,
            "top": null,
            "visibility": null,
            "width": null
          }
        },
        "9e60c88f1c824bf08c4756691ef50ae0": {
          "model_module": "@jupyter-widgets/controls",
          "model_name": "DescriptionStyleModel",
          "model_module_version": "1.5.0",
          "state": {
            "_model_module": "@jupyter-widgets/controls",
            "_model_module_version": "1.5.0",
            "_model_name": "DescriptionStyleModel",
            "_view_count": null,
            "_view_module": "@jupyter-widgets/base",
            "_view_module_version": "1.2.0",
            "_view_name": "StyleView",
            "description_width": ""
          }
        },
        "cd55b592b80d4f748e4a0960f36a3908": {
          "model_module": "@jupyter-widgets/controls",
          "model_name": "HBoxModel",
          "model_module_version": "1.5.0",
          "state": {
            "_dom_classes": [],
            "_model_module": "@jupyter-widgets/controls",
            "_model_module_version": "1.5.0",
            "_model_name": "HBoxModel",
            "_view_count": null,
            "_view_module": "@jupyter-widgets/controls",
            "_view_module_version": "1.5.0",
            "_view_name": "HBoxView",
            "box_style": "",
            "children": [
              "IPY_MODEL_166dfb536c534d039a965752a6c15471",
              "IPY_MODEL_16bc980934624c6f8d6da5d2bbf61dcf",
              "IPY_MODEL_29bfc4c99fc94d9980b7ca5a0432e846"
            ],
            "layout": "IPY_MODEL_4a48b0c1b10a426a9bfa598d34c565ae"
          }
        },
        "166dfb536c534d039a965752a6c15471": {
          "model_module": "@jupyter-widgets/controls",
          "model_name": "HTMLModel",
          "model_module_version": "1.5.0",
          "state": {
            "_dom_classes": [],
            "_model_module": "@jupyter-widgets/controls",
            "_model_module_version": "1.5.0",
            "_model_name": "HTMLModel",
            "_view_count": null,
            "_view_module": "@jupyter-widgets/controls",
            "_view_module_version": "1.5.0",
            "_view_name": "HTMLView",
            "description": "",
            "description_tooltip": null,
            "layout": "IPY_MODEL_8affaea371cf4591a1cd585f7183f884",
            "placeholder": "​",
            "style": "IPY_MODEL_201c072554974e86af32c5cb9bc8af21",
            "value": "Downloading: 100%"
          }
        },
        "16bc980934624c6f8d6da5d2bbf61dcf": {
          "model_module": "@jupyter-widgets/controls",
          "model_name": "FloatProgressModel",
          "model_module_version": "1.5.0",
          "state": {
            "_dom_classes": [],
            "_model_module": "@jupyter-widgets/controls",
            "_model_module_version": "1.5.0",
            "_model_name": "FloatProgressModel",
            "_view_count": null,
            "_view_module": "@jupyter-widgets/controls",
            "_view_module_version": "1.5.0",
            "_view_name": "ProgressView",
            "bar_style": "success",
            "description": "",
            "description_tooltip": null,
            "layout": "IPY_MODEL_bd7ee6fafde3440787d28d62943e9c44",
            "max": 231508,
            "min": 0,
            "orientation": "horizontal",
            "style": "IPY_MODEL_501820fa974f4da18f2e1e63ae7ab42e",
            "value": 231508
          }
        },
        "29bfc4c99fc94d9980b7ca5a0432e846": {
          "model_module": "@jupyter-widgets/controls",
          "model_name": "HTMLModel",
          "model_module_version": "1.5.0",
          "state": {
            "_dom_classes": [],
            "_model_module": "@jupyter-widgets/controls",
            "_model_module_version": "1.5.0",
            "_model_name": "HTMLModel",
            "_view_count": null,
            "_view_module": "@jupyter-widgets/controls",
            "_view_module_version": "1.5.0",
            "_view_name": "HTMLView",
            "description": "",
            "description_tooltip": null,
            "layout": "IPY_MODEL_605f6a5e23414b1eac1a03f12460125f",
            "placeholder": "​",
            "style": "IPY_MODEL_073d731131a94fe6a4cc409b3363e022",
            "value": " 226k/226k [00:00&lt;00:00, 828kB/s]"
          }
        },
        "4a48b0c1b10a426a9bfa598d34c565ae": {
          "model_module": "@jupyter-widgets/base",
          "model_name": "LayoutModel",
          "model_module_version": "1.2.0",
          "state": {
            "_model_module": "@jupyter-widgets/base",
            "_model_module_version": "1.2.0",
            "_model_name": "LayoutModel",
            "_view_count": null,
            "_view_module": "@jupyter-widgets/base",
            "_view_module_version": "1.2.0",
            "_view_name": "LayoutView",
            "align_content": null,
            "align_items": null,
            "align_self": null,
            "border": null,
            "bottom": null,
            "display": null,
            "flex": null,
            "flex_flow": null,
            "grid_area": null,
            "grid_auto_columns": null,
            "grid_auto_flow": null,
            "grid_auto_rows": null,
            "grid_column": null,
            "grid_gap": null,
            "grid_row": null,
            "grid_template_areas": null,
            "grid_template_columns": null,
            "grid_template_rows": null,
            "height": null,
            "justify_content": null,
            "justify_items": null,
            "left": null,
            "margin": null,
            "max_height": null,
            "max_width": null,
            "min_height": null,
            "min_width": null,
            "object_fit": null,
            "object_position": null,
            "order": null,
            "overflow": null,
            "overflow_x": null,
            "overflow_y": null,
            "padding": null,
            "right": null,
            "top": null,
            "visibility": null,
            "width": null
          }
        },
        "8affaea371cf4591a1cd585f7183f884": {
          "model_module": "@jupyter-widgets/base",
          "model_name": "LayoutModel",
          "model_module_version": "1.2.0",
          "state": {
            "_model_module": "@jupyter-widgets/base",
            "_model_module_version": "1.2.0",
            "_model_name": "LayoutModel",
            "_view_count": null,
            "_view_module": "@jupyter-widgets/base",
            "_view_module_version": "1.2.0",
            "_view_name": "LayoutView",
            "align_content": null,
            "align_items": null,
            "align_self": null,
            "border": null,
            "bottom": null,
            "display": null,
            "flex": null,
            "flex_flow": null,
            "grid_area": null,
            "grid_auto_columns": null,
            "grid_auto_flow": null,
            "grid_auto_rows": null,
            "grid_column": null,
            "grid_gap": null,
            "grid_row": null,
            "grid_template_areas": null,
            "grid_template_columns": null,
            "grid_template_rows": null,
            "height": null,
            "justify_content": null,
            "justify_items": null,
            "left": null,
            "margin": null,
            "max_height": null,
            "max_width": null,
            "min_height": null,
            "min_width": null,
            "object_fit": null,
            "object_position": null,
            "order": null,
            "overflow": null,
            "overflow_x": null,
            "overflow_y": null,
            "padding": null,
            "right": null,
            "top": null,
            "visibility": null,
            "width": null
          }
        },
        "201c072554974e86af32c5cb9bc8af21": {
          "model_module": "@jupyter-widgets/controls",
          "model_name": "DescriptionStyleModel",
          "model_module_version": "1.5.0",
          "state": {
            "_model_module": "@jupyter-widgets/controls",
            "_model_module_version": "1.5.0",
            "_model_name": "DescriptionStyleModel",
            "_view_count": null,
            "_view_module": "@jupyter-widgets/base",
            "_view_module_version": "1.2.0",
            "_view_name": "StyleView",
            "description_width": ""
          }
        },
        "bd7ee6fafde3440787d28d62943e9c44": {
          "model_module": "@jupyter-widgets/base",
          "model_name": "LayoutModel",
          "model_module_version": "1.2.0",
          "state": {
            "_model_module": "@jupyter-widgets/base",
            "_model_module_version": "1.2.0",
            "_model_name": "LayoutModel",
            "_view_count": null,
            "_view_module": "@jupyter-widgets/base",
            "_view_module_version": "1.2.0",
            "_view_name": "LayoutView",
            "align_content": null,
            "align_items": null,
            "align_self": null,
            "border": null,
            "bottom": null,
            "display": null,
            "flex": null,
            "flex_flow": null,
            "grid_area": null,
            "grid_auto_columns": null,
            "grid_auto_flow": null,
            "grid_auto_rows": null,
            "grid_column": null,
            "grid_gap": null,
            "grid_row": null,
            "grid_template_areas": null,
            "grid_template_columns": null,
            "grid_template_rows": null,
            "height": null,
            "justify_content": null,
            "justify_items": null,
            "left": null,
            "margin": null,
            "max_height": null,
            "max_width": null,
            "min_height": null,
            "min_width": null,
            "object_fit": null,
            "object_position": null,
            "order": null,
            "overflow": null,
            "overflow_x": null,
            "overflow_y": null,
            "padding": null,
            "right": null,
            "top": null,
            "visibility": null,
            "width": null
          }
        },
        "501820fa974f4da18f2e1e63ae7ab42e": {
          "model_module": "@jupyter-widgets/controls",
          "model_name": "ProgressStyleModel",
          "model_module_version": "1.5.0",
          "state": {
            "_model_module": "@jupyter-widgets/controls",
            "_model_module_version": "1.5.0",
            "_model_name": "ProgressStyleModel",
            "_view_count": null,
            "_view_module": "@jupyter-widgets/base",
            "_view_module_version": "1.2.0",
            "_view_name": "StyleView",
            "bar_color": null,
            "description_width": ""
          }
        },
        "605f6a5e23414b1eac1a03f12460125f": {
          "model_module": "@jupyter-widgets/base",
          "model_name": "LayoutModel",
          "model_module_version": "1.2.0",
          "state": {
            "_model_module": "@jupyter-widgets/base",
            "_model_module_version": "1.2.0",
            "_model_name": "LayoutModel",
            "_view_count": null,
            "_view_module": "@jupyter-widgets/base",
            "_view_module_version": "1.2.0",
            "_view_name": "LayoutView",
            "align_content": null,
            "align_items": null,
            "align_self": null,
            "border": null,
            "bottom": null,
            "display": null,
            "flex": null,
            "flex_flow": null,
            "grid_area": null,
            "grid_auto_columns": null,
            "grid_auto_flow": null,
            "grid_auto_rows": null,
            "grid_column": null,
            "grid_gap": null,
            "grid_row": null,
            "grid_template_areas": null,
            "grid_template_columns": null,
            "grid_template_rows": null,
            "height": null,
            "justify_content": null,
            "justify_items": null,
            "left": null,
            "margin": null,
            "max_height": null,
            "max_width": null,
            "min_height": null,
            "min_width": null,
            "object_fit": null,
            "object_position": null,
            "order": null,
            "overflow": null,
            "overflow_x": null,
            "overflow_y": null,
            "padding": null,
            "right": null,
            "top": null,
            "visibility": null,
            "width": null
          }
        },
        "073d731131a94fe6a4cc409b3363e022": {
          "model_module": "@jupyter-widgets/controls",
          "model_name": "DescriptionStyleModel",
          "model_module_version": "1.5.0",
          "state": {
            "_model_module": "@jupyter-widgets/controls",
            "_model_module_version": "1.5.0",
            "_model_name": "DescriptionStyleModel",
            "_view_count": null,
            "_view_module": "@jupyter-widgets/base",
            "_view_module_version": "1.2.0",
            "_view_name": "StyleView",
            "description_width": ""
          }
        },
        "5e0ca8d996574134955cf4dceab9906c": {
          "model_module": "@jupyter-widgets/controls",
          "model_name": "HBoxModel",
          "model_module_version": "1.5.0",
          "state": {
            "_dom_classes": [],
            "_model_module": "@jupyter-widgets/controls",
            "_model_module_version": "1.5.0",
            "_model_name": "HBoxModel",
            "_view_count": null,
            "_view_module": "@jupyter-widgets/controls",
            "_view_module_version": "1.5.0",
            "_view_name": "HBoxView",
            "box_style": "",
            "children": [
              "IPY_MODEL_0de5d4c031e34495a6e89057982595b8",
              "IPY_MODEL_0aa108b3f33e4d08b90567ac2bd70844",
              "IPY_MODEL_e19284c9d4fe40baa53d3253fcd8bcfa"
            ],
            "layout": "IPY_MODEL_9539681ddf5a4a3e98bf031188170c2c"
          }
        },
        "0de5d4c031e34495a6e89057982595b8": {
          "model_module": "@jupyter-widgets/controls",
          "model_name": "HTMLModel",
          "model_module_version": "1.5.0",
          "state": {
            "_dom_classes": [],
            "_model_module": "@jupyter-widgets/controls",
            "_model_module_version": "1.5.0",
            "_model_name": "HTMLModel",
            "_view_count": null,
            "_view_module": "@jupyter-widgets/controls",
            "_view_module_version": "1.5.0",
            "_view_name": "HTMLView",
            "description": "",
            "description_tooltip": null,
            "layout": "IPY_MODEL_e61a1a0d88a24e75869745a4d7b93598",
            "placeholder": "​",
            "style": "IPY_MODEL_236508e2495f455e98784fa7e414bd10",
            "value": "Downloading: 100%"
          }
        },
        "0aa108b3f33e4d08b90567ac2bd70844": {
          "model_module": "@jupyter-widgets/controls",
          "model_name": "FloatProgressModel",
          "model_module_version": "1.5.0",
          "state": {
            "_dom_classes": [],
            "_model_module": "@jupyter-widgets/controls",
            "_model_module_version": "1.5.0",
            "_model_name": "FloatProgressModel",
            "_view_count": null,
            "_view_module": "@jupyter-widgets/controls",
            "_view_module_version": "1.5.0",
            "_view_name": "ProgressView",
            "bar_style": "success",
            "description": "",
            "description_tooltip": null,
            "layout": "IPY_MODEL_76935d75e69a478aaad9c5f5f080e0c4",
            "max": 466062,
            "min": 0,
            "orientation": "horizontal",
            "style": "IPY_MODEL_0c4fb79907d24a72889ea6aec766f5bd",
            "value": 466062
          }
        },
        "e19284c9d4fe40baa53d3253fcd8bcfa": {
          "model_module": "@jupyter-widgets/controls",
          "model_name": "HTMLModel",
          "model_module_version": "1.5.0",
          "state": {
            "_dom_classes": [],
            "_model_module": "@jupyter-widgets/controls",
            "_model_module_version": "1.5.0",
            "_model_name": "HTMLModel",
            "_view_count": null,
            "_view_module": "@jupyter-widgets/controls",
            "_view_module_version": "1.5.0",
            "_view_name": "HTMLView",
            "description": "",
            "description_tooltip": null,
            "layout": "IPY_MODEL_e310f52d01584c9dac636eff1e0d39fd",
            "placeholder": "​",
            "style": "IPY_MODEL_237297842d3c4223bc36cc902d45f259",
            "value": " 455k/455k [00:00&lt;00:00, 876kB/s]"
          }
        },
        "9539681ddf5a4a3e98bf031188170c2c": {
          "model_module": "@jupyter-widgets/base",
          "model_name": "LayoutModel",
          "model_module_version": "1.2.0",
          "state": {
            "_model_module": "@jupyter-widgets/base",
            "_model_module_version": "1.2.0",
            "_model_name": "LayoutModel",
            "_view_count": null,
            "_view_module": "@jupyter-widgets/base",
            "_view_module_version": "1.2.0",
            "_view_name": "LayoutView",
            "align_content": null,
            "align_items": null,
            "align_self": null,
            "border": null,
            "bottom": null,
            "display": null,
            "flex": null,
            "flex_flow": null,
            "grid_area": null,
            "grid_auto_columns": null,
            "grid_auto_flow": null,
            "grid_auto_rows": null,
            "grid_column": null,
            "grid_gap": null,
            "grid_row": null,
            "grid_template_areas": null,
            "grid_template_columns": null,
            "grid_template_rows": null,
            "height": null,
            "justify_content": null,
            "justify_items": null,
            "left": null,
            "margin": null,
            "max_height": null,
            "max_width": null,
            "min_height": null,
            "min_width": null,
            "object_fit": null,
            "object_position": null,
            "order": null,
            "overflow": null,
            "overflow_x": null,
            "overflow_y": null,
            "padding": null,
            "right": null,
            "top": null,
            "visibility": null,
            "width": null
          }
        },
        "e61a1a0d88a24e75869745a4d7b93598": {
          "model_module": "@jupyter-widgets/base",
          "model_name": "LayoutModel",
          "model_module_version": "1.2.0",
          "state": {
            "_model_module": "@jupyter-widgets/base",
            "_model_module_version": "1.2.0",
            "_model_name": "LayoutModel",
            "_view_count": null,
            "_view_module": "@jupyter-widgets/base",
            "_view_module_version": "1.2.0",
            "_view_name": "LayoutView",
            "align_content": null,
            "align_items": null,
            "align_self": null,
            "border": null,
            "bottom": null,
            "display": null,
            "flex": null,
            "flex_flow": null,
            "grid_area": null,
            "grid_auto_columns": null,
            "grid_auto_flow": null,
            "grid_auto_rows": null,
            "grid_column": null,
            "grid_gap": null,
            "grid_row": null,
            "grid_template_areas": null,
            "grid_template_columns": null,
            "grid_template_rows": null,
            "height": null,
            "justify_content": null,
            "justify_items": null,
            "left": null,
            "margin": null,
            "max_height": null,
            "max_width": null,
            "min_height": null,
            "min_width": null,
            "object_fit": null,
            "object_position": null,
            "order": null,
            "overflow": null,
            "overflow_x": null,
            "overflow_y": null,
            "padding": null,
            "right": null,
            "top": null,
            "visibility": null,
            "width": null
          }
        },
        "236508e2495f455e98784fa7e414bd10": {
          "model_module": "@jupyter-widgets/controls",
          "model_name": "DescriptionStyleModel",
          "model_module_version": "1.5.0",
          "state": {
            "_model_module": "@jupyter-widgets/controls",
            "_model_module_version": "1.5.0",
            "_model_name": "DescriptionStyleModel",
            "_view_count": null,
            "_view_module": "@jupyter-widgets/base",
            "_view_module_version": "1.2.0",
            "_view_name": "StyleView",
            "description_width": ""
          }
        },
        "76935d75e69a478aaad9c5f5f080e0c4": {
          "model_module": "@jupyter-widgets/base",
          "model_name": "LayoutModel",
          "model_module_version": "1.2.0",
          "state": {
            "_model_module": "@jupyter-widgets/base",
            "_model_module_version": "1.2.0",
            "_model_name": "LayoutModel",
            "_view_count": null,
            "_view_module": "@jupyter-widgets/base",
            "_view_module_version": "1.2.0",
            "_view_name": "LayoutView",
            "align_content": null,
            "align_items": null,
            "align_self": null,
            "border": null,
            "bottom": null,
            "display": null,
            "flex": null,
            "flex_flow": null,
            "grid_area": null,
            "grid_auto_columns": null,
            "grid_auto_flow": null,
            "grid_auto_rows": null,
            "grid_column": null,
            "grid_gap": null,
            "grid_row": null,
            "grid_template_areas": null,
            "grid_template_columns": null,
            "grid_template_rows": null,
            "height": null,
            "justify_content": null,
            "justify_items": null,
            "left": null,
            "margin": null,
            "max_height": null,
            "max_width": null,
            "min_height": null,
            "min_width": null,
            "object_fit": null,
            "object_position": null,
            "order": null,
            "overflow": null,
            "overflow_x": null,
            "overflow_y": null,
            "padding": null,
            "right": null,
            "top": null,
            "visibility": null,
            "width": null
          }
        },
        "0c4fb79907d24a72889ea6aec766f5bd": {
          "model_module": "@jupyter-widgets/controls",
          "model_name": "ProgressStyleModel",
          "model_module_version": "1.5.0",
          "state": {
            "_model_module": "@jupyter-widgets/controls",
            "_model_module_version": "1.5.0",
            "_model_name": "ProgressStyleModel",
            "_view_count": null,
            "_view_module": "@jupyter-widgets/base",
            "_view_module_version": "1.2.0",
            "_view_name": "StyleView",
            "bar_color": null,
            "description_width": ""
          }
        },
        "e310f52d01584c9dac636eff1e0d39fd": {
          "model_module": "@jupyter-widgets/base",
          "model_name": "LayoutModel",
          "model_module_version": "1.2.0",
          "state": {
            "_model_module": "@jupyter-widgets/base",
            "_model_module_version": "1.2.0",
            "_model_name": "LayoutModel",
            "_view_count": null,
            "_view_module": "@jupyter-widgets/base",
            "_view_module_version": "1.2.0",
            "_view_name": "LayoutView",
            "align_content": null,
            "align_items": null,
            "align_self": null,
            "border": null,
            "bottom": null,
            "display": null,
            "flex": null,
            "flex_flow": null,
            "grid_area": null,
            "grid_auto_columns": null,
            "grid_auto_flow": null,
            "grid_auto_rows": null,
            "grid_column": null,
            "grid_gap": null,
            "grid_row": null,
            "grid_template_areas": null,
            "grid_template_columns": null,
            "grid_template_rows": null,
            "height": null,
            "justify_content": null,
            "justify_items": null,
            "left": null,
            "margin": null,
            "max_height": null,
            "max_width": null,
            "min_height": null,
            "min_width": null,
            "object_fit": null,
            "object_position": null,
            "order": null,
            "overflow": null,
            "overflow_x": null,
            "overflow_y": null,
            "padding": null,
            "right": null,
            "top": null,
            "visibility": null,
            "width": null
          }
        },
        "237297842d3c4223bc36cc902d45f259": {
          "model_module": "@jupyter-widgets/controls",
          "model_name": "DescriptionStyleModel",
          "model_module_version": "1.5.0",
          "state": {
            "_model_module": "@jupyter-widgets/controls",
            "_model_module_version": "1.5.0",
            "_model_name": "DescriptionStyleModel",
            "_view_count": null,
            "_view_module": "@jupyter-widgets/base",
            "_view_module_version": "1.2.0",
            "_view_name": "StyleView",
            "description_width": ""
          }
        },
        "b56ecff5ab55407699288f3cb54629b2": {
          "model_module": "@jupyter-widgets/controls",
          "model_name": "HBoxModel",
          "model_module_version": "1.5.0",
          "state": {
            "_dom_classes": [],
            "_model_module": "@jupyter-widgets/controls",
            "_model_module_version": "1.5.0",
            "_model_name": "HBoxModel",
            "_view_count": null,
            "_view_module": "@jupyter-widgets/controls",
            "_view_module_version": "1.5.0",
            "_view_name": "HBoxView",
            "box_style": "",
            "children": [
              "IPY_MODEL_051a7c1636664efba6846492a200ceb7",
              "IPY_MODEL_f5b137e20dfc474899accb5a86cc671b",
              "IPY_MODEL_8574df380ced4b36bbefb82dec96ecab"
            ],
            "layout": "IPY_MODEL_e4d5e280109f45c1bf441fd4e17d8ef1"
          }
        },
        "051a7c1636664efba6846492a200ceb7": {
          "model_module": "@jupyter-widgets/controls",
          "model_name": "HTMLModel",
          "model_module_version": "1.5.0",
          "state": {
            "_dom_classes": [],
            "_model_module": "@jupyter-widgets/controls",
            "_model_module_version": "1.5.0",
            "_model_name": "HTMLModel",
            "_view_count": null,
            "_view_module": "@jupyter-widgets/controls",
            "_view_module_version": "1.5.0",
            "_view_name": "HTMLView",
            "description": "",
            "description_tooltip": null,
            "layout": "IPY_MODEL_811e0cc669fd41168fe1bca3e47aa5a5",
            "placeholder": "​",
            "style": "IPY_MODEL_cf7a4ae04e5b4475afafec192fab2196",
            "value": "Downloading: 100%"
          }
        },
        "f5b137e20dfc474899accb5a86cc671b": {
          "model_module": "@jupyter-widgets/controls",
          "model_name": "FloatProgressModel",
          "model_module_version": "1.5.0",
          "state": {
            "_dom_classes": [],
            "_model_module": "@jupyter-widgets/controls",
            "_model_module_version": "1.5.0",
            "_model_name": "FloatProgressModel",
            "_view_count": null,
            "_view_module": "@jupyter-widgets/controls",
            "_view_module_version": "1.5.0",
            "_view_name": "ProgressView",
            "bar_style": "success",
            "description": "",
            "description_tooltip": null,
            "layout": "IPY_MODEL_562bff3f1da24b2ba25e49f51484b792",
            "max": 536063208,
            "min": 0,
            "orientation": "horizontal",
            "style": "IPY_MODEL_4529b7608dba46a99b02423eb553f286",
            "value": 536063208
          }
        },
        "8574df380ced4b36bbefb82dec96ecab": {
          "model_module": "@jupyter-widgets/controls",
          "model_name": "HTMLModel",
          "model_module_version": "1.5.0",
          "state": {
            "_dom_classes": [],
            "_model_module": "@jupyter-widgets/controls",
            "_model_module_version": "1.5.0",
            "_model_name": "HTMLModel",
            "_view_count": null,
            "_view_module": "@jupyter-widgets/controls",
            "_view_module_version": "1.5.0",
            "_view_name": "HTMLView",
            "description": "",
            "description_tooltip": null,
            "layout": "IPY_MODEL_fdd08195256d4ea18141cedda6ff6372",
            "placeholder": "​",
            "style": "IPY_MODEL_9182ae3dbf3144dab02957e072d71b15",
            "value": " 511M/511M [00:13&lt;00:00, 39.3MB/s]"
          }
        },
        "e4d5e280109f45c1bf441fd4e17d8ef1": {
          "model_module": "@jupyter-widgets/base",
          "model_name": "LayoutModel",
          "model_module_version": "1.2.0",
          "state": {
            "_model_module": "@jupyter-widgets/base",
            "_model_module_version": "1.2.0",
            "_model_name": "LayoutModel",
            "_view_count": null,
            "_view_module": "@jupyter-widgets/base",
            "_view_module_version": "1.2.0",
            "_view_name": "LayoutView",
            "align_content": null,
            "align_items": null,
            "align_self": null,
            "border": null,
            "bottom": null,
            "display": null,
            "flex": null,
            "flex_flow": null,
            "grid_area": null,
            "grid_auto_columns": null,
            "grid_auto_flow": null,
            "grid_auto_rows": null,
            "grid_column": null,
            "grid_gap": null,
            "grid_row": null,
            "grid_template_areas": null,
            "grid_template_columns": null,
            "grid_template_rows": null,
            "height": null,
            "justify_content": null,
            "justify_items": null,
            "left": null,
            "margin": null,
            "max_height": null,
            "max_width": null,
            "min_height": null,
            "min_width": null,
            "object_fit": null,
            "object_position": null,
            "order": null,
            "overflow": null,
            "overflow_x": null,
            "overflow_y": null,
            "padding": null,
            "right": null,
            "top": null,
            "visibility": null,
            "width": null
          }
        },
        "811e0cc669fd41168fe1bca3e47aa5a5": {
          "model_module": "@jupyter-widgets/base",
          "model_name": "LayoutModel",
          "model_module_version": "1.2.0",
          "state": {
            "_model_module": "@jupyter-widgets/base",
            "_model_module_version": "1.2.0",
            "_model_name": "LayoutModel",
            "_view_count": null,
            "_view_module": "@jupyter-widgets/base",
            "_view_module_version": "1.2.0",
            "_view_name": "LayoutView",
            "align_content": null,
            "align_items": null,
            "align_self": null,
            "border": null,
            "bottom": null,
            "display": null,
            "flex": null,
            "flex_flow": null,
            "grid_area": null,
            "grid_auto_columns": null,
            "grid_auto_flow": null,
            "grid_auto_rows": null,
            "grid_column": null,
            "grid_gap": null,
            "grid_row": null,
            "grid_template_areas": null,
            "grid_template_columns": null,
            "grid_template_rows": null,
            "height": null,
            "justify_content": null,
            "justify_items": null,
            "left": null,
            "margin": null,
            "max_height": null,
            "max_width": null,
            "min_height": null,
            "min_width": null,
            "object_fit": null,
            "object_position": null,
            "order": null,
            "overflow": null,
            "overflow_x": null,
            "overflow_y": null,
            "padding": null,
            "right": null,
            "top": null,
            "visibility": null,
            "width": null
          }
        },
        "cf7a4ae04e5b4475afafec192fab2196": {
          "model_module": "@jupyter-widgets/controls",
          "model_name": "DescriptionStyleModel",
          "model_module_version": "1.5.0",
          "state": {
            "_model_module": "@jupyter-widgets/controls",
            "_model_module_version": "1.5.0",
            "_model_name": "DescriptionStyleModel",
            "_view_count": null,
            "_view_module": "@jupyter-widgets/base",
            "_view_module_version": "1.2.0",
            "_view_name": "StyleView",
            "description_width": ""
          }
        },
        "562bff3f1da24b2ba25e49f51484b792": {
          "model_module": "@jupyter-widgets/base",
          "model_name": "LayoutModel",
          "model_module_version": "1.2.0",
          "state": {
            "_model_module": "@jupyter-widgets/base",
            "_model_module_version": "1.2.0",
            "_model_name": "LayoutModel",
            "_view_count": null,
            "_view_module": "@jupyter-widgets/base",
            "_view_module_version": "1.2.0",
            "_view_name": "LayoutView",
            "align_content": null,
            "align_items": null,
            "align_self": null,
            "border": null,
            "bottom": null,
            "display": null,
            "flex": null,
            "flex_flow": null,
            "grid_area": null,
            "grid_auto_columns": null,
            "grid_auto_flow": null,
            "grid_auto_rows": null,
            "grid_column": null,
            "grid_gap": null,
            "grid_row": null,
            "grid_template_areas": null,
            "grid_template_columns": null,
            "grid_template_rows": null,
            "height": null,
            "justify_content": null,
            "justify_items": null,
            "left": null,
            "margin": null,
            "max_height": null,
            "max_width": null,
            "min_height": null,
            "min_width": null,
            "object_fit": null,
            "object_position": null,
            "order": null,
            "overflow": null,
            "overflow_x": null,
            "overflow_y": null,
            "padding": null,
            "right": null,
            "top": null,
            "visibility": null,
            "width": null
          }
        },
        "4529b7608dba46a99b02423eb553f286": {
          "model_module": "@jupyter-widgets/controls",
          "model_name": "ProgressStyleModel",
          "model_module_version": "1.5.0",
          "state": {
            "_model_module": "@jupyter-widgets/controls",
            "_model_module_version": "1.5.0",
            "_model_name": "ProgressStyleModel",
            "_view_count": null,
            "_view_module": "@jupyter-widgets/base",
            "_view_module_version": "1.2.0",
            "_view_name": "StyleView",
            "bar_color": null,
            "description_width": ""
          }
        },
        "fdd08195256d4ea18141cedda6ff6372": {
          "model_module": "@jupyter-widgets/base",
          "model_name": "LayoutModel",
          "model_module_version": "1.2.0",
          "state": {
            "_model_module": "@jupyter-widgets/base",
            "_model_module_version": "1.2.0",
            "_model_name": "LayoutModel",
            "_view_count": null,
            "_view_module": "@jupyter-widgets/base",
            "_view_module_version": "1.2.0",
            "_view_name": "LayoutView",
            "align_content": null,
            "align_items": null,
            "align_self": null,
            "border": null,
            "bottom": null,
            "display": null,
            "flex": null,
            "flex_flow": null,
            "grid_area": null,
            "grid_auto_columns": null,
            "grid_auto_flow": null,
            "grid_auto_rows": null,
            "grid_column": null,
            "grid_gap": null,
            "grid_row": null,
            "grid_template_areas": null,
            "grid_template_columns": null,
            "grid_template_rows": null,
            "height": null,
            "justify_content": null,
            "justify_items": null,
            "left": null,
            "margin": null,
            "max_height": null,
            "max_width": null,
            "min_height": null,
            "min_width": null,
            "object_fit": null,
            "object_position": null,
            "order": null,
            "overflow": null,
            "overflow_x": null,
            "overflow_y": null,
            "padding": null,
            "right": null,
            "top": null,
            "visibility": null,
            "width": null
          }
        },
        "9182ae3dbf3144dab02957e072d71b15": {
          "model_module": "@jupyter-widgets/controls",
          "model_name": "DescriptionStyleModel",
          "model_module_version": "1.5.0",
          "state": {
            "_model_module": "@jupyter-widgets/controls",
            "_model_module_version": "1.5.0",
            "_model_name": "DescriptionStyleModel",
            "_view_count": null,
            "_view_module": "@jupyter-widgets/base",
            "_view_module_version": "1.2.0",
            "_view_name": "StyleView",
            "description_width": ""
          }
        },
        "ae314b55d648477ba07e3037d68fe613": {
          "model_module": "@jupyter-widgets/controls",
          "model_name": "HBoxModel",
          "model_module_version": "1.5.0",
          "state": {
            "_dom_classes": [],
            "_model_module": "@jupyter-widgets/controls",
            "_model_module_version": "1.5.0",
            "_model_name": "HBoxModel",
            "_view_count": null,
            "_view_module": "@jupyter-widgets/controls",
            "_view_module_version": "1.5.0",
            "_view_name": "HBoxView",
            "box_style": "",
            "children": [
              "IPY_MODEL_cd955bd323be499c9cc90484829513c2",
              "IPY_MODEL_1d366cce4de049ad84f8d030b7575183",
              "IPY_MODEL_96757f6fbed34f80b8732df55e2fa650"
            ],
            "layout": "IPY_MODEL_e43b9e605af4466897edb946e9ffa8ff"
          }
        },
        "cd955bd323be499c9cc90484829513c2": {
          "model_module": "@jupyter-widgets/controls",
          "model_name": "HTMLModel",
          "model_module_version": "1.5.0",
          "state": {
            "_dom_classes": [],
            "_model_module": "@jupyter-widgets/controls",
            "_model_module_version": "1.5.0",
            "_model_name": "HTMLModel",
            "_view_count": null,
            "_view_module": "@jupyter-widgets/controls",
            "_view_module_version": "1.5.0",
            "_view_name": "HTMLView",
            "description": "",
            "description_tooltip": null,
            "layout": "IPY_MODEL_060f9778ab144feaab80d15e4528f555",
            "placeholder": "​",
            "style": "IPY_MODEL_44e96fe6bc674f96a4c7227901f7514f",
            "value": "Casting the dataset: 100%"
          }
        },
        "1d366cce4de049ad84f8d030b7575183": {
          "model_module": "@jupyter-widgets/controls",
          "model_name": "FloatProgressModel",
          "model_module_version": "1.5.0",
          "state": {
            "_dom_classes": [],
            "_model_module": "@jupyter-widgets/controls",
            "_model_module_version": "1.5.0",
            "_model_name": "FloatProgressModel",
            "_view_count": null,
            "_view_module": "@jupyter-widgets/controls",
            "_view_module_version": "1.5.0",
            "_view_name": "ProgressView",
            "bar_style": "success",
            "description": "",
            "description_tooltip": null,
            "layout": "IPY_MODEL_2490733ddc4247a2b79a5ae2907668ce",
            "max": 1,
            "min": 0,
            "orientation": "horizontal",
            "style": "IPY_MODEL_6a986559e44b4145b0cc15f87ff4f836",
            "value": 1
          }
        },
        "96757f6fbed34f80b8732df55e2fa650": {
          "model_module": "@jupyter-widgets/controls",
          "model_name": "HTMLModel",
          "model_module_version": "1.5.0",
          "state": {
            "_dom_classes": [],
            "_model_module": "@jupyter-widgets/controls",
            "_model_module_version": "1.5.0",
            "_model_name": "HTMLModel",
            "_view_count": null,
            "_view_module": "@jupyter-widgets/controls",
            "_view_module_version": "1.5.0",
            "_view_name": "HTMLView",
            "description": "",
            "description_tooltip": null,
            "layout": "IPY_MODEL_e580c847dbbc4c699038b527cb24d0c8",
            "placeholder": "​",
            "style": "IPY_MODEL_d7a85ef9b50f4fcd8feb32793adcffad",
            "value": " 1/1 [00:00&lt;00:00,  8.34ba/s]"
          }
        },
        "e43b9e605af4466897edb946e9ffa8ff": {
          "model_module": "@jupyter-widgets/base",
          "model_name": "LayoutModel",
          "model_module_version": "1.2.0",
          "state": {
            "_model_module": "@jupyter-widgets/base",
            "_model_module_version": "1.2.0",
            "_model_name": "LayoutModel",
            "_view_count": null,
            "_view_module": "@jupyter-widgets/base",
            "_view_module_version": "1.2.0",
            "_view_name": "LayoutView",
            "align_content": null,
            "align_items": null,
            "align_self": null,
            "border": null,
            "bottom": null,
            "display": null,
            "flex": null,
            "flex_flow": null,
            "grid_area": null,
            "grid_auto_columns": null,
            "grid_auto_flow": null,
            "grid_auto_rows": null,
            "grid_column": null,
            "grid_gap": null,
            "grid_row": null,
            "grid_template_areas": null,
            "grid_template_columns": null,
            "grid_template_rows": null,
            "height": null,
            "justify_content": null,
            "justify_items": null,
            "left": null,
            "margin": null,
            "max_height": null,
            "max_width": null,
            "min_height": null,
            "min_width": null,
            "object_fit": null,
            "object_position": null,
            "order": null,
            "overflow": null,
            "overflow_x": null,
            "overflow_y": null,
            "padding": null,
            "right": null,
            "top": null,
            "visibility": null,
            "width": null
          }
        },
        "060f9778ab144feaab80d15e4528f555": {
          "model_module": "@jupyter-widgets/base",
          "model_name": "LayoutModel",
          "model_module_version": "1.2.0",
          "state": {
            "_model_module": "@jupyter-widgets/base",
            "_model_module_version": "1.2.0",
            "_model_name": "LayoutModel",
            "_view_count": null,
            "_view_module": "@jupyter-widgets/base",
            "_view_module_version": "1.2.0",
            "_view_name": "LayoutView",
            "align_content": null,
            "align_items": null,
            "align_self": null,
            "border": null,
            "bottom": null,
            "display": null,
            "flex": null,
            "flex_flow": null,
            "grid_area": null,
            "grid_auto_columns": null,
            "grid_auto_flow": null,
            "grid_auto_rows": null,
            "grid_column": null,
            "grid_gap": null,
            "grid_row": null,
            "grid_template_areas": null,
            "grid_template_columns": null,
            "grid_template_rows": null,
            "height": null,
            "justify_content": null,
            "justify_items": null,
            "left": null,
            "margin": null,
            "max_height": null,
            "max_width": null,
            "min_height": null,
            "min_width": null,
            "object_fit": null,
            "object_position": null,
            "order": null,
            "overflow": null,
            "overflow_x": null,
            "overflow_y": null,
            "padding": null,
            "right": null,
            "top": null,
            "visibility": null,
            "width": null
          }
        },
        "44e96fe6bc674f96a4c7227901f7514f": {
          "model_module": "@jupyter-widgets/controls",
          "model_name": "DescriptionStyleModel",
          "model_module_version": "1.5.0",
          "state": {
            "_model_module": "@jupyter-widgets/controls",
            "_model_module_version": "1.5.0",
            "_model_name": "DescriptionStyleModel",
            "_view_count": null,
            "_view_module": "@jupyter-widgets/base",
            "_view_module_version": "1.2.0",
            "_view_name": "StyleView",
            "description_width": ""
          }
        },
        "2490733ddc4247a2b79a5ae2907668ce": {
          "model_module": "@jupyter-widgets/base",
          "model_name": "LayoutModel",
          "model_module_version": "1.2.0",
          "state": {
            "_model_module": "@jupyter-widgets/base",
            "_model_module_version": "1.2.0",
            "_model_name": "LayoutModel",
            "_view_count": null,
            "_view_module": "@jupyter-widgets/base",
            "_view_module_version": "1.2.0",
            "_view_name": "LayoutView",
            "align_content": null,
            "align_items": null,
            "align_self": null,
            "border": null,
            "bottom": null,
            "display": null,
            "flex": null,
            "flex_flow": null,
            "grid_area": null,
            "grid_auto_columns": null,
            "grid_auto_flow": null,
            "grid_auto_rows": null,
            "grid_column": null,
            "grid_gap": null,
            "grid_row": null,
            "grid_template_areas": null,
            "grid_template_columns": null,
            "grid_template_rows": null,
            "height": null,
            "justify_content": null,
            "justify_items": null,
            "left": null,
            "margin": null,
            "max_height": null,
            "max_width": null,
            "min_height": null,
            "min_width": null,
            "object_fit": null,
            "object_position": null,
            "order": null,
            "overflow": null,
            "overflow_x": null,
            "overflow_y": null,
            "padding": null,
            "right": null,
            "top": null,
            "visibility": null,
            "width": null
          }
        },
        "6a986559e44b4145b0cc15f87ff4f836": {
          "model_module": "@jupyter-widgets/controls",
          "model_name": "ProgressStyleModel",
          "model_module_version": "1.5.0",
          "state": {
            "_model_module": "@jupyter-widgets/controls",
            "_model_module_version": "1.5.0",
            "_model_name": "ProgressStyleModel",
            "_view_count": null,
            "_view_module": "@jupyter-widgets/base",
            "_view_module_version": "1.2.0",
            "_view_name": "StyleView",
            "bar_color": null,
            "description_width": ""
          }
        },
        "e580c847dbbc4c699038b527cb24d0c8": {
          "model_module": "@jupyter-widgets/base",
          "model_name": "LayoutModel",
          "model_module_version": "1.2.0",
          "state": {
            "_model_module": "@jupyter-widgets/base",
            "_model_module_version": "1.2.0",
            "_model_name": "LayoutModel",
            "_view_count": null,
            "_view_module": "@jupyter-widgets/base",
            "_view_module_version": "1.2.0",
            "_view_name": "LayoutView",
            "align_content": null,
            "align_items": null,
            "align_self": null,
            "border": null,
            "bottom": null,
            "display": null,
            "flex": null,
            "flex_flow": null,
            "grid_area": null,
            "grid_auto_columns": null,
            "grid_auto_flow": null,
            "grid_auto_rows": null,
            "grid_column": null,
            "grid_gap": null,
            "grid_row": null,
            "grid_template_areas": null,
            "grid_template_columns": null,
            "grid_template_rows": null,
            "height": null,
            "justify_content": null,
            "justify_items": null,
            "left": null,
            "margin": null,
            "max_height": null,
            "max_width": null,
            "min_height": null,
            "min_width": null,
            "object_fit": null,
            "object_position": null,
            "order": null,
            "overflow": null,
            "overflow_x": null,
            "overflow_y": null,
            "padding": null,
            "right": null,
            "top": null,
            "visibility": null,
            "width": null
          }
        },
        "d7a85ef9b50f4fcd8feb32793adcffad": {
          "model_module": "@jupyter-widgets/controls",
          "model_name": "DescriptionStyleModel",
          "model_module_version": "1.5.0",
          "state": {
            "_model_module": "@jupyter-widgets/controls",
            "_model_module_version": "1.5.0",
            "_model_name": "DescriptionStyleModel",
            "_view_count": null,
            "_view_module": "@jupyter-widgets/base",
            "_view_module_version": "1.2.0",
            "_view_name": "StyleView",
            "description_width": ""
          }
        },
        "66a5e01b6cbf4bc9a39ac11cf161059f": {
          "model_module": "@jupyter-widgets/controls",
          "model_name": "HBoxModel",
          "model_module_version": "1.5.0",
          "state": {
            "_dom_classes": [],
            "_model_module": "@jupyter-widgets/controls",
            "_model_module_version": "1.5.0",
            "_model_name": "HBoxModel",
            "_view_count": null,
            "_view_module": "@jupyter-widgets/controls",
            "_view_module_version": "1.5.0",
            "_view_name": "HBoxView",
            "box_style": "",
            "children": [
              "IPY_MODEL_3306db9f205d4ae5a46c60c449f58c33",
              "IPY_MODEL_4cc15cf90d364cfb913557fad7a713b3",
              "IPY_MODEL_93536155c444498d88a53bce621a47f1"
            ],
            "layout": "IPY_MODEL_526bd4e6a3ce4cb9905d0acd6bc1f3ef"
          }
        },
        "3306db9f205d4ae5a46c60c449f58c33": {
          "model_module": "@jupyter-widgets/controls",
          "model_name": "HTMLModel",
          "model_module_version": "1.5.0",
          "state": {
            "_dom_classes": [],
            "_model_module": "@jupyter-widgets/controls",
            "_model_module_version": "1.5.0",
            "_model_name": "HTMLModel",
            "_view_count": null,
            "_view_module": "@jupyter-widgets/controls",
            "_view_module_version": "1.5.0",
            "_view_name": "HTMLView",
            "description": "",
            "description_tooltip": null,
            "layout": "IPY_MODEL_750dfb7b9dd1401987c12bb337ef13b3",
            "placeholder": "​",
            "style": "IPY_MODEL_a88cde78f47944cc8c1feb779989304f",
            "value": "100%"
          }
        },
        "4cc15cf90d364cfb913557fad7a713b3": {
          "model_module": "@jupyter-widgets/controls",
          "model_name": "FloatProgressModel",
          "model_module_version": "1.5.0",
          "state": {
            "_dom_classes": [],
            "_model_module": "@jupyter-widgets/controls",
            "_model_module_version": "1.5.0",
            "_model_name": "FloatProgressModel",
            "_view_count": null,
            "_view_module": "@jupyter-widgets/controls",
            "_view_module_version": "1.5.0",
            "_view_name": "ProgressView",
            "bar_style": "success",
            "description": "",
            "description_tooltip": null,
            "layout": "IPY_MODEL_999d993ec51d4d5c85bf789e4725542b",
            "max": 2,
            "min": 0,
            "orientation": "horizontal",
            "style": "IPY_MODEL_a5a62b97f92b4e52b963651239da674e",
            "value": 2
          }
        },
        "93536155c444498d88a53bce621a47f1": {
          "model_module": "@jupyter-widgets/controls",
          "model_name": "HTMLModel",
          "model_module_version": "1.5.0",
          "state": {
            "_dom_classes": [],
            "_model_module": "@jupyter-widgets/controls",
            "_model_module_version": "1.5.0",
            "_model_name": "HTMLModel",
            "_view_count": null,
            "_view_module": "@jupyter-widgets/controls",
            "_view_module_version": "1.5.0",
            "_view_name": "HTMLView",
            "description": "",
            "description_tooltip": null,
            "layout": "IPY_MODEL_eb9b3af5b2f34abcb3d3858d1f5b93a8",
            "placeholder": "​",
            "style": "IPY_MODEL_ac19f31a2d014e708686d60ba62de8d5",
            "value": " 2/2 [00:00&lt;00:00,  7.03ba/s]"
          }
        },
        "526bd4e6a3ce4cb9905d0acd6bc1f3ef": {
          "model_module": "@jupyter-widgets/base",
          "model_name": "LayoutModel",
          "model_module_version": "1.2.0",
          "state": {
            "_model_module": "@jupyter-widgets/base",
            "_model_module_version": "1.2.0",
            "_model_name": "LayoutModel",
            "_view_count": null,
            "_view_module": "@jupyter-widgets/base",
            "_view_module_version": "1.2.0",
            "_view_name": "LayoutView",
            "align_content": null,
            "align_items": null,
            "align_self": null,
            "border": null,
            "bottom": null,
            "display": null,
            "flex": null,
            "flex_flow": null,
            "grid_area": null,
            "grid_auto_columns": null,
            "grid_auto_flow": null,
            "grid_auto_rows": null,
            "grid_column": null,
            "grid_gap": null,
            "grid_row": null,
            "grid_template_areas": null,
            "grid_template_columns": null,
            "grid_template_rows": null,
            "height": null,
            "justify_content": null,
            "justify_items": null,
            "left": null,
            "margin": null,
            "max_height": null,
            "max_width": null,
            "min_height": null,
            "min_width": null,
            "object_fit": null,
            "object_position": null,
            "order": null,
            "overflow": null,
            "overflow_x": null,
            "overflow_y": null,
            "padding": null,
            "right": null,
            "top": null,
            "visibility": null,
            "width": null
          }
        },
        "750dfb7b9dd1401987c12bb337ef13b3": {
          "model_module": "@jupyter-widgets/base",
          "model_name": "LayoutModel",
          "model_module_version": "1.2.0",
          "state": {
            "_model_module": "@jupyter-widgets/base",
            "_model_module_version": "1.2.0",
            "_model_name": "LayoutModel",
            "_view_count": null,
            "_view_module": "@jupyter-widgets/base",
            "_view_module_version": "1.2.0",
            "_view_name": "LayoutView",
            "align_content": null,
            "align_items": null,
            "align_self": null,
            "border": null,
            "bottom": null,
            "display": null,
            "flex": null,
            "flex_flow": null,
            "grid_area": null,
            "grid_auto_columns": null,
            "grid_auto_flow": null,
            "grid_auto_rows": null,
            "grid_column": null,
            "grid_gap": null,
            "grid_row": null,
            "grid_template_areas": null,
            "grid_template_columns": null,
            "grid_template_rows": null,
            "height": null,
            "justify_content": null,
            "justify_items": null,
            "left": null,
            "margin": null,
            "max_height": null,
            "max_width": null,
            "min_height": null,
            "min_width": null,
            "object_fit": null,
            "object_position": null,
            "order": null,
            "overflow": null,
            "overflow_x": null,
            "overflow_y": null,
            "padding": null,
            "right": null,
            "top": null,
            "visibility": null,
            "width": null
          }
        },
        "a88cde78f47944cc8c1feb779989304f": {
          "model_module": "@jupyter-widgets/controls",
          "model_name": "DescriptionStyleModel",
          "model_module_version": "1.5.0",
          "state": {
            "_model_module": "@jupyter-widgets/controls",
            "_model_module_version": "1.5.0",
            "_model_name": "DescriptionStyleModel",
            "_view_count": null,
            "_view_module": "@jupyter-widgets/base",
            "_view_module_version": "1.2.0",
            "_view_name": "StyleView",
            "description_width": ""
          }
        },
        "999d993ec51d4d5c85bf789e4725542b": {
          "model_module": "@jupyter-widgets/base",
          "model_name": "LayoutModel",
          "model_module_version": "1.2.0",
          "state": {
            "_model_module": "@jupyter-widgets/base",
            "_model_module_version": "1.2.0",
            "_model_name": "LayoutModel",
            "_view_count": null,
            "_view_module": "@jupyter-widgets/base",
            "_view_module_version": "1.2.0",
            "_view_name": "LayoutView",
            "align_content": null,
            "align_items": null,
            "align_self": null,
            "border": null,
            "bottom": null,
            "display": null,
            "flex": null,
            "flex_flow": null,
            "grid_area": null,
            "grid_auto_columns": null,
            "grid_auto_flow": null,
            "grid_auto_rows": null,
            "grid_column": null,
            "grid_gap": null,
            "grid_row": null,
            "grid_template_areas": null,
            "grid_template_columns": null,
            "grid_template_rows": null,
            "height": null,
            "justify_content": null,
            "justify_items": null,
            "left": null,
            "margin": null,
            "max_height": null,
            "max_width": null,
            "min_height": null,
            "min_width": null,
            "object_fit": null,
            "object_position": null,
            "order": null,
            "overflow": null,
            "overflow_x": null,
            "overflow_y": null,
            "padding": null,
            "right": null,
            "top": null,
            "visibility": null,
            "width": null
          }
        },
        "a5a62b97f92b4e52b963651239da674e": {
          "model_module": "@jupyter-widgets/controls",
          "model_name": "ProgressStyleModel",
          "model_module_version": "1.5.0",
          "state": {
            "_model_module": "@jupyter-widgets/controls",
            "_model_module_version": "1.5.0",
            "_model_name": "ProgressStyleModel",
            "_view_count": null,
            "_view_module": "@jupyter-widgets/base",
            "_view_module_version": "1.2.0",
            "_view_name": "StyleView",
            "bar_color": null,
            "description_width": ""
          }
        },
        "eb9b3af5b2f34abcb3d3858d1f5b93a8": {
          "model_module": "@jupyter-widgets/base",
          "model_name": "LayoutModel",
          "model_module_version": "1.2.0",
          "state": {
            "_model_module": "@jupyter-widgets/base",
            "_model_module_version": "1.2.0",
            "_model_name": "LayoutModel",
            "_view_count": null,
            "_view_module": "@jupyter-widgets/base",
            "_view_module_version": "1.2.0",
            "_view_name": "LayoutView",
            "align_content": null,
            "align_items": null,
            "align_self": null,
            "border": null,
            "bottom": null,
            "display": null,
            "flex": null,
            "flex_flow": null,
            "grid_area": null,
            "grid_auto_columns": null,
            "grid_auto_flow": null,
            "grid_auto_rows": null,
            "grid_column": null,
            "grid_gap": null,
            "grid_row": null,
            "grid_template_areas": null,
            "grid_template_columns": null,
            "grid_template_rows": null,
            "height": null,
            "justify_content": null,
            "justify_items": null,
            "left": null,
            "margin": null,
            "max_height": null,
            "max_width": null,
            "min_height": null,
            "min_width": null,
            "object_fit": null,
            "object_position": null,
            "order": null,
            "overflow": null,
            "overflow_x": null,
            "overflow_y": null,
            "padding": null,
            "right": null,
            "top": null,
            "visibility": null,
            "width": null
          }
        },
        "ac19f31a2d014e708686d60ba62de8d5": {
          "model_module": "@jupyter-widgets/controls",
          "model_name": "DescriptionStyleModel",
          "model_module_version": "1.5.0",
          "state": {
            "_model_module": "@jupyter-widgets/controls",
            "_model_module_version": "1.5.0",
            "_model_name": "DescriptionStyleModel",
            "_view_count": null,
            "_view_module": "@jupyter-widgets/base",
            "_view_module_version": "1.2.0",
            "_view_name": "StyleView",
            "description_width": ""
          }
        },
        "bc05e53fd5ab4637b330cd7eb5021aa1": {
          "model_module": "@jupyter-widgets/controls",
          "model_name": "HBoxModel",
          "model_module_version": "1.5.0",
          "state": {
            "_dom_classes": [],
            "_model_module": "@jupyter-widgets/controls",
            "_model_module_version": "1.5.0",
            "_model_name": "HBoxModel",
            "_view_count": null,
            "_view_module": "@jupyter-widgets/controls",
            "_view_module_version": "1.5.0",
            "_view_name": "HBoxView",
            "box_style": "",
            "children": [
              "IPY_MODEL_1f307f8ce06643c1afd1ad378026c933",
              "IPY_MODEL_2f7c3cc230b34811a02150d85ca0a262",
              "IPY_MODEL_8949fbd8e9df43bbbcab88c592eaf6f5"
            ],
            "layout": "IPY_MODEL_d706511283414db49881219e1d1e8cd2"
          }
        },
        "1f307f8ce06643c1afd1ad378026c933": {
          "model_module": "@jupyter-widgets/controls",
          "model_name": "HTMLModel",
          "model_module_version": "1.5.0",
          "state": {
            "_dom_classes": [],
            "_model_module": "@jupyter-widgets/controls",
            "_model_module_version": "1.5.0",
            "_model_name": "HTMLModel",
            "_view_count": null,
            "_view_module": "@jupyter-widgets/controls",
            "_view_module_version": "1.5.0",
            "_view_name": "HTMLView",
            "description": "",
            "description_tooltip": null,
            "layout": "IPY_MODEL_87851b59f1a34f678d2a1305566f7efc",
            "placeholder": "​",
            "style": "IPY_MODEL_c128cfcb99764a98bdd93a0adee73f3a",
            "value": "100%"
          }
        },
        "2f7c3cc230b34811a02150d85ca0a262": {
          "model_module": "@jupyter-widgets/controls",
          "model_name": "FloatProgressModel",
          "model_module_version": "1.5.0",
          "state": {
            "_dom_classes": [],
            "_model_module": "@jupyter-widgets/controls",
            "_model_module_version": "1.5.0",
            "_model_name": "FloatProgressModel",
            "_view_count": null,
            "_view_module": "@jupyter-widgets/controls",
            "_view_module_version": "1.5.0",
            "_view_name": "ProgressView",
            "bar_style": "success",
            "description": "",
            "description_tooltip": null,
            "layout": "IPY_MODEL_5b4205bd4dac4befa755bd0b76a92a3a",
            "max": 1,
            "min": 0,
            "orientation": "horizontal",
            "style": "IPY_MODEL_55cbcec5c893483496eb8870d82e2888",
            "value": 1
          }
        },
        "8949fbd8e9df43bbbcab88c592eaf6f5": {
          "model_module": "@jupyter-widgets/controls",
          "model_name": "HTMLModel",
          "model_module_version": "1.5.0",
          "state": {
            "_dom_classes": [],
            "_model_module": "@jupyter-widgets/controls",
            "_model_module_version": "1.5.0",
            "_model_name": "HTMLModel",
            "_view_count": null,
            "_view_module": "@jupyter-widgets/controls",
            "_view_module_version": "1.5.0",
            "_view_name": "HTMLView",
            "description": "",
            "description_tooltip": null,
            "layout": "IPY_MODEL_079f49d6fb684abb9b119ea40ce0d5b3",
            "placeholder": "​",
            "style": "IPY_MODEL_5fc4301b0bdc48e9a7a250ecc1d55374",
            "value": " 1/1 [00:00&lt;00:00, 14.68ba/s]"
          }
        },
        "d706511283414db49881219e1d1e8cd2": {
          "model_module": "@jupyter-widgets/base",
          "model_name": "LayoutModel",
          "model_module_version": "1.2.0",
          "state": {
            "_model_module": "@jupyter-widgets/base",
            "_model_module_version": "1.2.0",
            "_model_name": "LayoutModel",
            "_view_count": null,
            "_view_module": "@jupyter-widgets/base",
            "_view_module_version": "1.2.0",
            "_view_name": "LayoutView",
            "align_content": null,
            "align_items": null,
            "align_self": null,
            "border": null,
            "bottom": null,
            "display": null,
            "flex": null,
            "flex_flow": null,
            "grid_area": null,
            "grid_auto_columns": null,
            "grid_auto_flow": null,
            "grid_auto_rows": null,
            "grid_column": null,
            "grid_gap": null,
            "grid_row": null,
            "grid_template_areas": null,
            "grid_template_columns": null,
            "grid_template_rows": null,
            "height": null,
            "justify_content": null,
            "justify_items": null,
            "left": null,
            "margin": null,
            "max_height": null,
            "max_width": null,
            "min_height": null,
            "min_width": null,
            "object_fit": null,
            "object_position": null,
            "order": null,
            "overflow": null,
            "overflow_x": null,
            "overflow_y": null,
            "padding": null,
            "right": null,
            "top": null,
            "visibility": null,
            "width": null
          }
        },
        "87851b59f1a34f678d2a1305566f7efc": {
          "model_module": "@jupyter-widgets/base",
          "model_name": "LayoutModel",
          "model_module_version": "1.2.0",
          "state": {
            "_model_module": "@jupyter-widgets/base",
            "_model_module_version": "1.2.0",
            "_model_name": "LayoutModel",
            "_view_count": null,
            "_view_module": "@jupyter-widgets/base",
            "_view_module_version": "1.2.0",
            "_view_name": "LayoutView",
            "align_content": null,
            "align_items": null,
            "align_self": null,
            "border": null,
            "bottom": null,
            "display": null,
            "flex": null,
            "flex_flow": null,
            "grid_area": null,
            "grid_auto_columns": null,
            "grid_auto_flow": null,
            "grid_auto_rows": null,
            "grid_column": null,
            "grid_gap": null,
            "grid_row": null,
            "grid_template_areas": null,
            "grid_template_columns": null,
            "grid_template_rows": null,
            "height": null,
            "justify_content": null,
            "justify_items": null,
            "left": null,
            "margin": null,
            "max_height": null,
            "max_width": null,
            "min_height": null,
            "min_width": null,
            "object_fit": null,
            "object_position": null,
            "order": null,
            "overflow": null,
            "overflow_x": null,
            "overflow_y": null,
            "padding": null,
            "right": null,
            "top": null,
            "visibility": null,
            "width": null
          }
        },
        "c128cfcb99764a98bdd93a0adee73f3a": {
          "model_module": "@jupyter-widgets/controls",
          "model_name": "DescriptionStyleModel",
          "model_module_version": "1.5.0",
          "state": {
            "_model_module": "@jupyter-widgets/controls",
            "_model_module_version": "1.5.0",
            "_model_name": "DescriptionStyleModel",
            "_view_count": null,
            "_view_module": "@jupyter-widgets/base",
            "_view_module_version": "1.2.0",
            "_view_name": "StyleView",
            "description_width": ""
          }
        },
        "5b4205bd4dac4befa755bd0b76a92a3a": {
          "model_module": "@jupyter-widgets/base",
          "model_name": "LayoutModel",
          "model_module_version": "1.2.0",
          "state": {
            "_model_module": "@jupyter-widgets/base",
            "_model_module_version": "1.2.0",
            "_model_name": "LayoutModel",
            "_view_count": null,
            "_view_module": "@jupyter-widgets/base",
            "_view_module_version": "1.2.0",
            "_view_name": "LayoutView",
            "align_content": null,
            "align_items": null,
            "align_self": null,
            "border": null,
            "bottom": null,
            "display": null,
            "flex": null,
            "flex_flow": null,
            "grid_area": null,
            "grid_auto_columns": null,
            "grid_auto_flow": null,
            "grid_auto_rows": null,
            "grid_column": null,
            "grid_gap": null,
            "grid_row": null,
            "grid_template_areas": null,
            "grid_template_columns": null,
            "grid_template_rows": null,
            "height": null,
            "justify_content": null,
            "justify_items": null,
            "left": null,
            "margin": null,
            "max_height": null,
            "max_width": null,
            "min_height": null,
            "min_width": null,
            "object_fit": null,
            "object_position": null,
            "order": null,
            "overflow": null,
            "overflow_x": null,
            "overflow_y": null,
            "padding": null,
            "right": null,
            "top": null,
            "visibility": null,
            "width": null
          }
        },
        "55cbcec5c893483496eb8870d82e2888": {
          "model_module": "@jupyter-widgets/controls",
          "model_name": "ProgressStyleModel",
          "model_module_version": "1.5.0",
          "state": {
            "_model_module": "@jupyter-widgets/controls",
            "_model_module_version": "1.5.0",
            "_model_name": "ProgressStyleModel",
            "_view_count": null,
            "_view_module": "@jupyter-widgets/base",
            "_view_module_version": "1.2.0",
            "_view_name": "StyleView",
            "bar_color": null,
            "description_width": ""
          }
        },
        "079f49d6fb684abb9b119ea40ce0d5b3": {
          "model_module": "@jupyter-widgets/base",
          "model_name": "LayoutModel",
          "model_module_version": "1.2.0",
          "state": {
            "_model_module": "@jupyter-widgets/base",
            "_model_module_version": "1.2.0",
            "_model_name": "LayoutModel",
            "_view_count": null,
            "_view_module": "@jupyter-widgets/base",
            "_view_module_version": "1.2.0",
            "_view_name": "LayoutView",
            "align_content": null,
            "align_items": null,
            "align_self": null,
            "border": null,
            "bottom": null,
            "display": null,
            "flex": null,
            "flex_flow": null,
            "grid_area": null,
            "grid_auto_columns": null,
            "grid_auto_flow": null,
            "grid_auto_rows": null,
            "grid_column": null,
            "grid_gap": null,
            "grid_row": null,
            "grid_template_areas": null,
            "grid_template_columns": null,
            "grid_template_rows": null,
            "height": null,
            "justify_content": null,
            "justify_items": null,
            "left": null,
            "margin": null,
            "max_height": null,
            "max_width": null,
            "min_height": null,
            "min_width": null,
            "object_fit": null,
            "object_position": null,
            "order": null,
            "overflow": null,
            "overflow_x": null,
            "overflow_y": null,
            "padding": null,
            "right": null,
            "top": null,
            "visibility": null,
            "width": null
          }
        },
        "5fc4301b0bdc48e9a7a250ecc1d55374": {
          "model_module": "@jupyter-widgets/controls",
          "model_name": "DescriptionStyleModel",
          "model_module_version": "1.5.0",
          "state": {
            "_model_module": "@jupyter-widgets/controls",
            "_model_module_version": "1.5.0",
            "_model_name": "DescriptionStyleModel",
            "_view_count": null,
            "_view_module": "@jupyter-widgets/base",
            "_view_module_version": "1.2.0",
            "_view_name": "StyleView",
            "description_width": ""
          }
        },
        "e9a63d683423407ab7b2542def05c6cb": {
          "model_module": "@jupyter-widgets/controls",
          "model_name": "HBoxModel",
          "model_module_version": "1.5.0",
          "state": {
            "_dom_classes": [],
            "_model_module": "@jupyter-widgets/controls",
            "_model_module_version": "1.5.0",
            "_model_name": "HBoxModel",
            "_view_count": null,
            "_view_module": "@jupyter-widgets/controls",
            "_view_module_version": "1.5.0",
            "_view_name": "HBoxView",
            "box_style": "",
            "children": [
              "IPY_MODEL_40add738feb84cd0aa769a11f8bfcfe9",
              "IPY_MODEL_2effc730e0c84c44aa5f1af68f939736",
              "IPY_MODEL_5a081c8de4f740b0b56774daf865b79b"
            ],
            "layout": "IPY_MODEL_8ab5db135ecc48079bf084d9aff13190"
          }
        },
        "40add738feb84cd0aa769a11f8bfcfe9": {
          "model_module": "@jupyter-widgets/controls",
          "model_name": "HTMLModel",
          "model_module_version": "1.5.0",
          "state": {
            "_dom_classes": [],
            "_model_module": "@jupyter-widgets/controls",
            "_model_module_version": "1.5.0",
            "_model_name": "HTMLModel",
            "_view_count": null,
            "_view_module": "@jupyter-widgets/controls",
            "_view_module_version": "1.5.0",
            "_view_name": "HTMLView",
            "description": "",
            "description_tooltip": null,
            "layout": "IPY_MODEL_220565dbaf4a4924b33c4107c68ce76a",
            "placeholder": "​",
            "style": "IPY_MODEL_b80746af5b854e83a811f5638d283e11",
            "value": "100%"
          }
        },
        "2effc730e0c84c44aa5f1af68f939736": {
          "model_module": "@jupyter-widgets/controls",
          "model_name": "FloatProgressModel",
          "model_module_version": "1.5.0",
          "state": {
            "_dom_classes": [],
            "_model_module": "@jupyter-widgets/controls",
            "_model_module_version": "1.5.0",
            "_model_name": "FloatProgressModel",
            "_view_count": null,
            "_view_module": "@jupyter-widgets/controls",
            "_view_module_version": "1.5.0",
            "_view_name": "ProgressView",
            "bar_style": "success",
            "description": "",
            "description_tooltip": null,
            "layout": "IPY_MODEL_85930d1de5b3410d912dd82d4df45424",
            "max": 1,
            "min": 0,
            "orientation": "horizontal",
            "style": "IPY_MODEL_58beb6d9cdb2413d8f071363cf6524b8",
            "value": 1
          }
        },
        "5a081c8de4f740b0b56774daf865b79b": {
          "model_module": "@jupyter-widgets/controls",
          "model_name": "HTMLModel",
          "model_module_version": "1.5.0",
          "state": {
            "_dom_classes": [],
            "_model_module": "@jupyter-widgets/controls",
            "_model_module_version": "1.5.0",
            "_model_name": "HTMLModel",
            "_view_count": null,
            "_view_module": "@jupyter-widgets/controls",
            "_view_module_version": "1.5.0",
            "_view_name": "HTMLView",
            "description": "",
            "description_tooltip": null,
            "layout": "IPY_MODEL_600e1595c30748beb11a4a61a74e0ebf",
            "placeholder": "​",
            "style": "IPY_MODEL_43b05ca1098345f2b890ee41119a1792",
            "value": " 1/1 [00:00&lt;00:00,  8.89ba/s]"
          }
        },
        "8ab5db135ecc48079bf084d9aff13190": {
          "model_module": "@jupyter-widgets/base",
          "model_name": "LayoutModel",
          "model_module_version": "1.2.0",
          "state": {
            "_model_module": "@jupyter-widgets/base",
            "_model_module_version": "1.2.0",
            "_model_name": "LayoutModel",
            "_view_count": null,
            "_view_module": "@jupyter-widgets/base",
            "_view_module_version": "1.2.0",
            "_view_name": "LayoutView",
            "align_content": null,
            "align_items": null,
            "align_self": null,
            "border": null,
            "bottom": null,
            "display": null,
            "flex": null,
            "flex_flow": null,
            "grid_area": null,
            "grid_auto_columns": null,
            "grid_auto_flow": null,
            "grid_auto_rows": null,
            "grid_column": null,
            "grid_gap": null,
            "grid_row": null,
            "grid_template_areas": null,
            "grid_template_columns": null,
            "grid_template_rows": null,
            "height": null,
            "justify_content": null,
            "justify_items": null,
            "left": null,
            "margin": null,
            "max_height": null,
            "max_width": null,
            "min_height": null,
            "min_width": null,
            "object_fit": null,
            "object_position": null,
            "order": null,
            "overflow": null,
            "overflow_x": null,
            "overflow_y": null,
            "padding": null,
            "right": null,
            "top": null,
            "visibility": null,
            "width": null
          }
        },
        "220565dbaf4a4924b33c4107c68ce76a": {
          "model_module": "@jupyter-widgets/base",
          "model_name": "LayoutModel",
          "model_module_version": "1.2.0",
          "state": {
            "_model_module": "@jupyter-widgets/base",
            "_model_module_version": "1.2.0",
            "_model_name": "LayoutModel",
            "_view_count": null,
            "_view_module": "@jupyter-widgets/base",
            "_view_module_version": "1.2.0",
            "_view_name": "LayoutView",
            "align_content": null,
            "align_items": null,
            "align_self": null,
            "border": null,
            "bottom": null,
            "display": null,
            "flex": null,
            "flex_flow": null,
            "grid_area": null,
            "grid_auto_columns": null,
            "grid_auto_flow": null,
            "grid_auto_rows": null,
            "grid_column": null,
            "grid_gap": null,
            "grid_row": null,
            "grid_template_areas": null,
            "grid_template_columns": null,
            "grid_template_rows": null,
            "height": null,
            "justify_content": null,
            "justify_items": null,
            "left": null,
            "margin": null,
            "max_height": null,
            "max_width": null,
            "min_height": null,
            "min_width": null,
            "object_fit": null,
            "object_position": null,
            "order": null,
            "overflow": null,
            "overflow_x": null,
            "overflow_y": null,
            "padding": null,
            "right": null,
            "top": null,
            "visibility": null,
            "width": null
          }
        },
        "b80746af5b854e83a811f5638d283e11": {
          "model_module": "@jupyter-widgets/controls",
          "model_name": "DescriptionStyleModel",
          "model_module_version": "1.5.0",
          "state": {
            "_model_module": "@jupyter-widgets/controls",
            "_model_module_version": "1.5.0",
            "_model_name": "DescriptionStyleModel",
            "_view_count": null,
            "_view_module": "@jupyter-widgets/base",
            "_view_module_version": "1.2.0",
            "_view_name": "StyleView",
            "description_width": ""
          }
        },
        "85930d1de5b3410d912dd82d4df45424": {
          "model_module": "@jupyter-widgets/base",
          "model_name": "LayoutModel",
          "model_module_version": "1.2.0",
          "state": {
            "_model_module": "@jupyter-widgets/base",
            "_model_module_version": "1.2.0",
            "_model_name": "LayoutModel",
            "_view_count": null,
            "_view_module": "@jupyter-widgets/base",
            "_view_module_version": "1.2.0",
            "_view_name": "LayoutView",
            "align_content": null,
            "align_items": null,
            "align_self": null,
            "border": null,
            "bottom": null,
            "display": null,
            "flex": null,
            "flex_flow": null,
            "grid_area": null,
            "grid_auto_columns": null,
            "grid_auto_flow": null,
            "grid_auto_rows": null,
            "grid_column": null,
            "grid_gap": null,
            "grid_row": null,
            "grid_template_areas": null,
            "grid_template_columns": null,
            "grid_template_rows": null,
            "height": null,
            "justify_content": null,
            "justify_items": null,
            "left": null,
            "margin": null,
            "max_height": null,
            "max_width": null,
            "min_height": null,
            "min_width": null,
            "object_fit": null,
            "object_position": null,
            "order": null,
            "overflow": null,
            "overflow_x": null,
            "overflow_y": null,
            "padding": null,
            "right": null,
            "top": null,
            "visibility": null,
            "width": null
          }
        },
        "58beb6d9cdb2413d8f071363cf6524b8": {
          "model_module": "@jupyter-widgets/controls",
          "model_name": "ProgressStyleModel",
          "model_module_version": "1.5.0",
          "state": {
            "_model_module": "@jupyter-widgets/controls",
            "_model_module_version": "1.5.0",
            "_model_name": "ProgressStyleModel",
            "_view_count": null,
            "_view_module": "@jupyter-widgets/base",
            "_view_module_version": "1.2.0",
            "_view_name": "StyleView",
            "bar_color": null,
            "description_width": ""
          }
        },
        "600e1595c30748beb11a4a61a74e0ebf": {
          "model_module": "@jupyter-widgets/base",
          "model_name": "LayoutModel",
          "model_module_version": "1.2.0",
          "state": {
            "_model_module": "@jupyter-widgets/base",
            "_model_module_version": "1.2.0",
            "_model_name": "LayoutModel",
            "_view_count": null,
            "_view_module": "@jupyter-widgets/base",
            "_view_module_version": "1.2.0",
            "_view_name": "LayoutView",
            "align_content": null,
            "align_items": null,
            "align_self": null,
            "border": null,
            "bottom": null,
            "display": null,
            "flex": null,
            "flex_flow": null,
            "grid_area": null,
            "grid_auto_columns": null,
            "grid_auto_flow": null,
            "grid_auto_rows": null,
            "grid_column": null,
            "grid_gap": null,
            "grid_row": null,
            "grid_template_areas": null,
            "grid_template_columns": null,
            "grid_template_rows": null,
            "height": null,
            "justify_content": null,
            "justify_items": null,
            "left": null,
            "margin": null,
            "max_height": null,
            "max_width": null,
            "min_height": null,
            "min_width": null,
            "object_fit": null,
            "object_position": null,
            "order": null,
            "overflow": null,
            "overflow_x": null,
            "overflow_y": null,
            "padding": null,
            "right": null,
            "top": null,
            "visibility": null,
            "width": null
          }
        },
        "43b05ca1098345f2b890ee41119a1792": {
          "model_module": "@jupyter-widgets/controls",
          "model_name": "DescriptionStyleModel",
          "model_module_version": "1.5.0",
          "state": {
            "_model_module": "@jupyter-widgets/controls",
            "_model_module_version": "1.5.0",
            "_model_name": "DescriptionStyleModel",
            "_view_count": null,
            "_view_module": "@jupyter-widgets/base",
            "_view_module_version": "1.2.0",
            "_view_name": "StyleView",
            "description_width": ""
          }
        }
      }
    }
  },
  "nbformat": 4,
  "nbformat_minor": 0
}