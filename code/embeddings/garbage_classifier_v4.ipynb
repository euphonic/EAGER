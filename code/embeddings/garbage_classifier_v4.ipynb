{
  "cells": [
    {
      "cell_type": "markdown",
      "metadata": {
        "application/vnd.databricks.v1+cell": {
          "inputWidgets": {},
          "nuid": "0f4a7543-ec4c-474c-b521-4802595e4876",
          "showTitle": false,
          "title": ""
        },
        "id": "lZvTZmCQHd5R"
      },
      "source": [
        "# garbage_classifier\n",
        "\n",
        "This notebook classifies website text snippets into useful or not (i.e., garbage) using transfer learning starting from an existing hugging face model\n",
        "* Get a model checkpoint for an encoder model \n",
        "* Use reinforcement learning to apply the model on a new classification problem (EAGER website data) with limited new trained data\n",
        "* Apply new head of model to full EAGER corpus to come up with mixes of models\n",
        "* Metrics and model registered through a combination of comet.ml and tensorboard "
      ]
    },
    {
      "cell_type": "code",
      "source": [
        "gpu_info = !nvidia-smi\n",
        "gpu_info = '\\n'.join(gpu_info)\n",
        "if gpu_info.find('failed') >= 0:\n",
        "  print('Not connected to a GPU')\n",
        "else:\n",
        "  print(gpu_info)"
      ],
      "metadata": {
        "id": "LsyEnkrC1Pa2",
        "outputId": "ec459e91-b021-418c-de71-6a239b1b8095",
        "colab": {
          "base_uri": "https://localhost:8080/"
        }
      },
      "execution_count": 1,
      "outputs": [
        {
          "output_type": "stream",
          "name": "stdout",
          "text": [
            "Fri Jul 22 19:13:06 2022       \n",
            "+-----------------------------------------------------------------------------+\n",
            "| NVIDIA-SMI 460.32.03    Driver Version: 460.32.03    CUDA Version: 11.2     |\n",
            "|-------------------------------+----------------------+----------------------+\n",
            "| GPU  Name        Persistence-M| Bus-Id        Disp.A | Volatile Uncorr. ECC |\n",
            "| Fan  Temp  Perf  Pwr:Usage/Cap|         Memory-Usage | GPU-Util  Compute M. |\n",
            "|                               |                      |               MIG M. |\n",
            "|===============================+======================+======================|\n",
            "|   0  Tesla P100-PCIE...  Off  | 00000000:00:04.0 Off |                    0 |\n",
            "| N/A   42C    P0    28W / 250W |      0MiB / 16280MiB |      0%      Default |\n",
            "|                               |                      |                  N/A |\n",
            "+-------------------------------+----------------------+----------------------+\n",
            "                                                                               \n",
            "+-----------------------------------------------------------------------------+\n",
            "| Processes:                                                                  |\n",
            "|  GPU   GI   CI        PID   Type   Process name                  GPU Memory |\n",
            "|        ID   ID                                                   Usage      |\n",
            "|=============================================================================|\n",
            "|  No running processes found                                                 |\n",
            "+-----------------------------------------------------------------------------+\n"
          ]
        }
      ]
    },
    {
      "cell_type": "code",
      "source": [
        "results_file = '/content/drive/MyDrive/raaste-results/garbage-classifier-results.csv'\n",
        "company_file_dir = '/content/EAGER/data/orgs/parsed_page_output'\n",
        "garbage_out_file_dir = '/content/EAGER/data/orgs/garbage'"
      ],
      "metadata": {
        "id": "zsGFbAbq44s3"
      },
      "execution_count": 2,
      "outputs": []
    },
    {
      "cell_type": "markdown",
      "metadata": {
        "application/vnd.databricks.v1+cell": {
          "inputWidgets": {},
          "nuid": "8e4b8524-ce8a-4b1c-a856-81c666331356",
          "showTitle": false,
          "title": ""
        },
        "id": "RdcnNNj6Hd5V"
      },
      "source": [
        "## Install and import libraries"
      ]
    },
    {
      "cell_type": "code",
      "source": [
        "COMET_PROJECT_NAME = \"eager-garbage-classifier\""
      ],
      "metadata": {
        "id": "pVfeZzY8iofT"
      },
      "execution_count": 3,
      "outputs": []
    },
    {
      "cell_type": "code",
      "execution_count": 4,
      "metadata": {
        "colab": {
          "base_uri": "https://localhost:8080/"
        },
        "id": "02IiyPy9ko6g",
        "outputId": "249a7ce9-846f-4c6b-de38-5f4d88a76a71"
      },
      "outputs": [
        {
          "output_type": "stream",
          "name": "stdout",
          "text": [
            "True\n"
          ]
        }
      ],
      "source": [
        "# check environment\n",
        "import sys\n",
        "IN_COLAB = 'google.colab' in sys.modules\n",
        "print (IN_COLAB)"
      ]
    },
    {
      "cell_type": "code",
      "execution_count": 5,
      "metadata": {
        "colab": {
          "base_uri": "https://localhost:8080/"
        },
        "id": "a_WNoVLbeL8O",
        "outputId": "f13ab0d5-8194-4868-91ae-12d5875277a4"
      },
      "outputs": [
        {
          "output_type": "stream",
          "name": "stdout",
          "text": [
            "fatal: destination path 'EAGER' already exists and is not an empty directory.\n",
            "/content\n",
            "mkdir: cannot create directory ‘/content/logs’: File exists\n"
          ]
        }
      ],
      "source": [
        "# colab file system setup \n",
        "if IN_COLAB: \n",
        "    !git clone https://github.com/euphonic/EAGER.git\n",
        "    !pwd\n",
        "    !mkdir /content/logs"
      ]
    },
    {
      "cell_type": "code",
      "execution_count": 6,
      "metadata": {
        "colab": {
          "base_uri": "https://localhost:8080/"
        },
        "id": "apdLVa2vko6j",
        "outputId": "8ad9d448-8c67-48a4-9b42-78dfd9d9ef47"
      },
      "outputs": [
        {
          "output_type": "stream",
          "name": "stdout",
          "text": [
            "Mounted at /content/drive/\n"
          ]
        }
      ],
      "source": [
        "# mount google drive if in colab\n",
        "drive_path = '/content/drive/'\n",
        "\n",
        "if IN_COLAB:  \n",
        "    from google.colab import drive\n",
        "    drive.mount(drive_path, force_remount=True)"
      ]
    },
    {
      "cell_type": "code",
      "execution_count": 33,
      "metadata": {
        "application/vnd.databricks.v1+cell": {
          "inputWidgets": {},
          "nuid": "2238a78f-fba2-4cc7-89c2-41ca41d51102",
          "showTitle": false,
          "title": ""
        },
        "colab": {
          "base_uri": "https://localhost:8080/"
        },
        "id": "GcOexQceHd5X",
        "outputId": "1841084e-848b-4194-bb7c-68044ce3d794"
      },
      "outputs": [
        {
          "output_type": "stream",
          "name": "stdout",
          "text": [
            "Looking in indexes: https://pypi.org/simple, https://us-python.pkg.dev/colab-wheels/public/simple/\n",
            "Collecting evaluate\n",
            "  Downloading evaluate-0.1.2-py3-none-any.whl (53 kB)\n",
            "\u001b[K     |████████████████████████████████| 53 kB 1.9 MB/s \n",
            "\u001b[?25hRequirement already satisfied: responses<0.19 in /usr/local/lib/python3.7/dist-packages (from evaluate) (0.18.0)\n",
            "Requirement already satisfied: packaging in /usr/local/lib/python3.7/dist-packages (from evaluate) (21.3)\n",
            "Requirement already satisfied: datasets in /usr/local/lib/python3.7/dist-packages (from evaluate) (2.3.2)\n",
            "Requirement already satisfied: numpy>=1.17 in /usr/local/lib/python3.7/dist-packages (from evaluate) (1.21.6)\n",
            "Requirement already satisfied: dill in /usr/local/lib/python3.7/dist-packages (from evaluate) (0.3.5.1)\n",
            "Requirement already satisfied: tqdm>=4.62.1 in /usr/local/lib/python3.7/dist-packages (from evaluate) (4.64.0)\n",
            "Requirement already satisfied: requests>=2.19.0 in /usr/local/lib/python3.7/dist-packages (from evaluate) (2.23.0)\n",
            "Requirement already satisfied: huggingface-hub>=0.7.0 in /usr/local/lib/python3.7/dist-packages (from evaluate) (0.8.1)\n",
            "Requirement already satisfied: multiprocess in /usr/local/lib/python3.7/dist-packages (from evaluate) (0.70.13)\n",
            "Requirement already satisfied: fsspec[http]>=2021.05.0 in /usr/local/lib/python3.7/dist-packages (from evaluate) (2022.5.0)\n",
            "Requirement already satisfied: importlib-metadata in /usr/local/lib/python3.7/dist-packages (from evaluate) (4.12.0)\n",
            "Requirement already satisfied: xxhash in /usr/local/lib/python3.7/dist-packages (from evaluate) (3.0.0)\n",
            "Requirement already satisfied: pandas in /usr/local/lib/python3.7/dist-packages (from evaluate) (1.3.5)\n",
            "Requirement already satisfied: aiohttp in /usr/local/lib/python3.7/dist-packages (from fsspec[http]>=2021.05.0->evaluate) (3.8.1)\n",
            "Requirement already satisfied: typing-extensions>=3.7.4.3 in /usr/local/lib/python3.7/dist-packages (from huggingface-hub>=0.7.0->evaluate) (4.1.1)\n",
            "Requirement already satisfied: filelock in /usr/local/lib/python3.7/dist-packages (from huggingface-hub>=0.7.0->evaluate) (3.7.1)\n",
            "Requirement already satisfied: pyyaml>=5.1 in /usr/local/lib/python3.7/dist-packages (from huggingface-hub>=0.7.0->evaluate) (6.0)\n",
            "Requirement already satisfied: pyparsing!=3.0.5,>=2.0.2 in /usr/local/lib/python3.7/dist-packages (from packaging->evaluate) (3.0.9)\n",
            "Requirement already satisfied: urllib3!=1.25.0,!=1.25.1,<1.26,>=1.21.1 in /usr/local/lib/python3.7/dist-packages (from requests>=2.19.0->evaluate) (1.25.11)\n",
            "Requirement already satisfied: chardet<4,>=3.0.2 in /usr/local/lib/python3.7/dist-packages (from requests>=2.19.0->evaluate) (3.0.4)\n",
            "Requirement already satisfied: certifi>=2017.4.17 in /usr/local/lib/python3.7/dist-packages (from requests>=2.19.0->evaluate) (2022.6.15)\n",
            "Requirement already satisfied: idna<3,>=2.5 in /usr/local/lib/python3.7/dist-packages (from requests>=2.19.0->evaluate) (2.10)\n",
            "Requirement already satisfied: multidict<7.0,>=4.5 in /usr/local/lib/python3.7/dist-packages (from aiohttp->fsspec[http]>=2021.05.0->evaluate) (6.0.2)\n",
            "Requirement already satisfied: aiosignal>=1.1.2 in /usr/local/lib/python3.7/dist-packages (from aiohttp->fsspec[http]>=2021.05.0->evaluate) (1.2.0)\n",
            "Requirement already satisfied: attrs>=17.3.0 in /usr/local/lib/python3.7/dist-packages (from aiohttp->fsspec[http]>=2021.05.0->evaluate) (21.4.0)\n",
            "Requirement already satisfied: asynctest==0.13.0 in /usr/local/lib/python3.7/dist-packages (from aiohttp->fsspec[http]>=2021.05.0->evaluate) (0.13.0)\n",
            "Requirement already satisfied: frozenlist>=1.1.1 in /usr/local/lib/python3.7/dist-packages (from aiohttp->fsspec[http]>=2021.05.0->evaluate) (1.3.0)\n",
            "Requirement already satisfied: charset-normalizer<3.0,>=2.0 in /usr/local/lib/python3.7/dist-packages (from aiohttp->fsspec[http]>=2021.05.0->evaluate) (2.1.0)\n",
            "Requirement already satisfied: yarl<2.0,>=1.0 in /usr/local/lib/python3.7/dist-packages (from aiohttp->fsspec[http]>=2021.05.0->evaluate) (1.7.2)\n",
            "Requirement already satisfied: async-timeout<5.0,>=4.0.0a3 in /usr/local/lib/python3.7/dist-packages (from aiohttp->fsspec[http]>=2021.05.0->evaluate) (4.0.2)\n",
            "Requirement already satisfied: pyarrow>=6.0.0 in /usr/local/lib/python3.7/dist-packages (from datasets->evaluate) (6.0.1)\n",
            "Requirement already satisfied: zipp>=0.5 in /usr/local/lib/python3.7/dist-packages (from importlib-metadata->evaluate) (3.8.1)\n",
            "Requirement already satisfied: python-dateutil>=2.7.3 in /usr/local/lib/python3.7/dist-packages (from pandas->evaluate) (2.8.2)\n",
            "Requirement already satisfied: pytz>=2017.3 in /usr/local/lib/python3.7/dist-packages (from pandas->evaluate) (2022.1)\n",
            "Requirement already satisfied: six>=1.5 in /usr/local/lib/python3.7/dist-packages (from python-dateutil>=2.7.3->pandas->evaluate) (1.15.0)\n",
            "Installing collected packages: evaluate\n",
            "Successfully installed evaluate-0.1.2\n"
          ]
        }
      ],
      "source": [
        "# install huggingface and other modules if in colab\n",
        "if IN_COLAB: \n",
        "    !pip install transformers\n",
        "    !pip install datasets\n",
        "    !pip install python-dotenv\n",
        "    !pip install comet_ml\n",
        "    !pip install evaluate"
      ]
    },
    {
      "cell_type": "code",
      "execution_count": 7,
      "metadata": {
        "id": "M_V2oQX_GUfT"
      },
      "outputs": [],
      "source": [
        "from comet_ml import Experiment\n",
        "from comet_ml.api import API\n",
        "from dotenv import load_dotenv\n",
        "\n",
        "# setup comet_ml experiment\n",
        "if IN_COLAB: \n",
        "    # read env file from Google drive \n",
        "    env_file = drive_path + 'MyDrive/raaste-config/.env'\n",
        "    comet_config_file = drive_path + 'MyDrive/raaste-config/.comet.config'\n",
        "    load_dotenv(env_file)"
      ]
    },
    {
      "cell_type": "code",
      "execution_count": 34,
      "metadata": {
        "id": "LatBazufko6l"
      },
      "outputs": [],
      "source": [
        "# ml libraries\n",
        "from transformers import pipeline, AutoTokenizer, TFAutoModelForSequenceClassification, DataCollatorWithPadding, \\\n",
        "  AutoConfig, TFBertForSequenceClassification\n",
        "from transformers.pipelines.pt_utils import KeyDataset\n",
        "from datasets import Dataset\n",
        "import datasets\n",
        "import tensorflow as tf\n",
        "from tensorflow.keras.optimizers import Adam\n",
        "from tensorflow.keras.optimizers.schedules import PolynomialDecay\n",
        "from tensorflow.keras.losses import SparseCategoricalCrossentropy\n",
        "from sklearn.model_selection import train_test_split\n",
        "import pandas as pd\n",
        "\n",
        "# other\n",
        "import numpy as np\n",
        "import gzip\n",
        "import tarfile\n",
        "import datetime\n",
        "import os\n",
        "from tqdm import tqdm \n",
        "import csv\n",
        "import evaluate"
      ]
    },
    {
      "cell_type": "code",
      "source": [
        "if IN_COLAB: \n",
        "    !pip uninstall -y comet_ml\n",
        "    !pip install comet_ml"
      ],
      "metadata": {
        "colab": {
          "base_uri": "https://localhost:8080/",
          "height": 693
        },
        "id": "Avr38-Z-yTv4",
        "outputId": "172425c6-9d6f-4f7c-d37c-218a3ef377eb"
      },
      "execution_count": 27,
      "outputs": [
        {
          "output_type": "stream",
          "name": "stdout",
          "text": [
            "Found existing installation: comet-ml 3.31.6\n",
            "Uninstalling comet-ml-3.31.6:\n",
            "  Successfully uninstalled comet-ml-3.31.6\n",
            "Looking in indexes: https://pypi.org/simple, https://us-python.pkg.dev/colab-wheels/public/simple/\n",
            "Collecting comet_ml\n",
            "  Using cached comet_ml-3.31.6-py2.py3-none-any.whl (372 kB)\n",
            "Requirement already satisfied: sentry-sdk>=1.1.0 in /usr/local/lib/python3.7/dist-packages (from comet_ml) (1.8.0)\n",
            "Requirement already satisfied: six in /usr/local/lib/python3.7/dist-packages (from comet_ml) (1.15.0)\n",
            "Requirement already satisfied: nvidia-ml-py3>=7.352.0 in /usr/local/lib/python3.7/dist-packages (from comet_ml) (7.352.0)\n",
            "Requirement already satisfied: dulwich!=0.20.33,>=0.20.6 in /usr/local/lib/python3.7/dist-packages (from comet_ml) (0.20.45)\n",
            "Requirement already satisfied: wrapt>=1.11.2 in /usr/local/lib/python3.7/dist-packages (from comet_ml) (1.14.1)\n",
            "Requirement already satisfied: everett[ini]>=1.0.1 in /usr/local/lib/python3.7/dist-packages (from comet_ml) (3.0.0)\n",
            "Requirement already satisfied: wurlitzer>=1.0.2 in /usr/local/lib/python3.7/dist-packages (from comet_ml) (3.0.2)\n",
            "Requirement already satisfied: semantic-version>=2.8.0 in /usr/local/lib/python3.7/dist-packages (from comet_ml) (2.10.0)\n",
            "Requirement already satisfied: jsonschema!=3.1.0,>=2.6.0 in /usr/local/lib/python3.7/dist-packages (from comet_ml) (4.3.3)\n",
            "Requirement already satisfied: requests-toolbelt>=0.8.0 in /usr/local/lib/python3.7/dist-packages (from comet_ml) (0.9.1)\n",
            "Requirement already satisfied: requests>=2.18.4 in /usr/local/lib/python3.7/dist-packages (from comet_ml) (2.23.0)\n",
            "Requirement already satisfied: websocket-client>=0.55.0 in /usr/local/lib/python3.7/dist-packages (from comet_ml) (1.3.3)\n",
            "Requirement already satisfied: urllib3>=1.24.1 in /usr/local/lib/python3.7/dist-packages (from dulwich!=0.20.33,>=0.20.6->comet_ml) (1.25.11)\n",
            "Requirement already satisfied: certifi in /usr/local/lib/python3.7/dist-packages (from dulwich!=0.20.33,>=0.20.6->comet_ml) (2022.6.15)\n",
            "Requirement already satisfied: configobj in /usr/local/lib/python3.7/dist-packages (from everett[ini]>=1.0.1->comet_ml) (5.0.6)\n",
            "Requirement already satisfied: pyrsistent!=0.17.0,!=0.17.1,!=0.17.2,>=0.14.0 in /usr/local/lib/python3.7/dist-packages (from jsonschema!=3.1.0,>=2.6.0->comet_ml) (0.18.1)\n",
            "Requirement already satisfied: importlib-metadata in /usr/local/lib/python3.7/dist-packages (from jsonschema!=3.1.0,>=2.6.0->comet_ml) (4.12.0)\n",
            "Requirement already satisfied: typing-extensions in /usr/local/lib/python3.7/dist-packages (from jsonschema!=3.1.0,>=2.6.0->comet_ml) (4.1.1)\n",
            "Requirement already satisfied: attrs>=17.4.0 in /usr/local/lib/python3.7/dist-packages (from jsonschema!=3.1.0,>=2.6.0->comet_ml) (21.4.0)\n",
            "Requirement already satisfied: importlib-resources>=1.4.0 in /usr/local/lib/python3.7/dist-packages (from jsonschema!=3.1.0,>=2.6.0->comet_ml) (5.8.0)\n",
            "Requirement already satisfied: zipp>=3.1.0 in /usr/local/lib/python3.7/dist-packages (from importlib-resources>=1.4.0->jsonschema!=3.1.0,>=2.6.0->comet_ml) (3.8.1)\n",
            "Requirement already satisfied: chardet<4,>=3.0.2 in /usr/local/lib/python3.7/dist-packages (from requests>=2.18.4->comet_ml) (3.0.4)\n",
            "Requirement already satisfied: idna<3,>=2.5 in /usr/local/lib/python3.7/dist-packages (from requests>=2.18.4->comet_ml) (2.10)\n",
            "Installing collected packages: comet-ml\n",
            "Successfully installed comet-ml-3.31.6\n"
          ]
        },
        {
          "output_type": "display_data",
          "data": {
            "application/vnd.colab-display-data+json": {
              "pip_warning": {
                "packages": [
                  "comet_ml"
                ]
              }
            }
          },
          "metadata": {}
        }
      ]
    },
    {
      "cell_type": "code",
      "execution_count": 9,
      "metadata": {
        "id": "L6tDjY3vko6m"
      },
      "outputs": [],
      "source": [
        "# load tensorboard \n",
        "%load_ext tensorboard"
      ]
    },
    {
      "cell_type": "markdown",
      "metadata": {
        "application/vnd.databricks.v1+cell": {
          "inputWidgets": {},
          "nuid": "472b8981-006e-4f66-a1e3-c09d6265ad03",
          "showTitle": false,
          "title": ""
        },
        "id": "DRTl-6LPHd5i"
      },
      "source": [
        "## Model training\n",
        "keep test == 1, discard == 0"
      ]
    },
    {
      "cell_type": "code",
      "execution_count": 10,
      "metadata": {
        "application/vnd.databricks.v1+cell": {
          "inputWidgets": {},
          "nuid": "d01f8dec-f7bd-448d-b353-b5d07cfed227",
          "showTitle": false,
          "title": ""
        },
        "id": "W3qiBwZmHd5a"
      },
      "outputs": [],
      "source": [
        "# base bert\n",
        "checkpoint = \"bert-base-uncased\"\n",
        "tokenizer = AutoTokenizer.from_pretrained(checkpoint)"
      ]
    },
    {
      "cell_type": "code",
      "execution_count": 11,
      "metadata": {
        "application/vnd.databricks.v1+cell": {
          "inputWidgets": {},
          "nuid": "3774f417-1166-4617-aaea-8f656af391d2",
          "showTitle": false,
          "title": ""
        },
        "id": "8k4ONI1SHd5i",
        "colab": {
          "base_uri": "https://localhost:8080/"
        },
        "outputId": "90c5874e-3e1e-4ed1-9491-116d09356d63"
      },
      "outputs": [
        {
          "output_type": "stream",
          "name": "stdout",
          "text": [
            "(5624, 2)\n"
          ]
        }
      ],
      "source": [
        "firm_file_location = '/content/EAGER/data/modeling/garbage/garbage_classifier_input.csv'\n",
        "input_df = pd.read_csv(firm_file_location)\n",
        "print(input_df.shape)"
      ]
    },
    {
      "cell_type": "code",
      "source": [
        "# inspect duplicates manually \n",
        "dup_df = input_df[input_df.duplicated('sample_text', keep=False)]\n",
        "tmp_out_dir = '/content/tmp/'\n",
        "os.makedirs(tmp_out_dir, exist_ok=True)  \n",
        "dup_df.to_csv(tmp_out_dir + '/dup_df.csv', ',')"
      ],
      "metadata": {
        "id": "Ezbe22h2OCFN"
      },
      "execution_count": 12,
      "outputs": []
    },
    {
      "cell_type": "code",
      "execution_count": 13,
      "metadata": {
        "colab": {
          "base_uri": "https://localhost:8080/"
        },
        "id": "8RTBTX1ghM_r",
        "outputId": "13c448c6-c304-40e9-f551-b0293d8c08e7"
      },
      "outputs": [
        {
          "output_type": "stream",
          "name": "stdout",
          "text": [
            "(4740, 2)\n",
            "(4740, 2)\n"
          ]
        }
      ],
      "source": [
        "# remove duplicates and nulls\n",
        "non_dup_df = input_df[~input_df.duplicated('sample_text', keep=\"first\")]\n",
        "print (non_dup_df.shape) \n",
        "non_null_df = non_dup_df[~ non_dup_df['sample_text'].isnull() ]\n",
        "print (non_null_df.shape)"
      ]
    },
    {
      "cell_type": "code",
      "execution_count": 14,
      "metadata": {
        "colab": {
          "base_uri": "https://localhost:8080/",
          "height": 122,
          "referenced_widgets": [
            "b1d81b0062474579ae7d3acd0ee2da2b",
            "64a4651a28664a2aaf45c0510289618d",
            "69a2dd37613c45dea44b96e8e376f44f",
            "fb68f2993b464316a3320c6e5e5cb3b8",
            "5171df1f37624ec0a5710e0245f59a52",
            "6c64ae22568a4d36b4b005205a569096",
            "12a83b8bd09a4f9e99d28f81a0e7d309",
            "fd10c063541144e1899729f9f333b05a",
            "0549f3b1f840438ab5450bcf1700ec8e",
            "36ff6f9c699d45fa8252ae4dea25f0ef",
            "5025b4cdf5f84349bd5b49d033e603c0"
          ]
        },
        "id": "zHfLRzGkiFiI",
        "outputId": "9c909dfe-c5ca-4931-d96e-3eaa078aa01b"
      },
      "outputs": [
        {
          "output_type": "display_data",
          "data": {
            "text/plain": [
              "Casting the dataset:   0%|          | 0/1 [00:00<?, ?ba/s]"
            ],
            "application/vnd.jupyter.widget-view+json": {
              "version_major": 2,
              "version_minor": 0,
              "model_id": "b1d81b0062474579ae7d3acd0ee2da2b"
            }
          },
          "metadata": {}
        },
        {
          "output_type": "execute_result",
          "data": {
            "text/plain": [
              "Dataset({\n",
              "    features: ['sample_text', 'of_interest', '__index_level_0__'],\n",
              "    num_rows: 4740\n",
              "})"
            ]
          },
          "metadata": {},
          "execution_count": 14
        }
      ],
      "source": [
        "dataset = Dataset.from_pandas(non_null_df, split='train')\n",
        "dataset.cast_column(\"of_interest\", datasets.Value('int8'))"
      ]
    },
    {
      "cell_type": "code",
      "execution_count": 15,
      "metadata": {
        "application/vnd.databricks.v1+cell": {
          "inputWidgets": {},
          "nuid": "8f3ca393-7dc9-4bcd-b520-3bf3574a93d9",
          "showTitle": false,
          "title": ""
        },
        "id": "dyBGbZBBHd5j"
      },
      "outputs": [],
      "source": [
        "# 85% train, 15% test + validation\n",
        "train_test_dataset = dataset.train_test_split(test_size=0.15)\n",
        "# Split the 20% test + valid in half test, half valid\n",
        "test_valid_dataset = train_test_dataset['test'].train_test_split(test_size=0.3)\n",
        "# gather everyone if you want to have a single DatasetDict\n",
        "train_test_valid_dataset = datasets.DatasetDict({\n",
        "    'train': train_test_dataset['train'],\n",
        "    'test': test_valid_dataset['test'],\n",
        "    'valid': test_valid_dataset['train']})"
      ]
    },
    {
      "cell_type": "code",
      "execution_count": 16,
      "metadata": {
        "application/vnd.databricks.v1+cell": {
          "inputWidgets": {},
          "nuid": "32181021-5c5d-4ec6-a311-d26f3ef8f6ff",
          "showTitle": false,
          "title": ""
        },
        "colab": {
          "base_uri": "https://localhost:8080/"
        },
        "id": "GzgW60J7Hd5j",
        "outputId": "ea267636-a961-4d2e-ce13-85a0096865bb"
      },
      "outputs": [
        {
          "output_type": "execute_result",
          "data": {
            "text/plain": [
              "DatasetDict({\n",
              "    train: Dataset({\n",
              "        features: ['sample_text', 'of_interest', '__index_level_0__'],\n",
              "        num_rows: 4029\n",
              "    })\n",
              "    test: Dataset({\n",
              "        features: ['sample_text', 'of_interest', '__index_level_0__'],\n",
              "        num_rows: 214\n",
              "    })\n",
              "    valid: Dataset({\n",
              "        features: ['sample_text', 'of_interest', '__index_level_0__'],\n",
              "        num_rows: 497\n",
              "    })\n",
              "})"
            ]
          },
          "metadata": {},
          "execution_count": 16
        }
      ],
      "source": [
        "train_test_valid_dataset"
      ]
    },
    {
      "cell_type": "code",
      "execution_count": 17,
      "metadata": {
        "application/vnd.databricks.v1+cell": {
          "inputWidgets": {},
          "nuid": "374c15e1-4a5a-4b51-8583-f4f5af455789",
          "showTitle": false,
          "title": ""
        },
        "id": "dOndawF9Hd5j"
      },
      "outputs": [],
      "source": [
        "def tokenize_function(x):\n",
        "  return tokenizer(x[\"sample_text\"], truncation=True, max_length=100)"
      ]
    },
    {
      "cell_type": "code",
      "execution_count": 18,
      "metadata": {
        "application/vnd.databricks.v1+cell": {
          "inputWidgets": {},
          "nuid": "7197cc5b-ae28-46d0-a01b-16b88c79f479",
          "showTitle": false,
          "title": ""
        },
        "colab": {
          "base_uri": "https://localhost:8080/",
          "height": 151,
          "referenced_widgets": [
            "ae2ed636b72348ababc145526b0dae7d",
            "d764f896c93d42a893484933d115953e",
            "108119c87fbd4278b25335e76af37aa0",
            "81fbe87e2bfd4bf6b32a6bb946968874",
            "4a741312f6e54d6cbc39b7aac0dd3c14",
            "b4728246b29746b2808cc6ec39f3b2c2",
            "f31d19598e324800be31db3f280035ad",
            "70de49c60e904688bf5418bd2e3f2634",
            "12593acd58d34793888ac7b3e8353c4a",
            "f9a82633a87441a7a6c881aa8fe66884",
            "baa8f369bac8430eab34a1371b129f47",
            "6ab62c75f22a44c0aa64db09e00ea887",
            "3ff025f0b77b471699d16f81d36bf883",
            "1493364bb1904ab39d7100c8b2fda44e",
            "e1df1095793948e4b020169c1e124b34",
            "b281c2a3ad084ddf9493049d9f30a939",
            "9b2bfcf9ca4f4bdab8922d71d1bde890",
            "10f2e335b4d347bb972d3f8c5c9b5c09",
            "61da3e8365984a678ca74a52183c5224",
            "322a8623ee4b4504873c6dcf82e33876",
            "b20819255ce845568c15146379456a77",
            "5a4540696d0f417cb86d4f9fc9b62fe8",
            "d102f71da9634bd4aed7a2c4dab80df3",
            "1c32d9285a4b40538a09b2e841f5f671",
            "cc30a25c55174a0f8347211b9b922c0d",
            "66daf8ed244c4d7faccead458d9f7322",
            "4b34d3dd867944529863d6e77efa79a7",
            "4d0643e66f1d4b9582386f70d370cd4d",
            "beded2d934b342b5a25b7c487b155baf",
            "23a3db96ab4c40acb385c25e5017f601",
            "e9a146c16dd04b3a9d60a2e9d7db17d4",
            "bb704149490c4f60af6d461a3c5b40c1",
            "4564ecbf17ad44edb95e6bd373841fb8"
          ]
        },
        "id": "JwLZLmOXHd5j",
        "outputId": "97623d7a-fff9-4f86-fc27-ac28674b79f8"
      },
      "outputs": [
        {
          "output_type": "stream",
          "name": "stderr",
          "text": [
            "Parameter 'function'=<function tokenize_function at 0x7f284b383320> of the transform datasets.arrow_dataset.Dataset._map_single couldn't be hashed properly, a random hash was used instead. Make sure your transforms and parameters are serializable with pickle or dill for the dataset fingerprinting and caching to work. If you reuse this transform, the caching mechanism will consider it to be different from the previous calls and recompute everything. This warning is only showed once. Subsequent hashing failures won't be showed.\n"
          ]
        },
        {
          "output_type": "display_data",
          "data": {
            "text/plain": [
              "  0%|          | 0/1 [00:00<?, ?ba/s]"
            ],
            "application/vnd.jupyter.widget-view+json": {
              "version_major": 2,
              "version_minor": 0,
              "model_id": "ae2ed636b72348ababc145526b0dae7d"
            }
          },
          "metadata": {}
        },
        {
          "output_type": "display_data",
          "data": {
            "text/plain": [
              "  0%|          | 0/1 [00:00<?, ?ba/s]"
            ],
            "application/vnd.jupyter.widget-view+json": {
              "version_major": 2,
              "version_minor": 0,
              "model_id": "6ab62c75f22a44c0aa64db09e00ea887"
            }
          },
          "metadata": {}
        },
        {
          "output_type": "display_data",
          "data": {
            "text/plain": [
              "  0%|          | 0/1 [00:00<?, ?ba/s]"
            ],
            "application/vnd.jupyter.widget-view+json": {
              "version_major": 2,
              "version_minor": 0,
              "model_id": "d102f71da9634bd4aed7a2c4dab80df3"
            }
          },
          "metadata": {}
        }
      ],
      "source": [
        "tokenized_dataset = train_test_valid_dataset.map(tokenize_function, batched=True, batch_size=None)"
      ]
    },
    {
      "cell_type": "code",
      "source": [
        "tokenized_dataset"
      ],
      "metadata": {
        "id": "WhMj8pmlFtjJ",
        "outputId": "3951c901-e1e6-429b-d7b2-53f7b8d43503",
        "colab": {
          "base_uri": "https://localhost:8080/"
        }
      },
      "execution_count": 19,
      "outputs": [
        {
          "output_type": "execute_result",
          "data": {
            "text/plain": [
              "DatasetDict({\n",
              "    train: Dataset({\n",
              "        features: ['sample_text', 'of_interest', '__index_level_0__', 'input_ids', 'token_type_ids', 'attention_mask'],\n",
              "        num_rows: 4029\n",
              "    })\n",
              "    test: Dataset({\n",
              "        features: ['sample_text', 'of_interest', '__index_level_0__', 'input_ids', 'token_type_ids', 'attention_mask'],\n",
              "        num_rows: 214\n",
              "    })\n",
              "    valid: Dataset({\n",
              "        features: ['sample_text', 'of_interest', '__index_level_0__', 'input_ids', 'token_type_ids', 'attention_mask'],\n",
              "        num_rows: 497\n",
              "    })\n",
              "})"
            ]
          },
          "metadata": {},
          "execution_count": 19
        }
      ]
    },
    {
      "cell_type": "code",
      "execution_count": 20,
      "metadata": {
        "application/vnd.databricks.v1+cell": {
          "inputWidgets": {},
          "nuid": "550fa23f-c4f2-4615-a26d-3adf79a96adb",
          "showTitle": false,
          "title": ""
        },
        "id": "X084Or6XHd5k",
        "outputId": "4fa2e71b-54e0-4ae8-c7df-d6e6e16d28d9",
        "colab": {
          "base_uri": "https://localhost:8080/"
        }
      },
      "outputs": [
        {
          "output_type": "stream",
          "name": "stdout",
          "text": [
            "of_interest [0, 0, 0, 1, 0]\n",
            "input_ids [[101, 6529, 102], [101, 4553, 2062, 1028, 102], [101, 2055, 23713, 4817, 102], [101, 2057, 2191, 2009, 2147, 2005, 2017, 1012, 102], [101, 16031, 2072, 1011, 2381, 1013, 17987, 102]]\n",
            "token_type_ids [[0, 0, 0], [0, 0, 0, 0, 0], [0, 0, 0, 0, 0], [0, 0, 0, 0, 0, 0, 0, 0, 0], [0, 0, 0, 0, 0, 0, 0, 0]]\n",
            "attention_mask [[1, 1, 1], [1, 1, 1, 1, 1], [1, 1, 1, 1, 1], [1, 1, 1, 1, 1, 1, 1, 1, 1], [1, 1, 1, 1, 1, 1, 1, 1]]\n"
          ]
        }
      ],
      "source": [
        "samples = tokenized_dataset[\"train\"].to_dict()\n",
        "samples = {k: v for k, v in samples.items() if k not in [\"__index_level_0__\", \"sample_text\"]}\n",
        "for k, v in samples.items(): \n",
        "  print (k, v[0:5])"
      ]
    },
    {
      "cell_type": "code",
      "execution_count": 21,
      "metadata": {
        "application/vnd.databricks.v1+cell": {
          "inputWidgets": {},
          "nuid": "5f1d2d9c-2e1a-4134-ba66-0bb84ba57ced",
          "showTitle": false,
          "title": ""
        },
        "id": "Rz6vUEHDHd5k"
      },
      "outputs": [],
      "source": [
        "data_collator = DataCollatorWithPadding(tokenizer=tokenizer, padding=\"max_length\", max_length=100, return_tensors=\"tf\")"
      ]
    },
    {
      "cell_type": "code",
      "execution_count": 22,
      "metadata": {
        "application/vnd.databricks.v1+cell": {
          "inputWidgets": {},
          "nuid": "f4ba95c2-2f7f-4e54-8621-38210ca56136",
          "showTitle": false,
          "title": ""
        },
        "colab": {
          "base_uri": "https://localhost:8080/"
        },
        "id": "wtdvlfuBHd5k",
        "outputId": "9f01cfa9-e104-4466-980c-abc102d52ea0"
      },
      "outputs": [
        {
          "output_type": "execute_result",
          "data": {
            "text/plain": [
              "{'attention_mask': TensorShape([4029, 100]),\n",
              " 'input_ids': TensorShape([4029, 100]),\n",
              " 'of_interest': TensorShape([4029]),\n",
              " 'token_type_ids': TensorShape([4029, 100])}"
            ]
          },
          "metadata": {},
          "execution_count": 22
        }
      ],
      "source": [
        "batch = data_collator(samples)\n",
        "{k: v.shape for k, v in batch.items()}"
      ]
    },
    {
      "cell_type": "code",
      "source": [
        "# config\n",
        "config = AutoConfig.from_pretrained(checkpoint)\n",
        "config.num_labels=1\n",
        "config.hidden_dropout_prob = 0.2\n",
        "config.attention_probs_dropout_prob = 0.2\n",
        "config.hidden_size = 64\n",
        "config.intermediate_size = 256\n",
        "config.num_hidden_layers = 4\n",
        "config.num_attention_heads = 4\n",
        "print (type(config))"
      ],
      "metadata": {
        "id": "70Rv4VZIAKT6",
        "outputId": "35ba0cdd-ac21-4086-c994-6843473def75",
        "colab": {
          "base_uri": "https://localhost:8080/"
        }
      },
      "execution_count": 23,
      "outputs": [
        {
          "output_type": "stream",
          "name": "stdout",
          "text": [
            "<class 'transformers.models.bert.configuration_bert.BertConfig'>\n"
          ]
        }
      ]
    },
    {
      "cell_type": "code",
      "execution_count": 24,
      "metadata": {
        "application/vnd.databricks.v1+cell": {
          "inputWidgets": {},
          "nuid": "d51c0e72-19c4-4216-a967-3b8d086c884f",
          "showTitle": false,
          "title": ""
        },
        "id": "0KlXr2cBHd5l",
        "colab": {
          "base_uri": "https://localhost:8080/"
        },
        "outputId": "b64c150c-a8eb-4c0f-86ce-f39b954db20c"
      },
      "outputs": [
        {
          "output_type": "stream",
          "name": "stderr",
          "text": [
            "COMET WARNING: COMET_INI is deprecated; use COMET_CONFIG\n",
            "COMET WARNING: As you are running in a Jupyter environment, you will need to call `experiment.end()` when finished to ensure all metrics and code are logged before exiting.\n",
            "COMET ERROR: Failed to calculate active processors count. Fall back to default CPU count 1\n",
            "COMET INFO: Experiment is live on comet.ml https://www.comet.com/euphonic/eager-garbage-classifier/5f24502e9d0e49a3851d9ff8275f7e72\n",
            "\n"
          ]
        },
        {
          "output_type": "stream",
          "name": "stdout",
          "text": [
            "<class 'transformers.models.bert.modeling_tf_bert.TFBertForSequenceClassification'>\n",
            "batch_size 32\n"
          ]
        },
        {
          "output_type": "stream",
          "name": "stderr",
          "text": [
            "COMET WARNING: tensorflow datasets are not currently supported for gradient and activation auto-logging\n",
            "COMET INFO: Ignoring automatic log_parameter('verbose') because 'keras:verbose' is in COMET_LOGGING_PARAMETERS_IGNORE\n"
          ]
        },
        {
          "output_type": "stream",
          "name": "stdout",
          "text": [
            "Epoch 1/50\n",
            "  5/126 [>.............................] - ETA: 3s - loss: 0.1736 - accuracy: 0.5688WARNING:tensorflow:Callback method `on_train_batch_end` is slow compared to the batch time (batch time: 0.0238s vs `on_train_batch_end` time: 0.0294s). Check your callbacks.\n",
            "125/126 [============================>.] - ETA: 0s - loss: 0.1695 - accuracy: 0.6068"
          ]
        },
        {
          "output_type": "stream",
          "name": "stderr",
          "text": [
            "COMET INFO: ignoring tensorflow summary log of metrics because of keras; set `comet_ml.loggers.tensorboard_logger.LOG_METRICS = True` to override\n"
          ]
        },
        {
          "output_type": "stream",
          "name": "stdout",
          "text": [
            "\b\b\b\b\b\b\b\b\b\b\b\b\b\b\b\b\b\b\b\b\b\b\b\b\b\b\b\b\b\b\b\b\b\b\b\b\b\b\b\b\b\b\b\b\b\b\b\b\b\b\b\b\b\b\b\b\b\b\b\b\b\b\b\b\b\b\b\b\b\b\b\b\b\b\b\b\b\b\b\b\b\b\b\b\r126/126 [==============================] - 26s 48ms/step - loss: 0.1696 - accuracy: 0.6061 - val_loss: 0.1674 - val_accuracy: 0.5875\n",
            "Epoch 2/50\n",
            "126/126 [==============================] - 5s 37ms/step - loss: 0.1389 - accuracy: 0.6612 - val_loss: 0.1101 - val_accuracy: 0.8390\n",
            "Epoch 3/50\n",
            "126/126 [==============================] - 5s 41ms/step - loss: 0.1070 - accuracy: 0.8394 - val_loss: 0.0978 - val_accuracy: 0.8451\n",
            "Epoch 4/50\n",
            "126/126 [==============================] - 5s 36ms/step - loss: 0.0929 - accuracy: 0.8642 - val_loss: 0.0887 - val_accuracy: 0.8833\n",
            "Epoch 5/50\n",
            "126/126 [==============================] - 5s 36ms/step - loss: 0.0768 - accuracy: 0.8982 - val_loss: 0.0846 - val_accuracy: 0.8813\n",
            "Epoch 6/50\n",
            "126/126 [==============================] - 5s 36ms/step - loss: 0.0640 - accuracy: 0.9173 - val_loss: 0.0856 - val_accuracy: 0.8833\n",
            "Epoch 7/50\n",
            "126/126 [==============================] - 5s 36ms/step - loss: 0.0513 - accuracy: 0.9387 - val_loss: 0.0971 - val_accuracy: 0.8753\n",
            "Epoch 8/50\n",
            "126/126 [==============================] - 5s 39ms/step - loss: 0.0433 - accuracy: 0.9526 - val_loss: 0.0954 - val_accuracy: 0.8833\n",
            "Epoch 9/50\n",
            "126/126 [==============================] - 5s 36ms/step - loss: 0.0388 - accuracy: 0.9590 - val_loss: 0.1131 - val_accuracy: 0.8612\n",
            "Epoch 10/50\n",
            "126/126 [==============================] - 5s 36ms/step - loss: 0.0323 - accuracy: 0.9715 - val_loss: 0.1089 - val_accuracy: 0.8813\n",
            "Epoch 11/50\n",
            "126/126 [==============================] - 5s 36ms/step - loss: 0.0288 - accuracy: 0.9762 - val_loss: 0.1190 - val_accuracy: 0.8712\n",
            "Epoch 12/50\n",
            "126/126 [==============================] - 5s 36ms/step - loss: 0.0262 - accuracy: 0.9777 - val_loss: 0.1395 - val_accuracy: 0.8531\n",
            "Epoch 13/50\n",
            "126/126 [==============================] - 5s 36ms/step - loss: 0.0261 - accuracy: 0.9801 - val_loss: 0.1366 - val_accuracy: 0.8551\n",
            "Epoch 14/50\n",
            "126/126 [==============================] - 5s 37ms/step - loss: 0.0229 - accuracy: 0.9824 - val_loss: 0.1408 - val_accuracy: 0.8592\n",
            "Epoch 15/50\n",
            "126/126 [==============================] - 5s 37ms/step - loss: 0.0212 - accuracy: 0.9824 - val_loss: 0.1456 - val_accuracy: 0.8571\n",
            "/content/models/eager_garbage_classifier_32\n"
          ]
        },
        {
          "output_type": "stream",
          "name": "stderr",
          "text": [
            "COMET INFO: ---------------------------\n",
            "COMET INFO: Comet.ml Experiment Summary\n",
            "COMET INFO: ---------------------------\n",
            "COMET INFO:   Data:\n",
            "COMET INFO:     display_summary_level : 1\n",
            "COMET INFO:     url                   : https://www.comet.com/euphonic/eager-garbage-classifier/5f24502e9d0e49a3851d9ff8275f7e72\n",
            "COMET INFO:   Metrics [count] (min, max):\n",
            "COMET INFO:     accuracy [15]                : (0.6061057448387146, 0.9823777675628662)\n",
            "COMET INFO:     batch_accuracy [195]         : (0.5625, 1.0)\n",
            "COMET INFO:     batch_loss [195]             : (0.011768973432481289, 0.17344476282596588)\n",
            "COMET INFO:     epoch_duration [15]          : (4.527011622999908, 25.86587282099981)\n",
            "COMET INFO:     loss [15]                    : (0.021229946985840797, 0.1695539355278015)\n",
            "COMET INFO:     val_accuracy [15]            : (0.5875251293182373, 0.8832998275756836)\n",
            "COMET INFO:     val_loss [15]                : (0.08461077511310577, 0.16738691926002502)\n",
            "COMET INFO:     validate_batch_accuracy [30] : (0.5965909361839294, 0.96875)\n",
            "COMET INFO:     validate_batch_loss [30]     : (0.07152394950389862, 0.16661439836025238)\n",
            "COMET INFO:   Others:\n",
            "COMET INFO:     notebook_url : https://colab.research.google.com/notebook#fileId=https%3A%2F%2Fgithub.com%2Feuphonic%2FEAGER%2Fblob%2Fmaster%2Fcode%2Fembeddings%2Fgarbage_classifier_v4.ipynb\n",
            "COMET INFO:   Parameters:\n",
            "COMET INFO:     Adam_amsgrad       : False\n",
            "COMET INFO:     Adam_beta_1        : 0.9\n",
            "COMET INFO:     Adam_beta_2        : 0.999\n",
            "COMET INFO:     Adam_decay         : 0.0\n",
            "COMET INFO:     Adam_epsilon       : 1e-07\n",
            "COMET INFO:     Adam_learning_rate : {\"class_name\": \"PolynomialDecay\", \"config\": {\"cycle\": false, \"decay_steps\": 6300, \"end_learning_rate\": 0, \"initial_learning_rate\": 5e-05, \"name\": null, \"power\": 1.0}}\n",
            "COMET INFO:     Adam_name          : Adam\n",
            "COMET INFO:     Optimizer          : Adam\n",
            "COMET INFO:     epochs             : 50\n",
            "COMET INFO:     steps              : 126\n",
            "COMET INFO:     train_batch_size   : 32\n",
            "COMET INFO:   Uploads:\n",
            "COMET INFO:     environment details      : 1\n",
            "COMET INFO:     filename                 : 1\n",
            "COMET INFO:     git metadata             : 1\n",
            "COMET INFO:     git-patch (uncompressed) : 1 (211 bytes)\n",
            "COMET INFO:     installed packages       : 1\n",
            "COMET INFO:     model graph              : 1\n",
            "COMET INFO:     model-element            : 2 (8.46 MB)\n",
            "COMET INFO:     notebook                 : 2\n",
            "COMET INFO:     os packages              : 1\n",
            "COMET INFO:     source_code              : 1\n",
            "COMET INFO: ---------------------------\n",
            "COMET INFO: Uploading metrics, params, and assets to Comet before program termination (may take several seconds)\n",
            "COMET INFO: The Python SDK has 3600 seconds to finish before aborting...\n"
          ]
        }
      ],
      "source": [
        "num_epochs = 50\n",
        "batch_sizes = [32]\n",
        "model_name = COMET_PROJECT_NAME.replace ('-', '_')\n",
        "\n",
        "for bs in batch_sizes: \n",
        "  # read config file from git repo \n",
        "  experiment = Experiment(project_name=COMET_PROJECT_NAME)\n",
        "  with experiment.train():\n",
        "    experiment.log_parameter(\"batch_size\", bs)\n",
        "\n",
        "  # model\n",
        "  model = TFAutoModelForSequenceClassification.from_config(config)\n",
        "  print (type(model))\n",
        "\n",
        "  print ('batch_size', bs)\n",
        "\n",
        "  tf_train_dataset = tokenized_dataset[\"train\"].to_tf_dataset(\n",
        "    columns=[\"attention_mask\", \"input_ids\", \"token_type_ids\"],\n",
        "    label_cols=\"of_interest\",\n",
        "    shuffle=True,\n",
        "    collate_fn=data_collator,\n",
        "    batch_size=bs,\n",
        "  )\n",
        "\n",
        "  tf_validation_dataset = tokenized_dataset[\"valid\"].to_tf_dataset(\n",
        "    columns=[\"attention_mask\", \"input_ids\", \"token_type_ids\"],\n",
        "    label_cols=\"of_interest\",\n",
        "    shuffle=False,\n",
        "    collate_fn=data_collator,\n",
        "    batch_size=bs,\n",
        "  )\n",
        "\n",
        "  # The number of training steps is the number of samples in the dataset, divided by the batch size then multiplied\n",
        "  # by the total number of epochs\n",
        "  num_train_steps = len(tf_train_dataset) * num_epochs\n",
        "  lr_scheduler = PolynomialDecay(\n",
        "      initial_learning_rate=5e-5, end_learning_rate=0, decay_steps=num_train_steps\n",
        "  )\n",
        "\n",
        "  opt = Adam(learning_rate=lr_scheduler, beta_1=0.9, beta_2=0.999)\n",
        "\n",
        "  log_dir = \"/content/logs/fit/\" + datetime.datetime.now().strftime(\"%Y%m%d-%H%M%S\")\n",
        "  tensorboard_callback = tf.keras.callbacks.TensorBoard(log_dir=log_dir, histogram_freq=1)    \n",
        "\n",
        "  early_stopping_callback = tf.keras.callbacks.EarlyStopping(monitor='val_loss', patience=10)\n",
        "\n",
        "  loss = tf.keras.losses.BinaryFocalCrossentropy(from_logits=True, gamma=2.0, label_smoothing=0.2) # gamma = 0 is equivalent to binary cross entropy\n",
        "  model.compile(optimizer=opt, loss=loss, metrics=[\"accuracy\"])\n",
        "\n",
        "  model.fit(tf_train_dataset, validation_data=tf_validation_dataset, \n",
        "        epochs=num_epochs, callbacks=[tensorboard_callback, early_stopping_callback])\n",
        "  \n",
        "  # save model to disk -- can be added to for loop above\n",
        "\n",
        "  model_save_path = '/content/models/' + model_name + \"_\" + str(bs)\n",
        "  print (model_save_path)\n",
        "  model.save_pretrained(model_save_path)\n",
        "  experiment.log_model(name=model_name, file_or_folder=model_save_path)\n",
        "  \n",
        "  experiment.end()"
      ]
    },
    {
      "cell_type": "markdown",
      "source": [
        "## Out of sample testing\n",
        "Run on final eval dataset only"
      ],
      "metadata": {
        "id": "YKi48vjqJzrE"
      }
    },
    {
      "cell_type": "code",
      "source": [
        "# create test dataset\n",
        "tf_test_dataset = tokenized_dataset[\"test\"].to_tf_dataset (\n",
        "  columns=[\"attention_mask\", \"input_ids\", \"token_type_ids\"],\n",
        "  label_cols=\"of_interest\",\n",
        "  shuffle=False,\n",
        "  collate_fn=data_collator,\n",
        "  batch_size=bs,\n",
        ")"
      ],
      "metadata": {
        "id": "jxrUKB2uTomi"
      },
      "execution_count": 27,
      "outputs": []
    },
    {
      "cell_type": "code",
      "source": [
        "# get list of strings and list of labels\n",
        "eval_text = train_test_valid_dataset['test']['sample_text']\n",
        "eval_labels = train_test_valid_dataset['test']['of_interest']\n",
        "\n",
        "# define inference pipeline\n",
        "pipe = pipeline (\"text-classification\", model=model, tokenizer=tokenizer, device=0, batch_size = 8,function_to_apply='sigmoid' )\n",
        "tokenizer_kwargs = {'padding':'max_length','truncation':True,'max_length':100}"
      ],
      "metadata": {
        "id": "KGjKnc1y3L1R"
      },
      "execution_count": 66,
      "outputs": []
    },
    {
      "cell_type": "code",
      "source": [
        "# run pipeline\n",
        "out = pipe (eval_text, **tokenizer_kwargs)"
      ],
      "metadata": {
        "id": "eIkXWbmx86cA"
      },
      "execution_count": 43,
      "outputs": []
    },
    {
      "cell_type": "code",
      "source": [
        "# calculate class predictions from sigmoids \n",
        "scores = np.asarray([o['score'] for o in out])\n",
        "\n",
        "print ('scores: ' + str(scores[0:5]))\n",
        "threshold = 0.5\n",
        "preds = np.where(scores > threshold, 1, 0)\n",
        "print ('preds: ' + str(preds[0:5]))\n",
        "\n",
        "print ('eval labels: ' + str(eval_labels[0:5]))"
      ],
      "metadata": {
        "id": "ZVMGFg7j-1UC",
        "outputId": "a1a58f52-a0f5-4657-cb09-3333f86ffd3e",
        "colab": {
          "base_uri": "https://localhost:8080/"
        }
      },
      "execution_count": 67,
      "outputs": [
        {
          "output_type": "stream",
          "name": "stdout",
          "text": [
            "scores: [0.08487141 0.08529108 0.07992468 0.92187572 0.06950309]\n",
            "preds: [0 0 0 1 0]\n",
            "eval labels: [0, 0, 0, 1, 0]\n"
          ]
        }
      ]
    },
    {
      "cell_type": "code",
      "source": [
        "# run metrics\n",
        "accuracy = evaluate.load(\"accuracy\")\n",
        "accuracy.compute(references=eval_labels, predictions=preds)"
      ],
      "metadata": {
        "id": "9quLY7i_9FnN",
        "outputId": "cd72b402-b192-41c0-e4f0-2f24950c572a",
        "colab": {
          "base_uri": "https://localhost:8080/"
        }
      },
      "execution_count": 69,
      "outputs": [
        {
          "output_type": "execute_result",
          "data": {
            "text/plain": [
              "{'accuracy': 0.8504672897196262}"
            ]
          },
          "metadata": {},
          "execution_count": 69
        }
      ]
    },
    {
      "cell_type": "code",
      "source": [
        "# which sample texts where incorrectly classified? \n",
        "for i in range (len(preds)):\n",
        "  if (preds[i] != eval_labels[i]):\n",
        "    print ('score: ' + str(scores[i]) + ' vs. label: ' + str(eval_labels[i]) )\n",
        "    print ('\\t' + eval_text[i])"
      ],
      "metadata": {
        "id": "8G5Qnb3ZCRcS",
        "outputId": "bfe8fbf2-b845-4843-ebd0-1e5e8d0055a8",
        "colab": {
          "base_uri": "https://localhost:8080/"
        }
      },
      "execution_count": 72,
      "outputs": [
        {
          "output_type": "stream",
          "name": "stdout",
          "text": [
            "score: 0.903399646282196 vs. label: 0\n",
            "\tUsed by the content network, Cloudflare, to identify trusted web traffic.\n",
            "score: 0.6870911717414856 vs. label: 0\n",
            "\tOperations & Maintenance\n",
            "score: 0.33153608441352844 vs. label: 1\n",
            "\tGlycol\n",
            "score: 0.48014360666275024 vs. label: 1\n",
            "\tWe serve companies that:\n",
            "score: 0.6628424525260925 vs. label: 0\n",
            "\tView on MobileHome\n",
            "score: 0.4596140384674072 vs. label: 1\n",
            "\tAdaptive Interference Cancellation\n",
            "score: 0.1039787009358406 vs. label: 1\n",
            "\tTell us what you think\n",
            "score: 0.8026952743530273 vs. label: 0\n",
            "\t702-639-4440\n",
            "score: 0.8969711661338806 vs. label: 0\n",
            "\tFlip text color (from light to dark)\n",
            "score: 0.8757806420326233 vs. label: 0\n",
            "\tWill Quirk, ‚Äì AFFAIRS\n",
            "score: 0.14474432170391083 vs. label: 1\n",
            "\tVgaArbiter : Routing instructions correctly.\n",
            "score: 0.4717980623245239 vs. label: 1\n",
            "\tDr. Clive Bosnyak\n",
            "score: 0.8142120242118835 vs. label: 0\n",
            "\t11) 200√ó100 Needle Cleaner\n",
            "score: 0.27364853024482727 vs. label: 1\n",
            "\t¬†The interview season is Oct. 15, 2018 through Jan. 18, 2019.\n",
            "score: 0.48935869336128235 vs. label: 1\n",
            "\tHand Hygiene \n",
            "score: 0.9125698208808899 vs. label: 0\n",
            "\tStores the user's cookie consent state for the current domain\n",
            "score: 0.8132582306861877 vs. label: 0\n",
            "\tDoug Rozendaal\n",
            "score: 0.2855384945869446 vs. label: 1\n",
            "\tFood & Beverage Ingredients\n",
            "score: 0.07234445959329605 vs. label: 1\n",
            "\tEarth Science\n",
            "score: 0.9263170957565308 vs. label: 0\n",
            "\tCompliance with Laws and Regulations\n",
            "score: 0.9171034097671509 vs. label: 0\n",
            "\tMonitors & Rooms\n",
            "score: 0.6922406554222107 vs. label: 0\n",
            "\tRecover System\n",
            "score: 0.9186035990715027 vs. label: 0\n",
            "\tWhere Fits In:\n",
            "score: 0.1366443634033203 vs. label: 1\n",
            "\tOpt In to Email Marketing\n",
            "score: 0.8887248635292053 vs. label: 0\n",
            "\tPenetration Testing\n",
            "score: 0.7821342349052429 vs. label: 0\n",
            "\tNova Milanese (MB), Monza e Brianza 20834\n",
            "score: 0.10449590533971786 vs. label: 1\n",
            "\tWhy Certification Matters\n",
            "score: 0.47167330980300903 vs. label: 1\n",
            "\tUsed by the social networking service, LinkedIn, for tracking the use of embedded services.\n",
            "score: 0.598250687122345 vs. label: 0\n",
            "\t3340 Dearborn Street\n",
            "score: 0.10375150293111801 vs. label: 1\n",
            "\tSee our Safety Process\n",
            "score: 0.8910768628120422 vs. label: 0\n",
            "\tEnvironment Safety & Health\n",
            "score: 0.8648857474327087 vs. label: 0\n",
            "\tCorporate Governance Guidelines\n"
          ]
        }
      ]
    },
    {
      "cell_type": "markdown",
      "source": [
        "## Register model"
      ],
      "metadata": {
        "id": "SdKTQqyqtvTZ"
      }
    },
    {
      "cell_type": "code",
      "source": [
        "# save best run (confirm this through comet ml portal)\n",
        "best_run = 'euphonic/' + COMET_PROJECT_NAME + '/daily_pilaster_8175'\n",
        "version = \"1.0.3\"\n",
        "api = API()\n",
        "api_exp = api.get(best_run)\n",
        "api_exp.register_model(model_name, version=version)"
      ],
      "metadata": {
        "colab": {
          "base_uri": "https://localhost:8080/"
        },
        "id": "r3r6xmns0oXW",
        "outputId": "8130fa7c-8254-42f7-c944-2f88c245e935"
      },
      "execution_count": null,
      "outputs": [
        {
          "output_type": "stream",
          "name": "stderr",
          "text": [
            "COMET INFO: Successfully registered 'eager-garbage-classifier', version '1.0.3' in workspace 'euphonic'\n"
          ]
        },
        {
          "output_type": "execute_result",
          "data": {
            "text/plain": [
              "{'registryModelId': 'dyXSwgVHtuYcesXa63lRU7TUh',\n",
              " 'registryModelItemId': 'h0YeXb5dKZA70vwTzd21qcp5K'}"
            ]
          },
          "metadata": {},
          "execution_count": 29
        }
      ]
    },
    {
      "cell_type": "markdown",
      "source": [
        "## Make predictions\n",
        "Write results out to file for manual DQ"
      ],
      "metadata": {
        "id": "gNfXEE97rlUA"
      }
    },
    {
      "cell_type": "code",
      "source": [
        "# download latest model\n",
        "best_run = 'euphonic/' + COMET_PROJECT_NAME + '/daily_pilaster_8175'\n",
        "version = \"1.0.3\" # need to set manually for now\n",
        "api = API()\n",
        "api.download_registry_model(\"euphonic\", COMET_PROJECT_NAME, version,\n",
        "                            output_path=\"/content/registered_models/\", expand=True)"
      ],
      "metadata": {
        "colab": {
          "base_uri": "https://localhost:8080/"
        },
        "id": "MIpstqxtKYE5",
        "outputId": "b009122a-75c8-489c-864b-92e31d72db56"
      },
      "execution_count": null,
      "outputs": [
        {
          "output_type": "stream",
          "name": "stderr",
          "text": [
            "COMET WARNING: COMET_INI is deprecated; use COMET_CONFIG\n",
            "COMET INFO: Downloading registry model 'eager-garbage-classifier', version '1.0.3', stage None from workspace 'euphonic'...\n",
            "COMET INFO: Unzipping model to '/content/registered_models' ...\n",
            "COMET INFO: done!\n"
          ]
        }
      ]
    },
    {
      "cell_type": "code",
      "source": [
        " # optional retrieve model from registry\n",
        "local_model_dir = 'eager_garbage_classifier_32' # need to set manually for now\n",
        "model = TFBertForSequenceClassification.from_pretrained ('/content/registered_models/' + local_model_dir)"
      ],
      "metadata": {
        "id": "j1jBw2I5rXJk",
        "colab": {
          "base_uri": "https://localhost:8080/"
        },
        "outputId": "3dcd4025-cd89-440e-c3dd-b57d66e1f5c0"
      },
      "execution_count": null,
      "outputs": [
        {
          "output_type": "stream",
          "name": "stderr",
          "text": [
            "Some layers from the model checkpoint at /content/registered_models/eager_garbage_classifier_32 were not used when initializing TFBertForSequenceClassification: ['dropout_83']\n",
            "- This IS expected if you are initializing TFBertForSequenceClassification from the checkpoint of a model trained on another task or with another architecture (e.g. initializing a BertForSequenceClassification model from a BertForPreTraining model).\n",
            "- This IS NOT expected if you are initializing TFBertForSequenceClassification from the checkpoint of a model that you expect to be exactly identical (initializing a BertForSequenceClassification model from a BertForSequenceClassification model).\n",
            "All the layers of TFBertForSequenceClassification were initialized from the model checkpoint at /content/registered_models/eager_garbage_classifier_32.\n",
            "If your task is similar to the task the model of the checkpoint was trained on, you can already use TFBertForSequenceClassification for predictions without further training.\n"
          ]
        }
      ]
    },
    {
      "cell_type": "code",
      "source": [
        "# open file dir, read files and run predictions. aggregate results in a list object\n",
        "data_for_df = []\n",
        "\n",
        "for filename in os.listdir(company_file_dir):\n",
        "  if filename.endswith('.txt'):\n",
        "    with open( os.path.join(company_file_dir, filename) ) as file_h:\n",
        "      co_text = [line for line in file_h]\n",
        "      co_id = np.repeat (filename, len(co_text))\n",
        "      co_index = np.arange (0, len(co_text))\n",
        "      L = list(zip(co_id, co_index, co_text))\n",
        "      data_for_df.append (L)"
      ],
      "metadata": {
        "id": "YgMM6FpoCgo9"
      },
      "execution_count": null,
      "outputs": []
    },
    {
      "cell_type": "code",
      "source": [
        "# transfer results to dataframe\n",
        "dq_check_df = pd.DataFrame([t for lst in data_for_df for t in lst], columns = ['firm_name_txt', 'index', 'sample_text'])\n",
        "dq_check_df"
      ],
      "metadata": {
        "colab": {
          "base_uri": "https://localhost:8080/",
          "height": 424
        },
        "id": "TQav_16oktQb",
        "outputId": "125d9ff3-b48b-472f-94c5-cd57c7790cb0"
      },
      "execution_count": null,
      "outputs": [
        {
          "output_type": "execute_result",
          "data": {
            "text/plain": [
              "                            firm_name_txt  index  \\\n",
              "0        The Procter & Gamble Company.txt      0   \n",
              "1        The Procter & Gamble Company.txt      1   \n",
              "2        The Procter & Gamble Company.txt      2   \n",
              "3        The Procter & Gamble Company.txt      3   \n",
              "4        The Procter & Gamble Company.txt      4   \n",
              "...                                   ...    ...   \n",
              "2096117      RenovaCare Sciences Corp.txt    119   \n",
              "2096118      RenovaCare Sciences Corp.txt    120   \n",
              "2096119      RenovaCare Sciences Corp.txt    121   \n",
              "2096120      RenovaCare Sciences Corp.txt    122   \n",
              "2096121      RenovaCare Sciences Corp.txt    123   \n",
              "\n",
              "                                               sample_text  \n",
              "0                                       See our programs\\n  \n",
              "1                                         See our impact\\n  \n",
              "2                                     See our commitment\\n  \n",
              "3                                        See our Efforts\\n  \n",
              "4                                  See our Iconic Brands\\n  \n",
              "...                                                    ...  \n",
              "2096117  © Copyright 2018 RenovaCare, Inc. Third party ...  \n",
              "2096118  products are under development and not approve...  \n",
              "2096119          Results may vary from person to person.\\n  \n",
              "2096120                                    Cookie Notice\\n  \n",
              "2096121  We use cookies for analytics, advertising and ...  \n",
              "\n",
              "[2096122 rows x 3 columns]"
            ],
            "text/html": [
              "\n",
              "  <div id=\"df-82d5ba0b-5b1c-454a-9723-f2c9e93fa73c\">\n",
              "    <div class=\"colab-df-container\">\n",
              "      <div>\n",
              "<style scoped>\n",
              "    .dataframe tbody tr th:only-of-type {\n",
              "        vertical-align: middle;\n",
              "    }\n",
              "\n",
              "    .dataframe tbody tr th {\n",
              "        vertical-align: top;\n",
              "    }\n",
              "\n",
              "    .dataframe thead th {\n",
              "        text-align: right;\n",
              "    }\n",
              "</style>\n",
              "<table border=\"1\" class=\"dataframe\">\n",
              "  <thead>\n",
              "    <tr style=\"text-align: right;\">\n",
              "      <th></th>\n",
              "      <th>firm_name_txt</th>\n",
              "      <th>index</th>\n",
              "      <th>sample_text</th>\n",
              "    </tr>\n",
              "  </thead>\n",
              "  <tbody>\n",
              "    <tr>\n",
              "      <th>0</th>\n",
              "      <td>The Procter &amp; Gamble Company.txt</td>\n",
              "      <td>0</td>\n",
              "      <td>See our programs\\n</td>\n",
              "    </tr>\n",
              "    <tr>\n",
              "      <th>1</th>\n",
              "      <td>The Procter &amp; Gamble Company.txt</td>\n",
              "      <td>1</td>\n",
              "      <td>See our impact\\n</td>\n",
              "    </tr>\n",
              "    <tr>\n",
              "      <th>2</th>\n",
              "      <td>The Procter &amp; Gamble Company.txt</td>\n",
              "      <td>2</td>\n",
              "      <td>See our commitment\\n</td>\n",
              "    </tr>\n",
              "    <tr>\n",
              "      <th>3</th>\n",
              "      <td>The Procter &amp; Gamble Company.txt</td>\n",
              "      <td>3</td>\n",
              "      <td>See our Efforts\\n</td>\n",
              "    </tr>\n",
              "    <tr>\n",
              "      <th>4</th>\n",
              "      <td>The Procter &amp; Gamble Company.txt</td>\n",
              "      <td>4</td>\n",
              "      <td>See our Iconic Brands\\n</td>\n",
              "    </tr>\n",
              "    <tr>\n",
              "      <th>...</th>\n",
              "      <td>...</td>\n",
              "      <td>...</td>\n",
              "      <td>...</td>\n",
              "    </tr>\n",
              "    <tr>\n",
              "      <th>2096117</th>\n",
              "      <td>RenovaCare Sciences Corp.txt</td>\n",
              "      <td>119</td>\n",
              "      <td>© Copyright 2018 RenovaCare, Inc. Third party ...</td>\n",
              "    </tr>\n",
              "    <tr>\n",
              "      <th>2096118</th>\n",
              "      <td>RenovaCare Sciences Corp.txt</td>\n",
              "      <td>120</td>\n",
              "      <td>products are under development and not approve...</td>\n",
              "    </tr>\n",
              "    <tr>\n",
              "      <th>2096119</th>\n",
              "      <td>RenovaCare Sciences Corp.txt</td>\n",
              "      <td>121</td>\n",
              "      <td>Results may vary from person to person.\\n</td>\n",
              "    </tr>\n",
              "    <tr>\n",
              "      <th>2096120</th>\n",
              "      <td>RenovaCare Sciences Corp.txt</td>\n",
              "      <td>122</td>\n",
              "      <td>Cookie Notice\\n</td>\n",
              "    </tr>\n",
              "    <tr>\n",
              "      <th>2096121</th>\n",
              "      <td>RenovaCare Sciences Corp.txt</td>\n",
              "      <td>123</td>\n",
              "      <td>We use cookies for analytics, advertising and ...</td>\n",
              "    </tr>\n",
              "  </tbody>\n",
              "</table>\n",
              "<p>2096122 rows × 3 columns</p>\n",
              "</div>\n",
              "      <button class=\"colab-df-convert\" onclick=\"convertToInteractive('df-82d5ba0b-5b1c-454a-9723-f2c9e93fa73c')\"\n",
              "              title=\"Convert this dataframe to an interactive table.\"\n",
              "              style=\"display:none;\">\n",
              "        \n",
              "  <svg xmlns=\"http://www.w3.org/2000/svg\" height=\"24px\"viewBox=\"0 0 24 24\"\n",
              "       width=\"24px\">\n",
              "    <path d=\"M0 0h24v24H0V0z\" fill=\"none\"/>\n",
              "    <path d=\"M18.56 5.44l.94 2.06.94-2.06 2.06-.94-2.06-.94-.94-2.06-.94 2.06-2.06.94zm-11 1L8.5 8.5l.94-2.06 2.06-.94-2.06-.94L8.5 2.5l-.94 2.06-2.06.94zm10 10l.94 2.06.94-2.06 2.06-.94-2.06-.94-.94-2.06-.94 2.06-2.06.94z\"/><path d=\"M17.41 7.96l-1.37-1.37c-.4-.4-.92-.59-1.43-.59-.52 0-1.04.2-1.43.59L10.3 9.45l-7.72 7.72c-.78.78-.78 2.05 0 2.83L4 21.41c.39.39.9.59 1.41.59.51 0 1.02-.2 1.41-.59l7.78-7.78 2.81-2.81c.8-.78.8-2.07 0-2.86zM5.41 20L4 18.59l7.72-7.72 1.47 1.35L5.41 20z\"/>\n",
              "  </svg>\n",
              "      </button>\n",
              "      \n",
              "  <style>\n",
              "    .colab-df-container {\n",
              "      display:flex;\n",
              "      flex-wrap:wrap;\n",
              "      gap: 12px;\n",
              "    }\n",
              "\n",
              "    .colab-df-convert {\n",
              "      background-color: #E8F0FE;\n",
              "      border: none;\n",
              "      border-radius: 50%;\n",
              "      cursor: pointer;\n",
              "      display: none;\n",
              "      fill: #1967D2;\n",
              "      height: 32px;\n",
              "      padding: 0 0 0 0;\n",
              "      width: 32px;\n",
              "    }\n",
              "\n",
              "    .colab-df-convert:hover {\n",
              "      background-color: #E2EBFA;\n",
              "      box-shadow: 0px 1px 2px rgba(60, 64, 67, 0.3), 0px 1px 3px 1px rgba(60, 64, 67, 0.15);\n",
              "      fill: #174EA6;\n",
              "    }\n",
              "\n",
              "    [theme=dark] .colab-df-convert {\n",
              "      background-color: #3B4455;\n",
              "      fill: #D2E3FC;\n",
              "    }\n",
              "\n",
              "    [theme=dark] .colab-df-convert:hover {\n",
              "      background-color: #434B5C;\n",
              "      box-shadow: 0px 1px 3px 1px rgba(0, 0, 0, 0.15);\n",
              "      filter: drop-shadow(0px 1px 2px rgba(0, 0, 0, 0.3));\n",
              "      fill: #FFFFFF;\n",
              "    }\n",
              "  </style>\n",
              "\n",
              "      <script>\n",
              "        const buttonEl =\n",
              "          document.querySelector('#df-82d5ba0b-5b1c-454a-9723-f2c9e93fa73c button.colab-df-convert');\n",
              "        buttonEl.style.display =\n",
              "          google.colab.kernel.accessAllowed ? 'block' : 'none';\n",
              "\n",
              "        async function convertToInteractive(key) {\n",
              "          const element = document.querySelector('#df-82d5ba0b-5b1c-454a-9723-f2c9e93fa73c');\n",
              "          const dataTable =\n",
              "            await google.colab.kernel.invokeFunction('convertToInteractive',\n",
              "                                                     [key], {});\n",
              "          if (!dataTable) return;\n",
              "\n",
              "          const docLinkHtml = 'Like what you see? Visit the ' +\n",
              "            '<a target=\"_blank\" href=https://colab.research.google.com/notebooks/data_table.ipynb>data table notebook</a>'\n",
              "            + ' to learn more about interactive tables.';\n",
              "          element.innerHTML = '';\n",
              "          dataTable['output_type'] = 'display_data';\n",
              "          await google.colab.output.renderOutput(dataTable, element);\n",
              "          const docLink = document.createElement('div');\n",
              "          docLink.innerHTML = docLinkHtml;\n",
              "          element.appendChild(docLink);\n",
              "        }\n",
              "      </script>\n",
              "    </div>\n",
              "  </div>\n",
              "  "
            ]
          },
          "metadata": {},
          "execution_count": 15
        }
      ]
    },
    {
      "cell_type": "code",
      "source": [
        "# lower case text \n",
        "dq_check_df['sample_text_lower'] = dq_check_df['sample_text'].str.lower()\n",
        "dq_check_df"
      ],
      "metadata": {
        "id": "qNOZvUiwOSko",
        "outputId": "efd9a10a-7781-4a19-a948-1bfe697c5220",
        "colab": {
          "base_uri": "https://localhost:8080/",
          "height": 641
        }
      },
      "execution_count": null,
      "outputs": [
        {
          "output_type": "execute_result",
          "data": {
            "text/plain": [
              "                            firm_name_txt  index  \\\n",
              "0        The Procter & Gamble Company.txt      0   \n",
              "1        The Procter & Gamble Company.txt      1   \n",
              "2        The Procter & Gamble Company.txt      2   \n",
              "3        The Procter & Gamble Company.txt      3   \n",
              "4        The Procter & Gamble Company.txt      4   \n",
              "...                                   ...    ...   \n",
              "2096117      RenovaCare Sciences Corp.txt    119   \n",
              "2096118      RenovaCare Sciences Corp.txt    120   \n",
              "2096119      RenovaCare Sciences Corp.txt    121   \n",
              "2096120      RenovaCare Sciences Corp.txt    122   \n",
              "2096121      RenovaCare Sciences Corp.txt    123   \n",
              "\n",
              "                                               sample_text  \\\n",
              "0                                       See our programs\\n   \n",
              "1                                         See our impact\\n   \n",
              "2                                     See our commitment\\n   \n",
              "3                                        See our Efforts\\n   \n",
              "4                                  See our Iconic Brands\\n   \n",
              "...                                                    ...   \n",
              "2096117  © Copyright 2018 RenovaCare, Inc. Third party ...   \n",
              "2096118  products are under development and not approve...   \n",
              "2096119          Results may vary from person to person.\\n   \n",
              "2096120                                    Cookie Notice\\n   \n",
              "2096121  We use cookies for analytics, advertising and ...   \n",
              "\n",
              "                                         sample_text_lower  \n",
              "0                                       see our programs\\n  \n",
              "1                                         see our impact\\n  \n",
              "2                                     see our commitment\\n  \n",
              "3                                        see our efforts\\n  \n",
              "4                                  see our iconic brands\\n  \n",
              "...                                                    ...  \n",
              "2096117  © copyright 2018 renovacare, inc. third party ...  \n",
              "2096118  products are under development and not approve...  \n",
              "2096119          results may vary from person to person.\\n  \n",
              "2096120                                    cookie notice\\n  \n",
              "2096121  we use cookies for analytics, advertising and ...  \n",
              "\n",
              "[2096122 rows x 4 columns]"
            ],
            "text/html": [
              "\n",
              "  <div id=\"df-b5d3fc52-bf82-45cf-83c2-d197f7a0b19c\">\n",
              "    <div class=\"colab-df-container\">\n",
              "      <div>\n",
              "<style scoped>\n",
              "    .dataframe tbody tr th:only-of-type {\n",
              "        vertical-align: middle;\n",
              "    }\n",
              "\n",
              "    .dataframe tbody tr th {\n",
              "        vertical-align: top;\n",
              "    }\n",
              "\n",
              "    .dataframe thead th {\n",
              "        text-align: right;\n",
              "    }\n",
              "</style>\n",
              "<table border=\"1\" class=\"dataframe\">\n",
              "  <thead>\n",
              "    <tr style=\"text-align: right;\">\n",
              "      <th></th>\n",
              "      <th>firm_name_txt</th>\n",
              "      <th>index</th>\n",
              "      <th>sample_text</th>\n",
              "      <th>sample_text_lower</th>\n",
              "    </tr>\n",
              "  </thead>\n",
              "  <tbody>\n",
              "    <tr>\n",
              "      <th>0</th>\n",
              "      <td>The Procter &amp; Gamble Company.txt</td>\n",
              "      <td>0</td>\n",
              "      <td>See our programs\\n</td>\n",
              "      <td>see our programs\\n</td>\n",
              "    </tr>\n",
              "    <tr>\n",
              "      <th>1</th>\n",
              "      <td>The Procter &amp; Gamble Company.txt</td>\n",
              "      <td>1</td>\n",
              "      <td>See our impact\\n</td>\n",
              "      <td>see our impact\\n</td>\n",
              "    </tr>\n",
              "    <tr>\n",
              "      <th>2</th>\n",
              "      <td>The Procter &amp; Gamble Company.txt</td>\n",
              "      <td>2</td>\n",
              "      <td>See our commitment\\n</td>\n",
              "      <td>see our commitment\\n</td>\n",
              "    </tr>\n",
              "    <tr>\n",
              "      <th>3</th>\n",
              "      <td>The Procter &amp; Gamble Company.txt</td>\n",
              "      <td>3</td>\n",
              "      <td>See our Efforts\\n</td>\n",
              "      <td>see our efforts\\n</td>\n",
              "    </tr>\n",
              "    <tr>\n",
              "      <th>4</th>\n",
              "      <td>The Procter &amp; Gamble Company.txt</td>\n",
              "      <td>4</td>\n",
              "      <td>See our Iconic Brands\\n</td>\n",
              "      <td>see our iconic brands\\n</td>\n",
              "    </tr>\n",
              "    <tr>\n",
              "      <th>...</th>\n",
              "      <td>...</td>\n",
              "      <td>...</td>\n",
              "      <td>...</td>\n",
              "      <td>...</td>\n",
              "    </tr>\n",
              "    <tr>\n",
              "      <th>2096117</th>\n",
              "      <td>RenovaCare Sciences Corp.txt</td>\n",
              "      <td>119</td>\n",
              "      <td>© Copyright 2018 RenovaCare, Inc. Third party ...</td>\n",
              "      <td>© copyright 2018 renovacare, inc. third party ...</td>\n",
              "    </tr>\n",
              "    <tr>\n",
              "      <th>2096118</th>\n",
              "      <td>RenovaCare Sciences Corp.txt</td>\n",
              "      <td>120</td>\n",
              "      <td>products are under development and not approve...</td>\n",
              "      <td>products are under development and not approve...</td>\n",
              "    </tr>\n",
              "    <tr>\n",
              "      <th>2096119</th>\n",
              "      <td>RenovaCare Sciences Corp.txt</td>\n",
              "      <td>121</td>\n",
              "      <td>Results may vary from person to person.\\n</td>\n",
              "      <td>results may vary from person to person.\\n</td>\n",
              "    </tr>\n",
              "    <tr>\n",
              "      <th>2096120</th>\n",
              "      <td>RenovaCare Sciences Corp.txt</td>\n",
              "      <td>122</td>\n",
              "      <td>Cookie Notice\\n</td>\n",
              "      <td>cookie notice\\n</td>\n",
              "    </tr>\n",
              "    <tr>\n",
              "      <th>2096121</th>\n",
              "      <td>RenovaCare Sciences Corp.txt</td>\n",
              "      <td>123</td>\n",
              "      <td>We use cookies for analytics, advertising and ...</td>\n",
              "      <td>we use cookies for analytics, advertising and ...</td>\n",
              "    </tr>\n",
              "  </tbody>\n",
              "</table>\n",
              "<p>2096122 rows × 4 columns</p>\n",
              "</div>\n",
              "      <button class=\"colab-df-convert\" onclick=\"convertToInteractive('df-b5d3fc52-bf82-45cf-83c2-d197f7a0b19c')\"\n",
              "              title=\"Convert this dataframe to an interactive table.\"\n",
              "              style=\"display:none;\">\n",
              "        \n",
              "  <svg xmlns=\"http://www.w3.org/2000/svg\" height=\"24px\"viewBox=\"0 0 24 24\"\n",
              "       width=\"24px\">\n",
              "    <path d=\"M0 0h24v24H0V0z\" fill=\"none\"/>\n",
              "    <path d=\"M18.56 5.44l.94 2.06.94-2.06 2.06-.94-2.06-.94-.94-2.06-.94 2.06-2.06.94zm-11 1L8.5 8.5l.94-2.06 2.06-.94-2.06-.94L8.5 2.5l-.94 2.06-2.06.94zm10 10l.94 2.06.94-2.06 2.06-.94-2.06-.94-.94-2.06-.94 2.06-2.06.94z\"/><path d=\"M17.41 7.96l-1.37-1.37c-.4-.4-.92-.59-1.43-.59-.52 0-1.04.2-1.43.59L10.3 9.45l-7.72 7.72c-.78.78-.78 2.05 0 2.83L4 21.41c.39.39.9.59 1.41.59.51 0 1.02-.2 1.41-.59l7.78-7.78 2.81-2.81c.8-.78.8-2.07 0-2.86zM5.41 20L4 18.59l7.72-7.72 1.47 1.35L5.41 20z\"/>\n",
              "  </svg>\n",
              "      </button>\n",
              "      \n",
              "  <style>\n",
              "    .colab-df-container {\n",
              "      display:flex;\n",
              "      flex-wrap:wrap;\n",
              "      gap: 12px;\n",
              "    }\n",
              "\n",
              "    .colab-df-convert {\n",
              "      background-color: #E8F0FE;\n",
              "      border: none;\n",
              "      border-radius: 50%;\n",
              "      cursor: pointer;\n",
              "      display: none;\n",
              "      fill: #1967D2;\n",
              "      height: 32px;\n",
              "      padding: 0 0 0 0;\n",
              "      width: 32px;\n",
              "    }\n",
              "\n",
              "    .colab-df-convert:hover {\n",
              "      background-color: #E2EBFA;\n",
              "      box-shadow: 0px 1px 2px rgba(60, 64, 67, 0.3), 0px 1px 3px 1px rgba(60, 64, 67, 0.15);\n",
              "      fill: #174EA6;\n",
              "    }\n",
              "\n",
              "    [theme=dark] .colab-df-convert {\n",
              "      background-color: #3B4455;\n",
              "      fill: #D2E3FC;\n",
              "    }\n",
              "\n",
              "    [theme=dark] .colab-df-convert:hover {\n",
              "      background-color: #434B5C;\n",
              "      box-shadow: 0px 1px 3px 1px rgba(0, 0, 0, 0.15);\n",
              "      filter: drop-shadow(0px 1px 2px rgba(0, 0, 0, 0.3));\n",
              "      fill: #FFFFFF;\n",
              "    }\n",
              "  </style>\n",
              "\n",
              "      <script>\n",
              "        const buttonEl =\n",
              "          document.querySelector('#df-b5d3fc52-bf82-45cf-83c2-d197f7a0b19c button.colab-df-convert');\n",
              "        buttonEl.style.display =\n",
              "          google.colab.kernel.accessAllowed ? 'block' : 'none';\n",
              "\n",
              "        async function convertToInteractive(key) {\n",
              "          const element = document.querySelector('#df-b5d3fc52-bf82-45cf-83c2-d197f7a0b19c');\n",
              "          const dataTable =\n",
              "            await google.colab.kernel.invokeFunction('convertToInteractive',\n",
              "                                                     [key], {});\n",
              "          if (!dataTable) return;\n",
              "\n",
              "          const docLinkHtml = 'Like what you see? Visit the ' +\n",
              "            '<a target=\"_blank\" href=https://colab.research.google.com/notebooks/data_table.ipynb>data table notebook</a>'\n",
              "            + ' to learn more about interactive tables.';\n",
              "          element.innerHTML = '';\n",
              "          dataTable['output_type'] = 'display_data';\n",
              "          await google.colab.output.renderOutput(dataTable, element);\n",
              "          const docLink = document.createElement('div');\n",
              "          docLink.innerHTML = docLinkHtml;\n",
              "          element.appendChild(docLink);\n",
              "        }\n",
              "      </script>\n",
              "    </div>\n",
              "  </div>\n",
              "  "
            ]
          },
          "metadata": {},
          "execution_count": 16
        }
      ]
    },
    {
      "cell_type": "code",
      "source": [
        "# remove duplicates\n",
        "dq_check_no_dup_df = dq_check_df[~dq_check_df.duplicated('sample_text_lower', keep=\"first\")]\n",
        "dq_check_no_dup_df"
      ],
      "metadata": {
        "id": "VoQGCI5aNxdD",
        "outputId": "b7258793-6b2d-4ed4-8e72-2ff0fb024640",
        "colab": {
          "base_uri": "https://localhost:8080/",
          "height": 641
        }
      },
      "execution_count": null,
      "outputs": [
        {
          "output_type": "execute_result",
          "data": {
            "text/plain": [
              "                            firm_name_txt  index  \\\n",
              "0        The Procter & Gamble Company.txt      0   \n",
              "1        The Procter & Gamble Company.txt      1   \n",
              "2        The Procter & Gamble Company.txt      2   \n",
              "3        The Procter & Gamble Company.txt      3   \n",
              "4        The Procter & Gamble Company.txt      4   \n",
              "...                                   ...    ...   \n",
              "2096104      RenovaCare Sciences Corp.txt    106   \n",
              "2096108      RenovaCare Sciences Corp.txt    110   \n",
              "2096114      RenovaCare Sciences Corp.txt    116   \n",
              "2096116      RenovaCare Sciences Corp.txt    118   \n",
              "2096121      RenovaCare Sciences Corp.txt    123   \n",
              "\n",
              "                                               sample_text  \\\n",
              "0                                       See our programs\\n   \n",
              "1                                         See our impact\\n   \n",
              "2                                     See our commitment\\n   \n",
              "3                                        See our Efforts\\n   \n",
              "4                                  See our Iconic Brands\\n   \n",
              "...                                                    ...   \n",
              "2096104  © Copyright 2018 RenovaCare, Inc. Third party ...   \n",
              "2096108  We use cookies for analytics, advertising and ...   \n",
              "2096114                                Scottsdale, 85260\\n   \n",
              "2096116  is housed with its corporate partner, StemCell...   \n",
              "2096121  We use cookies for analytics, advertising and ...   \n",
              "\n",
              "                                         sample_text_lower  \n",
              "0                                       see our programs\\n  \n",
              "1                                         see our impact\\n  \n",
              "2                                     see our commitment\\n  \n",
              "3                                        see our efforts\\n  \n",
              "4                                  see our iconic brands\\n  \n",
              "...                                                    ...  \n",
              "2096104  © copyright 2018 renovacare, inc. third party ...  \n",
              "2096108  we use cookies for analytics, advertising and ...  \n",
              "2096114                                scottsdale, 85260\\n  \n",
              "2096116  is housed with its corporate partner, stemcell...  \n",
              "2096121  we use cookies for analytics, advertising and ...  \n",
              "\n",
              "[272599 rows x 4 columns]"
            ],
            "text/html": [
              "\n",
              "  <div id=\"df-a7dd9e2b-e571-4636-9fa9-b72b91d383dd\">\n",
              "    <div class=\"colab-df-container\">\n",
              "      <div>\n",
              "<style scoped>\n",
              "    .dataframe tbody tr th:only-of-type {\n",
              "        vertical-align: middle;\n",
              "    }\n",
              "\n",
              "    .dataframe tbody tr th {\n",
              "        vertical-align: top;\n",
              "    }\n",
              "\n",
              "    .dataframe thead th {\n",
              "        text-align: right;\n",
              "    }\n",
              "</style>\n",
              "<table border=\"1\" class=\"dataframe\">\n",
              "  <thead>\n",
              "    <tr style=\"text-align: right;\">\n",
              "      <th></th>\n",
              "      <th>firm_name_txt</th>\n",
              "      <th>index</th>\n",
              "      <th>sample_text</th>\n",
              "      <th>sample_text_lower</th>\n",
              "    </tr>\n",
              "  </thead>\n",
              "  <tbody>\n",
              "    <tr>\n",
              "      <th>0</th>\n",
              "      <td>The Procter &amp; Gamble Company.txt</td>\n",
              "      <td>0</td>\n",
              "      <td>See our programs\\n</td>\n",
              "      <td>see our programs\\n</td>\n",
              "    </tr>\n",
              "    <tr>\n",
              "      <th>1</th>\n",
              "      <td>The Procter &amp; Gamble Company.txt</td>\n",
              "      <td>1</td>\n",
              "      <td>See our impact\\n</td>\n",
              "      <td>see our impact\\n</td>\n",
              "    </tr>\n",
              "    <tr>\n",
              "      <th>2</th>\n",
              "      <td>The Procter &amp; Gamble Company.txt</td>\n",
              "      <td>2</td>\n",
              "      <td>See our commitment\\n</td>\n",
              "      <td>see our commitment\\n</td>\n",
              "    </tr>\n",
              "    <tr>\n",
              "      <th>3</th>\n",
              "      <td>The Procter &amp; Gamble Company.txt</td>\n",
              "      <td>3</td>\n",
              "      <td>See our Efforts\\n</td>\n",
              "      <td>see our efforts\\n</td>\n",
              "    </tr>\n",
              "    <tr>\n",
              "      <th>4</th>\n",
              "      <td>The Procter &amp; Gamble Company.txt</td>\n",
              "      <td>4</td>\n",
              "      <td>See our Iconic Brands\\n</td>\n",
              "      <td>see our iconic brands\\n</td>\n",
              "    </tr>\n",
              "    <tr>\n",
              "      <th>...</th>\n",
              "      <td>...</td>\n",
              "      <td>...</td>\n",
              "      <td>...</td>\n",
              "      <td>...</td>\n",
              "    </tr>\n",
              "    <tr>\n",
              "      <th>2096104</th>\n",
              "      <td>RenovaCare Sciences Corp.txt</td>\n",
              "      <td>106</td>\n",
              "      <td>© Copyright 2018 RenovaCare, Inc. Third party ...</td>\n",
              "      <td>© copyright 2018 renovacare, inc. third party ...</td>\n",
              "    </tr>\n",
              "    <tr>\n",
              "      <th>2096108</th>\n",
              "      <td>RenovaCare Sciences Corp.txt</td>\n",
              "      <td>110</td>\n",
              "      <td>We use cookies for analytics, advertising and ...</td>\n",
              "      <td>we use cookies for analytics, advertising and ...</td>\n",
              "    </tr>\n",
              "    <tr>\n",
              "      <th>2096114</th>\n",
              "      <td>RenovaCare Sciences Corp.txt</td>\n",
              "      <td>116</td>\n",
              "      <td>Scottsdale, 85260\\n</td>\n",
              "      <td>scottsdale, 85260\\n</td>\n",
              "    </tr>\n",
              "    <tr>\n",
              "      <th>2096116</th>\n",
              "      <td>RenovaCare Sciences Corp.txt</td>\n",
              "      <td>118</td>\n",
              "      <td>is housed with its corporate partner, StemCell...</td>\n",
              "      <td>is housed with its corporate partner, stemcell...</td>\n",
              "    </tr>\n",
              "    <tr>\n",
              "      <th>2096121</th>\n",
              "      <td>RenovaCare Sciences Corp.txt</td>\n",
              "      <td>123</td>\n",
              "      <td>We use cookies for analytics, advertising and ...</td>\n",
              "      <td>we use cookies for analytics, advertising and ...</td>\n",
              "    </tr>\n",
              "  </tbody>\n",
              "</table>\n",
              "<p>272599 rows × 4 columns</p>\n",
              "</div>\n",
              "      <button class=\"colab-df-convert\" onclick=\"convertToInteractive('df-a7dd9e2b-e571-4636-9fa9-b72b91d383dd')\"\n",
              "              title=\"Convert this dataframe to an interactive table.\"\n",
              "              style=\"display:none;\">\n",
              "        \n",
              "  <svg xmlns=\"http://www.w3.org/2000/svg\" height=\"24px\"viewBox=\"0 0 24 24\"\n",
              "       width=\"24px\">\n",
              "    <path d=\"M0 0h24v24H0V0z\" fill=\"none\"/>\n",
              "    <path d=\"M18.56 5.44l.94 2.06.94-2.06 2.06-.94-2.06-.94-.94-2.06-.94 2.06-2.06.94zm-11 1L8.5 8.5l.94-2.06 2.06-.94-2.06-.94L8.5 2.5l-.94 2.06-2.06.94zm10 10l.94 2.06.94-2.06 2.06-.94-2.06-.94-.94-2.06-.94 2.06-2.06.94z\"/><path d=\"M17.41 7.96l-1.37-1.37c-.4-.4-.92-.59-1.43-.59-.52 0-1.04.2-1.43.59L10.3 9.45l-7.72 7.72c-.78.78-.78 2.05 0 2.83L4 21.41c.39.39.9.59 1.41.59.51 0 1.02-.2 1.41-.59l7.78-7.78 2.81-2.81c.8-.78.8-2.07 0-2.86zM5.41 20L4 18.59l7.72-7.72 1.47 1.35L5.41 20z\"/>\n",
              "  </svg>\n",
              "      </button>\n",
              "      \n",
              "  <style>\n",
              "    .colab-df-container {\n",
              "      display:flex;\n",
              "      flex-wrap:wrap;\n",
              "      gap: 12px;\n",
              "    }\n",
              "\n",
              "    .colab-df-convert {\n",
              "      background-color: #E8F0FE;\n",
              "      border: none;\n",
              "      border-radius: 50%;\n",
              "      cursor: pointer;\n",
              "      display: none;\n",
              "      fill: #1967D2;\n",
              "      height: 32px;\n",
              "      padding: 0 0 0 0;\n",
              "      width: 32px;\n",
              "    }\n",
              "\n",
              "    .colab-df-convert:hover {\n",
              "      background-color: #E2EBFA;\n",
              "      box-shadow: 0px 1px 2px rgba(60, 64, 67, 0.3), 0px 1px 3px 1px rgba(60, 64, 67, 0.15);\n",
              "      fill: #174EA6;\n",
              "    }\n",
              "\n",
              "    [theme=dark] .colab-df-convert {\n",
              "      background-color: #3B4455;\n",
              "      fill: #D2E3FC;\n",
              "    }\n",
              "\n",
              "    [theme=dark] .colab-df-convert:hover {\n",
              "      background-color: #434B5C;\n",
              "      box-shadow: 0px 1px 3px 1px rgba(0, 0, 0, 0.15);\n",
              "      filter: drop-shadow(0px 1px 2px rgba(0, 0, 0, 0.3));\n",
              "      fill: #FFFFFF;\n",
              "    }\n",
              "  </style>\n",
              "\n",
              "      <script>\n",
              "        const buttonEl =\n",
              "          document.querySelector('#df-a7dd9e2b-e571-4636-9fa9-b72b91d383dd button.colab-df-convert');\n",
              "        buttonEl.style.display =\n",
              "          google.colab.kernel.accessAllowed ? 'block' : 'none';\n",
              "\n",
              "        async function convertToInteractive(key) {\n",
              "          const element = document.querySelector('#df-a7dd9e2b-e571-4636-9fa9-b72b91d383dd');\n",
              "          const dataTable =\n",
              "            await google.colab.kernel.invokeFunction('convertToInteractive',\n",
              "                                                     [key], {});\n",
              "          if (!dataTable) return;\n",
              "\n",
              "          const docLinkHtml = 'Like what you see? Visit the ' +\n",
              "            '<a target=\"_blank\" href=https://colab.research.google.com/notebooks/data_table.ipynb>data table notebook</a>'\n",
              "            + ' to learn more about interactive tables.';\n",
              "          element.innerHTML = '';\n",
              "          dataTable['output_type'] = 'display_data';\n",
              "          await google.colab.output.renderOutput(dataTable, element);\n",
              "          const docLink = document.createElement('div');\n",
              "          docLink.innerHTML = docLinkHtml;\n",
              "          element.appendChild(docLink);\n",
              "        }\n",
              "      </script>\n",
              "    </div>\n",
              "  </div>\n",
              "  "
            ]
          },
          "metadata": {},
          "execution_count": 17
        }
      ]
    },
    {
      "cell_type": "code",
      "source": [
        "# build inference pipeline\n",
        "pipe = pipeline (\"text-classification\", model=model, tokenizer=tokenizer, device=0, batch_size = 8,function_to_apply='sigmoid' )\n",
        "tokenizer_kwargs = {'padding':'max_length','truncation':True,'max_length':100}"
      ],
      "metadata": {
        "id": "RRb13pbCKoFm"
      },
      "execution_count": null,
      "outputs": []
    },
    {
      "cell_type": "markdown",
      "source": [
        ""
      ],
      "metadata": {
        "id": "aZtNpP55nX8O"
      }
    },
    {
      "cell_type": "code",
      "source": [
        "# create huggingface dataset structure\n",
        "smaller_df = dq_check_no_dup_df.drop(columns=['sample_text'])\n",
        "dq_check_ds = Dataset.from_pandas(smaller_df)\n",
        "dq_check_ds"
      ],
      "metadata": {
        "colab": {
          "base_uri": "https://localhost:8080/"
        },
        "id": "dN3ulBPeULbd",
        "outputId": "af1b0da7-7e9d-4475-bfec-d68b832f91bc"
      },
      "execution_count": null,
      "outputs": [
        {
          "output_type": "execute_result",
          "data": {
            "text/plain": [
              "Dataset({\n",
              "    features: ['firm_name_txt', 'index', 'sample_text_lower', '__index_level_0__'],\n",
              "    num_rows: 272599\n",
              "})"
            ]
          },
          "metadata": {},
          "execution_count": 19
        }
      ]
    },
    {
      "cell_type": "code",
      "source": [
        "# run inference and store preds to results list of dicts\n",
        "results = []\n",
        "\n",
        "itr = 0\n",
        "for kds in tqdm(KeyDataset(dq_check_ds, \"sample_text_lower\")):\n",
        "  out = pipe (kds, **tokenizer_kwargs)[0]\n",
        "  out['lower_text'] = kds\n",
        "  results.append(out)\n",
        "  \n",
        "  itr += 1\n",
        "  if (itr % 10000 == 0):\n",
        "    print (out)"
      ],
      "metadata": {
        "id": "pl5zWulUCuMs",
        "outputId": "00ae344c-54fe-41ef-8d76-0e52e55dd0b6",
        "colab": {
          "base_uri": "https://localhost:8080/"
        }
      },
      "execution_count": null,
      "outputs": [
        {
          "output_type": "stream",
          "name": "stderr",
          "text": [
            "  4%|▎         | 10002/272599 [08:18<3:32:16, 20.62it/s]"
          ]
        },
        {
          "output_type": "stream",
          "name": "stdout",
          "text": [
            "{'label': 'LABEL_0', 'score': 0.9270698428153992, 'lower_text': 'the navistar® thermocool® and steer® thermocool® catheters are approved for the treatment of drug refractory recurrent symptomatic paroxysmal atrial fibrillation, when used with compatible three-dimensional electroanatomic mapping systems.\\n'}\n"
          ]
        },
        {
          "output_type": "stream",
          "name": "stderr",
          "text": [
            "  7%|▋         | 20003/272599 [16:39<3:25:54, 20.45it/s]"
          ]
        },
        {
          "output_type": "stream",
          "name": "stdout",
          "text": [
            "{'label': 'LABEL_0', 'score': 0.9099326133728027, 'lower_text': 'you may be given access to confidential information through the site or links from the site. you may not disclose confidential information to any third party without the written consent of dolby. you must protect confidential information with at least the same degree of care that is accorded to your confidential information, but in no event less than reasonable care. confidential information includes, but is not limited to, all nonpublic information regarding dolby, its intellectual property or its customers, products, quantity and prices of products purchased, design and development data, engineering details, drawings, sales and marketing plans, unannounced products, any information marked as \"confidential\" or \"proprietary\" or similarly marked, or any information that, if disclosed, might be competitively detrimental to dolby. you may have entered into separate nondisclosure agreements with governing specific disclosures. to the extent the terms governing a specific disclosure are more restrictive than the terms in this paragraph, the more restrictive terms will control for the specific disclosure.\\n'}\n"
          ]
        },
        {
          "output_type": "stream",
          "name": "stderr",
          "text": [
            " 11%|█         | 30003/272599 [24:54<3:27:41, 19.47it/s]"
          ]
        },
        {
          "output_type": "stream",
          "name": "stdout",
          "text": [
            "{'label': 'LABEL_0', 'score': 0.9318647384643555, 'lower_text': 'is recognized internally and externally for the diversity of our associates and our inclusive culture, driven by a d&strategy based upon concrete business, scientific, talent and reputational outcomes\\n'}\n"
          ]
        },
        {
          "output_type": "stream",
          "name": "stderr",
          "text": [
            " 15%|█▍        | 40002/272599 [33:04<3:06:38, 20.77it/s]"
          ]
        },
        {
          "output_type": "stream",
          "name": "stdout",
          "text": [
            "{'label': 'LABEL_0', 'score': 0.9149348139762878, 'lower_text': 'san antonio medical center\\n'}\n"
          ]
        },
        {
          "output_type": "stream",
          "name": "stderr",
          "text": [
            " 18%|█▊        | 50003/272599 [41:11<2:57:50, 20.86it/s]"
          ]
        },
        {
          "output_type": "stream",
          "name": "stdout",
          "text": [
            "{'label': 'LABEL_0', 'score': 0.8309967517852783, 'lower_text': 'apr. 1990joins yutaka miyanaga\\n'}\n"
          ]
        },
        {
          "output_type": "stream",
          "name": "stderr",
          "text": [
            " 22%|██▏       | 60004/272599 [49:12<2:49:23, 20.92it/s]"
          ]
        },
        {
          "output_type": "stream",
          "name": "stdout",
          "text": [
            "{'label': 'LABEL_0', 'score': 0.12607915699481964, 'lower_text': 'dori ellis\\n'}\n"
          ]
        },
        {
          "output_type": "stream",
          "name": "stderr",
          "text": [
            " 26%|██▌       | 70002/272599 [57:12<2:40:51, 20.99it/s]"
          ]
        },
        {
          "output_type": "stream",
          "name": "stdout",
          "text": [
            "{'label': 'LABEL_0', 'score': 0.7666402459144592, 'lower_text': 'heating, ventilation, climate\\n'}\n"
          ]
        },
        {
          "output_type": "stream",
          "name": "stderr",
          "text": [
            " 29%|██▉       | 80004/272599 [1:05:11<2:37:00, 20.45it/s]"
          ]
        },
        {
          "output_type": "stream",
          "name": "stdout",
          "text": [
            "{'label': 'LABEL_0', 'score': 0.9157922863960266, 'lower_text': 'not all products, services or offers are approved or offered in every market and approved labelling and instructions may vary from one country to another. for country specific product information, see the appropriate country website.\\n'}\n"
          ]
        },
        {
          "output_type": "stream",
          "name": "stderr",
          "text": [
            " 33%|███▎      | 90004/272599 [1:13:09<2:25:11, 20.96it/s]"
          ]
        },
        {
          "output_type": "stream",
          "name": "stdout",
          "text": [
            "{'label': 'LABEL_0', 'score': 0.8282966017723083, 'lower_text': '- - - single use components\\n'}\n"
          ]
        },
        {
          "output_type": "stream",
          "name": "stderr",
          "text": [
            " 37%|███▋      | 100002/272599 [1:21:03<2:16:57, 21.00it/s]"
          ]
        },
        {
          "output_type": "stream",
          "name": "stdout",
          "text": [
            "{'label': 'LABEL_0', 'score': 0.9259302616119385, 'lower_text': 'semiconductor lasers\\n'}\n"
          ]
        },
        {
          "output_type": "stream",
          "name": "stderr",
          "text": [
            " 40%|████      | 110002/272599 [1:28:58<2:08:11, 21.14it/s]"
          ]
        },
        {
          "output_type": "stream",
          "name": "stdout",
          "text": [
            "{'label': 'LABEL_0', 'score': 0.4862001836299896, 'lower_text': 'publications & abstracts\\n'}\n"
          ]
        },
        {
          "output_type": "stream",
          "name": "stderr",
          "text": [
            " 44%|████▍     | 120004/272599 [1:36:59<2:02:32, 20.75it/s]"
          ]
        },
        {
          "output_type": "stream",
          "name": "stdout",
          "text": [
            "{'label': 'LABEL_0', 'score': 0.7903949022293091, 'lower_text': 'the way(現way)を制定\\n'}\n"
          ]
        },
        {
          "output_type": "stream",
          "name": "stderr",
          "text": [
            " 48%|████▊     | 130002/272599 [1:45:01<1:53:35, 20.92it/s]"
          ]
        },
        {
          "output_type": "stream",
          "name": "stdout",
          "text": [
            "{'label': 'LABEL_0', 'score': 0.07483556866645813, 'lower_text': '+358 10 862 1051\\n'}\n"
          ]
        },
        {
          "output_type": "stream",
          "name": "stderr",
          "text": [
            " 51%|█████▏    | 140004/272599 [1:53:06<1:46:46, 20.70it/s]"
          ]
        },
        {
          "output_type": "stream",
          "name": "stdout",
          "text": [
            "{'label': 'LABEL_0', 'score': 0.2724936902523041, 'lower_text': '15,000,000 grams\\n'}\n"
          ]
        },
        {
          "output_type": "stream",
          "name": "stderr",
          "text": [
            " 55%|█████▌    | 150002/272599 [2:01:04<1:37:16, 21.00it/s]"
          ]
        },
        {
          "output_type": "stream",
          "name": "stdout",
          "text": [
            "{'label': 'LABEL_0', 'score': 0.9322437644004822, 'lower_text': '\"at merck, we have a belief that was first expressed by our modern-day founder, who said, \\'we try never to forget that medicine is for the people.\\' we live by those words. but with every fiber of her being, julie embodies them. and because she does, our company – and our world – are a better places.\"\\n'}\n"
          ]
        },
        {
          "output_type": "stream",
          "name": "stderr",
          "text": [
            " 59%|█████▊    | 160002/272599 [2:09:06<1:29:07, 21.06it/s]"
          ]
        },
        {
          "output_type": "stream",
          "name": "stdout",
          "text": [
            "{'label': 'LABEL_0', 'score': 0.9127178192138672, 'lower_text': 'implantology module\\n'}\n"
          ]
        },
        {
          "output_type": "stream",
          "name": "stderr",
          "text": [
            " 62%|██████▏   | 170003/272599 [2:17:08<1:22:17, 20.78it/s]"
          ]
        },
        {
          "output_type": "stream",
          "name": "stdout",
          "text": [
            "{'label': 'LABEL_0', 'score': 0.07363671809434891, 'lower_text': '9046580\\n'}\n"
          ]
        },
        {
          "output_type": "stream",
          "name": "stderr",
          "text": [
            " 66%|██████▌   | 180002/272599 [2:25:08<1:13:59, 20.86it/s]"
          ]
        },
        {
          "output_type": "stream",
          "name": "stdout",
          "text": [
            "{'label': 'LABEL_0', 'score': 0.06929577887058258, 'lower_text': 'jan 28 2019\\n'}\n"
          ]
        },
        {
          "output_type": "stream",
          "name": "stderr",
          "text": [
            " 70%|██████▉   | 190004/272599 [2:33:09<1:06:29, 20.70it/s]"
          ]
        },
        {
          "output_type": "stream",
          "name": "stdout",
          "text": [
            "{'label': 'LABEL_0', 'score': 0.913806676864624, 'lower_text': '2012 partner of the year\\n'}\n"
          ]
        },
        {
          "output_type": "stream",
          "name": "stderr",
          "text": [
            " 73%|███████▎  | 200003/272599 [2:41:09<58:15, 20.77it/s]"
          ]
        },
        {
          "output_type": "stream",
          "name": "stdout",
          "text": [
            "{'label': 'LABEL_0', 'score': 0.9093415141105652, 'lower_text': 'we are an energy company.\\n'}\n"
          ]
        },
        {
          "output_type": "stream",
          "name": "stderr",
          "text": [
            " 77%|███████▋  | 210003/272599 [2:49:11<51:16, 20.35it/s]"
          ]
        },
        {
          "output_type": "stream",
          "name": "stdout",
          "text": [
            "{'label': 'LABEL_0', 'score': 0.9335169196128845, 'lower_text': '- executive vice president, strategy, portfolio & alternative energy\\n'}\n"
          ]
        },
        {
          "output_type": "stream",
          "name": "stderr",
          "text": [
            " 81%|████████  | 220002/272599 [2:57:12<42:21, 20.69it/s]"
          ]
        },
        {
          "output_type": "stream",
          "name": "stdout",
          "text": [
            "{'label': 'LABEL_0', 'score': 0.06948334723711014, 'lower_text': '4,694\\n'}\n"
          ]
        },
        {
          "output_type": "stream",
          "name": "stderr",
          "text": [
            " 84%|████████▍ | 230003/272599 [3:05:13<34:01, 20.87it/s]"
          ]
        },
        {
          "output_type": "stream",
          "name": "stdout",
          "text": [
            "{'label': 'LABEL_0', 'score': 0.9317600727081299, 'lower_text': 'to develop the best products we can and to use our company to push for environmental and social changenvironmental change\\n'}\n"
          ]
        },
        {
          "output_type": "stream",
          "name": "stderr",
          "text": [
            " 88%|████████▊ | 240004/272599 [3:13:18<25:45, 21.08it/s]"
          ]
        },
        {
          "output_type": "stream",
          "name": "stdout",
          "text": [
            "{'label': 'LABEL_0', 'score': 0.9151761531829834, 'lower_text': 'international association of chiefs of police\\n'}\n"
          ]
        },
        {
          "output_type": "stream",
          "name": "stderr",
          "text": [
            " 92%|█████████▏| 250002/272599 [3:21:23<17:48, 21.14it/s]"
          ]
        },
        {
          "output_type": "stream",
          "name": "stdout",
          "text": [
            "{'label': 'LABEL_0', 'score': 0.91788250207901, 'lower_text': 'equal opportunity magazine top 50 employer\\n'}\n"
          ]
        },
        {
          "output_type": "stream",
          "name": "stderr",
          "text": [
            " 95%|█████████▌| 260004/272599 [3:29:28<10:14, 20.49it/s]"
          ]
        },
        {
          "output_type": "stream",
          "name": "stdout",
          "text": [
            "{'label': 'LABEL_0', 'score': 0.6159295439720154, 'lower_text': 'uw-oshkosh\\n'}\n"
          ]
        },
        {
          "output_type": "stream",
          "name": "stderr",
          "text": [
            " 99%|█████████▉| 270001/272599 [3:37:33<02:06, 20.57it/s]"
          ]
        },
        {
          "output_type": "stream",
          "name": "stdout",
          "text": [
            "{'label': 'LABEL_0', 'score': 0.923089861869812, 'lower_text': \"learn how and the nature conservancy are taking a science-based approach to preserving the environment in brazil, with praxair's greenway project.\\n\"}\n"
          ]
        },
        {
          "output_type": "stream",
          "name": "stderr",
          "text": [
            "100%|██████████| 272599/272599 [3:39:38<00:00, 20.68it/s]\n"
          ]
        }
      ]
    },
    {
      "cell_type": "code",
      "source": [
        "# write prediction results to file \n",
        "keys = results[0].keys()\n",
        "\n",
        "with open(results_file, 'w') as res_f:\n",
        "    dict_writer = csv.DictWriter(res_f, keys)\n",
        "    dict_writer.writeheader()\n",
        "    dict_writer.writerows(results)"
      ],
      "metadata": {
        "id": "GwsPvdoV8niq"
      },
      "execution_count": null,
      "outputs": []
    },
    {
      "cell_type": "markdown",
      "source": [
        "## Impute predictions into full dataset"
      ],
      "metadata": {
        "id": "ADTvMbBwNG_N"
      }
    },
    {
      "cell_type": "code",
      "source": [
        "# read model prediction results file and store in dictionary\n",
        "results_dict = {}\n",
        "\n",
        "with open(results_file, mode='r') as res_f:\n",
        "    reader = csv.reader(res_f)\n",
        "    next(reader)\n",
        "    results_dict = {rows[2]: float(rows[1]) for rows in reader}\n",
        "\n",
        "for k in list(results_dict.keys())[:10]:\n",
        "  print (k, results_dict[k])"
      ],
      "metadata": {
        "id": "B6oK797INZQm",
        "outputId": "3b2e957c-3919-4fb4-f5c9-180bdf3c9a39",
        "colab": {
          "base_uri": "https://localhost:8080/"
        }
      },
      "execution_count": null,
      "outputs": [
        {
          "output_type": "stream",
          "name": "stdout",
          "text": [
            "see our programs 0.13878001272678375\n",
            "see our impact 0.7193490266799927\n",
            "see our commitment 0.734010636806488\n",
            "see our efforts 0.085110142827034\n",
            "see our iconic brands 0.11456183344125748\n",
            "ingredients you can trust 0.9114071726799011\n",
            "see our safety process 0.7538415193557739\n",
            "force for good 0.07810583710670471\n",
            "force for growth 0.18520288169384003\n",
            "magnetics, magnetics, magnetics 0.9273517727851868\n"
          ]
        }
      ]
    },
    {
      "cell_type": "code",
      "source": [
        "# cycle through original files and impute predictions \n",
        "for filename in os.listdir(company_file_dir):\n",
        "  if filename.endswith('.txt'):\n",
        "    with open( os.path.join(company_file_dir, filename) ) as file_h:\n",
        "      print (\"Working on \" + filename)\n",
        "      co_keep_text = []\n",
        "      for line in file_h:\n",
        "        lc_line = line.lower().strip('\\n')\n",
        "        if (lc_line not in results_dict):\n",
        "          print (lc_line)\n",
        "        elif (results_dict[lc_line] > 0.5):\n",
        "          co_keep_text.append(line)\n",
        "\n",
        "  with open(garbage_out_file_dir + \"/\" + filename, 'w') as keep_f:\n",
        "    for text in co_keep_text:\n",
        "        keep_f.write(text)"
      ],
      "metadata": {
        "colab": {
          "base_uri": "https://localhost:8080/"
        },
        "id": "Ya8BbYdNMIgO",
        "outputId": "16a4ae35-7a19-4bf5-af11-6a40d6b44738"
      },
      "execution_count": null,
      "outputs": [
        {
          "output_type": "stream",
          "name": "stdout",
          "text": [
            "Working on Magnachip Semiconductor.txt\n",
            "Working on Cool Planet Energy Systems.txt\n",
            "Working on Two Blades Foundation.txt\n",
            "Working on CoolEarth Solar.txt\n",
            "Working on ASML Netherlands BV.txt\n",
            "Working on Nikon.txt\n",
            "Working on Nutech Ventures.txt\n",
            "Working on SolarLego.txt\n",
            "Working on Altex Technologies.txt\n",
            "Working on QUALCOMM.txt\n",
            "Working on Performance Plants.txt\n",
            "Working on Veracode.txt\n",
            "Working on Minebea Co.txt\n",
            "Working on SolAero Technologies Corp.txt\n",
            "Working on Aerogen.txt\n",
            "Working on UT-Battelle.txt\n",
            "Working on Rapamycin Holdings.txt\n",
            "Working on Samsung Electronics.txt\n",
            "Working on Michigan Biotechnology Institute.txt\n",
            "Working on Dexerials.txt\n",
            "Working on Teradata US.txt\n",
            "Working on Arkema.txt\n",
            "Working on Nanomix.txt\n",
            "Working on Gracenote.txt\n",
            "Working on Revera.txt\n",
            "Working on Turf Group.txt\n",
            "Working on Plant Sensory Systems.txt\n",
            "Working on Nippon Shokubai Co.txt\n",
            "Working on HARMAN INDUSTRIES.txt\n",
            "Working on Midrex Technologies.txt\n",
            "Working on KT.txt\n",
            "Working on AC.txt\n",
            "Working on Medicis Pharmaceutical.txt\n",
            "Working on Paratek Pharmaceuticals.txt\n",
            "Working on NGK Spark Plug Co.txt\n",
            "Working on Intuitive Surgical Operations.txt\n",
            "Working on Maxout Renewables.txt\n",
            "Working on Texas Research.txt\n",
            "Working on Johnson & Johnson Vision Care.txt\n",
            "Working on Kemira OY.txt\n",
            "Working on ITN Energy Systems.txt\n",
            "Working on Novozymes AS.txt\n",
            "Working on SPC.txt\n",
            "Working on Amgen Fremont.txt\n",
            "Working on Brewer Science.txt\n",
            "Working on MicroLink Devices.txt\n",
            "Working on Kao.txt\n",
            "Working on Triple Ring Technologies.txt\n",
            "Working on Sangamo BioSciences.txt\n",
            "Working on Professional Compounding Centers of America.txt\n",
            "Working on Schlumberger Technology.txt\n",
            "Working on Richtek Technology.txt\n",
            "Working on WestPoint Home.txt\n",
            "Working on JAC Products.txt\n",
            "Working on Morpho.txt\n",
            "Working on Envision Solar.txt\n",
            "Working on Perkinelmer Holdings.txt\n",
            "Working on Lumenco.txt\n",
            "Working on Ethicon Endo-Surgery.txt\n",
            "Working on Grandis.txt\n",
            "Working on NOVA Chemicals (International) SA.txt\n",
            "Working on Cree.txt\n",
            "Working on SEaB Energy Holdings.txt\n",
            "Working on PPG Industries Ohio.txt\n",
            "Working on Arrowhead Center.txt\n",
            "Working on Express Imaging Systems.txt\n",
            "Working on Rima Enterprises.txt\n",
            "Working on Galectin Therapeutics.txt\n",
            "Working on INTEVAC.txt\n",
            "Working on Nanosys.txt\n",
            "Working on AbbVie.txt\n",
            "Working on Anelva.txt\n",
            "Working on Alpha and Omega Semiconductor.txt\n",
            "Working on Armageddon Energy.txt\n",
            "Working on GE Healthcare Dharmacon.txt\n",
            "Working on Gtech.txt\n",
            "Working on Dana-Farber Cancer Institute.txt\n",
            "Working on Bi-Modal.txt\n",
            "Working on Biocon Limited.txt\n",
            "Working on Phoseon Technology.txt\n",
            "Working on Bayer Materialscience.txt\n",
            "Working on Nanoquantum Sciences.txt\n",
            "Working on MAHLE.txt\n",
            "Working on NovaSolix.txt\n",
            "Working on Avery Dennison.txt\n",
            "Working on GLYCON.txt\n",
            "Working on Saint-Gobain Ceramics & Plastics.txt\n",
            "Working on Chevron Phillips Chemical Company LP.txt\n",
            "Working on SOL-ELECTRICA.txt\n",
            "Working on Nova Technologies.txt\n",
            "Working on PetraSolar.txt\n",
            "Working on One Earth Designs.txt\n",
            "Working on Fuji Electric Co.txt\n",
            "Working on Ormat Technologies.txt\n",
            "Working on ESCAPE THERAPEUTICS.txt\n",
            "Working on ServiceNow.txt\n",
            "Working on Instron.txt\n",
            "Working on Kia Motors.txt\n",
            "Working on LATITUDE PHARMACEUTICALS.txt\n",
            "Working on Hunter Douglas.txt\n",
            "Working on Unifrax I.txt\n",
            "Working on Semiconductor Energy Laboratory Co.txt\n",
            "Working on Veracyte.txt\n",
            "Working on Pegatron.txt\n",
            "Working on GlassPoint Solar.txt\n",
            "Working on Mattson Technology.txt\n",
            "Working on ACUCELA.txt\n",
            "Working on Calient Technologies.txt\n",
            "Working on AVOGY.txt\n",
            "Working on Roll-N-Lock.txt\n",
            "Working on Delphi Technologies.txt\n",
            "Working on Koch Biological Solutions.txt\n",
            "Working on Crestovo.txt\n",
            "Working on Opel Solar.txt\n",
            "Working on Olympus NDT.txt\n",
            "Working on Star Technology and Research.txt\n",
            "Working on Watlow Electric Manufacturing Company.txt\n",
            "Working on Englewood Lab.txt\n",
            "Working on Banpil Photonics.txt\n",
            "Working on Danisco US.txt\n",
            "Working on ZIH Corp.txt\n",
            "Working on Bluestar Silicones France.txt\n",
            "Working on ProNAi Therapeutics.txt\n",
            "Working on Allertein Therapeutics.txt\n",
            "Working on Ambature.txt\n",
            "Working on Novon.txt\n",
            "Working on ACell.txt\n",
            "Working on Meso Scale Technologies.txt\n",
            "Working on Siemens Medical Solutions USA.txt\n",
            "Working on Qiagen.txt\n",
            "Working on JFE STEEL.txt\n",
            "Working on Johnson & Johnson Consumer Companies.txt\n",
            "Working on Canon Kabushiki Kaisha.txt\n",
            "Working on HRL Laboratories.txt\n",
            "Working on Quantum Materials.txt\n",
            "Working on Kureha.txt\n",
            "Working on Newport.txt\n",
            "Working on Weatherford Canada Partnership.txt\n",
            "Working on Bend Research.txt\n",
            "Working on INFINEUM LIMITED.txt\n",
            "Working on Little Kids.txt\n",
            "Working on BlackBerry Limited.txt\n",
            "Working on Casio Computer Co.txt\n",
            "Working on AMPT.txt\n",
            "Working on Neumedicines.txt\n",
            "Working on GED Intergrated Solution.txt\n",
            "Working on Confluence Energy.txt\n",
            "Working on Biotta.txt\n",
            "Working on Solaire Generation.txt\n",
            "Working on Novus Technology.txt\n",
            "Working on Previvo Genetics.txt\n",
            "Working on Ricoh Company Limited.txt\n",
            "Working on VEECO PRECISION SURFACE PROCESSING.txt\n",
            "Working on Roche Molecular Systems.txt\n",
            "Working on OPTERRA ENERGY SERVICES.txt\n",
            "Working on Zephyr Energy Systems.txt\n",
            "Working on GCP Applied Technologies.txt\n",
            "Working on HNO Greenfuels.txt\n",
            "Working on Adeka.txt\n",
            "Working on Verliant Energy.txt\n",
            "Working on ConocoPhillips Company.txt\n",
            "Working on Fina Technology.txt\n",
            "Working on Dermazone Solutions.txt\n",
            "Working on Custom Electronics.txt\n",
            "Working on Ortho-Clinical Diagnostics.txt\n",
            "Working on Dresser-Rand Company.txt\n",
            "Working on Entech Solar.txt\n",
            "Working on ENI SpA.txt\n",
            "Working on Abengoa Bioenergy New Technologies.txt\n",
            "Working on ElectraTherm.txt\n",
            "Working on Finisar.txt\n",
            "Working on Integrated Nano-Technologies.txt\n",
            "Working on Livetv.txt\n",
            "Working on Xerox.txt\n",
            "Working on Agilent Technologies.txt\n",
            "Working on Owens-Brockway Glass Container.txt\n",
            "Working on Zeno Semiconductor.txt\n",
            "Working on Seiko Instruments.txt\n",
            "Working on International Technology Center.txt\n",
            "Working on TMC.txt\n",
            "Working on Bisco.txt\n",
            "Working on BG Negev Technologies and Applications.txt\n",
            "Working on Intellectual Keystone Technology.txt\n",
            "Working on Headway Technologies.txt\n",
            "Working on Caribou Biosciences.txt\n",
            "Working on INVISTA North America Sarl.txt\n",
            "Working on Synaptic Research.txt\n",
            "Working on AT&T.txt\n",
            "Working on Kala Pharmaceuticals.txt\n",
            "Working on NEC.txt\n",
            "Working on Solarmer Energy.txt\n",
            "Working on Energysolutions.txt\n",
            "Working on Arpin Renewable Energy.txt\n",
            "Working on Cross Match Technologies.txt\n",
            "Working on Lake Lite.txt\n",
            "Working on Kansai Paint Co.txt\n",
            "Working on Sustainable Technologies.txt\n",
            "Working on Masimo Semiconductor.txt\n",
            "Working on Hyundai Motor Company.txt\n",
            "Working on Industrial Technology Research Institute.txt\n",
            "Working on Nordson.txt\n",
            "Working on NanoTech Lubricants.txt\n",
            "Working on Accuri Cytometers.txt\n",
            "Working on Kodak Alaris.txt\n",
            "Working on DEKA Products Limited Partnership.txt\n",
            "Working on Marine Polymer Technologies.txt\n",
            "Working on Roche Diagnostics.txt\n",
            "Working on Biosphere Medical.txt\n",
            "Working on GROW ENERGY.txt\n",
            "Working on EMD Technologies.txt\n",
            "Working on Kashiv Pharma.txt\n",
            "Working on Sion Power.txt\n",
            "Working on FastCAP Systems.txt\n",
            "Working on CLEARSIGN COMBUSTION.txt\n",
            "Working on Hysitron.txt\n",
            "Working on Unity Semiconductor.txt\n",
            "Working on SRG Global.txt\n",
            "Working on Sola USA.txt\n",
            "Working on GENERAL MOTORS.txt\n",
            "Working on WiSys Technology Foundation.txt\n",
            "Working on KR Design House.txt\n",
            "Working on Selas Heat Technology Company.txt\n",
            "Working on Archer Daniels Midland Company.txt\n",
            "Working on BioNano Genomics.txt\n",
            "Working on Life Technologies.txt\n",
            "Working on JNC.txt\n",
            "Working on Pendar Technologies.txt\n",
            "Working on Commonwealth Scientific & Industrial Research Organization.txt\n",
            "Working on ATTOSTAT.txt\n",
            "Working on Entegris.txt\n",
            "Working on CMC ICOS BIOLOGICS.txt\n",
            "Working on GOJO Industries.txt\n",
            "Working on SunEdison Semiconductor Limited.txt\n",
            "Working on Dymax.txt\n",
            "Working on ASCENT SOLAR TECHNOLOGIES.txt\n",
            "Working on Litron Laboratories Limited.txt\n",
            "Working on Angaza Design.txt\n",
            "Working on Mitsubishi Metal.txt\n",
            "Working on NeuMoDx Molecular.txt\n",
            "Working on SunEdison.txt\n",
            "Working on NCC Nano.txt\n",
            "Working on IMEC.txt\n",
            "Working on Georgia-Pacific Gypsum.txt\n",
            "Working on Tosoh.txt\n",
            "Working on Pacific Biosciences of California.txt\n",
            "Working on Solvay Specialty Polymers USA.txt\n",
            "Working on HM3 Energy.txt\n",
            "Working on Milliken & Company.txt\n",
            "Working on The Babcock & Wilcox Company.txt\n",
            "Working on KOLO TECHNOLOGIES.txt\n",
            "Working on Ansun Biopharma.txt\n",
            "Working on Revivicor.txt\n",
            "Working on GLIKNIK.txt\n",
            "Working on Evoqua Water Technologies.txt\n",
            "Working on Vadient Optics.txt\n",
            "Working on Bostik.txt\n",
            "Working on Da Yu Enterprises.txt\n",
            "Working on SAMSUNG DISPLAY CO.txt\n",
            "Working on Regeneron Pharmaceuticals.txt\n",
            "Working on Rockwell Automation Technologies.txt\n",
            "Working on Pharmatrophix.txt\n",
            "Working on Narsys.txt\n",
            "Working on Freescale Semiconductor.txt\n",
            "Working on Toray Plastics (America).txt\n",
            "Working on Stablcor Technology.txt\n",
            "Working on SolarReserve Technology.txt\n",
            "Working on Aurrion.txt\n",
            "Working on Ignis Innovation.txt\n",
            "Working on Boehringer Ingelheim Vetmedica.txt\n",
            "Working on Rohm and Haas Electronic Materials.txt\n",
            "Working on OBI.txt\n",
            "Working on W&Wsens Devices.txt\n",
            "Working on Shin-Etsu Chemical Co.txt\n",
            "Working on Linne Industries.txt\n",
            "Working on Piksel.txt\n",
            "Working on Plasma-Therm.txt\n",
            "Working on Cima NanoTech Israel.txt\n",
            "Working on Empire Technology Development.txt\n",
            "Working on Warsaw Orthopedic.txt\n",
            "Working on BASF.txt\n",
            "Working on Bemis Company.txt\n",
            "Working on NanoOncology.txt\n",
            "Working on Bausch & Lomb.txt\n",
            "Working on Yissum.txt\n",
            "Working on Taiyo Ink Mfg Co.txt\n",
            "Working on Proterra.txt\n",
            "Working on THE BOARD INSTITUTE.txt\n",
            "Working on eNow.txt\n",
            "Working on Conexant Systems.txt\n",
            "Working on Northwest Biotherapeutics.txt\n",
            "Working on PluroGen Therapeutics.txt\n",
            "Working on Microchips Biotech.txt\n",
            "Working on Dialight.txt\n",
            "Working on Honda Motor Co.txt\n",
            "Working on Hon Hai Precision Industry Co.txt\n",
            "Working on Skidmore.txt\n",
            "Working on Andritz.txt\n",
            "Working on Innovation Hammer.txt\n",
            "Working on Conversant Intellectual Property Management.txt\n",
            "Working on Power Integrations.txt\n",
            "Working on Avtaec Limited.txt\n",
            "Working on Sanofi.txt\n",
            "Working on UChicago Argonne.txt\n",
            "Working on MicroContinuum.txt\n",
            "Working on Integrated DNA Technologies.txt\n",
            "Working on JX Nippon Mining & Metals.txt\n",
            "Working on Sensor-Kinesis.txt\n",
            "Working on Silicon Genesis.txt\n",
            "Working on PolyPlus Battery Company.txt\n",
            "Working on TRIDONIC & CO KG.txt\n",
            "Working on Atrium Medical.txt\n",
            "Working on GDO.txt\n",
            "Working on Leap Frogg.txt\n",
            "Working on Floadia.txt\n",
            "Working on UNISANTIS ELECTRONICS SINGAPORE PTE.txt\n",
            "Working on Continental Manufacturing.txt\n",
            "Working on PolyOne.txt\n",
            "Working on NANOBIO.txt\n",
            "Working on L-3 Communications Cincinnati Electronics.txt\n",
            "Working on Cadence Design Systems.txt\n",
            "Working on Auterra.txt\n",
            "Working on Buckman Laboratories.txt\n",
            "Working on The Paymaster.txt\n",
            "Working on Basell Polyolefine.txt\n",
            "Working on Ostendo Technologies.txt\n",
            "Working on SunRun.txt\n",
            "Working on Wikipad.txt\n",
            "Working on mVerify.txt\n",
            "Working on Gemex Systems.txt\n",
            "Working on Advanced Analogic Technologies.txt\n",
            "Working on Adhesives Research.txt\n",
            "Working on Transilwrap Company.txt\n",
            "Working on Micron Technology.txt\n",
            "Working on Abbott Cardiovascular Systems.txt\n",
            "Working on Nippon Chemi-Con.txt\n",
            "Working on Turtle Beach.txt\n",
            "Working on Wave Energy Conversion of America.txt\n",
            "Working on Kinetech Power Company.txt\n",
            "Working on Adobe Systems.txt\n",
            "Working on HTC.txt\n",
            "Working on SolarWorld Americas.txt\n",
            "Working on Momentive Performance Materials.txt\n",
            "Working on Chipmos Technologies.txt\n",
            "Working on Takara Bio.txt\n",
            "Working on CellPrint IP Holding.txt\n",
            "Working on Pixelligent Technologies.txt\n",
            "Working on Agena Bioscience.txt\n",
            "Working on RJ Reynolds Tobacco Company.txt\n",
            "Working on 22nd Century Limited.txt\n",
            "Working on Rockwell Collins.txt\n",
            "Working on Virent.txt\n",
            "Working on Amicus Therapeutics.txt\n",
            "Working on Arkival Technology Corp.txt\n",
            "Working on SAINT-GOBAIN ABRASIFS.txt\n",
            "Working on WAFERTECH.txt\n",
            "Working on Sumco.txt\n",
            "Working on Angiotech Pharmaceuticals (US).txt\n",
            "Working on Pacific Light Technologies.txt\n",
            "Working on Mediatek.txt\n",
            "Working on Cedar Ridge Research.txt\n",
            "Working on Agrivida.txt\n",
            "Working on Alcatel Lucent.txt\n",
            "Working on ADVANCED CERAMIC FIBERS.txt\n",
            "Working on Quantum Devices.txt\n",
            "Working on Bioneer.txt\n",
            "Working on Locus Energy.txt\n",
            "Working on Sumitomo Electric Device Innovations.txt\n",
            "Working on Syngenta Participations AG.txt\n",
            "Working on Canon Nanotechnologies.txt\n",
            "Working on Medical Diagnostic Laboratories.txt\n",
            "Working on The Carbon Cable Company.txt\n",
            "Working on TDK.txt\n",
            "Working on Autonomic Materials.txt\n",
            "Working on Fianium.txt\n",
            "Working on Imperial Innovations Limited.txt\n",
            "Working on Global Solar Water Power Systems.txt\n",
            "Working on Egenera.txt\n",
            "Working on Tufts Medical Center.txt\n",
            "Working on Agienic.txt\n",
            "Working on Starlight Energy Holdings.txt\n",
            "Working on Robert Bosch.txt\n",
            "Working on Senga Advisors.txt\n",
            "Working on PLEX.txt\n",
            "Working on Thorn Bioscience.txt\n",
            "Working on II-VI.txt\n",
            "Working on Daylight Solutions.txt\n",
            "Working on BRIGHTLEAF TECHNOLOGIES.txt\n",
            "Working on Dialogic.txt\n",
            "Working on Cook Biotech.txt\n",
            "Working on Winecom.txt\n",
            "Working on COOK MEDICAL TECHNOLOGIES.txt\n",
            "Working on Genzyme.txt\n",
            "Working on Seiko Epson.txt\n",
            "Working on OLYMPUS.txt\n",
            "Working on KYOCERA DOCUMENT SOLUTIONS.txt\n",
            "Working on Hunt Energy Enterprises.txt\n",
            "Working on Applied Optoelectronics.txt\n",
            "Working on AVI BioPharma.txt\n",
            "Working on IDEALAB.txt\n",
            "Working on SEIKO NPC.txt\n",
            "Working on SunLink.txt\n",
            "Working on PNM.txt\n",
            "Working on Eaton.txt\n",
            "Working on SII Semiconductor.txt\n",
            "Working on Newdoll Enterprises.txt\n",
            "Working on Pentron Clinical Technologies.txt\n",
            "Working on VIOLIN MEMORY.txt\n",
            "Working on Sunlight Photonics.txt\n",
            "Working on Cristal USA.txt\n",
            "Working on aTyr Pharma.txt\n",
            "Working on Transitions Optical.txt\n",
            "Working on Mitsubishi Electric.txt\n",
            "Working on BERKEN ENERGY.txt\n",
            "Working on OFS Fitel.txt\n",
            "Working on Bell Helicopter Textron.txt\n",
            "Working on Community Power.txt\n",
            "Working on Heidelberger Druckmaschinen AG.txt\n",
            "Working on Fluidigm.txt\n",
            "Working on CARBO Ceramics.txt\n",
            "Working on Sundrop Fuels.txt\n",
            "Working on Chromalox.txt\n",
            "Working on Chemtreat.txt\n",
            "Working on RenovaCare Sciences Corp.txt\n",
            "Working on Tyco Electronics.txt\n",
            "Working on Oculus VR.txt\n",
            "Working on Claret Medical.txt\n",
            "Working on Simbol.txt\n",
            "Working on Neural Signals.txt\n",
            "Working on Rio Grande Valley Sugar Growers.txt\n",
            "Working on Swagelok Company.txt\n",
            "Working on DRS Network & Imaging Systems.txt\n",
            "Working on Korea Kumho Petrochemical Co.txt\n",
            "Working on Flextronics AP.txt\n",
            "Working on Denso.txt\n",
            "Working on U S MICROPOWER.txt\n",
            "Working on SICPA Holding SA.txt\n",
            "Working on DNA Twopointo.txt\n",
            "Working on St Jude Medical.txt\n",
            "Working on E Techorporation.txt\n",
            "Working on Johnson Matthey PLC.txt\n",
            "Working on Tokyo Ohka Kogyo Co.txt\n",
            "Working on Sandia.txt\n",
            "Working on Allison Transmission.txt\n",
            "Working on Nanoco Technologies.txt\n",
            "Working on WOVN.txt\n",
            "Working on Hollingsworth & Vose Company.txt\n",
            "Working on STANDARD ALCOHOL COMPANY OF AMERICA.txt\n",
            "Working on Centre de Recherche Industrielle du Quebec.txt\n",
            "Working on GENERAL ELECTRIC COMPANY.txt\n",
            "Working on DHPC TECHNOLOGIES.txt\n",
            "Working on Siliconware Precision Industries Co.txt\n",
            "Working on E Ink.txt\n",
            "Working on Total Marketing Services.txt\n",
            "Working on Celanese.txt\n",
            "Working on Propagation Research Associates.txt\n",
            "Working on Hadasit Medical Research Services & Development Company.txt\n",
            "Working on RES USA.txt\n",
            "Working on Forest Concepts.txt\n",
            "Working on Oracle.txt\n",
            "Working on Janssen Biotech.txt\n",
            "Working on Beryllium Discovery Corp.txt\n",
            "Working on Atleisure.txt\n",
            "Working on Alcotek.txt\n",
            "Working on Bayer Cropscience AG.txt\n",
            "Working on Genesco.txt\n",
            "Working on ARBOR THERAPEUTICS.txt\n",
            "Working on S C Johnson & Son.txt\n",
            "Working on Lextar Electronics Corp.txt\n",
            "Working on ExxonMobil Chemical Patents.txt\n",
            "Working on Renewable Power Conversion.txt\n",
            "Working on Rolls-Royce PLC.txt\n",
            "Working on Pixar.txt\n",
            "Working on Coactive Drive.txt\n",
            "Working on Singular Bio.txt\n",
            "Working on BASF Coatings.txt\n",
            "Working on BP North America.txt\n",
            "Working on Meyer Tool.txt\n",
            "Working on SB ENERGY.txt\n",
            "Working on Nissan North America.txt\n",
            "Working on ExxonMobil Upstream Research Company.txt\n",
            "Working on Wenger.txt\n",
            "Working on ASTUTE MEDICAL.txt\n",
            "Working on GE Healthcare Limited.txt\n",
            "Working on Advanced Aqua Group.txt\n",
            "Working on FEI Company.txt\n",
            "Working on Hitachi High-Technologies.txt\n",
            "Working on United Microelectronics Corp.txt\n",
            "Working on Nederlandse Organisatie voor toegepast-natuurwetenschappelijk onderzoek TNO.txt\n",
            "Working on Parion Sciences.txt\n",
            "Working on Electronic Warfare Associates.txt\n",
            "Working on Vizio.txt\n",
            "Working on Solan.txt\n",
            "Working on Kraton Polymers US.txt\n",
            "Working on GOSOLARLIFE.txt\n",
            "Working on PortaFire.txt\n",
            "Working on Sweetwater Energy.txt\n",
            "Working on MIETAMARK GENETICS.txt\n",
            "Working on Chevron USA.txt\n",
            "Working on Elwha.txt\n",
            "Working on Arcturus Therapeutics.txt\n",
            "Working on Bio-Rad Laboratories.txt\n",
            "Working on Ampio Pharmaceuticals.txt\n",
            "Working on Semprius.txt\n",
            "Working on Delta Electronics.txt\n",
            "Working on Tokyo Electron Limited.txt\n",
            "Working on Kajima.txt\n",
            "Working on BTU.txt\n",
            "Working on Battelle Memorial Institute.txt\n",
            "Working on KJ BIOSCIENCES.txt\n",
            "Working on Hitachi Metals.txt\n",
            "Working on Newlans.txt\n",
            "Working on Novus Energy.txt\n",
            "Working on nLIGHT.txt\n",
            "Working on Toray Industries.txt\n",
            "Working on Cellular Research.txt\n",
            "Working on LUCERA LABS.txt\n",
            "Working on DePuy Synthes Products.txt\n",
            "Working on Sysmex.txt\n",
            "Working on Nvidia.txt\n",
            "Working on Lattice Semiconductor.txt\n",
            "Working on Tigo Energy.txt\n",
            "Working on Adlens Beacon.txt\n",
            "Working on Neutronic Perpetual Innovations.txt\n",
            "Working on Synopsys.txt\n",
            "Working on Solar Junction.txt\n",
            "Working on Sumitomo Electric Industries.txt\n",
            "Working on Formula Plastics.txt\n",
            "Working on Landauer.txt\n",
            "Working on Schneider Electric Solar Inverters USA.txt\n",
            "Working on Biological Dynamics.txt\n",
            "Working on Federal Signal.txt\n",
            "Working on Oki Data.txt\n",
            "Working on Sinton Consulting.txt\n",
            "Working on Canon US Life Sciences.txt\n",
            "Working on Elenion Technologies.txt\n",
            "Working on Selkermetrics.txt\n",
            "Working on Liquidia Technologies.txt\n",
            "Working on ALGETERNAL TECHNOLOGIES.txt\n",
            "Working on Graphene Technologies.txt\n",
            "Working on Blue Sea Systems.txt\n",
            "Working on Intermolecular.txt\n",
            "Working on Ferro.txt\n",
            "Working on Sanuvox Technologies.txt\n",
            "Working on ABB AB.txt\n",
            "Working on Ube Industries.txt\n",
            "Working on CP KELCO APS.txt\n",
            "Working on Clean Energy Labs.txt\n",
            "Working on TECNIUM.txt\n",
            "Working on Nanocopocia.txt\n",
            "Working on Xyleco.txt\n",
            "Working on System Biosciences.txt\n",
            "Working on Amprius.txt\n",
            "Working on Conoco.txt\n",
            "Working on Courtagen Life Sciences.txt\n",
            "Working on Green Solar Transportation.txt\n",
            "Working on Lion Copolymer Geismar.txt\n",
            "Working on Deployable Space Systems.txt\n",
            "Working on MERCK SHARP & DOHME CORP.txt\n",
            "Working on HGST NETHERLANDS BV.txt\n",
            "Working on MANUFACTURING RESOURCES.txt\n",
            "Working on Sun Chemical.txt\n",
            "Working on Inaeris Technologies.txt\n",
            "Working on HAMAMATSU PHOTONICS KK.txt\n",
            "Working on J E WHITE.txt\n",
            "Working on UCB Pharma SA.txt\n",
            "Working on MICROMIDAS.txt\n",
            "Working on Nordic Technologies.txt\n",
            "Working on H R D.txt\n",
            "Working on Raytheon Company.txt\n",
            "Working on Amtech Systems.txt\n",
            "Working on SPICE SOLAR.txt\n",
            "Working on First Solar.txt\n",
            "Working on Applied Membrane Technologies.txt\n",
            "Working on Terra Caloric.txt\n",
            "Working on Luna Innovations.txt\n",
            "Working on Siluria Technologies.txt\n",
            "Working on Princeton Optronics.txt\n",
            "Working on FutureWei Technologies.txt\n",
            "Working on Hitachi.txt\n",
            "Working on Kamtec.txt\n",
            "Working on Hewlett Packard Enterprise Development LP.txt\n",
            "Working on THYSSENKRUPP INDUSTRIAL SOLUTIONS.txt\n",
            "Working on Brookhaven Science Associates.txt\n",
            "Working on Fenwal.txt\n",
            "Working on Amkor Technology.txt\n",
            "Working on Iogen.txt\n",
            "Working on ATC Technologies.txt\n",
            "Working on Carestream Health.txt\n",
            "Working on Tela Innovations.txt\n",
            "Working on Illinois Tool Works.txt\n",
            "Working on Rebellion Photonics.txt\n",
            "Working on TRI ALPHA ENERGY.txt\n",
            "Working on BAE Systems Information and Electronic Systems Integration.txt\n",
            "Working on Biosense Webster (Israel).txt\n",
            "Working on CyboEnergy.txt\n",
            "Working on ADMA Products.txt\n",
            "Working on Honeywell.txt\n",
            "Working on St Microelectronics.txt\n",
            "Working on Butamax(TM) Advanced Biofuels.txt\n",
            "Working on Bestway.txt\n",
            "Working on Sienna Biopharmaceuticals.txt\n",
            "Working on Ivoclar Vivadent AG.txt\n",
            "Working on Tersus Environmental.txt\n",
            "Working on OmniVision Technologies.txt\n",
            "Working on Envisionit.txt\n",
            "Working on Peytant Solutions.txt\n",
            "Working on Microchip Technology.txt\n",
            "Working on Southwest Research Institute.txt\n",
            "Working on Faurecia Interior Systems.txt\n",
            "Working on Angstron Materials.txt\n",
            "Working on Silicon Storage Technology.txt\n",
            "Working on Codexis.txt\n",
            "Working on MICROSOFT TECHNOLOGY LICENSING.txt\n",
            "Working on Hollywood Trucks.txt\n",
            "Working on Sharp Laboratories of America.txt\n",
            "Working on Ablexis.txt\n",
            "Working on Sick AG.txt\n",
            "Working on MBC Ventures.txt\n",
            "Working on NANO CELL SYSTEMS.txt\n",
            "Working on PDF Solutions.txt\n",
            "Working on Heraeus Precious Metals North America Conshohocken.txt\n",
            "Working on PACCAR.txt\n",
            "Working on Palo Alto Research Center.txt\n",
            "Working on RA Miller Industries.txt\n",
            "Working on Deep Science.txt\n",
            "Working on Reliance Controls.txt\n",
            "Working on Gas Technology Institute.txt\n",
            "Working on Fairchild Semiconductor.txt\n",
            "Working on Microsemi SoC.txt\n",
            "Working on Bridgestone.txt\n",
            "Working on Avon Products.txt\n",
            "Working on Soraa.txt\n",
            "Working on Materia.txt\n",
            "Working on Hynix Semiconductor.txt\n",
            "Working on KOLON INDUSTRIES.txt\n",
            "Working on Stora Enso Oyj.txt\n",
            "Working on SolaBlock.txt\n",
            "Working on Xintec.txt\n",
            "Working on AGC Flat Glass North America.txt\n",
            "Working on AG ENERGY SOLUTIONS.txt\n",
            "Working on Waters Technologies.txt\n",
            "Working on Nanospectra Biosciences.txt\n",
            "Working on SixPoint Materials.txt\n",
            "Working on Crystalplex.txt\n",
            "Working on Kerr.txt\n",
            "Working on Pulse Therapeutics.txt\n",
            "Working on MCI.txt\n",
            "Working on Heat Seal.txt\n",
            "Working on Supremex.txt\n",
            "Working on Eisai Co.txt\n",
            "Working on PELLION TECHNOLOGIES.txt\n",
            "Working on United Technologies.txt\n",
            "Working on Sequenom.txt\n",
            "Working on Seagate Technology.txt\n",
            "Working on Coloplast AS.txt\n",
            "Working on Northrop Grumman Systems.txt\n",
            "Working on American Air Liquide.txt\n",
            "Working on Takeda Pharmaceutical Company Limited.txt\n",
            "Working on VINYLAST.txt\n",
            "Working on Cardiva Medical.txt\n",
            "Working on Eastman Chemical Company.txt\n",
            "Working on McAlister Technologies.txt\n",
            "Working on American Science and Technology.txt\n",
            "Working on Selecta Biosciences.txt\n",
            "Working on Babcock Power Services.txt\n",
            "Working on Disney Enterprises.txt\n",
            "Working on NLT TECHNOLOGIES.txt\n",
            "Working on Sanken Electric Co.txt\n",
            "Working on Evernote.txt\n",
            "Working on Fuji Xerox Co.txt\n",
            "Working on Tamura.txt\n",
            "Working on Tapwave.txt\n",
            "Working on Areesys Technologies.txt\n",
            "Working on Mainstream Engineering Corp.txt\n",
            "Working on GangaGen.txt\n",
            "Working on Furukawa Electric Co.txt\n",
            "Working on Ford Global Technologies.txt\n",
            "Working on Synthetic Genomics.txt\n",
            "Working on Invensas.txt\n",
            "Working on Foret Plasma Labs.txt\n",
            "Working on FUJIFILM Dimatix.txt\n",
            "Working on Travis Industries.txt\n",
            "Working on LG Electronics.txt\n",
            "Working on AltaRock Energy.txt\n",
            "Working on Infineon Technologies AG.txt\n",
            "Working on Cbrite.txt\n",
            "Working on Nanotech Biomachines.txt\n",
            "Working on BROADCOM.txt\n",
            "Working on NeoVision.txt\n",
            "Working on Poly-Med.txt\n",
            "Working on SUNSALUTER.txt\n",
            "Working on Marathon Equipment Company.txt\n",
            "Working on Epizyme.txt\n",
            "Working on Uniseal Solutions.txt\n",
            "Working on Yamaha.txt\n",
            "Working on New Technology Ventures.txt\n",
            "Working on Kimberly-Clark Worldwide.txt\n",
            "Working on ZENA TECHNOLOGIES.txt\n",
            "Working on Teledyne Scientific & Imaging.txt\n",
            "Working on SYNTHOMER USA.txt\n",
            "Working on AGFA-GEVAERT NV.txt\n",
            "Working on Immunolight.txt\n",
            "Working on Chevron Oronitz Company.txt\n",
            "Working on ATOMERA.txt\n",
            "Working on AFMODEL.txt\n",
            "Working on Sagacious Investment Group LLC.txt\n",
            "Working on Genisphere.txt\n",
            "Working on Carl Zeiss Meditec AG.txt\n",
            "Working on Photon Dynamics.txt\n",
            "Working on iNanoBio.txt\n",
            "Working on Advanced Silicon Group.txt\n",
            "Working on Magnolia Optical Technologies.txt\n",
            "Working on Em-Tech.txt\n",
            "Working on Baxter Healthcare SA.txt\n",
            "Working on COVERIS FLEXIBLES US.txt\n",
            "Working on DISCOVERYBIOMED.txt\n",
            "Working on Longhorn Vaccines and Diagnostics.txt\n",
            "Working on TT Technologies.txt\n",
            "Working on GOAL ZERO.txt\n",
            "Working on Halliburton Energy Services.txt\n",
            "Working on Bigelow Aerospace.txt\n",
            "Working on EchoStar Technologies.txt\n",
            "Working on Cura Vac.txt\n",
            "Working on TheGreenCell.txt\n",
            "Working on Tarveda Therapeutics.txt\n",
            "Working on Astech.txt\n",
            "Working on Lux Bio Group.txt\n",
            "Working on Nationwide Children's Hospital.txt\n",
            "Working on Big Belly Solar.txt\n",
            "Working on Esolar.txt\n",
            "Working on Magna.txt\n",
            "Working on Voxtel.txt\n",
            "Working on Pharmion.txt\n",
            "Working on Nanoholdings.txt\n",
            "Working on Altivera.txt\n",
            "Working on Tau Therapeutics.txt\n",
            "Working on HOWARD INDUSTRIES.txt\n",
            "Working on Dell Software.txt\n",
            "Working on Dolby Laboratories Licensing.txt\n",
            "Working on SolarCity.txt\n",
            "Working on DuPont Teijin Films US Limited Partnership.txt\n",
            "Working on Oceanit Laboratories.txt\n",
            "Working on Quantapore.txt\n",
            "Working on SOLAZYME.txt\n",
            "Working on Moxtek.txt\n",
            "Working on Sensor Electronic Technology.txt\n",
            "Working on EXOS.txt\n",
            "Working on GE-Hitachi Nuclear Energy Americas.txt\n",
            "Working on LifeNet Health.txt\n",
            "Working on CERION.txt\n",
            "Working on Murata Manufacturing Co.txt\n",
            "Working on Electrix.txt\n",
            "Working on Ethox Chemicals.txt\n",
            "Working on Advanced Water Technology.txt\n",
            "Working on UOP.txt\n",
            "Working on Global Filtration Systems.txt\n",
            "Working on Novartis AG.txt\n",
            "Working on Ensyn Renewables.txt\n",
            "Working on BASF Plant Science.txt\n",
            "Working on Globus Medical.txt\n",
            "Working on Musco.txt\n",
            "Working on WHATSAPP.txt\n",
            "Working on Mumetel.txt\n",
            "Working on Quallion.txt\n",
            "Working on Nokomis.txt\n",
            "Working on Industrial Science & Technology Network.txt\n",
            "Working on Mission Product Holdings.txt\n",
            "Working on PLYCEM USA.txt\n",
            "Working on Markel.txt\n",
            "Working on Genentech.txt\n",
            "Working on Sungevity.txt\n",
            "Working on NanoMech.txt\n",
            "Working on Toshiba America Electronic Components.txt\n",
            "Working on Relypsa.txt\n",
            "Working on CNH Industrial America.txt\n",
            "Working on Metabolix.txt\n",
            "Working on Tata Consultancy Services Limited.txt\n",
            "Working on Integrated Device Technology.txt\n",
            "Working on MAXLINEAR.txt\n",
            "Working on Echogen Power Systems.txt\n",
            "Working on Authenex.txt\n",
            "Working on Production Resource Group.txt\n",
            "Working on Osram Sylvania.txt\n",
            "Working on Brightfield Transportation Solutions.txt\n",
            "Working on Pentair Thermal Management.txt\n",
            "Working on Wizard Labs.txt\n",
            "Working on Phillips 66 Company.txt\n",
            "Working on Acer.txt\n",
            "Working on Handstand Innovations.txt\n",
            "Working on Reynolds Technologies.txt\n",
            "Working on Crystal Solar.txt\n",
            "Working on Brother.txt\n",
            "Working on Coleman Cable.txt\n",
            "Working on Hamilton Sundstrand.txt\n",
            "Working on Antaya Technologies.txt\n",
            "Working on KINO.txt\n",
            "Working on Combined Energies.txt\n",
            "Working on iBio.txt\n",
            "Working on SanDisk Technologies.txt\n",
            "Working on Stanley Electric Co.txt\n",
            "Working on Dynamic Solutions Worldwide.txt\n",
            "Working on MonoSol.txt\n",
            "Working on Inphenix.txt\n",
            "Working on Avalanche Technology.txt\n",
            "Working on CELLTRION.txt\n",
            "Working on Pioneer Energy.txt\n",
            "Working on Shoals Technologies Group.txt\n",
            "Working on Carver Scientific.txt\n",
            "Working on Nantero.txt\n",
            "Working on Great American Duck Races.txt\n",
            "Working on DIC.txt\n",
            "Working on IMRA America.txt\n",
            "Working on Incyte Holdings.txt\n",
            "Working on Cleanvantage.txt\n",
            "Working on Bitrode.txt\n",
            "Working on Coriant Advanced Technology.txt\n",
            "Working on Tessera.txt\n",
            "Working on Easel Biotechnologies.txt\n",
            "Working on QuantumScape.txt\n",
            "Working on Cyberonics.txt\n",
            "Working on Lof Solar.txt\n",
            "Working on Suganit Systems.txt\n",
            "Working on Dana.txt\n",
            "Working on Boehringer Ingelheim.txt\n",
            "Working on DECA Technologies.txt\n",
            "Working on TRANE.txt\n",
            "Working on Abbott Point of Care.txt\n",
            "Working on Senaya.txt\n",
            "Working on Renmatix.txt\n",
            "Working on Access Business Group.txt\n",
            "Working on Universal Display.txt\n",
            "Working on Analog Devices.txt\n",
            "Working on The Procter & Gamble Company.txt\n",
            "Working on The Eastern Co.txt\n",
            "Working on Cetac Technologies.txt\n",
            "Working on Wostec.txt\n",
            "Working on InView Technology.txt\n",
            "Working on Renesas Electronics.txt\n",
            "Working on Adynxx.txt\n",
            "Working on LG NANOH2O.txt\n",
            "Working on CUMMINS FILTRATION IP.txt\n",
            "Working on New England Biolabs.txt\n",
            "Working on Samsung SDI Co.txt\n",
            "Working on k-Space Associates.txt\n",
            "Working on Starsource Scientific.txt\n",
            "Working on Avertech.txt\n",
            "Working on Biocare Medical.txt\n",
            "Working on Nanoridge Materials.txt\n",
            "Working on KLA-Tencor.txt\n",
            "Working on Delavau.txt\n",
            "Working on Interface Performance Materials.txt\n",
            "Working on Carbon3D.txt\n",
            "Working on MirTech.txt\n",
            "Working on Smith & Nephew.txt\n",
            "Working on Enginuity Worldwide.txt\n",
            "Working on Applied Materials.txt\n",
            "Working on PQ.txt\n",
            "Working on SD Technologies.txt\n",
            "Working on Innolux.txt\n",
            "Working on Global Eagle Entertainment.txt\n",
            "Working on ADASA.txt\n",
            "Working on Swift Engineering.txt\n",
            "Working on GENCO SCIENCES.txt\n",
            "Working on Genomic Health.txt\n",
            "Working on Green Extraction Technologies.txt\n",
            "Working on IDEX Health & Science.txt\n",
            "Working on Pacific Industrial Development.txt\n",
            "Working on FLIR Systems.txt\n",
            "Working on Zoetis Services.txt\n",
            "Working on Gilead Sciences.txt\n",
            "Working on RADIANCE SOLAR.txt\n",
            "Working on Alexion Pharmaceuticals.txt\n",
            "Working on Nanotek Instruments.txt\n",
            "Working on MILLENIUM SYNTHFUELS.txt\n",
            "Working on Research Triangle Institute.txt\n",
            "Working on Sinewatts.txt\n",
            "Working on FPInnovations.txt\n",
            "Working on Nexcom Technology.txt\n",
            "Working on Baker Hughes.txt\n",
            "Working on Sanyo Electric Co.txt\n",
            "Working on Complete Genomics.txt\n",
            "Working on Zygo.txt\n",
            "Working on Cornell Research Foundation.txt\n",
            "Working on Achushnet Company.txt\n",
            "Working on Optodot.txt\n",
            "Working on Bruin Biometrics.txt\n",
            "Working on Dr Reddy's Laboratories.txt\n",
            "Working on Vaxiion Therapeutics.txt\n",
            "Working on Kinestral Technologies.txt\n",
            "Working on Praxair ST Technology.txt\n",
            "Working on Corporation for National Research Initiatives.txt\n",
            "Working on Genomatica.txt\n",
            "Working on GTherm.txt\n",
            "Working on Gestion Ultra.txt\n",
            "Working on Shell Oil Company.txt\n",
            "Working on Algenol Biotech.txt\n",
            "Working on Sun Synchrony.txt\n",
            "Working on Lehigh Technologies.txt\n",
            "Working on Diamond Innovations.txt\n",
            "Working on WCA Group.txt\n",
            "Working on JSR.txt\n",
            "Working on Solight Solar.txt\n",
            "Working on Soraa Laser Diode.txt\n",
            "Working on NEWFIELD THERAPEUTICS.txt\n",
            "Working on Colgate-Palmolive Company.txt\n",
            "Working on bioTheranostics.txt\n",
            "Working on Aushon Biosystems.txt\n",
            "Working on Hosiden.txt\n",
            "Working on APPLIED STEMCELL.txt\n",
            "Working on Calysta.txt\n",
            "Working on SAE Magnetics (HK).txt\n",
            "Working on Ideal Power.txt\n",
            "Working on Pardev.txt\n",
            "Working on Surebeam.txt\n",
            "Working on NuOrtho Surgical.txt\n",
            "Working on Kulite Semiconductor Products.txt\n",
            "Working on The Samuel Roberts Noble Foundation.txt\n",
            "Working on EMC.txt\n",
            "Working on ALSTOM Technology.txt\n",
            "Working on Riverbed Technology.txt\n",
            "Working on Alencon Acquisition Co.txt\n",
            "Working on Adaptive Biotechnologies Corp.txt\n",
            "Working on Nthdegree Technologies Worldwide.txt\n",
            "Working on Avantor Performance Materials.txt\n",
            "Working on Adtran.txt\n",
            "Working on Crossbar.txt\n",
            "Working on Infinera.txt\n",
            "Working on POET Research.txt\n",
            "Working on Sirnaomics.txt\n",
            "Working on Suncore Photovoltaics.txt\n",
            "Working on Sima Therapeutics.txt\n",
            "Working on Aurora Alage.txt\n",
            "Working on The Goodyear Tire & Rubber Company.txt\n",
            "Working on X DEVELOPMENT.txt\n",
            "Working on Smart Planet Technologies.txt\n",
            "Working on Lockheed Martin.txt\n",
            "Working on Eastman Kodak Company.txt\n",
            "Working on Copernicus Therapeutics.txt\n",
            "Working on Nokia.txt\n",
            "Working on LGS Innovations.txt\n",
            "Working on VIASAT.txt\n",
            "Working on Wyatt Technology.txt\n",
            "Working on SABIC GLOBAL TECHNOLOGIES BV.txt\n",
            "Working on Gardner-Gibson.txt\n",
            "Working on AccuRay.txt\n",
            "Working on The Boeing Company.txt\n",
            "Working on All Power Labs.txt\n",
            "Working on S&S X-Ray Products.txt\n",
            "Working on The Jackson Laboratory.txt\n",
            "Working on SunCulture Solar.txt\n",
            "Working on OrbusNeich Medical.txt\n",
            "Working on ZON.txt\n",
            "Working on fybr.txt\n",
            "Working on Seetron.txt\n",
            "Working on Acorn Technologies.txt\n",
            "Working on Akron Polymer Systems.txt\n",
            "Working on True-Safe Technologies.txt\n",
            "Working on Macronix Co.txt\n",
            "Working on Johns Manville.txt\n",
            "Working on SEEK THERMAL.txt\n",
            "Working on PeterBrod Corp.txt\n",
            "Working on HIQ SOLAR.txt\n",
            "Working on Canon.txt\n",
            "Working on Green Box Batteries.txt\n",
            "Working on Valicor.txt\n",
            "Working on DSP Group.txt\n",
            "Working on MEDport.txt\n",
            "Working on Global OLED Technology.txt\n",
            "Working on Evri.txt\n",
            "Working on GOLBA.txt\n",
            "Working on Matrix Genetics.txt\n",
            "Working on MATERIALS ANALYSIS TECHNOLOGY (US) CORP.txt\n",
            "Working on Atonometrics.txt\n",
            "Working on BAXALTA.txt\n",
            "Working on Harris.txt\n",
            "Working on Siemens Aktiengesellschaft.txt\n",
            "Working on King Electric Vehicles.txt\n",
            "Working on Toyota Motor Engineering & Manufacturing North America.txt\n",
            "Working on Braun Intertec Geothermal.txt\n",
            "Working on Interez.txt\n",
            "Working on Applied Nanostructures.txt\n",
            "Working on Abbott Molecular.txt\n",
            "Working on Mitsubishi Polyester Film.txt\n",
            "Working on SUMITOMO WIRING SYSTEMS.txt\n",
            "Working on LIQUID X PRINTED METALS.txt\n",
            "Working on Hoya.txt\n",
            "Working on VERLASE TECHNOLOGIES.txt\n",
            "Working on FULL CIRCLE BIOCHAR.txt\n",
            "Working on Ecolab.txt\n",
            "Working on Theraclone Sciences.txt\n",
            "Working on GlaxoSmithKline Biologicals.txt\n",
            "Working on TOMOWAVE LABORATORIES.txt\n",
            "Working on STATS ChipPAC.txt\n",
            "Working on Ecovative Design.txt\n",
            "Working on AgroFresh.txt\n",
            "Working on ADVANCED INNOVATION CENTER.txt\n",
            "Working on Semics.txt\n",
            "Working on Alliance for Sustainable Energy.txt\n",
            "Working on Uni-Charm.txt\n",
            "Working on Lovelace Respiratory Research Institute.txt\n",
            "Working on Becton.txt\n",
            "Working on Yageo.txt\n",
            "Working on Inventus Holdings.txt\n",
            "Working on Omron.txt\n",
            "Working on GEN-PROBE.txt\n",
            "Working on Helios Focus.txt\n",
            "Working on EPCOS AG.txt\n",
            "Working on Schneider Electric USA.txt\n",
            "Working on Apple.txt\n",
            "Working on Met Tech.txt\n",
            "Working on SELMAN AND ASSOCIATES.txt\n",
            "Working on OSI Optoelectronics.txt\n",
            "Working on Glucan Biorenewables.txt\n",
            "Working on Unistrut Corp.txt\n",
            "Working on Polysar.txt\n",
            "Working on CAMBRIDGE ENTERPRISE LIMITED.txt\n",
            "Working on Proton Power.txt\n",
            "Working on Silicor Materials.txt\n",
            "Working on FLOW CONTROL.txt\n",
            "Working on OAS Design Group.txt\n",
            "Working on RF Micro Devices.txt\n",
            "Working on Cisco Technology.txt\n",
            "Working on Pfizer.txt\n",
            "Working on National Education.txt\n",
            "Working on Greyrock Energy.txt\n",
            "Working on TP Solar.txt\n",
            "Working on Kaneka.txt\n",
            "Working on Google.txt\n",
            "Working on ECOSYNTHETIX.txt\n",
            "Working on CSEM Centre Suisse d'Electronique et de Microtechnique SA-Recherche et Developpement.txt\n",
            "Working on Columbia Insurance Company.txt\n",
            "Working on AROG PHARMACEUTICALS.txt\n",
            "Working on HTS.txt\n",
            "Working on NICHIA.txt\n",
            "Working on IMDS.txt\n",
            "Working on Amberwave.txt\n",
            "Working on NetApp.txt\n",
            "Working on Greatbatch.txt\n",
            "Working on Biotechnology Foundation.txt\n",
            "Working on Ceramatec.txt\n",
            "Working on PAX Scientific.txt\n",
            "Working on NOK.txt\n",
            "Working on Everspin Technologies.txt\n",
            "Working on Kronos.txt\n",
            "Working on THEM.txt\n",
            "Working on IDEA TREE.txt\n",
            "Working on Sony.txt\n",
            "Working on Kabushikikaisha Toshiba.txt\n",
            "Working on Transtron Solutions.txt\n",
            "Working on Sumitomo Rubber Industries.txt\n",
            "Working on The Charles Stark Draper Laboratory.txt\n",
            "Working on Lintec.txt\n",
            "Working on IntriEnergy.txt\n",
            "Working on Ajinomoto Althea.txt\n",
            "Working on UWM Research Foundation.txt\n",
            "Working on Atom Nanoelectronics.txt\n",
            "Working on Sun Drilling Products.txt\n",
            "Working on VINDICO NANOBIO TECHNOLOGY.txt\n",
            "Working on POSiFA MICROSYSTEMS.txt\n",
            "Working on Alcon Research.txt\n",
            "Working on Wireless Environment.txt\n",
            "Working on Humanetics.txt\n",
            "Working on Universal Leaf Tobacco Co.txt\n",
            "Working on Saint-Gobain Adfors Canada.txt\n",
            "Working on Dow AgroSciences.txt\n",
            "Working on Transposagen Biopharmaceuticals.txt\n",
            "Working on Silicon Space Technology Corp.txt\n",
            "Working on Pinnacle Technology.txt\n",
            "Working on ASM America.txt\n",
            "Working on Applied Genetic Technologies.txt\n",
            "Working on Daikin Industries.txt\n",
            "Working on Boston Scientific Scimed.txt\n",
            "Working on Dentsply.txt\n",
            "Working on Lumentum Operations.txt\n",
            "Working on Alnylam Pharmaceuticals.txt\n",
            "Working on LG Display Co.txt\n",
            "Working on Ion Power Group.txt\n",
            "Working on Midori USA.txt\n",
            "Working on Element One.txt\n",
            "Working on Cabot.txt\n",
            "Working on nanoComposix.txt\n",
            "Working on Symantec.txt\n",
            "Working on Stratasys.txt\n",
            "Working on SOLENA FUELS.txt\n",
            "Working on FRONT EDGE TECHNOLOGY.txt\n",
            "Working on Dow Global Technologies.txt\n",
            "Working on Red Hat.txt\n",
            "Working on Grain Processing.txt\n",
            "Working on McElroy Manufacturing.txt\n",
            "Working on Pansonic.txt\n",
            "Working on Saint-Gobain Performance Plastics.txt\n",
            "Working on Garland Industries.txt\n",
            "Working on Polaris Products.txt\n",
            "Working on Christie Digital Systems.txt\n",
            "Working on US NUTRACEUTICALS.txt\n",
            "Working on Toda Kogyo.txt\n",
            "Working on Integrated Solar Technology.txt\n",
            "Working on Taiwan Semiconductor Manufacturing Company.txt\n",
            "Working on Bristol-Myers Squibb Company.txt\n",
            "Working on Quest Diagnostics Investments.txt\n",
            "Working on Incept.txt\n",
            "Working on Vorbeck Materials.txt\n",
            "Working on Singulex.txt\n",
            "Working on ACACIA RESEARCH GROUP.txt\n",
            "Working on Fujitsu Limited.txt\n",
            "Working on Electrovaya.txt\n",
            "Working on Thorlabs.txt\n",
            "Working on Sony Interactive Entertainment America.txt\n",
            "Working on Bridgelux.txt\n",
            "Working on The Henry M Jackson Foundation for the Advancement of Military Medicine.txt\n",
            "Working on Monsanto Technology.txt\n",
            "Working on FUJIFILM.txt\n",
            "Working on Soliton Lasers.txt\n",
            "Working on Clearside Biomedical.txt\n",
            "Working on Winbond Electronics Corp.txt\n",
            "Working on Magnolia Solar.txt\n",
            "Working on Gram Power.txt\n",
            "Working on Molecular Rebar Design.txt\n",
            "Working on Johnson Controls Technology Company.txt\n",
            "Working on SunPower.txt\n",
            "Working on Scientific Design Company.txt\n",
            "Working on TEKNOR APEX COMPANY.txt\n",
            "Working on Redwood Systems.txt\n",
            "Working on International Business Machines.txt\n",
            "Working on Vascular BioSciences.txt\n",
            "Working on 3M Innovative Properties Company.txt\n",
            "Working on Kobe Steel.txt\n",
            "Working on AIR PRODUCTS AND CHEMICALS.txt\n",
            "Working on Gilead Connecticut.txt\n",
            "Working on American Piledriving Equipment.txt\n",
            "Working on NeoPhotonics.txt\n",
            "Working on Domtar Paper Company.txt\n",
            "Working on CI4 Technologies.txt\n",
            "Working on Lawrence Livermore National Security.txt\n",
            "Working on Bird-B-Gone.txt\n",
            "Working on AstenJohnson.txt\n",
            "Working on Sigma-Aldrich Co.txt\n",
            "Working on Solar-Tectic.txt\n",
            "Working on NanoLab.txt\n",
            "Working on VMware.txt\n",
            "Working on Karsten Manufacturing.txt\n",
            "Working on DiscoveRx.txt\n"
          ]
        }
      ]
    },
    {
      "cell_type": "code",
      "source": [
        ""
      ],
      "metadata": {
        "id": "CV4DWNfM97Qw"
      },
      "execution_count": null,
      "outputs": []
    }
  ],
  "metadata": {
    "application/vnd.databricks.v1+notebook": {
      "dashboards": [],
      "language": "python",
      "notebookMetadata": {
        "pythonIndentUnit": 2
      },
      "notebookName": "garbage-classifier",
      "notebookOrigID": 2369917885486749,
      "widgets": {}
    },
    "colab": {
      "collapsed_sections": [
        "Gq0xF1ShHd5f",
        "DRTl-6LPHd5i"
      ],
      "name": "garbage_classifier_v4.ipynb",
      "provenance": [],
      "machine_shape": "hm",
      "toc_visible": true
    },
    "kernelspec": {
      "display_name": "Python [conda env:39]",
      "language": "python",
      "name": "conda-env-39-py"
    },
    "language_info": {
      "codemirror_mode": {
        "name": "ipython",
        "version": 3
      },
      "file_extension": ".py",
      "mimetype": "text/x-python",
      "name": "python",
      "nbconvert_exporter": "python",
      "pygments_lexer": "ipython3",
      "version": "3.9.12"
    },
    "widgets": {
      "application/vnd.jupyter.widget-state+json": {
        "b1d81b0062474579ae7d3acd0ee2da2b": {
          "model_module": "@jupyter-widgets/controls",
          "model_name": "HBoxModel",
          "model_module_version": "1.5.0",
          "state": {
            "_dom_classes": [],
            "_model_module": "@jupyter-widgets/controls",
            "_model_module_version": "1.5.0",
            "_model_name": "HBoxModel",
            "_view_count": null,
            "_view_module": "@jupyter-widgets/controls",
            "_view_module_version": "1.5.0",
            "_view_name": "HBoxView",
            "box_style": "",
            "children": [
              "IPY_MODEL_64a4651a28664a2aaf45c0510289618d",
              "IPY_MODEL_69a2dd37613c45dea44b96e8e376f44f",
              "IPY_MODEL_fb68f2993b464316a3320c6e5e5cb3b8"
            ],
            "layout": "IPY_MODEL_5171df1f37624ec0a5710e0245f59a52"
          }
        },
        "64a4651a28664a2aaf45c0510289618d": {
          "model_module": "@jupyter-widgets/controls",
          "model_name": "HTMLModel",
          "model_module_version": "1.5.0",
          "state": {
            "_dom_classes": [],
            "_model_module": "@jupyter-widgets/controls",
            "_model_module_version": "1.5.0",
            "_model_name": "HTMLModel",
            "_view_count": null,
            "_view_module": "@jupyter-widgets/controls",
            "_view_module_version": "1.5.0",
            "_view_name": "HTMLView",
            "description": "",
            "description_tooltip": null,
            "layout": "IPY_MODEL_6c64ae22568a4d36b4b005205a569096",
            "placeholder": "​",
            "style": "IPY_MODEL_12a83b8bd09a4f9e99d28f81a0e7d309",
            "value": "Casting the dataset: 100%"
          }
        },
        "69a2dd37613c45dea44b96e8e376f44f": {
          "model_module": "@jupyter-widgets/controls",
          "model_name": "FloatProgressModel",
          "model_module_version": "1.5.0",
          "state": {
            "_dom_classes": [],
            "_model_module": "@jupyter-widgets/controls",
            "_model_module_version": "1.5.0",
            "_model_name": "FloatProgressModel",
            "_view_count": null,
            "_view_module": "@jupyter-widgets/controls",
            "_view_module_version": "1.5.0",
            "_view_name": "ProgressView",
            "bar_style": "success",
            "description": "",
            "description_tooltip": null,
            "layout": "IPY_MODEL_fd10c063541144e1899729f9f333b05a",
            "max": 1,
            "min": 0,
            "orientation": "horizontal",
            "style": "IPY_MODEL_0549f3b1f840438ab5450bcf1700ec8e",
            "value": 1
          }
        },
        "fb68f2993b464316a3320c6e5e5cb3b8": {
          "model_module": "@jupyter-widgets/controls",
          "model_name": "HTMLModel",
          "model_module_version": "1.5.0",
          "state": {
            "_dom_classes": [],
            "_model_module": "@jupyter-widgets/controls",
            "_model_module_version": "1.5.0",
            "_model_name": "HTMLModel",
            "_view_count": null,
            "_view_module": "@jupyter-widgets/controls",
            "_view_module_version": "1.5.0",
            "_view_name": "HTMLView",
            "description": "",
            "description_tooltip": null,
            "layout": "IPY_MODEL_36ff6f9c699d45fa8252ae4dea25f0ef",
            "placeholder": "​",
            "style": "IPY_MODEL_5025b4cdf5f84349bd5b49d033e603c0",
            "value": " 1/1 [00:00&lt;00:00, 17.28ba/s]"
          }
        },
        "5171df1f37624ec0a5710e0245f59a52": {
          "model_module": "@jupyter-widgets/base",
          "model_name": "LayoutModel",
          "model_module_version": "1.2.0",
          "state": {
            "_model_module": "@jupyter-widgets/base",
            "_model_module_version": "1.2.0",
            "_model_name": "LayoutModel",
            "_view_count": null,
            "_view_module": "@jupyter-widgets/base",
            "_view_module_version": "1.2.0",
            "_view_name": "LayoutView",
            "align_content": null,
            "align_items": null,
            "align_self": null,
            "border": null,
            "bottom": null,
            "display": null,
            "flex": null,
            "flex_flow": null,
            "grid_area": null,
            "grid_auto_columns": null,
            "grid_auto_flow": null,
            "grid_auto_rows": null,
            "grid_column": null,
            "grid_gap": null,
            "grid_row": null,
            "grid_template_areas": null,
            "grid_template_columns": null,
            "grid_template_rows": null,
            "height": null,
            "justify_content": null,
            "justify_items": null,
            "left": null,
            "margin": null,
            "max_height": null,
            "max_width": null,
            "min_height": null,
            "min_width": null,
            "object_fit": null,
            "object_position": null,
            "order": null,
            "overflow": null,
            "overflow_x": null,
            "overflow_y": null,
            "padding": null,
            "right": null,
            "top": null,
            "visibility": null,
            "width": null
          }
        },
        "6c64ae22568a4d36b4b005205a569096": {
          "model_module": "@jupyter-widgets/base",
          "model_name": "LayoutModel",
          "model_module_version": "1.2.0",
          "state": {
            "_model_module": "@jupyter-widgets/base",
            "_model_module_version": "1.2.0",
            "_model_name": "LayoutModel",
            "_view_count": null,
            "_view_module": "@jupyter-widgets/base",
            "_view_module_version": "1.2.0",
            "_view_name": "LayoutView",
            "align_content": null,
            "align_items": null,
            "align_self": null,
            "border": null,
            "bottom": null,
            "display": null,
            "flex": null,
            "flex_flow": null,
            "grid_area": null,
            "grid_auto_columns": null,
            "grid_auto_flow": null,
            "grid_auto_rows": null,
            "grid_column": null,
            "grid_gap": null,
            "grid_row": null,
            "grid_template_areas": null,
            "grid_template_columns": null,
            "grid_template_rows": null,
            "height": null,
            "justify_content": null,
            "justify_items": null,
            "left": null,
            "margin": null,
            "max_height": null,
            "max_width": null,
            "min_height": null,
            "min_width": null,
            "object_fit": null,
            "object_position": null,
            "order": null,
            "overflow": null,
            "overflow_x": null,
            "overflow_y": null,
            "padding": null,
            "right": null,
            "top": null,
            "visibility": null,
            "width": null
          }
        },
        "12a83b8bd09a4f9e99d28f81a0e7d309": {
          "model_module": "@jupyter-widgets/controls",
          "model_name": "DescriptionStyleModel",
          "model_module_version": "1.5.0",
          "state": {
            "_model_module": "@jupyter-widgets/controls",
            "_model_module_version": "1.5.0",
            "_model_name": "DescriptionStyleModel",
            "_view_count": null,
            "_view_module": "@jupyter-widgets/base",
            "_view_module_version": "1.2.0",
            "_view_name": "StyleView",
            "description_width": ""
          }
        },
        "fd10c063541144e1899729f9f333b05a": {
          "model_module": "@jupyter-widgets/base",
          "model_name": "LayoutModel",
          "model_module_version": "1.2.0",
          "state": {
            "_model_module": "@jupyter-widgets/base",
            "_model_module_version": "1.2.0",
            "_model_name": "LayoutModel",
            "_view_count": null,
            "_view_module": "@jupyter-widgets/base",
            "_view_module_version": "1.2.0",
            "_view_name": "LayoutView",
            "align_content": null,
            "align_items": null,
            "align_self": null,
            "border": null,
            "bottom": null,
            "display": null,
            "flex": null,
            "flex_flow": null,
            "grid_area": null,
            "grid_auto_columns": null,
            "grid_auto_flow": null,
            "grid_auto_rows": null,
            "grid_column": null,
            "grid_gap": null,
            "grid_row": null,
            "grid_template_areas": null,
            "grid_template_columns": null,
            "grid_template_rows": null,
            "height": null,
            "justify_content": null,
            "justify_items": null,
            "left": null,
            "margin": null,
            "max_height": null,
            "max_width": null,
            "min_height": null,
            "min_width": null,
            "object_fit": null,
            "object_position": null,
            "order": null,
            "overflow": null,
            "overflow_x": null,
            "overflow_y": null,
            "padding": null,
            "right": null,
            "top": null,
            "visibility": null,
            "width": null
          }
        },
        "0549f3b1f840438ab5450bcf1700ec8e": {
          "model_module": "@jupyter-widgets/controls",
          "model_name": "ProgressStyleModel",
          "model_module_version": "1.5.0",
          "state": {
            "_model_module": "@jupyter-widgets/controls",
            "_model_module_version": "1.5.0",
            "_model_name": "ProgressStyleModel",
            "_view_count": null,
            "_view_module": "@jupyter-widgets/base",
            "_view_module_version": "1.2.0",
            "_view_name": "StyleView",
            "bar_color": null,
            "description_width": ""
          }
        },
        "36ff6f9c699d45fa8252ae4dea25f0ef": {
          "model_module": "@jupyter-widgets/base",
          "model_name": "LayoutModel",
          "model_module_version": "1.2.0",
          "state": {
            "_model_module": "@jupyter-widgets/base",
            "_model_module_version": "1.2.0",
            "_model_name": "LayoutModel",
            "_view_count": null,
            "_view_module": "@jupyter-widgets/base",
            "_view_module_version": "1.2.0",
            "_view_name": "LayoutView",
            "align_content": null,
            "align_items": null,
            "align_self": null,
            "border": null,
            "bottom": null,
            "display": null,
            "flex": null,
            "flex_flow": null,
            "grid_area": null,
            "grid_auto_columns": null,
            "grid_auto_flow": null,
            "grid_auto_rows": null,
            "grid_column": null,
            "grid_gap": null,
            "grid_row": null,
            "grid_template_areas": null,
            "grid_template_columns": null,
            "grid_template_rows": null,
            "height": null,
            "justify_content": null,
            "justify_items": null,
            "left": null,
            "margin": null,
            "max_height": null,
            "max_width": null,
            "min_height": null,
            "min_width": null,
            "object_fit": null,
            "object_position": null,
            "order": null,
            "overflow": null,
            "overflow_x": null,
            "overflow_y": null,
            "padding": null,
            "right": null,
            "top": null,
            "visibility": null,
            "width": null
          }
        },
        "5025b4cdf5f84349bd5b49d033e603c0": {
          "model_module": "@jupyter-widgets/controls",
          "model_name": "DescriptionStyleModel",
          "model_module_version": "1.5.0",
          "state": {
            "_model_module": "@jupyter-widgets/controls",
            "_model_module_version": "1.5.0",
            "_model_name": "DescriptionStyleModel",
            "_view_count": null,
            "_view_module": "@jupyter-widgets/base",
            "_view_module_version": "1.2.0",
            "_view_name": "StyleView",
            "description_width": ""
          }
        },
        "ae2ed636b72348ababc145526b0dae7d": {
          "model_module": "@jupyter-widgets/controls",
          "model_name": "HBoxModel",
          "model_module_version": "1.5.0",
          "state": {
            "_dom_classes": [],
            "_model_module": "@jupyter-widgets/controls",
            "_model_module_version": "1.5.0",
            "_model_name": "HBoxModel",
            "_view_count": null,
            "_view_module": "@jupyter-widgets/controls",
            "_view_module_version": "1.5.0",
            "_view_name": "HBoxView",
            "box_style": "",
            "children": [
              "IPY_MODEL_d764f896c93d42a893484933d115953e",
              "IPY_MODEL_108119c87fbd4278b25335e76af37aa0",
              "IPY_MODEL_81fbe87e2bfd4bf6b32a6bb946968874"
            ],
            "layout": "IPY_MODEL_4a741312f6e54d6cbc39b7aac0dd3c14"
          }
        },
        "d764f896c93d42a893484933d115953e": {
          "model_module": "@jupyter-widgets/controls",
          "model_name": "HTMLModel",
          "model_module_version": "1.5.0",
          "state": {
            "_dom_classes": [],
            "_model_module": "@jupyter-widgets/controls",
            "_model_module_version": "1.5.0",
            "_model_name": "HTMLModel",
            "_view_count": null,
            "_view_module": "@jupyter-widgets/controls",
            "_view_module_version": "1.5.0",
            "_view_name": "HTMLView",
            "description": "",
            "description_tooltip": null,
            "layout": "IPY_MODEL_b4728246b29746b2808cc6ec39f3b2c2",
            "placeholder": "​",
            "style": "IPY_MODEL_f31d19598e324800be31db3f280035ad",
            "value": "100%"
          }
        },
        "108119c87fbd4278b25335e76af37aa0": {
          "model_module": "@jupyter-widgets/controls",
          "model_name": "FloatProgressModel",
          "model_module_version": "1.5.0",
          "state": {
            "_dom_classes": [],
            "_model_module": "@jupyter-widgets/controls",
            "_model_module_version": "1.5.0",
            "_model_name": "FloatProgressModel",
            "_view_count": null,
            "_view_module": "@jupyter-widgets/controls",
            "_view_module_version": "1.5.0",
            "_view_name": "ProgressView",
            "bar_style": "success",
            "description": "",
            "description_tooltip": null,
            "layout": "IPY_MODEL_70de49c60e904688bf5418bd2e3f2634",
            "max": 1,
            "min": 0,
            "orientation": "horizontal",
            "style": "IPY_MODEL_12593acd58d34793888ac7b3e8353c4a",
            "value": 1
          }
        },
        "81fbe87e2bfd4bf6b32a6bb946968874": {
          "model_module": "@jupyter-widgets/controls",
          "model_name": "HTMLModel",
          "model_module_version": "1.5.0",
          "state": {
            "_dom_classes": [],
            "_model_module": "@jupyter-widgets/controls",
            "_model_module_version": "1.5.0",
            "_model_name": "HTMLModel",
            "_view_count": null,
            "_view_module": "@jupyter-widgets/controls",
            "_view_module_version": "1.5.0",
            "_view_name": "HTMLView",
            "description": "",
            "description_tooltip": null,
            "layout": "IPY_MODEL_f9a82633a87441a7a6c881aa8fe66884",
            "placeholder": "​",
            "style": "IPY_MODEL_baa8f369bac8430eab34a1371b129f47",
            "value": " 1/1 [00:00&lt;00:00,  2.29ba/s]"
          }
        },
        "4a741312f6e54d6cbc39b7aac0dd3c14": {
          "model_module": "@jupyter-widgets/base",
          "model_name": "LayoutModel",
          "model_module_version": "1.2.0",
          "state": {
            "_model_module": "@jupyter-widgets/base",
            "_model_module_version": "1.2.0",
            "_model_name": "LayoutModel",
            "_view_count": null,
            "_view_module": "@jupyter-widgets/base",
            "_view_module_version": "1.2.0",
            "_view_name": "LayoutView",
            "align_content": null,
            "align_items": null,
            "align_self": null,
            "border": null,
            "bottom": null,
            "display": null,
            "flex": null,
            "flex_flow": null,
            "grid_area": null,
            "grid_auto_columns": null,
            "grid_auto_flow": null,
            "grid_auto_rows": null,
            "grid_column": null,
            "grid_gap": null,
            "grid_row": null,
            "grid_template_areas": null,
            "grid_template_columns": null,
            "grid_template_rows": null,
            "height": null,
            "justify_content": null,
            "justify_items": null,
            "left": null,
            "margin": null,
            "max_height": null,
            "max_width": null,
            "min_height": null,
            "min_width": null,
            "object_fit": null,
            "object_position": null,
            "order": null,
            "overflow": null,
            "overflow_x": null,
            "overflow_y": null,
            "padding": null,
            "right": null,
            "top": null,
            "visibility": null,
            "width": null
          }
        },
        "b4728246b29746b2808cc6ec39f3b2c2": {
          "model_module": "@jupyter-widgets/base",
          "model_name": "LayoutModel",
          "model_module_version": "1.2.0",
          "state": {
            "_model_module": "@jupyter-widgets/base",
            "_model_module_version": "1.2.0",
            "_model_name": "LayoutModel",
            "_view_count": null,
            "_view_module": "@jupyter-widgets/base",
            "_view_module_version": "1.2.0",
            "_view_name": "LayoutView",
            "align_content": null,
            "align_items": null,
            "align_self": null,
            "border": null,
            "bottom": null,
            "display": null,
            "flex": null,
            "flex_flow": null,
            "grid_area": null,
            "grid_auto_columns": null,
            "grid_auto_flow": null,
            "grid_auto_rows": null,
            "grid_column": null,
            "grid_gap": null,
            "grid_row": null,
            "grid_template_areas": null,
            "grid_template_columns": null,
            "grid_template_rows": null,
            "height": null,
            "justify_content": null,
            "justify_items": null,
            "left": null,
            "margin": null,
            "max_height": null,
            "max_width": null,
            "min_height": null,
            "min_width": null,
            "object_fit": null,
            "object_position": null,
            "order": null,
            "overflow": null,
            "overflow_x": null,
            "overflow_y": null,
            "padding": null,
            "right": null,
            "top": null,
            "visibility": null,
            "width": null
          }
        },
        "f31d19598e324800be31db3f280035ad": {
          "model_module": "@jupyter-widgets/controls",
          "model_name": "DescriptionStyleModel",
          "model_module_version": "1.5.0",
          "state": {
            "_model_module": "@jupyter-widgets/controls",
            "_model_module_version": "1.5.0",
            "_model_name": "DescriptionStyleModel",
            "_view_count": null,
            "_view_module": "@jupyter-widgets/base",
            "_view_module_version": "1.2.0",
            "_view_name": "StyleView",
            "description_width": ""
          }
        },
        "70de49c60e904688bf5418bd2e3f2634": {
          "model_module": "@jupyter-widgets/base",
          "model_name": "LayoutModel",
          "model_module_version": "1.2.0",
          "state": {
            "_model_module": "@jupyter-widgets/base",
            "_model_module_version": "1.2.0",
            "_model_name": "LayoutModel",
            "_view_count": null,
            "_view_module": "@jupyter-widgets/base",
            "_view_module_version": "1.2.0",
            "_view_name": "LayoutView",
            "align_content": null,
            "align_items": null,
            "align_self": null,
            "border": null,
            "bottom": null,
            "display": null,
            "flex": null,
            "flex_flow": null,
            "grid_area": null,
            "grid_auto_columns": null,
            "grid_auto_flow": null,
            "grid_auto_rows": null,
            "grid_column": null,
            "grid_gap": null,
            "grid_row": null,
            "grid_template_areas": null,
            "grid_template_columns": null,
            "grid_template_rows": null,
            "height": null,
            "justify_content": null,
            "justify_items": null,
            "left": null,
            "margin": null,
            "max_height": null,
            "max_width": null,
            "min_height": null,
            "min_width": null,
            "object_fit": null,
            "object_position": null,
            "order": null,
            "overflow": null,
            "overflow_x": null,
            "overflow_y": null,
            "padding": null,
            "right": null,
            "top": null,
            "visibility": null,
            "width": null
          }
        },
        "12593acd58d34793888ac7b3e8353c4a": {
          "model_module": "@jupyter-widgets/controls",
          "model_name": "ProgressStyleModel",
          "model_module_version": "1.5.0",
          "state": {
            "_model_module": "@jupyter-widgets/controls",
            "_model_module_version": "1.5.0",
            "_model_name": "ProgressStyleModel",
            "_view_count": null,
            "_view_module": "@jupyter-widgets/base",
            "_view_module_version": "1.2.0",
            "_view_name": "StyleView",
            "bar_color": null,
            "description_width": ""
          }
        },
        "f9a82633a87441a7a6c881aa8fe66884": {
          "model_module": "@jupyter-widgets/base",
          "model_name": "LayoutModel",
          "model_module_version": "1.2.0",
          "state": {
            "_model_module": "@jupyter-widgets/base",
            "_model_module_version": "1.2.0",
            "_model_name": "LayoutModel",
            "_view_count": null,
            "_view_module": "@jupyter-widgets/base",
            "_view_module_version": "1.2.0",
            "_view_name": "LayoutView",
            "align_content": null,
            "align_items": null,
            "align_self": null,
            "border": null,
            "bottom": null,
            "display": null,
            "flex": null,
            "flex_flow": null,
            "grid_area": null,
            "grid_auto_columns": null,
            "grid_auto_flow": null,
            "grid_auto_rows": null,
            "grid_column": null,
            "grid_gap": null,
            "grid_row": null,
            "grid_template_areas": null,
            "grid_template_columns": null,
            "grid_template_rows": null,
            "height": null,
            "justify_content": null,
            "justify_items": null,
            "left": null,
            "margin": null,
            "max_height": null,
            "max_width": null,
            "min_height": null,
            "min_width": null,
            "object_fit": null,
            "object_position": null,
            "order": null,
            "overflow": null,
            "overflow_x": null,
            "overflow_y": null,
            "padding": null,
            "right": null,
            "top": null,
            "visibility": null,
            "width": null
          }
        },
        "baa8f369bac8430eab34a1371b129f47": {
          "model_module": "@jupyter-widgets/controls",
          "model_name": "DescriptionStyleModel",
          "model_module_version": "1.5.0",
          "state": {
            "_model_module": "@jupyter-widgets/controls",
            "_model_module_version": "1.5.0",
            "_model_name": "DescriptionStyleModel",
            "_view_count": null,
            "_view_module": "@jupyter-widgets/base",
            "_view_module_version": "1.2.0",
            "_view_name": "StyleView",
            "description_width": ""
          }
        },
        "6ab62c75f22a44c0aa64db09e00ea887": {
          "model_module": "@jupyter-widgets/controls",
          "model_name": "HBoxModel",
          "model_module_version": "1.5.0",
          "state": {
            "_dom_classes": [],
            "_model_module": "@jupyter-widgets/controls",
            "_model_module_version": "1.5.0",
            "_model_name": "HBoxModel",
            "_view_count": null,
            "_view_module": "@jupyter-widgets/controls",
            "_view_module_version": "1.5.0",
            "_view_name": "HBoxView",
            "box_style": "",
            "children": [
              "IPY_MODEL_3ff025f0b77b471699d16f81d36bf883",
              "IPY_MODEL_1493364bb1904ab39d7100c8b2fda44e",
              "IPY_MODEL_e1df1095793948e4b020169c1e124b34"
            ],
            "layout": "IPY_MODEL_b281c2a3ad084ddf9493049d9f30a939"
          }
        },
        "3ff025f0b77b471699d16f81d36bf883": {
          "model_module": "@jupyter-widgets/controls",
          "model_name": "HTMLModel",
          "model_module_version": "1.5.0",
          "state": {
            "_dom_classes": [],
            "_model_module": "@jupyter-widgets/controls",
            "_model_module_version": "1.5.0",
            "_model_name": "HTMLModel",
            "_view_count": null,
            "_view_module": "@jupyter-widgets/controls",
            "_view_module_version": "1.5.0",
            "_view_name": "HTMLView",
            "description": "",
            "description_tooltip": null,
            "layout": "IPY_MODEL_9b2bfcf9ca4f4bdab8922d71d1bde890",
            "placeholder": "​",
            "style": "IPY_MODEL_10f2e335b4d347bb972d3f8c5c9b5c09",
            "value": "100%"
          }
        },
        "1493364bb1904ab39d7100c8b2fda44e": {
          "model_module": "@jupyter-widgets/controls",
          "model_name": "FloatProgressModel",
          "model_module_version": "1.5.0",
          "state": {
            "_dom_classes": [],
            "_model_module": "@jupyter-widgets/controls",
            "_model_module_version": "1.5.0",
            "_model_name": "FloatProgressModel",
            "_view_count": null,
            "_view_module": "@jupyter-widgets/controls",
            "_view_module_version": "1.5.0",
            "_view_name": "ProgressView",
            "bar_style": "success",
            "description": "",
            "description_tooltip": null,
            "layout": "IPY_MODEL_61da3e8365984a678ca74a52183c5224",
            "max": 1,
            "min": 0,
            "orientation": "horizontal",
            "style": "IPY_MODEL_322a8623ee4b4504873c6dcf82e33876",
            "value": 1
          }
        },
        "e1df1095793948e4b020169c1e124b34": {
          "model_module": "@jupyter-widgets/controls",
          "model_name": "HTMLModel",
          "model_module_version": "1.5.0",
          "state": {
            "_dom_classes": [],
            "_model_module": "@jupyter-widgets/controls",
            "_model_module_version": "1.5.0",
            "_model_name": "HTMLModel",
            "_view_count": null,
            "_view_module": "@jupyter-widgets/controls",
            "_view_module_version": "1.5.0",
            "_view_name": "HTMLView",
            "description": "",
            "description_tooltip": null,
            "layout": "IPY_MODEL_b20819255ce845568c15146379456a77",
            "placeholder": "​",
            "style": "IPY_MODEL_5a4540696d0f417cb86d4f9fc9b62fe8",
            "value": " 1/1 [00:00&lt;00:00, 17.15ba/s]"
          }
        },
        "b281c2a3ad084ddf9493049d9f30a939": {
          "model_module": "@jupyter-widgets/base",
          "model_name": "LayoutModel",
          "model_module_version": "1.2.0",
          "state": {
            "_model_module": "@jupyter-widgets/base",
            "_model_module_version": "1.2.0",
            "_model_name": "LayoutModel",
            "_view_count": null,
            "_view_module": "@jupyter-widgets/base",
            "_view_module_version": "1.2.0",
            "_view_name": "LayoutView",
            "align_content": null,
            "align_items": null,
            "align_self": null,
            "border": null,
            "bottom": null,
            "display": null,
            "flex": null,
            "flex_flow": null,
            "grid_area": null,
            "grid_auto_columns": null,
            "grid_auto_flow": null,
            "grid_auto_rows": null,
            "grid_column": null,
            "grid_gap": null,
            "grid_row": null,
            "grid_template_areas": null,
            "grid_template_columns": null,
            "grid_template_rows": null,
            "height": null,
            "justify_content": null,
            "justify_items": null,
            "left": null,
            "margin": null,
            "max_height": null,
            "max_width": null,
            "min_height": null,
            "min_width": null,
            "object_fit": null,
            "object_position": null,
            "order": null,
            "overflow": null,
            "overflow_x": null,
            "overflow_y": null,
            "padding": null,
            "right": null,
            "top": null,
            "visibility": null,
            "width": null
          }
        },
        "9b2bfcf9ca4f4bdab8922d71d1bde890": {
          "model_module": "@jupyter-widgets/base",
          "model_name": "LayoutModel",
          "model_module_version": "1.2.0",
          "state": {
            "_model_module": "@jupyter-widgets/base",
            "_model_module_version": "1.2.0",
            "_model_name": "LayoutModel",
            "_view_count": null,
            "_view_module": "@jupyter-widgets/base",
            "_view_module_version": "1.2.0",
            "_view_name": "LayoutView",
            "align_content": null,
            "align_items": null,
            "align_self": null,
            "border": null,
            "bottom": null,
            "display": null,
            "flex": null,
            "flex_flow": null,
            "grid_area": null,
            "grid_auto_columns": null,
            "grid_auto_flow": null,
            "grid_auto_rows": null,
            "grid_column": null,
            "grid_gap": null,
            "grid_row": null,
            "grid_template_areas": null,
            "grid_template_columns": null,
            "grid_template_rows": null,
            "height": null,
            "justify_content": null,
            "justify_items": null,
            "left": null,
            "margin": null,
            "max_height": null,
            "max_width": null,
            "min_height": null,
            "min_width": null,
            "object_fit": null,
            "object_position": null,
            "order": null,
            "overflow": null,
            "overflow_x": null,
            "overflow_y": null,
            "padding": null,
            "right": null,
            "top": null,
            "visibility": null,
            "width": null
          }
        },
        "10f2e335b4d347bb972d3f8c5c9b5c09": {
          "model_module": "@jupyter-widgets/controls",
          "model_name": "DescriptionStyleModel",
          "model_module_version": "1.5.0",
          "state": {
            "_model_module": "@jupyter-widgets/controls",
            "_model_module_version": "1.5.0",
            "_model_name": "DescriptionStyleModel",
            "_view_count": null,
            "_view_module": "@jupyter-widgets/base",
            "_view_module_version": "1.2.0",
            "_view_name": "StyleView",
            "description_width": ""
          }
        },
        "61da3e8365984a678ca74a52183c5224": {
          "model_module": "@jupyter-widgets/base",
          "model_name": "LayoutModel",
          "model_module_version": "1.2.0",
          "state": {
            "_model_module": "@jupyter-widgets/base",
            "_model_module_version": "1.2.0",
            "_model_name": "LayoutModel",
            "_view_count": null,
            "_view_module": "@jupyter-widgets/base",
            "_view_module_version": "1.2.0",
            "_view_name": "LayoutView",
            "align_content": null,
            "align_items": null,
            "align_self": null,
            "border": null,
            "bottom": null,
            "display": null,
            "flex": null,
            "flex_flow": null,
            "grid_area": null,
            "grid_auto_columns": null,
            "grid_auto_flow": null,
            "grid_auto_rows": null,
            "grid_column": null,
            "grid_gap": null,
            "grid_row": null,
            "grid_template_areas": null,
            "grid_template_columns": null,
            "grid_template_rows": null,
            "height": null,
            "justify_content": null,
            "justify_items": null,
            "left": null,
            "margin": null,
            "max_height": null,
            "max_width": null,
            "min_height": null,
            "min_width": null,
            "object_fit": null,
            "object_position": null,
            "order": null,
            "overflow": null,
            "overflow_x": null,
            "overflow_y": null,
            "padding": null,
            "right": null,
            "top": null,
            "visibility": null,
            "width": null
          }
        },
        "322a8623ee4b4504873c6dcf82e33876": {
          "model_module": "@jupyter-widgets/controls",
          "model_name": "ProgressStyleModel",
          "model_module_version": "1.5.0",
          "state": {
            "_model_module": "@jupyter-widgets/controls",
            "_model_module_version": "1.5.0",
            "_model_name": "ProgressStyleModel",
            "_view_count": null,
            "_view_module": "@jupyter-widgets/base",
            "_view_module_version": "1.2.0",
            "_view_name": "StyleView",
            "bar_color": null,
            "description_width": ""
          }
        },
        "b20819255ce845568c15146379456a77": {
          "model_module": "@jupyter-widgets/base",
          "model_name": "LayoutModel",
          "model_module_version": "1.2.0",
          "state": {
            "_model_module": "@jupyter-widgets/base",
            "_model_module_version": "1.2.0",
            "_model_name": "LayoutModel",
            "_view_count": null,
            "_view_module": "@jupyter-widgets/base",
            "_view_module_version": "1.2.0",
            "_view_name": "LayoutView",
            "align_content": null,
            "align_items": null,
            "align_self": null,
            "border": null,
            "bottom": null,
            "display": null,
            "flex": null,
            "flex_flow": null,
            "grid_area": null,
            "grid_auto_columns": null,
            "grid_auto_flow": null,
            "grid_auto_rows": null,
            "grid_column": null,
            "grid_gap": null,
            "grid_row": null,
            "grid_template_areas": null,
            "grid_template_columns": null,
            "grid_template_rows": null,
            "height": null,
            "justify_content": null,
            "justify_items": null,
            "left": null,
            "margin": null,
            "max_height": null,
            "max_width": null,
            "min_height": null,
            "min_width": null,
            "object_fit": null,
            "object_position": null,
            "order": null,
            "overflow": null,
            "overflow_x": null,
            "overflow_y": null,
            "padding": null,
            "right": null,
            "top": null,
            "visibility": null,
            "width": null
          }
        },
        "5a4540696d0f417cb86d4f9fc9b62fe8": {
          "model_module": "@jupyter-widgets/controls",
          "model_name": "DescriptionStyleModel",
          "model_module_version": "1.5.0",
          "state": {
            "_model_module": "@jupyter-widgets/controls",
            "_model_module_version": "1.5.0",
            "_model_name": "DescriptionStyleModel",
            "_view_count": null,
            "_view_module": "@jupyter-widgets/base",
            "_view_module_version": "1.2.0",
            "_view_name": "StyleView",
            "description_width": ""
          }
        },
        "d102f71da9634bd4aed7a2c4dab80df3": {
          "model_module": "@jupyter-widgets/controls",
          "model_name": "HBoxModel",
          "model_module_version": "1.5.0",
          "state": {
            "_dom_classes": [],
            "_model_module": "@jupyter-widgets/controls",
            "_model_module_version": "1.5.0",
            "_model_name": "HBoxModel",
            "_view_count": null,
            "_view_module": "@jupyter-widgets/controls",
            "_view_module_version": "1.5.0",
            "_view_name": "HBoxView",
            "box_style": "",
            "children": [
              "IPY_MODEL_1c32d9285a4b40538a09b2e841f5f671",
              "IPY_MODEL_cc30a25c55174a0f8347211b9b922c0d",
              "IPY_MODEL_66daf8ed244c4d7faccead458d9f7322"
            ],
            "layout": "IPY_MODEL_4b34d3dd867944529863d6e77efa79a7"
          }
        },
        "1c32d9285a4b40538a09b2e841f5f671": {
          "model_module": "@jupyter-widgets/controls",
          "model_name": "HTMLModel",
          "model_module_version": "1.5.0",
          "state": {
            "_dom_classes": [],
            "_model_module": "@jupyter-widgets/controls",
            "_model_module_version": "1.5.0",
            "_model_name": "HTMLModel",
            "_view_count": null,
            "_view_module": "@jupyter-widgets/controls",
            "_view_module_version": "1.5.0",
            "_view_name": "HTMLView",
            "description": "",
            "description_tooltip": null,
            "layout": "IPY_MODEL_4d0643e66f1d4b9582386f70d370cd4d",
            "placeholder": "​",
            "style": "IPY_MODEL_beded2d934b342b5a25b7c487b155baf",
            "value": "100%"
          }
        },
        "cc30a25c55174a0f8347211b9b922c0d": {
          "model_module": "@jupyter-widgets/controls",
          "model_name": "FloatProgressModel",
          "model_module_version": "1.5.0",
          "state": {
            "_dom_classes": [],
            "_model_module": "@jupyter-widgets/controls",
            "_model_module_version": "1.5.0",
            "_model_name": "FloatProgressModel",
            "_view_count": null,
            "_view_module": "@jupyter-widgets/controls",
            "_view_module_version": "1.5.0",
            "_view_name": "ProgressView",
            "bar_style": "success",
            "description": "",
            "description_tooltip": null,
            "layout": "IPY_MODEL_23a3db96ab4c40acb385c25e5017f601",
            "max": 1,
            "min": 0,
            "orientation": "horizontal",
            "style": "IPY_MODEL_e9a146c16dd04b3a9d60a2e9d7db17d4",
            "value": 1
          }
        },
        "66daf8ed244c4d7faccead458d9f7322": {
          "model_module": "@jupyter-widgets/controls",
          "model_name": "HTMLModel",
          "model_module_version": "1.5.0",
          "state": {
            "_dom_classes": [],
            "_model_module": "@jupyter-widgets/controls",
            "_model_module_version": "1.5.0",
            "_model_name": "HTMLModel",
            "_view_count": null,
            "_view_module": "@jupyter-widgets/controls",
            "_view_module_version": "1.5.0",
            "_view_name": "HTMLView",
            "description": "",
            "description_tooltip": null,
            "layout": "IPY_MODEL_bb704149490c4f60af6d461a3c5b40c1",
            "placeholder": "​",
            "style": "IPY_MODEL_4564ecbf17ad44edb95e6bd373841fb8",
            "value": " 1/1 [00:00&lt;00:00, 13.67ba/s]"
          }
        },
        "4b34d3dd867944529863d6e77efa79a7": {
          "model_module": "@jupyter-widgets/base",
          "model_name": "LayoutModel",
          "model_module_version": "1.2.0",
          "state": {
            "_model_module": "@jupyter-widgets/base",
            "_model_module_version": "1.2.0",
            "_model_name": "LayoutModel",
            "_view_count": null,
            "_view_module": "@jupyter-widgets/base",
            "_view_module_version": "1.2.0",
            "_view_name": "LayoutView",
            "align_content": null,
            "align_items": null,
            "align_self": null,
            "border": null,
            "bottom": null,
            "display": null,
            "flex": null,
            "flex_flow": null,
            "grid_area": null,
            "grid_auto_columns": null,
            "grid_auto_flow": null,
            "grid_auto_rows": null,
            "grid_column": null,
            "grid_gap": null,
            "grid_row": null,
            "grid_template_areas": null,
            "grid_template_columns": null,
            "grid_template_rows": null,
            "height": null,
            "justify_content": null,
            "justify_items": null,
            "left": null,
            "margin": null,
            "max_height": null,
            "max_width": null,
            "min_height": null,
            "min_width": null,
            "object_fit": null,
            "object_position": null,
            "order": null,
            "overflow": null,
            "overflow_x": null,
            "overflow_y": null,
            "padding": null,
            "right": null,
            "top": null,
            "visibility": null,
            "width": null
          }
        },
        "4d0643e66f1d4b9582386f70d370cd4d": {
          "model_module": "@jupyter-widgets/base",
          "model_name": "LayoutModel",
          "model_module_version": "1.2.0",
          "state": {
            "_model_module": "@jupyter-widgets/base",
            "_model_module_version": "1.2.0",
            "_model_name": "LayoutModel",
            "_view_count": null,
            "_view_module": "@jupyter-widgets/base",
            "_view_module_version": "1.2.0",
            "_view_name": "LayoutView",
            "align_content": null,
            "align_items": null,
            "align_self": null,
            "border": null,
            "bottom": null,
            "display": null,
            "flex": null,
            "flex_flow": null,
            "grid_area": null,
            "grid_auto_columns": null,
            "grid_auto_flow": null,
            "grid_auto_rows": null,
            "grid_column": null,
            "grid_gap": null,
            "grid_row": null,
            "grid_template_areas": null,
            "grid_template_columns": null,
            "grid_template_rows": null,
            "height": null,
            "justify_content": null,
            "justify_items": null,
            "left": null,
            "margin": null,
            "max_height": null,
            "max_width": null,
            "min_height": null,
            "min_width": null,
            "object_fit": null,
            "object_position": null,
            "order": null,
            "overflow": null,
            "overflow_x": null,
            "overflow_y": null,
            "padding": null,
            "right": null,
            "top": null,
            "visibility": null,
            "width": null
          }
        },
        "beded2d934b342b5a25b7c487b155baf": {
          "model_module": "@jupyter-widgets/controls",
          "model_name": "DescriptionStyleModel",
          "model_module_version": "1.5.0",
          "state": {
            "_model_module": "@jupyter-widgets/controls",
            "_model_module_version": "1.5.0",
            "_model_name": "DescriptionStyleModel",
            "_view_count": null,
            "_view_module": "@jupyter-widgets/base",
            "_view_module_version": "1.2.0",
            "_view_name": "StyleView",
            "description_width": ""
          }
        },
        "23a3db96ab4c40acb385c25e5017f601": {
          "model_module": "@jupyter-widgets/base",
          "model_name": "LayoutModel",
          "model_module_version": "1.2.0",
          "state": {
            "_model_module": "@jupyter-widgets/base",
            "_model_module_version": "1.2.0",
            "_model_name": "LayoutModel",
            "_view_count": null,
            "_view_module": "@jupyter-widgets/base",
            "_view_module_version": "1.2.0",
            "_view_name": "LayoutView",
            "align_content": null,
            "align_items": null,
            "align_self": null,
            "border": null,
            "bottom": null,
            "display": null,
            "flex": null,
            "flex_flow": null,
            "grid_area": null,
            "grid_auto_columns": null,
            "grid_auto_flow": null,
            "grid_auto_rows": null,
            "grid_column": null,
            "grid_gap": null,
            "grid_row": null,
            "grid_template_areas": null,
            "grid_template_columns": null,
            "grid_template_rows": null,
            "height": null,
            "justify_content": null,
            "justify_items": null,
            "left": null,
            "margin": null,
            "max_height": null,
            "max_width": null,
            "min_height": null,
            "min_width": null,
            "object_fit": null,
            "object_position": null,
            "order": null,
            "overflow": null,
            "overflow_x": null,
            "overflow_y": null,
            "padding": null,
            "right": null,
            "top": null,
            "visibility": null,
            "width": null
          }
        },
        "e9a146c16dd04b3a9d60a2e9d7db17d4": {
          "model_module": "@jupyter-widgets/controls",
          "model_name": "ProgressStyleModel",
          "model_module_version": "1.5.0",
          "state": {
            "_model_module": "@jupyter-widgets/controls",
            "_model_module_version": "1.5.0",
            "_model_name": "ProgressStyleModel",
            "_view_count": null,
            "_view_module": "@jupyter-widgets/base",
            "_view_module_version": "1.2.0",
            "_view_name": "StyleView",
            "bar_color": null,
            "description_width": ""
          }
        },
        "bb704149490c4f60af6d461a3c5b40c1": {
          "model_module": "@jupyter-widgets/base",
          "model_name": "LayoutModel",
          "model_module_version": "1.2.0",
          "state": {
            "_model_module": "@jupyter-widgets/base",
            "_model_module_version": "1.2.0",
            "_model_name": "LayoutModel",
            "_view_count": null,
            "_view_module": "@jupyter-widgets/base",
            "_view_module_version": "1.2.0",
            "_view_name": "LayoutView",
            "align_content": null,
            "align_items": null,
            "align_self": null,
            "border": null,
            "bottom": null,
            "display": null,
            "flex": null,
            "flex_flow": null,
            "grid_area": null,
            "grid_auto_columns": null,
            "grid_auto_flow": null,
            "grid_auto_rows": null,
            "grid_column": null,
            "grid_gap": null,
            "grid_row": null,
            "grid_template_areas": null,
            "grid_template_columns": null,
            "grid_template_rows": null,
            "height": null,
            "justify_content": null,
            "justify_items": null,
            "left": null,
            "margin": null,
            "max_height": null,
            "max_width": null,
            "min_height": null,
            "min_width": null,
            "object_fit": null,
            "object_position": null,
            "order": null,
            "overflow": null,
            "overflow_x": null,
            "overflow_y": null,
            "padding": null,
            "right": null,
            "top": null,
            "visibility": null,
            "width": null
          }
        },
        "4564ecbf17ad44edb95e6bd373841fb8": {
          "model_module": "@jupyter-widgets/controls",
          "model_name": "DescriptionStyleModel",
          "model_module_version": "1.5.0",
          "state": {
            "_model_module": "@jupyter-widgets/controls",
            "_model_module_version": "1.5.0",
            "_model_name": "DescriptionStyleModel",
            "_view_count": null,
            "_view_module": "@jupyter-widgets/base",
            "_view_module_version": "1.2.0",
            "_view_name": "StyleView",
            "description_width": ""
          }
        }
      }
    },
    "accelerator": "GPU",
    "gpuClass": "standard"
  },
  "nbformat": 4,
  "nbformat_minor": 0
}