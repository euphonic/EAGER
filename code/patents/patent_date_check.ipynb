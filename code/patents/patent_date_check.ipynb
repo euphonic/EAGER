{
 "cells": [
  {
   "cell_type": "code",
   "execution_count": 2,
   "metadata": {},
   "outputs": [],
   "source": [
    "import pandas as pd"
   ]
  },
  {
   "cell_type": "markdown",
   "metadata": {
    "application/vnd.databricks.v1+cell": {
     "inputWidgets": {},
     "nuid": "eda5e4ca-9b56-4f82-b94f-f72cb195ce98",
     "showTitle": false,
     "title": ""
    }
   },
   "source": [
    "### Load data"
   ]
  },
  {
   "cell_type": "code",
   "execution_count": 5,
   "metadata": {
    "application/vnd.databricks.v1+cell": {
     "inputWidgets": {},
     "nuid": "0eda662f-5138-4d41-8ed9-086efd5c51dc",
     "showTitle": false,
     "title": ""
    }
   },
   "outputs": [],
   "source": [
    "HOME_DIR = '/Users/Sanjay.K.Arora/data/web_of_innovation/'\n",
    "PAT_FILE = HOME_DIR + 'patent.tsv'\n",
    "CIT_FILE = HOME_DIR + 'uspatentcitation.tsv'\n",
    "\n",
    "pat_df = pd.read_csv(PAT_FILE, sep='\\t', dtype=str)\n",
    "# cit_df = pd.read_csv(CIT_FILE, sep='\\t', dtype=str)"
   ]
  },
  {
   "cell_type": "code",
   "execution_count": 0,
   "metadata": {
    "application/vnd.databricks.v1+cell": {
     "inputWidgets": {},
     "nuid": "26f0343f-5a0a-4626-aa9c-e1529f6bab6f",
     "showTitle": false,
     "title": ""
    }
   },
   "outputs": [],
   "source": []
  }
 ],
 "metadata": {
  "application/vnd.databricks.v1+notebook": {
   "dashboards": [],
   "language": "python",
   "notebookMetadata": {
    "pythonIndentUnit": 2
   },
   "notebookName": "Disruption Index",
   "notebookOrigID": 1303726056089582,
   "widgets": {}
  },
  "kernelspec": {
   "display_name": "Python [conda env:36]",
   "language": "python",
   "name": "conda-env-36-py"
  },
  "language_info": {
   "codemirror_mode": {
    "name": "ipython",
    "version": 3
   },
   "file_extension": ".py",
   "mimetype": "text/x-python",
   "name": "python",
   "nbconvert_exporter": "python",
   "pygments_lexer": "ipython3",
   "version": "3.6.13"
  }
 },
 "nbformat": 4,
 "nbformat_minor": 1
}
