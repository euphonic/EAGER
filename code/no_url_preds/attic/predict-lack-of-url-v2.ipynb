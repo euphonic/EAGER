{
 "cells": [
  {
   "cell_type": "markdown",
   "metadata": {},
   "source": [
    "# predict-lack-of-url\n",
    "skelley@air.org<br> \n",
    "sarora@air.org<br>\n",
    "February 2019<br>\n",
    "\n",
    "## Description\n",
    "This notebook tries to explain bias in missing observations, which are mostly caused to a lack of an identified URL or if a URL exists, lack of successfully scraped website data."
   ]
  },
  {
   "cell_type": "code",
   "execution_count": 3,
   "metadata": {},
   "outputs": [],
   "source": [
    "%matplotlib inline\n",
    "import pandas as pd\n",
    "import numpy as np\n",
    "import os"
   ]
  },
  {
   "cell_type": "code",
   "execution_count": 3,
   "metadata": {},
   "outputs": [
    {
     "name": "stdout",
     "output_type": "stream",
     "text": [
      "(1492, 2)\n"
     ]
    },
    {
     "data": {
      "text/html": [
       "<div>\n",
       "<style scoped>\n",
       "    .dataframe tbody tr th:only-of-type {\n",
       "        vertical-align: middle;\n",
       "    }\n",
       "\n",
       "    .dataframe tbody tr th {\n",
       "        vertical-align: top;\n",
       "    }\n",
       "\n",
       "    .dataframe thead th {\n",
       "        text-align: right;\n",
       "    }\n",
       "</style>\n",
       "<table border=\"1\" class=\"dataframe\">\n",
       "  <thead>\n",
       "    <tr style=\"text-align: right;\">\n",
       "      <th></th>\n",
       "      <th>Company</th>\n",
       "      <th>url</th>\n",
       "    </tr>\n",
       "  </thead>\n",
       "  <tbody>\n",
       "    <tr>\n",
       "      <th>0</th>\n",
       "      <td>Two Blades Foundation</td>\n",
       "      <td>2blades.org/</td>\n",
       "    </tr>\n",
       "    <tr>\n",
       "      <th>1</th>\n",
       "      <td>3M Innovative Properties Company</td>\n",
       "      <td>3m.com/</td>\n",
       "    </tr>\n",
       "    <tr>\n",
       "      <th>2</th>\n",
       "      <td>Advanced Aqua Group</td>\n",
       "      <td>aadvancedaqua.com/</td>\n",
       "    </tr>\n",
       "    <tr>\n",
       "      <th>3</th>\n",
       "      <td>ABB AB</td>\n",
       "      <td>abb.com/</td>\n",
       "    </tr>\n",
       "    <tr>\n",
       "      <th>4</th>\n",
       "      <td>AbbVie Inc.</td>\n",
       "      <td>abbvie.com/</td>\n",
       "    </tr>\n",
       "  </tbody>\n",
       "</table>\n",
       "</div>"
      ],
      "text/plain": [
       "                            Company                 url\n",
       "0             Two Blades Foundation        2blades.org/\n",
       "1  3M Innovative Properties Company             3m.com/\n",
       "2               Advanced Aqua Group  aadvancedaqua.com/\n",
       "3                            ABB AB            abb.com/\n",
       "4                       AbbVie Inc.         abbvie.com/"
      ]
     },
     "execution_count": 3,
     "metadata": {},
     "output_type": "execute_result"
    }
   ],
   "source": [
    "all_firms_data = pd.read_csv('../../data/orgs/all_firms.csv', header = None)\n",
    "all_firms_data.columns = ['Company', 'url']\n",
    "print (all_firms_data.shape)\n",
    "all_firms_data.head()"
   ]
  },
  {
   "cell_type": "code",
   "execution_count": 4,
   "metadata": {},
   "outputs": [
    {
     "name": "stdout",
     "output_type": "stream",
     "text": [
      "(1538, 9)\n"
     ]
    },
    {
     "data": {
      "text/html": [
       "<div>\n",
       "<style scoped>\n",
       "    .dataframe tbody tr th:only-of-type {\n",
       "        vertical-align: middle;\n",
       "    }\n",
       "\n",
       "    .dataframe tbody tr th {\n",
       "        vertical-align: top;\n",
       "    }\n",
       "\n",
       "    .dataframe thead th {\n",
       "        text-align: right;\n",
       "    }\n",
       "</style>\n",
       "<table border=\"1\" class=\"dataframe\">\n",
       "  <thead>\n",
       "    <tr style=\"text-align: right;\">\n",
       "      <th></th>\n",
       "      <th>organization_clnd</th>\n",
       "      <th>mean_citations_3</th>\n",
       "      <th>first_year</th>\n",
       "      <th>num_patents_all</th>\n",
       "      <th>num_patents_3</th>\n",
       "      <th>mean_assignees_all</th>\n",
       "      <th>mean_assignees_3</th>\n",
       "      <th>mean_inventors_all</th>\n",
       "      <th>mean_inventors_3</th>\n",
       "    </tr>\n",
       "  </thead>\n",
       "  <tbody>\n",
       "    <tr>\n",
       "      <th>0</th>\n",
       "      <td>22nd Century Limited</td>\n",
       "      <td>0.000000</td>\n",
       "      <td>2014</td>\n",
       "      <td>21</td>\n",
       "      <td>2</td>\n",
       "      <td>1.000000</td>\n",
       "      <td>1.000000</td>\n",
       "      <td>1.952381</td>\n",
       "      <td>2.000000</td>\n",
       "    </tr>\n",
       "    <tr>\n",
       "      <th>1</th>\n",
       "      <td>3M Innovative Properties Company</td>\n",
       "      <td>1.666667</td>\n",
       "      <td>1999</td>\n",
       "      <td>10263</td>\n",
       "      <td>58</td>\n",
       "      <td>1.009744</td>\n",
       "      <td>1.017544</td>\n",
       "      <td>3.465458</td>\n",
       "      <td>4.754386</td>\n",
       "    </tr>\n",
       "    <tr>\n",
       "      <th>2</th>\n",
       "      <td>AAC Technologies Pte</td>\n",
       "      <td>1.000000</td>\n",
       "      <td>2012</td>\n",
       "      <td>206</td>\n",
       "      <td>1</td>\n",
       "      <td>1.038835</td>\n",
       "      <td>1.000000</td>\n",
       "      <td>1.951456</td>\n",
       "      <td>1.000000</td>\n",
       "    </tr>\n",
       "    <tr>\n",
       "      <th>3</th>\n",
       "      <td>Aadigen</td>\n",
       "      <td>3.000000</td>\n",
       "      <td>2016</td>\n",
       "      <td>5</td>\n",
       "      <td>1</td>\n",
       "      <td>1.000000</td>\n",
       "      <td>1.000000</td>\n",
       "      <td>3.400000</td>\n",
       "      <td>4.000000</td>\n",
       "    </tr>\n",
       "    <tr>\n",
       "      <th>4</th>\n",
       "      <td>ABB AB</td>\n",
       "      <td>0.000000</td>\n",
       "      <td>2000</td>\n",
       "      <td>380</td>\n",
       "      <td>1</td>\n",
       "      <td>1.005263</td>\n",
       "      <td>2.000000</td>\n",
       "      <td>2.781579</td>\n",
       "      <td>4.000000</td>\n",
       "    </tr>\n",
       "  </tbody>\n",
       "</table>\n",
       "</div>"
      ],
      "text/plain": [
       "                  organization_clnd  mean_citations_3  first_year  \\\n",
       "0              22nd Century Limited          0.000000        2014   \n",
       "1  3M Innovative Properties Company          1.666667        1999   \n",
       "2              AAC Technologies Pte          1.000000        2012   \n",
       "3                           Aadigen          3.000000        2016   \n",
       "4                            ABB AB          0.000000        2000   \n",
       "\n",
       "   num_patents_all  num_patents_3  mean_assignees_all  mean_assignees_3  \\\n",
       "0               21              2            1.000000          1.000000   \n",
       "1            10263             58            1.009744          1.017544   \n",
       "2              206              1            1.038835          1.000000   \n",
       "3                5              1            1.000000          1.000000   \n",
       "4              380              1            1.005263          2.000000   \n",
       "\n",
       "   mean_inventors_all  mean_inventors_3  \n",
       "0            1.952381          2.000000  \n",
       "1            3.465458          4.754386  \n",
       "2            1.951456          1.000000  \n",
       "3            3.400000          4.000000  \n",
       "4            2.781579          4.000000  "
      ]
     },
     "execution_count": 4,
     "metadata": {},
     "output_type": "execute_result"
    }
   ],
   "source": [
    "firm_data = pd.read_csv('../../data/patents/measures/firm_level_patent_measures.csv')\n",
    "print(firm_data.shape)\n",
    "firm_data.head()"
   ]
  },
  {
   "cell_type": "code",
   "execution_count": 51,
   "metadata": {},
   "outputs": [
    {
     "name": "stdout",
     "output_type": "stream",
     "text": [
      "Firms with missing urls: 199\n",
      "(1487, 9)\n"
     ]
    },
    {
     "data": {
      "text/html": [
       "<div>\n",
       "<style scoped>\n",
       "    .dataframe tbody tr th:only-of-type {\n",
       "        vertical-align: middle;\n",
       "    }\n",
       "\n",
       "    .dataframe tbody tr th {\n",
       "        vertical-align: top;\n",
       "    }\n",
       "\n",
       "    .dataframe thead th {\n",
       "        text-align: right;\n",
       "    }\n",
       "</style>\n",
       "<table border=\"1\" class=\"dataframe\">\n",
       "  <thead>\n",
       "    <tr style=\"text-align: right;\">\n",
       "      <th></th>\n",
       "      <th>firm</th>\n",
       "      <th>firm_length</th>\n",
       "      <th>url</th>\n",
       "      <th>public</th>\n",
       "      <th>acquired_merged</th>\n",
       "      <th>nano</th>\n",
       "      <th>green</th>\n",
       "      <th>synbio</th>\n",
       "      <th>max_emps</th>\n",
       "    </tr>\n",
       "  </thead>\n",
       "  <tbody>\n",
       "    <tr>\n",
       "      <th>0</th>\n",
       "      <td>Integrated Solar Technology</td>\n",
       "      <td>27.0</td>\n",
       "      <td>1</td>\n",
       "      <td>0</td>\n",
       "      <td>0</td>\n",
       "      <td>0</td>\n",
       "      <td>1</td>\n",
       "      <td>0</td>\n",
       "      <td>71</td>\n",
       "    </tr>\n",
       "    <tr>\n",
       "      <th>1</th>\n",
       "      <td>Graphene Technologies</td>\n",
       "      <td>21.0</td>\n",
       "      <td>1</td>\n",
       "      <td>0</td>\n",
       "      <td>0</td>\n",
       "      <td>1</td>\n",
       "      <td>0</td>\n",
       "      <td>0</td>\n",
       "      <td>79</td>\n",
       "    </tr>\n",
       "    <tr>\n",
       "      <th>2</th>\n",
       "      <td>Proton Power</td>\n",
       "      <td>12.0</td>\n",
       "      <td>1</td>\n",
       "      <td>0</td>\n",
       "      <td>0</td>\n",
       "      <td>0</td>\n",
       "      <td>1</td>\n",
       "      <td>0</td>\n",
       "      <td>74</td>\n",
       "    </tr>\n",
       "    <tr>\n",
       "      <th>3</th>\n",
       "      <td>Renewable Algal Energy</td>\n",
       "      <td>22.0</td>\n",
       "      <td>1</td>\n",
       "      <td>0</td>\n",
       "      <td>0</td>\n",
       "      <td>0</td>\n",
       "      <td>1</td>\n",
       "      <td>0</td>\n",
       "      <td>90</td>\n",
       "    </tr>\n",
       "    <tr>\n",
       "      <th>4</th>\n",
       "      <td>Metabolix</td>\n",
       "      <td>9.0</td>\n",
       "      <td>1</td>\n",
       "      <td>0</td>\n",
       "      <td>0</td>\n",
       "      <td>1</td>\n",
       "      <td>0</td>\n",
       "      <td>0</td>\n",
       "      <td>66</td>\n",
       "    </tr>\n",
       "  </tbody>\n",
       "</table>\n",
       "</div>"
      ],
      "text/plain": [
       "                          firm  firm_length  url  public  acquired_merged  \\\n",
       "0  Integrated Solar Technology         27.0    1       0                0   \n",
       "1        Graphene Technologies         21.0    1       0                0   \n",
       "2                 Proton Power         12.0    1       0                0   \n",
       "3       Renewable Algal Energy         22.0    1       0                0   \n",
       "4                    Metabolix          9.0    1       0                0   \n",
       "\n",
       "   nano  green  synbio  max_emps  \n",
       "0     0      1       0        71  \n",
       "1     1      0       0        79  \n",
       "2     0      1       0        74  \n",
       "3     0      1       0        90  \n",
       "4     1      0       0        66  "
      ]
     },
     "execution_count": 51,
     "metadata": {},
     "output_type": "execute_result"
    }
   ],
   "source": [
    "all_emp_data = pd.read_csv('../../data/orgs/emps/eager_emps_v3.csv')\n",
    "all_emp_data['url'] = 1\n",
    "all_emp_data.loc[pd.isna(all_emp_data['hit_url']), ['url']] = 0\n",
    "print ('Firms with missing urls:', len(all_emp_data.loc[all_emp_data['url'] == 0]))\n",
    "all_emp_data = all_emp_data[['firm', 'firm_length', 'url', 'public', 'acquired_merged', 'nano', 'green', 'synbio', 'max_emps']]\n",
    "print (all_emp_data.shape)\n",
    "all_emp_data.head()\n",
    "\n",
    "# unlabeled.loc[np.isnan(unlabeled['share_of_sentences_ftr']), 'share_of_sentences_ftr'] = 0 "
   ]
  },
  {
   "cell_type": "code",
   "execution_count": 52,
   "metadata": {},
   "outputs": [
    {
     "data": {
      "text/plain": [
       "both          780\n",
       "left_only     759\n",
       "right_only    707\n",
       "Name: _merge, dtype: int64"
      ]
     },
     "execution_count": 52,
     "metadata": {},
     "output_type": "execute_result"
    }
   ],
   "source": [
    "#about 50% merge, which we can use for the preliminary analysis\n",
    "data = pd.merge(firm_data, all_emp_data, left_on = 'organization_clnd', right_on = 'firm', how = 'outer', indicator = True)\n",
    "data._merge.value_counts()"
   ]
  },
  {
   "cell_type": "code",
   "execution_count": 53,
   "metadata": {},
   "outputs": [
    {
     "data": {
      "text/plain": [
       "1.0    667\n",
       "0.0    113\n",
       "Name: url, dtype: int64"
      ]
     },
     "execution_count": 53,
     "metadata": {},
     "output_type": "execute_result"
    }
   ],
   "source": [
    "full_data = data[data._merge == 'both']\n",
    "#we do have some both with and without urls\n",
    "full_data['url'].value_counts()"
   ]
  },
  {
   "cell_type": "code",
   "execution_count": 54,
   "metadata": {},
   "outputs": [],
   "source": [
    "from sklearn.model_selection import train_test_split"
   ]
  },
  {
   "cell_type": "code",
   "execution_count": 55,
   "metadata": {},
   "outputs": [],
   "source": [
    "#for now, fill nan with 0, probably want to use mean imputation \n",
    "x_cols = [col for col in full_data.columns if not col in ['_merge', 'firm', 'organization_clnd', 'url']]\n",
    "xs = full_data[x_cols].fillna(0)\n",
    "y = full_data['url']\n",
    "\n",
    "X_train, X_test, y_train, y_test = train_test_split(xs, y, test_size=0.25, random_state=42)"
   ]
  },
  {
   "cell_type": "code",
   "execution_count": 56,
   "metadata": {},
   "outputs": [],
   "source": [
    "from sklearn.ensemble import RandomForestClassifier\n",
    "from sklearn.ensemble import GradientBoostingClassifier\n",
    "from sklearn.metrics import confusion_matrix, precision_score, recall_score\n",
    "from sklearn.model_selection import cross_val_score"
   ]
  },
  {
   "cell_type": "code",
   "execution_count": 57,
   "metadata": {},
   "outputs": [
    {
     "name": "stdout",
     "output_type": "stream",
     "text": [
      "[0.88888889 0.84615385 0.88888889 0.83760684 0.85470085]\n",
      "0.8632478632478632\n"
     ]
    }
   ],
   "source": [
    "clf = RandomForestClassifier()\n",
    "cv_accuracy = cross_val_score(clf, X_train, y_train,cv =5)\n",
    "print(cv_accuracy )\n",
    "print(np.mean(cv_accuracy ))"
   ]
  },
  {
   "cell_type": "code",
   "execution_count": 58,
   "metadata": {},
   "outputs": [
    {
     "name": "stdout",
     "output_type": "stream",
     "text": [
      "[0.94059406 0.99009901 1.         0.94059406 0.95049505]\n",
      "0.9643564356435643\n"
     ]
    }
   ],
   "source": [
    "cv_recall =cross_val_score(clf, X_train, y_train,cv =5, scoring = 'recall')\n",
    "print(cv_recall)\n",
    "print(np.mean(cv_recall))"
   ]
  },
  {
   "cell_type": "code",
   "execution_count": 59,
   "metadata": {},
   "outputs": [
    {
     "name": "stdout",
     "output_type": "stream",
     "text": [
      "[0.89814815 0.89908257 0.88392857 0.87850467 0.89090909]\n",
      "0.8901146104380692\n"
     ]
    }
   ],
   "source": [
    "#TODO: is this high?\n",
    "cv_precision = cross_val_score(clf, X_train, y_train,cv =5, scoring = 'precision')\n",
    "print(cv_precision)\n",
    "print(np.mean(cv_precision))"
   ]
  },
  {
   "cell_type": "code",
   "execution_count": 60,
   "metadata": {},
   "outputs": [
    {
     "data": {
      "text/plain": [
       "array([[  7,  26],\n",
       "       [ 11, 151]])"
      ]
     },
     "execution_count": 60,
     "metadata": {},
     "output_type": "execute_result"
    }
   ],
   "source": [
    "clf.fit(X_train, y_train)\n",
    "preds = clf.predict(X_test)\n",
    "#basically this shows that we are getting a lot of false positives\n",
    "#ie firms without an url that we said had one\n",
    "confusion_matrix(y_test, preds)"
   ]
  },
  {
   "cell_type": "code",
   "execution_count": 61,
   "metadata": {},
   "outputs": [
    {
     "data": {
      "text/plain": [
       "1.0    162\n",
       "0.0     33\n",
       "Name: url, dtype: int64"
      ]
     },
     "execution_count": 61,
     "metadata": {},
     "output_type": "execute_result"
    }
   ],
   "source": [
    "y_test.value_counts()"
   ]
  },
  {
   "cell_type": "code",
   "execution_count": 62,
   "metadata": {},
   "outputs": [
    {
     "data": {
      "text/plain": [
       "[('public', 0.006435601375527576),\n",
       " ('synbio', 0.010747005872551221),\n",
       " ('nano', 0.01801049781399134),\n",
       " ('green', 0.018856145806630073),\n",
       " ('mean_assignees_3', 0.019476085107334253),\n",
       " ('mean_citations_3', 0.029103886822104665),\n",
       " ('num_patents_3', 0.03401515450684444),\n",
       " ('acquired_merged', 0.03833485023807132),\n",
       " ('mean_assignees_all', 0.04391007311404847),\n",
       " ('mean_inventors_3', 0.07461158046768232),\n",
       " ('first_year', 0.10118754738906668),\n",
       " ('mean_inventors_all', 0.1016847768344927),\n",
       " ('num_patents_all', 0.13387896360011187),\n",
       " ('firm_length', 0.1454362751100862),\n",
       " ('max_emps', 0.22431155594145688)]"
      ]
     },
     "execution_count": 62,
     "metadata": {},
     "output_type": "execute_result"
    }
   ],
   "source": [
    "feature_imp = sorted(list(zip(x_cols, clf.feature_importances_)) , key=lambda x: x[1])\n",
    "feature_imp"
   ]
  },
  {
   "cell_type": "code",
   "execution_count": null,
   "metadata": {
    "collapsed": true
   },
   "outputs": [],
   "source": [
    "## We should try some over sampling of the firms without urls to improve prediciton"
   ]
  }
 ],
 "metadata": {
  "kernelspec": {
   "display_name": "Python 3",
   "language": "python",
   "name": "python3"
  },
  "language_info": {
   "codemirror_mode": {
    "name": "ipython",
    "version": 3
   },
   "file_extension": ".py",
   "mimetype": "text/x-python",
   "name": "python",
   "nbconvert_exporter": "python",
   "pygments_lexer": "ipython3",
   "version": "3.7.1"
  }
 },
 "nbformat": 4,
 "nbformat_minor": 2
}
