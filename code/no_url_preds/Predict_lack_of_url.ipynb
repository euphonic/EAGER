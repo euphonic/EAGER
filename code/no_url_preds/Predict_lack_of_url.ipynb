{
 "cells": [
  {
   "cell_type": "markdown",
   "metadata": {},
   "source": [
    "### Predicting Lack of Firm URL"
   ]
  },
  {
   "cell_type": "code",
   "execution_count": 1,
   "metadata": {
    "collapsed": true
   },
   "outputs": [],
   "source": [
    "%matplotlib inline\n",
    "import pandas as pd\n",
    "import numpy as np\n",
    "import os"
   ]
  },
  {
   "cell_type": "code",
   "execution_count": 2,
   "metadata": {},
   "outputs": [
    {
     "data": {
      "text/html": [
       "<div>\n",
       "<style>\n",
       "    .dataframe thead tr:only-child th {\n",
       "        text-align: right;\n",
       "    }\n",
       "\n",
       "    .dataframe thead th {\n",
       "        text-align: left;\n",
       "    }\n",
       "\n",
       "    .dataframe tbody tr th {\n",
       "        vertical-align: top;\n",
       "    }\n",
       "</style>\n",
       "<table border=\"1\" class=\"dataframe\">\n",
       "  <thead>\n",
       "    <tr style=\"text-align: right;\">\n",
       "      <th></th>\n",
       "      <th>Company</th>\n",
       "      <th>url</th>\n",
       "    </tr>\n",
       "  </thead>\n",
       "  <tbody>\n",
       "    <tr>\n",
       "      <th>0</th>\n",
       "      <td>Two Blades Foundation</td>\n",
       "      <td>2blades.org/</td>\n",
       "    </tr>\n",
       "    <tr>\n",
       "      <th>1</th>\n",
       "      <td>3M Innovative Properties Company</td>\n",
       "      <td>3m.com/</td>\n",
       "    </tr>\n",
       "    <tr>\n",
       "      <th>2</th>\n",
       "      <td>Advanced Aqua Group</td>\n",
       "      <td>aadvancedaqua.com/</td>\n",
       "    </tr>\n",
       "    <tr>\n",
       "      <th>3</th>\n",
       "      <td>ABB AB</td>\n",
       "      <td>abb.com/</td>\n",
       "    </tr>\n",
       "    <tr>\n",
       "      <th>4</th>\n",
       "      <td>AbbVie Inc.</td>\n",
       "      <td>abbvie.com/</td>\n",
       "    </tr>\n",
       "  </tbody>\n",
       "</table>\n",
       "</div>"
      ],
      "text/plain": [
       "                            Company                 url\n",
       "0             Two Blades Foundation        2blades.org/\n",
       "1  3M Innovative Properties Company             3m.com/\n",
       "2               Advanced Aqua Group  aadvancedaqua.com/\n",
       "3                            ABB AB            abb.com/\n",
       "4                       AbbVie Inc.         abbvie.com/"
      ]
     },
     "execution_count": 2,
     "metadata": {},
     "output_type": "execute_result"
    }
   ],
   "source": [
    "url_data = pd.read_csv('../../data/orgs/depth0.csv', header = None)\n",
    "url_data.columns = ['Company', 'url']\n",
    "url_data.head()"
   ]
  },
  {
   "cell_type": "code",
   "execution_count": 3,
   "metadata": {},
   "outputs": [
    {
     "data": {
      "text/plain": [
       "1294"
      ]
     },
     "execution_count": 3,
     "metadata": {},
     "output_type": "execute_result"
    }
   ],
   "source": [
    "len(url_data)"
   ]
  },
  {
   "cell_type": "code",
   "execution_count": 4,
   "metadata": {},
   "outputs": [
    {
     "data": {
      "text/html": [
       "<div>\n",
       "<style>\n",
       "    .dataframe thead tr:only-child th {\n",
       "        text-align: right;\n",
       "    }\n",
       "\n",
       "    .dataframe thead th {\n",
       "        text-align: left;\n",
       "    }\n",
       "\n",
       "    .dataframe tbody tr th {\n",
       "        vertical-align: top;\n",
       "    }\n",
       "</style>\n",
       "<table border=\"1\" class=\"dataframe\">\n",
       "  <thead>\n",
       "    <tr style=\"text-align: right;\">\n",
       "      <th></th>\n",
       "      <th>organization_clnd</th>\n",
       "      <th>mean_citations_3</th>\n",
       "      <th>first_year</th>\n",
       "      <th>num_patents_all</th>\n",
       "      <th>num_patents_3</th>\n",
       "      <th>mean_assignees_all</th>\n",
       "      <th>mean_assignees_3</th>\n",
       "      <th>mean_inventors_all</th>\n",
       "      <th>mean_inventors_3</th>\n",
       "    </tr>\n",
       "  </thead>\n",
       "  <tbody>\n",
       "    <tr>\n",
       "      <th>0</th>\n",
       "      <td>22nd Century Limited</td>\n",
       "      <td>0.000000</td>\n",
       "      <td>2014</td>\n",
       "      <td>21</td>\n",
       "      <td>2</td>\n",
       "      <td>1.000000</td>\n",
       "      <td>1.000000</td>\n",
       "      <td>1.952381</td>\n",
       "      <td>2.000000</td>\n",
       "    </tr>\n",
       "    <tr>\n",
       "      <th>1</th>\n",
       "      <td>3M Innovative Properties Company</td>\n",
       "      <td>1.666667</td>\n",
       "      <td>1999</td>\n",
       "      <td>10263</td>\n",
       "      <td>58</td>\n",
       "      <td>1.009744</td>\n",
       "      <td>1.017544</td>\n",
       "      <td>3.465458</td>\n",
       "      <td>4.754386</td>\n",
       "    </tr>\n",
       "    <tr>\n",
       "      <th>2</th>\n",
       "      <td>AAC Technologies Pte</td>\n",
       "      <td>1.000000</td>\n",
       "      <td>2012</td>\n",
       "      <td>206</td>\n",
       "      <td>1</td>\n",
       "      <td>1.038835</td>\n",
       "      <td>1.000000</td>\n",
       "      <td>1.951456</td>\n",
       "      <td>1.000000</td>\n",
       "    </tr>\n",
       "    <tr>\n",
       "      <th>3</th>\n",
       "      <td>Aadigen</td>\n",
       "      <td>3.000000</td>\n",
       "      <td>2016</td>\n",
       "      <td>5</td>\n",
       "      <td>1</td>\n",
       "      <td>1.000000</td>\n",
       "      <td>1.000000</td>\n",
       "      <td>3.400000</td>\n",
       "      <td>4.000000</td>\n",
       "    </tr>\n",
       "    <tr>\n",
       "      <th>4</th>\n",
       "      <td>ABB AB</td>\n",
       "      <td>0.000000</td>\n",
       "      <td>2000</td>\n",
       "      <td>380</td>\n",
       "      <td>1</td>\n",
       "      <td>1.005263</td>\n",
       "      <td>2.000000</td>\n",
       "      <td>2.781579</td>\n",
       "      <td>4.000000</td>\n",
       "    </tr>\n",
       "  </tbody>\n",
       "</table>\n",
       "</div>"
      ],
      "text/plain": [
       "                  organization_clnd  mean_citations_3  first_year  \\\n",
       "0              22nd Century Limited          0.000000        2014   \n",
       "1  3M Innovative Properties Company          1.666667        1999   \n",
       "2              AAC Technologies Pte          1.000000        2012   \n",
       "3                           Aadigen          3.000000        2016   \n",
       "4                            ABB AB          0.000000        2000   \n",
       "\n",
       "   num_patents_all  num_patents_3  mean_assignees_all  mean_assignees_3  \\\n",
       "0               21              2            1.000000          1.000000   \n",
       "1            10263             58            1.009744          1.017544   \n",
       "2              206              1            1.038835          1.000000   \n",
       "3                5              1            1.000000          1.000000   \n",
       "4              380              1            1.005263          2.000000   \n",
       "\n",
       "   mean_inventors_all  mean_inventors_3  \n",
       "0            1.952381          2.000000  \n",
       "1            3.465458          4.754386  \n",
       "2            1.951456          1.000000  \n",
       "3            3.400000          4.000000  \n",
       "4            2.781579          4.000000  "
      ]
     },
     "execution_count": 4,
     "metadata": {},
     "output_type": "execute_result"
    }
   ],
   "source": [
    "firm_data = pd.read_csv('../../data/patents/measures/firm_level_patent_measures.csv')\n",
    "firm_data.head()"
   ]
  },
  {
   "cell_type": "code",
   "execution_count": 5,
   "metadata": {},
   "outputs": [
    {
     "data": {
      "text/html": [
       "<div>\n",
       "<style>\n",
       "    .dataframe thead tr:only-child th {\n",
       "        text-align: right;\n",
       "    }\n",
       "\n",
       "    .dataframe thead th {\n",
       "        text-align: left;\n",
       "    }\n",
       "\n",
       "    .dataframe tbody tr th {\n",
       "        vertical-align: top;\n",
       "    }\n",
       "</style>\n",
       "<table border=\"1\" class=\"dataframe\">\n",
       "  <thead>\n",
       "    <tr style=\"text-align: right;\">\n",
       "      <th></th>\n",
       "      <th>firm</th>\n",
       "      <th>firm_length</th>\n",
       "      <th>acquired_merged</th>\n",
       "      <th>max_emps</th>\n",
       "      <th>url</th>\n",
       "    </tr>\n",
       "  </thead>\n",
       "  <tbody>\n",
       "    <tr>\n",
       "      <th>993</th>\n",
       "      <td>CAPAT</td>\n",
       "      <td>5.0</td>\n",
       "      <td>0</td>\n",
       "      <td>387.0</td>\n",
       "      <td>0</td>\n",
       "    </tr>\n",
       "    <tr>\n",
       "      <th>641</th>\n",
       "      <td>Aseptia</td>\n",
       "      <td>7.0</td>\n",
       "      <td>0</td>\n",
       "      <td>263.0</td>\n",
       "      <td>0</td>\n",
       "    </tr>\n",
       "    <tr>\n",
       "      <th>791</th>\n",
       "      <td>BOE Technology Group Co.</td>\n",
       "      <td>23.0</td>\n",
       "      <td>0</td>\n",
       "      <td>6199.0</td>\n",
       "      <td>0</td>\n",
       "    </tr>\n",
       "    <tr>\n",
       "      <th>1340</th>\n",
       "      <td>Crepaco</td>\n",
       "      <td>NaN</td>\n",
       "      <td>0</td>\n",
       "      <td>3512.0</td>\n",
       "      <td>0</td>\n",
       "    </tr>\n",
       "    <tr>\n",
       "      <th>200</th>\n",
       "      <td>Abraxis Bioscience</td>\n",
       "      <td>18.0</td>\n",
       "      <td>1</td>\n",
       "      <td>204.0</td>\n",
       "      <td>0</td>\n",
       "    </tr>\n",
       "  </tbody>\n",
       "</table>\n",
       "</div>"
      ],
      "text/plain": [
       "                          firm  firm_length  acquired_merged  max_emps  url\n",
       "993                      CAPAT          5.0                0     387.0    0\n",
       "641                    Aseptia          7.0                0     263.0    0\n",
       "791   BOE Technology Group Co.         23.0                0    6199.0    0\n",
       "1340                   Crepaco          NaN                0    3512.0    0\n",
       "200         Abraxis Bioscience         18.0                1     204.0    0"
      ]
     },
     "execution_count": 5,
     "metadata": {},
     "output_type": "execute_result"
    }
   ],
   "source": [
    "emp_data_loc = '../../..'\n",
    "no_url_emp_data = pd.read_excel('{}/bing-firm-final-urls-out_v6-new emps.xlsx'.format(emp_data_loc), sheetname = 'bing with emp data_no urls only')\n",
    "no_url_emp_data = no_url_emp_data[['firm', 'firm_length', 'acquired_merged', 'LinkedIn employees']]\n",
    "#is this assumption that those two columns are the same correct?\n",
    "no_url_emp_data  = no_url_emp_data.rename(columns = {'LinkedIn employees':'max_emps'})\n",
    "no_url_emp_data['url'] = 0\n",
    "no_url_emp_data.head()"
   ]
  },
  {
   "cell_type": "code",
   "execution_count": 6,
   "metadata": {},
   "outputs": [
    {
     "data": {
      "text/html": [
       "<div>\n",
       "<style>\n",
       "    .dataframe thead tr:only-child th {\n",
       "        text-align: right;\n",
       "    }\n",
       "\n",
       "    .dataframe thead th {\n",
       "        text-align: left;\n",
       "    }\n",
       "\n",
       "    .dataframe tbody tr th {\n",
       "        vertical-align: top;\n",
       "    }\n",
       "</style>\n",
       "<table border=\"1\" class=\"dataframe\">\n",
       "  <thead>\n",
       "    <tr style=\"text-align: right;\">\n",
       "      <th></th>\n",
       "      <th>firm</th>\n",
       "      <th>firm_length</th>\n",
       "      <th>acquired_merged</th>\n",
       "      <th>max_emps</th>\n",
       "      <th>url</th>\n",
       "    </tr>\n",
       "  </thead>\n",
       "  <tbody>\n",
       "    <tr>\n",
       "      <th>0</th>\n",
       "      <td>H R D CORPORATION</td>\n",
       "      <td>5</td>\n",
       "      <td>0</td>\n",
       "      <td>76.0</td>\n",
       "      <td>1</td>\n",
       "    </tr>\n",
       "    <tr>\n",
       "      <th>1</th>\n",
       "      <td>King Electric Vehicles Inc.</td>\n",
       "      <td>22</td>\n",
       "      <td>0</td>\n",
       "      <td>90.0</td>\n",
       "      <td>1</td>\n",
       "    </tr>\n",
       "    <tr>\n",
       "      <th>2</th>\n",
       "      <td>Integrated Solar Technology</td>\n",
       "      <td>27</td>\n",
       "      <td>0</td>\n",
       "      <td>71.0</td>\n",
       "      <td>1</td>\n",
       "    </tr>\n",
       "    <tr>\n",
       "      <th>3</th>\n",
       "      <td>Graphene Technologies</td>\n",
       "      <td>21</td>\n",
       "      <td>0</td>\n",
       "      <td>79.0</td>\n",
       "      <td>1</td>\n",
       "    </tr>\n",
       "    <tr>\n",
       "      <th>4</th>\n",
       "      <td>Proton Power</td>\n",
       "      <td>12</td>\n",
       "      <td>0</td>\n",
       "      <td>74.0</td>\n",
       "      <td>1</td>\n",
       "    </tr>\n",
       "  </tbody>\n",
       "</table>\n",
       "</div>"
      ],
      "text/plain": [
       "                          firm  firm_length  acquired_merged  max_emps  url\n",
       "0            H R D CORPORATION            5                0      76.0    1\n",
       "1  King Electric Vehicles Inc.           22                0      90.0    1\n",
       "2  Integrated Solar Technology           27                0      71.0    1\n",
       "3        Graphene Technologies           21                0      79.0    1\n",
       "4                 Proton Power           12                0      74.0    1"
      ]
     },
     "execution_count": 6,
     "metadata": {},
     "output_type": "execute_result"
    }
   ],
   "source": [
    "url_emp_data = pd.read_excel('{}/bing-firm-final-urls-out_v7-li-gw.xlsx'.format(emp_data_loc), sheetname = 'NEW_bing with li-gw data')\n",
    "url_emp_data = url_emp_data[['firm', 'firm_length', 'acquired_merged', 'max_emps']]\n",
    "url_emp_data['url'] = 1\n",
    "url_emp_data.head()"
   ]
  },
  {
   "cell_type": "code",
   "execution_count": 7,
   "metadata": {},
   "outputs": [
    {
     "data": {
      "text/html": [
       "<div>\n",
       "<style>\n",
       "    .dataframe thead tr:only-child th {\n",
       "        text-align: right;\n",
       "    }\n",
       "\n",
       "    .dataframe thead th {\n",
       "        text-align: left;\n",
       "    }\n",
       "\n",
       "    .dataframe tbody tr th {\n",
       "        vertical-align: top;\n",
       "    }\n",
       "</style>\n",
       "<table border=\"1\" class=\"dataframe\">\n",
       "  <thead>\n",
       "    <tr style=\"text-align: right;\">\n",
       "      <th></th>\n",
       "      <th>firm</th>\n",
       "      <th>firm_length</th>\n",
       "      <th>acquired_merged</th>\n",
       "      <th>max_emps</th>\n",
       "      <th>url</th>\n",
       "    </tr>\n",
       "  </thead>\n",
       "  <tbody>\n",
       "    <tr>\n",
       "      <th>993</th>\n",
       "      <td>CAPAT</td>\n",
       "      <td>5.0</td>\n",
       "      <td>0</td>\n",
       "      <td>387.0</td>\n",
       "      <td>0</td>\n",
       "    </tr>\n",
       "    <tr>\n",
       "      <th>641</th>\n",
       "      <td>Aseptia</td>\n",
       "      <td>7.0</td>\n",
       "      <td>0</td>\n",
       "      <td>263.0</td>\n",
       "      <td>0</td>\n",
       "    </tr>\n",
       "    <tr>\n",
       "      <th>791</th>\n",
       "      <td>BOE Technology Group Co.</td>\n",
       "      <td>23.0</td>\n",
       "      <td>0</td>\n",
       "      <td>6199.0</td>\n",
       "      <td>0</td>\n",
       "    </tr>\n",
       "    <tr>\n",
       "      <th>1340</th>\n",
       "      <td>Crepaco</td>\n",
       "      <td>NaN</td>\n",
       "      <td>0</td>\n",
       "      <td>3512.0</td>\n",
       "      <td>0</td>\n",
       "    </tr>\n",
       "    <tr>\n",
       "      <th>200</th>\n",
       "      <td>Abraxis Bioscience</td>\n",
       "      <td>18.0</td>\n",
       "      <td>1</td>\n",
       "      <td>204.0</td>\n",
       "      <td>0</td>\n",
       "    </tr>\n",
       "  </tbody>\n",
       "</table>\n",
       "</div>"
      ],
      "text/plain": [
       "                          firm  firm_length  acquired_merged  max_emps  url\n",
       "993                      CAPAT          5.0                0     387.0    0\n",
       "641                    Aseptia          7.0                0     263.0    0\n",
       "791   BOE Technology Group Co.         23.0                0    6199.0    0\n",
       "1340                   Crepaco          NaN                0    3512.0    0\n",
       "200         Abraxis Bioscience         18.0                1     204.0    0"
      ]
     },
     "execution_count": 7,
     "metadata": {},
     "output_type": "execute_result"
    }
   ],
   "source": [
    "all_emp_data = pd.concat([no_url_emp_data, url_emp_data])\n",
    "all_emp_data.head()"
   ]
  },
  {
   "cell_type": "code",
   "execution_count": 8,
   "metadata": {},
   "outputs": [
    {
     "data": {
      "text/plain": [
       "both          780\n",
       "left_only     759\n",
       "right_only    707\n",
       "Name: _merge, dtype: int64"
      ]
     },
     "execution_count": 8,
     "metadata": {},
     "output_type": "execute_result"
    }
   ],
   "source": [
    "#about 50% merge, which we can use for the preliminary analysis\n",
    "data = pd.merge(firm_data, all_emp_data, left_on = 'organization_clnd', right_on = 'firm', how = 'outer', indicator = True)\n",
    "data._merge.value_counts()"
   ]
  },
  {
   "cell_type": "code",
   "execution_count": 9,
   "metadata": {},
   "outputs": [
    {
     "data": {
      "text/plain": [
       "1.0    668\n",
       "0.0    112\n",
       "Name: url, dtype: int64"
      ]
     },
     "execution_count": 9,
     "metadata": {},
     "output_type": "execute_result"
    }
   ],
   "source": [
    "full_data = data[data._merge == 'both']\n",
    "#we do have some both with and without urls\n",
    "full_data['url'].value_counts()"
   ]
  },
  {
   "cell_type": "code",
   "execution_count": 10,
   "metadata": {
    "collapsed": true
   },
   "outputs": [],
   "source": [
    "from sklearn.model_selection import train_test_split"
   ]
  },
  {
   "cell_type": "code",
   "execution_count": 11,
   "metadata": {
    "collapsed": true
   },
   "outputs": [],
   "source": [
    "#for now, fill nan with 0, probably want to use mean imputation \n",
    "x_cols = [col for col in full_data.columns if not col in ['_merge', 'firm', 'organization_clnd', 'url']]\n",
    "xs = full_data[x_cols].fillna(0)\n",
    "y = full_data['url']\n",
    "\n",
    "X_train, X_test, y_train, y_test = train_test_split(xs, y, test_size=0.25, random_state=42)"
   ]
  },
  {
   "cell_type": "code",
   "execution_count": 18,
   "metadata": {
    "collapsed": true
   },
   "outputs": [],
   "source": [
    "from sklearn.ensemble import RandomForestClassifier\n",
    "from sklearn.ensemble import GradientBoostingClassifier\n",
    "from sklearn.metrics import confusion_matrix, precision_score, recall_score\n",
    "from sklearn.model_selection import cross_val_score"
   ]
  },
  {
   "cell_type": "code",
   "execution_count": 23,
   "metadata": {},
   "outputs": [
    {
     "name": "stdout",
     "output_type": "stream",
     "text": [
      "[ 0.83050847  0.85470085  0.88034188  0.83760684  0.87068966]\n",
      "0.85476954048\n"
     ]
    }
   ],
   "source": [
    "clf = RandomForestClassifier()\n",
    "cv_accuracy = cross_val_score(clf, X_train, y_train,cv =5)\n",
    "print(cv_accuracy )\n",
    "print(np.mean(cv_accuracy ))"
   ]
  },
  {
   "cell_type": "code",
   "execution_count": 24,
   "metadata": {},
   "outputs": [
    {
     "name": "stdout",
     "output_type": "stream",
     "text": [
      "[ 0.93137255  0.95049505  0.96039604  0.92079208  0.99009901]\n",
      "0.950630945447\n"
     ]
    }
   ],
   "source": [
    "cv_recall =cross_val_score(clf, X_train, y_train,cv =5, scoring = 'recall')\n",
    "print(cv_recall)\n",
    "print(np.mean(cv_recall))"
   ]
  },
  {
   "cell_type": "code",
   "execution_count": 25,
   "metadata": {},
   "outputs": [
    {
     "name": "stdout",
     "output_type": "stream",
     "text": [
      "[ 0.89320388  0.875       0.89814815  0.87272727  0.87610619]\n",
      "0.883037099812\n"
     ]
    }
   ],
   "source": [
    "#TODO: is this high?\n",
    "cv_precision = cross_val_score(clf, X_train, y_train,cv =5, scoring = 'precision')\n",
    "print(cv_precision)\n",
    "print(np.mean(cv_precision))"
   ]
  },
  {
   "cell_type": "code",
   "execution_count": 15,
   "metadata": {},
   "outputs": [
    {
     "data": {
      "text/plain": [
       "array([[ 10,  23],\n",
       "       [ 13, 149]])"
      ]
     },
     "execution_count": 15,
     "metadata": {},
     "output_type": "execute_result"
    }
   ],
   "source": [
    "clf.fit(X_train, y_train)\n",
    "preds = clf.predict(X_test)\n",
    "#basically this shows that we are getting a lot of false positives\n",
    "#ie firms without an url that we said had one\n",
    "confusion_matrix(y_test, preds)"
   ]
  },
  {
   "cell_type": "code",
   "execution_count": 26,
   "metadata": {},
   "outputs": [
    {
     "data": {
      "text/plain": [
       "1.0    162\n",
       "0.0     33\n",
       "Name: url, dtype: int64"
      ]
     },
     "execution_count": 26,
     "metadata": {},
     "output_type": "execute_result"
    }
   ],
   "source": [
    "y_test.value_counts()"
   ]
  },
  {
   "cell_type": "code",
   "execution_count": 17,
   "metadata": {},
   "outputs": [
    {
     "data": {
      "text/plain": [
       "[('mean_assignees_3', 0.022412629013985125),\n",
       " ('mean_citations_3', 0.028533477062707212),\n",
       " (u'acquired_merged', 0.033102419241252005),\n",
       " ('num_patents_3', 0.041768553533907946),\n",
       " ('mean_inventors_3', 0.062838239028315146),\n",
       " ('mean_assignees_all', 0.064241748706560173),\n",
       " ('mean_inventors_all', 0.0983730661834753),\n",
       " ('first_year', 0.10884304339763348),\n",
       " ('num_patents_all', 0.12024099309936816),\n",
       " (u'firm_length', 0.18064693519322064),\n",
       " ('max_emps', 0.23899889553957485)]"
      ]
     },
     "execution_count": 17,
     "metadata": {},
     "output_type": "execute_result"
    }
   ],
   "source": [
    "feature_imp = sorted(list(zip(x_cols, clf.feature_importances_)) , key=lambda x: x[1])\n",
    "feature_imp"
   ]
  },
  {
   "cell_type": "code",
   "execution_count": null,
   "metadata": {
    "collapsed": true
   },
   "outputs": [],
   "source": [
    "## We should try some over sampling of the firms without urls to improve prediciton"
   ]
  }
 ],
 "metadata": {
  "kernelspec": {
   "display_name": "Python 2",
   "language": "python",
   "name": "python2"
  },
  "language_info": {
   "codemirror_mode": {
    "name": "ipython",
    "version": 2
   },
   "file_extension": ".py",
   "mimetype": "text/x-python",
   "name": "python",
   "nbconvert_exporter": "python",
   "pygments_lexer": "ipython2",
   "version": "2.7.14"
  }
 },
 "nbformat": 4,
 "nbformat_minor": 2
}
