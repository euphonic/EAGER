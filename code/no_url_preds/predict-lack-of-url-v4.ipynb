{
 "cells": [
  {
   "cell_type": "markdown",
   "metadata": {},
   "source": [
    "# predict-lack-of-url\n",
    "skelley@air.org<br> \n",
    "sarora@air.org<br>\n",
    "February 2019<br>\n",
    "\n",
    "## Description\n",
    "This notebook tries to explain bias in missing observations, which are mostly caused to a lack of an identified URL or if a URL exists, lack of successfully scraped website data. It takes as input a matrix of firm level measures produced by the R script, firm_level_patent_measures_v2.R"
   ]
  },
  {
   "cell_type": "code",
   "execution_count": 1,
   "metadata": {},
   "outputs": [],
   "source": [
    "%matplotlib inline\n",
    "import pandas as pd\n",
    "import numpy as np\n",
    "import os\n",
    "import re\n",
    "from sklearn import tree\n",
    "from sklearn.metrics import accuracy_score\n",
    "from sklearn.model_selection import GridSearchCV\n",
    "from sklearn.model_selection import cross_val_score\n",
    "from statsmodels.formula.api import logit\n",
    "import graphviz "
   ]
  },
  {
   "cell_type": "markdown",
   "metadata": {},
   "source": [
    "## Load and prep data\n",
    "Here we are loading firm patent measures (also containing employee and url/website content data)"
   ]
  },
  {
   "cell_type": "code",
   "execution_count": 2,
   "metadata": {},
   "outputs": [],
   "source": [
    "# general firm name cleaning fxn\n",
    "def clean_firm_name (firm):\n",
    "    firm_clnd = re.sub('(\\.|,| corporation| incorporated| llc| inc| international| gmbh| ltd)', '', firm, flags=re.IGNORECASE).rstrip()\n",
    "    return firm_clnd"
   ]
  },
  {
   "cell_type": "code",
   "execution_count": 55,
   "metadata": {},
   "outputs": [
    {
     "name": "stdout",
     "output_type": "stream",
     "text": [
      "['firm' 'lookup_firm' 'lookup_firm_web' 'firm_length' 'name_clnd'\n",
      " 'name_length' 'manual_fix' 'hit_url' 'hit_url_length' 'rank' 'matches'\n",
      " 'public' 'acquired_merged' 'Votes' 'Group' 'nano' 'green' 'synbio'\n",
      " 'count_all_ind' 'max_emps' 'size_state' 'sme' 'num_patents_all' 'pages'\n",
      " 'num_words' 'avg_words_per_page' 'first_year' 'num_patents_3'\n",
      " 'mean_assignees_all' 'mean_assignees_3' 'mean_inventors_all'\n",
      " 'mean_inventors_3']\n",
      "(1376, 32)\n"
     ]
    },
    {
     "data": {
      "text/html": [
       "<div>\n",
       "<style scoped>\n",
       "    .dataframe tbody tr th:only-of-type {\n",
       "        vertical-align: middle;\n",
       "    }\n",
       "\n",
       "    .dataframe tbody tr th {\n",
       "        vertical-align: top;\n",
       "    }\n",
       "\n",
       "    .dataframe thead th {\n",
       "        text-align: right;\n",
       "    }\n",
       "</style>\n",
       "<table border=\"1\" class=\"dataframe\">\n",
       "  <thead>\n",
       "    <tr style=\"text-align: right;\">\n",
       "      <th></th>\n",
       "      <th>firm</th>\n",
       "      <th>lookup_firm</th>\n",
       "      <th>lookup_firm_web</th>\n",
       "      <th>firm_length</th>\n",
       "      <th>name_clnd</th>\n",
       "      <th>name_length</th>\n",
       "      <th>manual_fix</th>\n",
       "      <th>hit_url</th>\n",
       "      <th>hit_url_length</th>\n",
       "      <th>rank</th>\n",
       "      <th>...</th>\n",
       "      <th>num_patents_all</th>\n",
       "      <th>pages</th>\n",
       "      <th>num_words</th>\n",
       "      <th>avg_words_per_page</th>\n",
       "      <th>first_year</th>\n",
       "      <th>num_patents_3</th>\n",
       "      <th>mean_assignees_all</th>\n",
       "      <th>mean_assignees_3</th>\n",
       "      <th>mean_inventors_all</th>\n",
       "      <th>mean_inventors_3</th>\n",
       "    </tr>\n",
       "  </thead>\n",
       "  <tbody>\n",
       "    <tr>\n",
       "      <td>0</td>\n",
       "      <td>Hon Hai Precision Industry Co.</td>\n",
       "      <td>Hon Hai Precision Industry Co</td>\n",
       "      <td>Hon Hai Precision Industry Co</td>\n",
       "      <td>29.0</td>\n",
       "      <td>Foxconn - Official Site</td>\n",
       "      <td>23</td>\n",
       "      <td>NaN</td>\n",
       "      <td>foxconn.com/</td>\n",
       "      <td>23</td>\n",
       "      <td>2</td>\n",
       "      <td>...</td>\n",
       "      <td>17936</td>\n",
       "      <td>12.0</td>\n",
       "      <td>376119.0</td>\n",
       "      <td>31343.250000</td>\n",
       "      <td>1995</td>\n",
       "      <td>122.0</td>\n",
       "      <td>1.345339</td>\n",
       "      <td>1.959016</td>\n",
       "      <td>2.171387</td>\n",
       "      <td>3.647541</td>\n",
       "    </tr>\n",
       "    <tr>\n",
       "      <td>1</td>\n",
       "      <td>Tata Consultancy Services Limited</td>\n",
       "      <td>Tata Consultancy Services Limited</td>\n",
       "      <td>Tata Consultancy Services Limited</td>\n",
       "      <td>33.0</td>\n",
       "      <td>Tata Consultancy Services | Technology, Digita...</td>\n",
       "      <td>61</td>\n",
       "      <td>NaN</td>\n",
       "      <td>tcs.com/</td>\n",
       "      <td>20</td>\n",
       "      <td>1</td>\n",
       "      <td>...</td>\n",
       "      <td>315</td>\n",
       "      <td>54.0</td>\n",
       "      <td>422808.0</td>\n",
       "      <td>7829.777778</td>\n",
       "      <td>2005</td>\n",
       "      <td>1.0</td>\n",
       "      <td>1.006349</td>\n",
       "      <td>1.000000</td>\n",
       "      <td>3.047619</td>\n",
       "      <td>2.000000</td>\n",
       "    </tr>\n",
       "    <tr>\n",
       "      <td>2</td>\n",
       "      <td>Hitachi</td>\n",
       "      <td>Hitachi</td>\n",
       "      <td>Hitachi</td>\n",
       "      <td>7.0</td>\n",
       "      <td>Hitachi - Official Site</td>\n",
       "      <td>23</td>\n",
       "      <td>NaN</td>\n",
       "      <td>hitachi.com/</td>\n",
       "      <td>23</td>\n",
       "      <td>1</td>\n",
       "      <td>...</td>\n",
       "      <td>38517</td>\n",
       "      <td>18.0</td>\n",
       "      <td>49138.0</td>\n",
       "      <td>2729.888889</td>\n",
       "      <td>1976</td>\n",
       "      <td>30.0</td>\n",
       "      <td>1.148843</td>\n",
       "      <td>1.148148</td>\n",
       "      <td>3.910066</td>\n",
       "      <td>3.740741</td>\n",
       "    </tr>\n",
       "    <tr>\n",
       "      <td>3</td>\n",
       "      <td>GENERAL ELECTRIC COMPANY</td>\n",
       "      <td>GENERAL ELECTRIC COMPANY</td>\n",
       "      <td>GENERAL ELECTRIC COMPANY</td>\n",
       "      <td>24.0</td>\n",
       "      <td>GE - Official Site</td>\n",
       "      <td>18</td>\n",
       "      <td>NaN</td>\n",
       "      <td>ge.com/</td>\n",
       "      <td>19</td>\n",
       "      <td>1</td>\n",
       "      <td>...</td>\n",
       "      <td>41692</td>\n",
       "      <td>19.0</td>\n",
       "      <td>325353.0</td>\n",
       "      <td>17123.842105</td>\n",
       "      <td>1976</td>\n",
       "      <td>26.0</td>\n",
       "      <td>1.005541</td>\n",
       "      <td>1.000000</td>\n",
       "      <td>2.624097</td>\n",
       "      <td>4.153846</td>\n",
       "    </tr>\n",
       "    <tr>\n",
       "      <td>4</td>\n",
       "      <td>Samsung Electronics</td>\n",
       "      <td>Samsung Electronics</td>\n",
       "      <td>Samsung Electronics</td>\n",
       "      <td>19.0</td>\n",
       "      <td>Electronics &amp; Appliances: Tablets ... - Samsun...</td>\n",
       "      <td>50</td>\n",
       "      <td>NaN</td>\n",
       "      <td>samsung.com/us/</td>\n",
       "      <td>27</td>\n",
       "      <td>1</td>\n",
       "      <td>...</td>\n",
       "      <td>2</td>\n",
       "      <td>60.0</td>\n",
       "      <td>2701683.0</td>\n",
       "      <td>45028.050000</td>\n",
       "      <td>2001</td>\n",
       "      <td>NaN</td>\n",
       "      <td>2.000000</td>\n",
       "      <td>NaN</td>\n",
       "      <td>2.500000</td>\n",
       "      <td>NaN</td>\n",
       "    </tr>\n",
       "  </tbody>\n",
       "</table>\n",
       "<p>5 rows × 32 columns</p>\n",
       "</div>"
      ],
      "text/plain": [
       "                                firm                        lookup_firm  \\\n",
       "0     Hon Hai Precision Industry Co.      Hon Hai Precision Industry Co   \n",
       "1  Tata Consultancy Services Limited  Tata Consultancy Services Limited   \n",
       "2                            Hitachi                            Hitachi   \n",
       "3           GENERAL ELECTRIC COMPANY           GENERAL ELECTRIC COMPANY   \n",
       "4                Samsung Electronics                Samsung Electronics   \n",
       "\n",
       "                     lookup_firm_web  firm_length  \\\n",
       "0      Hon Hai Precision Industry Co         29.0   \n",
       "1  Tata Consultancy Services Limited         33.0   \n",
       "2                            Hitachi          7.0   \n",
       "3           GENERAL ELECTRIC COMPANY         24.0   \n",
       "4                Samsung Electronics         19.0   \n",
       "\n",
       "                                           name_clnd  name_length  manual_fix  \\\n",
       "0                            Foxconn - Official Site           23         NaN   \n",
       "1  Tata Consultancy Services | Technology, Digita...           61         NaN   \n",
       "2                            Hitachi - Official Site           23         NaN   \n",
       "3                                 GE - Official Site           18         NaN   \n",
       "4  Electronics & Appliances: Tablets ... - Samsun...           50         NaN   \n",
       "\n",
       "           hit_url  hit_url_length  rank  ...  num_patents_all  pages  \\\n",
       "0     foxconn.com/              23     2  ...            17936   12.0   \n",
       "1         tcs.com/              20     1  ...              315   54.0   \n",
       "2     hitachi.com/              23     1  ...            38517   18.0   \n",
       "3          ge.com/              19     1  ...            41692   19.0   \n",
       "4  samsung.com/us/              27     1  ...                2   60.0   \n",
       "\n",
       "   num_words  avg_words_per_page  first_year  num_patents_3  \\\n",
       "0   376119.0        31343.250000        1995          122.0   \n",
       "1   422808.0         7829.777778        2005            1.0   \n",
       "2    49138.0         2729.888889        1976           30.0   \n",
       "3   325353.0        17123.842105        1976           26.0   \n",
       "4  2701683.0        45028.050000        2001            NaN   \n",
       "\n",
       "   mean_assignees_all  mean_assignees_3  mean_inventors_all  mean_inventors_3  \n",
       "0            1.345339          1.959016            2.171387          3.647541  \n",
       "1            1.006349          1.000000            3.047619          2.000000  \n",
       "2            1.148843          1.148148            3.910066          3.740741  \n",
       "3            1.005541          1.000000            2.624097          4.153846  \n",
       "4            2.000000               NaN            2.500000               NaN  \n",
       "\n",
       "[5 rows x 32 columns]"
      ]
     },
     "execution_count": 55,
     "metadata": {},
     "output_type": "execute_result"
    }
   ],
   "source": [
    "firm_data = pd.read_csv('../../data/patents/measures/firm_level_measures.csv')\n",
    "print (firm_data.columns.values)\n",
    "print (firm_data.shape)\n",
    "firm_data.head()"
   ]
  },
  {
   "cell_type": "markdown",
   "metadata": {},
   "source": [
    "<b>Model DVs</b>\n",
    "1. whether employment data was successfully gathered\n",
    "2. whether a firm URL was found\n",
    "3. whether website content was crawled\n",
    "\n",
    "<b>Explanatory variables</b>\n",
    "1. the first year the firm patented\n",
    "2. number of total patents assigned to the firm, logged\n",
    "3. mean number of assignees with which the firm co-patented\n",
    "4. mean inventors associated with their patents\n",
    "5. the industry or industries in which the firm patents (synthetic biology, nanotechnology, and/or renewable energy);\n",
    "6. the length of the firm’s name.  "
   ]
  },
  {
   "cell_type": "code",
   "execution_count": 56,
   "metadata": {},
   "outputs": [],
   "source": [
    "# add y variables \n",
    "firm_data_with_ys = firm_data\n",
    "firm_data_with_ys['has_emps'] = 1\n",
    "firm_data_with_ys.loc[firm_data_with_ys['size_state'] == 'FirmSize.UNDEFINED', ['has_emps']] = 0\n",
    "\n",
    "firm_data_with_ys['has_url'] = 1\n",
    "firm_data_with_ys.loc[pd.isna(firm_data_with_ys['hit_url']), ['has_url']] = 0\n",
    "\n",
    "firm_data_with_ys['has_web_content'] = 1\n",
    "firm_data_with_ys.loc[pd.isna(firm_data_with_ys['pages']), ['has_web_content']] = 0\n",
    "\n",
    "firm_data_with_ys.to_csv('../../data/analysis/measures/firm_data_with_ys.csv')"
   ]
  },
  {
   "cell_type": "code",
   "execution_count": 57,
   "metadata": {},
   "outputs": [],
   "source": [
    "# add transformations / add'l X variables\n",
    "firm_data_with_ys['log_num_patents_all'] = (firm_data_with_ys['num_patents_all'] + 1).apply(np.log)\n",
    "firm_data_with_ys['log_max_emps'] = (firm_data_with_ys['max_emps'] + 1).apply(np.log)\n",
    "firm_data_with_ys['num_industries'] = firm_data_with_ys['nano'] + firm_data_with_ys['synbio'] + firm_data_with_ys['green']"
   ]
  },
  {
   "cell_type": "code",
   "execution_count": 58,
   "metadata": {},
   "outputs": [
    {
     "data": {
      "text/html": [
       "<div>\n",
       "<style scoped>\n",
       "    .dataframe tbody tr th:only-of-type {\n",
       "        vertical-align: middle;\n",
       "    }\n",
       "\n",
       "    .dataframe tbody tr th {\n",
       "        vertical-align: top;\n",
       "    }\n",
       "\n",
       "    .dataframe thead th {\n",
       "        text-align: right;\n",
       "    }\n",
       "</style>\n",
       "<table border=\"1\" class=\"dataframe\">\n",
       "  <thead>\n",
       "    <tr style=\"text-align: right;\">\n",
       "      <th></th>\n",
       "      <th>firm_length</th>\n",
       "      <th>first_year</th>\n",
       "      <th>mean_assignees_all</th>\n",
       "      <th>mean_inventors_all</th>\n",
       "      <th>has_emps</th>\n",
       "      <th>has_url</th>\n",
       "      <th>has_web_content</th>\n",
       "      <th>log_num_patents_all</th>\n",
       "      <th>log_max_emps</th>\n",
       "      <th>num_industries</th>\n",
       "    </tr>\n",
       "  </thead>\n",
       "  <tbody>\n",
       "    <tr>\n",
       "      <td>0</td>\n",
       "      <td>29.0</td>\n",
       "      <td>1995</td>\n",
       "      <td>1.345339</td>\n",
       "      <td>2.171387</td>\n",
       "      <td>1</td>\n",
       "      <td>1</td>\n",
       "      <td>1</td>\n",
       "      <td>9.794621</td>\n",
       "      <td>13.129341</td>\n",
       "      <td>2</td>\n",
       "    </tr>\n",
       "    <tr>\n",
       "      <td>1</td>\n",
       "      <td>33.0</td>\n",
       "      <td>2005</td>\n",
       "      <td>1.006349</td>\n",
       "      <td>3.047619</td>\n",
       "      <td>1</td>\n",
       "      <td>1</td>\n",
       "      <td>1</td>\n",
       "      <td>5.755742</td>\n",
       "      <td>12.886639</td>\n",
       "      <td>1</td>\n",
       "    </tr>\n",
       "    <tr>\n",
       "      <td>2</td>\n",
       "      <td>7.0</td>\n",
       "      <td>1976</td>\n",
       "      <td>1.148843</td>\n",
       "      <td>3.910066</td>\n",
       "      <td>1</td>\n",
       "      <td>1</td>\n",
       "      <td>1</td>\n",
       "      <td>10.558881</td>\n",
       "      <td>12.674722</td>\n",
       "      <td>3</td>\n",
       "    </tr>\n",
       "    <tr>\n",
       "      <td>3</td>\n",
       "      <td>24.0</td>\n",
       "      <td>1976</td>\n",
       "      <td>1.005541</td>\n",
       "      <td>2.624097</td>\n",
       "      <td>1</td>\n",
       "      <td>1</td>\n",
       "      <td>1</td>\n",
       "      <td>10.638089</td>\n",
       "      <td>12.653962</td>\n",
       "      <td>2</td>\n",
       "    </tr>\n",
       "    <tr>\n",
       "      <td>4</td>\n",
       "      <td>19.0</td>\n",
       "      <td>2001</td>\n",
       "      <td>2.000000</td>\n",
       "      <td>2.500000</td>\n",
       "      <td>1</td>\n",
       "      <td>1</td>\n",
       "      <td>1</td>\n",
       "      <td>1.098612</td>\n",
       "      <td>12.640274</td>\n",
       "      <td>1</td>\n",
       "    </tr>\n",
       "  </tbody>\n",
       "</table>\n",
       "</div>"
      ],
      "text/plain": [
       "   firm_length  first_year  mean_assignees_all  mean_inventors_all  has_emps  \\\n",
       "0         29.0        1995            1.345339            2.171387         1   \n",
       "1         33.0        2005            1.006349            3.047619         1   \n",
       "2          7.0        1976            1.148843            3.910066         1   \n",
       "3         24.0        1976            1.005541            2.624097         1   \n",
       "4         19.0        2001            2.000000            2.500000         1   \n",
       "\n",
       "   has_url  has_web_content  log_num_patents_all  log_max_emps  num_industries  \n",
       "0        1                1             9.794621     13.129341               2  \n",
       "1        1                1             5.755742     12.886639               1  \n",
       "2        1                1            10.558881     12.674722               3  \n",
       "3        1                1            10.638089     12.653962               2  \n",
       "4        1                1             1.098612     12.640274               1  "
      ]
     },
     "execution_count": 58,
     "metadata": {},
     "output_type": "execute_result"
    }
   ],
   "source": [
    "select_cols = [col for col in firm_data.columns if col in \n",
    "          ['has_emps', 'has_url', 'has_web_content', 'first_year', 'log_num_patents_all', 'mean_assignees_all', 'mean_inventors_all', 'num_industries', 'firm_length', 'log_max_emps']]\n",
    "imputed_for_modeling = firm_data_with_ys[select_cols].fillna(0)\n",
    "imputed_for_modeling.to_csv('../../data/patents/measures/imputed_for_modeling.csv')\n",
    "imputed_for_modeling.head()"
   ]
  },
  {
   "cell_type": "code",
   "execution_count": 59,
   "metadata": {},
   "outputs": [
    {
     "data": {
      "text/plain": [
       "(1376, 10)"
      ]
     },
     "execution_count": 59,
     "metadata": {},
     "output_type": "execute_result"
    }
   ],
   "source": [
    "imputed_for_modeling.shape"
   ]
  },
  {
   "cell_type": "code",
   "execution_count": 60,
   "metadata": {},
   "outputs": [
    {
     "data": {
      "text/plain": [
       "(1132, 38)"
      ]
     },
     "execution_count": 60,
     "metadata": {},
     "output_type": "execute_result"
    }
   ],
   "source": [
    "firm_data_with_ys.loc[(firm_data_with_ys['has_web_content'] == 1) & (firm_data_with_ys['has_emps'] == 1)].shape"
   ]
  },
  {
   "cell_type": "markdown",
   "metadata": {},
   "source": [
    "## Logit"
   ]
  },
  {
   "cell_type": "code",
   "execution_count": 21,
   "metadata": {},
   "outputs": [
    {
     "name": "stdout",
     "output_type": "stream",
     "text": [
      "Optimization terminated successfully.\n",
      "         Current function value: 0.321154\n",
      "         Iterations 7\n",
      "Optimization terminated successfully.\n",
      "         Current function value: 0.475622\n",
      "         Iterations 6\n"
     ]
    }
   ],
   "source": [
    "logit_url = logit(\"has_url ~ first_year + log_num_patents_all\" \n",
    "                   \" + mean_assignees_all + mean_inventors_all + firm_length\"\n",
    "                   \" + num_industries + log_max_emps\", imputed_for_modeling).fit()\n",
    "\n",
    "logit_web_content = logit(\"has_web_content ~ first_year + log_num_patents_all\" \n",
    "                   \" + mean_assignees_all + mean_inventors_all + firm_length + \"\n",
    "                   \" + num_industries + log_max_emps\", imputed_for_modeling).fit()"
   ]
  },
  {
   "cell_type": "code",
   "execution_count": 22,
   "metadata": {},
   "outputs": [
    {
     "name": "stdout",
     "output_type": "stream",
     "text": [
      "                           Logit Regression Results                           \n",
      "==============================================================================\n",
      "Dep. Variable:                has_url   No. Observations:                 1489\n",
      "Model:                          Logit   Df Residuals:                     1481\n",
      "Method:                           MLE   Df Model:                            7\n",
      "Date:                Thu, 26 Mar 2020   Pseudo R-squ.:                  0.1834\n",
      "Time:                        16:42:57   Log-Likelihood:                -478.20\n",
      "converged:                       True   LL-Null:                       -585.57\n",
      "Covariance Type:            nonrobust   LLR p-value:                 8.646e-43\n",
      "=======================================================================================\n",
      "                          coef    std err          z      P>|z|      [0.025      0.975]\n",
      "---------------------------------------------------------------------------------------\n",
      "Intercept              -0.1388      0.862     -0.161      0.872      -1.828       1.550\n",
      "first_year              0.0002      0.000      0.329      0.742      -0.001       0.001\n",
      "log_num_patents_all    -0.1621      0.043     -3.742      0.000      -0.247      -0.077\n",
      "mean_assignees_all      0.1333      0.515      0.259      0.796      -0.876       1.143\n",
      "mean_inventors_all      0.0165      0.073      0.227      0.821      -0.126       0.159\n",
      "firm_length            -0.0244      0.009     -2.837      0.005      -0.041      -0.008\n",
      "num_industries          0.7001      0.246      2.842      0.004       0.217       1.183\n",
      "log_max_emps            0.4315      0.037     11.588      0.000       0.359       0.505\n",
      "=======================================================================================\n",
      "                           Logit Regression Results                           \n",
      "==============================================================================\n",
      "Dep. Variable:        has_web_content   No. Observations:                 1489\n",
      "Model:                          Logit   Df Residuals:                     1481\n",
      "Method:                           MLE   Df Model:                            7\n",
      "Date:                Thu, 26 Mar 2020   Pseudo R-squ.:                 0.05163\n",
      "Time:                        16:42:57   Log-Likelihood:                -708.20\n",
      "converged:                       True   LL-Null:                       -746.76\n",
      "Covariance Type:            nonrobust   LLR p-value:                 5.323e-14\n",
      "=======================================================================================\n",
      "                          coef    std err          z      P>|z|      [0.025      0.975]\n",
      "---------------------------------------------------------------------------------------\n",
      "Intercept               0.9037      0.832      1.086      0.278      -0.728       2.535\n",
      "first_year              0.0003      0.000      0.570      0.569      -0.001       0.001\n",
      "log_num_patents_all    -0.1068      0.035     -3.043      0.002      -0.176      -0.038\n",
      "mean_assignees_all     -0.4752      0.387     -1.229      0.219      -1.233       0.283\n",
      "mean_inventors_all     -0.0081      0.059     -0.138      0.890      -0.124       0.107\n",
      "firm_length            -0.0162      0.007     -2.359      0.018      -0.030      -0.003\n",
      "num_industries          0.2187      0.162      1.351      0.177      -0.099       0.536\n",
      "log_max_emps            0.1916      0.025      7.683      0.000       0.143       0.240\n",
      "=======================================================================================\n"
     ]
    }
   ],
   "source": [
    "print(logit_url.summary())\n",
    "print(logit_web_content.summary())"
   ]
  },
  {
   "cell_type": "markdown",
   "metadata": {},
   "source": [
    "## Decision tree"
   ]
  },
  {
   "cell_type": "code",
   "execution_count": 23,
   "metadata": {},
   "outputs": [
    {
     "name": "stderr",
     "output_type": "stream",
     "text": [
      "/opt/anaconda3/lib/python3.7/site-packages/sklearn/model_selection/_split.py:1978: FutureWarning: The default value of cv will change from 3 to 5 in version 0.22. Specify it explicitly to silence this warning.\n",
      "  warnings.warn(CV_WARNING, FutureWarning)\n",
      "/opt/anaconda3/lib/python3.7/site-packages/sklearn/metrics/classification.py:1437: UndefinedMetricWarning: F-score is ill-defined and being set to 0.0 due to no predicted samples.\n",
      "  'precision', 'predicted', average, warn_for)\n",
      "/opt/anaconda3/lib/python3.7/site-packages/sklearn/model_selection/_search.py:814: DeprecationWarning: The default of the `iid` parameter will change from True to False in version 0.22 and will be removed in 0.24. This will change numeric results when test-set sizes are unequal.\n",
      "  DeprecationWarning)\n"
     ]
    },
    {
     "data": {
      "text/plain": [
       "{'max_depth': 2}"
      ]
     },
     "execution_count": 23,
     "metadata": {},
     "output_type": "execute_result"
    }
   ],
   "source": [
    "clf = tree.DecisionTreeClassifier()\n",
    "grid = GridSearchCV(clf, {'max_depth' : [2, 3, 4, 5,6,10]}, scoring='f1')\n",
    "xs = imputed_for_modeling.drop(['has_emps', 'has_url', 'has_web_content'], axis=1)\n",
    "y = imputed_for_modeling['has_web_content']\n",
    "grid.fit(xs, y)\n",
    "grid.best_params_"
   ]
  },
  {
   "cell_type": "code",
   "execution_count": 24,
   "metadata": {},
   "outputs": [],
   "source": [
    "from sklearn.model_selection import ShuffleSplit\n",
    "cv = ShuffleSplit(n_splits=5, test_size=0.3, random_state=0)"
   ]
  },
  {
   "cell_type": "code",
   "execution_count": 25,
   "metadata": {},
   "outputs": [],
   "source": [
    "clf = tree.DecisionTreeClassifier(random_state =42, max_depth=2)\n",
    "clf.fit(xs, y)\n",
    "precision = np.mean(cross_val_score(clf, xs, y, scoring = 'precision', cv=cv))\n",
    "recall = np.mean(cross_val_score(clf, xs, y, scoring = 'recall', cv=cv))\n",
    "accuracy = np.mean(cross_val_score(clf, xs, y, scoring = 'accuracy', cv=cv))\n",
    "f1 = np.mean(cross_val_score(clf, xs, y, scoring = 'f1', cv=cv))"
   ]
  },
  {
   "cell_type": "code",
   "execution_count": 26,
   "metadata": {},
   "outputs": [
    {
     "data": {
      "text/plain": [
       "1    1190\n",
       "0     299\n",
       "Name: has_web_content, dtype: int64"
      ]
     },
     "execution_count": 26,
     "metadata": {},
     "output_type": "execute_result"
    }
   ],
   "source": [
    "y.value_counts()"
   ]
  },
  {
   "cell_type": "code",
   "execution_count": 27,
   "metadata": {},
   "outputs": [
    {
     "name": "stdout",
     "output_type": "stream",
     "text": [
      "0.9702076203070428\n",
      "0.7856823266219239\n",
      "0.8770610860899399\n"
     ]
    }
   ],
   "source": [
    "print (recall)\n",
    "print (accuracy)\n",
    "print (f1)"
   ]
  },
  {
   "cell_type": "code",
   "execution_count": 29,
   "metadata": {},
   "outputs": [
    {
     "data": {
      "text/plain": [
       "[('firm_length', 0.0),\n",
       " ('first_year', 0.0),\n",
       " ('mean_assignees_all', 0.0),\n",
       " ('mean_inventors_all', 0.0),\n",
       " ('num_industries', 0.0),\n",
       " ('log_num_patents_all', 0.15434728627268487),\n",
       " ('log_max_emps', 0.8456527137273151)]"
      ]
     },
     "execution_count": 29,
     "metadata": {},
     "output_type": "execute_result"
    }
   ],
   "source": [
    "feature_imp = sorted(list(zip(xs, clf.feature_importances_)) , key=lambda x: x[1])\n",
    "feature_imp"
   ]
  },
  {
   "cell_type": "code",
   "execution_count": null,
   "metadata": {},
   "outputs": [],
   "source": [
    "dot_data = tree.export_graphviz(clf, out_file=None, \n",
    "                                feature_names=list(xs.columns.values),   \n",
    "                                filled=True, rounded=True, proportion=True, rotate=False, class_names=['no content','has content']) \n",
    "graph = graphviz.Source(dot_data) \n",
    "graph"
   ]
  },
  {
   "cell_type": "code",
   "execution_count": 31,
   "metadata": {},
   "outputs": [
    {
     "name": "stdout",
     "output_type": "stream",
     "text": [
      "The binary tree structure has 7 nodes and has the following tree structure:\n",
      "node=0 test node: go to node 1 if X[:, 5] <= 1.7005987167358398 else to node 4.\n",
      "\tnode=1 test node: go to node 2 if X[:, 4] <= 5.980482339859009 else to node 3.\n",
      "\t\tnode=2 leaf node.\n",
      "\t\tnode=3 leaf node.\n",
      "\tnode=4 test node: go to node 5 if X[:, 5] <= 4.102609157562256 else to node 6.\n",
      "\t\tnode=5 leaf node.\n",
      "\t\tnode=6 leaf node.\n",
      "\n"
     ]
    }
   ],
   "source": [
    "n_nodes = clf.tree_.node_count\n",
    "children_left = clf.tree_.children_left\n",
    "children_right = clf.tree_.children_right\n",
    "feature = clf.tree_.feature\n",
    "threshold = clf.tree_.threshold\n",
    "\n",
    "# The tree structure can be traversed to compute various properties such\n",
    "# as the depth of each node and whether or not it is a leaf.\n",
    "node_depth = np.zeros(shape=n_nodes, dtype=np.int64)\n",
    "is_leaves = np.zeros(shape=n_nodes, dtype=bool)\n",
    "stack = [(0, -1)]  # seed is the root node id and its parent depth\n",
    "while len(stack) > 0:\n",
    "    node_id, parent_depth = stack.pop()\n",
    "    node_depth[node_id] = parent_depth + 1\n",
    "\n",
    "    # If we have a test node\n",
    "    if (children_left[node_id] != children_right[node_id]):\n",
    "        stack.append((children_left[node_id], parent_depth + 1))\n",
    "        stack.append((children_right[node_id], parent_depth + 1))\n",
    "    else:\n",
    "        is_leaves[node_id] = True\n",
    "\n",
    "print(\"The binary tree structure has %s nodes and has \"\n",
    "      \"the following tree structure:\"\n",
    "      % n_nodes)\n",
    "for i in range(n_nodes):\n",
    "    if is_leaves[i]:\n",
    "        print(\"%snode=%s leaf node.\" % (node_depth[i] * \"\\t\", i))\n",
    "    else:\n",
    "        print(\"%snode=%s test node: go to node %s if X[:, %s] <= %s else to \"\n",
    "              \"node %s.\"\n",
    "              % (node_depth[i] * \"\\t\",\n",
    "                 i,\n",
    "                 children_left[i],\n",
    "                 feature[i],\n",
    "                 threshold[i],\n",
    "                 children_right[i],\n",
    "                 ))\n",
    "print()"
   ]
  },
  {
   "cell_type": "code",
   "execution_count": null,
   "metadata": {},
   "outputs": [],
   "source": [
    "#sanity check\n",
    "# Sarah -- where does preds come from? \n",
    "relevant_xs = xs[['firm_length', 'max_emps']]\n",
    "relevant_xs['preds'] = preds"
   ]
  },
  {
   "cell_type": "code",
   "execution_count": null,
   "metadata": {},
   "outputs": [],
   "source": [
    "relevant_xs[relevant_xs['max_emps'] < 2.5][relevant_xs['firm_length']<22.5].head()"
   ]
  },
  {
   "cell_type": "code",
   "execution_count": 104,
   "metadata": {},
   "outputs": [
    {
     "name": "stderr",
     "output_type": "stream",
     "text": [
      "/Users/skelley/anaconda2/lib/python2.7/site-packages/ipykernel_launcher.py:1: UserWarning: Boolean Series key will be reindexed to match DataFrame index.\n",
      "  \"\"\"Entry point for launching an IPython kernel.\n"
     ]
    },
    {
     "data": {
      "text/html": [
       "<div>\n",
       "<style>\n",
       "    .dataframe thead tr:only-child th {\n",
       "        text-align: right;\n",
       "    }\n",
       "\n",
       "    .dataframe thead th {\n",
       "        text-align: left;\n",
       "    }\n",
       "\n",
       "    .dataframe tbody tr th {\n",
       "        vertical-align: top;\n",
       "    }\n",
       "</style>\n",
       "<table border=\"1\" class=\"dataframe\">\n",
       "  <thead>\n",
       "    <tr style=\"text-align: right;\">\n",
       "      <th></th>\n",
       "      <th>firm_length</th>\n",
       "      <th>max_emps</th>\n",
       "      <th>preds</th>\n",
       "    </tr>\n",
       "  </thead>\n",
       "  <tbody>\n",
       "    <tr>\n",
       "      <th>34</th>\n",
       "      <td>31.0</td>\n",
       "      <td>2.0</td>\n",
       "      <td>0.0</td>\n",
       "    </tr>\n",
       "    <tr>\n",
       "      <th>37</th>\n",
       "      <td>28.0</td>\n",
       "      <td>2.0</td>\n",
       "      <td>0.0</td>\n",
       "    </tr>\n",
       "    <tr>\n",
       "      <th>173</th>\n",
       "      <td>40.0</td>\n",
       "      <td>0.0</td>\n",
       "      <td>0.0</td>\n",
       "    </tr>\n",
       "    <tr>\n",
       "      <th>180</th>\n",
       "      <td>24.0</td>\n",
       "      <td>0.0</td>\n",
       "      <td>0.0</td>\n",
       "    </tr>\n",
       "    <tr>\n",
       "      <th>183</th>\n",
       "      <td>38.0</td>\n",
       "      <td>0.0</td>\n",
       "      <td>0.0</td>\n",
       "    </tr>\n",
       "  </tbody>\n",
       "</table>\n",
       "</div>"
      ],
      "text/plain": [
       "     firm_length  max_emps  preds\n",
       "34          31.0       2.0    0.0\n",
       "37          28.0       2.0    0.0\n",
       "173         40.0       0.0    0.0\n",
       "180         24.0       0.0    0.0\n",
       "183         38.0       0.0    0.0"
      ]
     },
     "execution_count": 104,
     "metadata": {},
     "output_type": "execute_result"
    }
   ],
   "source": [
    "relevant_xs[relevant_xs['max_emps'] < 2.5][relevant_xs['firm_length']>22.5].head()"
   ]
  },
  {
   "cell_type": "code",
   "execution_count": 106,
   "metadata": {},
   "outputs": [
    {
     "name": "stderr",
     "output_type": "stream",
     "text": [
      "/Users/skelley/anaconda2/lib/python2.7/site-packages/ipykernel_launcher.py:1: UserWarning: Boolean Series key will be reindexed to match DataFrame index.\n",
      "  \"\"\"Entry point for launching an IPython kernel.\n"
     ]
    },
    {
     "data": {
      "text/html": [
       "<div>\n",
       "<style>\n",
       "    .dataframe thead tr:only-child th {\n",
       "        text-align: right;\n",
       "    }\n",
       "\n",
       "    .dataframe thead th {\n",
       "        text-align: left;\n",
       "    }\n",
       "\n",
       "    .dataframe tbody tr th {\n",
       "        vertical-align: top;\n",
       "    }\n",
       "</style>\n",
       "<table border=\"1\" class=\"dataframe\">\n",
       "  <thead>\n",
       "    <tr style=\"text-align: right;\">\n",
       "      <th></th>\n",
       "      <th>firm_length</th>\n",
       "      <th>max_emps</th>\n",
       "      <th>preds</th>\n",
       "    </tr>\n",
       "  </thead>\n",
       "  <tbody>\n",
       "    <tr>\n",
       "      <th>0</th>\n",
       "      <td>20.0</td>\n",
       "      <td>734.0</td>\n",
       "      <td>1.0</td>\n",
       "    </tr>\n",
       "    <tr>\n",
       "      <th>6</th>\n",
       "      <td>29.0</td>\n",
       "      <td>706.0</td>\n",
       "      <td>1.0</td>\n",
       "    </tr>\n",
       "    <tr>\n",
       "      <th>11</th>\n",
       "      <td>14.0</td>\n",
       "      <td>365.0</td>\n",
       "      <td>1.0</td>\n",
       "    </tr>\n",
       "    <tr>\n",
       "      <th>13</th>\n",
       "      <td>18.0</td>\n",
       "      <td>204.0</td>\n",
       "      <td>1.0</td>\n",
       "    </tr>\n",
       "    <tr>\n",
       "      <th>14</th>\n",
       "      <td>21.0</td>\n",
       "      <td>11.0</td>\n",
       "      <td>1.0</td>\n",
       "    </tr>\n",
       "  </tbody>\n",
       "</table>\n",
       "</div>"
      ],
      "text/plain": [
       "    firm_length  max_emps  preds\n",
       "0          20.0     734.0    1.0\n",
       "6          29.0     706.0    1.0\n",
       "11         14.0     365.0    1.0\n",
       "13         18.0     204.0    1.0\n",
       "14         21.0      11.0    1.0"
      ]
     },
     "execution_count": 106,
     "metadata": {},
     "output_type": "execute_result"
    }
   ],
   "source": [
    "relevant_xs[2.5 < relevant_xs['max_emps']][relevant_xs['max_emps'] < 791.5].head()"
   ]
  },
  {
   "cell_type": "code",
   "execution_count": 108,
   "metadata": {},
   "outputs": [
    {
     "name": "stderr",
     "output_type": "stream",
     "text": [
      "/Users/skelley/anaconda2/lib/python2.7/site-packages/ipykernel_launcher.py:1: UserWarning: Boolean Series key will be reindexed to match DataFrame index.\n",
      "  \"\"\"Entry point for launching an IPython kernel.\n"
     ]
    },
    {
     "data": {
      "text/html": [
       "<div>\n",
       "<style>\n",
       "    .dataframe thead tr:only-child th {\n",
       "        text-align: right;\n",
       "    }\n",
       "\n",
       "    .dataframe thead th {\n",
       "        text-align: left;\n",
       "    }\n",
       "\n",
       "    .dataframe tbody tr th {\n",
       "        vertical-align: top;\n",
       "    }\n",
       "</style>\n",
       "<table border=\"1\" class=\"dataframe\">\n",
       "  <thead>\n",
       "    <tr style=\"text-align: right;\">\n",
       "      <th></th>\n",
       "      <th>firm_length</th>\n",
       "      <th>max_emps</th>\n",
       "      <th>preds</th>\n",
       "    </tr>\n",
       "  </thead>\n",
       "  <tbody>\n",
       "    <tr>\n",
       "      <th>1</th>\n",
       "      <td>32.0</td>\n",
       "      <td>60593.0</td>\n",
       "      <td>1.0</td>\n",
       "    </tr>\n",
       "    <tr>\n",
       "      <th>2</th>\n",
       "      <td>20.0</td>\n",
       "      <td>2141.0</td>\n",
       "      <td>1.0</td>\n",
       "    </tr>\n",
       "    <tr>\n",
       "      <th>4</th>\n",
       "      <td>6.0</td>\n",
       "      <td>100487.0</td>\n",
       "      <td>1.0</td>\n",
       "    </tr>\n",
       "    <tr>\n",
       "      <th>5</th>\n",
       "      <td>12.0</td>\n",
       "      <td>134800.0</td>\n",
       "      <td>1.0</td>\n",
       "    </tr>\n",
       "    <tr>\n",
       "      <th>7</th>\n",
       "      <td>16.0</td>\n",
       "      <td>99000.0</td>\n",
       "      <td>1.0</td>\n",
       "    </tr>\n",
       "  </tbody>\n",
       "</table>\n",
       "</div>"
      ],
      "text/plain": [
       "   firm_length  max_emps  preds\n",
       "1         32.0   60593.0    1.0\n",
       "2         20.0    2141.0    1.0\n",
       "4          6.0  100487.0    1.0\n",
       "5         12.0  134800.0    1.0\n",
       "7         16.0   99000.0    1.0"
      ]
     },
     "execution_count": 108,
     "metadata": {},
     "output_type": "execute_result"
    }
   ],
   "source": [
    "relevant_xs[relevant_xs['max_emps'] > 2.5][relevant_xs['max_emps']>791.5].head()"
   ]
  }
 ],
 "metadata": {
  "kernelspec": {
   "display_name": "Python 3",
   "language": "python",
   "name": "python3"
  },
  "language_info": {
   "codemirror_mode": {
    "name": "ipython",
    "version": 3
   },
   "file_extension": ".py",
   "mimetype": "text/x-python",
   "name": "python",
   "nbconvert_exporter": "python",
   "pygments_lexer": "ipython3",
   "version": "3.7.4"
  }
 },
 "nbformat": 4,
 "nbformat_minor": 2
}
