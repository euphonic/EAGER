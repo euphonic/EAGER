{
 "cells": [
  {
   "cell_type": "markdown",
   "metadata": {},
   "source": [
    "### find-about-pages-v3\n",
    "SanjayKAroraPhD@gmail.com <br>\n",
    "December 2018\n",
    "\n",
    "## Description\n",
    "Most of the interesting company information is not on home pages but on about us pages.  This script finds those links from the home pages for further crawling. \n",
    "\n",
    "## Change log\n",
    "v3 treats this is an exercise for identifying inputs to crawling.\n",
    "\n",
    "## TODO:\n",
    "* Need to make better use of all pages in the site, e.g., to improve data quality and use additional paragraph data found on non-homepages \n",
    "* Standardize firm name cleaning code utility into a universally accessible module\n",
    "* Port this to real-time crawler? "
   ]
  },
  {
   "cell_type": "code",
   "execution_count": 1,
   "metadata": {},
   "outputs": [],
   "source": [
    "# import data processing and other libraries\n",
    "import csv\n",
    "import sys\n",
    "import requests\n",
    "import os\n",
    "import re\n",
    "import pprint\n",
    "import pymongo\n",
    "import traceback\n",
    "from time import sleep\n",
    "import requests\n",
    "import pandas as pd\n",
    "import io\n",
    "from IPython.display import display\n",
    "import time\n",
    "import numpy as np\n",
    "from bs4 import BeautifulSoup\n",
    "import string\n",
    "from urllib.parse import urlparse, urljoin\n",
    "import requests"
   ]
  },
  {
   "cell_type": "code",
   "execution_count": 2,
   "metadata": {},
   "outputs": [],
   "source": [
    "from boilerpipe.extract import Extractor"
   ]
  },
  {
   "cell_type": "code",
   "execution_count": 55,
   "metadata": {},
   "outputs": [],
   "source": [
    "MONGODB_DB = \"FirmDB_20181203\"\n",
    "MONGODB_COLLECTION = \"pages_depth0\"\n",
    "CONNECTION_STRING = \"mongodb://localhost\"\n",
    "username = \"scrapy\"\n",
    "password = \"eager\"\n",
    "authSource = \"FirmDB\"\n",
    "authMechanism='SCRAM-SHA-1'\n",
    "\n",
    "client = pymongo.MongoClient(CONNECTION_STRING, username=username, password=password, authSource=authSource, authMechanism=authMechanism)\n",
    "db = client[MONGODB_DB]\n",
    "col = db[MONGODB_COLLECTION]\n",
    "\n",
    "OUT_DIR = '/Users/sarora/dev/EAGER/data/orgs/about/'\n",
    "OUTF = OUT_DIR + 'about_links2.csv'"
   ]
  },
  {
   "cell_type": "code",
   "execution_count": 4,
   "metadata": {},
   "outputs": [
    {
     "name": "stdout",
     "output_type": "stream",
     "text": [
      "1152\n",
      "dict_keys(['Xintec Inc.', 'W&Wsens Devices', '22nd Century Limited', 'Yamaha Corporation', 'ZENA TECHNOLOGIES', 'Wikipad', 'Wine.com', 'Vizio Inc.', 'WHATSAPP INC.', 'VMware', 'VEECO PRECISION SURFACE PROCESSING LLC', 'WestPoint Home', 'VIASAT INC.', 'DuPont Teijin Films U.S. Limited Partnership', 'Vaxiion Therapeutics', 'Silicon Space Technology Corp.', 'Universal Leaf Tobacco Co.', 'TRIDONIC GMBH & CO KG', 'Valicor', 'ZON', 'Transitions Optical', 'Kabushikikaisha Toshiba', 'Waters Technologies Corporation', 'Virent', 'Nederlandse Organisatie voor toegepast-natuurwetenschappelijk onderzoek TNO', 'Thorn Bioscience LLC', 'Xerox Corporation', 'Metabolix', 'Vascular BioSciences', 'Wizard Labs', 'Casio Computer Co.', 'Crystal Solar Inc.', 'WOVN', 'Wireless Environment', 'Hamilton Sundstrand Corporation', 'Ube Industries', 'UChicago Argonne', 'Weatherford Canada Partnership', 'Vorbeck Materials Corporation', 'Wenger Corporation', 'TECNIUM', 'Wave Energy Conversion Corporation of America', 'Verliant Energy', 'Veracode', 'Tata Consultancy Services Limited', 'Tufts Medical Center', 'Tokyo Ohka Kogyo Co.', 'Transtron Solutions LLC', 'TRANE INTERNATIONAL INC.', 'United Technologies Corporation', 'Unistrut International Corp.', 'Watlow Electric Manufacturing Company', 'NLT TECHNOLOGIES', 'Disney Enterprises', 'Xyleco', 'TT Technologies', 'Total Marketing Services', 'Transposagen Biopharmaceuticals', 'VINDICO NANOBIO TECHNOLOGY INC.', 'Tosoh Corporation', 'Toda Kogyo Corporation', 'Toray Plastics (America)', 'SEEK THERMAL', 'Tersus Environmental', 'Angstron Materials', 'Theraclone Sciences', 'Carl Zeiss Meditec AG', 'The Carbon Cable Company', 'Tokyo Electron Limited', 'Zephyr Energy Systems LLC', 'Yageo Corporation', 'Yeda Research and Development Co.', 'Tela Innovations', 'E. Tech Incorporation', 'Takeda Pharmaceutical Company Limited', 'Tamura Corporation', 'Synopsys', 'Sustainable Technologies', 'Transilwrap Company', 'THYSSENKRUPP INDUSTRIAL SOLUTIONS GMBH', 'Toshiba America Electronic Components', 'Tessera', 'T.H.E.M.', 'SYNTHOMER USA LLC', 'Tyco Electronics Corporation', 'TEKNOR APEX COMPANY', 'EXOS LLC', 'Tapwave', 'TMC Corporation', 'Thorlabs', 'Tarveda Therapeutics', 'Syngenta Participations AG', 'Conexant Systems', 'Southwest Research Institute', 'Integrated Solar Technology', 'Sun Chemical Corporation', 'Sun Synchrony', 'Supremex Inc.', 'SUNSALUTER', 'Terra Caloric', 'SunRun', 'Sumitomo Rubber Industries', 'Stratasys', 'SunEdison', 'STATS ChipPAC', 'Suganit Systems', 'STANDARD ALCOHOL COMPANY OF AMERICA', 'Simbol Inc.', 'Starlight Energy Holdings LLC', 'Star Technology and Research', 'Stablcor Technology', 'SPC International', 'Toray Industries Inc. ', 'Siliconware Precision Industries Co.', 'Silicon Storage Technology', 'SPICE SOLAR', 'SRG Global', 'Solight Solar', 'Solvay Specialty Polymers USA', 'SunCulture Solar Inc.', 'SB ENERGY', 'SOLAZYME', 'Kao Corporation', 'Sola U.S.A. Inc.', 'SolAero Technologies Corp.', 'St. Jude Medical', 'Skidmore', 'Solar-Tectic LLC', 'SOL-ELECTRICA', 'Sanofi', 'Schlumberger Technology Corporation', 'Smith & Nephew', 'Hynix Semiconductor Inc.', 'Singular Bio', 'Pansonic Corporation', 'Nippon Shokubai Co.', 'Semprius', 'SELMAN AND ASSOCIATES', 'Seetron Inc.', 'S. C. Johnson & Son', 'Seagate Technology LLC', 'Sandia Corporation', 'Bluestar Silicones France', 'Schneider Electric USA', 'Sick AG', 'Silicor Materials Inc.', 'Sigma-Aldrich Co. LLC', 'ProNAi Therapeutics', 'Sumco Corporation', 'Silicon Genesis Corporation', 'SICPA Holding SA', 'Sienna Biopharmaceuticals', 'SAE Magnetics (HK) Ltd.', 'Renewable Power Conversion', 'Sweetwater Energy', 'Research Triangle Institute', 'Rockwell Collins', 'Shell Oil Company', 'BAXALTA INCORPORATED', 'Sharp Laboratories of America', 'Quantum Materials Corporation', 'Sensor-Kinesis Corporation', 'Semiconductor Energy Laboratory Co.', 'Zoetis Services LLC', 'SEaB Energy Holdings Ltd.', 'POSiFA MICROSYSTEMS', 'PolyPlus Battery Company', 'Sysmex Corporation', 'Pixelligent Technologies', 'Sanuvox Technologies', 'Sinton Consulting', 'Shoals Technologies Group', 'Phillips 66 Company', 'UT-Battelle', 'Performance Plants', 'Shin-Etsu Chemical Co.', 'UOP LLC', 'Senaya', 'WAFERTECH', 'Sima Therapeutics', 'Sumitomo Electric Device Innovations', 'Seiko Instruments Inc.', 'Sangamo BioSciences', 'TOMOWAVE LABORATORIES', 'Sagacious Investment Group L.L.C.', 'SD Technologies', 'Rockwell Automation Technologies', 'Rolls-Royce PLC', 'Solan', 'WCA Group LLC', 'Roll-N-Lock Corporation', 'RES USA', 'Raytheon Company', 'Rapamycin Holdings', 'Quantapore', 'Palo Alto Research Center Incorporated', 'Paratek Pharmaceuticals', 'Tigo Energy', 'AVI BioPharma', 'Solaire Generation LLC', 'Karsten Manufacturing Corporation', 'VINYLAST', 'Oki Data Corporation', 'Voxtel', 'MICROMIDAS', 'Universal Display Corporation', 'O.B.I. Inc.', 'NanoTech Lubricants', 'Samsung Electronics', 'Sensor Electronic Technology', 'Foret Plasma Labs', 'Piksel', 'Peytant Solutions', 'Riverbed Technology', 'PDF Solutions', 'Richtek Technology Corporation', 'Rima Enterprises', 'Synaptic Research', 'Rio Grande Valley Sugar Growers', 'Renesas Electronics Corporation', 'OmniVision Technologies', 'Sungevity Inc.', 'Optodot Corporation', 'SunPower Corporation', 'Reliance Controls Corporation', 'Applied Nanostructures', 'R.A. Miller Industries', 'Newdoll Enterprises LLC', 'MIETAMARK GENETICS', 'Photon Dynamics', 'Rebellion Photonics', 'Ricoh Company Limited', 'RADIANCE SOLAR', 'Northwest Biotherapeutics', 'Freescale Semiconductor', 'Previvo Genetics', 'Winbond Electronics Corp.', 'Biosphere Medical', 'Cisco Technology', 'Pixar', 'Pinnacle Technology', 'Soliton Lasers', 'H R D CORPORATION', 'Pharmatrophix', 'Honda Motor Co.', 'OrbusNeich Medical', 'Pentron Clinical Technologies', 'MICROSOFT TECHNOLOGY LICENSING', 'Pegatron Corporation', 'Big Belly Solar', 'Sanyo Electric Co.', 'Chemtreat', 'PACCAR Inc', 'Surebeam Corporation', 'Hitachi Metals', 'EMD Technologies Inc.', 'Pacific Biosciences of California', 'Fairchild Semiconductor Corporation', 'Oceanit Laboratories', 'Suncore Photovoltaics', 'Saint-Gobain Adfors Canada', 'Nvidia Corporation', 'Nordic Technologies', 'THE BOARD INSTITUTE', 'Siluria Technologies', 'Nissan North America', 'Sirnaomics', 'Semics Inc.', 'Osram Sylvania Inc.', 'PLEX LLC', 'Cree', 'Plasma-Therm', 'PELLION TECHNOLOGIES', 'Ostendo Technologies', 'McElroy Manufacturing', 'Pardev', 'Ortho-Clinical Diagnostics', 'OAS Design Group', 'Novozymes A/S', 'NuOrtho Surgical', 'Unifrax I LLC', 'Swift Engineering', 'Kinetech Power Company LLC', 'Nikon Corporation', 'Nordson Corporation', 'OSI Optoelectronics', 'Nokia Corporation', 'Nokomis', 'JX Nippon Mining & Metals Corporation', 'Nanoholdings', 'Nexcom Technology', 'Newlans', 'NeoVision LLC', 'NeoPhotonics Corporation', 'Cyberonics', 'NeuMoDx Molecular', 'Oculus VR', 'Neural Signals', 'Kemira OY', 'Neumedicines', 'Kureha Corporation', 'Power Integrations', 'NEC Corporation', \"Nationwide Children's Hospital\", 'CERION LLC', 'NanoGram Corporation', 'nanoComposix', 'Sony Interactive Entertainment America LLC', 'Nanospectra Biosciences', 'Nanoco Technologies', 'Nanoridge Materials', 'SolarWorld Americas Inc.', 'Nanocopocia', 'Nanoquantum Sciences', 'NanoMech', 'OLYMPUS CORPORATION', 'Morpho', 'Musco Corporation', 'Baxter Healthcare SA', 'Murata Manufacturing Co.', 'Soraa Laser Diode', 'Nanomix', 'Canon', 'Nthdegree Technologies Worldwide Inc.', 'Vadient Optics', 'NanoLab', 'Uni-Charm Corporation', 'Taiwan Semiconductor Manufacturing Company', 'Stanley Electric Co.', 'Incept LLC', 'MCI', 'PortaFire', 'Dana-Farber Cancer Institute', 'MBC Ventures', 'Momentive Performance Materials GmbH', 'Mitsubishi Electric Corporation', 'Ion Power Group', 'Marine Polymer Technologies', 'Monsanto Technology LLC', 'Sun Drilling Products Corporation', 'MonoSol', 'Greyrock Energy', 'Markel Corporation', 'Grandis Inc.', 'Magnolia Solar', 'Selas Heat Technology Company LLC', 'Minebea Co.', 'Macronix International Co.', 'Opel Solar', 'LIQUID X PRINTED METALS', 'MirTech', 'MicroLink Devices', 'Lextar Electronics Corp.', 'Lumenco', 'Egenera', 'LATITUDE PHARMACEUTICALS INC.', 'Abengoa Bioenergy New Technologies', 'GENERAL MOTORS LLC', 'PluroGen Therapeutics', 'Adobe Systems Incorporated', 'Gestion Ultra International Inc.', 'U S MICROPOWER INC', 'Hitachi', 'Eastman Kodak Company', 'Midori USA', 'Kinestral Technologies', 'Basell Polyolefine GmbH', 'Liquidia Technologies', 'Met Tech Inc.', 'Angiotech Pharmaceuticals (US)', 'Linne Industries LLC', 'Meso Scale Technologies', 'Combined Energies', 'Handstand Innovations', 'Novartis AG', 'Proterra Inc.', 'Johns Manville', 'MERCK SHARP & DOHME CORP.', 'Epizyme', 'MEDport', 'New England Biolabs', 'Biotechnology Foundation', 'DRS Network & Imaging Systems', 'KYOCERA DOCUMENT SOLUTIONS INC.', \"CSEM Centre Suisse d'Electronique et de Microtechnique SA-Recherche et Developpement\", 'Dymax Corporation', 'KOLON INDUSTRIES', 'Olympus NDT', 'fybr', 'K.S. INTERNATIONAL CO.', 'JFE STEEL CORPORATION', 'TheGreenCell', 'ADVANCED INNOVATION CENTER LLC', 'Medicis Pharmaceutical Corporation', 'Avery Dennison Corporation', 'Meyer Tool', 'Starsource Scientific LLC', 'IDEX Health & Science LLC', 'Matrix Genetics', 'Pioneer Energy', 'MANUFACTURING RESOURCES INTERNATIONAL', 'The Jackson Laboratory', 'Medgenics Medical Israel Ltd.', 'CUMMINS FILTRATION IP', 'Medical Diagnostic Laboratories', 'Mainstream Engineering Corp.', 'Bioneer Corporation', 'Lion Copolymer Geismar', 'Integrated Device Technology', 'MAXLINEAR', 'Dynamic Solutions Worldwide', 'Masimo Semiconductor', 'Johnson & Johnson Vision Care', 'SanDisk Technologies LLC', 'Industrial Science & Technology Network', 'Lake Lite', 'Mitsubishi Polyester Film', 'Schneider Electric Solar Inverters USA', 'Janssen Biotech', 'Microchip Technology Incorporated', 'Lumentum Operations LLC', 'Lof Solar Corporation', 'Intuitive Surgical Operations', 'AMPT', 'INTEVAC', 'Lux Bio Group', 'Turtle Beach Corporation', 'Litron Laboratories Limited', 'Invensas Corporation', 'Magna International Inc.', 'LG Display Co.', 'Roche Molecular Systems', 'Mitsubishi Metal Corporation', 'Kansai Paint Co.', 'k-Space Associates', 'JAC Products Inc.', 'Korea Kumho Petrochemical Co.', 'Industrial Technology Research Institute', 'Midrex Technologies', 'Kronos International Inc', 'Turf Group LLC', 'Allertein Therapeutics', 'LG NANOH2O', 'Kodak Alaris Inc.', 'Koch Biological Solutions', 'Landauer', 'Newport Corporation', 'APPLIED STEMCELL', 'Innolux Corporation', 'Instron Corporation ', 'KJ BIOSCIENCES LLC', 'IMEC', 'Interface Performance Materials', 'Electrix', 'nLIGHT', 'SolarCity Corporation', 'Infinera Corporation', 'Kimberly-Clark Worldwide', 'FUJIFILM Dimatix', 'Kashiv Pharma', 'Imperial Innovations Limited', 'Coriant Advanced Technology', 'Inaeris Technologies', 'Kamtec', 'J. E. WHITE', 'AFMODEL', 'Johnson Controls Technology Company', 'Micron Technology', 'NOVA Chemicals (International) S.A.', 'LGS Innovations LLC', 'IMDS Corporation', 'Longhorn Vaccines and Diagnostics', 'INENTEC INC.', 'Pentair Thermal Management LLC', 'Ignis Innovation', 'DISCOVERYBIOMED INC.', 'Kajima Corporation', 'Ideal Power Inc.', 'X DEVELOPMENT LLC', 'Interez', 'INFINEUM INTERNATIONAL LIMITED', 'Auterra', 'Inphenix', 'Zeno Semiconductor Inc', 'Adeka Corporation', 'Ceramatec', 'Hunter Douglas Inc.', 'Infineon Technologies AG', 'Incyte Holdings Corporation', 'Advanced Water Technology', 'Microchips Biotech', 'Intellectual Keystone Technology LLC', 'II-VI Incorporated', 'Lockheed Martin Corporation', 'iBio', 'VIOLIN MEMORY', 'Hysitron Incorporated', 'Honeywell International Inc.', 'Hollywood Trucks', 'Nutech Ventures', 'The Henry M. Jackson Foundation for the Advancement of Military Medicine', 'Hewlett Packard Enterprise Development LP', 'Hunt Energy Enterprises LLC', 'Pendar Technologies', 'HTS', 'Hosiden Corporation', 'Commonwealth Scientific & Industrial Research Organization', 'Dexerials Corporation', 'Hoya Corporation', 'Locus Energy', 'SolaBlock LLC', 'GEN-PROBE INCORPORATED', 'Lehigh Technologies', 'HNO Greenfuels', 'System Biosciences', 'Hitachi High-Technologies Corporation', 'LG Electronics Inc.', 'BlackBerry Limited', 'Molecular Rebar Design', 'Heat Seal LLC', 'PeterBrod Corp.', 'FastCAP Systems Corporation', 'Bridgestone Corporation', 'FutureWei Technologies', 'Gtech Corporation', 'American Air Liquide', 'McAlister Technologies', 'Headway Technologies', 'Sanken Electric Co.', 'HIQ SOLAR', 'Heliae Development', 'Proton Power', 'Harris Corporation', 'Fianium Ltd.', 'Hadasit Medical Research Services & Development Company Ltd.', 'TRI ALPHA ENERGY', 'Dentsply International', 'Green Solar Transportation', 'G.D.O. Inc', 'GROW ENERGY', 'Mumetel', 'Entech Solar', 'Bausch & Lomb Incorporated', 'GENCO SCIENCES LLC', 'GOSOLARLIFE', 'GOJO Industries', 'SunEdison Semiconductor Limited', 'Polaris Products LLC', 'GTherm', 'Maxout Renewables', 'Green Extraction Technologies', 'JNC Corporation', 'Mediatek Inc.', 'NGK Spark Plug Co.', 'Micro Cooling Concepts', 'Integrated Nano-Technologies', 'Narsys', 'Michigan Biotechnology Institute', 'IntriEnergy Inc.', 'GOAL ZERO LLC', 'Alnylam Pharmaceuticals', 'Johnson & Johnson Consumer Companies', 'Seiko Epson Corporation', 'Genomatica', 'Immunolight', 'Saint-Gobain Performance Plastics Corporation', 'United Microelectronics Corp.', 'Genomic Health', 'Boehringer Ingelheim International GmbH', 'Neutronic Perpetual Innovations', 'Novon', 'GlassPoint Solar', 'Fuji Xerox Co.', 'OFS Fitel', 'Gemex Systems', 'Furukawa Electric Co.', 'Electrovaya Inc.', 'Gas Technology Institute', 'GE Healthcare Limited', 'Global OLED Technology LLC', 'Gardner-Gibson', 'Garland Industries', 'FRONT EDGE TECHNOLOGY INC.', 'ADMA Products', 'Global Eagle Entertainment Inc.', 'Yissum', 'Chipmos Technologies Inc.', 'Nestec S. A.', 'Dolby Laboratories Licensing Corporation', 'FPInnovations', 'Floadia Corporation', 'Greatbatch Ltd.', 'Agrivida', 'The Boeing Company', 'NOK Corporation', 'Kia Motors Corporation ', 'Eastman Chemical Company', 'Formula Plastics', 'Intermolecular', 'Hon Hai Precision Industry Co.', 'Selecta Biosciences', 'DSP Group LTD.', 'Evri', 'Amicus Therapeutics', 'Regeneron Pharmaceuticals', 'RF Micro Devices', 'Innovation Hammer', 'Faurecia Interior Systems', 'HRL Laboratories', 'Abbott Molecular Inc.', 'HGST NETHERLANDS B.V.', 'Bio-Rad Laboratories', 'Federal Signal Corporation', 'Glucan Biorenewables LLC', 'Bostik', 'Ethicon Endo-Surgery', 'Novus Energy LLC', 'Envisionit LLC', 'PQ CORPORATION', 'Cornell Research Foundation', 'ESCAPE THERAPEUTICS', 'AIR PRODUCTS AND CHEMICALS', 'Bayer Materialscience LLC', 'EMC Corporation', 'Illinois Tool Works', 'Eisai Co.', 'NEWFIELD THERAPEUTICS CORPORATION', 'All Power Labs', 'Gilead Sciences', 'Pacific Light Technologies', 'Teradata US', 'ACUCELA INC.', 'First Solar', 'Fuji Electric Co.', 'Professional Compounding Centers of America', 'FUJIFILM Corporation', 'Warsaw Orthopedic', 'Fujitsu Limited', 'Carbon3D', 'Cbrite Inc.', 'Ferro Corporation', 'SABIC GLOBAL TECHNOLOGIES B.V.', 'CAMBRIDGE ENTERPRISE LIMITED', 'Nanosys', 'ARBOR THERAPEUTICS', 'Babcock Power Services', 'ALGETERNAL TECHNOLOGIES', 'Ansun Biopharma', 'Evernote Corporation', 'Kobe Steel', 'Englewood Lab', 'Stora Enso Oyj', 'Columbia Insurance Company', 'Kraton Polymers U.S. LLC', 'MILLENIUM SYNTHFUELS CORPORATION', 'Uniseal Solutions Inc.', 'Express Imaging Systems', 'Elwha LLC', 'Kaneka Corporation', 'Princeton Optronics', 'ElectraTherm', 'ADVANCED CERAMIC FIBERS', 'Avalanche Technology', 'Ecolab Inc.', 'Echogen Power Systems', 'Bitrode Corporation', 'Calient Technologies', 'Nippon Chemi-Con Corporation', 'Deployable Space Systems', 'Dow AgroSciences LLC', 'Senga Advisors', 'The Charles Stark Draper Laboratory', 'Domtar Paper Company', 'KLA-Tencor Corporation', 'Genzyme Corporation', 'The Babcock & Wilcox Company', 'Wostec', 'Dell Software Inc.', 'Plant Sensory Systems', 'Energysolutions', 'Dialight Corporation', 'DEKA Products Limited Partnership', 'Empire Technology Development LLC', 'IDEA TREE', 'Denso Corporation', 'Globus Medical', 'ASML Netherlands B.V.', 'Dialogic Corporation', 'Relypsa', 'CARBO Ceramics Inc.', 'Phoseon Technology', 'Global Filtration Systems', 'Dermazone Solutions', 'UCB Pharma S.A.', 'Flextronics AP', 'U.S. NUTRACEUTICALS', 'Avtaec Limited', 'UNISANTIS ELECTRONICS SINGAPORE PTE. LTD.', 'Fina Technology', 'Pfizer Inc.', 'GangaGen', 'Advanced Analogic Technologies', 'Cetac Technologies Inc.', 'Delavau LLC', 'Amgen Fremont Inc.', 'Biotta LLC', 'Milliken & Company', 'Delphi Technologies', 'ITN Energy Systems', 'Deep Science', 'Authenex', 'DECA Technologies Inc.', 'Mission Product Holdings', 'COOK MEDICAL TECHNOLOGIES LLC', 'Coleman Cable', 'GCP Applied Technologies Inc.', \"Dr. Reddy's Laboratories Ltd.\", 'Cura Vac', 'Taiyo Ink Mfg. Co.', 'Bayer Cropscience AG', 'Lattice Semiconductor Corporation', 'Boehringer Ingelheim Vetmedica GmbH', 'CoolEarth Solar', 'NICHIA CORPORATION', 'CP KELCO APS', 'Ensyn Renewables', 'Centre de Recherche Industrielle du Quebec', 'St. Microelectronics Inc.', 'MAHLE International GmbH', 'Cook Biotech Incorporated', 'Dana Corporation', 'HARMAN INTERNATIONAL INDUSTRIES', 'Gilead Connecticut', 'Custom Electronics Inc.', 'Solarmer Energy', 'Da Yu Enterprises', 'Cadence Design Systems', 'Coloplast A/S', 'LUCERA LABS', 'Cristal USA Inc.', 'PNM', 'Crestovo LLC', 'Ecovative Design', 'Chevron Phillips Chemical Company LP', 'The Goodyear Tire & Rubber Company', 'Adynxx', 'SUMITOMO WIRING SYSTEMS', 'Confluence Energy', 'ExxonMobil Upstream Research Company', 'UWM Research Foundation', 'Alencon Acquisition Co.', 'PPG Industries Ohio', 'ConocoPhillips Company', 'Little Kids', 'Dresser-Rand Company', 'Complete Genomics', 'ServiceNow', 'Electronic Warfare Associates', 'Arpin Renewable Energy', 'Canon Kabushiki Kaisha', 'Clean Energy Labs', 'Chevron U.S.A. Inc.', 'Akron Polymer Systems', 'Kala Pharmaceuticals', 'Continental Manufacturing', 'Alcon Research', 'DHPC TECHNOLOGIES', 'Scientific Design Company', 'New Technology Ventures', 'AT&T Corporation', 'Ford Global Technologies', 'Integrated DNA Technologies', 'Applied Optoelectronics', 'Codexis', 'Conversant Intellectual Property Management Inc.', 'Community Power Corporation', 'Calysta', 'Buckman Laboratories International', 'Siemens Aktiengesellschaft ', 'HM3 Energy', 'Revivicor', 'Arcturus Therapeutics', 'Butamax(TM) Advanced Biofuels LLC', 'Luna Innovations Incorporated', 'Em-Tech LLC', 'Galectin Therapeutics', 'GED Intergrated Solution', 'DePuy Synthes Products', 'ACell', 'Polysar Corporation', 'Chromalox', 'SunLink Corporation', 'AgroFresh Inc.', 'ENI S.p.A.', 'Corporation for National Research Initiatives', 'Saint-Gobain Ceramics & Plastics', 'MATERIALS ANALYSIS TECHNOLOGY (US) CORP.', 'Moxtek', 'Carestream Health', 'Crystalplex Corporation', 'Singulex', 'BRIGHTLEAF TECHNOLOGIES INC.', 'HTC Corporation', 'Carver Scientific', 'Amprius', 'Novus Technology', 'NANO CELL SYSTEMS', 'Georgia-Pacific Gypsum LLC', 'The Eastern Co.', 'Diamond Innovations', 'Entegris', 'HOWARD INDUSTRIES', 'DiscoveRx Corporation', 'WiSys Technology Foundation', 'Ablexis', 'Teledyne Scientific & Imaging', 'Forest Concepts', 'NANOBIO CORPORATION', 'AGFA-GEVAERT N.V.', 'Amkor Technology', 'Banpil Photonics', 'Biocon Limited', 'CLEARSIGN COMBUSTION CORPORATION', 'ABB AB', 'Triple Ring Technologies', 'Google Inc.', 'Applied Genetic Technologies Corporation', 'Samsung SDI Co.', 'BTU International', 'bioTheranostics', 'eNow', 'FLOW CONTROL LLC.', 'Arrowhead Center', 'Braun Intertec Geothermal', 'LifeNet Health', 'Mattson Technology', 'AccuRay Corporation', 'Biosense Webster (Israel) Ltd.', 'BASF Plant Science GmbH', 'Grain Processing Corporation', 'True-Safe Technologies', 'OPTERRA ENERGY SERVICES', 'Propagation Research Associates', 'Marathon Equipment Company', 'SixPoint Materials', 'Graphene Technologies', 'TDK Corporation', 'Bisco', 'Materia', 'Alpha and Omega Semiconductor Incorporated', 'Colgate-Palmolive Company', 'Avon Products', 'Conoco Inc.', 'Fluidigm Corporation', 'Coactive Drive Corporation', 'Bridgelux', 'Veracyte', 'GE-Hitachi Nuclear Energy Americas LLC', 'PetraSolar', 'Battelle Memorial Institute', 'AROG PHARMACEUTICALS', 'Hyundai Motor Company', 'Rohm and Haas Electronic Materials LLC', 'Alexion Pharmaceuticals', 'Blue Sea Systems', 'Atleisure LLC', 'Beryllium Discovery Corp.', 'Nova Technologies', 'Omron Corporation', 'Astech', 'Texas Research International', 'Heraeus Precious Metals North America Conshohocken LLC', 'Alcatel Lucent', 'Copernicus Therapeutics', 'Aushon Biosystems', 'INVISTA North America S.a.r.l.', 'Atrium Medical Corporation', 'Quest Diagnostics Investments Incorporated', 'Arkival Technology Corp.', 'Bigelow Aerospace', 'Cardiva Medical', 'RenovaCare Sciences Corp.', 'PAX Scientific', 'Applied Materials', 'BASF Coatings GmbH', 'Brookhaven Science Associates LLC ', 'Eaton Corporation', 'Atom Nanoelectronics', 'ATC Technologies', 'AstenJohnson', 'Bell Helicopter Textron Inc.', 'Cross Match Technologies', 'Kerr Corporation', 'Autonomic Materials', 'Magnachip Semiconductor', 'Amtech Systems', 'Hollingsworth & Vose Company', 'Gracenote', 'Owens-Brockway Glass Container Inc.', 'Delta Electronics', 'Canon Nanotechnologies', 'American Science and Technology Corporation', 'NanoOncology', 'Analog Devices', 'EPCOS AG', 'Avantor Performance Materials', 'ZIH Corp.', 'AbbVie Inc.', 'Northrop Grumman Systems Corporation', 'American Piledriving Equipment', 'Genesco Inc.', 'FEI Company', '3M Innovative Properties Company', 'Wyatt Technology Corporation', 'MicroContinuum', 'Sundrop Fuels', 'Lawrence Livermore National Security', 'Renmatix', 'ALSTOM Technology Ltd', 'Cleanvantage LLC', 'S&S X-Ray Products', 'Altivera', 'Helios Focus LLC', 'Takara Bio Inc.', 'Easel Biotechnologies', 'Halliburton Energy Services', 'Genisphere', 'Altex Technologies Corporation', 'Alliance for Sustainable Energy', 'Quallion LLC', 'Fenwal', 'Ajinomoto Althea', 'Areesys Technologies', 'L-3 Communications Cincinnati Electronics Corporation', 'Agilent Technologies', 'PLYCEM USA', 'Sunlight Photonics Inc.', 'Solar Junction Corporation', 'Alcotek', 'AGC Flat Glass North America', 'Inventus Holdings', 'TP Solar', 'CELLTRION', 'Crossbar', 'mVerify Corporation', 'Adlens Beacon', 'Selkermetrics', 'The Paymaster Corporation', 'Abbott Point of Care Inc.', 'KOLO TECHNOLOGIES', 'Celanese Corporation', 'GOLBA LLC', 'Sinewatts', 'Courtagen Life Sciences', 'Archer Daniels Midland Company', 'Adaptive Biotechnologies Corp.', 'Claret Medical', 'Nantero', 'ECOSYNTHETIX LTD.', 'IMRA America', 'COVERIS FLEXIBLES US LLC', 'Qiagen GmbH', 'Praxair S.T. Technology', 'Allison Transmission', 'Pharmion Corporation', 'Leap Frogg', 'Great American Duck Races', 'Achushnet Company', 'Antaya Technologies Corporation', 'Cabot Corporation', 'ADASA INC.', 'Arkema Inc.', 'Danisco US Inc.', 'AVOGY', 'Caribou Biosciences', 'Bi-Modal Corporation', 'Brother International Corporation', 'SAMSUNG DISPLAY CO.', 'BP Corporation North America Inc.', 'Biological Dynamics', 'Symantec Corporation', 'B.G. Negev Technologies and Applications Ltd.', 'Ambature', 'EchoStar Technologies LLC', 'Aurora Alage', 'SOLENA FUELS CORPORATION', 'Cedar Ridge Research', 'Quantum Devices', 'Ampio Pharmaceuticals', 'Agienic', 'CNH Industrial America LLC', 'ACACIA RESEARCH GROUP LLC', 'ASCENT SOLAR TECHNOLOGIES', 'Biogenic Reagents Ventures', 'Adtran', 'Roche Diagnostics GmbH', 'Brightfield Transportation Solutions', 'GENERAL ELECTRIC COMPANY', 'QUALCOMM Incorporated', 'Guardian Industries', 'Anelva Corporation', 'GE Healthcare Dharmacon', 'BERKEN ENERGY LLC', 'Synthetic Genomics', 'BAE Systems Information and Electronic Systems Integration Inc.', 'Parion Sciences', 'Boston Scientific Scimed', 'National Education Corporation', 'Genentech', 'NovaSolix', 'ASTUTE MEDICAL', 'Revera', 'Johnson Matthey PLC', 'KINO LLC', 'VERLASE TECHNOLOGIES LLC', 'ATTOSTAT', 'PolyOne Corporation', 'Heidelberger Druckmaschinen AG', 'Finisar Corporation', 'ASM America', 'Pulse Therapeutics', 'Clearside Biomedical', 'Everspin Technologies', 'Reynolds Technologies', 'Daikin Industries', 'KR Design House', 'Soraa', 'Sequenom', 'Iogen Corporation', 'Andritz Inc.', 'Red Hat', 'Envision Solar International', 'Cima NanoTech Israel Ltd.', 'Poly-Med', 'FULL CIRCLE BIOCHAR', 'Agena Bioscience', 'FLIR Systems', 'Humanetics Corporation', 'SII Semiconductor Corporation', 'NCC Nano', 'Bristol-Myers Squibb Company', 'Algenol Biotech LLC', 'Evoqua Water Technologies LLC', 'Avertech', 'International Technology Center', 'Ivoclar Vivadent AG', 'CyboEnergy', 'Chevron Oronitz Company LLC', 'Toyota Motor Engineering & Manufacturing North America', 'SEIKO NPC Corporation', 'aTyr Pharma', 'InView Technology Corporation', 'Green Box Batteries', 'SolarLego Inc.', 'R.J. Reynolds Tobacco Company', 'KT Corporation', 'Perkinelmer Holdings', 'QuantumScape Corporation', 'Tau Therapeutics LLC', 'Lovelace Respiratory Research Institute', 'GLIKNIK INC.', 'AC International Inc.', 'Accuri Cytometers', 'Canon U.S. Life Sciences', 'Two Blades Foundation', 'Brewer Science Inc.', 'International Business Machines Corporation', 'Ethox Chemicals', 'Access Business Group International LLC', 'Sumitomo Electric Industries', 'Advanced Silicon Group', 'Zygo Corporation', 'The Procter & Gamble Company', 'JSR Corporation', 'Advanced Aqua Group', 'ExxonMobil Chemical Patents Inc.', 'CellPrint IP Holding', 'King Electric Vehicles Inc.', 'Biocare Medical', 'Apple Inc.', 'Bestway', 'Baker Hughes Incorporated', 'Swagelok Company', 'BASF', 'SolarReserve Technology', 'Production Resource Group', 'Bird-B-Gone', 'Bruin Biometrics', 'One Earth Designs Inc.', 'Siemens Medical Solutions USA', 'Enginuity Worldwide', 'Magnolia Optical Technologies', 'Smart Planet Technologies', 'Adhesives Research', 'Elenion Technologies', 'Aurrion', 'POET Research', 'Becton', 'Cool Planet Energy Systems', 'Global Solar Water Power Systems', 'Abbott Cardiovascular Systems Inc.', 'ATOMERA INCORPORATED', 'AltaRock Energy', 'Sion Power Corporation', 'Redwood Systems', 'Aerogen', 'The Samuel Roberts Noble Foundation', 'Sony Corporation', 'E Ink Corporation', 'IDEALAB', 'NetApp', 'Cellular Research', 'Applied Membrane Technologies', 'Robert Bosch GmbH', 'HAMAMATSU PHOTONICS K.K.', 'GlaxoSmithKline Biologicals', 'Travis Industries', 'Bemis Company', 'Acorn Technologies', 'Microsemi SoC Corporation', 'DNA Twopointo', 'Daylight Solutions', 'BioNano Genomics', 'Livetv', 'CMC ICOS BIOLOGICS', 'AG ENERGY SOLUTIONS', 'GLYCON LLC', 'Atonometrics', 'Nanotech Biomachines', 'Dow Global Technologies Inc.', 'Oracle International Corporation', 'Life Technologies Corporation', 'iNanoBio LLC', 'Armageddon Energy Inc.', 'Unity Semiconductor Corporation', 'Acer Incorporated', 'Element One', 'SAINT-GOBAIN ABRASIFS', 'BROADCOM CORPORATION', 'DIC Corporation', 'Gram Power', 'Esolar', 'Ormat Technologies Inc.', 'CI4 Technologies', 'Lintec Corporation', 'Nanotek Instruments', 'Angaza Design', 'Amberwave Inc.', 'Kulite Semiconductor Products', 'Bend Research', 'Christie Digital Systems', 'Pacific Industrial Development Corporation'])\n"
     ]
    }
   ],
   "source": [
    "# gather unique firm_names from mongodb\n",
    "\n",
    "def get_firm_aggregates ():\n",
    "    query = [ { \"$group\": {\"_id\":\"$firm_name\" , \"number\":{\"$sum\":1}} } ]\n",
    "    # test for a specific firm\n",
    "    # query = [ {\"$match\":{\"firm_name\": 'MAHLE International GmbH'}}, { \"$group\": {\"_id\":\"$firm_name\" , \"number\":{\"$sum\":1}} } ]\n",
    "    results = col.aggregate(query)\n",
    "\n",
    "    mongo_dict = {}\n",
    "    for result in results:\n",
    "        key = (result['_id'])\n",
    "        if key:\n",
    "            mongo_dict[key[0]] = result['number']\n",
    "    \n",
    "    return mongo_dict\n",
    "\n",
    "results_dict = get_firm_aggregates()\n",
    "firm_names = results_dict.keys()\n",
    "print (len(firm_names))\n",
    "pp = pprint.PrettyPrinter()\n",
    "pp.pprint(firm_names)"
   ]
  },
  {
   "cell_type": "code",
   "execution_count": 53,
   "metadata": {
    "scrolled": false
   },
   "outputs": [],
   "source": [
    "# find all links that have about, company, and corporate mentions \n",
    "# 1. pull down home page\n",
    "# 2. get a list of all links in Beautiful Soup\n",
    "# 3. keep only those that match a regex\n",
    "\n",
    "firm_about_dict = {}\n",
    "firm_no_about_dict = {}\n",
    "\n",
    "# regex to filter in about pages and filter out non-about looking pages\n",
    "regex_in = re.compile('(about|company|corporate|who.we.are|(^|/)vision|profile|corporate|management|team|history|values)', flags=re.IGNORECASE)\n",
    "regex_out = re.compile('(order|sale|api|product|company.?home|pdf$)', flags=re.IGNORECASE)\n",
    "    \n",
    "def fix_url(url, home_url, domain):\n",
    "    joined_url = urljoin (home_url, url, allow_fragments=False)\n",
    "    # needed for company names with embedded urls, e.g., KT Corporation\n",
    "    found_url = re.findall('http[s]?://(?:[a-zA-Z]|[0-9]|[$-_@.&+]|[!*\\(\\), ]|(?:%[0-9a-fA-F][0-9a-fA-F]))+', joined_url) \n",
    "    if not found_url:\n",
    "        return ''\n",
    "    matches = re.split(\"','\", found_url[0]) \n",
    "    return matches[0]\n",
    "\n",
    "def get_domain (url):\n",
    "    o = urlparse(url)\n",
    "    domain = o.netloc\n",
    "    return domain\n",
    "\n",
    "def get_link_path (url):\n",
    "    o = urlparse(url)\n",
    "    path = o.path + o.params + o.query + o.fragment\n",
    "    return path\n",
    "\n",
    "def get_about_links_from_home_pages (): \n",
    "    for firm_name in firm_names: \n",
    "            \n",
    "        regex = '^' + re.escape(firm_name) + '$'\n",
    "        results = col.find( {\"firm_name\": re.compile(regex, re.IGNORECASE)}).sort(\"depth\",pymongo.ASCENDING) \n",
    "\n",
    "        result = results[0]\n",
    "        html = result['html'][0]\n",
    "        home_url = result['url'][0]\n",
    " \n",
    "        domain = get_domain(home_url).strip('\\/')\n",
    "        \n",
    "        # print (\"Working on \" + firm_name + ' at ' + home_url)\n",
    "        soup = BeautifulSoup(html, 'lxml')\n",
    "        abouts = {a.get('href'): ' '.join(str(a.string).split()) for a in soup.find_all('a', href=True) \n",
    "                  if regex_in.search(get_link_path(a.get('href'))) or  regex_in.search(str(a.string))}\n",
    "        \n",
    "        abouts_fixed = {fix_url(link, home_url, domain): text for link, text in abouts.items()} \n",
    " \n",
    "        abouts_clnd = {link: text for link, text in abouts_fixed.items() if re.search(domain, link)}\n",
    "        abouts_clnd = {link: text for link, text in abouts_clnd.items() \n",
    "                       if not regex_out.search(link) and not regex_out.search(text)}\n",
    "               \n",
    "        if abouts_clnd:\n",
    "            firm_about_dict[firm_name] = abouts_clnd\n",
    "        else: \n",
    "            firm_no_about_dict[firm_name] = home_url\n",
    "\n",
    "get_about_links_from_home_pages()"
   ]
  },
  {
   "cell_type": "code",
   "execution_count": 56,
   "metadata": {},
   "outputs": [],
   "source": [
    "# print about file \n",
    "   \n",
    "f_out = open(OUTF, 'a')\n",
    "csv_out = csv.writer(f_out)\n",
    "\n",
    "# type is either 'about' or 'home' because each will likely need to be processed differently eventually\n",
    "csv_out.writerow([\"firm_name\",\"url\",\"type\"]) \n",
    "\n",
    "for firm_key, abouts in firm_about_dict.items():\n",
    "    sorted_links_by_len = sorted(abouts, key=len)\n",
    "    # pp.pprint(sorted_links_by_len)\n",
    "    for link in sorted_links_by_len: \n",
    "        csv_out.writerow([firm_key, link,'about']) \n",
    "\n",
    "f_out.flush()\n",
    "        \n",
    "for firm_key, home in firm_no_about_dict.items():\n",
    "    csv_out.writerow([firm_key, home,'home']) \n",
    "\n",
    "f_out.flush()\n",
    "f_out.close()"
   ]
  }
 ],
 "metadata": {
  "kernelspec": {
   "display_name": "Python 3",
   "language": "python",
   "name": "python3"
  },
  "language_info": {
   "codemirror_mode": {
    "name": "ipython",
    "version": 3
   },
   "file_extension": ".py",
   "mimetype": "text/x-python",
   "name": "python",
   "nbconvert_exporter": "python",
   "pygments_lexer": "ipython3",
   "version": "3.6.5"
  }
 },
 "nbformat": 4,
 "nbformat_minor": 2
}
