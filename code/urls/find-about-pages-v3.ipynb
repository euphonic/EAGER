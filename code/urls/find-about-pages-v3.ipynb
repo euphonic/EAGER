{
 "cells": [
  {
   "cell_type": "markdown",
   "metadata": {},
   "source": [
    "# find-about-pages-v3\n",
    "SanjayKAroraPhD@gmail.com <br>\n",
    "December 2018\n",
    "\n",
    "## Description\n",
    "Most of the interesting company information is not on home pages but on about us pages.  This script finds those links from the home pages for further crawling. \n",
    "\n",
    "## Change log\n",
    "v3 treats this is an exercise for identifying inputs to crawling.\n",
    "\n",
    "## TODO:\n",
    "* Need to make better use of all pages in the site, e.g., to improve data quality and use additional paragraph data found on non-homepages \n",
    "* Standardize firm name cleaning code utility into a universally accessible module\n",
    "* Port this to real-time crawler? "
   ]
  },
  {
   "cell_type": "code",
   "execution_count": 1,
   "metadata": {},
   "outputs": [],
   "source": [
    "# import data processing and other libraries\n",
    "import csv\n",
    "import sys\n",
    "import requests\n",
    "import os\n",
    "import re\n",
    "import pprint\n",
    "import pymongo\n",
    "import traceback\n",
    "from time import sleep\n",
    "import requests\n",
    "import pandas as pd\n",
    "import io\n",
    "from IPython.display import display\n",
    "import time\n",
    "import numpy as np\n",
    "from bs4 import BeautifulSoup\n",
    "import string\n",
    "from urllib.parse import urlparse, urljoin\n",
    "import requests"
   ]
  },
  {
   "cell_type": "code",
   "execution_count": 2,
   "metadata": {},
   "outputs": [],
   "source": [
    "from boilerpipe.extract import Extractor"
   ]
  },
  {
   "cell_type": "code",
   "execution_count": 7,
   "metadata": {},
   "outputs": [],
   "source": [
    "MONGODB_DB = \"FirmDB_20181203\"\n",
    "MONGODB_COLLECTION = \"pages_depth0\"\n",
    "CONNECTION_STRING = \"mongodb://localhost\"\n",
    "# username = \"scrapy\"\n",
    "# password = \"eager\"\n",
    "# authSource = \"FirmDB\"\n",
    "# authMechanism='SCRAM-SHA-1'\n",
    "\n",
    "client = pymongo.MongoClient(CONNECTION_STRING)\n",
    " # , username=username, password=password, authSource=authSource, authMechanism=authMechanism)\n",
    "db = client[MONGODB_DB]\n",
    "col = db[MONGODB_COLLECTION]\n",
    "\n",
    "OUT_DIR = '/Users/sanjay/dev/EAGER/data/orgs/about/'\n",
    "OUTF = OUT_DIR + 'about_links4.csv'"
   ]
  },
  {
   "cell_type": "code",
   "execution_count": 4,
   "metadata": {},
   "outputs": [
    {
     "name": "stdout",
     "output_type": "stream",
     "text": [
      "1152\n",
      "dict_keys(['Metabolix', 'Yeda Research and Development Co.', 'Wizard Labs', 'ZENA TECHNOLOGIES', 'Wireless Environment', 'Weatherford Canada Partnership', 'Vorbeck Materials Corporation', 'Wenger Corporation', 'Vizio Inc.', 'VMware', 'VEECO PRECISION SURFACE PROCESSING LLC', 'DuPont Teijin Films U.S. Limited Partnership', 'Vaxiion Therapeutics', 'Carl Zeiss Meditec AG', 'Xerox Corporation', 'Yageo Corporation', '22nd Century Limited', 'Yamaha Corporation', 'WOVN', 'Valicor', 'Wikipad', 'Transitions Optical', 'Kabushikikaisha Toshiba', 'Wine.com', 'Nederlandse Organisatie voor toegepast-natuurwetenschappelijk onderzoek TNO', 'Thorn Bioscience LLC', 'Wave Energy Conversion Corporation of America', 'Verliant Energy', 'Veracode', 'Xintec Inc.', 'TECNIUM', 'United Technologies Corporation', 'Unistrut International Corp.', 'Tata Consultancy Services Limited', 'Tufts Medical Center', 'W&Wsens Devices', 'Casio Computer Co.', 'Crystal Solar Inc.', 'TT Technologies', 'Xyleco', 'Total Marketing Services', 'Transposagen Biopharmaceuticals', 'Toda Kogyo Corporation', 'Toray Plastics (America)', 'SEEK THERMAL', 'TMC Corporation', 'WHATSAPP INC.', 'WestPoint Home', 'VIASAT INC.', 'Tersus Environmental', 'Tela Innovations', 'E. Tech Incorporation', 'Silicon Space Technology Corp.', 'Tamura Corporation', 'Syngenta Participations AG', 'Sustainable Technologies', 'Waters Technologies Corporation', 'Virent', 'Southwest Research Institute', 'Tosoh Corporation', 'VINDICO NANOBIO TECHNOLOGY INC.', 'Vascular BioSciences', 'Supremex Inc.', 'Hamilton Sundstrand Corporation', 'Conexant Systems', 'Ube Industries', 'UChicago Argonne', 'Universal Leaf Tobacco Co.', 'Tokyo Ohka Kogyo Co.', 'Transilwrap Company', 'Sun Chemical Corporation', 'THYSSENKRUPP INDUSTRIAL SOLUTIONS GMBH', 'Toshiba America Electronic Components', 'Tessera', 'T.H.E.M.', 'SYNTHOMER USA LLC', 'Tyco Electronics Corporation', 'EXOS LLC', 'Tapwave', 'ZON', 'Zephyr Energy Systems LLC', 'TRIDONIC GMBH & CO KG', 'Transtron Solutions LLC', 'TRANE INTERNATIONAL INC.', 'Watlow Electric Manufacturing Company', 'NLT TECHNOLOGIES', 'Disney Enterprises', 'Tarveda Therapeutics', 'Thorlabs', 'Angstron Materials', 'Theraclone Sciences', 'The Carbon Cable Company', 'Tokyo Electron Limited', 'TEKNOR APEX COMPANY', 'Takeda Pharmaceutical Company Limited', 'Synopsys', 'Integrated Solar Technology', 'Sun Synchrony', 'SUNSALUTER', 'Terra Caloric', 'SunRun', 'Sumitomo Rubber Industries', 'Stratasys', 'SunEdison', 'STATS ChipPAC', 'Suganit Systems', 'STANDARD ALCOHOL COMPANY OF AMERICA', 'Simbol Inc.', 'Starlight Energy Holdings LLC', 'Star Technology and Research', 'Stablcor Technology', 'SPC International', 'Toray Industries Inc. ', 'Siliconware Precision Industries Co.', 'Silicon Storage Technology', 'SPICE SOLAR', 'SRG Global', 'Solight Solar', 'Solvay Specialty Polymers USA', 'SunCulture Solar Inc.', 'SB ENERGY', 'SOLAZYME', 'Kao Corporation', 'Sola U.S.A. Inc.', 'SolAero Technologies Corp.', 'St. Jude Medical', 'Skidmore', 'Schlumberger Technology Corporation', 'Solar-Tectic LLC', 'SOL-ELECTRICA', 'Smith & Nephew', 'Hynix Semiconductor Inc.', 'Singular Bio', 'Bluestar Silicones France', 'Sick AG', 'Sienna Biopharmaceuticals', 'Silicor Materials Inc.', 'Sigma-Aldrich Co. LLC', 'ProNAi Therapeutics', 'Sumco Corporation', 'Silicon Genesis Corporation', 'SICPA Holding SA', 'BAXALTA INCORPORATED', 'Sharp Laboratories of America', 'Sensor-Kinesis Corporation', 'Semiconductor Energy Laboratory Co.', 'Zoetis Services LLC', 'SEaB Energy Holdings Ltd.', 'Shin-Etsu Chemical Co.', 'Senaya', 'WAFERTECH', 'Sima Therapeutics', 'Sumitomo Electric Device Innovations', 'Seiko Instruments Inc.', 'SD Technologies', 'Schneider Electric USA', 'Sanofi', 'Sandia Corporation', 'Sanuvox Technologies', 'SAE Magnetics (HK) Ltd.', 'Renewable Power Conversion', 'Sweetwater Energy', 'Research Triangle Institute', 'Rockwell Collins', 'Sinton Consulting', 'Shoals Technologies Group', 'Sangamo BioSciences', 'TOMOWAVE LABORATORIES', 'Sagacious Investment Group L.L.C.', 'Shell Oil Company', 'Nippon Shokubai Co.', 'Semprius', 'Ricoh Company Limited', 'RADIANCE SOLAR', 'Quantapore', 'SELMAN AND ASSOCIATES', 'Seetron Inc.', 'Rockwell Automation Technologies', 'Pansonic Corporation', 'Pulse Therapeutics', 'S. C. Johnson & Son', 'Rolls-Royce PLC', 'Seagate Technology LLC', 'Tigo Energy', 'AVI BioPharma', 'Solan', 'WCA Group LLC', 'Roll-N-Lock Corporation', 'Previvo Genetics', 'PNM', 'PolyPlus Battery Company', 'Sysmex Corporation', 'Pixelligent Technologies', 'RES USA', 'Raytheon Company', 'Quantum Devices', 'Samsung Electronics', 'Phillips 66 Company', 'UT-Battelle', 'Performance Plants', 'Sensor Electronic Technology', 'UOP LLC', 'Riverbed Technology', 'Palo Alto Research Center Incorporated', 'Paratek Pharmaceuticals', 'Solaire Generation LLC', 'Karsten Manufacturing Corporation', 'VINYLAST', 'Oki Data Corporation', 'Voxtel', 'MICROMIDAS', 'Richtek Technology Corporation', 'Rima Enterprises', 'Synaptic Research', 'Rio Grande Valley Sugar Growers', 'Universal Display Corporation', 'One Earth Designs Inc.', 'Renesas Electronics Corporation', 'SunPower Corporation', 'Reliance Controls Corporation', 'Rapamycin Holdings', 'Proton Power', 'PQ CORPORATION', 'Semics Inc.', 'Osram Sylvania Inc.', 'PLEX LLC', 'Poly-Med', 'Fianium Ltd.', 'PetraSolar', 'Chevron Oronitz Company LLC', 'PeterBrod Corp.', 'PELLION TECHNOLOGIES', 'Ostendo Technologies', 'RenovaCare Sciences Corp.', 'PAX Scientific', 'Suncore Photovoltaics', 'Saint-Gobain Adfors Canada', 'Nvidia Corporation', 'Ortho-Clinical Diagnostics', 'Rebellion Photonics', 'MIETAMARK GENETICS', 'Newdoll Enterprises LLC', 'Photon Dynamics', 'Nordic Technologies', 'Northwest Biotherapeutics', 'Guardian Industries', 'QUALCOMM Incorporated', 'OAS Design Group', 'THE BOARD INSTITUTE', 'Siluria Technologies', 'Nissan North America', 'Dana-Farber Cancer Institute', 'MBC Ventures', 'PortaFire', 'Nanoholdings', 'Sirnaomics', 'Meso Scale Technologies', 'KOLO TECHNOLOGIES', 'Celanese Corporation', 'Abbott Point of Care Inc.', 'Foret Plasma Labs', 'Unifrax I LLC', 'Swift Engineering', 'Kinetech Power Company LLC', 'Nikon Corporation', 'QuantumScape Corporation', 'Perkinelmer Holdings', 'Zygo Corporation', 'JSR Corporation', 'The Procter & Gamble Company', 'Nexcom Technology', 'Newlans', 'CI4 Technologies', 'Ormat Technologies Inc.', 'Ion Power Group', 'Marine Polymer Technologies', 'Nokia Corporation', 'OSI Optoelectronics', 'NeoVision LLC', 'NeoPhotonics Corporation', 'Freescale Semiconductor', 'POSiFA MICROSYSTEMS', 'Cisco Technology', 'Pixar', 'Pinnacle Technology', 'Soliton Lasers', 'H R D CORPORATION', 'Pharmatrophix', 'Honda Motor Co.', 'OrbusNeich Medical', 'Pentron Clinical Technologies', 'Marathon Equipment Company', 'Propagation Research Associates', 'GTherm', 'Polaris Products LLC', 'MICROSOFT TECHNOLOGY LICENSING', 'Pegatron Corporation', 'Big Belly Solar', 'Sanyo Electric Co.', 'Chemtreat', 'PACCAR Inc', 'Surebeam Corporation', 'Hitachi Metals', 'EMD Technologies Inc.', 'Pacific Biosciences of California', 'Fairchild Semiconductor Corporation', 'Oceanit Laboratories', 'Novozymes A/S', 'NuOrtho Surgical', 'Nordson Corporation', 'Nokomis', 'JX Nippon Mining & Metals Corporation', 'NEC Corporation', 'Sony Interactive Entertainment America LLC', 'Nanospectra Biosciences', 'Nanoridge Materials', 'NanoMech', 'OLYMPUS CORPORATION', 'Morpho', 'Baxter Healthcare SA', 'Murata Manufacturing Co.', 'Mitsubishi Electric Corporation', 'Sun Drilling Products Corporation', 'MonoSol', 'Cyberonics', 'NeuMoDx Molecular', 'Oculus VR', 'Neural Signals', 'Kemira OY', 'Neumedicines', \"Nationwide Children's Hospital\", 'CERION LLC', 'NanoGram Corporation', 'NanoTech Lubricants', 'nanoComposix', 'Nanoco Technologies', 'SolarWorld Americas Inc.', 'Nanocopocia', 'Nanoquantum Sciences', 'Musco Corporation', 'Soraa Laser Diode', 'Nanomix', 'Canon', 'Nthdegree Technologies Worldwide Inc.', 'Vadient Optics', 'NanoLab', 'Momentive Performance Materials GmbH', 'Monsanto Technology LLC', 'Selas Heat Technology Company LLC', 'Minebea Co.', 'MirTech', 'MicroLink Devices', 'U S MICROPOWER INC', 'Midori USA', 'Met Tech Inc.', 'Combined Energies', 'Handstand Innovations', 'Epizyme', 'MEDport', 'TheGreenCell', 'ADVANCED INNOVATION CENTER LLC', 'Medicis Pharmaceutical Corporation', 'Avery Dennison Corporation', 'Meyer Tool', 'Medgenics Medical Israel Ltd.', 'CUMMINS FILTRATION IP', 'Medical Diagnostic Laboratories', 'Mainstream Engineering Corp.', 'Bioneer Corporation', 'Lion Copolymer Geismar', 'Boston Scientific Scimed', 'Parion Sciences', 'Angiotech Pharmaceuticals (US)', 'Linne Industries LLC', 'Invensas Corporation', 'Magna International Inc.', 'LG Display Co.', 'Midrex Technologies', 'Kronos International Inc', 'Turf Group LLC', 'Allertein Therapeutics', 'LG NANOH2O', 'Kodak Alaris Inc.', 'Koch Biological Solutions', 'MERCK SHARP & DOHME CORP.', 'Winbond Electronics Corp.', 'Biosphere Medical', 'Uni-Charm Corporation', 'Taiwan Semiconductor Manufacturing Company', 'Stanley Electric Co.', 'Incept LLC', 'MCI', 'Integrated Device Technology', 'MAXLINEAR', 'Greyrock Energy', 'Markel Corporation', 'Lake Lite', 'Mitsubishi Polyester Film', 'Adobe Systems Incorporated', 'Gestion Ultra International Inc.', 'Lux Bio Group', 'Liquidia Technologies', 'Opel Solar', 'LIQUID X PRINTED METALS', 'New England Biolabs', 'Biotechnology Foundation', 'DRS Network & Imaging Systems', 'KYOCERA DOCUMENT SOLUTIONS INC.', \"CSEM Centre Suisse d'Electronique et de Microtechnique SA-Recherche et Developpement\", 'Dymax Corporation', 'KOLON INDUSTRIES', 'Olympus NDT', 'fybr', 'K.S. INTERNATIONAL CO.', 'Roche Molecular Systems', 'Mitsubishi Metal Corporation', 'Dynamic Solutions Worldwide', 'Masimo Semiconductor', 'Grandis Inc.', 'Magnolia Solar', 'Macronix International Co.', 'k-Space Associates', 'JFE STEEL CORPORATION', 'J. E. WHITE', 'Schneider Electric Solar Inverters USA', 'Janssen Biotech', 'Microchip Technology Incorporated', 'Lumentum Operations LLC', 'Lof Solar Corporation', 'Basell Polyolefine GmbH', 'Turtle Beach Corporation', 'Litron Laboratories Limited', 'Lextar Electronics Corp.', 'Lumenco', 'Egenera', 'LATITUDE PHARMACEUTICALS INC.', 'Hitachi', 'Eastman Kodak Company', 'Kinestral Technologies', 'Intuitive Surgical Operations', 'Kimberly-Clark Worldwide', 'Kamtec', 'IMEC', 'Interface Performance Materials', 'AFMODEL', 'Johnson Controls Technology Company', 'Korea Kumho Petrochemical Co.', 'Industrial Technology Research Institute', 'Starsource Scientific LLC', 'IDEX Health & Science LLC', 'Matrix Genetics', 'Pioneer Energy', 'MANUFACTURING RESOURCES INTERNATIONAL', 'The Jackson Laboratory', 'Longhorn Vaccines and Diagnostics', 'INENTEC INC.', 'SanDisk Technologies LLC', 'Industrial Science & Technology Network', 'Imperial Innovations Limited', 'AMPT', 'INTEVAC', 'APPLIED STEMCELL', 'Innolux Corporation', 'Instron Corporation ', 'Piksel', 'Electrix', 'nLIGHT', 'SolarCity Corporation', 'Infinera Corporation', 'Coriant Advanced Technology', 'Inaeris Technologies', 'Micron Technology', 'NOVA Chemicals (International) S.A.', 'LGS Innovations LLC', 'IMDS Corporation', 'Pentair Thermal Management LLC', 'Ignis Innovation', 'DISCOVERYBIOMED INC.', 'Kajima Corporation', 'Ideal Power Inc.', 'Zeno Semiconductor Inc', 'Adeka Corporation', 'Ceramatec', 'Hunter Douglas Inc.', 'Bridgestone Corporation', 'FastCAP Systems Corporation', 'FutureWei Technologies', 'Hewlett Packard Enterprise Development LP', 'Pendar Technologies', 'HTS', 'VIOLIN MEMORY', 'Hysitron Incorporated', 'Honeywell International Inc.', 'Hollywood Trucks', 'System Biosciences', 'LG Electronics Inc.', 'Hitachi High-Technologies Corporation', 'Lehigh Technologies', 'HNO Greenfuels', 'Heliae Development', '3M Innovative Properties Company', 'FEI Company', 'Hadasit Medical Research Services & Development Company Ltd.', 'TRI ALPHA ENERGY', 'Dentsply International', 'Green Solar Transportation', 'G.D.O. Inc', 'GROW ENERGY', 'Mumetel', 'Entech Solar', 'Bausch & Lomb Incorporated', 'GENCO SCIENCES LLC', 'Livetv', 'Gardner-Gibson', 'Global OLED Technology LLC', 'Genomatica', 'OFS Fitel', 'Gemex Systems', 'Furukawa Electric Co.', 'GE Healthcare Limited', 'Garland Industries', 'FRONT EDGE TECHNOLOGY INC.', 'Landauer', 'Newport Corporation', 'Power Integrations', 'Kureha Corporation', 'Floadia Corporation', 'KJ BIOSCIENCES LLC', 'Kansai Paint Co.', 'ServiceNow', 'Arpin Renewable Energy', 'Electronic Warfare Associates', 'Esolar', 'Red Hat', 'Envision Solar International', 'Novartis AG', 'Proterra Inc.', 'Johns Manville', 'FUJIFILM Dimatix', 'Kashiv Pharma', 'EMC Corporation', 'JAC Products Inc.', 'Sony Corporation', 'E Ink Corporation', 'Elwha LLC', 'Johnson & Johnson Vision Care', 'X DEVELOPMENT LLC', 'Interez', 'INFINEUM INTERNATIONAL LIMITED', 'Auterra', 'Inphenix', 'Infineon Technologies AG', 'Incyte Holdings Corporation', 'Advanced Water Technology', 'Microchips Biotech', 'Intellectual Keystone Technology LLC', 'II-VI Incorporated', 'Lockheed Martin Corporation', 'iBio', 'Commonwealth Scientific & Industrial Research Organization', 'Dexerials Corporation', 'Hoya Corporation', 'Hunt Energy Enterprises LLC', 'Locus Energy', 'SolaBlock LLC', 'GEN-PROBE INCORPORATED', 'Nutech Ventures', 'The Henry M. Jackson Foundation for the Advancement of Military Medicine', 'Sanken Electric Co.', 'HIQ SOLAR', 'American Air Liquide', 'McAlister Technologies', 'Headway Technologies', 'Harris Corporation', 'Maxout Renewables', 'Green Extraction Technologies', 'PluroGen Therapeutics', 'Abengoa Bioenergy New Technologies', 'GENERAL MOTORS LLC', 'GOJO Industries', 'Relypsa', 'Phoseon Technology', 'CARBO Ceramics Inc.', 'Global Filtration Systems', 'National Education Corporation', 'Genentech', 'GED Intergrated Solution', 'Fuji Electric Co.', 'Professional Compounding Centers of America', 'FUJIFILM Corporation', 'Warsaw Orthopedic', 'Carbon3D', 'Fujitsu Limited', 'Cbrite Inc.', 'Ferro Corporation', 'Amicus Therapeutics', 'Regeneron Pharmaceuticals', 'Innovation Hammer', 'RF Micro Devices', 'Faurecia Interior Systems', 'Selecta Biosciences', 'DSP Group LTD.', 'Evri', 'Cornell Research Foundation', 'ESCAPE THERAPEUTICS', 'Gas Technology Institute', 'Electrovaya Inc.', 'Coloplast A/S', 'LUCERA LABS', 'Cristal USA Inc.', 'Revivicor', 'Arcturus Therapeutics', 'Butamax(TM) Advanced Biofuels LLC', 'Siemens Aktiengesellschaft ', 'HM3 Energy', 'Alcatel Lucent', 'Copernicus Therapeutics', 'Texas Research International', 'Heraeus Precious Metals North America Conshohocken LLC', 'Apple Inc.', 'SunEdison Semiconductor Limited', 'ADMA Products', 'Global Eagle Entertainment Inc.', 'Yissum', 'Chipmos Technologies Inc.', 'Intermolecular', 'Hon Hai Precision Industry Co.', 'Nanosys', 'ARBOR THERAPEUTICS', 'Babcock Power Services', 'Ansun Biopharma', 'ALGETERNAL TECHNOLOGIES', 'Evernote Corporation', 'Novus Energy LLC', 'Envisionit LLC', 'Stora Enso Oyj', 'Columbia Insurance Company', 'Kraton Polymers U.S. LLC', 'MILLENIUM SYNTHFUELS CORPORATION', 'Uniseal Solutions Inc.', 'Express Imaging Systems', 'The Charles Stark Draper Laboratory', 'Advanced Silicon Group', 'Sumitomo Electric Industries', 'Senga Advisors', 'SABIC GLOBAL TECHNOLOGIES B.V.', 'CAMBRIDGE ENTERPRISE LIMITED', 'Glucan Biorenewables LLC', 'Bostik', 'Ethicon Endo-Surgery', 'Kobe Steel', 'Englewood Lab', 'Illinois Tool Works', 'Eisai Co.', 'Kaneka Corporation', 'Princeton Optronics', 'ElectraTherm', 'ADVANCED CERAMIC FIBERS', 'Avalanche Technology', 'Ecolab Inc.', 'Greatbatch Ltd.', 'Formula Plastics', 'Agrivida', 'The Boeing Company', 'NOK Corporation', 'Kia Motors Corporation ', 'Eastman Chemical Company', 'Echogen Power Systems', 'Johnson & Johnson Consumer Companies', 'Alnylam Pharmaceuticals', 'Bitrode Corporation', 'Calient Technologies', 'Nippon Chemi-Con Corporation', 'Deployable Space Systems', 'Dow AgroSciences LLC', 'Domtar Paper Company', 'KLA-Tencor Corporation', 'Genzyme Corporation', 'The Babcock & Wilcox Company', 'Wostec', 'Plant Sensory Systems', 'Dell Software Inc.', 'Energysolutions', 'Dialight Corporation', 'DEKA Products Limited Partnership', 'Empire Technology Development LLC', 'IDEA TREE', 'Denso Corporation', 'Globus Medical', 'ASML Netherlands B.V.', 'Dialogic Corporation', 'Dermazone Solutions', 'UCB Pharma S.A.', 'Flextronics AP', 'Pfizer Inc.', 'GangaGen', 'Advanced Analogic Technologies', 'Cetac Technologies Inc.', 'Delavau LLC', 'Amgen Fremont Inc.', 'Biotta LLC', 'Milliken & Company', 'Delphi Technologies', 'Boehringer Ingelheim International GmbH', 'Neutronic Perpetual Innovations', 'Novon', 'GlassPoint Solar', 'ITN Energy Systems', 'Deep Science', 'Authenex', 'DECA Technologies Inc.', 'Mission Product Holdings', 'COOK MEDICAL TECHNOLOGIES LLC', 'Coleman Cable', 'GCP Applied Technologies Inc.', \"Dr. Reddy's Laboratories Ltd.\", 'Cura Vac', 'Taiyo Ink Mfg. Co.', 'Bayer Cropscience AG', 'Lattice Semiconductor Corporation', 'Boehringer Ingelheim Vetmedica GmbH', 'CoolEarth Solar', 'NICHIA CORPORATION', 'CP KELCO APS', 'Ensyn Renewables', 'Centre de Recherche Industrielle du Quebec', 'St. Microelectronics Inc.', 'MAHLE International GmbH', 'Cook Biotech Incorporated', 'Dana Corporation', 'HARMAN INTERNATIONAL INDUSTRIES', 'Gilead Connecticut', 'Custom Electronics Inc.', 'Mediatek Inc.', 'NGK Spark Plug Co.', 'Integrated Nano-Technologies', 'Micro Cooling Concepts', 'Bayer Materialscience LLC', 'AIR PRODUCTS AND CHEMICALS', 'Plasma-Therm', 'Cree', 'Crestovo LLC', 'SUMITOMO WIRING SYSTEMS', 'Confluence Energy', 'The Goodyear Tire & Rubber Company', 'Adynxx', 'ExxonMobil Upstream Research Company', 'Ecovative Design', 'Swagelok Company', 'BASF', 'Baker Hughes Incorporated', 'Chevron Phillips Chemical Company LP', 'Akron Polymer Systems', 'Kala Pharmaceuticals', 'Continental Manufacturing', 'Alcon Research', 'DHPC TECHNOLOGIES', 'Scientific Design Company', 'New Technology Ventures', 'AT&T Corporation', 'Ford Global Technologies', 'Integrated DNA Technologies', 'Applied Optoelectronics', 'Codexis', 'Conversant Intellectual Property Management Inc.', 'Community Power Corporation', 'Luna Innovations Incorporated', 'Em-Tech LLC', 'Galectin Therapeutics', 'Sungevity Inc.', 'Optodot Corporation', 'DePuy Synthes Products', 'ACell', 'Polysar Corporation', 'Chromalox', 'SunLink Corporation', 'AgroFresh Inc.', 'ENI S.p.A.', 'Corporation for National Research Initiatives', 'Saint-Gobain Ceramics & Plastics', 'Fuji Xerox Co.', 'UWM Research Foundation', 'Alencon Acquisition Co.', 'PPG Industries Ohio', 'MATERIALS ANALYSIS TECHNOLOGY (US) CORP.', 'Moxtek', 'Carestream Health', 'ConocoPhillips Company', 'Arkema Inc.', 'Danisco US Inc.', 'AVOGY', 'Caribou Biosciences', 'Samsung SDI Co.', 'bioTheranostics', 'BTU International', 'Little Kids', 'Dresser-Rand Company', 'Complete Genomics', 'Robert Bosch GmbH', 'Clean Energy Labs', 'The Eastern Co.', 'Diamond Innovations', 'WiSys Technology Foundation', 'Ablexis', 'HOWARD INDUSTRIES', 'Entegris', 'DiscoveRx Corporation', 'Teledyne Scientific & Imaging', 'Forest Concepts', 'NANOBIO CORPORATION', 'Chevron U.S.A. Inc.', 'BASF Plant Science GmbH', 'Grain Processing Corporation', 'True-Safe Technologies', 'OPTERRA ENERGY SERVICES', 'Mattson Technology', 'Biosense Webster (Israel) Ltd.', 'AccuRay Corporation', 'Brightfield Transportation Solutions', 'GENERAL ELECTRIC COMPANY', 'CNH Industrial America LLC', 'Ampio Pharmaceuticals', 'Agienic', 'Anelva Corporation', 'Arrowhead Center', 'Singulex', 'HTC Corporation', 'BRIGHTLEAF TECHNOLOGIES INC.', 'Cardiva Medical', 'Bigelow Aerospace', 'Applied Materials', 'BASF Coatings GmbH', 'Brookhaven Science Associates LLC ', 'eNow', 'FLOW CONTROL LLC.', 'Braun Intertec Geothermal', 'OmniVision Technologies', 'LifeNet Health', 'Nestec S. A.', 'FPInnovations', 'Dolby Laboratories Licensing Corporation', 'SixPoint Materials', 'Graphene Technologies', 'Quest Diagnostics Investments Incorporated', 'Arkival Technology Corp.', 'TDK Corporation', 'Bisco', 'Materia', 'Alpha and Omega Semiconductor Incorporated', 'Colgate-Palmolive Company', 'Avon Products', 'Conoco Inc.', 'Fluidigm Corporation', 'Coactive Drive Corporation', 'Bridgelux', 'Veracyte', 'GE-Hitachi Nuclear Energy Americas LLC', 'Saint-Gobain Performance Plastics Corporation', 'Immunolight', 'Battelle Memorial Institute', 'Canon Nanotechnologies', 'American Science and Technology Corporation', 'Amprius', 'Novus Technology', 'NANO CELL SYSTEMS', 'Georgia-Pacific Gypsum LLC', 'AROG PHARMACEUTICALS', 'Hyundai Motor Company', 'Rohm and Haas Electronic Materials LLC', 'Alexion Pharmaceuticals', 'Blue Sea Systems', 'Atleisure LLC', 'Beryllium Discovery Corp.', 'Omron Corporation', 'Nova Technologies', 'Astech', 'Amkor Technology', 'Biocon Limited', 'Banpil Photonics', 'Genesco Inc.', 'Wyatt Technology Corporation', 'MicroContinuum', 'Sundrop Fuels', 'Lawrence Livermore National Security', 'Renmatix', 'ALSTOM Technology Ltd', 'AstenJohnson', 'Bell Helicopter Textron Inc.', 'Magnachip Semiconductor', 'Amtech Systems', 'Cross Match Technologies', 'Kerr Corporation', 'Autonomic Materials', 'Hollingsworth & Vose Company', 'Owens-Brockway Glass Container Inc.', 'Delta Electronics', 'Gracenote', 'Aushon Biosystems', 'NanoOncology', 'Analog Devices', 'EPCOS AG', 'Avantor Performance Materials', 'Cleanvantage LLC', 'INVISTA North America S.a.r.l.', 'Atrium Medical Corporation', 'Eaton Corporation', 'Atom Nanoelectronics', 'ATC Technologies', 'S&S X-Ray Products', 'Altivera', 'Helios Focus LLC', 'Takara Bio Inc.', 'Easel Biotechnologies', 'Halliburton Energy Services', 'Abbott Molecular Inc.', 'HRL Laboratories', 'Genisphere', 'Altex Technologies Corporation', 'Alliance for Sustainable Energy', 'Pacific Light Technologies', 'First Solar', 'Teradata US', 'ACUCELA INC.', 'ZIH Corp.', 'AbbVie Inc.', 'Northrop Grumman Systems Corporation', 'American Piledriving Equipment', 'Hosiden Corporation', 'Tau Therapeutics LLC', 'Lovelace Respiratory Research Institute', 'AC International Inc.', 'GLIKNIK INC.', 'Bi-Modal Corporation', 'NEWFIELD THERAPEUTICS CORPORATION', 'Gilead Sciences', 'All Power Labs', 'Quallion LLC', 'Fenwal', 'Ajinomoto Althea', 'AGFA-GEVAERT N.V.', 'GOLBA LLC', 'Sinewatts', 'Courtagen Life Sciences', 'Archer Daniels Midland Company', 'L-3 Communications Cincinnati Electronics Corporation', 'Agilent Technologies', 'PLYCEM USA', 'Sunlight Photonics Inc.', 'Solar Junction Corporation', 'Alcotek', 'AGC Flat Glass North America', 'Inventus Holdings', 'Adlens Beacon', 'JNC Corporation', 'Narsys', 'Areesys Technologies', 'Unity Semiconductor Corporation', 'Acer Incorporated', 'Microsemi SoC Corporation', 'Acorn Technologies', 'Seiko Epson Corporation', 'Lintec Corporation', 'TP Solar', 'CELLTRION', 'Selkermetrics', 'The Paymaster Corporation', 'Gtech Corporation', 'Nantero', 'ECOSYNTHETIX LTD.', 'IMRA America', 'COVERIS FLEXIBLES US LLC', 'Qiagen GmbH', 'Praxair S.T. Technology', 'Allison Transmission', 'Pharmion Corporation', 'Solarmer Energy', 'Da Yu Enterprises', 'Cadence Design Systems', 'Adaptive Biotechnologies Corp.', 'SAINT-GOBAIN ABRASIFS', 'BROADCOM CORPORATION', 'DIC Corporation', 'Gram Power', 'Molecular Rebar Design', 'BlackBerry Limited', 'Bruin Biometrics', 'SolarReserve Technology', 'Production Resource Group', 'Bird-B-Gone', 'Access Business Group International LLC', 'International Business Machines Corporation', 'Ethox Chemicals', 'mVerify Corporation', 'Crossbar', 'Roche Diagnostics GmbH', 'Triple Ring Technologies', 'Google Inc.', 'Applied Genetic Technologies Corporation', 'Evoqua Water Technologies LLC', 'Avertech', 'Agena Bioscience', 'King Electric Vehicles Inc.', 'Biocare Medical', 'Bestway', 'UNISANTIS ELECTRONICS SINGAPORE PTE. LTD.', 'Fina Technology', 'U.S. NUTRACEUTICALS', 'Avtaec Limited', 'SOLENA FUELS CORPORATION', 'Cedar Ridge Research', 'Aurora Alage', 'Cellular Research', 'Applied Membrane Technologies', 'Cabot Corporation', 'ADASA INC.', 'R.A. Miller Industries', 'Applied Nanostructures', 'Antaya Technologies Corporation', 'Amberwave Inc.', 'AltaRock Energy', 'Adtran', 'Brewer Science Inc.', 'Peytant Solutions', 'Two Blades Foundation', 'Canon U.S. Life Sciences', 'GE Healthcare Dharmacon', 'BERKEN ENERGY LLC', 'Calysta', 'Toyota Motor Engineering & Manufacturing North America', 'aTyr Pharma', 'SEIKO NPC Corporation', 'CMC ICOS BIOLOGICS', 'ExxonMobil Chemical Patents Inc.', 'Atonometrics', 'DNA Twopointo', 'HAMAMATSU PHOTONICS K.K.', 'GlaxoSmithKline Biologicals', 'Travis Industries', 'Bemis Company', 'Kulite Semiconductor Products', 'International Technology Center', 'Brother International Corporation', 'Buckman Laboratories International', 'Ivoclar Vivadent AG', 'CyboEnergy', 'NCC Nano', 'Bristol-Myers Squibb Company', 'Accuri Cytometers', 'SolarLego Inc.', 'R.J. Reynolds Tobacco Company', 'KT Corporation', 'PDF Solutions', 'Nanotech Biomachines', 'Dow Global Technologies Inc.', 'Oracle International Corporation', 'Life Technologies Corporation', 'iNanoBio LLC', 'Armageddon Energy Inc.', 'Advanced Aqua Group', 'NovaSolix', 'ASTUTE MEDICAL', 'Revera', 'Johnson Matthey PLC', 'KINO LLC', 'VERLASE TECHNOLOGIES LLC', 'ATTOSTAT', 'ASCENT SOLAR TECHNOLOGIES', 'Biogenic Reagents Ventures', 'Synthetic Genomics', 'BAE Systems Information and Electronic Systems Integration Inc.', 'CLEARSIGN COMBUSTION CORPORATION', 'ABB AB', 'Abbott Cardiovascular Systems Inc.', 'ATOMERA INCORPORATED', 'FLIR Systems', 'Humanetics Corporation', 'SII Semiconductor Corporation', 'Algenol Biotech LLC', 'Bend Research', 'GOSOLARLIFE', 'Element One', 'Bio-Rad Laboratories', 'Federal Signal Corporation', 'HGST NETHERLANDS B.V.', 'Heat Seal LLC', 'Michigan Biotechnology Institute', 'IntriEnergy Inc.', 'GOAL ZERO LLC', 'Christie Digital Systems', 'Pacific Industrial Development Corporation', 'Quantum Materials Corporation', 'Canon Kabushiki Kaisha', 'Siemens Medical Solutions USA', 'Enginuity Worldwide', 'Sion Power Corporation', 'Redwood Systems', 'Aerogen', 'The Samuel Roberts Noble Foundation', 'EchoStar Technologies LLC', 'Leap Frogg', 'CellPrint IP Holding', 'United Microelectronics Corp.', 'Genomic Health', 'Cima NanoTech Israel Ltd.', 'Becton', 'POET Research', 'Aurrion', 'Magnolia Optical Technologies', 'Smart Planet Technologies', 'Adhesives Research', 'Elenion Technologies', 'Finisar Corporation', 'Heidelberger Druckmaschinen AG', 'Cool Planet Energy Systems', 'Global Solar Water Power Systems', 'SAMSUNG DISPLAY CO.', 'BP Corporation North America Inc.', 'Biological Dynamics', 'Pardev', 'McElroy Manufacturing', 'Symantec Corporation', 'B.G. Negev Technologies and Applications Ltd.', 'Ambature', 'ACACIA RESEARCH GROUP LLC', 'FULL CIRCLE BIOCHAR', 'AG ENERGY SOLUTIONS', 'GLYCON LLC', 'Green Box Batteries', 'InView Technology Corporation', 'Daylight Solutions', 'BioNano Genomics', 'Clearside Biomedical', 'KR Design House', 'Soraa', 'Sequenom', 'Iogen Corporation', 'Andritz Inc.', 'Everspin Technologies', 'Reynolds Technologies', 'Daikin Industries', 'Claret Medical', 'Nanotek Instruments', 'Angaza Design', 'Crystalplex Corporation', 'Carver Scientific', 'Great American Duck Races', 'Achushnet Company', 'IDEALAB', 'NetApp', 'PolyOne Corporation', 'O.B.I. Inc.', 'ASM America'])\n"
     ]
    }
   ],
   "source": [
    "# gather unique firm_names from mongodb\n",
    "\n",
    "def get_firm_aggregates ():\n",
    "    query = [ { \"$group\": {\"_id\":\"$firm_name\" , \"number\":{\"$sum\":1}} } ]\n",
    "    # test for a specific firm\n",
    "    # query = [ {\"$match\":{\"firm_name\": 'MAHLE International GmbH'}}, { \"$group\": {\"_id\":\"$firm_name\" , \"number\":{\"$sum\":1}} } ]\n",
    "    results = col.aggregate(query)\n",
    "\n",
    "    mongo_dict = {}\n",
    "    for result in results:\n",
    "        key = (result['_id'])\n",
    "        if key:\n",
    "            mongo_dict[key[0]] = result['number']\n",
    "    \n",
    "    return mongo_dict\n",
    "\n",
    "results_dict = get_firm_aggregates()\n",
    "firm_names = results_dict.keys()\n",
    "print (len(firm_names))\n",
    "pp = pprint.PrettyPrinter()\n",
    "pp.pprint(firm_names)"
   ]
  },
  {
   "cell_type": "code",
   "execution_count": 5,
   "metadata": {
    "scrolled": false
   },
   "outputs": [],
   "source": [
    "# find all links that have about, company, and corporate mentions \n",
    "# 1. pull down home page\n",
    "# 2. get a list of all links in Beautiful Soup\n",
    "# 3. keep only those that match a regex\n",
    "\n",
    "firm_about_dict = {}\n",
    "firm_home_dict = {}\n",
    "\n",
    "# regex to filter in about pages and filter out non-about looking pages, # should add strategy\n",
    "regex_in = re.compile('(about|aboutus|company|corporate|who.we.are|(^|/)vision|profile|corporate|management|team|history|mission|values|business.model|partner|supplier|universit|strateg|patent|story|intellectual|ipr|licensing)', flags=re.IGNORECASE)\n",
    "regex_out = re.compile('(order|sale|api|product|company.?home|pdf$)', flags=re.IGNORECASE)\n",
    "    \n",
    "def fix_url(url, home_url, domain):\n",
    "    joined_url = urljoin (home_url, url, allow_fragments=False)\n",
    "    # needed for company names with embedded urls, e.g., KT Corporation\n",
    "    found_url = re.findall('http[s]?://(?:[a-zA-Z]|[0-9]|[$-_@.&+]|[!*\\(\\), ]|(?:%[0-9a-fA-F][0-9a-fA-F]))+', joined_url) \n",
    "    if not found_url:\n",
    "        return ''\n",
    "    matches = re.split(\"','\", found_url[0]) \n",
    "    return matches[0]\n",
    "\n",
    "def get_domain (url):\n",
    "    o = urlparse(url)\n",
    "    domain = o.netloc\n",
    "    return domain\n",
    "\n",
    "def get_link_path (url):\n",
    "    o = urlparse(url)\n",
    "    path = o.path + o.params + o.query + o.fragment\n",
    "    return path\n",
    "\n",
    "def get_about_links_from_home_pages (): \n",
    "    for firm_name in firm_names: \n",
    "            \n",
    "        regex = '^' + re.escape(firm_name) + '$'\n",
    "        results = col.find( {\"firm_name\": re.compile(regex, re.IGNORECASE)}).sort(\"depth\",pymongo.ASCENDING) \n",
    "\n",
    "        result = results[0]\n",
    "        html = result['html'][0]\n",
    "        home_url = result['url'][0]\n",
    " \n",
    "        domain = get_domain(home_url).strip('\\/')\n",
    "        \n",
    "        # print (\"Working on \" + firm_name + ' at ' + home_url)\n",
    "        soup = BeautifulSoup(html, 'lxml')\n",
    "        abouts = {a.get('href'): ' '.join(str(a.string).split()) for a in soup.find_all('a', href=True) \n",
    "                  if regex_in.search(get_link_path(a.get('href'))) or regex_in.search(str(a.string))}\n",
    "        \n",
    "        abouts_fixed = {fix_url(link, home_url, domain): text for link, text in abouts.items()} \n",
    " \n",
    "        abouts_clnd = {link: text for link, text in abouts_fixed.items() if re.search(domain, link)}\n",
    "        abouts_clnd = {link: text for link, text in abouts_clnd.items() \n",
    "                       if not regex_out.search(link) and not regex_out.search(text)}\n",
    "        \n",
    "        if abouts_clnd:\n",
    "            firm_about_dict[firm_name] = abouts_clnd\n",
    "\n",
    "        firm_home_dict[firm_name] = home_url\n",
    "            \n",
    "#     pp.pprint (firm_about_dict)\n",
    "#     pp.pprint (firm_home_dict)\n",
    "\n",
    "get_about_links_from_home_pages()"
   ]
  },
  {
   "cell_type": "code",
   "execution_count": 8,
   "metadata": {},
   "outputs": [],
   "source": [
    "# print output to file \n",
    "if os.path.isfile(OUTF):\n",
    "    os.remove(OUTF)\n",
    "\n",
    "f_out = open(OUTF, 'a')\n",
    "csv_out = csv.writer(f_out)\n",
    "\n",
    "# type is either 'about' or 'home' because each will likely need to be processed differently eventually\n",
    "csv_out.writerow([\"firm_name\",\"url\",\"is_about\", \"descriptor\",\"total_about_pages\"]) \n",
    "\n",
    "for firm_key, abouts in firm_about_dict.items():\n",
    "    sorted_links_by_len = sorted(abouts, key=len)\n",
    "    total_about_pages = len(sorted_links_by_len)\n",
    "    # pp.pprint(sorted_links_by_len)\n",
    "    for link in sorted_links_by_len: \n",
    "        values = abouts[link]\n",
    "        descriptor = '|'.join(values.replace('|','').split())\n",
    "        csv_out.writerow([firm_key, link,1,descriptor,total_about_pages]) \n",
    "\n",
    "f_out.flush()\n",
    "        \n",
    "for firm_key, home in firm_home_dict.items():\n",
    "    total_about_pages = 0\n",
    "    if firm_key in firm_about_dict:\n",
    "        total_about_pages = len(firm_about_dict[firm_key])\n",
    "    csv_out.writerow([firm_key, home,0,'',total_about_pages]) \n",
    "\n",
    "f_out.flush()\n",
    "f_out.close()"
   ]
  },
  {
   "cell_type": "code",
   "execution_count": null,
   "metadata": {},
   "outputs": [],
   "source": [
    "# Now go crawl..."
   ]
  }
 ],
 "metadata": {
  "kernelspec": {
   "display_name": "Python 3",
   "language": "python",
   "name": "python3"
  },
  "language_info": {
   "codemirror_mode": {
    "name": "ipython",
    "version": 3
   },
   "file_extension": ".py",
   "mimetype": "text/x-python",
   "name": "python",
   "nbconvert_exporter": "python",
   "pygments_lexer": "ipython3",
   "version": "3.7.3"
  }
 },
 "nbformat": 4,
 "nbformat_minor": 2
}
