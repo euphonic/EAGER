{
 "cells": [
  {
   "cell_type": "code",
   "execution_count": 4,
   "metadata": {},
   "outputs": [],
   "source": [
    "# Intended to assess patent intensity and R&D intensity for Web of Innovation panel\n",
    "# Sanjay K Arora\n",
    "# June 2019\n",
    "\n",
    "# Input: A single collection\n",
    "# Output: (Eventually) a file with firm name, (pipe delimited unique domains), total pages, total words, (and average words per page)\n",
    "\n",
    "import pprint\n",
    "import sys\n",
    "import pprint\n",
    "import csv\n",
    "import pandas as pd\n",
    "import re\n",
    "import os\n",
    "from collections import defaultdict "
   ]
  },
  {
   "cell_type": "code",
   "execution_count": 6,
   "metadata": {},
   "outputs": [],
   "source": [
    "# set this home data dir\n",
    "BASE_DATA_DIR = \"/Users/kg284kt/dev/EAGER/data/\"\n",
    "\n",
    "in_path = BASE_DATA_DIR + 'orgs/parsed_page_output/' # where in files are stored\n",
    "files = os.listdir(in_path)\n",
    "files = [item for item in files if item.endswith('.txt')]\n",
    "\n",
    "\n",
    "pp = pprint.PrettyPrinter()"
   ]
  },
  {
   "cell_type": "raw",
   "metadata": {},
   "source": [
    "# iterate through files and count regex \n",
    "pattern = re.compile(r'lab|laboratory|research|development|R&D|researcher|scientist', re.IGNORECASE)\n",
    "search_str = \"My 11 Char String laboratory research R&D\"\n",
    "\n",
    "res = re.findall(pattern, search_str)\n",
    "print(len(res)) # len = 4 \n"
   ]
  }
 ],
 "metadata": {
  "kernelspec": {
   "display_name": "eager_env",
   "language": "python",
   "name": "eager_env"
  },
  "language_info": {
   "codemirror_mode": {
    "name": "ipython",
    "version": 3
   },
   "file_extension": ".py",
   "mimetype": "text/x-python",
   "name": "python",
   "nbconvert_exporter": "python",
   "pygments_lexer": "ipython3",
   "version": "3.7.3"
  }
 },
 "nbformat": 4,
 "nbformat_minor": 2
}
