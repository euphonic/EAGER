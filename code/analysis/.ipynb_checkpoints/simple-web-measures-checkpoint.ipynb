{
 "cells": [
  {
   "cell_type": "code",
   "execution_count": 1,
   "metadata": {
    "collapsed": true
   },
   "outputs": [],
   "source": [
    "# Create simple web measures, including number of pages and mean words per page\n",
    "# Sanjay K Arora\n",
    "# November 2018\n",
    "\n",
    "# Input: A single collection\n",
    "# Output: (Eventually) a file with firm name, (pipe delimited unique domains), total pages, total words, (and average words per page)\n",
    "\n",
    "import pprint\n",
    "import sys\n",
    "import pprint\n",
    "import pymongo\n",
    "import csv"
   ]
  },
  {
   "cell_type": "code",
   "execution_count": 2,
   "metadata": {
    "collapsed": true
   },
   "outputs": [],
   "source": [
    "# Setting up database connection information\n",
    "CONNECTION_STRING = 'mongodb://localhost'\n",
    "MONGODB_DB = \"FirmDB_20181116\"\n",
    "TARGET_COLLECTION = \"pages_COMBINED\"\n",
    "OUTF = \"../../data/analysis/measures/simple_web_measures_v1.csv\"\n",
    "\n",
    "client = pymongo.MongoClient(CONNECTION_STRING)\n",
    "db = client[MONGODB_DB]"
   ]
  },
  {
   "cell_type": "code",
   "execution_count": 12,
   "metadata": {
    "collapsed": true
   },
   "outputs": [],
   "source": [
    "measures = {} # key is firm\n",
    "pp = pprint.PrettyPrinter()"
   ]
  },
  {
   "cell_type": "code",
   "execution_count": 13,
   "metadata": {
    "collapsed": true
   },
   "outputs": [],
   "source": [
    "def get_pages ():\n",
    "    target_col = db[TARGET_COLLECTION]\n",
    "    pipeline = [ { \"$group\": {\"_id\":\"$firm_name\" , \"number\":{\"$sum\":1}} } ]\n",
    "    pages_by_firm_name = list(target_col.aggregate(pipeline))\n",
    "    print ('Found ' + str(len(pages_by_firm_name)) + ' firm names with pages')\n",
    "    return pages_by_firm_name\n",
    "\n",
    "def print_measures():\n",
    "    f_out = open(OUTF, 'w')\n",
    "    csv_out = csv.writer(f_out)\n",
    "    for firm in measures:\n",
    "        firm_name = firm['firm_name']\n",
    "        pages = firm['firm_name']['pages']\n",
    "        csv_out.writerow([firm_name, pages])"
   ]
  },
  {
   "cell_type": "code",
   "execution_count": 14,
   "metadata": {},
   "outputs": [
    {
     "name": "stdout",
     "output_type": "stream",
     "text": [
      "Found 1187 firm names with pages\n"
     ]
    }
   ],
   "source": [
    "pages_by_firm_name = get_pages ()"
   ]
  },
  {
   "cell_type": "code",
   "execution_count": null,
   "metadata": {
    "collapsed": true
   },
   "outputs": [],
   "source": [
    "pp.pprint(pages_by_firm_name)\n",
    "for rec in grouped_by_firm_name:\n",
    "    firm_name = rec['_id'][0]\n",
    "    measures[firm_name]['pages'] = rec['number']"
   ]
  }
 ],
 "metadata": {
  "kernelspec": {
   "display_name": "Python 3",
   "language": "python",
   "name": "python3"
  },
  "language_info": {
   "codemirror_mode": {
    "name": "ipython",
    "version": 2
   },
   "file_extension": ".py",
   "mimetype": "text/x-python",
   "name": "python",
   "nbconvert_exporter": "python",
   "pygments_lexer": "ipython2",
   "version": "2.7.14"
  }
 },
 "nbformat": 4,
 "nbformat_minor": 2
}
