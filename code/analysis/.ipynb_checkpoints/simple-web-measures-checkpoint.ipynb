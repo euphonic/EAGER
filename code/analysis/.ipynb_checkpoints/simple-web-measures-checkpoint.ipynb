{
 "cells": [
  {
   "cell_type": "code",
   "execution_count": 1,
   "metadata": {},
   "outputs": [],
   "source": [
    "# Create simple web measures, including number of pages and mean words per page\n",
    "# Sanjay K Arora\n",
    "# November 2018\n",
    "\n",
    "# Input: A single collection\n",
    "# Output: (Eventually) a file with firm name, (pipe delimited unique domains), total pages, total words, (and average words per page)\n",
    "\n",
    "import pprint\n",
    "import sys\n",
    "import pprint\n",
    "import pymongo\n",
    "import csv\n",
    "import pandas as pd\n",
    "import re"
   ]
  },
  {
   "cell_type": "code",
   "execution_count": 11,
   "metadata": {},
   "outputs": [],
   "source": [
    "# Setting up database connection information\n",
    "CONNECTION_STRING = 'mongodb://localhost'\n",
    "MONGODB_DB = \"FirmDB_20181116\"\n",
    "TARGET_COLLECTION = \"pages_COMBINED\"\n",
    "OUTF = \"../../data/analysis/measures/simple_web_measures_v1.csv\"\n",
    "\n",
    "client = pymongo.MongoClient(CONNECTION_STRING)\n",
    "db = client[MONGODB_DB]\n",
    "\n",
    "pp = pprint.PrettyPrinter()"
   ]
  },
  {
   "cell_type": "code",
   "execution_count": 29,
   "metadata": {},
   "outputs": [],
   "source": [
    "def get_pages ():\n",
    "    target_col = db[TARGET_COLLECTION]\n",
    "    pipeline = [ { \"$match\": { \"firm_name\" : { \"$exists\": \"true\", \"$ne\": \"null\" }} },\n",
    "                { \"$group\": {\"_id\":\"$firm_name\" , \"number\":{\"$sum\":1}} } ]\n",
    "    pages_by_firm_name = list(target_col.aggregate(pipeline))\n",
    "    print ('Found ' + str(len(pages_by_firm_name)) + ' firm names with pages')\n",
    "    return pages_by_firm_name\n",
    "\n",
    "def get_num_words(name):\n",
    "    target_col = db[TARGET_COLLECTION]\n",
    "    results = target_col.find ({ \"firm_name\" : name })\n",
    "    num_words = 0\n",
    "    for result in results:\n",
    "        print ('\\tWorking on', result['url'][0])\n",
    "        if 'full_text' in results:\n",
    "            num_words += [len(t) for t in text for text in result['full_text']]\n",
    "        # else continue\n",
    "    return num_words\n",
    "\n",
    "def print_measures():\n",
    "    f_out = open(OUTF, 'w')\n",
    "    csv_out = csv.writer(f_out)\n",
    "    csv_out.writerow(['firm_name', 'num_pages'])\n",
    "    for firm_name, m in measures.items():\n",
    "        pages = m['pages']\n",
    "        csv_out.writerow([firm_name, pages])\n",
    "        \n",
    "# standard firm cleaning regex\n",
    "def clean_firm_name (firm):\n",
    "    firm_clnd = re.sub('(\\.|,| corporation| incorporated| llc| inc| international| gmbh| ltd)', '', firm, flags=re.IGNORECASE).rstrip()\n",
    "    return firm_clnd"
   ]
  },
  {
   "cell_type": "code",
   "execution_count": 14,
   "metadata": {
    "scrolled": false
   },
   "outputs": [
    {
     "name": "stdout",
     "output_type": "stream",
     "text": [
      "Found 1186 firm names with pages\n"
     ]
    }
   ],
   "source": [
    "pages_by_firm_name = get_pages ()"
   ]
  },
  {
   "cell_type": "code",
   "execution_count": 28,
   "metadata": {},
   "outputs": [
    {
     "name": "stdout",
     "output_type": "stream",
     "text": [
      "Working on Shimadzu Corporation\n",
      "\tWorking on  https://www.shimadzu.com/an/index.html\n"
     ]
    },
    {
     "ename": "NameError",
     "evalue": "name 'full_text' is not defined",
     "output_type": "error",
     "traceback": [
      "\u001b[0;31m---------------------------------------------------------------------------\u001b[0m",
      "\u001b[0;31mNameError\u001b[0m                                 Traceback (most recent call last)",
      "\u001b[0;32m<ipython-input-28-e3d404cc7dc3>\u001b[0m in \u001b[0;36m<module>\u001b[0;34m\u001b[0m\n\u001b[1;32m      3\u001b[0m     \u001b[0mname\u001b[0m \u001b[0;34m=\u001b[0m \u001b[0mrec\u001b[0m\u001b[0;34m[\u001b[0m\u001b[0;34m'_id'\u001b[0m\u001b[0;34m]\u001b[0m\u001b[0;34m[\u001b[0m\u001b[0;36m0\u001b[0m\u001b[0;34m]\u001b[0m\u001b[0;34m\u001b[0m\u001b[0m\n\u001b[1;32m      4\u001b[0m     \u001b[0mprint\u001b[0m \u001b[0;34m(\u001b[0m\u001b[0;34m'Working on'\u001b[0m\u001b[0;34m,\u001b[0m \u001b[0mname\u001b[0m\u001b[0;34m)\u001b[0m\u001b[0;34m\u001b[0m\u001b[0m\n\u001b[0;32m----> 5\u001b[0;31m     \u001b[0mwords_by_firm_name\u001b[0m\u001b[0;34m[\u001b[0m\u001b[0mname\u001b[0m\u001b[0;34m]\u001b[0m \u001b[0;34m=\u001b[0m \u001b[0mget_num_words\u001b[0m\u001b[0;34m(\u001b[0m\u001b[0mname\u001b[0m\u001b[0;34m)\u001b[0m \u001b[0;31m# not cleaned text, but probably a good proxy\u001b[0m\u001b[0;34m\u001b[0m\u001b[0m\n\u001b[0m",
      "\u001b[0;32m<ipython-input-27-b80f5aba55fa>\u001b[0m in \u001b[0;36mget_num_words\u001b[0;34m(name)\u001b[0m\n\u001b[1;32m     13\u001b[0m     \u001b[0;32mfor\u001b[0m \u001b[0mresult\u001b[0m \u001b[0;32min\u001b[0m \u001b[0mresults\u001b[0m\u001b[0;34m:\u001b[0m\u001b[0;34m\u001b[0m\u001b[0m\n\u001b[1;32m     14\u001b[0m         \u001b[0mprint\u001b[0m \u001b[0;34m(\u001b[0m\u001b[0;34m'\\tWorking on '\u001b[0m\u001b[0;34m,\u001b[0m \u001b[0mresult\u001b[0m\u001b[0;34m[\u001b[0m\u001b[0;34m'url'\u001b[0m\u001b[0;34m]\u001b[0m\u001b[0;34m[\u001b[0m\u001b[0;36m0\u001b[0m\u001b[0;34m]\u001b[0m\u001b[0;34m)\u001b[0m\u001b[0;34m\u001b[0m\u001b[0m\n\u001b[0;32m---> 15\u001b[0;31m         \u001b[0;32mif\u001b[0m \u001b[0mfull_text\u001b[0m \u001b[0;32min\u001b[0m \u001b[0mresults\u001b[0m\u001b[0;34m:\u001b[0m\u001b[0;34m\u001b[0m\u001b[0m\n\u001b[0m\u001b[1;32m     16\u001b[0m             \u001b[0mnum_words\u001b[0m \u001b[0;34m+=\u001b[0m \u001b[0;34m[\u001b[0m\u001b[0mlen\u001b[0m\u001b[0;34m(\u001b[0m\u001b[0mt\u001b[0m\u001b[0;34m)\u001b[0m \u001b[0;32mfor\u001b[0m \u001b[0mt\u001b[0m \u001b[0;32min\u001b[0m \u001b[0mtext\u001b[0m \u001b[0;32mfor\u001b[0m \u001b[0mtext\u001b[0m \u001b[0;32min\u001b[0m \u001b[0mresult\u001b[0m\u001b[0;34m[\u001b[0m\u001b[0;34m'full_text'\u001b[0m\u001b[0;34m]\u001b[0m\u001b[0;34m]\u001b[0m\u001b[0;34m\u001b[0m\u001b[0m\n\u001b[1;32m     17\u001b[0m         \u001b[0;31m# else continue\u001b[0m\u001b[0;34m\u001b[0m\u001b[0;34m\u001b[0m\u001b[0m\n",
      "\u001b[0;31mNameError\u001b[0m: name 'full_text' is not defined"
     ]
    }
   ],
   "source": [
    "words_by_firm_name = {}\n",
    "for rec in pages_by_firm_name:\n",
    "    name = rec['_id'][0]\n",
    "    print ('Working on', name)\n",
    "    words_by_firm_name[name] = get_num_words(name) # not cleaned text, but probably a good proxy"
   ]
  },
  {
   "cell_type": "code",
   "execution_count": 15,
   "metadata": {},
   "outputs": [],
   "source": [
    "measures = {} # key is firm\n",
    "\n",
    "# pp.pprint(pages_by_firm_name)\n",
    "for rec in pages_by_firm_name:\n",
    "    firm_name = clean_firm_name(rec['_id'][0])\n",
    "    measures[firm_name] = {}\n",
    "    measures[firm_name]['pages'] = int(rec['number'])\n",
    "    measures[firm_name]['num_words'] = words_by_firm_name[rec]\n",
    "# pp.pprint(measures)"
   ]
  },
  {
   "cell_type": "code",
   "execution_count": 16,
   "metadata": {},
   "outputs": [],
   "source": [
    "print_measures()"
   ]
  }
 ],
 "metadata": {
  "kernelspec": {
   "display_name": "Python 3",
   "language": "python",
   "name": "python3"
  },
  "language_info": {
   "codemirror_mode": {
    "name": "ipython",
    "version": 3
   },
   "file_extension": ".py",
   "mimetype": "text/x-python",
   "name": "python",
   "nbconvert_exporter": "python",
   "pygments_lexer": "ipython3",
   "version": "3.6.5"
  }
 },
 "nbformat": 4,
 "nbformat_minor": 2
}
