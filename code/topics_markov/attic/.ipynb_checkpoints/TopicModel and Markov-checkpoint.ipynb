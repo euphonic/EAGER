{
 "cells": [
  {
   "cell_type": "code",
   "execution_count": 138,
   "metadata": {
    "collapsed": true
   },
   "outputs": [],
   "source": [
    "%matplotlib inline\n",
    "import pandas as pd\n",
    "import os\n",
    "import random\n",
    "import re\n",
    "import nltk\n",
    "import gensim\n",
    "import string\n",
    "import urllib2\n",
    "import math\n",
    "import numpy as np\n",
    "from nltk.corpus import stopwords\n",
    "from nltk.stem.snowball import SnowballStemmer\n",
    "from gensim import corpora\n",
    "from gensim.models import LdaMulticore\n",
    "from collections import defaultdict\n",
    "import copy as cp\n",
    "from bs4 import BeautifulSoup\n",
    "from functools import reduce \n",
    "import operator\n",
    "import matplotlib.pyplot as plt"
   ]
  },
  {
   "cell_type": "markdown",
   "metadata": {},
   "source": [
    "## Webscraping Data"
   ]
  },
  {
   "cell_type": "code",
   "execution_count": 17,
   "metadata": {
    "collapsed": true
   },
   "outputs": [],
   "source": [
    "#read in the csv files with URLS\n",
    "green = pd.read_csv(\"data/green_business_urls.csv\")\n",
    "synbio = pd.read_csv(\"data/synbio_business_urls.csv\")\n",
    "nano = pd.read_csv(\"data/nano_business_urls.csv\")\n",
    "#get lists of the urls\n",
    "green_urls = list(green['lower_url'])\n",
    "synbio_urls = list(synbio['lower_url'])\n",
    "nano_urls = list(nano['lower_url'])"
   ]
  },
  {
   "cell_type": "code",
   "execution_count": 150,
   "metadata": {
    "collapsed": true
   },
   "outputs": [],
   "source": [
    "missed = []\n",
    "def get_data(url):\n",
    "    '''\n",
    "    Function to extract the visible text data from a given URL\n",
    "    '''\n",
    "    try:\n",
    "        if url.startswith(\"http\"):\n",
    "            html = urllib2.urlopen(url).read()\n",
    "        else:\n",
    "            html = urllib2.urlopen(\"http://\" + url).read()\n",
    "        soup = BeautifulSoup(html, 'lxml')\n",
    "        [s.extract() for s in soup(['style', 'script', '[document]', 'head', 'title'])]\n",
    "        visible_text = soup.getText()\n",
    "        text =  [item.strip() for item in visible_text.split(\"\\n\") if not item.strip() == \"\"]\n",
    "        return text\n",
    "    except:\n",
    "        missed.append(url)\n",
    "#filter out the few null results\n",
    "green_data = filter(lambda x : x and len(x) > 1, [get_data(item) for item in green_urls])\n",
    "synbio_data = filter(lambda x : x and len(x) > 1, [get_data(item) for item in synbio_urls])\n",
    "nano_data = filter(lambda x : x and len(x) > 1, [get_data(item) for item in nano_urls])\n"
   ]
  },
  {
   "cell_type": "code",
   "execution_count": 151,
   "metadata": {},
   "outputs": [
    {
     "name": "stdout",
     "output_type": "stream",
     "text": [
      "23\n",
      "80\n",
      "52\n"
     ]
    }
   ],
   "source": [
    "#check that we have the expected number of documents\n",
    "print len(green_data)\n",
    "print len(synbio_data)\n",
    "print len(nano_data)"
   ]
  },
  {
   "cell_type": "markdown",
   "metadata": {},
   "source": [
    "## Data Prep"
   ]
  },
  {
   "cell_type": "markdown",
   "metadata": {},
   "source": [
    "#### Prepare text for topic modelling"
   ]
  },
  {
   "cell_type": "code",
   "execution_count": 154,
   "metadata": {
    "collapsed": true
   },
   "outputs": [],
   "source": [
    "#tokenize text for topic modelling\n",
    "def encode_item(text):\n",
    "    '''\n",
    "    Remove characters with encoding problems \n",
    "    '''\n",
    "    clean = \"\"\n",
    "    for item in text.split(\" \"):\n",
    "        try:\n",
    "            clean += str(item).encode('ascii','ignore') + \" \"\n",
    "        except: \n",
    "            pass\n",
    "    return clean.rstrip()\n",
    "stopwords = nltk.corpus.stopwords.words('english') + list(set(string.punctuation))\n",
    "stemmer = SnowballStemmer(\"english\")\n",
    "def stem_tokenizer(text):\n",
    "    '''\n",
    "    Tokenize and stem an input sentence\"\n",
    "    '''\n",
    "    words_stemmed = filter(lambda x : not x in stopwords, [stemmer.stem(word) for word in nltk.word_tokenize(text)])\n",
    "    return words_stemmed\n",
    "def return_for_model(text):\n",
    "    '''\n",
    "    Deal with endcoding and return stemmed/tokenized text\n",
    "    '''\n",
    "    all_content = [encode_item(item) for item in text]\n",
    "    all_content_stem_token = map(stem_tokenizer, all_content)\n",
    "    return all_content_stem_token"
   ]
  },
  {
   "cell_type": "code",
   "execution_count": 155,
   "metadata": {
    "collapsed": true
   },
   "outputs": [],
   "source": [
    "def process_doc_list(list_of_docs):\n",
    "    '''\n",
    "    input: lists of documents (which are individually lists of paragraphs)\n",
    "    output: returns a test/train split of paragraphs and stemmed documents\n",
    "    '''\n",
    "    combined_text = []\n",
    "    documents = []\n",
    "    for document in list_of_docs:\n",
    "        text = filter(lambda x : not x in [' ', '', '\\t'],document) #remove empty paragraphs\n",
    "        #loop over text and add title elements to the paragraph they describe\n",
    "        joined = []\n",
    "        join = False\n",
    "        for i in range(len(text)):\n",
    "            if len(text[i]) < 40:\n",
    "                join = True\n",
    "            else:\n",
    "                if join:\n",
    "                    joined.append(text[i-1] + \" \" + text[i])\n",
    "                else:\n",
    "                    joined.append(text[i])\n",
    "        combined_text +=joined # make a big list\n",
    "        documents.append(joined) #make a list of lists\n",
    "    combined = return_for_model(combined_text)\n",
    "    random.shuffle(combined) #randomly shuffle in order to make test train split\n",
    "    train_index = int(np.round(len(combined)*.8)) #about 80% in the training set\n",
    "    train = combined[:train_index]\n",
    "    test = combined[train_index:]\n",
    "    as_documents = [return_for_model(doc) for doc in documents]\n",
    "    return train, test, as_documents"
   ]
  },
  {
   "cell_type": "markdown",
   "metadata": {},
   "source": [
    "#### Process Documents for Topic Modelling"
   ]
  },
  {
   "cell_type": "code",
   "execution_count": 156,
   "metadata": {
    "collapsed": true
   },
   "outputs": [],
   "source": [
    "#use the preceeding fuction to process the text data\n",
    "green_train, green_test, green_docs = process_doc_list(green_data)\n",
    "synbio_train, synbio_test, synbio_docs = process_doc_list(synbio_data)\n",
    "nano_train, nano_test, nano_docs = process_doc_list(nano_data)"
   ]
  },
  {
   "cell_type": "markdown",
   "metadata": {},
   "source": [
    "## Run Topic Modelling"
   ]
  },
  {
   "cell_type": "code",
   "execution_count": 157,
   "metadata": {
    "collapsed": true
   },
   "outputs": [],
   "source": [
    "def topic_model(train, test, topics = 10):\n",
    "    '''\n",
    "    input: preprocessed test and training data, optionally the number of topics\n",
    "    output: a fitted LDA topic model and the bow representation of test data for model evaluation\n",
    "    '''\n",
    "    random.seed(1)\n",
    "    #create topic model on full text\n",
    "    #will need to run on server when we have more data\n",
    "    full_dict = corpora.Dictionary(train)\n",
    "    DT_matrix = [full_dict.doc2bow(doc) for doc in train]\n",
    "    test_token = [full_dict.doc2bow(doc) for doc in test]\n",
    "    lda = LdaMulticore(DT_matrix, id2word=full_dict, num_topics=topics) \n",
    "    return lda, test_token"
   ]
  },
  {
   "cell_type": "code",
   "execution_count": 144,
   "metadata": {
    "collapsed": true
   },
   "outputs": [],
   "source": [
    "k = [2, 5, 10, 15, 20, 25, 30, 40 , 50, 60, 100] #possible number of topics\n",
    "def calculate_perplexities(train,test, k):\n",
    "    '''\n",
    "    inputs: preprocessed test and training data, a list of possible number of topics\n",
    "    outputs: log perplexity and perplexity, scored on the test set\n",
    "    '''\n",
    "    log_perplexities = []\n",
    "    perplexity = []\n",
    "    for i in k:\n",
    "        model, test_doc2bow = topic_model(train, test, i)\n",
    "        log_p = model.log_perplexity(test_doc2bow)\n",
    "        log_perplexities.append(log_p)\n",
    "        perp = model.bound(test_doc2bow)\n",
    "        perplexity.append(perp)\n",
    "    return log_perplexities, perplexity\n",
    "green_log_perplexities, green_perplexities = calculate_perplexities(green_train, green_test, k)\n",
    "synbio_log_perplexities, synbio_perplexities = calculate_perplexities(synbio_train, synbio_test, k)\n",
    "nano_log_perplexities,nano_perplexities= calculate_perplexities(nano_train, nano_test, k)"
   ]
  },
  {
   "cell_type": "markdown",
   "metadata": {},
   "source": [
    "#### Perplexity Plots for each Website type"
   ]
  },
  {
   "cell_type": "code",
   "execution_count": 145,
   "metadata": {},
   "outputs": [
    {
     "data": {
      "text/plain": [
       "[<matplotlib.lines.Line2D at 0x242ff9e8>]"
      ]
     },
     "execution_count": 145,
     "metadata": {},
     "output_type": "execute_result"
    },
    {
     "data": {
      "image/png": "[encoded data removed]",
      "text/plain": [
       "<matplotlib.figure.Figure at 0x11028320>"
      ]
     },
     "metadata": {},
     "output_type": "display_data"
    }
   ],
   "source": [
    "import matplotlib.pyplot as plt\n",
    "plt.plot(k, green_perplexities)"
   ]
  },
  {
   "cell_type": "code",
   "execution_count": 146,
   "metadata": {},
   "outputs": [
    {
     "data": {
      "text/plain": [
       "[<matplotlib.lines.Line2D at 0x1301ecc0>]"
      ]
     },
     "execution_count": 146,
     "metadata": {},
     "output_type": "execute_result"
    },
    {
     "data": {
      "image/png": "[encoded data removed]",
      "text/plain": [
       "<matplotlib.figure.Figure at 0x25c8a1d0>"
      ]
     },
     "metadata": {},
     "output_type": "display_data"
    }
   ],
   "source": [
    "plt.plot(k, synbio_perplexities)"
   ]
  },
  {
   "cell_type": "code",
   "execution_count": 147,
   "metadata": {},
   "outputs": [
    {
     "data": {
      "text/plain": [
       "[<matplotlib.lines.Line2D at 0xf590860>]"
      ]
     },
     "execution_count": 147,
     "metadata": {},
     "output_type": "execute_result"
    },
    {
     "data": {
      "image/png": "[encoded data removed]",
      "text/plain": [
       "<matplotlib.figure.Figure at 0x12c5c240>"
      ]
     },
     "metadata": {},
     "output_type": "display_data"
    }
   ],
   "source": [
    "plt.plot(k, nano_perplexities)"
   ]
  },
  {
   "cell_type": "markdown",
   "metadata": {},
   "source": [
    "#### Predict topics by paragraph"
   ]
  },
  {
   "cell_type": "code",
   "execution_count": 13,
   "metadata": {
    "collapsed": true
   },
   "outputs": [],
   "source": [
    "#identify topics by paragraph\n",
    "topic_vector = []\n",
    "for doc in by_document:\n",
    "    main_topic = []\n",
    "    for para in doc:\n",
    "        topic_by_prob = sorted([(i[1],i[0]) for i in lda.get_document_topics(full_dict.doc2bow(para))], reverse = True)\n",
    "        main_topic.append(topic_by_prob[0][1])\n",
    "        topic_prob = topic_by_prob[0][0] #in case we want it later\n",
    "    topic_vector.append(main_topic)\n",
    "#add start and end keys for topic_vector\n",
    "for doc in topic_vector:\n",
    "    doc.insert(0, \"start\")\n",
    "    doc.append(\"end\")"
   ]
  },
  {
   "cell_type": "code",
   "execution_count": 14,
   "metadata": {},
   "outputs": [
    {
     "data": {
      "text/plain": [
       "['start', 1, 0, 2, 1, 1, 1, 3, 3, 1, 3, 2, 1, 1, 0, 3, 3, 0, 3, 0, 0, 'end']"
      ]
     },
     "execution_count": 14,
     "metadata": {},
     "output_type": "execute_result"
    }
   ],
   "source": [
    "topic_vector[1]"
   ]
  },
  {
   "cell_type": "markdown",
   "metadata": {},
   "source": [
    "### Markov Model"
   ]
  },
  {
   "cell_type": "code",
   "execution_count": 15,
   "metadata": {
    "collapsed": true
   },
   "outputs": [],
   "source": [
    "from collections import defaultdict\n",
    "import random"
   ]
  },
  {
   "cell_type": "code",
   "execution_count": 21,
   "metadata": {
    "collapsed": true
   },
   "outputs": [],
   "source": [
    "class markov_representation():\n",
    "    def __init__(self):\n",
    "        self.tokens = defaultdict(lambda: 0)\n",
    "        self.transitions = defaultdict(lambda: defaultdict(lambda:0))\n",
    "        self.for_matrix = defaultdict(lambda: 0)\n",
    "    def add(self, list_of_tokens):\n",
    "        for i in range(len(list_of_tokens) ):\n",
    "            if i <= (len(list_of_tokens)-2):\n",
    "                self.tokens[str(list_of_tokens[i])]+=1\n",
    "                self.transitions[str(list_of_tokens[i])][str(list_of_tokens[i + 1])]+=1\n",
    "                self.for_matrix[(str(list_of_tokens[i]),str(list_of_tokens[i + 1]))] +=1\n",
    "            else: #separate block to add the last token to the list of tokens\n",
    "                self.tokens[str(list_of_tokens[i])]+=1\n",
    "                self.transitions[str(list_of_tokens[i])][None] +=1\n",
    "    def test(self):\n",
    "        #return self.transitions\n",
    "        return self.for_matrix\n",
    "    #to do: add transition matrix\n",
    "    def make_transition_matrix(self):\n",
    "        #tranform dictionary of tuples in self.for_matrix into matrix\n",
    "        pass\n",
    "    def generate_sequence(self):\n",
    "        topic = 'start'\n",
    "        document = ['start']\n",
    "        while topic != 'end' and len(document)<20:\n",
    "            options = self.transitions[topic]\n",
    "            total = sum(options.values())\n",
    "            temp = 0\n",
    "            threshold = random.randint(0, total-1)\n",
    "            for key, value in options.iteritems():\n",
    "                temp += value\n",
    "                if temp>threshold:\n",
    "                    topic = key\n",
    "                    break\n",
    "            document.append(topic)\n",
    "        if document[-1] != 'end':\n",
    "            document.append('end')\n",
    "        return document\n",
    "        #I want to recursively call this to generate a sequence of the required length, but pass on this for now\n",
    "#         if len(document) > min_length:\n",
    "#             return document\n",
    "#         else:\n",
    "#             return self.generate_sequence(self, 5)"
   ]
  },
  {
   "cell_type": "markdown",
   "metadata": {},
   "source": [
    "### Apply Model"
   ]
  },
  {
   "cell_type": "code",
   "execution_count": 23,
   "metadata": {},
   "outputs": [
    {
     "data": {
      "text/plain": [
       "['start', '2', '1', '1', '0', 'end']"
      ]
     },
     "execution_count": 23,
     "metadata": {},
     "output_type": "execute_result"
    }
   ],
   "source": [
    "model = markov_representation()\n",
    "for doc in topic_vector:\n",
    "    model.add(doc)\n",
    "model.generate_sequence()"
   ]
  },
  {
   "cell_type": "code",
   "execution_count": null,
   "metadata": {
    "collapsed": true
   },
   "outputs": [],
   "source": [
    "## add code to get transition matrix"
   ]
  },
  {
   "cell_type": "code",
   "execution_count": 24,
   "metadata": {},
   "outputs": [
    {
     "data": {
      "text/plain": [
       "defaultdict(<function __main__.<lambda>>,\n",
       "            {('0', '0'): 7,\n",
       "             ('0', '1'): 4,\n",
       "             ('0', '2'): 4,\n",
       "             ('0', '3'): 5,\n",
       "             ('0', 'end'): 2,\n",
       "             ('1', '0'): 9,\n",
       "             ('1', '1'): 25,\n",
       "             ('1', '2'): 4,\n",
       "             ('1', '3'): 5,\n",
       "             ('1', 'end'): 4,\n",
       "             ('2', '0'): 1,\n",
       "             ('2', '1'): 8,\n",
       "             ('2', '2'): 17,\n",
       "             ('2', '3'): 4,\n",
       "             ('2', 'end'): 3,\n",
       "             ('3', '0'): 5,\n",
       "             ('3', '1'): 5,\n",
       "             ('3', '2'): 4,\n",
       "             ('3', '3'): 11,\n",
       "             ('3', 'end'): 1,\n",
       "             ('start', '1'): 5,\n",
       "             ('start', '2'): 4,\n",
       "             ('start', '3'): 1})"
      ]
     },
     "execution_count": 24,
     "metadata": {},
     "output_type": "execute_result"
    }
   ],
   "source": [
    "model.test()"
   ]
  },
  {
   "cell_type": "code",
   "execution_count": null,
   "metadata": {
    "collapsed": true
   },
   "outputs": [],
   "source": []
  },
  {
   "cell_type": "code",
   "execution_count": null,
   "metadata": {
    "collapsed": true
   },
   "outputs": [],
   "source": []
  },
  {
   "cell_type": "code",
   "execution_count": null,
   "metadata": {
    "collapsed": true
   },
   "outputs": [],
   "source": []
  },
  {
   "cell_type": "code",
   "execution_count": null,
   "metadata": {
    "collapsed": true
   },
   "outputs": [],
   "source": []
  },
  {
   "cell_type": "code",
   "execution_count": null,
   "metadata": {
    "collapsed": true
   },
   "outputs": [],
   "source": []
  }
 ],
 "metadata": {
  "kernelspec": {
   "display_name": "Python 2",
   "language": "python",
   "name": "python2"
  },
  "language_info": {
   "codemirror_mode": {
    "name": "ipython",
    "version": 2
   },
   "file_extension": ".py",
   "mimetype": "text/x-python",
   "name": "python",
   "nbconvert_exporter": "python",
   "pygments_lexer": "ipython2",
   "version": "2.7.14"
  }
 },
 "nbformat": 4,
 "nbformat_minor": 2
}
