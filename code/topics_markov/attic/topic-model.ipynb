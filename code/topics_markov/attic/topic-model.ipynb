{
 "cells": [
  {
   "cell_type": "markdown",
   "metadata": {},
   "source": [
    "# topic-model\n",
    "SanjayKAroraPhD@gmail.com <br>\n",
    "December 2018\n",
    "\n",
    "## Description\n",
    "This notebook trains topic models on firm pages, segmenting those pages by firm groups as appropriate, and prepares topic modeling outputs at the paragraph level for subsequent Markov modeling\n",
    "\n",
    "## TODO:\n",
    "* Consider changing LdaMulticore to Mallet LDA implementation\n",
    "* Fix lookup to industry and firm size code"
   ]
  },
  {
   "cell_type": "code",
   "execution_count": 1,
   "metadata": {},
   "outputs": [],
   "source": [
    "%matplotlib inline\n",
    "import os\n",
    "import os.path\n",
    "import random\n",
    "import re\n",
    "import gensim\n",
    "import string\n",
    "import math\n",
    "from gensim import corpora\n",
    "from gensim.models import LdaMulticore\n",
    "from gensim.models import CoherenceModel\n",
    "from collections import defaultdict\n",
    "import copy as cp\n",
    "from bs4 import BeautifulSoup\n",
    "from functools import reduce \n",
    "import operator\n",
    "import matplotlib.pyplot as plt\n",
    "import pprint\n",
    "import numpy as np\n",
    "import pandas as pd\n",
    "import nltk\n",
    "from nltk.corpus import stopwords\n",
    "from nltk.stem.snowball import SnowballStemmer\n",
    "import pprint\n",
    "import pyLDAvis\n",
    "import pyLDAvis.gensim"
   ]
  },
  {
   "cell_type": "code",
   "execution_count": 2,
   "metadata": {},
   "outputs": [],
   "source": [
    "import warnings;\n",
    "warnings.simplefilter('ignore')"
   ]
  },
  {
   "cell_type": "code",
   "execution_count": 3,
   "metadata": {},
   "outputs": [],
   "source": [
    "# set this home data dir\n",
    "BASE_DATA_DIR = \"/Users/sarora/dev/EAGER/data/\"\n",
    "# for groups of words not in sentence format, group chunks of content; this is measured in number of characters \n",
    "PHRASE_LENGTH = 60"
   ]
  },
  {
   "cell_type": "markdown",
   "metadata": {},
   "source": [
    "## Load website data from file\n",
    "Look for text files prepared from MongoDB (the Scrapy scraper)"
   ]
  },
  {
   "cell_type": "code",
   "execution_count": 4,
   "metadata": {},
   "outputs": [],
   "source": [
    "#import demo text files\n",
    "in_path = BASE_DATA_DIR + 'orgs/parsed_page_output/' # where in files are stored\n",
    "out_file = in_path + 'out_topics.csv' # where output files are stored\n",
    "files = os.listdir(in_path)\n",
    "files = [item for item in files if item.endswith('.txt')]"
   ]
  },
  {
   "cell_type": "code",
   "execution_count": 5,
   "metadata": {},
   "outputs": [],
   "source": [
    "#generate pooled text and list of processed documents for topic model\n",
    "combined_text = []\n",
    "documents_dict = {}\n",
    "for i in range(len(files)):\n",
    "    with open(in_path + files[i], 'r') as my_file:\n",
    "        text = my_file.readlines() # this is each separate paragraph including headers etc.\n",
    "        for k in [\"\\n\", \"\\t\", \" \"]: # remove the end of sentence tags\n",
    "            text = [item.strip(k) for item in text]\n",
    "        text = list(filter(lambda x : not x in [' ', '', '\\t'],text)) #remove the paragraphs that are just blank space\n",
    "        documents_dict[files[i]] = text #make a list of lists"
   ]
  },
  {
   "cell_type": "markdown",
   "metadata": {},
   "source": [
    "## Data Prep"
   ]
  },
  {
   "cell_type": "markdown",
   "metadata": {},
   "source": [
    "### Prepare text for topic modelling"
   ]
  },
  {
   "cell_type": "code",
   "execution_count": 6,
   "metadata": {},
   "outputs": [
    {
     "name": "stderr",
     "output_type": "stream",
     "text": [
      "[nltk_data] Downloading package stopwords to\n",
      "[nltk_data]     /Users/sarora/nltk_data...\n",
      "[nltk_data]   Package stopwords is already up-to-date!\n",
      "[nltk_data] Downloading package punkt to /Users/sarora/nltk_data...\n",
      "[nltk_data]   Package punkt is already up-to-date!\n"
     ]
    },
    {
     "data": {
      "text/plain": [
       "True"
      ]
     },
     "execution_count": 6,
     "metadata": {},
     "output_type": "execute_result"
    }
   ],
   "source": [
    "# run once if needed and download the popular corpora (e.g., stopwords) \n",
    "nltk.download(['stopwords', 'punkt'])"
   ]
  },
  {
   "cell_type": "code",
   "execution_count": 45,
   "metadata": {},
   "outputs": [],
   "source": [
    "# pattern regex to remove unwanted words that show up in topic models\n",
    "p = re.compile(r\"(\\(\\)|''|``|\\\"|null|ul|li|ol|^\\.|^:|^/|\\\\|--|cooki|'s|corpor|busi|ltd|co\\.|compan|keyboard|product|technolog)\", flags=re.IGNORECASE)\n",
    "\n",
    "def encode_item(text):\n",
    "    '''\n",
    "    Remove characters with encoding problems \n",
    "    '''\n",
    "    clean = \"\"\n",
    "    for item in text.split(\" \"):\n",
    "        try:\n",
    "            clean += item.encode('ascii','ignore').decode('utf-8') + \" \"\n",
    "        except: \n",
    "            pass\n",
    "    return clean.rstrip()\n",
    "\n",
    "stopwords = nltk.corpus.stopwords.words('english') + list(set(string.punctuation))\n",
    "stemmer = SnowballStemmer(\"english\")\n",
    "\n",
    "#tokenize text for topic modelling\n",
    "def stem_tokenizer(text):\n",
    "    '''\n",
    "    Tokenize and stem an input sentence\"\n",
    "    '''\n",
    "    words_stemmed = list(filter(lambda x : not x in stopwords, [stemmer.stem(word) for word in nltk.word_tokenize(text)]))\n",
    "    return words_stemmed\n",
    "\n",
    "def clean_text (text):\n",
    "    clnd_text = list(filter(lambda x : not p.match(x), text))\n",
    "    return clnd_text\n",
    "\n",
    "def return_for_model(text):\n",
    "    '''\n",
    "    Deal with endcoding and return stemmed/tokenized text\n",
    "    '''\n",
    "    all_content = [encode_item(item) for item in text] \n",
    "    all_content_stem_token = list(map(stem_tokenizer, all_content))\n",
    "    all_content_clnd = list(map(clean_text, all_content_stem_token))\n",
    "        \n",
    "    return all_content_clnd"
   ]
  },
  {
   "cell_type": "code",
   "execution_count": 46,
   "metadata": {},
   "outputs": [
    {
     "data": {
      "text/plain": [
       "[['firm', 'produc', 'widget', 'use', 'tech'],\n",
       " ['sentenc'],\n",
       " ['text', 'quotat', 'safeti', 'first']]"
      ]
     },
     "execution_count": 46,
     "metadata": {},
     "output_type": "execute_result"
    }
   ],
   "source": [
    "# test regex\n",
    "return_for_model (['this is a technology corporation or company or business or firm that produces products and widgets using tech and productization', \n",
    "                   'i am a null sentence with ul li () `` --', \n",
    "                  'this has some keyboard-left text and a quotation \"safety first\"'])"
   ]
  },
  {
   "cell_type": "code",
   "execution_count": 47,
   "metadata": {},
   "outputs": [],
   "source": [
    "def process_doc_list(dict_of_docs):\n",
    "    '''\n",
    "    input: lists of documents (which are individually lists of paragraphs)\n",
    "    output: returns a test/train split of paragraphs and stemmed documents\n",
    "    '''\n",
    "    combined_text = []\n",
    "    documents = []\n",
    "    dict_of_processed_docs = {}\n",
    "    print (\"Working on \" + str(len(dict_of_docs.keys())) + \" firm documents\")\n",
    "    c = 1\n",
    "    for key in dict_of_docs:\n",
    "        \n",
    "        document = dict_of_docs[key]\n",
    "        # print (\"Working on doc \" + key)\n",
    "        \n",
    "        # loop over text and add title elements to the paragraph they describe\n",
    "        joined = []\n",
    "        buf = ''\n",
    "        for i in range(len(document)): # figure out a way to chunk groups of content\n",
    "            if re.search (r'cookie|privacy|terms|GDPR', document[i], re.IGNORECASE):\n",
    "                continue\n",
    "            if len(document[i]) <= 12: # maybe a menu or simple pagragraph heading? \n",
    "                continue\n",
    "            if re.search(r'(\\.|;|\\!)', document[i]): # found what appears to be a sentence\n",
    "                if buf:\n",
    "                    joined.append(buf.strip())\n",
    "                    buf = ''\n",
    "                joined.append(document[i].strip())\n",
    "            elif len(buf) > PHRASE_LENGTH: # the rest of this code processes free-standing text \n",
    "                joined.append(buf.strip())\n",
    "                buf = document[i]\n",
    "            else: \n",
    "                buf = buf + ' ' + document[i]\n",
    "        if buf:\n",
    "            joined.append(buf.rstrip())\n",
    "        \n",
    "        # pp.pprint (joined)\n",
    "        \n",
    "        combined_text += joined # make a big list\n",
    "        documents.append(joined) # make a list of lists\n",
    "        # pp.pprint(return_for_model(joined))\n",
    "        \n",
    "        dict_of_processed_docs[key] = return_for_model(joined)\n",
    "    \n",
    "    combined = return_for_model(combined_text)\n",
    "    random.shuffle(combined) #randomly shuffle in order to make test train split\n",
    "    train_index = int(np.round(len(combined)*.8)) #about 80% in the training set\n",
    "    train = combined[:train_index]\n",
    "    test = combined[train_index:]\n",
    "    return train, test, dict_of_processed_docs"
   ]
  },
  {
   "cell_type": "markdown",
   "metadata": {},
   "source": [
    "### Process Documents for Topic Modelling"
   ]
  },
  {
   "cell_type": "code",
   "execution_count": 48,
   "metadata": {},
   "outputs": [
    {
     "name": "stdout",
     "output_type": "stream",
     "text": [
      "Working on 956 firm documents\n"
     ]
    }
   ],
   "source": [
    "# use the preceeding fuction to process the text data\n",
    "pp = pprint.PrettyPrinter()\n",
    "all_train, all_test, all_docs_dict = process_doc_list(documents_dict)\n",
    "# pp.pprint(all_docs_dict)"
   ]
  },
  {
   "cell_type": "code",
   "execution_count": 35,
   "metadata": {},
   "outputs": [
    {
     "name": "stdout",
     "output_type": "stream",
     "text": [
      "65993\n",
      "16498\n",
      "956\n"
     ]
    }
   ],
   "source": [
    "print (len(all_train))\n",
    "print (len(all_test))\n",
    "print (len(all_docs_dict.keys()))"
   ]
  },
  {
   "cell_type": "code",
   "execution_count": 36,
   "metadata": {},
   "outputs": [
    {
     "name": "stdout",
     "output_type": "stream",
     "text": [
      "['Know How.',\n",
      " 'Combining decades of experience and deep expertise to create a better '\n",
      " 'platform for antibody drug discovery.',\n",
      " 'Ablexis licenses the AlivaMab Mouse, a transgenic mouse that dramatically '\n",
      " 'improves upon other antibody discovery platforms. A majority of the world’s '\n",
      " 'top-15 pharmaceutical companies have licensed and use AlivaMab Mouse for '\n",
      " 'antibody drug discovery at more than a dozen sites around the world.',\n",
      " 'Founded in 2009, Ablexis brought together decades of knowledge and '\n",
      " 'experience in building the AlivaMab Mouse, the best-in-class transgenic '\n",
      " 'platform for generating therapeutic antibody candidates with very high '\n",
      " 'potency, specificity, solubility and reduced chance of immunogenicity. '\n",
      " 'AlivaMab Mouse achieves this by incorporating insights and scientific '\n",
      " 'breakthroughs based on:',\n",
      " 'An understanding that the choice of platform can impact every step of the '\n",
      " 'discovery and development processes, with consequences for risks at stages '\n",
      " 'from discovery to commercialization',\n",
      " 'Experience and observations in antibody drug discovery and development using '\n",
      " 'transgenic mice, in vitro display platforms, and humanization',\n",
      " 'Expertise in molecular genetics, function of the immunoglobulin loci, and '\n",
      " 'requirements for a robust immune response',\n",
      " 'Sequencing of the human and mouse genomes',\n",
      " 'STRONG PARTNERSHIPS',\n",
      " 'Ablexis has non-exclusively licensed the AlivaMab Mouse technology to '\n",
      " 'multiple companies, including global pharmaceutical companies, public and '\n",
      " 'private biotechnology companies and other entities.',\n",
      " 'FACT: A majority of the world’s top-15 pharmaceutical companies have '\n",
      " 'licensed and are using the AlivaMab Mouse for antibody drug discovery at '\n",
      " 'over a dozen sites.',\n",
      " 'Founder and CEO, co-inventor of the AlivaMab Mouse',\n",
      " 'Larry is CEO and founder of Ablexis, and co-inventor of the AlivaMab Mouse. '\n",
      " 'He also serves as CEO of AlivaMab Discovery Services. Larry has over a '\n",
      " 'quarter century of experience in designing, creating and using transgenic '\n",
      " 'mouse platforms for antibody drug discovery. Larry joined Aliva '\n",
      " 'Biopharmaceuticals, Inc. in 2008 as CEO, where he optimized the blueprint '\n",
      " 'for AlivaMab Mouse and procured a Series A financing, resulting in the '\n",
      " 'founding of Ablexis, LLC in 2009. Prior to joining Aliva, he was a '\n",
      " 'co-inventor of the XenoMouse® technology at Cell Genesys and was a '\n",
      " 'scientific founder of the spin-out of Abgenix, where he served as designer '\n",
      " 'and team leader for making improved versions of the XenoMouse® technology, '\n",
      " 'director of antibody discovery operations, leader of the collaborations '\n",
      " 'group, and the senior research representative on joint steering committees '\n",
      " 'in alliances with Amgen, AstraZeneca, Pfizer amongst other companies.',\n",
      " 'Larry is an inventor on several dozen patents covering immunoglobulin '\n",
      " 'transgenic mice and therapeutic antibodies. He received his Ph.D. in '\n",
      " 'Molecular and Cellular Biology from the University of Wisconsin-Madison and '\n",
      " 'did postdoctoral research at the University of Colorado at Boulder and '\n",
      " 'Stanford University.',\n",
      " 'John “Lippy” Lippincott, Ph.D.',\n",
      " 'Consultant',\n",
      " 'Lippy joined Ablexis in 2012 as director of research operations, where he '\n",
      " 'built the processes and team responsible for the data package validating the '\n",
      " 'AlivaMab Mouse. He currently serves as consultant to Ablexis and is vice '\n",
      " 'president of research at AlivaMab Discovery Services. Lippy has nearly two '\n",
      " 'decades of experience in the generation and characterization of antibodies '\n",
      " 'from in vivo systems.',\n",
      " 'Prior to joining Ablexis, Lippy established and led the hybridoma group at '\n",
      " 'Pfizer’s San Diego site, where he was project leader for internal and '\n",
      " 'co-development therapeutic discovery projects. At Igenica, he led the '\n",
      " 'successful importation of a novel in vivo discovery platform and created a '\n",
      " 'high-throughput system for hybridoma generation and screening, and led other '\n",
      " 'processes required for identifying lead therapeutic candidates. Serving in '\n",
      " 'the role of vice president, antibody discovery at LakePharma, Lippy built '\n",
      " 'and led the team responsible for providing antibody discovery services to '\n",
      " 'clients. Lippy received his Ph.D. from Harvard University and did '\n",
      " 'postdoctoral research at the Genomics Institute of the Novartis Research '\n",
      " 'Foundation in San Diego.',\n",
      " 'Ablexis delivers a superior, next generation transgenic mouse platform for '\n",
      " 'the discovery of therapeutic antibodies.',\n",
      " '10581 Roselle Street, Suite 115',\n",
      " 'San Diego, CA 92121',\n",
      " 'Your Email *',\n",
      " 'Your Organization *']\n",
      "[['combin',\n",
      "  'decad',\n",
      "  'experi',\n",
      "  'deep',\n",
      "  'expertis',\n",
      "  'creat',\n",
      "  'better',\n",
      "  'platform',\n",
      "  'antibodi',\n",
      "  'drug',\n",
      "  'discoveri'],\n",
      " ['ablexi',\n",
      "  'alivamab',\n",
      "  'mous',\n",
      "  'transgen',\n",
      "  'mous',\n",
      "  'dramat',\n",
      "  'improv',\n",
      "  'upon',\n",
      "  'antibodi',\n",
      "  'discoveri',\n",
      "  'platform',\n",
      "  'major',\n",
      "  'world',\n",
      "  'top-15',\n",
      "  'pharmaceut',\n",
      "  'use',\n",
      "  'alivamab',\n",
      "  'mous',\n",
      "  'antibodi',\n",
      "  'drug',\n",
      "  'discoveri',\n",
      "  'dozen',\n",
      "  'site',\n",
      "  'around',\n",
      "  'world'],\n",
      " ['found',\n",
      "  '2009',\n",
      "  'ablexi',\n",
      "  'brought',\n",
      "  'togeth',\n",
      "  'decad',\n",
      "  'knowledg',\n",
      "  'experi',\n",
      "  'build',\n",
      "  'alivamab',\n",
      "  'mous',\n",
      "  'best-in-class',\n",
      "  'transgen',\n",
      "  'platform',\n",
      "  'generat',\n",
      "  'therapeut',\n",
      "  'antibodi',\n",
      "  'candid',\n",
      "  'veri',\n",
      "  'high',\n",
      "  'potenc',\n",
      "  'specif',\n",
      "  'solubl',\n",
      "  'reduc',\n",
      "  'chanc',\n",
      "  'immunogen',\n",
      "  'alivamab',\n",
      "  'mous',\n",
      "  'achiev',\n",
      "  'incorpor',\n",
      "  'insight',\n",
      "  'scientif',\n",
      "  'breakthrough',\n",
      "  'base'],\n",
      " ['understand',\n",
      "  'choic',\n",
      "  'platform',\n",
      "  'impact',\n",
      "  'everi',\n",
      "  'step',\n",
      "  'discoveri',\n",
      "  'develop',\n",
      "  'process',\n",
      "  'consequ',\n",
      "  'risk',\n",
      "  'stage',\n",
      "  'discoveri',\n",
      "  'commerci'],\n",
      " ['experi',\n",
      "  'observ',\n",
      "  'antibodi',\n",
      "  'drug',\n",
      "  'discoveri',\n",
      "  'develop',\n",
      "  'use',\n",
      "  'transgen',\n",
      "  'mice',\n",
      "  'vitro',\n",
      "  'display',\n",
      "  'platform',\n",
      "  'human'],\n",
      " ['expertis',\n",
      "  'molecular',\n",
      "  'genet',\n",
      "  'function',\n",
      "  'immunoglobulin',\n",
      "  'loci',\n",
      "  'requir',\n",
      "  'robust',\n",
      "  'immun',\n",
      "  'respons'],\n",
      " ['sequenc', 'human', 'mous', 'genom', 'strong', 'partnership'],\n",
      " ['ablexi',\n",
      "  'non-exclus',\n",
      "  'alivamab',\n",
      "  'mous',\n",
      "  'technolog',\n",
      "  'multipl',\n",
      "  'includ',\n",
      "  'global',\n",
      "  'pharmaceut',\n",
      "  'public',\n",
      "  'privat',\n",
      "  'biotechnolog',\n",
      "  'entiti'],\n",
      " ['fact',\n",
      "  'major',\n",
      "  'world',\n",
      "  'top-15',\n",
      "  'pharmaceut',\n",
      "  'use',\n",
      "  'alivamab',\n",
      "  'mous',\n",
      "  'antibodi',\n",
      "  'drug',\n",
      "  'discoveri',\n",
      "  'dozen',\n",
      "  'site'],\n",
      " ['founder', 'ceo', 'co-inventor', 'alivamab', 'mous'],\n",
      " ['larri',\n",
      "  'ceo',\n",
      "  'founder',\n",
      "  'ablexi',\n",
      "  'co-inventor',\n",
      "  'alivamab',\n",
      "  'mous',\n",
      "  'also',\n",
      "  'serv',\n",
      "  'ceo',\n",
      "  'alivamab',\n",
      "  'discoveri',\n",
      "  'servic',\n",
      "  'larri',\n",
      "  'quarter',\n",
      "  'centuri',\n",
      "  'experi',\n",
      "  'design',\n",
      "  'creat',\n",
      "  'use',\n",
      "  'transgen',\n",
      "  'mous',\n",
      "  'platform',\n",
      "  'antibodi',\n",
      "  'drug',\n",
      "  'discoveri',\n",
      "  'larri',\n",
      "  'join',\n",
      "  'aliva',\n",
      "  'biopharmaceut',\n",
      "  'inc.',\n",
      "  '2008',\n",
      "  'ceo',\n",
      "  'optim',\n",
      "  'blueprint',\n",
      "  'alivamab',\n",
      "  'mous',\n",
      "  'procur',\n",
      "  'seri',\n",
      "  'financ',\n",
      "  'result',\n",
      "  'found',\n",
      "  'ablexi',\n",
      "  'llc',\n",
      "  '2009',\n",
      "  'prior',\n",
      "  'join',\n",
      "  'aliva',\n",
      "  'co-inventor',\n",
      "  'xenomous',\n",
      "  'technolog',\n",
      "  'cell',\n",
      "  'genesi',\n",
      "  'scientif',\n",
      "  'founder',\n",
      "  'spin-out',\n",
      "  'abgenix',\n",
      "  'serv',\n",
      "  'design',\n",
      "  'team',\n",
      "  'leader',\n",
      "  'make',\n",
      "  'improv',\n",
      "  'version',\n",
      "  'xenomous',\n",
      "  'technolog',\n",
      "  'director',\n",
      "  'antibodi',\n",
      "  'discoveri',\n",
      "  'oper',\n",
      "  'leader',\n",
      "  'collabor',\n",
      "  'group',\n",
      "  'senior',\n",
      "  'research',\n",
      "  'repres',\n",
      "  'joint',\n",
      "  'steer',\n",
      "  'committe',\n",
      "  'allianc',\n",
      "  'amgen',\n",
      "  'astrazeneca',\n",
      "  'pfizer',\n",
      "  'amongst'],\n",
      " ['larri',\n",
      "  'inventor',\n",
      "  'sever',\n",
      "  'dozen',\n",
      "  'patent',\n",
      "  'cover',\n",
      "  'immunoglobulin',\n",
      "  'transgen',\n",
      "  'mice',\n",
      "  'therapeut',\n",
      "  'antibodi',\n",
      "  'receiv',\n",
      "  'ph.d.',\n",
      "  'molecular',\n",
      "  'cellular',\n",
      "  'biolog',\n",
      "  'univers',\n",
      "  'wisconsin-madison',\n",
      "  'postdoctor',\n",
      "  'research',\n",
      "  'univers',\n",
      "  'colorado',\n",
      "  'boulder',\n",
      "  'stanford',\n",
      "  'univers'],\n",
      " ['john', 'ph.d'],\n",
      " ['join',\n",
      "  'ablexi',\n",
      "  '2012',\n",
      "  'director',\n",
      "  'research',\n",
      "  'oper',\n",
      "  'built',\n",
      "  'process',\n",
      "  'team',\n",
      "  'respons',\n",
      "  'data',\n",
      "  'packag',\n",
      "  'valid',\n",
      "  'alivamab',\n",
      "  'mous',\n",
      "  'current',\n",
      "  'serv',\n",
      "  'consult',\n",
      "  'ablexi',\n",
      "  'vice',\n",
      "  'presid',\n",
      "  'research',\n",
      "  'alivamab',\n",
      "  'discoveri',\n",
      "  'servic',\n",
      "  'near',\n",
      "  'two',\n",
      "  'decad',\n",
      "  'experi',\n",
      "  'generat',\n",
      "  'character',\n",
      "  'antibodi',\n",
      "  'vivo',\n",
      "  'system'],\n",
      " ['prior',\n",
      "  'join',\n",
      "  'ablexi',\n",
      "  'establish',\n",
      "  'led',\n",
      "  'hybridoma',\n",
      "  'group',\n",
      "  'pfizer',\n",
      "  'san',\n",
      "  'diego',\n",
      "  'site',\n",
      "  'project',\n",
      "  'leader',\n",
      "  'intern',\n",
      "  'co-develop',\n",
      "  'therapeut',\n",
      "  'discoveri',\n",
      "  'project',\n",
      "  'igenica',\n",
      "  'led',\n",
      "  'success',\n",
      "  'import',\n",
      "  'novel',\n",
      "  'vivo',\n",
      "  'discoveri',\n",
      "  'platform',\n",
      "  'creat',\n",
      "  'high-throughput',\n",
      "  'system',\n",
      "  'hybridoma',\n",
      "  'generat',\n",
      "  'screen',\n",
      "  'led',\n",
      "  'process',\n",
      "  'requir',\n",
      "  'identifi',\n",
      "  'lead',\n",
      "  'therapeut',\n",
      "  'candid',\n",
      "  'serv',\n",
      "  'role',\n",
      "  'vice',\n",
      "  'presid',\n",
      "  'antibodi',\n",
      "  'discoveri',\n",
      "  'lakepharma',\n",
      "  'built',\n",
      "  'led',\n",
      "  'team',\n",
      "  'respons',\n",
      "  'provid',\n",
      "  'antibodi',\n",
      "  'discoveri',\n",
      "  'servic',\n",
      "  'client',\n",
      "  'receiv',\n",
      "  'ph.d.',\n",
      "  'harvard',\n",
      "  'univers',\n",
      "  'postdoctor',\n",
      "  'research',\n",
      "  'genom',\n",
      "  'institut',\n",
      "  'novarti',\n",
      "  'research',\n",
      "  'foundat',\n",
      "  'san',\n",
      "  'diego'],\n",
      " ['ablexi',\n",
      "  'deliv',\n",
      "  'superior',\n",
      "  'next',\n",
      "  'generat',\n",
      "  'transgen',\n",
      "  'mous',\n",
      "  'platform',\n",
      "  'discoveri',\n",
      "  'therapeut',\n",
      "  'antibodi'],\n",
      " ['10581',\n",
      "  'rosell',\n",
      "  'street',\n",
      "  'suit',\n",
      "  '115',\n",
      "  'san',\n",
      "  'diego',\n",
      "  'ca',\n",
      "  '92121',\n",
      "  'organ']]\n"
     ]
    }
   ],
   "source": [
    "pp = pprint.PrettyPrinter()\n",
    "pp.pprint (documents_dict['Ablexis.txt'])\n",
    "pp.pprint (all_docs_dict['Ablexis.txt'])"
   ]
  },
  {
   "cell_type": "code",
   "execution_count": 37,
   "metadata": {},
   "outputs": [],
   "source": [
    "SEGMENT_DIR = BASE_DATA_DIR + \"orgs/segments/\"\n",
    "\n",
    "# standard firm cleaning regex\n",
    "def clean_firm_name (firm):\n",
    "    firm_clnd = re.sub('(\\.|,| corporation| incorporated| llc| inc| international| gmbh| ltd)', '', firm, flags=re.IGNORECASE).rstrip()\n",
    "    return firm_clnd\n",
    "\n",
    "def pick_firms (firm_file, all_docs_dict):\n",
    "    with open(SEGMENT_DIR + firm_file) as f:\n",
    "        firms = f.readlines()\n",
    "    clnd_file_names = list(map (lambda x: clean_firm_name(re.sub(r'\\/', r'\\|', x).rstrip('\\r\\n')) + '.txt', firms))\n",
    "    segment_dict = {}\n",
    "    for name in clnd_file_names:\n",
    "        if name in all_docs_dict:\n",
    "            segment_dict[name] = all_docs_dict[name]\n",
    "        else: \n",
    "            pass \n",
    "            # print (\"Cannot find \" + name)\n",
    "    return segment_dict"
   ]
  },
  {
   "cell_type": "code",
   "execution_count": 38,
   "metadata": {},
   "outputs": [
    {
     "name": "stdout",
     "output_type": "stream",
     "text": [
      "Working on 340 firm documents\n",
      "Working on 255 firm documents\n",
      "Working on 557 firm documents\n"
     ]
    }
   ],
   "source": [
    "# create different training sets by industry\n",
    "green_firms_file = \"green_firms.csv\"\n",
    "synbio_firms_file = \"synbio_firms.csv\"\n",
    "nano_firms_file = \"nano_firms.csv\"\n",
    "\n",
    "green_docs_dict= pick_firms(green_firms_file, documents_dict)\n",
    "green_train, green_test, green_docs = process_doc_list(green_docs_dict)\n",
    "\n",
    "synbio_docs_dict= pick_firms(synbio_firms_file, documents_dict)\n",
    "synbio_train, synbio_test, synbio_docs = process_doc_list(synbio_docs_dict)\n",
    "\n",
    "nano_docs_dict= pick_firms(nano_firms_file, documents_dict)\n",
    "nano_train, nano_test, nano_docs = process_doc_list(nano_docs_dict)"
   ]
  },
  {
   "cell_type": "code",
   "execution_count": 39,
   "metadata": {},
   "outputs": [
    {
     "name": "stdout",
     "output_type": "stream",
     "text": [
      "Working on 462 firm documents\n",
      "Working on 154 firm documents\n",
      "Working on 284 firm documents\n"
     ]
    }
   ],
   "source": [
    "# ...and by size \n",
    "small_firms_file = \"small_firms.csv\"\n",
    "medium_firms_file = \"medium_firms.csv\"\n",
    "large_firms_file = \"large_firms.csv\"\n",
    "\n",
    "small_docs_dict= pick_firms(small_firms_file, documents_dict)\n",
    "small_train, small_test, small_docs = process_doc_list(small_docs_dict)\n",
    "\n",
    "medium_docs_dict= pick_firms(medium_firms_file, documents_dict)\n",
    "medium_train, medium_test, medium_docs = process_doc_list(medium_docs_dict)\n",
    "\n",
    "large_docs_dict= pick_firms(large_firms_file, documents_dict)\n",
    "large_train, large_test, large_docs = process_doc_list(large_docs_dict)"
   ]
  },
  {
   "cell_type": "code",
   "execution_count": 40,
   "metadata": {},
   "outputs": [],
   "source": [
    "# train on all docs or a subset\n",
    "all_train_test = all_train + all_test\n",
    "synbio_train_test = synbio_train + synbio_test\n",
    "nano_train_test = nano_train + nano_test \n",
    "green_train_test = green_train + green_test\n",
    "\n",
    "small_train_test = small_train + small_test\n",
    "medium_train_test = medium_train + medium_test \n",
    "large_train_test = large_train + large_test"
   ]
  },
  {
   "cell_type": "markdown",
   "metadata": {},
   "source": [
    "## Run Topic Modelling"
   ]
  },
  {
   "cell_type": "code",
   "execution_count": 18,
   "metadata": {},
   "outputs": [],
   "source": [
    "def topic_model(train, test, topics):\n",
    "    '''\n",
    "    input: preprocessed test and training data, optionally the number of topics\n",
    "    output: a fitted LDA topic model and the bow representation of test data for model evaluation\n",
    "    '''\n",
    "    random.seed(1)\n",
    "    #create topic model on full text\n",
    "    #will need to run on server when we have more data\n",
    "    full_dict = corpora.Dictionary(train)\n",
    "    DT_matrix = [full_dict.doc2bow(doc) for doc in train]\n",
    "    test_token = [full_dict.doc2bow(doc) for doc in test]\n",
    "    lda = LdaMulticore(DT_matrix, id2word=full_dict, num_topics=topics) \n",
    "    return lda, test_token"
   ]
  },
  {
   "cell_type": "code",
   "execution_count": 19,
   "metadata": {},
   "outputs": [],
   "source": [
    "k = [2, 5, 10, 15, 20, 25, 30, 40 , 50, 75, 100] # possible number of topics\n",
    "def calculate_perplexities(train,test, k):\n",
    "    '''\n",
    "    inputs: preprocessed test and training data, a list of possible number of topics\n",
    "    outputs: log perplexity and perplexity, scored on the test set\n",
    "    '''\n",
    "    log_perplexities = []\n",
    "    perplexity = []\n",
    "    for i in k:\n",
    "        model, test_doc2bow = topic_model(train, test, i)\n",
    "        log_p = model.log_perplexity(test_doc2bow)\n",
    "        log_perplexities.append(log_p)\n",
    "        perp = model.bound(test_doc2bow)\n",
    "        perplexity.append(perp)\n",
    "    return log_perplexities, perplexity"
   ]
  },
  {
   "cell_type": "code",
   "execution_count": 117,
   "metadata": {},
   "outputs": [],
   "source": [
    "all_log_perplexities, all_perplexities = calculate_perplexities(all_train, all_test, k)"
   ]
  },
  {
   "cell_type": "code",
   "execution_count": 118,
   "metadata": {},
   "outputs": [],
   "source": [
    "green_log_perplexities, green_perplexities = calculate_perplexities(green_train, green_test, k)\n",
    "synbio_log_perplexities, synbio_perplexities = calculate_perplexities(synbio_train, synbio_test, k)\n",
    "nano_log_perplexities,nano_perplexities= calculate_perplexities(nano_train, nano_test, k)"
   ]
  },
  {
   "cell_type": "code",
   "execution_count": 119,
   "metadata": {},
   "outputs": [],
   "source": [
    "small_log_perplexities, small_perplexities = calculate_perplexities(small_train, small_test, k)\n",
    "medium_log_perplexities, medium_perplexities = calculate_perplexities(medium_train, medium_test, k)\n",
    "large_log_perplexities,large_perplexities= calculate_perplexities(large_train, large_test, k)"
   ]
  },
  {
   "cell_type": "markdown",
   "metadata": {},
   "source": [
    "### Perplexity Plots for each website type"
   ]
  },
  {
   "cell_type": "code",
   "execution_count": 120,
   "metadata": {},
   "outputs": [
    {
     "data": {
      "text/plain": [
       "[<matplotlib.lines.Line2D at 0x131fb90b8>]"
      ]
     },
     "execution_count": 120,
     "metadata": {},
     "output_type": "execute_result"
    },
    {
     "data": {
      "image/png": "[encoded data removed]",
      "text/plain": [
       "<Figure size 432x288 with 1 Axes>"
      ]
     },
     "metadata": {
      "needs_background": "light"
     },
     "output_type": "display_data"
    }
   ],
   "source": [
    "import matplotlib.pyplot as plt\n",
    "plt.plot(k, all_perplexities)"
   ]
  },
  {
   "cell_type": "code",
   "execution_count": 121,
   "metadata": {},
   "outputs": [
    {
     "data": {
      "text/plain": [
       "[<matplotlib.lines.Line2D at 0x12d372320>]"
      ]
     },
     "execution_count": 121,
     "metadata": {},
     "output_type": "execute_result"
    },
    {
     "data": {
      "image/png": "[encoded data removed]",
      "text/plain": [
       "<Figure size 432x288 with 1 Axes>"
      ]
     },
     "metadata": {
      "needs_background": "light"
     },
     "output_type": "display_data"
    }
   ],
   "source": [
    "plt.plot(k, green_perplexities)"
   ]
  },
  {
   "cell_type": "code",
   "execution_count": 122,
   "metadata": {},
   "outputs": [
    {
     "data": {
      "text/plain": [
       "[<matplotlib.lines.Line2D at 0x12e9b51d0>]"
      ]
     },
     "execution_count": 122,
     "metadata": {},
     "output_type": "execute_result"
    },
    {
     "data": {
      "image/png": "[encoded data removed]",
      "text/plain": [
       "<Figure size 432x288 with 1 Axes>"
      ]
     },
     "metadata": {
      "needs_background": "light"
     },
     "output_type": "display_data"
    }
   ],
   "source": [
    "plt.plot(k, synbio_perplexities)"
   ]
  },
  {
   "cell_type": "code",
   "execution_count": 123,
   "metadata": {},
   "outputs": [
    {
     "data": {
      "text/plain": [
       "[<matplotlib.lines.Line2D at 0x12ea32b38>]"
      ]
     },
     "execution_count": 123,
     "metadata": {},
     "output_type": "execute_result"
    },
    {
     "data": {
      "image/png": "[encoded data removed]",
      "text/plain": [
       "<Figure size 432x288 with 1 Axes>"
      ]
     },
     "metadata": {
      "needs_background": "light"
     },
     "output_type": "display_data"
    }
   ],
   "source": [
    "plt.plot(k, nano_perplexities)"
   ]
  },
  {
   "cell_type": "code",
   "execution_count": 124,
   "metadata": {},
   "outputs": [
    {
     "data": {
      "text/plain": [
       "[<matplotlib.lines.Line2D at 0x12ed8b320>]"
      ]
     },
     "execution_count": 124,
     "metadata": {},
     "output_type": "execute_result"
    },
    {
     "data": {
      "image/png": "[encoded data removed]",
      "text/plain": [
       "<Figure size 432x288 with 1 Axes>"
      ]
     },
     "metadata": {
      "needs_background": "light"
     },
     "output_type": "display_data"
    }
   ],
   "source": [
    "plt.plot(k, small_perplexities)"
   ]
  },
  {
   "cell_type": "code",
   "execution_count": 125,
   "metadata": {},
   "outputs": [
    {
     "data": {
      "text/plain": [
       "[<matplotlib.lines.Line2D at 0x132119a20>]"
      ]
     },
     "execution_count": 125,
     "metadata": {},
     "output_type": "execute_result"
    },
    {
     "data": {
      "image/png": "[encoded data removed]",
      "text/plain": [
       "<Figure size 432x288 with 1 Axes>"
      ]
     },
     "metadata": {
      "needs_background": "light"
     },
     "output_type": "display_data"
    }
   ],
   "source": [
    "plt.plot(k, medium_perplexities)"
   ]
  },
  {
   "cell_type": "code",
   "execution_count": 126,
   "metadata": {},
   "outputs": [
    {
     "data": {
      "text/plain": [
       "[<matplotlib.lines.Line2D at 0x12afee9e8>]"
      ]
     },
     "execution_count": 126,
     "metadata": {},
     "output_type": "execute_result"
    },
    {
     "data": {
      "image/png": "[encoded data removed]",
      "text/plain": [
       "<Figure size 432x288 with 1 Axes>"
      ]
     },
     "metadata": {
      "needs_background": "light"
     },
     "output_type": "display_data"
    }
   ],
   "source": [
    "plt.plot(k, large_perplexities)"
   ]
  },
  {
   "cell_type": "markdown",
   "metadata": {},
   "source": [
    "### Compute coherence scores"
   ]
  },
  {
   "cell_type": "code",
   "execution_count": 41,
   "metadata": {},
   "outputs": [],
   "source": [
    "# set k boundaries\n",
    "limit=14; start=4; step=2\n",
    "\n",
    "# Code from https://www.machinelearningplus.com/nlp/topic-modeling-gensim-python/ (#17).\n",
    "def compute_coherence_values(dictionary, corpus, texts,  start, limit, step):\n",
    "    \"\"\"\n",
    "    Compute c_v coherence for various number of topics\n",
    "\n",
    "    Parameters:\n",
    "    ----------\n",
    "    dictionary : Gensim dictionary\n",
    "    corpus : Gensim corpus\n",
    "    texts : List of input texts\n",
    "    limit : Max num of topics\n",
    "\n",
    "    Returns:\n",
    "    -------\n",
    "    model_list : List of LDA topic models\n",
    "    coherence_values : Coherence values corresponding to the LDA model with respective number of topics\n",
    "    \"\"\"\n",
    "    coherence_values = []\n",
    "    model_list = []\n",
    "    for num_topics in range(start, limit, step):\n",
    "        model = LdaMulticore(corpus, id2word=dictionary, num_topics=num_topics)\n",
    "        model_list.append(model)\n",
    "        coherencemodel = CoherenceModel(model=model, texts=texts, dictionary=dictionary, coherence='c_v')\n",
    "        coherence_values.append(coherencemodel.get_coherence())\n",
    "\n",
    "    return model_list, coherence_values\n",
    "\n",
    "def visualize_coherence_values (train_test):\n",
    "    full_dict = corpora.Dictionary(train_test)\n",
    "    DT_matrix = [full_dict.doc2bow(doc) for doc in train_test]\n",
    "    \n",
    "    # Can take a long time to run\n",
    "    model_list, coherence_values = compute_coherence_values(dictionary=full_dict, corpus=DT_matrix, texts=train_test, start=start, limit=limit,step=step)\n",
    "    \n",
    "    # Show graph\n",
    "    x = list(range(start, limit, step))\n",
    "    plt.plot(x, coherence_values)\n",
    "    plt.xlabel(\"Num Topics\")\n",
    "    plt.ylabel(\"Coherence score\")\n",
    "    plt.legend((\"coherence_values\"), loc='best')\n",
    "    plt.show()"
   ]
  },
  {
   "cell_type": "code",
   "execution_count": 42,
   "metadata": {},
   "outputs": [
    {
     "name": "stdout",
     "output_type": "stream",
     "text": [
      "Working on dataset: all_train_test\n"
     ]
    },
    {
     "data": {
      "image/png": "[encoded data removed]",
      "text/plain": [
       "<Figure size 432x288 with 1 Axes>"
      ]
     },
     "metadata": {
      "needs_background": "light"
     },
     "output_type": "display_data"
    },
    {
     "name": "stdout",
     "output_type": "stream",
     "text": [
      "Working on dataset: green_train_test\n"
     ]
    },
    {
     "data": {
      "image/png": "[encoded data removed]",
      "text/plain": [
       "<Figure size 432x288 with 1 Axes>"
      ]
     },
     "metadata": {
      "needs_background": "light"
     },
     "output_type": "display_data"
    },
    {
     "name": "stdout",
     "output_type": "stream",
     "text": [
      "Working on dataset: nano_train_test\n"
     ]
    },
    {
     "data": {
      "image/png": "[encoded data removed]",
      "text/plain": [
       "<Figure size 432x288 with 1 Axes>"
      ]
     },
     "metadata": {
      "needs_background": "light"
     },
     "output_type": "display_data"
    },
    {
     "name": "stdout",
     "output_type": "stream",
     "text": [
      "Working on dataset: synbio_train_test\n"
     ]
    },
    {
     "data": {
      "image/png": "[encoded data removed]",
      "text/plain": [
       "<Figure size 432x288 with 1 Axes>"
      ]
     },
     "metadata": {
      "needs_background": "light"
     },
     "output_type": "display_data"
    },
    {
     "name": "stdout",
     "output_type": "stream",
     "text": [
      "Working on dataset: small_train_test\n"
     ]
    },
    {
     "data": {
      "image/png": "[encoded data removed]",
      "text/plain": [
       "<Figure size 432x288 with 1 Axes>"
      ]
     },
     "metadata": {
      "needs_background": "light"
     },
     "output_type": "display_data"
    },
    {
     "name": "stdout",
     "output_type": "stream",
     "text": [
      "Working on dataset: medium_train_test\n"
     ]
    },
    {
     "data": {
      "image/png": "[encoded data removed]",
      "text/plain": [
       "<Figure size 432x288 with 1 Axes>"
      ]
     },
     "metadata": {
      "needs_background": "light"
     },
     "output_type": "display_data"
    },
    {
     "name": "stdout",
     "output_type": "stream",
     "text": [
      "Working on dataset: large_train_test\n"
     ]
    },
    {
     "data": {
      "image/png": "[encoded data removed]",
      "text/plain": [
       "<Figure size 432x288 with 1 Axes>"
      ]
     },
     "metadata": {
      "needs_background": "light"
     },
     "output_type": "display_data"
    }
   ],
   "source": [
    "datasets = {'all_train_test': all_train_test, \n",
    "            'green_train_test': green_train_test, 'nano_train_test': nano_train_test, 'synbio_train_test': synbio_train_test,\n",
    "            'small_train_test': small_train_test, 'medium_train_test': medium_train_test, 'large_train_test': large_train_test}\n",
    "for key, data in datasets.items():\n",
    "    print ('Working on dataset: ' + key)\n",
    "    visualize_coherence_values(data)"
   ]
  },
  {
   "cell_type": "markdown",
   "metadata": {},
   "source": [
    "### Predict topics by paragraph"
   ]
  },
  {
   "cell_type": "code",
   "execution_count": 43,
   "metadata": {},
   "outputs": [],
   "source": [
    "# define data structs and train model\n",
    "dataset = datasets['small_train_test']\n",
    "k = 4\n",
    "\n",
    "full_dict = corpora.Dictionary(dataset)\n",
    "DT_matrix = [full_dict.doc2bow(doc) for doc in dataset]\n",
    "lda = LdaMulticore(DT_matrix, id2word=full_dict, num_topics=k)"
   ]
  },
  {
   "cell_type": "markdown",
   "metadata": {},
   "source": [
    "#### Visualize topics"
   ]
  },
  {
   "cell_type": "code",
   "execution_count": 44,
   "metadata": {},
   "outputs": [
    {
     "data": {
      "text/html": [
       "\n",
       "<link rel=\"stylesheet\" type=\"text/css\" href=\"https://cdn.rawgit.com/bmabey/pyLDAvis/files/ldavis.v1.0.0.css\">\n",
       "\n",
       "\n",
       "<div id=\"ldavis_el3170454435340643462703859\"></div>\n",
       "<script type=\"text/javascript\">\n",
       "\n",
       "var ldavis_el3170454435340643462703859_data = {\"mdsDat\": {\"x\": [-0.015408730076646195, 0.02662753637773021, -0.05214685116587354, 0.04092804486478953], \"y\": [-0.011297499097161899, -0.04725751885424017, 0.014099088685073388, 0.04445592926632867], \"topics\": [1, 2, 3, 4], \"cluster\": [1, 1, 1, 1], \"Freq\": [30.12181282043457, 25.37078857421875, 23.739824295043945, 20.767576217651367]}, \"tinfo\": {\"Category\": [\"Default\", \"Default\", \"Default\", \"Default\", \"Default\", \"Default\", \"Default\", \"Default\", \"Default\", \"Default\", \"Default\", \"Default\", \"Default\", \"Default\", \"Default\", \"Default\", \"Default\", \"Default\", \"Default\", \"Default\", \"Default\", \"Default\", \"Default\", \"Default\", \"Default\", \"Default\", \"Default\", \"Default\", \"Default\", \"Default\", \"Topic1\", \"Topic1\", \"Topic1\", \"Topic1\", \"Topic1\", \"Topic1\", \"Topic1\", \"Topic1\", \"Topic1\", \"Topic1\", \"Topic1\", \"Topic1\", \"Topic1\", \"Topic1\", \"Topic1\", \"Topic1\", \"Topic1\", \"Topic1\", \"Topic1\", \"Topic1\", \"Topic1\", \"Topic1\", \"Topic1\", \"Topic1\", \"Topic1\", \"Topic1\", \"Topic1\", \"Topic1\", \"Topic1\", \"Topic1\", \"Topic1\", \"Topic1\", \"Topic1\", \"Topic1\", \"Topic1\", \"Topic1\", \"Topic1\", \"Topic1\", \"Topic1\", \"Topic1\", \"Topic1\", \"Topic1\", \"Topic1\", \"Topic1\", \"Topic1\", \"Topic1\", \"Topic1\", \"Topic1\", \"Topic1\", \"Topic1\", \"Topic1\", \"Topic1\", \"Topic1\", \"Topic1\", \"Topic1\", \"Topic1\", \"Topic1\", \"Topic1\", \"Topic1\", \"Topic1\", \"Topic1\", \"Topic1\", \"Topic1\", \"Topic1\", \"Topic1\", \"Topic1\", \"Topic1\", \"Topic1\", \"Topic1\", \"Topic1\", \"Topic1\", \"Topic1\", \"Topic1\", \"Topic1\", \"Topic1\", \"Topic1\", \"Topic1\", \"Topic1\", \"Topic1\", \"Topic1\", \"Topic1\", \"Topic1\", \"Topic1\", \"Topic1\", \"Topic1\", \"Topic1\", \"Topic1\", \"Topic2\", \"Topic2\", \"Topic2\", \"Topic2\", \"Topic2\", \"Topic2\", \"Topic2\", \"Topic2\", \"Topic2\", \"Topic2\", \"Topic2\", \"Topic2\", \"Topic2\", \"Topic2\", \"Topic2\", \"Topic2\", \"Topic2\", \"Topic2\", \"Topic2\", \"Topic2\", \"Topic2\", \"Topic2\", \"Topic2\", \"Topic2\", \"Topic2\", \"Topic2\", \"Topic2\", \"Topic2\", \"Topic2\", \"Topic2\", \"Topic2\", \"Topic2\", \"Topic2\", \"Topic2\", \"Topic2\", \"Topic2\", \"Topic2\", \"Topic2\", \"Topic2\", \"Topic2\", \"Topic2\", \"Topic2\", \"Topic2\", \"Topic2\", \"Topic2\", \"Topic2\", \"Topic2\", \"Topic2\", \"Topic2\", \"Topic2\", \"Topic2\", \"Topic2\", \"Topic2\", \"Topic2\", \"Topic2\", \"Topic2\", \"Topic2\", \"Topic2\", \"Topic2\", \"Topic2\", \"Topic2\", \"Topic2\", \"Topic2\", \"Topic2\", \"Topic2\", \"Topic2\", \"Topic2\", \"Topic2\", \"Topic2\", \"Topic2\", \"Topic2\", \"Topic2\", \"Topic2\", \"Topic2\", \"Topic2\", \"Topic2\", \"Topic2\", \"Topic2\", \"Topic2\", \"Topic2\", \"Topic2\", \"Topic2\", \"Topic3\", \"Topic3\", \"Topic3\", \"Topic3\", \"Topic3\", \"Topic3\", \"Topic3\", \"Topic3\", \"Topic3\", \"Topic3\", \"Topic3\", \"Topic3\", \"Topic3\", \"Topic3\", \"Topic3\", \"Topic3\", \"Topic3\", \"Topic3\", \"Topic3\", \"Topic3\", \"Topic3\", \"Topic3\", \"Topic3\", \"Topic3\", \"Topic3\", \"Topic3\", \"Topic3\", \"Topic3\", \"Topic3\", \"Topic3\", \"Topic3\", \"Topic3\", \"Topic3\", \"Topic3\", \"Topic3\", \"Topic3\", \"Topic3\", \"Topic3\", \"Topic3\", \"Topic3\", \"Topic3\", \"Topic3\", \"Topic3\", \"Topic3\", \"Topic3\", \"Topic3\", \"Topic3\", \"Topic3\", \"Topic3\", \"Topic3\", \"Topic3\", \"Topic3\", \"Topic3\", \"Topic3\", \"Topic3\", \"Topic3\", \"Topic3\", \"Topic3\", \"Topic3\", \"Topic3\", \"Topic3\", \"Topic3\", \"Topic3\", \"Topic3\", \"Topic3\", \"Topic3\", \"Topic3\", \"Topic3\", \"Topic3\", \"Topic3\", \"Topic3\", \"Topic3\", \"Topic3\", \"Topic3\", \"Topic3\", \"Topic3\", \"Topic3\", \"Topic3\", \"Topic3\", \"Topic3\", \"Topic4\", \"Topic4\", \"Topic4\", \"Topic4\", \"Topic4\", \"Topic4\", \"Topic4\", \"Topic4\", \"Topic4\", \"Topic4\", \"Topic4\", \"Topic4\", \"Topic4\", \"Topic4\", \"Topic4\", \"Topic4\", \"Topic4\", \"Topic4\", \"Topic4\", \"Topic4\", \"Topic4\", \"Topic4\", \"Topic4\", \"Topic4\", \"Topic4\", \"Topic4\", \"Topic4\", \"Topic4\", \"Topic4\", \"Topic4\", \"Topic4\", \"Topic4\", \"Topic4\", \"Topic4\", \"Topic4\", \"Topic4\", \"Topic4\", \"Topic4\", \"Topic4\", \"Topic4\", \"Topic4\", \"Topic4\", \"Topic4\", \"Topic4\", \"Topic4\", \"Topic4\", \"Topic4\", \"Topic4\", \"Topic4\", \"Topic4\", \"Topic4\", \"Topic4\", \"Topic4\", \"Topic4\", \"Topic4\", \"Topic4\", \"Topic4\", \"Topic4\", \"Topic4\", \"Topic4\", \"Topic4\", \"Topic4\", \"Topic4\", \"Topic4\", \"Topic4\", \"Topic4\", \"Topic4\", \"Topic4\", \"Topic4\", \"Topic4\", \"Topic4\", \"Topic4\", \"Topic4\", \"Topic4\", \"Topic4\", \"Topic4\", \"Topic4\", \"Topic4\", \"Topic4\", \"Topic4\", \"Topic4\", \"Topic4\", \"Topic4\", \"Topic4\", \"Topic4\", \"Topic4\", \"Topic4\", \"Topic4\", \"Topic4\", \"Topic4\", \"Topic4\", \"Topic4\", \"Topic4\"], \"Freq\": [843.0, 1206.0, 1427.0, 922.0, 462.0, 905.0, 499.0, 305.0, 554.0, 395.0, 1003.0, 847.0, 421.0, 310.0, 488.0, 268.0, 634.0, 1053.0, 467.0, 1156.0, 103.0, 254.0, 194.0, 227.0, 306.0, 1943.0, 297.0, 1390.0, 1108.0, 212.0, 18.324182510375977, 14.588380813598633, 12.174224853515625, 79.23320007324219, 9.626992225646973, 10.253697395324707, 9.821654319763184, 8.405797004699707, 7.9776082038879395, 8.182405471801758, 8.180855751037598, 8.179941177368164, 7.943922519683838, 7.690765380859375, 7.140462875366211, 6.915167808532715, 7.105942726135254, 15.428606033325195, 10.281426429748535, 6.5473737716674805, 7.281038284301758, 6.529910087585449, 13.0741548538208, 6.108344078063965, 6.306572437286377, 6.094581127166748, 26.68832778930664, 6.288991451263428, 6.287003993988037, 6.08083438873291, 268.2124328613281, 17.544981002807617, 12.17357063293457, 32.291404724121094, 53.024044036865234, 11.338872909545898, 90.5233154296875, 311.0093994140625, 86.58097076416016, 63.85225296020508, 21.581998825073242, 48.444549560546875, 28.752792358398438, 594.8043823242188, 36.08189392089844, 138.85577392578125, 53.76707077026367, 363.6640625, 644.4483032226562, 483.360595703125, 72.85277557373047, 203.2744903564453, 41.25351333618164, 506.8566589355469, 153.7027587890625, 228.12551879882812, 135.97079467773438, 105.25943756103516, 765.220947265625, 108.29219055175781, 908.6494750976562, 74.1359634399414, 197.59751892089844, 152.41268920898438, 500.2114562988281, 381.4450988769531, 268.14068603515625, 167.3048553466797, 435.8580322265625, 294.1375427246094, 183.43032836914062, 228.3435821533203, 461.39312744140625, 262.81048583984375, 281.8323669433594, 280.8949890136719, 305.195068359375, 270.86395263671875, 208.24452209472656, 237.4628143310547, 262.0758056640625, 278.759521484375, 323.7341613769531, 243.2879638671875, 291.23419189453125, 272.78814697265625, 238.95346069335938, 51.97099685668945, 50.87685012817383, 27.93921661376953, 13.748398780822754, 13.853950500488281, 11.581705093383789, 33.408729553222656, 8.74056625366211, 10.61286449432373, 7.962749481201172, 7.544013023376465, 14.619842529296875, 7.93492317199707, 7.091704845428467, 6.952493190765381, 7.8651251792907715, 6.730450630187988, 6.729728698730469, 6.909946441650391, 6.5114593505859375, 6.372227191925049, 6.3656182289123535, 6.495730876922607, 6.4945387840271, 34.22289276123047, 6.14890193939209, 7.5907158851623535, 6.129637718200684, 7.572379112243652, 5.926103115081787, 10.044976234436035, 24.167680740356445, 15.524260520935059, 621.0614624023438, 39.51495361328125, 11.686491012573242, 19.50900650024414, 26.80625343322754, 14.030041694641113, 174.80946350097656, 11.355165481567383, 9.874238014221191, 141.12254333496094, 143.88624572753906, 192.3778533935547, 737.9075317382812, 43.20146942138672, 76.83294677734375, 92.81907653808594, 141.41346740722656, 123.03504180908203, 333.07305908203125, 196.7198944091797, 203.5245361328125, 217.40582275390625, 196.56845092773438, 482.2015075683594, 428.6210021972656, 173.8356170654297, 613.2911987304688, 159.61993408203125, 131.76454162597656, 186.29214477539062, 178.39114379882812, 160.50625610351562, 294.56707763671875, 277.9246826171875, 200.6605987548828, 128.0327911376953, 227.5145721435547, 478.025390625, 335.1683044433594, 228.09933471679688, 304.9254150390625, 178.48922729492188, 249.39642333984375, 230.05328369140625, 236.79502868652344, 181.35340881347656, 180.76695251464844, 193.2283172607422, 174.86581420898438, 34.439109802246094, 11.487252235412598, 11.482911109924316, 11.264582633972168, 12.919859886169434, 9.459931373596191, 9.448833465576172, 9.645416259765625, 9.234391212463379, 9.634361267089844, 94.76945495605469, 64.17571258544922, 8.613748550415039, 7.866191387176514, 19.107044219970703, 7.447696685791016, 7.740662574768066, 7.275412082672119, 6.642242431640625, 6.443362712860107, 6.439823150634766, 6.435479640960693, 6.296623229980469, 6.290185451507568, 6.417738914489746, 51.658931732177734, 6.078624248504639, 7.09597110748291, 6.057694911956787, 5.858297348022461, 48.31715393066406, 12.652486801147461, 17.413358688354492, 19.02764892578125, 21.604034423828125, 26.77345085144043, 136.99461364746094, 325.1355285644531, 283.408203125, 39.85125732421875, 61.06169128417969, 272.8429870605469, 92.24443817138672, 81.45093536376953, 449.3298034667969, 129.317626953125, 281.099365234375, 241.5789794921875, 82.88573455810547, 68.87114715576172, 66.97274017333984, 215.51991271972656, 325.6481628417969, 427.2578430175781, 435.1869201660156, 126.03230285644531, 185.51287841796875, 319.9891357421875, 714.7868041992188, 111.36822509765625, 81.22361755371094, 155.20895385742188, 240.71153259277344, 132.20721435546875, 178.56698608398438, 171.58900451660156, 203.23997497558594, 267.6742248535156, 213.7530059814453, 279.7242431640625, 205.14894104003906, 203.4836883544922, 269.6844177246094, 256.02728271484375, 185.97779846191406, 187.3358917236328, 203.48545837402344, 166.08200073242188, 203.7923583984375, 167.60414123535156, 14.513225555419922, 11.76166820526123, 9.749197006225586, 36.041961669921875, 7.7729716300964355, 7.34865140914917, 7.542660236358643, 7.342125415802002, 7.340688705444336, 7.339319705963135, 7.3383378982543945, 7.122740745544434, 6.988674163818359, 7.113976001739502, 6.778793811798096, 6.761553764343262, 6.761703014373779, 6.563605308532715, 6.562143325805664, 6.541760444641113, 6.860725402832031, 5.783021450042725, 5.783064365386963, 5.768667697906494, 5.571310520172119, 6.960649490356445, 5.565062999725342, 12.467207908630371, 11.388840675354004, 5.558524131774902, 27.797836303710938, 10.759340286254883, 10.734622955322266, 18.761676788330078, 42.38276672363281, 25.97555923461914, 73.6083755493164, 38.812129974365234, 162.74293518066406, 19.132736206054688, 9.95993709564209, 219.60205078125, 135.30848693847656, 172.8778076171875, 18.98086166381836, 441.2734375, 24.01877784729004, 60.7090950012207, 24.711360931396484, 40.859397888183594, 93.69974517822266, 16.665996551513672, 26.10130500793457, 27.57789421081543, 301.2210693359375, 61.99174880981445, 70.24835968017578, 72.59313201904297, 127.03360748291016, 354.33837890625, 72.11182403564453, 300.141845703125, 212.47869873046875, 100.95460510253906, 87.32571411132812, 364.8520812988281, 96.27812957763672, 347.581787109375, 278.53546142578125, 103.86931610107422, 169.9283447265625, 118.21941375732422, 160.51776123046875, 194.60011291503906, 361.03607177734375, 198.81979370117188, 142.31065368652344, 137.9845428466797, 362.33441162109375, 154.24542236328125, 125.26820373535156, 155.60986328125, 237.09031677246094, 205.93389892578125, 159.772216796875, 165.65623474121094, 165.84107971191406, 200.677978515625, 134.11160278320312, 135.90292358398438, 146.96286010742188, 144.314453125, 140.10133361816406], \"Term\": [\"board\", \"materi\", \"manag\", \"manufactur\", \"ink\", \"inform\", \"award\", \"icon\", \"taiyo\", \"investor\", \"energi\", \"market\", \"network\", \"led\", \"valu\", \"digit\", \"report\", \"use\", \"2018\", \"innov\", \"mfg\", \"softwar\", \"sharehold\", \"eni\", \"print\", \"develop\", \"event\", \"servic\", \"new\", \"circuit\", \"science-l\", \"ic-overlayalert\", \"morflex\", \"pwb\", \"sds\", \"alleg\", \"efpia\", \"may/jun\", \"turntabl\", \"split/multi-split\", \"july/august\", \"september/octob\", \"nrnd\", \"clearaudio\", \"market-specif\", \"brexit\", \"3888792\", \"grind\", \"videojet\", \"720\", \"thai-mc\", \"437\", \"resum\", \"rippl\", \"anti-stict\", \"1223\", \"id\", \"compliance-readi\", \"cloud-deploy\", \"colectomi\", \"icon\", \"c300\", \"kal\", \"headphon\", \"forward-right\", \"quadrupol\", \"fpd\", \"network\", \"brochur\", \"domain\", \"pancreat\", \"back-left\", \"esprit\", \"energi\", \"planet\", \"connect\", \"mem\", \"report\", \"materi\", \"global\", \"build-up\", \"human\", \"micro\", \"use\", \"initi\", \"resourc\", \"chief\", \"cancer\", \"develop\", \"mobil\", \"technolog\", \"download\", \"cell\", \"celgen\", \"research\", \"solut\", \"us\", \"section\", \"innov\", \"support\", \"organ\", \"sustain\", \"system\", \"offic\", \"design\", \"work\", \"inform\", \"provid\", \"experi\", \"applic\", \"power\", \"custom\", \"manag\", \"includ\", \"servic\", \"industri\", \"new\", \"pkg\", \"pkgsemiconductor\", \"arewho\", \"w/pendant\", \"pre-program\", \"hdi\", \"chugai\", \"nl\", \"kashima\", \"wireworld\", \"nu-ccn\", \"pulser\", \"arakawa-ku\", \"aisl\", \"macedonia\", \"vida\", \"stiefel\", \"usp\", \"trek\", \"de/fr\", \"knockdown\", \"crispra\", \"slovenia\", \"sl\", \"kasei\", \"sfc/upc2\", \"bnc\", \"ubm/rdl\", \"zola\", \"fifa\", \"size/\", \"sanken\", \"nicotin\", \"board\", \"pharma\", \"sunshin\", \"supervisori\", \"thou-manag\", \"viiv\", \"softwar\", \"vermont\", \"hse\", \"circuit\", \"food\", \"print\", \"manag\", \"advisori\", \"express\", \"gene\", \"member\", \"flexibl\", \"univers\", \"dr.\", \"control\", \"director\", \"establish\", \"servic\", \"materi\", \"polici\", \"develop\", \"chemic\", \"care\", \"inc.\", \"partner\", \"project\", \"solut\", \"market\", \"team\", \"generat\", \"engin\", \"technolog\", \"system\", \"year\", \"research\", \"also\", \"industri\", \"custom\", \"new\", \"process\", \"offic\", \"innov\", \"oper\", \"hk\", \"ipsum\", \"lorem\", \"sconc\", \"congo\", \"phrma\", \"papua\", \"analysistrack\", \"thalassemia\", \"icp-ms/m\", \"mfg\", \"onstat\", \"-icp-o\", \"1892\", \"neglect\", \"980\", \"semi-prep\", \"tesaro\", \"rns\", \"tw8\", \"brentford\", \"9gs\", \"hdms\", \"maldi\", \"lanka\", \"winner\", \"iframes.\", \"democrat\", \"reunion\", \"topoisomeras\", \"amp\", \"icp-m\", \"guinea\", \"tropic\", \"mm\", \"gulf\", \"sharehold\", \"award\", \"ink\", \"glanc\", \"singapor\", \"valu\", \"daikin\", \"request\", \"inform\", \"site\", \"taiyo\", \"2018\", \"return\", \"korea\", \"highlight\", \"financi\", \"world\", \"new\", \"innov\", \"social\", \"perform\", \"power\", \"technolog\", \"around\", \"stock\", \"top\", \"group\", \"access\", \"activ\", \"center\", \"support\", \"industri\", \"work\", \"research\", \"year\", \"includ\", \"servic\", \"system\", \"design\", \"provid\", \"energi\", \"offic\", \"develop\", \"use\", \"4-wire\", \"nmda\", \"celgene-sponsor\", \"ksa\", \"aray\", \"webb\", \"ru\", \"tea\", \"nuprim\", \"nake\", \"organix\", \"rgb\", \"sarbanes-oxley\", \"ldo\", \"sarum\", \"subregion\", \"mekong\", \"kazakhstan\", \"pakistan\", \"en/ur\", \"wraparound\", \"spectratemp\", \"all-around\", \"raterat\", \"dam\", \"4ft\", \"clearway\", \"johari\", \"philippin\", \"underfil\", \"invalid\", \"scoreflex\", \"pta\", \"modal\", \"exosom\", \"recess\", \"music\", \"chord\", \"digit\", \"high-pressur\", \"honey\", \"investor\", \"eni\", \"led\", \"medium-\", \"manufactur\", \"1.8\", \"workforc\", \"torqu\", \"februari\", \"2015\", \"apprentic\", \"fluoresc\", \"spring\", \"market\", \"committe\", \"trial\", \"audio\", \"event\", \"industri\", \"target\", \"custom\", \"oper\", \"chang\", \"number\", \"system\", \"select\", \"servic\", \"use\", \"strategi\", \"high\", \"suppli\", \"sale\", \"engin\", \"develop\", \"design\", \"relat\", \"one\", \"technolog\", \"first\", \"electron\", \"solar\", \"manag\", \"new\", \"applic\", \"year\", \"provid\", \"research\", \"commerci\", \"director\", \"work\", \"global\", \"solut\"], \"Total\": [843.0, 1206.0, 1427.0, 922.0, 462.0, 905.0, 499.0, 305.0, 554.0, 395.0, 1003.0, 847.0, 421.0, 310.0, 488.0, 268.0, 634.0, 1053.0, 467.0, 1156.0, 103.0, 254.0, 194.0, 227.0, 306.0, 1943.0, 297.0, 1390.0, 1108.0, 212.0, 19.182674407958984, 15.411803245544434, 12.925073623657227, 84.14152526855469, 10.361926078796387, 11.037952423095703, 10.586783409118652, 9.153647422790527, 8.702546119689941, 8.927796363830566, 8.927614212036133, 8.927667617797852, 8.701240539550781, 8.474247932434082, 7.872456073760986, 7.646409511566162, 7.871035099029541, 17.110294342041016, 11.407069206237793, 7.268935680389404, 8.095054626464844, 7.268232345581055, 14.561275482177734, 6.817465305328369, 7.042468070983887, 6.816892147064209, 29.870616912841797, 7.041639804840088, 7.0415358543396, 6.816329002380371, 305.7312316894531, 19.716981887817383, 13.713802337646484, 37.6839599609375, 63.612308502197266, 12.902681350708008, 113.2917251586914, 421.97216796875, 116.25471496582031, 84.20146179199219, 26.18000602722168, 63.274383544921875, 35.883968353271484, 1003.393798828125, 46.30439376831055, 208.52301025390625, 73.61394500732422, 634.315673828125, 1206.9439697265625, 887.170166015625, 105.09181213378906, 346.6078796386719, 55.97218322753906, 1053.169921875, 259.8770751953125, 422.6203308105469, 235.497314453125, 173.6898956298828, 1943.340576171875, 180.1187286376953, 2463.796142578125, 114.68982696533203, 392.56610107421875, 284.69189453125, 1285.5390625, 922.8388671875, 593.11669921875, 326.0081787109375, 1156.9112548828125, 691.54931640625, 376.6658935546875, 510.8658142089844, 1417.440673828125, 653.7357788085938, 754.9180908203125, 768.8714599609375, 905.5423583984375, 776.2416381835938, 493.7845458984375, 650.0537719726562, 850.3173217773438, 972.72021484375, 1427.897705078125, 745.763427734375, 1390.701904296875, 1144.1971435546875, 1108.940185546875, 52.90916442871094, 52.02963638305664, 28.68172836303711, 14.589774131774902, 14.80718994140625, 12.388625144958496, 36.2282600402832, 9.523658752441406, 11.578788757324219, 8.71606159210205, 8.27623176574707, 16.04133415222168, 8.715452194213867, 7.836206436157227, 7.688588619232178, 8.713597297668457, 7.468449592590332, 7.468313217163086, 7.6880903244018555, 7.248573303222656, 7.100791931152344, 7.100818157196045, 7.2484893798828125, 7.248485088348389, 38.26662063598633, 6.8807196617126465, 8.500848770141602, 6.8806257247924805, 8.500903129577637, 6.660731315612793, 11.344566345214844, 27.595260620117188, 17.81944465637207, 843.1167602539062, 47.98899841308594, 13.40297794342041, 23.25516700744629, 32.629615783691406, 16.41108512878418, 254.07167053222656, 13.183661460876465, 11.349610328674316, 212.0326385498047, 218.45608520507812, 306.938232421875, 1427.897705078125, 61.08561325073242, 119.88259887695312, 162.56787109375, 272.5614929199219, 231.48504638671875, 779.0335083007812, 421.53265380859375, 449.6003112792969, 497.1875305175781, 441.3468933105469, 1390.701904296875, 1206.9439697265625, 383.5223388671875, 1943.340576171875, 359.5580749511719, 281.921142578125, 449.0205078125, 426.1244812011719, 371.67724609375, 922.8388671875, 847.900634765625, 555.7943725585938, 285.0412902832031, 693.3770141601562, 2463.796142578125, 1417.440673828125, 744.3997192382812, 1285.5390625, 512.0748291015625, 1144.1971435546875, 972.72021484375, 1108.940185546875, 627.2916259765625, 653.7357788085938, 1156.9112548828125, 645.38623046875, 35.35520553588867, 12.23813247680664, 12.238222122192383, 12.021162033081055, 13.835453033447266, 10.209577560424805, 10.209924697875977, 10.426773071289062, 9.993062019348145, 10.427423477172852, 103.10041046142578, 69.99757385253906, 9.413334846496582, 8.615274429321289, 20.974655151367188, 8.18092155456543, 8.545222282409668, 8.035325050354004, 7.3838582038879395, 7.166449546813965, 7.166574954986572, 7.166747570037842, 7.020601749420166, 7.02069091796875, 7.166810989379883, 57.812557220458984, 6.803554058074951, 7.966171741485596, 6.80389928817749, 6.586573600769043, 54.72184753417969, 14.258292198181152, 19.762426376342773, 22.001691818237305, 25.514673233032227, 33.09805679321289, 194.98997497558594, 499.82659912109375, 462.3074035644531, 54.03996658325195, 87.65218353271484, 488.4598388671875, 146.45361328125, 126.96824645996094, 905.5423583984375, 217.38316345214844, 554.9127807617188, 467.1624450683594, 133.98419189453125, 107.75273132324219, 107.4212646484375, 442.7513122558594, 767.6719970703125, 1108.940185546875, 1156.9112548828125, 252.88037109375, 416.95819091796875, 850.3173217773438, 2463.796142578125, 216.76431274414062, 152.4110107421875, 378.130859375, 703.5855712890625, 302.0508728027344, 508.67498779296875, 477.1121826171875, 691.54931640625, 1144.1971435546875, 768.8714599609375, 1285.5390625, 744.3997192382812, 745.763427734375, 1390.701904296875, 1417.440673828125, 754.9180908203125, 776.2416381835938, 1003.393798828125, 653.7357788085938, 1943.340576171875, 1053.169921875, 15.317617416381836, 12.52619457244873, 10.523445129394531, 38.9838752746582, 8.519537925720215, 8.090657234191895, 8.305566787719727, 8.090843200683594, 8.09092903137207, 8.090927124023438, 8.090787887573242, 7.876637935638428, 7.73235559463501, 7.876840591430664, 7.517768859863281, 7.518178939819336, 7.518393516540527, 7.303521156311035, 7.303427696228027, 7.304008960723877, 7.663512229919434, 6.515953540802002, 6.5160040855407715, 6.5164923667907715, 6.301567077636719, 7.880809783935547, 6.301815032958984, 14.123249053955078, 12.903581619262695, 6.30206298828125, 32.42793273925781, 12.332391738891602, 12.333213806152344, 22.032344818115234, 52.10870361328125, 31.7432804107666, 97.48466491699219, 50.464412689208984, 268.2715759277344, 24.493396759033203, 11.680938720703125, 395.9139404296875, 227.3777313232422, 310.4863586425781, 24.50849151611328, 922.48291015625, 32.39376449584961, 98.84048461914062, 34.42978286743164, 63.14702606201172, 179.1151123046875, 22.01498031616211, 38.32741165161133, 41.26042556762695, 847.900634765625, 114.88977813720703, 135.1019287109375, 141.20315551757812, 297.49078369140625, 1144.1971435546875, 146.1473388671875, 972.72021484375, 645.38623046875, 236.66336059570312, 194.54393005371094, 1417.440673828125, 227.49496459960938, 1390.701904296875, 1053.169921875, 255.10543823242188, 526.6707763671875, 314.10101318359375, 501.735595703125, 693.3770141601562, 1943.340576171875, 754.9180908203125, 443.19525146484375, 424.56781005859375, 2463.796142578125, 552.1118774414062, 389.8602294921875, 600.3335571289062, 1427.897705078125, 1108.940185546875, 650.0537719726562, 744.3997192382812, 776.2416381835938, 1285.5390625, 469.02252197265625, 497.1875305175781, 768.8714599609375, 887.170166015625, 922.8388671875], \"loglift\": [30.0, 29.0, 28.0, 27.0, 26.0, 25.0, 24.0, 23.0, 22.0, 21.0, 20.0, 19.0, 18.0, 17.0, 16.0, 15.0, 14.0, 13.0, 12.0, 11.0, 10.0, 9.0, 8.0, 7.0, 6.0, 5.0, 4.0, 3.0, 2.0, 1.0, 1.154099941253662, 1.1449999809265137, 1.1401000022888184, 1.139799952507019, 1.1263999938964844, 1.1261999607086182, 1.124899983406067, 1.1146999597549438, 1.1129000186920166, 1.1126999855041504, 1.1125999689102173, 1.1124999523162842, 1.1088999509811401, 1.1029000282287598, 1.1023000478744507, 1.0994000434875488, 1.0976999998092651, 1.096500039100647, 1.0959999561309814, 1.0953999757766724, 1.0938999652862549, 1.0928000211715698, 1.0922000408172607, 1.0901000499725342, 1.0895999670028687, 1.0879000425338745, 1.0872999429702759, 1.086899995803833, 1.0865999460220337, 1.0857000350952148, 1.069000005722046, 1.0831999778747559, 1.0808000564575195, 1.0455000400543213, 1.017899990081787, 1.0707000494003296, 0.975600004196167, 0.8948000073432922, 0.9052000045776367, 0.92330002784729, 1.0068000555038452, 0.9329000115394592, 0.9783999919891357, 0.6769999861717224, 0.9505000114440918, 0.7932999730110168, 0.885699987411499, 0.6435999870300293, 0.5724999904632568, 0.5925999879837036, 0.8335000276565552, 0.6662999987602234, 0.8948000073432922, 0.46860000491142273, 0.6747000217437744, 0.583299994468689, 0.6506999731063843, 0.6991000175476074, 0.2678999900817871, 0.691100001335144, 0.20239999890327454, 0.7635999917984009, 0.5134000182151794, 0.5751000046730042, 0.25600001215934753, 0.3163999915122986, 0.4059999883174896, 0.532800018787384, 0.22370000183582306, 0.3449999988079071, 0.4803999960422516, 0.39469999074935913, 0.07760000228881836, 0.28870001435279846, 0.21459999680519104, 0.19300000369548798, 0.11230000108480453, 0.14710000157356262, 0.33649998903274536, 0.19290000200271606, 0.02290000021457672, -0.049800001084804535, -0.2840999960899353, 0.07980000227689743, -0.3634999990463257, -0.2337999939918518, -0.33500000834465027, 1.353700041770935, 1.3492000102996826, 1.3452999591827393, 1.3121999502182007, 1.3049999475479126, 1.3042000532150269, 1.2905000448226929, 1.2857999801635742, 1.284500002861023, 1.2812000513076782, 1.2789000272750854, 1.2788000106811523, 1.2776999473571777, 1.2717000246047974, 1.270900011062622, 1.2690999507904053, 1.2675000429153442, 1.2674000263214111, 1.2648999691009521, 1.264299988746643, 1.2632999420166016, 1.2623000144958496, 1.2618999481201172, 1.2617000341415405, 1.2598999738693237, 1.2590999603271484, 1.2582999467849731, 1.25600004196167, 1.2559000253677368, 1.254699945449829, 1.249899983406067, 1.2388999462127686, 1.2337000370025635, 1.0658999681472778, 1.177299976348877, 1.2345000505447388, 1.1958999633789062, 1.1749999523162842, 1.2148000001907349, 0.9976999759674072, 1.2223000526428223, 1.232300043106079, 0.9645000100135803, 0.9539999961853027, 0.9043999910354614, 0.7113999724388123, 1.0252000093460083, 0.9266999959945679, 0.8111000061035156, 0.715399980545044, 0.7394999861717224, 0.5218999981880188, 0.609499990940094, 0.5789999961853027, 0.5443999767303467, 0.5627999901771545, 0.3124000132083893, 0.33629998564720154, 0.580299973487854, 0.21819999814033508, 0.559499979019165, 0.6110000014305115, 0.4918000102043152, 0.5008000135421753, 0.5318999886512756, 0.2295999974012375, 0.25619998574256897, 0.35280001163482666, 0.5712000131607056, 0.2572000026702881, -0.26820001006126404, -0.07039999961853027, 0.18880000710487366, -0.06729999929666519, 0.3176000118255615, -0.1518000066280365, -0.07020000368356705, -0.17239999771118164, 0.1306000053882599, 0.08609999716281891, -0.4180999994277954, 0.065700002014637, 1.4118000268936157, 1.3746999502182007, 1.3743000030517578, 1.3730000257492065, 1.3695000410079956, 1.361799955368042, 1.3604999780654907, 1.3601000308990479, 1.3590999841690063, 1.3588999509811401, 1.3538000583648682, 1.351199984550476, 1.3492000102996826, 1.347100019454956, 1.3447999954223633, 1.344099998474121, 1.3391000032424927, 1.3387000560760498, 1.332200050354004, 1.3316999673843384, 1.3310999870300293, 1.330399990081787, 1.329200029373169, 1.3280999660491943, 1.3276000022888184, 1.3255000114440918, 1.3252999782562256, 1.3222999572753906, 1.3217999935150146, 1.3207999467849731, 1.3135000467300415, 1.31850004196167, 1.3114999532699585, 1.292799949645996, 1.2716000080108643, 1.2259999513626099, 1.0850000381469727, 1.0080000162124634, 0.9487000107765198, 1.1333999633789062, 1.0765000581741333, 0.8557000160217285, 0.9757000207901001, 0.9940999746322632, 0.7372000217437744, 0.9186000227928162, 0.7578999996185303, 0.7785000205039978, 0.9577999711036682, 0.9904000163078308, 0.965499997138977, 0.7181000113487244, 0.5805000066757202, 0.48420000076293945, 0.4602999985218048, 0.741599977016449, 0.6281999945640564, 0.46070000529289246, 0.2004999965429306, 0.7720000147819519, 0.8086000084877014, 0.5475000143051147, 0.3653999865055084, 0.6118000149726868, 0.3912000060081482, 0.4153999984264374, 0.2134999930858612, -0.014700000174343586, 0.15790000557899475, -0.08709999918937683, 0.14920000731945038, 0.13920000195503235, -0.20229999721050262, -0.2732999920845032, 0.03700000047683716, 0.016499999910593033, -0.1574999988079071, 0.06780000030994415, -0.8169999718666077, -0.39989998936653137, 1.517799973487854, 1.5088000297546387, 1.4953999519348145, 1.493299961090088, 1.4801000356674194, 1.475600004196167, 1.4753999710083008, 1.4746999740600586, 1.4744999408721924, 1.4743000268936157, 1.4742000102996826, 1.4711999893188477, 1.4707000255584717, 1.4699000120162964, 1.4682999849319458, 1.4657000303268433, 1.4657000303268433, 1.465000033378601, 1.4648000001907349, 1.4615999460220337, 1.4610999822616577, 1.4523999691009521, 1.4523999691009521, 1.4499000310897827, 1.4486000537872314, 1.44760000705719, 1.4473999738693237, 1.447100043296814, 1.4469000101089478, 1.4462000131607056, 1.4177000522613525, 1.4352999925613403, 1.4329999685287476, 1.4111000299453735, 1.3652000427246094, 1.3712999820709229, 1.2907999753952026, 1.3092000484466553, 1.0719000101089478, 1.3248000144958496, 1.4124000072479248, 0.9824000000953674, 1.0527000427246094, 0.9861999750137329, 1.3162000179290771, 0.8343999981880188, 1.2726000547409058, 1.0844000577926636, 1.2401000261306763, 1.1363999843597412, 0.923799991607666, 1.2934000492095947, 1.187600016593933, 1.1689000129699707, 0.536899983882904, 0.954800009727478, 0.9178000092506409, 0.9064000248908997, 0.72079998254776, 0.39959999918937683, 0.8654000163078308, 0.39590001106262207, 0.4607999920845032, 0.7197999954223633, 0.770799994468689, 0.21469999849796295, 0.711899995803833, 0.18520000576972961, 0.241799995303154, 0.6732000112533569, 0.4406000077724457, 0.5946000218391418, 0.43209999799728394, 0.3010999858379364, -0.11140000075101852, 0.23759999871253967, 0.4357999861240387, 0.44780001044273376, -0.3450999855995178, 0.29660001397132874, 0.43639999628067017, 0.2215999960899353, -0.22370000183582306, -0.11180000007152557, 0.16850000619888306, 0.06909999996423721, 0.028300000354647636, -0.2854999899864197, 0.3197999894618988, 0.27480000257492065, -0.08299999684095383, -0.2442999929189682, -0.3133000135421753], \"logprob\": [30.0, 29.0, 28.0, 27.0, 26.0, 25.0, 24.0, 23.0, 22.0, 21.0, 20.0, 19.0, 18.0, 17.0, 16.0, 15.0, 14.0, 13.0, 12.0, 11.0, 10.0, 9.0, 8.0, 7.0, 6.0, 5.0, 4.0, 3.0, 2.0, 1.0, -8.48069953918457, -8.708700180053711, -8.889599800109863, -7.016499996185303, -9.12440013885498, -9.061300277709961, -9.104299545288086, -9.260000228881836, -9.312299728393555, -9.286999702453613, -9.287099838256836, -9.287300109863281, -9.316499710083008, -9.348899841308594, -9.423199653625488, -9.4552001953125, -9.428000450134277, -8.652700424194336, -9.058600425720215, -9.509900093078613, -9.40369987487793, -9.512499809265137, -8.818300247192383, -9.579299926757812, -9.547300338745117, -9.581500053405762, -8.104700088500977, -9.550100326538086, -9.55049991607666, -9.583800315856934, -5.7972002029418945, -8.524200439453125, -8.889699935913086, -7.914100170135498, -7.4182000160217285, -8.960700035095215, -6.883299827575684, -5.649099826812744, -6.9278998374938965, -7.232399940490723, -8.317099571228027, -7.508500099182129, -8.030200004577637, -5.000699996948242, -7.803100109100342, -6.45550012588501, -7.404300212860107, -5.492700099945068, -4.920499801635742, -5.208199977874756, -7.100500106811523, -6.074399948120117, -7.6691999435424805, -5.160699844360352, -6.353899955749512, -5.959000110626221, -6.476500034332275, -6.732500076293945, -4.748799800872803, -6.704100131988525, -4.577000141143799, -7.083000183105469, -6.102700233459473, -6.362299919128418, -5.173900127410889, -5.445000171661377, -5.797399997711182, -6.269100189208984, -5.311600208282471, -5.704899787902832, -6.17710018157959, -5.958099842071533, -5.254700183868408, -5.817500114440918, -5.747600078582764, -5.750999927520752, -5.668000221252441, -5.787300109863281, -6.05019998550415, -5.918900012969971, -5.820300102233887, -5.758600234985352, -5.609000205993652, -5.894700050354004, -5.714799880981445, -5.780200004577637, -5.912700176239014, -7.266600131988525, -7.287899971008301, -7.88730001449585, -8.596400260925293, -8.588700294494629, -8.767900466918945, -7.708499908447266, -9.049300193786621, -8.855199813842773, -9.142499923706055, -9.196499824523926, -8.534899711608887, -9.145999908447266, -9.258399963378906, -9.278200149536133, -9.154800415039062, -9.310600280761719, -9.310799598693848, -9.284299850463867, -9.343700408935547, -9.365300178527832, -9.366399765014648, -9.346099853515625, -9.34630012512207, -7.6844000816345215, -9.401000022888184, -9.190400123596191, -9.404199600219727, -9.19279956817627, -9.437899589538574, -8.910200119018555, -8.032299995422363, -8.474900245666504, -4.785900115966797, -7.540599822998047, -8.758899688720703, -8.246399879455566, -7.928599834442139, -8.57610034942627, -6.053599834442139, -8.787599563598633, -8.927399635314941, -6.2677001953125, -6.248300075531006, -5.957799911499023, -4.613500118255615, -7.451399803161621, -6.875699996948242, -6.686600208282471, -6.265600204467773, -6.404799938201904, -5.408899784088135, -5.935500144958496, -5.901500225067139, -5.8354997634887695, -5.936299800872803, -5.038899898529053, -5.156700134277344, -6.059199810028076, -4.798399925231934, -6.144499778747559, -6.336299896240234, -5.989999771118164, -6.033299922943115, -6.138999938964844, -5.531799793243408, -5.589900016784668, -5.9156999588012695, -6.364999771118164, -5.79010009765625, -5.047599792480469, -5.402699947357178, -5.787499904632568, -5.497200012207031, -6.032800197601318, -5.698200225830078, -5.7789998054504395, -5.750100135803223, -6.0167999267578125, -6.020100116729736, -5.953400135040283, -6.053299903869629, -7.611599922180176, -8.709600448608398, -8.710000038146973, -8.72920036315918, -8.592100143432617, -8.903800010681152, -8.904999732971191, -8.884400367736816, -8.927900314331055, -8.885499954223633, -6.599400043487549, -6.989200115203857, -8.9975004196167, -9.088299751281738, -8.200799942016602, -9.142900466918945, -9.104399681091309, -9.166299819946289, -9.257399559020996, -9.287799835205078, -9.288299560546875, -9.288999557495117, -9.310799598693848, -9.31190013885498, -9.291799545288086, -7.206200122833252, -9.346099853515625, -9.191300392150879, -9.349499702453613, -9.383000373840332, -7.273099899291992, -8.61299991607666, -8.293600082397461, -8.204899787902832, -8.07800006866455, -7.863399982452393, -6.230899810791016, -5.366600036621094, -5.504000186920166, -7.465700149536133, -7.039000034332275, -5.541900157928467, -6.626399993896484, -6.750800132751465, -5.043099880218506, -6.288599967956543, -5.5121002197265625, -5.663599967956543, -6.733399868011475, -6.918600082397461, -6.946599960327148, -5.7778000831604, -5.364999771118164, -5.093500137329102, -5.075099945068359, -6.314300060272217, -5.927700042724609, -5.382599830627441, -4.57889986038208, -6.438000202178955, -6.753600120544434, -6.106100082397461, -5.667200088500977, -6.266499996185303, -5.96589994430542, -6.00570011138916, -5.83650016784668, -5.561100006103516, -5.785999774932861, -5.517000198364258, -5.827099800109863, -5.835299968719482, -5.553599834442139, -5.605599880218506, -5.92519998550415, -5.917900085449219, -5.83519983291626, -6.038400173187256, -5.833700180053711, -6.029200077056885, -8.342000007629395, -8.552200317382812, -8.739899635314941, -7.432400226593018, -8.966400146484375, -9.022600173950195, -8.996500015258789, -9.023500442504883, -9.023599624633789, -9.023799896240234, -9.02400016784668, -9.053799629211426, -9.072799682617188, -9.055000305175781, -9.103300094604492, -9.105799674987793, -9.105799674987793, -9.135499954223633, -9.1358003616333, -9.138899803161621, -9.091300010681152, -9.262200355529785, -9.262100219726562, -9.264599800109863, -9.299400329589844, -9.076800346374512, -9.300600051879883, -8.494000434875488, -8.584400177001953, -9.3016996383667, -7.6921000480651855, -8.641300201416016, -8.643600463867188, -8.08530044555664, -7.270299911499023, -7.759900093078613, -6.718299865722656, -7.35830020904541, -5.924900054931641, -8.065699577331543, -8.718500137329102, -5.62529993057251, -6.109499931335449, -5.864500045776367, -8.073599815368652, -4.9274001121521, -7.838200092315674, -6.910999774932861, -7.809800148010254, -7.3069000244140625, -6.4770002365112305, -8.203700065612793, -7.755099773406982, -7.700099945068359, -5.309199810028076, -6.890100002288818, -6.764999866485596, -6.7322001457214355, -6.172599792480469, -5.1468000411987305, -6.738900184631348, -5.31279993057251, -5.658199787139893, -6.402400016784668, -6.547399997711182, -5.117599964141846, -6.44980001449585, -5.166100025177002, -5.387499809265137, -6.373899936676025, -5.881700038909912, -6.244500160217285, -5.938700199127197, -5.746099948883057, -5.1280999183654785, -5.724699974060059, -6.059100151062012, -6.089900016784668, -5.124499797821045, -5.978499889373779, -6.186600208282471, -5.969699859619141, -5.548600196838379, -5.689499855041504, -5.943299770355225, -5.907199859619141, -5.906099796295166, -5.715400218963623, -6.1184000968933105, -6.105100154876709, -6.026899814605713, -6.045100212097168, -6.074699878692627]}, \"token.table\": {\"Topic\": [3, 1, 2, 3, 4, 1, 3, 1, 2, 3, 4, 1, 2, 3, 4, 1, 4, 1, 4, 1, 3, 3, 1, 2, 3, 4, 1, 2, 3, 4, 1, 2, 3, 4, 2, 4, 1, 1, 2, 3, 4, 1, 2, 3, 4, 3, 1, 1, 2, 3, 4, 1, 2, 4, 2, 4, 2, 1, 2, 3, 4, 1, 2, 3, 4, 1, 2, 3, 4, 1, 2, 4, 2, 1, 2, 3, 4, 3, 1, 1, 2, 3, 4, 1, 2, 4, 1, 3, 4, 1, 2, 3, 4, 1, 2, 3, 4, 1, 2, 3, 4, 4, 1, 2, 3, 4, 1, 2, 3, 4, 1, 2, 3, 4, 1, 2, 3, 4, 1, 2, 3, 4, 1, 2, 3, 4, 1, 2, 3, 4, 1, 2, 3, 4, 1, 4, 1, 1, 1, 2, 3, 4, 1, 2, 3, 4, 1, 3, 1, 2, 3, 4, 1, 2, 3, 4, 2, 1, 2, 3, 4, 1, 2, 3, 4, 4, 2, 3, 1, 2, 3, 4, 1, 2, 3, 4, 1, 2, 3, 4, 1, 2, 3, 4, 1, 2, 3, 4, 1, 2, 3, 4, 1, 2, 3, 4, 1, 1, 2, 3, 4, 4, 1, 2, 3, 4, 1, 2, 3, 4, 1, 2, 3, 4, 1, 2, 4, 1, 2, 3, 4, 1, 2, 3, 4, 1, 3, 4, 1, 2, 3, 4, 1, 2, 3, 4, 1, 2, 3, 4, 2, 1, 2, 3, 4, 1, 2, 3, 4, 1, 2, 3, 4, 1, 2, 3, 4, 1, 2, 3, 4, 1, 4, 1, 2, 3, 4, 1, 2, 3, 4, 1, 2, 3, 4, 1, 2, 3, 1, 2, 3, 4, 1, 3, 1, 2, 3, 4, 1, 3, 1, 2, 3, 4, 2, 3, 1, 2, 4, 1, 2, 3, 4, 1, 2, 3, 4, 1, 2, 3, 4, 3, 3, 4, 2, 3, 1, 2, 3, 4, 1, 1, 2, 3, 4, 3, 4, 3, 1, 2, 3, 4, 3, 1, 2, 3, 4, 1, 2, 3, 4, 1, 2, 3, 4, 1, 2, 3, 4, 1, 2, 3, 4, 1, 2, 3, 4, 1, 2, 3, 4, 2, 3, 4, 1, 2, 3, 4, 3, 2, 4, 1, 1, 4, 1, 2, 3, 2, 4, 2, 1, 2, 3, 4, 2, 4, 3, 4, 1, 2, 3, 4, 3, 2, 3, 1, 2, 3, 4, 1, 2, 3, 4, 1, 2, 3, 4, 1, 1, 2, 3, 4, 1, 1, 2, 4, 4, 1, 2, 3, 4, 1, 2, 3, 4, 1, 2, 3, 4, 1, 2, 3, 4, 2, 3, 4, 1, 2, 3, 4, 1, 2, 3, 4, 1, 1, 2, 3, 4, 4, 1, 3, 1, 2, 3, 4, 1, 2, 3, 4, 1, 2, 3, 4, 2, 4, 1, 2, 1, 2, 3, 4, 4, 1, 2, 3, 4, 1, 2, 3, 4, 1, 2, 3, 4, 1, 2, 3, 4, 1, 2, 3, 4, 4, 4, 1, 2, 3, 4, 3, 1, 2, 3, 4, 1, 2, 3, 4, 1, 2, 3, 4, 2, 4, 3, 2, 2, 1, 2, 3, 4, 1, 2, 3, 4, 1, 2, 3, 4, 2, 1, 2, 3, 4, 1, 2, 3, 4, 1, 2, 3, 4, 1, 2, 3, 4, 2, 4, 2, 4, 1, 2, 3, 4, 1, 2, 4, 2, 3, 4, 1, 2, 3, 4, 1, 2, 3, 4, 1, 2, 3, 4, 1, 2, 3, 4, 1, 2, 3, 4, 1, 2, 1, 2, 3, 4, 3, 4, 1, 3, 4, 1, 2, 3, 4, 2, 4, 4, 4, 1, 3, 2, 4, 1, 1, 2, 3, 4, 1, 2, 3, 4, 3, 1, 1, 2, 3, 4, 2, 1, 2, 3, 4, 1, 2, 3, 4, 1, 2, 3, 4, 2, 4, 2, 2, 1, 2, 3, 4, 1, 2, 3, 4, 1, 2, 3, 4, 1, 2, 3, 4, 4, 1, 1, 2, 3, 4, 2, 1, 2, 3, 4, 1, 2, 3, 4, 4, 2, 3, 1, 2, 1, 2, 3, 4, 1, 2, 3, 4, 1, 2, 3, 4, 1, 2, 3, 4, 1, 2, 3, 4, 1, 2, 3, 4, 4, 1, 2, 3, 4, 1, 2, 3, 4, 3, 1, 3, 1, 2, 3, 4, 1, 2, 3, 4, 3, 1, 2, 3, 4, 2, 1, 2, 3, 4, 1, 3, 4, 1, 3, 2, 4, 1, 2, 3, 4, 1, 2, 3, 4, 1, 2, 3, 4, 2, 1, 2, 3, 4, 2, 3, 2, 1, 2, 1, 2, 4, 2, 4, 1, 2, 3, 4, 2, 1, 2, 3, 4, 1, 2, 3, 4, 1, 2, 3, 4, 4, 1, 2, 3, 4, 2], \"Freq\": [0.95609050989151, 0.030870137736201286, 0.21609097719192505, 0.030870137736201286, 0.7408833503723145, 0.8801664710044861, 0.9285833239555359, 0.08374502509832382, 0.1339920461177826, 0.25681808590888977, 0.5248021483421326, 0.08990448713302612, 0.24830763041973114, 0.5180211067199707, 0.1455596387386322, 0.8893366456031799, 0.9792645573616028, 0.9630952477455139, 0.8882336020469666, 0.9630020260810852, 0.8556493520736694, 0.837199866771698, 0.22181694209575653, 0.16222432255744934, 0.4370124638080597, 0.17877782881259918, 0.28308841586112976, 0.143510103225708, 0.35189464688301086, 0.22214578092098236, 0.13096372783184052, 0.7039300799369812, 0.1145932674407959, 0.04911139979958534, 0.8932893872261047, 0.9208097457885742, 0.9059651494026184, 0.23824642598628998, 0.347605437040329, 0.21285951137542725, 0.19918963313102722, 0.09137118607759476, 0.01827423647046089, 0.8771633505821228, 0.01827423647046089, 0.9590694904327393, 0.8519740700721741, 0.3645852208137512, 0.22921180725097656, 0.15844842791557312, 0.246133491396904, 0.13627085089683533, 0.09084723144769669, 0.7722014784812927, 0.9179099202156067, 0.9390180706977844, 0.9762312769889832, 0.20298543572425842, 0.14762577414512634, 0.5120769143104553, 0.13378585875034332, 0.2691158056259155, 0.12747590243816376, 0.09206593036651611, 0.5169855952262878, 0.13604718446731567, 0.07602636516094208, 0.6502255201339722, 0.13804787397384644, 0.7586008310317993, 0.0790209174156189, 0.1580418348312378, 0.9410824775695801, 0.1197936087846756, 0.7365527749061584, 0.03202403336763382, 0.11030500382184982, 0.8372200131416321, 0.9154623746871948, 0.7483567595481873, 0.06881441175937653, 0.15483242273330688, 0.03440720587968826, 0.6946306824684143, 0.2569182217121124, 0.04757744446396828, 0.9129186272621155, 0.05071770027279854, 0.05071770027279854, 0.6045256853103638, 0.07484603673219681, 0.2130233347415924, 0.10363297164440155, 0.1844487488269806, 0.46821603178977966, 0.19509001076221466, 0.1525249183177948, 0.5339105129241943, 0.0843016654253006, 0.20372901856899261, 0.17562846839427948, 0.9502591490745544, 0.5043736696243286, 0.24963948130607605, 0.14774581789970398, 0.09934632480144501, 0.30810365080833435, 0.26408883929252625, 0.3605022132396698, 0.06707017868757248, 0.27042630314826965, 0.130987748503685, 0.17324185371398926, 0.4267665147781372, 0.22249534726142883, 0.44499069452285767, 0.19746463000774384, 0.1362784057855606, 0.5775012969970703, 0.208070307970047, 0.13163632154464722, 0.08068032562732697, 0.15852755308151245, 0.019815944135189056, 0.05944783240556717, 0.772821843624115, 0.02760276012122631, 0.9108911156654358, 0.05520552024245262, 0.02760276012122631, 0.2169477343559265, 0.6649919748306274, 0.07074382901191711, 0.04716255143284798, 0.944036602973938, 0.9521066546440125, 0.8520868420600891, 0.8802391886711121, 0.2729080021381378, 0.3283424377441406, 0.11513306200504303, 0.28570055961608887, 0.08703994750976562, 0.21759986877441406, 0.1566718965768814, 0.53964763879776, 0.8520742654800415, 0.9396150708198547, 0.666593074798584, 0.0815257728099823, 0.10550394654273987, 0.148664653301239, 0.2824731171131134, 0.4537363350391388, 0.12233087420463562, 0.14234866201877594, 0.8449730277061462, 0.2868245244026184, 0.23645031452178955, 0.16859935224056244, 0.30841344594955444, 0.14339011907577515, 0.21849921345710754, 0.6281852722167969, 0.013656200841069221, 0.9521440863609314, 0.9657073020935059, 0.8787156939506531, 0.3735504746437073, 0.11656893789768219, 0.24638435244560242, 0.2636047601699829, 0.3936520516872406, 0.3154362142086029, 0.10497388243675232, 0.18576259911060333, 0.16774046421051025, 0.12300967425107956, 0.10064428299665451, 0.6075932383537292, 0.195097416639328, 0.43645504117012024, 0.09453173726797104, 0.27353864908218384, 0.7600818276405334, 0.04750511422753334, 0.04750511422753334, 0.14251534640789032, 0.6452184915542603, 0.13950671255588531, 0.11334919929504395, 0.10463003069162369, 0.23248495161533356, 0.46734219789505005, 0.1945282220840454, 0.1043810024857521, 0.9445739388465881, 0.2641972601413727, 0.25906720757484436, 0.15646633505821228, 0.32062771916389465, 0.9583777785301208, 0.5929875373840332, 0.14949265122413635, 0.2023133933544159, 0.05481397360563278, 0.26825234293937683, 0.328825443983078, 0.12258843332529068, 0.2812322676181793, 0.13193903863430023, 0.11434716731309891, 0.15832684934139252, 0.5937256813049316, 0.8081603646278381, 0.1672055870294571, 0.027867598459124565, 0.1835291087627411, 0.44636091589927673, 0.126884326338768, 0.24243968725204468, 0.08739766478538513, 0.13781939446926117, 0.3495906591415405, 0.42690399289131165, 0.17271587252616882, 0.019190652295947075, 0.8060073852539062, 0.4212363362312317, 0.16808950901031494, 0.224794402718544, 0.18429090082645416, 0.20853735506534576, 0.6422950625419617, 0.04170747101306915, 0.10843942314386368, 0.1900327056646347, 0.09501635283231735, 0.047508176416158676, 0.6492784023284912, 0.900801956653595, 0.16487811505794525, 0.23037762939929962, 0.48785853385925293, 0.11744742095470428, 0.3441331386566162, 0.12859712541103363, 0.24813811480998993, 0.2789289653301239, 0.23327641189098358, 0.5313518047332764, 0.0777588039636612, 0.159837543964386, 0.07827296108007431, 0.18263690173625946, 0.052181974053382874, 0.6783656477928162, 0.14190495014190674, 0.6591714024543762, 0.0778188407421112, 0.11901705712080002, 0.833172082901001, 0.15720228850841522, 0.8032360672950745, 0.008826769888401031, 0.008826769888401031, 0.18536217510700226, 0.1906895786523819, 0.5720687508583069, 0.07381532341241837, 0.16608448326587677, 0.3227602541446686, 0.44905775785446167, 0.1298057585954666, 0.09823138266801834, 0.24056269228458405, 0.018504822626709938, 0.7401928901672363, 0.5444276928901672, 0.11271794885396957, 0.17922154068946838, 0.16231384873390198, 0.8766652345657349, 0.058444347232580185, 0.2743092179298401, 0.23735563457012177, 0.3425311744213104, 0.14639300107955933, 0.10120214521884918, 0.8602182865142822, 0.1208530142903328, 0.0302132535725832, 0.8157578706741333, 0.0302132535725832, 0.9686304926872253, 0.8546276092529297, 0.8491676449775696, 0.0530729778110981, 0.0796094685792923, 0.30379509925842285, 0.18987193703651428, 0.1841757744550705, 0.3227822780609131, 0.08165466040372849, 0.12248199433088303, 0.04082733020186424, 0.7757192850112915, 0.1303280144929886, 0.21411031484603882, 0.6237126588821411, 0.03723657503724098, 0.961668848991394, 0.0856095552444458, 0.856095552444458, 0.8810875415802002, 0.08810874819755554, 0.5856762528419495, 0.19041690230369568, 0.10097866505384445, 0.1211743950843811, 0.9732800126075745, 0.8765869140625, 0.022895926609635353, 0.01962508074939251, 0.07850032299757004, 0.9117501378059387, 0.07013462483882904, 0.9590096473693848, 0.903898298740387, 0.03347771614789963, 0.06695543229579926, 0.03347771614789963, 0.8818920254707336, 0.22047990560531616, 0.4142349660396576, 0.15144073963165283, 0.21379870176315308, 0.3258405923843384, 0.22661341726779938, 0.27220427989959717, 0.17431801557540894, 0.23859524726867676, 0.21761983633041382, 0.23422537744045258, 0.3093872368335724, 0.3368147313594818, 0.08282329142093658, 0.49583545327186584, 0.08392760157585144, 0.5925878882408142, 0.06541554629802704, 0.1500709503889084, 0.19239865243434906, 0.30931800603866577, 0.06705494970083237, 0.61214679479599, 0.008652251213788986, 0.37686556577682495, 0.16682350635528564, 0.37600117921829224, 0.0803864598274231, 0.0925128385424614, 0.030837612226605415, 0.8634531497955322, 0.09092885255813599, 0.2146931290626526, 0.13891908526420593, 0.5556763410568237, 0.8988299369812012, 0.07080523669719696, 0.8496628403663635, 0.8960960507392883, 0.8750308156013489, 0.07291923463344574, 0.026132436469197273, 0.888502836227417, 0.07839730381965637, 0.9500130414962769, 0.9584417939186096, 0.8449761867523193, 0.07424405962228775, 0.09280507266521454, 0.6403549909591675, 0.19489064812660217, 0.05130326375365257, 0.9234587550163269, 0.8371924161911011, 0.888681173324585, 0.18358294665813446, 0.20934897661209106, 0.05153205618262291, 0.5571903586387634, 0.8988233804702759, 0.91044020652771, 0.8546167612075806, 0.22690701484680176, 0.5168437361717224, 0.09034260362386703, 0.16597828269004822, 0.20596587657928467, 0.1615206003189087, 0.1539323925971985, 0.4780576229095459, 0.23705607652664185, 0.32786861062049866, 0.08019807934761047, 0.35499441623687744, 0.8891761302947998, 0.5335790514945984, 0.35544317960739136, 0.0372842475771904, 0.07373996078968048, 0.8739685416221619, 0.08160436898469925, 0.12240655720233917, 0.775241494178772, 0.9310499429702759, 0.7335566878318787, 0.04075314849615097, 0.19018135964870453, 0.04075314849615097, 0.19812043011188507, 0.5173144340515137, 0.1467558741569519, 0.1394180804491043, 0.029097847640514374, 0.048496413975954056, 0.921431839466095, 0.009699282236397266, 0.7325066924095154, 0.10719610750675201, 0.08933008462190628, 0.07146406918764114, 0.07838626950979233, 0.862248957157135, 0.039193134754896164, 0.5996044874191284, 0.16655680537223816, 0.1387973427772522, 0.09438218921422958, 0.045387815684080124, 0.09077563136816025, 0.045387815684080124, 0.8623684644699097, 0.9284279942512512, 0.1538703590631485, 0.02051604725420475, 0.0718061625957489, 0.7590937614440918, 0.8651666045188904, 0.04767658933997154, 0.9058551788330078, 0.737015426158905, 0.10664210468530655, 0.11612140387296677, 0.04265684261918068, 0.21552109718322754, 0.21371756494045258, 0.38505232334136963, 0.18576295673847198, 0.056118473410606384, 0.8978955745697021, 0.056118473410606384, 0.056118473410606384, 0.9450149536132812, 0.957992434501648, 0.9194091558456421, 0.9666234850883484, 0.30841362476348877, 0.11822522431612015, 0.12336545437574387, 0.4471997618675232, 0.865166425704956, 0.40230321884155273, 0.2768702805042267, 0.2539252042770386, 0.06730548292398453, 0.18371623754501343, 0.22846762835979462, 0.2614423334598541, 0.3250364065170288, 0.05714483931660652, 0.01428620982915163, 0.9143174290657043, 0.01428620982915163, 0.21227598190307617, 0.271155446767807, 0.18748463690280914, 0.3284854590892792, 0.48584169149398804, 0.1964605748653412, 0.13008876144886017, 0.18584108352661133, 0.8651815056800842, 0.9584540724754333, 0.8403359651565552, 0.03819708898663521, 0.07639417797327042, 0.07639417797327042, 0.8814952373504639, 0.2769143879413605, 0.4177183210849762, 0.13376373052597046, 0.17131143808364868, 0.2973919212818146, 0.09353455901145935, 0.44608789682388306, 0.165484219789505, 0.06251432746648788, 0.8335244059562683, 0.10419055074453354, 0.020838109776377678, 0.07749786227941513, 0.8524764776229858, 0.8815252184867859, 0.9828165173530579, 0.9802106022834778, 0.7774640321731567, 0.02159622311592102, 0.12957733869552612, 0.06478866934776306, 0.16165941953659058, 0.4536893367767334, 0.21641503274440765, 0.16948164999485016, 0.3081202805042267, 0.18698902428150177, 0.37633010745048523, 0.12818743288516998, 0.9454866051673889, 0.14986728131771088, 0.6255330443382263, 0.06515969336032867, 0.15638326108455658, 0.3188309669494629, 0.2885420322418213, 0.20564597845077515, 0.18651612102985382, 0.19640696048736572, 0.4331715404987335, 0.20447848737239838, 0.16681139171123505, 0.34911808371543884, 0.195815309882164, 0.24090436100959778, 0.2138509303331375, 0.08108186721801758, 0.8919005393981934, 0.935084342956543, 0.06233895570039749, 0.9388943314552307, 0.0356542132794857, 0.011884737759828568, 0.011884737759828568, 0.8525359630584717, 0.0775032714009285, 0.9207407236099243, 0.126010924577713, 0.03150273114442825, 0.8190709948539734, 0.2075834572315216, 0.29106810688972473, 0.1805073469877243, 0.32040053606033325, 0.5738467574119568, 0.036259546875953674, 0.20967477560043335, 0.18129774928092957, 0.22052757441997528, 0.031503938138484955, 0.6379547715187073, 0.11026378720998764, 0.3889418840408325, 0.2372545599937439, 0.21780745685100555, 0.1563546359539032, 0.5394912958145142, 0.1419713944196701, 0.21295709908008575, 0.10647854954004288, 0.8927789330482483, 0.06867530196905136, 0.17166204750537872, 0.12688064575195312, 0.6194760799407959, 0.08209923654794693, 0.8818472623825073, 0.8887040615081787, 0.8800925016403198, 0.9480138421058655, 0.9632093906402588, 0.16941194236278534, 0.23518362641334534, 0.2770383358001709, 0.32088613510131836, 0.8697145581245422, 0.10871431976556778, 0.9052868485450745, 0.9311273097991943, 0.9383467435836792, 0.9150529503822327, 0.08108726888895035, 0.8919599652290344, 0.9650715589523315, 0.5122570991516113, 0.05828074738383293, 0.09815704822540283, 0.3282126188278198, 0.2373678982257843, 0.1802237629890442, 0.1582452654838562, 0.4219873547554016, 0.9361956715583801, 0.8960906863212585, 0.20924685895442963, 0.34658756852149963, 0.19414657354354858, 0.25023335218429565, 0.8720018267631531, 0.07692702859640121, 0.16411100327968597, 0.7026002407073975, 0.05128468945622444, 0.1140872910618782, 0.1254960149526596, 0.6959324479103088, 0.0684523731470108, 0.13340499997138977, 0.14720551669597626, 0.5934222340583801, 0.12880481779575348, 0.8814792633056641, 0.08814792335033417, 0.8277591466903687, 0.8277586698532104, 0.22540302574634552, 0.06327102333307266, 0.4982593059539795, 0.2135397046804428, 0.15349999070167542, 0.6887820363044739, 0.09446153789758682, 0.06297435611486435, 0.29317036271095276, 0.18656295537948608, 0.2598555386066437, 0.2598555386066437, 0.41285645961761475, 0.3196657598018646, 0.11594656854867935, 0.1517057865858078, 0.9208168983459473, 0.8960778117179871, 0.04847259819507599, 0.024236299097537994, 0.24236299097537994, 0.6786163449287415, 0.9372761845588684, 0.10497929155826569, 0.12466290593147278, 0.5314576625823975, 0.2362034022808075, 0.17247770726680756, 0.19991733133792877, 0.2195170819759369, 0.4076745808124542, 0.9310765266418457, 0.8953233957290649, 0.07461028546094894, 0.1290035843849182, 0.8600239157676697, 0.16236814856529236, 0.337471067905426, 0.12416388094425201, 0.3756753206253052, 0.4251323640346527, 0.17063136398792267, 0.2935437858104706, 0.1098981648683548, 0.4463011622428894, 0.10766036808490753, 0.287746787071228, 0.15855436027050018, 0.3252340853214264, 0.2363414615392685, 0.18060719966888428, 0.2575063705444336, 0.27391692996025085, 0.21084395051002502, 0.506385862827301, 0.009010424837470055, 0.2531691789627075, 0.19158747792243958, 0.06842409819364548, 0.4926535189151764, 0.8651756048202515, 0.3688414394855499, 0.36164453625679016, 0.09176055341959, 0.1799226552248001, 0.36894285678863525, 0.19400955736637115, 0.2902025878429413, 0.14692774415016174, 0.8711532950401306, 0.8647254705429077, 0.9006248712539673, 0.061294011771678925, 0.8274691104888916, 0.061294011771678925, 0.061294011771678925, 0.28825998306274414, 0.13222935795783997, 0.40991100668907166, 0.17189815640449524, 0.9109440445899963, 0.02904462069272995, 0.20331235229969025, 0.0580892413854599, 0.7261155247688293, 0.9104992151260376, 0.18504546582698822, 0.14063455164432526, 0.15543819963932037, 0.5181273221969604, 0.09090209752321243, 0.863569974899292, 0.045451048761606216, 0.9192711710929871, 0.8372346758842468, 0.8720136880874634, 0.9520691633224487, 0.23105552792549133, 0.4274527430534363, 0.19768084585666656, 0.14376787841320038, 0.45185038447380066, 0.2309832125902176, 0.10284654051065445, 0.21412312984466553, 0.48140379786491394, 0.09495143592357635, 0.15951842069625854, 0.26491451263427734, 0.937293291091919, 0.20881962776184082, 0.14535483717918396, 0.5588995814323425, 0.08803180605173111, 0.8343660831451416, 0.07585146278142929, 0.9181053042411804, 0.8766493797302246, 0.08766493946313858, 0.06093442440032959, 0.8530819416046143, 0.06093442440032959, 0.9595761895179749, 0.8651954531669617, 0.03459456190466881, 0.017297280952334404, 0.8994585871696472, 0.03459456190466881, 0.9178457260131836, 0.3654707074165344, 0.1651771515607834, 0.278329998254776, 0.19118930399417877, 0.06070386990904808, 0.22258086502552032, 0.11129043251276016, 0.6171560287475586, 0.2461988925933838, 0.21233026683330536, 0.4246605336666107, 0.11723756790161133, 0.9134193062782288, 0.19478781521320343, 0.3062870502471924, 0.2753896713256836, 0.2229984700679779, 0.9410764575004578], \"Term\": [\"-icp-o\", \"1.8\", \"1.8\", \"1.8\", \"1.8\", \"1223\", \"1892\", \"2015\", \"2015\", \"2015\", \"2015\", \"2018\", \"2018\", \"2018\", \"2018\", \"3888792\", \"4-wire\", \"437\", \"4ft\", \"720\", \"980\", \"9gs\", \"access\", \"access\", \"access\", \"access\", \"activ\", \"activ\", \"activ\", \"activ\", \"advisori\", \"advisori\", \"advisori\", \"advisori\", \"aisl\", \"all-around\", \"alleg\", \"also\", \"also\", \"also\", \"also\", \"amp\", \"amp\", \"amp\", \"amp\", \"analysistrack\", \"anti-stict\", \"applic\", \"applic\", \"applic\", \"applic\", \"apprentic\", \"apprentic\", \"apprentic\", \"arakawa-ku\", \"aray\", \"arewho\", \"around\", \"around\", \"around\", \"around\", \"audio\", \"audio\", \"audio\", \"audio\", \"award\", \"award\", \"award\", \"award\", \"back-left\", \"back-left\", \"back-left\", \"bnc\", \"board\", \"board\", \"board\", \"board\", \"brentford\", \"brexit\", \"brochur\", \"brochur\", \"brochur\", \"brochur\", \"build-up\", \"build-up\", \"build-up\", \"c300\", \"c300\", \"c300\", \"cancer\", \"cancer\", \"cancer\", \"cancer\", \"care\", \"care\", \"care\", \"care\", \"celgen\", \"celgen\", \"celgen\", \"celgen\", \"celgene-sponsor\", \"cell\", \"cell\", \"cell\", \"cell\", \"center\", \"center\", \"center\", \"center\", \"chang\", \"chang\", \"chang\", \"chang\", \"chemic\", \"chemic\", \"chemic\", \"chemic\", \"chief\", \"chief\", \"chief\", \"chief\", \"chord\", \"chord\", \"chord\", \"chord\", \"chugai\", \"chugai\", \"chugai\", \"chugai\", \"circuit\", \"circuit\", \"circuit\", \"circuit\", \"clearaudio\", \"clearway\", \"cloud-deploy\", \"colectomi\", \"commerci\", \"commerci\", \"commerci\", \"commerci\", \"committe\", \"committe\", \"committe\", \"committe\", \"compliance-readi\", \"congo\", \"connect\", \"connect\", \"connect\", \"connect\", \"control\", \"control\", \"control\", \"control\", \"crispra\", \"custom\", \"custom\", \"custom\", \"custom\", \"daikin\", \"daikin\", \"daikin\", \"daikin\", \"dam\", \"de/fr\", \"democrat\", \"design\", \"design\", \"design\", \"design\", \"develop\", \"develop\", \"develop\", \"develop\", \"digit\", \"digit\", \"digit\", \"digit\", \"director\", \"director\", \"director\", \"director\", \"domain\", \"domain\", \"domain\", \"domain\", \"download\", \"download\", \"download\", \"download\", \"dr.\", \"dr.\", \"dr.\", \"dr.\", \"efpia\", \"electron\", \"electron\", \"electron\", \"electron\", \"en/ur\", \"energi\", \"energi\", \"energi\", \"energi\", \"engin\", \"engin\", \"engin\", \"engin\", \"eni\", \"eni\", \"eni\", \"eni\", \"esprit\", \"esprit\", \"esprit\", \"establish\", \"establish\", \"establish\", \"establish\", \"event\", \"event\", \"event\", \"event\", \"exosom\", \"exosom\", \"exosom\", \"experi\", \"experi\", \"experi\", \"experi\", \"express\", \"express\", \"express\", \"express\", \"februari\", \"februari\", \"februari\", \"februari\", \"fifa\", \"financi\", \"financi\", \"financi\", \"financi\", \"first\", \"first\", \"first\", \"first\", \"flexibl\", \"flexibl\", \"flexibl\", \"flexibl\", \"fluoresc\", \"fluoresc\", \"fluoresc\", \"fluoresc\", \"food\", \"food\", \"food\", \"food\", \"forward-right\", \"forward-right\", \"fpd\", \"fpd\", \"fpd\", \"fpd\", \"gene\", \"gene\", \"gene\", \"gene\", \"generat\", \"generat\", \"generat\", \"generat\", \"glanc\", \"glanc\", \"glanc\", \"global\", \"global\", \"global\", \"global\", \"grind\", \"grind\", \"group\", \"group\", \"group\", \"group\", \"guinea\", \"guinea\", \"gulf\", \"gulf\", \"gulf\", \"gulf\", \"hdi\", \"hdms\", \"headphon\", \"headphon\", \"headphon\", \"high\", \"high\", \"high\", \"high\", \"high-pressur\", \"high-pressur\", \"high-pressur\", \"high-pressur\", \"highlight\", \"highlight\", \"highlight\", \"highlight\", \"hk\", \"honey\", \"honey\", \"hse\", \"hse\", \"human\", \"human\", \"human\", \"human\", \"ic-overlayalert\", \"icon\", \"icon\", \"icon\", \"icon\", \"icp-m\", \"icp-m\", \"icp-ms/m\", \"id\", \"id\", \"id\", \"id\", \"iframes.\", \"inc.\", \"inc.\", \"inc.\", \"inc.\", \"includ\", \"includ\", \"includ\", \"includ\", \"industri\", \"industri\", \"industri\", \"industri\", \"inform\", \"inform\", \"inform\", \"inform\", \"initi\", \"initi\", \"initi\", \"initi\", \"ink\", \"ink\", \"ink\", \"ink\", \"innov\", \"innov\", \"innov\", \"innov\", \"invalid\", \"invalid\", \"invalid\", \"investor\", \"investor\", \"investor\", \"investor\", \"ipsum\", \"johari\", \"johari\", \"july/august\", \"kal\", \"kal\", \"kasei\", \"kasei\", \"kasei\", \"kashima\", \"kazakhstan\", \"knockdown\", \"korea\", \"korea\", \"korea\", \"korea\", \"ksa\", \"ksa\", \"lanka\", \"ldo\", \"led\", \"led\", \"led\", \"led\", \"lorem\", \"macedonia\", \"maldi\", \"manag\", \"manag\", \"manag\", \"manag\", \"manufactur\", \"manufactur\", \"manufactur\", \"manufactur\", \"market\", \"market\", \"market\", \"market\", \"market-specif\", \"materi\", \"materi\", \"materi\", \"materi\", \"may/jun\", \"medium-\", \"medium-\", \"medium-\", \"mekong\", \"mem\", \"mem\", \"mem\", \"mem\", \"member\", \"member\", \"member\", \"member\", \"mfg\", \"mfg\", \"mfg\", \"mfg\", \"micro\", \"micro\", \"micro\", \"micro\", \"mm\", \"mm\", \"mm\", \"mobil\", \"mobil\", \"mobil\", \"mobil\", \"modal\", \"modal\", \"modal\", \"modal\", \"morflex\", \"music\", \"music\", \"music\", \"music\", \"nake\", \"neglect\", \"neglect\", \"network\", \"network\", \"network\", \"network\", \"new\", \"new\", \"new\", \"new\", \"nicotin\", \"nicotin\", \"nicotin\", \"nicotin\", \"nl\", \"nmda\", \"nrnd\", \"nu-ccn\", \"number\", \"number\", \"number\", \"number\", \"nuprim\", \"offic\", \"offic\", \"offic\", \"offic\", \"one\", \"one\", \"one\", \"one\", \"onstat\", \"onstat\", \"onstat\", \"onstat\", \"oper\", \"oper\", \"oper\", \"oper\", \"organ\", \"organ\", \"organ\", \"organ\", \"organix\", \"pakistan\", \"pancreat\", \"pancreat\", \"pancreat\", \"pancreat\", \"papua\", \"partner\", \"partner\", \"partner\", \"partner\", \"perform\", \"perform\", \"perform\", \"perform\", \"pharma\", \"pharma\", \"pharma\", \"pharma\", \"philippin\", \"philippin\", \"phrma\", \"pkg\", \"pkgsemiconductor\", \"planet\", \"planet\", \"planet\", \"planet\", \"polici\", \"polici\", \"polici\", \"polici\", \"power\", \"power\", \"power\", \"power\", \"pre-program\", \"print\", \"print\", \"print\", \"print\", \"process\", \"process\", \"process\", \"process\", \"project\", \"project\", \"project\", \"project\", \"provid\", \"provid\", \"provid\", \"provid\", \"pta\", \"pta\", \"pulser\", \"pulser\", \"pwb\", \"pwb\", \"pwb\", \"pwb\", \"quadrupol\", \"quadrupol\", \"raterat\", \"recess\", \"recess\", \"recess\", \"relat\", \"relat\", \"relat\", \"relat\", \"report\", \"report\", \"report\", \"report\", \"request\", \"request\", \"request\", \"request\", \"research\", \"research\", \"research\", \"research\", \"resourc\", \"resourc\", \"resourc\", \"resourc\", \"resum\", \"resum\", \"return\", \"return\", \"return\", \"return\", \"reunion\", \"rgb\", \"rippl\", \"rns\", \"ru\", \"sale\", \"sale\", \"sale\", \"sale\", \"sanken\", \"sanken\", \"sarbanes-oxley\", \"sarum\", \"science-l\", \"sconc\", \"scoreflex\", \"scoreflex\", \"sds\", \"section\", \"section\", \"section\", \"section\", \"select\", \"select\", \"select\", \"select\", \"semi-prep\", \"september/octob\", \"servic\", \"servic\", \"servic\", \"servic\", \"sfc/upc2\", \"sharehold\", \"sharehold\", \"sharehold\", \"sharehold\", \"singapor\", \"singapor\", \"singapor\", \"singapor\", \"site\", \"site\", \"site\", \"site\", \"size/\", \"size/\", \"sl\", \"slovenia\", \"social\", \"social\", \"social\", \"social\", \"softwar\", \"softwar\", \"softwar\", \"softwar\", \"solar\", \"solar\", \"solar\", \"solar\", \"solut\", \"solut\", \"solut\", \"solut\", \"spectratemp\", \"split/multi-split\", \"spring\", \"spring\", \"spring\", \"spring\", \"stiefel\", \"stock\", \"stock\", \"stock\", \"stock\", \"strategi\", \"strategi\", \"strategi\", \"strategi\", \"subregion\", \"sunshin\", \"sunshin\", \"supervisori\", \"supervisori\", \"suppli\", \"suppli\", \"suppli\", \"suppli\", \"support\", \"support\", \"support\", \"support\", \"sustain\", \"sustain\", \"sustain\", \"sustain\", \"system\", \"system\", \"system\", \"system\", \"taiyo\", \"taiyo\", \"taiyo\", \"taiyo\", \"target\", \"target\", \"target\", \"target\", \"tea\", \"team\", \"team\", \"team\", \"team\", \"technolog\", \"technolog\", \"technolog\", \"technolog\", \"tesaro\", \"thai-mc\", \"thalassemia\", \"thou-manag\", \"thou-manag\", \"thou-manag\", \"thou-manag\", \"top\", \"top\", \"top\", \"top\", \"topoisomeras\", \"torqu\", \"torqu\", \"torqu\", \"torqu\", \"trek\", \"trial\", \"trial\", \"trial\", \"trial\", \"tropic\", \"tropic\", \"tropic\", \"turntabl\", \"tw8\", \"ubm/rdl\", \"underfil\", \"univers\", \"univers\", \"univers\", \"univers\", \"us\", \"us\", \"us\", \"us\", \"use\", \"use\", \"use\", \"use\", \"usp\", \"valu\", \"valu\", \"valu\", \"valu\", \"vermont\", \"vermont\", \"vida\", \"videojet\", \"videojet\", \"viiv\", \"viiv\", \"viiv\", \"w/pendant\", \"webb\", \"winner\", \"winner\", \"winner\", \"winner\", \"wireworld\", \"work\", \"work\", \"work\", \"work\", \"workforc\", \"workforc\", \"workforc\", \"workforc\", \"world\", \"world\", \"world\", \"world\", \"wraparound\", \"year\", \"year\", \"year\", \"year\", \"zola\"]}, \"R\": 30, \"lambda.step\": 0.01, \"plot.opts\": {\"xlab\": \"PC1\", \"ylab\": \"PC2\"}, \"topic.order\": [2, 3, 4, 1]};\n",
       "\n",
       "function LDAvis_load_lib(url, callback){\n",
       "  var s = document.createElement('script');\n",
       "  s.src = url;\n",
       "  s.async = true;\n",
       "  s.onreadystatechange = s.onload = callback;\n",
       "  s.onerror = function(){console.warn(\"failed to load library \" + url);};\n",
       "  document.getElementsByTagName(\"head\")[0].appendChild(s);\n",
       "}\n",
       "\n",
       "if(typeof(LDAvis) !== \"undefined\"){\n",
       "   // already loaded: just create the visualization\n",
       "   !function(LDAvis){\n",
       "       new LDAvis(\"#\" + \"ldavis_el3170454435340643462703859\", ldavis_el3170454435340643462703859_data);\n",
       "   }(LDAvis);\n",
       "}else if(typeof define === \"function\" && define.amd){\n",
       "   // require.js is available: use it to load d3/LDAvis\n",
       "   require.config({paths: {d3: \"https://cdnjs.cloudflare.com/ajax/libs/d3/3.5.5/d3.min\"}});\n",
       "   require([\"d3\"], function(d3){\n",
       "      window.d3 = d3;\n",
       "      LDAvis_load_lib(\"https://cdn.rawgit.com/bmabey/pyLDAvis/files/ldavis.v1.0.0.js\", function(){\n",
       "        new LDAvis(\"#\" + \"ldavis_el3170454435340643462703859\", ldavis_el3170454435340643462703859_data);\n",
       "      });\n",
       "    });\n",
       "}else{\n",
       "    // require.js not available: dynamically load d3 & LDAvis\n",
       "    LDAvis_load_lib(\"https://cdnjs.cloudflare.com/ajax/libs/d3/3.5.5/d3.min.js\", function(){\n",
       "         LDAvis_load_lib(\"https://cdn.rawgit.com/bmabey/pyLDAvis/files/ldavis.v1.0.0.js\", function(){\n",
       "                 new LDAvis(\"#\" + \"ldavis_el3170454435340643462703859\", ldavis_el3170454435340643462703859_data);\n",
       "            })\n",
       "         });\n",
       "}\n",
       "</script>"
      ],
      "text/plain": [
       "<IPython.core.display.HTML object>"
      ]
     },
     "execution_count": 44,
     "metadata": {},
     "output_type": "execute_result"
    }
   ],
   "source": [
    "LDAvis_prepared = pyLDAvis.gensim.prepare(lda, DT_matrix, full_dict)\n",
    "pyLDAvis.display(LDAvis_prepared)"
   ]
  },
  {
   "cell_type": "code",
   "execution_count": 189,
   "metadata": {},
   "outputs": [
    {
     "name": "stdout",
     "output_type": "stream",
     "text": [
      "0::['servic', 'system', 'develop', 'energi', 'oper', 'applic', 'global', 'employe', 'manag', 'manufactur']\n",
      "1::['materi', 'servic', 'inform', 'system', 'offic', 'manag', 'solut', 'innov', 'board', 'industri']\n",
      "2::['develop', 'industri', 'custom', 'power', 'new', 'servic', 'system', 'us', 'en', 'manag']\n",
      "3::['manag', 'manufactur', 'power', 'use', 'solar', 'provid', 'cell', 'servic', 'industri', 'ink']\n",
      "4::['develop', 'bodi', 'servic', 'hover', 'top', 'research', 'use', 'system', 'releas', 'industri']\n",
      "5::['develop', 'innov', 'manag', 'materi', 'energi', 'state', 'industri', 'power', 'year', 'solut']\n",
      "6::['materi', 'new', 'develop', 'solut', 'board', 'market', 'custom', 'electron', 'servic', 'inform']\n",
      "7::['manag', 'develop', 'research', 'industri', 'offic', 'center', 'innov', 'univers', 'energi', 'system']\n",
      "8::['research', 'use', 'develop', 'inform', 'new', 'provid', 'year', 'work', 'servic', 'system']\n",
      "9::['develop', 'research', 'global', 'system', 'natur', 'group', 'work', 'network', 'dr.', 'univers']\n",
      "10::['servic', 'global', 'use', 'develop', 'univers', 'design', 'market', 'custom', 'high', 'network']\n",
      "11::['taiyo', 'ink', 'servic', 'system', 'custom', 'design', 'report', 'year', 'industri', 'use']\n"
     ]
    }
   ],
   "source": [
    "x=lda.show_topics(num_topics=k, num_words=10,formatted=False)\n",
    "topics_words = [(tp[0], [wd[0] for wd in tp[1]]) for tp in x]\n",
    "#Below Code Prints Topics and Words\n",
    "labels = []\n",
    "for topic,words in topics_words:\n",
    "    print(str(topic)+ \"::\"+ str(words))\n",
    "    labels.append('|'.join(words[0:3]))"
   ]
  },
  {
   "cell_type": "code",
   "execution_count": 190,
   "metadata": {},
   "outputs": [
    {
     "name": "stdout",
     "output_type": "stream",
     "text": [
      "Copy this into R:\n",
      "c(\"servic|system|develop\", \"materi|servic|inform\", \"develop|industri|custom\", \"manag|manufactur|power\", \"develop|bodi|servic\", \"develop|innov|manag\", \"materi|new|develop\", \"manag|develop|research\", \"research|use|develop\", \"develop|research|global\", \"servic|global|use\", \"taiyo|ink|servic\")\n"
     ]
    }
   ],
   "source": [
    "# print topic labels for import into R (note these need to be copied into R every time you train a new topic model)\n",
    "print (\"Copy this into R:\")\n",
    "print ('c(\"' + '\", \"'.join(labels) + '\")')"
   ]
  },
  {
   "cell_type": "markdown",
   "metadata": {},
   "source": [
    "#### Create output data structure and write to file"
   ]
  },
  {
   "cell_type": "code",
   "execution_count": 191,
   "metadata": {},
   "outputs": [],
   "source": [
    "topic_by_firm_vector = {} # at the firm level\n",
    "\n",
    "# create output data structure\n",
    "for firm_key in all_docs_dict:\n",
    "    firm_paras = all_docs_dict[firm_key]\n",
    "    main_topic = [] # at the firm level, where each para is an entry\n",
    "    main_topic_probs = [] # same, but for probabilities\n",
    "    para_order = []\n",
    "    para_len = [] \n",
    "    order_num = 1\n",
    "    for para in firm_paras:\n",
    "        para_len.append(len(para))\n",
    "        topic_by_prob = sorted([(i[1],i[0]) for i in lda.get_document_topics(full_dict.doc2bow(para))], reverse = True)\n",
    "        main_topic.append(topic_by_prob[0][1])\n",
    "        main_topic_probs.append(topic_by_prob[0][0])\n",
    "        para_order.append(order_num)\n",
    "        order_num = order_num + 1\n",
    "    firm_df = pd.DataFrame(\n",
    "        {'firm': re.sub('\\|', '/', firm_key.split('.')[0]), \n",
    "         'para_order': para_order,\n",
    "         'num_words': para_len,\n",
    "         'main_topic': main_topic,\n",
    "         'prob': main_topic_probs\n",
    "        })\n",
    "    topic_by_firm_vector[firm_key] = firm_df # set at the firm level "
   ]
  },
  {
   "cell_type": "code",
   "execution_count": 192,
   "metadata": {},
   "outputs": [
    {
     "name": "stdout",
     "output_type": "stream",
     "text": [
      "Found output for 951 firms.  Here is an example:\n",
      "['Know How.',\n",
      " 'Combining decades of experience and deep expertise to create a better '\n",
      " 'platform for antibody drug discovery.',\n",
      " 'Ablexis licenses the AlivaMab Mouse, a transgenic mouse that dramatically '\n",
      " 'improves upon other antibody discovery platforms. A majority of the world’s '\n",
      " 'top-15 pharmaceutical companies have licensed and use AlivaMab Mouse for '\n",
      " 'antibody drug discovery at more than a dozen sites around the world.',\n",
      " 'Founded in 2009, Ablexis brought together decades of knowledge and '\n",
      " 'experience in building the AlivaMab Mouse, the best-in-class transgenic '\n",
      " 'platform for generating therapeutic antibody candidates with very high '\n",
      " 'potency, specificity, solubility and reduced chance of immunogenicity. '\n",
      " 'AlivaMab Mouse achieves this by incorporating insights and scientific '\n",
      " 'breakthroughs based on:',\n",
      " 'An understanding that the choice of platform can impact every step of the '\n",
      " 'discovery and development processes, with consequences for risks at stages '\n",
      " 'from discovery to commercialization',\n",
      " 'Experience and observations in antibody drug discovery and development using '\n",
      " 'transgenic mice, in vitro display platforms, and humanization',\n",
      " 'Expertise in molecular genetics, function of the immunoglobulin loci, and '\n",
      " 'requirements for a robust immune response',\n",
      " 'Sequencing of the human and mouse genomes',\n",
      " 'STRONG PARTNERSHIPS',\n",
      " 'Ablexis has non-exclusively licensed the AlivaMab Mouse technology to '\n",
      " 'multiple companies, including global pharmaceutical companies, public and '\n",
      " 'private biotechnology companies and other entities.',\n",
      " 'FACT: A majority of the world’s top-15 pharmaceutical companies have '\n",
      " 'licensed and are using the AlivaMab Mouse for antibody drug discovery at '\n",
      " 'over a dozen sites.',\n",
      " 'Founder and CEO, co-inventor of the AlivaMab Mouse',\n",
      " 'Larry is CEO and founder of Ablexis, and co-inventor of the AlivaMab Mouse. '\n",
      " 'He also serves as CEO of AlivaMab Discovery Services. Larry has over a '\n",
      " 'quarter century of experience in designing, creating and using transgenic '\n",
      " 'mouse platforms for antibody drug discovery. Larry joined Aliva '\n",
      " 'Biopharmaceuticals, Inc. in 2008 as CEO, where he optimized the blueprint '\n",
      " 'for AlivaMab Mouse and procured a Series A financing, resulting in the '\n",
      " 'founding of Ablexis, LLC in 2009. Prior to joining Aliva, he was a '\n",
      " 'co-inventor of the XenoMouse® technology at Cell Genesys and was a '\n",
      " 'scientific founder of the spin-out of Abgenix, where he served as designer '\n",
      " 'and team leader for making improved versions of the XenoMouse® technology, '\n",
      " 'director of antibody discovery operations, leader of the collaborations '\n",
      " 'group, and the senior research representative on joint steering committees '\n",
      " 'in alliances with Amgen, AstraZeneca, Pfizer amongst other companies.',\n",
      " 'Larry is an inventor on several dozen patents covering immunoglobulin '\n",
      " 'transgenic mice and therapeutic antibodies. He received his Ph.D. in '\n",
      " 'Molecular and Cellular Biology from the University of Wisconsin-Madison and '\n",
      " 'did postdoctoral research at the University of Colorado at Boulder and '\n",
      " 'Stanford University.',\n",
      " 'John “Lippy” Lippincott, Ph.D.',\n",
      " 'Consultant',\n",
      " 'Lippy joined Ablexis in 2012 as director of research operations, where he '\n",
      " 'built the processes and team responsible for the data package validating the '\n",
      " 'AlivaMab Mouse. He currently serves as consultant to Ablexis and is vice '\n",
      " 'president of research at AlivaMab Discovery Services. Lippy has nearly two '\n",
      " 'decades of experience in the generation and characterization of antibodies '\n",
      " 'from in vivo systems.',\n",
      " 'Prior to joining Ablexis, Lippy established and led the hybridoma group at '\n",
      " 'Pfizer’s San Diego site, where he was project leader for internal and '\n",
      " 'co-development therapeutic discovery projects. At Igenica, he led the '\n",
      " 'successful importation of a novel in vivo discovery platform and created a '\n",
      " 'high-throughput system for hybridoma generation and screening, and led other '\n",
      " 'processes required for identifying lead therapeutic candidates. Serving in '\n",
      " 'the role of vice president, antibody discovery at LakePharma, Lippy built '\n",
      " 'and led the team responsible for providing antibody discovery services to '\n",
      " 'clients. Lippy received his Ph.D. from Harvard University and did '\n",
      " 'postdoctoral research at the Genomics Institute of the Novartis Research '\n",
      " 'Foundation in San Diego.',\n",
      " 'Ablexis delivers a superior, next generation transgenic mouse platform for '\n",
      " 'the discovery of therapeutic antibodies.',\n",
      " '10581 Roselle Street, Suite 115',\n",
      " 'San Diego, CA 92121',\n",
      " 'Your Email *',\n",
      " 'Your Organization *']\n",
      "[['combin',\n",
      "  'decad',\n",
      "  'experi',\n",
      "  'deep',\n",
      "  'expertis',\n",
      "  'creat',\n",
      "  'better',\n",
      "  'platform',\n",
      "  'antibodi',\n",
      "  'drug',\n",
      "  'discoveri'],\n",
      " ['ablexi',\n",
      "  'alivamab',\n",
      "  'mous',\n",
      "  'transgen',\n",
      "  'mous',\n",
      "  'dramat',\n",
      "  'improv',\n",
      "  'upon',\n",
      "  'antibodi',\n",
      "  'discoveri',\n",
      "  'platform',\n",
      "  'major',\n",
      "  'world',\n",
      "  'top-15',\n",
      "  'pharmaceut',\n",
      "  'use',\n",
      "  'alivamab',\n",
      "  'mous',\n",
      "  'antibodi',\n",
      "  'drug',\n",
      "  'discoveri',\n",
      "  'dozen',\n",
      "  'site',\n",
      "  'around',\n",
      "  'world'],\n",
      " ['found',\n",
      "  '2009',\n",
      "  'ablexi',\n",
      "  'brought',\n",
      "  'togeth',\n",
      "  'decad',\n",
      "  'knowledg',\n",
      "  'experi',\n",
      "  'build',\n",
      "  'alivamab',\n",
      "  'mous',\n",
      "  'best-in-class',\n",
      "  'transgen',\n",
      "  'platform',\n",
      "  'generat',\n",
      "  'therapeut',\n",
      "  'antibodi',\n",
      "  'candid',\n",
      "  'veri',\n",
      "  'high',\n",
      "  'potenc',\n",
      "  'specif',\n",
      "  'solubl',\n",
      "  'reduc',\n",
      "  'chanc',\n",
      "  'immunogen',\n",
      "  'alivamab',\n",
      "  'mous',\n",
      "  'achiev',\n",
      "  'incorpor',\n",
      "  'insight',\n",
      "  'scientif',\n",
      "  'breakthrough',\n",
      "  'base'],\n",
      " ['understand',\n",
      "  'choic',\n",
      "  'platform',\n",
      "  'impact',\n",
      "  'everi',\n",
      "  'step',\n",
      "  'discoveri',\n",
      "  'develop',\n",
      "  'process',\n",
      "  'consequ',\n",
      "  'risk',\n",
      "  'stage',\n",
      "  'discoveri',\n",
      "  'commerci'],\n",
      " ['experi',\n",
      "  'observ',\n",
      "  'antibodi',\n",
      "  'drug',\n",
      "  'discoveri',\n",
      "  'develop',\n",
      "  'use',\n",
      "  'transgen',\n",
      "  'mice',\n",
      "  'vitro',\n",
      "  'display',\n",
      "  'platform',\n",
      "  'human'],\n",
      " ['expertis',\n",
      "  'molecular',\n",
      "  'genet',\n",
      "  'function',\n",
      "  'immunoglobulin',\n",
      "  'loci',\n",
      "  'requir',\n",
      "  'robust',\n",
      "  'immun',\n",
      "  'respons'],\n",
      " ['sequenc', 'human', 'mous', 'genom', 'strong', 'partnership'],\n",
      " ['ablexi',\n",
      "  'non-exclus',\n",
      "  'alivamab',\n",
      "  'mous',\n",
      "  'multipl',\n",
      "  'includ',\n",
      "  'global',\n",
      "  'pharmaceut',\n",
      "  'public',\n",
      "  'privat',\n",
      "  'biotechnolog',\n",
      "  'entiti'],\n",
      " ['fact',\n",
      "  'major',\n",
      "  'world',\n",
      "  'top-15',\n",
      "  'pharmaceut',\n",
      "  'use',\n",
      "  'alivamab',\n",
      "  'mous',\n",
      "  'antibodi',\n",
      "  'drug',\n",
      "  'discoveri',\n",
      "  'dozen',\n",
      "  'site'],\n",
      " ['founder', 'ceo', 'co-inventor', 'alivamab', 'mous'],\n",
      " ['larri',\n",
      "  'ceo',\n",
      "  'founder',\n",
      "  'ablexi',\n",
      "  'co-inventor',\n",
      "  'alivamab',\n",
      "  'mous',\n",
      "  'also',\n",
      "  'serv',\n",
      "  'ceo',\n",
      "  'alivamab',\n",
      "  'discoveri',\n",
      "  'servic',\n",
      "  'larri',\n",
      "  'quarter',\n",
      "  'centuri',\n",
      "  'experi',\n",
      "  'design',\n",
      "  'creat',\n",
      "  'use',\n",
      "  'transgen',\n",
      "  'mous',\n",
      "  'platform',\n",
      "  'antibodi',\n",
      "  'drug',\n",
      "  'discoveri',\n",
      "  'larri',\n",
      "  'join',\n",
      "  'aliva',\n",
      "  'biopharmaceut',\n",
      "  'inc.',\n",
      "  '2008',\n",
      "  'ceo',\n",
      "  'optim',\n",
      "  'blueprint',\n",
      "  'alivamab',\n",
      "  'mous',\n",
      "  'procur',\n",
      "  'seri',\n",
      "  'financ',\n",
      "  'result',\n",
      "  'found',\n",
      "  'ablexi',\n",
      "  'llc',\n",
      "  '2009',\n",
      "  'prior',\n",
      "  'join',\n",
      "  'aliva',\n",
      "  'co-inventor',\n",
      "  'xenomous',\n",
      "  'cell',\n",
      "  'genesi',\n",
      "  'scientif',\n",
      "  'founder',\n",
      "  'spin-out',\n",
      "  'abgenix',\n",
      "  'serv',\n",
      "  'design',\n",
      "  'team',\n",
      "  'leader',\n",
      "  'make',\n",
      "  'improv',\n",
      "  'version',\n",
      "  'xenomous',\n",
      "  'director',\n",
      "  'antibodi',\n",
      "  'discoveri',\n",
      "  'oper',\n",
      "  'leader',\n",
      "  'collabor',\n",
      "  'group',\n",
      "  'senior',\n",
      "  'research',\n",
      "  'repres',\n",
      "  'joint',\n",
      "  'steer',\n",
      "  'committe',\n",
      "  'allianc',\n",
      "  'amgen',\n",
      "  'astrazeneca',\n",
      "  'pfizer',\n",
      "  'amongst'],\n",
      " ['larri',\n",
      "  'inventor',\n",
      "  'sever',\n",
      "  'dozen',\n",
      "  'patent',\n",
      "  'cover',\n",
      "  'immunoglobulin',\n",
      "  'transgen',\n",
      "  'mice',\n",
      "  'therapeut',\n",
      "  'antibodi',\n",
      "  'receiv',\n",
      "  'ph.d.',\n",
      "  'molecular',\n",
      "  'cellular',\n",
      "  'biolog',\n",
      "  'univers',\n",
      "  'wisconsin-madison',\n",
      "  'postdoctor',\n",
      "  'research',\n",
      "  'univers',\n",
      "  'colorado',\n",
      "  'boulder',\n",
      "  'stanford',\n",
      "  'univers'],\n",
      " ['john', 'ph.d'],\n",
      " ['join',\n",
      "  'ablexi',\n",
      "  '2012',\n",
      "  'director',\n",
      "  'research',\n",
      "  'oper',\n",
      "  'built',\n",
      "  'process',\n",
      "  'team',\n",
      "  'respons',\n",
      "  'data',\n",
      "  'packag',\n",
      "  'valid',\n",
      "  'alivamab',\n",
      "  'mous',\n",
      "  'current',\n",
      "  'serv',\n",
      "  'consult',\n",
      "  'ablexi',\n",
      "  'vice',\n",
      "  'presid',\n",
      "  'research',\n",
      "  'alivamab',\n",
      "  'discoveri',\n",
      "  'servic',\n",
      "  'near',\n",
      "  'two',\n",
      "  'decad',\n",
      "  'experi',\n",
      "  'generat',\n",
      "  'character',\n",
      "  'antibodi',\n",
      "  'vivo',\n",
      "  'system'],\n",
      " ['prior',\n",
      "  'join',\n",
      "  'ablexi',\n",
      "  'establish',\n",
      "  'led',\n",
      "  'hybridoma',\n",
      "  'group',\n",
      "  'pfizer',\n",
      "  'san',\n",
      "  'diego',\n",
      "  'site',\n",
      "  'project',\n",
      "  'leader',\n",
      "  'intern',\n",
      "  'co-develop',\n",
      "  'therapeut',\n",
      "  'discoveri',\n",
      "  'project',\n",
      "  'igenica',\n",
      "  'led',\n",
      "  'success',\n",
      "  'import',\n",
      "  'novel',\n",
      "  'vivo',\n",
      "  'discoveri',\n",
      "  'platform',\n",
      "  'creat',\n",
      "  'high-throughput',\n",
      "  'system',\n",
      "  'hybridoma',\n",
      "  'generat',\n",
      "  'screen',\n",
      "  'led',\n",
      "  'process',\n",
      "  'requir',\n",
      "  'identifi',\n",
      "  'lead',\n",
      "  'therapeut',\n",
      "  'candid',\n",
      "  'serv',\n",
      "  'role',\n",
      "  'vice',\n",
      "  'presid',\n",
      "  'antibodi',\n",
      "  'discoveri',\n",
      "  'lakepharma',\n",
      "  'built',\n",
      "  'led',\n",
      "  'team',\n",
      "  'respons',\n",
      "  'provid',\n",
      "  'antibodi',\n",
      "  'discoveri',\n",
      "  'servic',\n",
      "  'client',\n",
      "  'receiv',\n",
      "  'ph.d.',\n",
      "  'harvard',\n",
      "  'univers',\n",
      "  'postdoctor',\n",
      "  'research',\n",
      "  'genom',\n",
      "  'institut',\n",
      "  'novarti',\n",
      "  'research',\n",
      "  'foundat',\n",
      "  'san',\n",
      "  'diego'],\n",
      " ['ablexi',\n",
      "  'deliv',\n",
      "  'superior',\n",
      "  'next',\n",
      "  'generat',\n",
      "  'transgen',\n",
      "  'mous',\n",
      "  'platform',\n",
      "  'discoveri',\n",
      "  'therapeut',\n",
      "  'antibodi'],\n",
      " ['10581',\n",
      "  'rosell',\n",
      "  'street',\n",
      "  'suit',\n",
      "  '115',\n",
      "  'san',\n",
      "  'diego',\n",
      "  'ca',\n",
      "  '92121',\n",
      "  'organ']]\n",
      "       firm  para_order  num_words  main_topic      prob\n",
      "0   Ablexis           1         11           7  0.923608\n",
      "1   Ablexis           2         25           7  0.964742\n",
      "2   Ablexis           3         34           0  0.772794\n",
      "3   Ablexis           4         14          10  0.475083\n",
      "4   Ablexis           5         13           7  0.934521\n",
      "5   Ablexis           6         10           3  0.916663\n",
      "6   Ablexis           7          6           0  0.869042\n",
      "7   Ablexis           8         12           9  0.929484\n",
      "8   Ablexis           9         13           7  0.934521\n",
      "9   Ablexis          10          5          11  0.847218\n",
      "10  Ablexis          11         82           4  0.744595\n",
      "11  Ablexis          12         25           7  0.663188\n",
      "12  Ablexis          13          2          10  0.694431\n",
      "13  Ablexis          14         34           7  0.599430\n",
      "14  Ablexis          15         68           8  0.451114\n",
      "15  Ablexis          16         11          11  0.923608\n",
      "16  Ablexis          17         10           9  0.916665\n"
     ]
    }
   ],
   "source": [
    "# Test output for a given firm \n",
    "print ('Found output for ' + str(len(topic_by_firm_vector.keys())) + ' firms.  Here is an example:')\n",
    "pp = pprint.PrettyPrinter()\n",
    "pp.pprint (documents_dict['Ablexis.txt'])\n",
    "pp.pprint (all_docs_dict['Ablexis.txt'])\n",
    "print(topic_by_firm_vector['Ablexis.txt'])"
   ]
  },
  {
   "cell_type": "code",
   "execution_count": 193,
   "metadata": {},
   "outputs": [],
   "source": [
    "# Write to a single output topic file\n",
    "headers = list(topic_by_firm_vector[list(topic_by_firm_vector.keys())[0]])\n",
    "if os.path.isfile(out_file):\n",
    "    os.remove(out_file)\n",
    "with open(out_file, 'a') as f:\n",
    "    f.write(','.join(headers) + '\\n')\n",
    "    for firm_key in topic_by_firm_vector:\n",
    "        df = topic_by_firm_vector[firm_key]\n",
    "        df.to_csv(f, header=False, index=False)\n",
    "        \n",
    "# now go to R"
   ]
  }
 ],
 "metadata": {
  "kernelspec": {
   "display_name": "Python 3",
   "language": "python",
   "name": "python3"
  },
  "language_info": {
   "codemirror_mode": {
    "name": "ipython",
    "version": 3
   },
   "file_extension": ".py",
   "mimetype": "text/x-python",
   "name": "python",
   "nbconvert_exporter": "python",
   "pygments_lexer": "ipython3",
   "version": "3.6.5"
  }
 },
 "nbformat": 4,
 "nbformat_minor": 2
}
