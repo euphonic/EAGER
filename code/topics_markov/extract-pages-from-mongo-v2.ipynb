{
 "cells": [
  {
   "cell_type": "markdown",
   "metadata": {},
   "source": [
    "# extract-pages-from-mongo\n",
    "SanjayKAroraPhD@gmail.com <br>\n",
    "November 2018\n",
    "\n",
    "## Description\n",
    "This notebook extracts groups of pages from mongodb by firm_name to create firm-centric page output files that can later be topic modeled.  In doing so, it removes repetitive content (e.g., repeated menu items) and garbage content (e.g., improperly parsed HTML code). \n",
    "\n",
    "## Change log\n",
    "v2 fixes some bugs.  \n",
    "\n",
    "## TODO:\n",
    "* Need to make better use of all pages in the site, e.g., to improve data quality and use additional paragraph data found on non-homepages "
   ]
  },
  {
   "cell_type": "code",
   "execution_count": 4,
   "metadata": {},
   "outputs": [],
   "source": [
    "# import data processing and other libraries\n",
    "import csv\n",
    "import sys\n",
    "import requests\n",
    "import os\n",
    "import re\n",
    "import pprint\n",
    "import pymongo\n",
    "import traceback\n",
    "from time import sleep\n",
    "import requests\n",
    "import pandas as pd\n",
    "import io\n",
    "from IPython.display import display\n",
    "import time\n",
    "import numpy as np\n",
    "from bs4 import BeautifulSoup\n",
    "import string"
   ]
  },
  {
   "cell_type": "code",
   "execution_count": 5,
   "metadata": {},
   "outputs": [],
   "source": [
    "MONGODB_DB = \"FirmDB\"\n",
    "MONGODB_COLLECTION = \"pages_co_urls\"\n",
    "CONNECTION_STRING = \"mongodb://localhost\"\n",
    "username = \"scrapy\"\n",
    "password = \"eager\"\n",
    "authSource = \"FirmDB\"\n",
    "authMechanism='SCRAM-SHA-1'\n",
    "\n",
    "client = pymongo.MongoClient(CONNECTION_STRING, username=username, password=password, authSource=authSource, authMechanism=authMechanism)\n",
    "db = client[MONGODB_DB]\n",
    "col = db[MONGODB_COLLECTION]\n",
    "\n",
    "DATA_DIR = '/home/eager/EAGER/data/orgs/workshop/depth0_pages/'"
   ]
  },
  {
   "cell_type": "code",
   "execution_count": 6,
   "metadata": {},
   "outputs": [
    {
     "name": "stdout",
     "output_type": "stream",
     "text": [
      "23\n",
      "[u'Kinetech Power Company LLC',\n",
      " u'Matrix Genetics',\n",
      " u'Immunolight',\n",
      " u'Pharmatrophix',\n",
      " u'Glucan Biorenewables LLC',\n",
      " u'Mattson Technology',\n",
      " u'Nanoquantum Sciences',\n",
      " u'FULL CIRCLE BIOCHAR',\n",
      " 'NA',\n",
      " u'Gilead Connecticut',\n",
      " u'Plant Sensory Systems',\n",
      " u'Iogen Corporation',\n",
      " u'Ferro Corporation',\n",
      " u'GOAL ZERO LLC',\n",
      " u'Lux Bio Group',\n",
      " u'Magnolia Solar',\n",
      " u'Ticona LLC',\n",
      " u'CyboEnergy',\n",
      " u'Ablexis',\n",
      " u'Alliance for Sustainable Energy',\n",
      " u'ACACIA RESEARCH GROUP LLC',\n",
      " u'NanoOncology',\n",
      " u'Genesco Inc.']\n"
     ]
    }
   ],
   "source": [
    "# gather unique firm_names from mongodb\n",
    "\n",
    "def get_firm_aggregates ():\n",
    "    query = [ { \"$group\": {\"_id\":\"$firm_name\" , \"number\":{\"$sum\":1}} } ]\n",
    "    results = col.aggregate(query)\n",
    "\n",
    "    mongo_dict = {}\n",
    "    for result in results:\n",
    "        key = (result['_id'])\n",
    "        if key:\n",
    "            mongo_dict[key[0]] = result['number']\n",
    "        else:\n",
    "            mongo_dict['NA'] = result['number']\n",
    "    \n",
    "    return mongo_dict\n",
    "\n",
    "results_dict = get_firm_aggregates()\n",
    "firm_names = results_dict.keys()\n",
    "print (len(firm_names))\n",
    "pp = pprint.PrettyPrinter()\n",
    "pp.pprint(firm_names)"
   ]
  },
  {
   "cell_type": "code",
   "execution_count": 30,
   "metadata": {},
   "outputs": [],
   "source": [
    "# remove html content\n",
    "def is_javascript (x):\n",
    "    match_string = r\"(CDATA|return\\s+true|return\\s+false|getelementbyid|function|\\w+\\(.*?\\);|\\w{2,}[\\\\.|:]+\\w{2,}|'\\w+':\\s+'\\w+|\\\\|{|}|\\r|\\n|\\/\\/')\"\n",
    "    # capture CDATA; function declarations; function calls; word sequences separated by a period (e.g., denoting paths)\n",
    "    regex = re.findall(match_string, x) \n",
    "    # check to see if the regex finds some percentage of the words look like javascript patterns\n",
    "    if (len(regex) / float(len(x.split())) > .10):\n",
    "        return True \n",
    "    else:\n",
    "        return False\n",
    "\n",
    "def clean_page_content (text_list):\n",
    "    # remove whatever we think is html\n",
    "    removed_html = filter(lambda x: not( bool(BeautifulSoup(x, \"html.parser\").find()) ), text_list)\n",
    "    # remove content that looks like javascript \n",
    "    removed_js = filter(lambda x: not (is_javascript(x)), removed_html)\n",
    "    # add other checks here as needed\n",
    "\n",
    "    return removed_js\n",
    "    \n",
    "\n",
    "# iterate through each firm, get all pages associated with a firm, and produce data structure\n",
    "# url --> depth\n",
    "#     --> content (list)\n",
    "# return data structure\n",
    "def process_firm (firm_name): \n",
    "    regex = '^' + re.escape(firm_name) + '$'\n",
    "    results = col.find( {\"firm_name\": re.compile(firm_name, re.IGNORECASE) } )\n",
    "    firm_pages_dict = {}\n",
    "    depth0_page_text = [] # home page\n",
    "    for result in results:\n",
    "        key = result['url'][0]\n",
    "        if key:\n",
    "            page_dict = {}\n",
    "            depth = result['depth'][0]\n",
    "            page_dict['depth'] = depth\n",
    "            page_dict['domain'] = result['domain'][0]\n",
    "            page_dict['firm_name'] = firm_name\n",
    "            clnd_text = clean_page_content(result['full_text'])\n",
    "            page_dict['clnd_text'] = clnd_text\n",
    "            firm_pages_dict[key] = page_dict\n",
    "            \n",
    "            if depth == -1:\n",
    "                depth0_page_text = clnd_text\n",
    "        else:\n",
    "            continue\n",
    "            \n",
    "    return firm_pages_dict, depth0_page_text\n",
    "# TODO: identify which pieces of content are common across all sites, and remove those\n",
    "# def clean_content(firm_dict): "
   ]
  },
  {
   "cell_type": "code",
   "execution_count": 32,
   "metadata": {},
   "outputs": [
    {
     "name": "stdout",
     "output_type": "stream",
     "text": [
      "['CDATA', 'function', 'getelementbyid', 'javascript.function', 'linker:autoLink', 'www.littlekidsinc', 'fxnCall(param.param);', 'dextr.us', \"'type': 'image\", 'return true', 'return false', 'rev7bynlh\\\\u00252bvcgrjg', '\\\\', '{', '}']\n"
     ]
    }
   ],
   "source": [
    "# regex test \n",
    "regex = re.findall(r\"(CDATA|return\\s+true|return\\s+false|getelementbyid|function|\\w+\\(.*?\\);|\\w{2,}[\\\\.|:]+\\w{2,}|'\\w+':\\s+'\\w+|\\\\|{|}|\\r|\\n|\\/\\/')\", \n",
    "                   \"CDATA function contact-us getelementbyid javascript.function linker:autoLink www.littlekidsinc.com fxnCall(param.param); email@dextr.us 'type': 'image' return true return false rev7bynlh\\\\u00252bvcgrjg\\\\ {height}\") # last part is words sequences separated by punct\n",
    "print (regex)"
   ]
  },
  {
   "cell_type": "code",
   "execution_count": 33,
   "metadata": {
    "scrolled": true
   },
   "outputs": [
    {
     "name": "stdout",
     "output_type": "stream",
     "text": [
      "[u'EN', u'Translate: ', u'\\u2715', u'Batteries With a\\xa0Spin', u'INNOVATIVE FLYWHEEL ENERGY STORAGE SYSTEMS', u'Start spinning', u'The Power of Movement', u'What We Do', u'Kinetech Power Systems (KPS) has developed a low-cost, flexible duration \\xa0- long or short - flywheel energy storage system (FESS), also known as a mechanical battery, that provides non-toxic, environmentally friendly power for up to 30 years with little maintenance required.', u'How We Do It', u\"Constant innovation and hard work are behind our FESS. We've managed to create our own technology and designs for our high speed hybrid composite flywheel system, which allows us to drive our costs down without sacrificing efficiency.\\xa0\", u'Why We Do It', u'We strongly believe energy storage to be essential for more widespread renewable energy adoption. We are committed to the development of technology that can put us all one step closer to a clean future for all generations to come.', u'Our Core Technology and Key Advantages', u'Innovative FESS Design', u'Our patented FESS design has been tested and proven to provide long duration energy delivery in several prototype systems. KPS is constantly developing new innovations to further our technology and its applications.', u'High Speed / Small Volume', u\"KPS's high speed hybrid composite carbon fibre flywheel is much smaller than other similar steel flywheels, decreasing instalation costs and making it suitable for commercial and residential applications.\", u'Unique Bearing Technology', u'The RingLube\\u2122 bearing technology is an efficient alternative to magnetic bearing systems without suffering from standby power losses.', u'Efficient', u'Clean', u'Secure', u'Flywheel Energy Storage Focus Areas', u'Telecom', u'Telecom flywheel energy storage backup systems that can operate outdoors at low and high temperatures with minimal O&M.', u'Utilities + Renewables', u'Flexible and fast responsive energy storage for frequency regulation, peak management, T&D deferral and renewables intregration.\\xa0', u'Get in touch', u'Microgrids', u'Modular flywheel energy storage arrays that can adjust for the needs of residential, commercial and/or industrial applications.\\xa0', u'150 Wh prototype test run', u'WINNERS OF CLEANTECH CHALLENGE MEXICO 2017', u'In November, we were recognized by GreenMomentum as one of the most promising clean technology companies in Mexico.', u'Read more', u'Contact Us', u'Lets talk!', u'Name', u'Your email*', u'Your phone', u'Send', u'Feeling energetic? Please share your energy storage project ideas with us.', u'Kinetech Power Systems is a multi-national company with offices in both Mexico and the United States.', u'Kinetech Power Systems', u'Monterrey, Nuevo Le\\xf3n, Mexico', u'M\\xe9xico: ', u'(81) 1183 8487', u' --- USA: ', u'(210) 803-1769', u'Hours', u'Monday - Friday: 9am - 5pm', u'Saturday: By appointment', u'Sunday: By appointment', u'Copyright \\xa9 2018 Kinetech Power Systems S.A. de C.V.']\n"
     ]
    }
   ],
   "source": [
    "firm_pages_dict, depth0_page_text = process_firm (\"Kinetech Power Company LLC\")\n",
    "print (depth0_page_text)"
   ]
  },
  {
   "cell_type": "code",
   "execution_count": 34,
   "metadata": {
    "scrolled": true
   },
   "outputs": [
    {
     "name": "stdout",
     "output_type": "stream",
     "text": [
      "Working on Kinetech Power Company LLC\n",
      "Working on Matrix Genetics\n",
      "Working on Immunolight\n",
      "Working on Pharmatrophix\n",
      "Working on Glucan Biorenewables LLC\n",
      "Working on Mattson Technology\n",
      "Working on Nanoquantum Sciences\n",
      "Working on FULL CIRCLE BIOCHAR\n",
      "Working on NA\n",
      "Working on Gilead Connecticut\n",
      "Working on Plant Sensory Systems\n",
      "Working on Iogen Corporation\n",
      "Working on Ferro Corporation\n",
      "Working on GOAL ZERO LLC\n",
      "Working on Lux Bio Group\n",
      "Working on Magnolia Solar\n",
      "Working on Ticona LLC\n",
      "Working on CyboEnergy\n",
      "Working on Ablexis\n",
      "Working on Alliance for Sustainable Energy\n",
      "Working on ACACIA RESEARCH GROUP LLC\n",
      "Working on NanoOncology\n",
      "Working on Genesco Inc.\n"
     ]
    }
   ],
   "source": [
    "# run\n",
    "pp = pprint.PrettyPrinter()\n",
    "for firm_name in firm_names: \n",
    "    print (\"Working on \" + firm_name)\n",
    "    firm_pages_dict, depth0_page_text = process_firm (firm_name)\n",
    "    # pp.pprint(depth0_page_text)\n",
    "    if depth0_page_text: \n",
    "        file = re.sub('\\.|\\/', '_', firm_name) + '.txt'\n",
    "        with io.open(DATA_DIR + file,'w',encoding='utf8') as f:\n",
    "            f.write ('\\n'.join (depth0_page_text))"
   ]
  }
 ],
 "metadata": {
  "kernelspec": {
   "display_name": "Python 3",
   "language": "python",
   "name": "python3"
  },
  "language_info": {
   "codemirror_mode": {
    "name": "ipython",
    "version": 2
   },
   "file_extension": ".py",
   "mimetype": "text/x-python",
   "name": "python",
   "nbconvert_exporter": "python",
   "pygments_lexer": "ipython2",
   "version": "2.7.15"
  }
 },
 "nbformat": 4,
 "nbformat_minor": 2
}
