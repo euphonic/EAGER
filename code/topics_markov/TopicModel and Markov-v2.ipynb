{
 "cells": [
  {
   "cell_type": "code",
   "execution_count": 310,
   "metadata": {
    "collapsed": true
   },
   "outputs": [],
   "source": [
    "%matplotlib inline\n",
    "import pandas as pd\n",
    "import os\n",
    "import random\n",
    "import re\n",
    "import nltk\n",
    "import gensim\n",
    "import string\n",
    "import urllib2\n",
    "import math\n",
    "import numpy as np\n",
    "from nltk.corpus import stopwords\n",
    "from nltk.stem.snowball import SnowballStemmer\n",
    "from gensim import corpora\n",
    "from gensim.models import LdaMulticore\n",
    "from collections import defaultdict\n",
    "import copy as cp\n",
    "from bs4 import BeautifulSoup\n",
    "from functools import reduce \n",
    "import operator\n",
    "import matplotlib.pyplot as plt\n",
    "import pprint\n",
    "import numpy as np\n",
    "import pandas as pd"
   ]
  },
  {
   "cell_type": "code",
   "execution_count": 311,
   "metadata": {
    "collapsed": true
   },
   "outputs": [],
   "source": [
    "# find out what data this expects, e.g., with green_data (list of lists?) -- yes\n",
    "# replace with file data\n",
    "BASE_DATA_DIR = \"/Users/sarora/dev/EAGER/data/\""
   ]
  },
  {
   "cell_type": "markdown",
   "metadata": {},
   "source": [
    "## Load website data from file\n",
    "Look for text files prepared from MongoDB (the Scrapy scraper)"
   ]
  },
  {
   "cell_type": "code",
   "execution_count": 312,
   "metadata": {},
   "outputs": [],
   "source": [
    "#import demo text files\n",
    "in_path = BASE_DATA_DIR + 'orgs/depth0_pages/' # where in files are stored\n",
    "out_file = in_path + 'out_topics.csv' # where output files are stored\n",
    "files = os.listdir(in_path)\n",
    "files = [item for item in files if item.endswith('.txt')]"
   ]
  },
  {
   "cell_type": "code",
   "execution_count": 313,
   "metadata": {
    "collapsed": true
   },
   "outputs": [],
   "source": [
    "#generate pooled text and list of processed documents for topic model\n",
    "combined_text = []\n",
    "documents_dict = {}\n",
    "for i in range(len(files)):\n",
    "    with open(path + files[i], 'r') as my_file:\n",
    "        text = my_file.readlines() # this is each separate paragraph including headers etc\n",
    "        for k in [\"\\n\", \"\\t\", \" \"]: # remove the end of sentence tags\n",
    "            text = [item.strip(k) for item in text]\n",
    "        text = filter(lambda x : not x in [' ', '', '\\t'],text) #remove the paragraphs that are just blank space\n",
    "        #loop over text and add title elements to the paragraph they describe\n",
    "        joined = []\n",
    "        join = False\n",
    "        for j in range(len(text)):\n",
    "            if len(text[j]) < 100:\n",
    "                join = True\n",
    "            else:\n",
    "                if join:\n",
    "                    joined.append(text[j-1] + \" \" + text[j])\n",
    "                else:\n",
    "                    joined.append(text[j])\n",
    "        combined_text +=joined # make a big list\n",
    "        documents_dict[files[i]] = joined #make a list of lists"
   ]
  },
  {
   "cell_type": "markdown",
   "metadata": {},
   "source": [
    "## Data Prep"
   ]
  },
  {
   "cell_type": "markdown",
   "metadata": {},
   "source": [
    "#### Prepare text for topic modelling"
   ]
  },
  {
   "cell_type": "code",
   "execution_count": 314,
   "metadata": {},
   "outputs": [],
   "source": [
    "#tokenize text for topic modelling\n",
    "def encode_item(text):\n",
    "    '''\n",
    "    Remove characters with encoding problems \n",
    "    '''\n",
    "    clean = \"\"\n",
    "    for item in text.split(\" \"):\n",
    "        try:\n",
    "            clean += str(item).encode('ascii','ignore') + \" \"\n",
    "        except: \n",
    "            pass\n",
    "    return clean.rstrip()\n",
    "\n",
    "stopwords = nltk.corpus.stopwords.words('english') + list(set(string.punctuation))\n",
    "stemmer = SnowballStemmer(\"english\")\n",
    "\n",
    "def stem_tokenizer(text):\n",
    "    '''\n",
    "    Tokenize and stem an input sentence\"\n",
    "    '''\n",
    "    words_stemmed = filter(lambda x : not x in stopwords, [stemmer.stem(word) for word in nltk.word_tokenize(text)])\n",
    "    return words_stemmed\n",
    "\n",
    "def clean_text (text):\n",
    "    p = re.compile(r\"''|``|null|ul|li|ol|^\\.|^:|^/|\\\\|'s\", flags=re.IGNORECASE)\n",
    "    clnd_text = filter(lambda x : not p.match(x), text) \n",
    "    return clnd_text\n",
    "\n",
    "def return_for_model(text):\n",
    "    '''\n",
    "    Deal with endcoding and return stemmed/tokenized text\n",
    "    '''\n",
    "    all_content = [encode_item(item) for item in text]\n",
    "    all_content_stem_token = map(stem_tokenizer, all_content)\n",
    "    all_content_clnd = map (clean_text, all_content_stem_token)\n",
    "        \n",
    "    return all_content_clnd"
   ]
  },
  {
   "cell_type": "code",
   "execution_count": 315,
   "metadata": {},
   "outputs": [],
   "source": [
    "def process_doc_list(dict_of_docs):\n",
    "    '''\n",
    "    input: lists of documents (which are individually lists of paragraphs)\n",
    "    output: returns a test/train split of paragraphs and stemmed documents\n",
    "    '''\n",
    "    combined_text = []\n",
    "    documents = []\n",
    "    dict_of_processed_docs = {}\n",
    "    print \"Working on \" + str(len(dict_of_docs.keys())) + \" documents\"\n",
    "    c = 1\n",
    "    for key in dict_of_docs:\n",
    "        document = dict_of_docs[key]\n",
    "        # print \"Working on doc \" + key\n",
    "\n",
    "        text = filter(lambda x : not x in [' ', '', '\\t'],document) #remove empty paragraphs\n",
    "        #loop over text and add title elements to the paragraph they describe\n",
    "        joined = []\n",
    "        join = False\n",
    "        for i in range(len(text)):\n",
    "            if len(text[i]) < 100:\n",
    "                join = True\n",
    "            else:\n",
    "                if join:\n",
    "                    joined.append(text[i-1] + \" \" + text[i])\n",
    "                else:\n",
    "                    joined.append(text[i])\n",
    "        combined_text +=joined # make a big list\n",
    "        documents.append(joined) # make a list of lists\n",
    "        dict_of_processed_docs[key] = return_for_model(document)\n",
    "        \n",
    "    combined = return_for_model(combined_text)\n",
    "    random.shuffle(combined) #randomly shuffle in order to make test train split\n",
    "    train_index = int(np.round(len(combined)*.8)) #about 80% in the training set\n",
    "    train = combined[:train_index]\n",
    "    test = combined[train_index:]\n",
    "    return train, test, dict_of_processed_docs"
   ]
  },
  {
   "cell_type": "markdown",
   "metadata": {},
   "source": [
    "#### Process Documents for Topic Modelling"
   ]
  },
  {
   "cell_type": "code",
   "execution_count": 316,
   "metadata": {
    "scrolled": false
   },
   "outputs": [
    {
     "name": "stdout",
     "output_type": "stream",
     "text": [
      "Working on 1135 documents\n"
     ]
    }
   ],
   "source": [
    "# use the preceeding fuction to process the text data\n",
    "all_train, all_test, all_docs_dict = process_doc_list(documents_dict)\n",
    "# pp = pprint.PrettyPrinter()\n",
    "# pp.pprint(all_docs_dict.keys())"
   ]
  },
  {
   "cell_type": "code",
   "execution_count": 317,
   "metadata": {},
   "outputs": [
    {
     "name": "stdout",
     "output_type": "stream",
     "text": [
      "6234\n",
      "1559\n",
      "1135\n"
     ]
    }
   ],
   "source": [
    "print len(all_train)\n",
    "print len(all_test)\n",
    "print len(all_docs_dict.keys())"
   ]
  },
  {
   "cell_type": "code",
   "execution_count": 318,
   "metadata": {},
   "outputs": [],
   "source": [
    "SEGMENT_DIR = BASE_DATA_DIR + \"orgs/segments/\"\n",
    "def pick_firms (firm_file, all_docs_dict):\n",
    "    with open(SEGMENT_DIR + firm_file) as f:\n",
    "        firms = f.readlines()\n",
    "    clnd_file_names = map (lambda x: re.sub('\\.|\\/', '_', x).rstrip('\\r\\n') + '.txt', firms)\n",
    "    segment_dict = {}\n",
    "    for name in clnd_file_names:\n",
    "        if name in all_docs_dict:\n",
    "            segment_dict[name] = all_docs_dict[name]\n",
    "        else: \n",
    "            pass \n",
    "            # print \"Cannot find \" + name\n",
    "    return segment_dict"
   ]
  },
  {
   "cell_type": "code",
   "execution_count": 319,
   "metadata": {},
   "outputs": [
    {
     "name": "stdout",
     "output_type": "stream",
     "text": [
      "Working on 401 documents\n",
      "Working on 305 documents\n",
      "Working on 650 documents\n"
     ]
    }
   ],
   "source": [
    "# create different training sets by industry\n",
    "green_firms_file = \"green_firms.csv\"\n",
    "synbio_firms_file = \"synbio_firms.csv\"\n",
    "nano_firms_file = \"nano_firms.csv\"\n",
    "\n",
    "green_docs_dict= pick_firms(green_firms_file, documents_dict)\n",
    "green_train, green_test, green_docs = process_doc_list(green_docs_dict)\n",
    "\n",
    "synbio_docs_dict= pick_firms(synbio_firms_file, documents_dict)\n",
    "synbio_train, synbio_test, synbio_docs = process_doc_list(synbio_docs_dict)\n",
    "\n",
    "nano_docs_dict= pick_firms(nano_firms_file, documents_dict)\n",
    "nano_train, nano_test, nano_docs = process_doc_list(nano_docs_dict)"
   ]
  },
  {
   "cell_type": "markdown",
   "metadata": {},
   "source": [
    "## Run Topic Modelling"
   ]
  },
  {
   "cell_type": "code",
   "execution_count": 320,
   "metadata": {
    "collapsed": true
   },
   "outputs": [],
   "source": [
    "def topic_model(train, test, topics):\n",
    "    '''\n",
    "    input: preprocessed test and training data, optionally the number of topics\n",
    "    output: a fitted LDA topic model and the bow representation of test data for model evaluation\n",
    "    '''\n",
    "    random.seed(1)\n",
    "    #create topic model on full text\n",
    "    #will need to run on server when we have more data\n",
    "    full_dict = corpora.Dictionary(train)\n",
    "    DT_matrix = [full_dict.doc2bow(doc) for doc in train]\n",
    "    test_token = [full_dict.doc2bow(doc) for doc in test]\n",
    "    lda = LdaMulticore(DT_matrix, id2word=full_dict, num_topics=topics) \n",
    "    return lda, test_token"
   ]
  },
  {
   "cell_type": "code",
   "execution_count": 321,
   "metadata": {},
   "outputs": [],
   "source": [
    "k = [2, 5, 10, 15, 20, 25, 30, 40 , 50, 75, 100] #possible number of topics\n",
    "def calculate_perplexities(train,test, k):\n",
    "    '''\n",
    "    inputs: preprocessed test and training data, a list of possible number of topics\n",
    "    outputs: log perplexity and perplexity, scored on the test set\n",
    "    '''\n",
    "    log_perplexities = []\n",
    "    perplexity = []\n",
    "    for i in k:\n",
    "        model, test_doc2bow = topic_model(train, test, i)\n",
    "        log_p = model.log_perplexity(test_doc2bow)\n",
    "        log_perplexities.append(log_p)\n",
    "        perp = model.bound(test_doc2bow)\n",
    "        perplexity.append(perp)\n",
    "    return log_perplexities, perplexity\n",
    "\n",
    "\n",
    "all_log_perplexities, all_perplexities = calculate_perplexities(all_train, all_test, k)\n",
    "green_log_perplexities, green_perplexities = calculate_perplexities(green_train, green_test, k)\n",
    "synbio_log_perplexities, synbio_perplexities = calculate_perplexities(synbio_train, synbio_test, k)\n",
    "nano_log_perplexities,nano_perplexities= calculate_perplexities(nano_train, nano_test, k)"
   ]
  },
  {
   "cell_type": "markdown",
   "metadata": {},
   "source": [
    "#### Perplexity Plots for each Website type"
   ]
  },
  {
   "cell_type": "code",
   "execution_count": 322,
   "metadata": {},
   "outputs": [
    {
     "data": {
      "text/plain": [
       "[<matplotlib.lines.Line2D at 0x1a2211d550>]"
      ]
     },
     "execution_count": 322,
     "metadata": {},
     "output_type": "execute_result"
    },
    {
     "data": {
      "image/png": "[encoded data removed]",
      "text/plain": [
       "<matplotlib.figure.Figure at 0x1a20b84790>"
      ]
     },
     "metadata": {},
     "output_type": "display_data"
    }
   ],
   "source": [
    "import matplotlib.pyplot as plt\n",
    "plt.plot(k, all_perplexities)"
   ]
  },
  {
   "cell_type": "code",
   "execution_count": 323,
   "metadata": {},
   "outputs": [
    {
     "data": {
      "text/plain": [
       "[<matplotlib.lines.Line2D at 0x1a244f0250>]"
      ]
     },
     "execution_count": 323,
     "metadata": {},
     "output_type": "execute_result"
    },
    {
     "data": {
      "image/png": "[encoded data removed]",
      "text/plain": [
       "<matplotlib.figure.Figure at 0x1a23ba2b90>"
      ]
     },
     "metadata": {},
     "output_type": "display_data"
    }
   ],
   "source": [
    "plt.plot(k, green_perplexities)"
   ]
  },
  {
   "cell_type": "code",
   "execution_count": 324,
   "metadata": {},
   "outputs": [
    {
     "data": {
      "text/plain": [
       "[<matplotlib.lines.Line2D at 0x1a24acb690>]"
      ]
     },
     "execution_count": 324,
     "metadata": {},
     "output_type": "execute_result"
    },
    {
     "data": {
      "image/png": "[encoded data removed]",
      "text/plain": [
       "<matplotlib.figure.Figure at 0x1a22406990>"
      ]
     },
     "metadata": {},
     "output_type": "display_data"
    }
   ],
   "source": [
    "plt.plot(k, synbio_perplexities)"
   ]
  },
  {
   "cell_type": "code",
   "execution_count": 325,
   "metadata": {},
   "outputs": [
    {
     "data": {
      "text/plain": [
       "[<matplotlib.lines.Line2D at 0x1a24ee9c50>]"
      ]
     },
     "execution_count": 325,
     "metadata": {},
     "output_type": "execute_result"
    },
    {
     "data": {
      "image/png": "[encoded data removed]",
      "text/plain": [
       "<matplotlib.figure.Figure at 0x1a247da510>"
      ]
     },
     "metadata": {},
     "output_type": "display_data"
    }
   ],
   "source": [
    "plt.plot(k, nano_perplexities)"
   ]
  },
  {
   "cell_type": "markdown",
   "metadata": {},
   "source": [
    "#### Predict topics by paragraph"
   ]
  },
  {
   "cell_type": "code",
   "execution_count": 326,
   "metadata": {},
   "outputs": [],
   "source": [
    "# define data structs and train model\n",
    "k = 10\n",
    "topic_by_firm_vector = {} # at the firm level\n",
    "new_train = synbio_train + synbio_test # train model on all docs\n",
    "\n",
    "full_dict = corpora.Dictionary(new_train)\n",
    "DT_matrix = [full_dict.doc2bow(doc) for doc in new_train]\n",
    "lda = LdaMulticore(DT_matrix, id2word=full_dict, num_topics=k) "
   ]
  },
  {
   "cell_type": "code",
   "execution_count": 327,
   "metadata": {},
   "outputs": [
    {
     "name": "stdout",
     "output_type": "stream",
     "text": [
      "0::[u'product', u'compani', u'develop', u'protect', u'busi', u'system', u'2018', u'make', u'global', u'work']\n",
      "1::[u'technolog', u'inform', u'product', u'compani', u'work', u'world', u'new', u'2018', u'cancer', u'pleas']\n",
      "2::[u'product', u'ani', u'servic', u'websit', u'technolog', u'provid', u'custom', u'use', u'world', u'2018']\n",
      "3::[u'product', u'care', u'technolog', u'solut', u'medic', u'develop', u'health', u'innov', u'new', u'cancer']\n",
      "4::[u'develop', u'product', u'technolog', u'art', u'global', u'provid', u'manufactur', u'offer', u'innov', u'servic']\n",
      "5::[u'valu', u'cancer', u'technolog', u'system', u'art', u'bioga', u'compani', u'new', u'inform', u'process']\n",
      "6::[u'product', u'new', u'technolog', u'innov', u'solut', u'research', u'help', u'develop', u'provid', u'use']\n",
      "7::[u'use', u'product', u'number', u'health', u'help', u'cancer', u'solut', u'valu', u'peopl', u'research']\n",
      "8::[u'use', u'product', u'may', u'new', u'offer', u'technolog', u'appli', u'develop', u'provid', u'help']\n",
      "9::[u'product', u'develop', u'technolog', u'use', u'key', u'compani', u'valu', u'treatment', u'cancer', u'process']\n"
     ]
    }
   ],
   "source": [
    "x=lda.show_topics(num_topics=20, num_words=10,formatted=False)\n",
    "topics_words = [(tp[0], [wd[0] for wd in tp[1]]) for tp in x]\n",
    "\n",
    "#Below Code Prints Topics and Words\n",
    "for topic,words in topics_words:\n",
    "    print(str(topic)+ \"::\"+ str(words))"
   ]
  },
  {
   "cell_type": "code",
   "execution_count": 256,
   "metadata": {},
   "outputs": [],
   "source": [
    "for firm_key in all_docs_dict:\n",
    "    firm_paras = all_docs_dict[firm_key]\n",
    "    main_topic = [] # at the firm level, where each para is an entry\n",
    "    main_topic_probs = [] # same, but for probabilities\n",
    "    para_order = []\n",
    "    para_len = [] \n",
    "    order_num = 1\n",
    "    for para in firm_paras:\n",
    "        para_len.append(len(para))\n",
    "        topic_by_prob = sorted([(i[1],i[0]) for i in lda.get_document_topics(full_dict.doc2bow(para))], reverse = True)\n",
    "        main_topic.append(topic_by_prob[0][1])\n",
    "        main_topic_probs.append(topic_by_prob[0][0])\n",
    "        para_order.append(order_num)\n",
    "        order_num = order_num + 1\n",
    "    firm_df = pd.DataFrame(\n",
    "        {'firm_key': firm_key, \n",
    "         'para_order': para_order,\n",
    "         'num_words': para_len,\n",
    "         'main_topic': main_topic,\n",
    "         'prob': main_topic_probs\n",
    "        })\n",
    "    topic_by_firm_vector[firm_key] = firm_df # set at the firm level "
   ]
  },
  {
   "cell_type": "code",
   "execution_count": 257,
   "metadata": {},
   "outputs": [
    {
     "name": "stdout",
     "output_type": "stream",
     "text": [
      "857\n",
      "               firm_key  main_topic  num_words  para_order      prob\n",
      "0   Big Belly Solar.txt           5         17           1  0.600792\n",
      "1   Big Belly Solar.txt           2         33           2  0.628842\n",
      "2   Big Belly Solar.txt           8         35           3  0.506123\n",
      "3   Big Belly Solar.txt           7         34           4  0.601798\n",
      "4   Big Belly Solar.txt           0         46           5  0.403525\n",
      "5   Big Belly Solar.txt           7         26           6  0.966659\n",
      "6   Big Belly Solar.txt           7         14           7  0.939986\n",
      "7   Big Belly Solar.txt           1         13           8  0.547348\n",
      "8   Big Belly Solar.txt           3         12           9  0.930750\n",
      "9   Big Belly Solar.txt           4         50          10  0.812815\n",
      "10  Big Belly Solar.txt           4         49          11  0.916151\n",
      "11  Big Belly Solar.txt           8         41          12  0.844494\n",
      "12  Big Belly Solar.txt           0         47          13  0.981245\n",
      "13  Big Belly Solar.txt           4         53          14  0.797441\n",
      "14  Big Belly Solar.txt           0         51          15  0.982688\n",
      "15  Big Belly Solar.txt           1         49          16  0.875374\n"
     ]
    }
   ],
   "source": [
    "print len(topic_by_firm_vector.keys())\n",
    "print(topic_by_firm_vector['Big Belly Solar.txt'])"
   ]
  },
  {
   "cell_type": "code",
   "execution_count": 259,
   "metadata": {},
   "outputs": [],
   "source": [
    "# write to a single output topic file\n",
    "headers = list(topic_by_firm_vector[topic_by_firm_vector.keys()[0]])\n",
    "with open(out_file, 'a') as f:\n",
    "    f.write(','.join(headers) + '\\n')\n",
    "    for firm_key in topic_by_firm_vector:\n",
    "        df = topic_by_firm_vector[firm_key]\n",
    "        df.to_csv(f, header=False, index=False)"
   ]
  },
  {
   "cell_type": "markdown",
   "metadata": {},
   "source": [
    "### Markov Model"
   ]
  },
  {
   "cell_type": "code",
   "execution_count": 15,
   "metadata": {
    "collapsed": true
   },
   "outputs": [],
   "source": [
    "from collections import defaultdict\n",
    "import random"
   ]
  },
  {
   "cell_type": "code",
   "execution_count": 21,
   "metadata": {
    "collapsed": true
   },
   "outputs": [],
   "source": [
    "class markov_representation():\n",
    "    def __init__(self):\n",
    "        self.tokens = defaultdict(lambda: 0)\n",
    "        self.transitions = defaultdict(lambda: defaultdict(lambda:0))\n",
    "        self.for_matrix = defaultdict(lambda: 0)\n",
    "    def add(self, list_of_tokens):\n",
    "        for i in range(len(list_of_tokens) ):\n",
    "            if i <= (len(list_of_tokens)-2):\n",
    "                self.tokens[str(list_of_tokens[i])]+=1\n",
    "                self.transitions[str(list_of_tokens[i])][str(list_of_tokens[i + 1])]+=1\n",
    "                self.for_matrix[(str(list_of_tokens[i]),str(list_of_tokens[i + 1]))] +=1\n",
    "            else: #separate block to add the last token to the list of tokens\n",
    "                self.tokens[str(list_of_tokens[i])]+=1\n",
    "                self.transitions[str(list_of_tokens[i])][None] +=1\n",
    "    def test(self):\n",
    "        #return self.transitions\n",
    "        return self.for_matrix\n",
    "    #to do: add transition matrix\n",
    "    def make_transition_matrix(self):\n",
    "        #tranform dictionary of tuples in self.for_matrix into matrix\n",
    "        pass\n",
    "    def generate_sequence(self):\n",
    "        topic = 'start'\n",
    "        document = ['start']\n",
    "        while topic != 'end' and len(document)<20:\n",
    "            options = self.transitions[topic]\n",
    "            total = sum(options.values())\n",
    "            temp = 0\n",
    "            threshold = random.randint(0, total-1)\n",
    "            for key, value in options.iteritems():\n",
    "                temp += value\n",
    "                if temp>threshold:\n",
    "                    topic = key\n",
    "                    break\n",
    "            document.append(topic)\n",
    "        if document[-1] != 'end':\n",
    "            document.append('end')\n",
    "        return document\n",
    "        #I want to recursively call this to generate a sequence of the required length, but pass on this for now\n",
    "#         if len(document) > min_length:\n",
    "#             return document\n",
    "#         else:\n",
    "#             return self.generate_sequence(self, 5)"
   ]
  },
  {
   "cell_type": "markdown",
   "metadata": {},
   "source": [
    "### Apply Model"
   ]
  },
  {
   "cell_type": "code",
   "execution_count": 23,
   "metadata": {},
   "outputs": [
    {
     "data": {
      "text/plain": [
       "['start', '2', '1', '1', '0', 'end']"
      ]
     },
     "execution_count": 23,
     "metadata": {},
     "output_type": "execute_result"
    }
   ],
   "source": [
    "model = markov_representation()\n",
    "for doc in topic_vector:\n",
    "    model.add(doc)\n",
    "model.generate_sequence()"
   ]
  },
  {
   "cell_type": "code",
   "execution_count": null,
   "metadata": {
    "collapsed": true
   },
   "outputs": [],
   "source": [
    "## add code to get transition matrix"
   ]
  },
  {
   "cell_type": "code",
   "execution_count": 24,
   "metadata": {},
   "outputs": [
    {
     "data": {
      "text/plain": [
       "defaultdict(<function __main__.<lambda>>,\n",
       "            {('0', '0'): 7,\n",
       "             ('0', '1'): 4,\n",
       "             ('0', '2'): 4,\n",
       "             ('0', '3'): 5,\n",
       "             ('0', 'end'): 2,\n",
       "             ('1', '0'): 9,\n",
       "             ('1', '1'): 25,\n",
       "             ('1', '2'): 4,\n",
       "             ('1', '3'): 5,\n",
       "             ('1', 'end'): 4,\n",
       "             ('2', '0'): 1,\n",
       "             ('2', '1'): 8,\n",
       "             ('2', '2'): 17,\n",
       "             ('2', '3'): 4,\n",
       "             ('2', 'end'): 3,\n",
       "             ('3', '0'): 5,\n",
       "             ('3', '1'): 5,\n",
       "             ('3', '2'): 4,\n",
       "             ('3', '3'): 11,\n",
       "             ('3', 'end'): 1,\n",
       "             ('start', '1'): 5,\n",
       "             ('start', '2'): 4,\n",
       "             ('start', '3'): 1})"
      ]
     },
     "execution_count": 24,
     "metadata": {},
     "output_type": "execute_result"
    }
   ],
   "source": [
    "model.test()"
   ]
  },
  {
   "cell_type": "code",
   "execution_count": null,
   "metadata": {
    "collapsed": true
   },
   "outputs": [],
   "source": []
  },
  {
   "cell_type": "code",
   "execution_count": null,
   "metadata": {
    "collapsed": true
   },
   "outputs": [],
   "source": []
  },
  {
   "cell_type": "code",
   "execution_count": null,
   "metadata": {
    "collapsed": true
   },
   "outputs": [],
   "source": []
  },
  {
   "cell_type": "code",
   "execution_count": null,
   "metadata": {
    "collapsed": true
   },
   "outputs": [],
   "source": []
  },
  {
   "cell_type": "code",
   "execution_count": null,
   "metadata": {
    "collapsed": true
   },
   "outputs": [],
   "source": []
  }
 ],
 "metadata": {
  "kernelspec": {
   "display_name": "Python 2",
   "language": "python",
   "name": "python2"
  },
  "language_info": {
   "codemirror_mode": {
    "name": "ipython",
    "version": 2
   },
   "file_extension": ".py",
   "mimetype": "text/x-python",
   "name": "python",
   "nbconvert_exporter": "python",
   "pygments_lexer": "ipython2",
   "version": "2.7.14"
  }
 },
 "nbformat": 4,
 "nbformat_minor": 2
}
