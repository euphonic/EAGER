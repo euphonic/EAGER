{
 "cells": [
  {
   "cell_type": "markdown",
   "metadata": {},
   "source": [
    "# find-missing-pages-to-hand-label\n",
    "SanjayKAroraPhD@gmail.com <br>\n",
    "February 2019\n",
    "\n",
    "## Description\n",
    "Compare the output of the current labeled file against mongodb to see if there should be any additions"
   ]
  },
  {
   "cell_type": "code",
   "execution_count": 13,
   "metadata": {
    "scrolled": false
   },
   "outputs": [],
   "source": [
    "import pandas as pd\n",
    "import pymongo\n",
    "import pprint"
   ]
  },
  {
   "cell_type": "code",
   "execution_count": 64,
   "metadata": {},
   "outputs": [],
   "source": [
    "MONGODB_DB = \"FirmDB_20181226\"\n",
    "MONGODB_COLLECTION = \"pages_ABOUT2\"\n",
    "CONNECTION_STRING = \"mongodb://localhost\"\n",
    "\n",
    "client = pymongo.MongoClient(CONNECTION_STRING)\n",
    "db = client[MONGODB_DB]\n",
    "col = db[MONGODB_COLLECTION]\n",
    "\n",
    "ABOUT_DIR = '/Users/sarora/dev/EAGER/data/orgs/about/'\n",
    "DATA_DIR = '/Users/sarora/dev/EAGER/data/orgs/parsed_page_output/'\n",
    "TRAINING_PERCENT = .10\n",
    "\n",
    "PHRASE_LENGTH = 60\n",
    "MIN_PARA_LEN = 5\n",
    "\n",
    "pp = pprint.PrettyPrinter()"
   ]
  },
  {
   "cell_type": "code",
   "execution_count": 83,
   "metadata": {},
   "outputs": [
    {
     "data": {
      "text/html": [
       "<div>\n",
       "<style scoped>\n",
       "    .dataframe tbody tr th:only-of-type {\n",
       "        vertical-align: middle;\n",
       "    }\n",
       "\n",
       "    .dataframe tbody tr th {\n",
       "        vertical-align: top;\n",
       "    }\n",
       "\n",
       "    .dataframe thead th {\n",
       "        text-align: right;\n",
       "    }\n",
       "</style>\n",
       "<table border=\"1\" class=\"dataframe\">\n",
       "  <thead>\n",
       "    <tr style=\"text-align: right;\">\n",
       "      <th></th>\n",
       "      <th>firm_name</th>\n",
       "      <th>url</th>\n",
       "      <th>about_lbl</th>\n",
       "      <th>mgmt_lbl</th>\n",
       "      <th>partners_lbl</th>\n",
       "      <th>ip_lbl</th>\n",
       "      <th>about_agg_lbl</th>\n",
       "      <th>gid</th>\n",
       "    </tr>\n",
       "  </thead>\n",
       "  <tbody>\n",
       "    <tr>\n",
       "      <th>0</th>\n",
       "      <td>3M Innovative Properties Company</td>\n",
       "      <td>https://www.3m.com/</td>\n",
       "      <td>NaN</td>\n",
       "      <td>NaN</td>\n",
       "      <td>NaN</td>\n",
       "      <td>NaN</td>\n",
       "      <td>0</td>\n",
       "      <td>1</td>\n",
       "    </tr>\n",
       "    <tr>\n",
       "      <th>1</th>\n",
       "      <td>3M Innovative Properties Company</td>\n",
       "      <td>https://www.3m.com/3M/en_US/company-us/site-map/</td>\n",
       "      <td>NaN</td>\n",
       "      <td>NaN</td>\n",
       "      <td>NaN</td>\n",
       "      <td>NaN</td>\n",
       "      <td>0</td>\n",
       "      <td>1</td>\n",
       "    </tr>\n",
       "    <tr>\n",
       "      <th>2</th>\n",
       "      <td>3M Innovative Properties Company</td>\n",
       "      <td>https://www.3m.com/3M/en_US/company-us/about-3m/</td>\n",
       "      <td>1.0</td>\n",
       "      <td>NaN</td>\n",
       "      <td>NaN</td>\n",
       "      <td>NaN</td>\n",
       "      <td>1</td>\n",
       "      <td>1</td>\n",
       "    </tr>\n",
       "    <tr>\n",
       "      <th>3</th>\n",
       "      <td>3M Innovative Properties Company</td>\n",
       "      <td>https://www.3m.com/3M/en_US/home-improvement-us/</td>\n",
       "      <td>NaN</td>\n",
       "      <td>NaN</td>\n",
       "      <td>NaN</td>\n",
       "      <td>NaN</td>\n",
       "      <td>0</td>\n",
       "      <td>1</td>\n",
       "    </tr>\n",
       "    <tr>\n",
       "      <th>4</th>\n",
       "      <td>3M Innovative Properties Company</td>\n",
       "      <td>https://www.3m.com/3M/en_US/company-us/SDS-sea...</td>\n",
       "      <td>NaN</td>\n",
       "      <td>NaN</td>\n",
       "      <td>NaN</td>\n",
       "      <td>NaN</td>\n",
       "      <td>0</td>\n",
       "      <td>1</td>\n",
       "    </tr>\n",
       "  </tbody>\n",
       "</table>\n",
       "</div>"
      ],
      "text/plain": [
       "                          firm_name  \\\n",
       "0  3M Innovative Properties Company   \n",
       "1  3M Innovative Properties Company   \n",
       "2  3M Innovative Properties Company   \n",
       "3  3M Innovative Properties Company   \n",
       "4  3M Innovative Properties Company   \n",
       "\n",
       "                                                 url  about_lbl  mgmt_lbl  \\\n",
       "0                                https://www.3m.com/        NaN       NaN   \n",
       "1   https://www.3m.com/3M/en_US/company-us/site-map/        NaN       NaN   \n",
       "2   https://www.3m.com/3M/en_US/company-us/about-3m/        1.0       NaN   \n",
       "3   https://www.3m.com/3M/en_US/home-improvement-us/        NaN       NaN   \n",
       "4  https://www.3m.com/3M/en_US/company-us/SDS-sea...        NaN       NaN   \n",
       "\n",
       "   partners_lbl  ip_lbl  about_agg_lbl  gid  \n",
       "0           NaN     NaN              0    1  \n",
       "1           NaN     NaN              0    1  \n",
       "2           NaN     NaN              1    1  \n",
       "3           NaN     NaN              0    1  \n",
       "4           NaN     NaN              0    1  "
      ]
     },
     "execution_count": 83,
     "metadata": {},
     "output_type": "execute_result"
    }
   ],
   "source": [
    "df = pd.read_csv('/Users/sarora/dev/EAGER/data/orgs/about/about_pages_labeled_v3.csv')\n",
    "df.head()"
   ]
  },
  {
   "cell_type": "code",
   "execution_count": 84,
   "metadata": {},
   "outputs": [
    {
     "name": "stdout",
     "output_type": "stream",
     "text": [
      "['SAE Magnetics (HK) Ltd.', 'Microchips Biotech', 'Allison Transmission', 'Greatbatch Ltd.', 'iNanoBio LLC']\n",
      "['https://www.3m.com/', 'https://www.3m.com/3M/en_US/company-us/site-map/', 'https://www.3m.com/3M/en_US/company-us/about-3m/', 'https://www.3m.com/3M/en_US/home-improvement-us/', 'https://www.3m.com/3M/en_US/company-us/SDS-search/']\n"
     ]
    }
   ],
   "source": [
    "labeled_firm_names = list(set(df['firm_name']))\n",
    "labeled_urls = list(df['url'])\n",
    "\n",
    "print (labeled_firm_names[0:5])\n",
    "print (labeled_urls[0:5])"
   ]
  },
  {
   "cell_type": "code",
   "execution_count": 86,
   "metadata": {},
   "outputs": [],
   "source": [
    "results = col.find ({}, {'url': 1, 'firm_name': 1})\n",
    "url_to_firm_name_dict = {}\n",
    "\n",
    "for result in results: \n",
    "    url = result['url'][0]\n",
    "    firm_name = result['firm_name'][0]\n",
    "    url_to_firm_name_dict[url] = firm_name"
   ]
  },
  {
   "cell_type": "code",
   "execution_count": 88,
   "metadata": {},
   "outputs": [],
   "source": [
    "missing = []\n",
    "for mongo_url, mongo_firm_name in url_to_firm_name_dict.items(): \n",
    "    # print (mongo_firm_name)\n",
    "    if mongo_firm_name not in labeled_firm_names:\n",
    "        continue\n",
    "    if mongo_url not in labeled_urls: \n",
    "        missing.append ([mongo_firm_name, mongo_url])"
   ]
  },
  {
   "cell_type": "code",
   "execution_count": 95,
   "metadata": {},
   "outputs": [
    {
     "name": "stdout",
     "output_type": "stream",
     "text": [
      "834\n"
     ]
    }
   ],
   "source": [
    "print(len(missing))\n",
    "# pp.pprint (missing)\n",
    "\n",
    "df_missing = pd.DataFrame(missing, columns=['firm_name', 'url'])\n",
    "df_missing.to_csv('/Users/sarora/dev/EAGER/data/orgs/about/about_pages_labeled_v3-missing.csv', index=False)"
   ]
  }
 ],
 "metadata": {
  "kernelspec": {
   "display_name": "Python 3",
   "language": "python",
   "name": "python3"
  },
  "language_info": {
   "codemirror_mode": {
    "name": "ipython",
    "version": 3
   },
   "file_extension": ".py",
   "mimetype": "text/x-python",
   "name": "python",
   "nbconvert_exporter": "python",
   "pygments_lexer": "ipython3",
   "version": "3.6.5"
  }
 },
 "nbformat": 4,
 "nbformat_minor": 2
}
