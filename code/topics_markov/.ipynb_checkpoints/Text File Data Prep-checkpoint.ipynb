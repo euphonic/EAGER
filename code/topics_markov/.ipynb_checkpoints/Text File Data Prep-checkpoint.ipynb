{
 "cells": [
  {
   "cell_type": "code",
   "execution_count": 2,
   "metadata": {
    "collapsed": true
   },
   "outputs": [],
   "source": [
    "import os"
   ]
  },
  {
   "cell_type": "code",
   "execution_count": 3,
   "metadata": {
    "collapsed": true
   },
   "outputs": [],
   "source": [
    "#import demo text files\n",
    "path = '/Users/sarora/dev/EAGER/data/firms_depth0' #where are files stored\n",
    "files = os.listdir(path)\n",
    "files = [item for item in files if item.endswith('.txt')]"
   ]
  },
  {
   "cell_type": "code",
   "execution_count": 4,
   "metadata": {
    "collapsed": true
   },
   "outputs": [],
   "source": [
    "#generate pooled text and list of processed documents for topic model\n",
    "combined_text = []\n",
    "documents = []\n",
    "for i in range(len(files)):\n",
    "    with open(path + files[i], 'r') as my_file:\n",
    "        text = my_file.readlines() #this is each separate paragraph including headers etc\n",
    "        for i in [\"\\n\", \"\\t\", \" \"]: #remove the end of sentence tags\n",
    "            text = [item.strip(i) for item in text]\n",
    "        text = filter(lambda x : not x in [' ', '', '\\t'],text) #remove the paragraphs that are just blank space\n",
    "        #loop over text and add title elements to the paragraph they describe\n",
    "        joined = []\n",
    "        join = False\n",
    "        for i in range(len(text)):\n",
    "            if len(text[i]) < 40:\n",
    "                join = True\n",
    "            else:\n",
    "                if join:\n",
    "                    joined.append(text[i-1] + \" \" + text[i])\n",
    "                else:\n",
    "                    joined.append(text[i])\n",
    "        combined_text +=joined # make a big list\n",
    "        documents.append(joined) #make a list of lists"
   ]
  },
  {
   "cell_type": "code",
   "execution_count": null,
   "metadata": {
    "collapsed": true
   },
   "outputs": [],
   "source": []
  }
 ],
 "metadata": {
  "kernelspec": {
   "display_name": "Python 2",
   "language": "python",
   "name": "python2"
  },
  "language_info": {
   "codemirror_mode": {
    "name": "ipython",
    "version": 2
   },
   "file_extension": ".py",
   "mimetype": "text/x-python",
   "name": "python",
   "nbconvert_exporter": "python",
   "pygments_lexer": "ipython2",
   "version": "2.7.14"
  }
 },
 "nbformat": 4,
 "nbformat_minor": 2
}
