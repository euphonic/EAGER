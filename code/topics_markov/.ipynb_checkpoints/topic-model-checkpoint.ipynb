{
 "cells": [
  {
   "cell_type": "markdown",
   "metadata": {},
   "source": [
    "# Topic model\n",
    "SanjayKAroraPhD@gmail.com <br>\n",
    "December 2018\n",
    "\n",
    "## Description\n",
    "This notebook trains topic models on firm pages, segmenting those pages by firm groups as appropriate, and prepares topic modeling outputs at the paragraph level for subsequent Markov modeling\n",
    "\n",
    "## TODO:\n",
    "Develop a more intelligent way to break up paragraphs."
   ]
  },
  {
   "cell_type": "code",
   "execution_count": 27,
   "metadata": {},
   "outputs": [],
   "source": [
    "%matplotlib inline\n",
    "import os\n",
    "import random\n",
    "import re\n",
    "import gensim\n",
    "import string\n",
    "import math\n",
    "from gensim import corpora\n",
    "from gensim.models import LdaMulticore\n",
    "from collections import defaultdict\n",
    "import copy as cp\n",
    "from bs4 import BeautifulSoup\n",
    "from functools import reduce \n",
    "import operator\n",
    "import matplotlib.pyplot as plt\n",
    "import pprint\n",
    "import numpy as np\n",
    "import pandas as pd\n",
    "import nltk\n",
    "from nltk.corpus import stopwords\n",
    "from nltk.stem.snowball import SnowballStemmer\n",
    "import pprint"
   ]
  },
  {
   "cell_type": "code",
   "execution_count": 2,
   "metadata": {},
   "outputs": [],
   "source": [
    "# find out what data this expects, e.g., with green_data (list of lists?) -- yes\n",
    "# replace with file data\n",
    "BASE_DATA_DIR = \"/home/eager/EAGER/data/\""
   ]
  },
  {
   "cell_type": "markdown",
   "metadata": {},
   "source": [
    "## Load website data from file\n",
    "Look for text files prepared from MongoDB (the Scrapy scraper)"
   ]
  },
  {
   "cell_type": "code",
   "execution_count": 3,
   "metadata": {},
   "outputs": [],
   "source": [
    "#import demo text files\n",
    "in_path = BASE_DATA_DIR + 'orgs/workshop/depth0_pages/' # where in files are stored\n",
    "out_file = in_path + 'out_topics.csv' # where output files are stored\n",
    "files = os.listdir(in_path)\n",
    "files = [item for item in files if item.endswith('.txt')]"
   ]
  },
  {
   "cell_type": "code",
   "execution_count": 4,
   "metadata": {},
   "outputs": [],
   "source": [
    "#generate pooled text and list of processed documents for topic model\n",
    "combined_text = []\n",
    "documents_dict = {}\n",
    "for i in range(len(files)):\n",
    "    with open(in_path + files[i], 'r') as my_file:\n",
    "        text = my_file.readlines() # this is each separate paragraph including headers etc\n",
    "        for k in [\"\\n\", \"\\t\", \" \"]: # remove the end of sentence tags\n",
    "            text = [item.strip(k) for item in text]\n",
    "        text = filter(lambda x : not x in [' ', '', '\\t'],text) #remove the paragraphs that are just blank space\n",
    "        documents_dict[files[i]] = text #make a list of lists"
   ]
  },
  {
   "cell_type": "markdown",
   "metadata": {},
   "source": [
    "## Data Prep"
   ]
  },
  {
   "cell_type": "markdown",
   "metadata": {},
   "source": [
    "#### Prepare text for topic modelling"
   ]
  },
  {
   "cell_type": "code",
   "execution_count": 185,
   "metadata": {},
   "outputs": [
    {
     "name": "stdout",
     "output_type": "stream",
     "text": [
      "showing info https://raw.githubusercontent.com/nltk/nltk_data/gh-pages/index.xml\n"
     ]
    },
    {
     "data": {
      "text/plain": [
       "True"
      ]
     },
     "execution_count": 185,
     "metadata": {},
     "output_type": "execute_result"
    }
   ],
   "source": [
    "nltk.download()"
   ]
  },
  {
   "cell_type": "code",
   "execution_count": 5,
   "metadata": {},
   "outputs": [],
   "source": [
    "#tokenize text for topic modelling\n",
    "def encode_item(text):\n",
    "    '''\n",
    "    Remove characters with encoding problems \n",
    "    '''\n",
    "    clean = \"\"\n",
    "    for item in text.split(\" \"):\n",
    "        try:\n",
    "            clean += str(item).encode('ascii','ignore') + \" \"\n",
    "        except: \n",
    "            pass\n",
    "    return clean.rstrip()\n",
    "\n",
    "stopwords = nltk.corpus.stopwords.words('english') + list(set(string.punctuation))\n",
    "stemmer = SnowballStemmer(\"english\")\n",
    "\n",
    "def stem_tokenizer(text):\n",
    "    '''\n",
    "    Tokenize and stem an input sentence\"\n",
    "    '''\n",
    "    words_stemmed = filter(lambda x : not x in stopwords, [stemmer.stem(word) for word in nltk.word_tokenize(text)])\n",
    "    return words_stemmed\n",
    "\n",
    "def clean_text (text):\n",
    "    p = re.compile(r\"''|``|null|ul|li|ol|^\\.|^:|^/|\\\\|'s\", flags=re.IGNORECASE)\n",
    "    clnd_text = filter(lambda x : not p.match(x), text) \n",
    "    return clnd_text\n",
    "\n",
    "def return_for_model(text):\n",
    "    '''\n",
    "    Deal with endcoding and return stemmed/tokenized text\n",
    "    '''\n",
    "    all_content = [encode_item(item) for item in text]\n",
    "    all_content_stem_token = map(stem_tokenizer, all_content)\n",
    "    all_content_clnd = map (clean_text, all_content_stem_token)\n",
    "        \n",
    "    return all_content_clnd"
   ]
  },
  {
   "cell_type": "code",
   "execution_count": 6,
   "metadata": {},
   "outputs": [],
   "source": [
    "def process_doc_list(dict_of_docs):\n",
    "    '''\n",
    "    input: lists of documents (which are individually lists of paragraphs)\n",
    "    output: returns a test/train split of paragraphs and stemmed documents\n",
    "    '''\n",
    "    combined_text = []\n",
    "    documents = []\n",
    "    dict_of_processed_docs = {}\n",
    "    print \"Working on \" + str(len(dict_of_docs.keys())) + \" documents\"\n",
    "    c = 1\n",
    "    for key in dict_of_docs:\n",
    "        document = dict_of_docs[key]\n",
    "        # print \"Working on doc \" + key\n",
    "        #loop over text and add title elements to the paragraph they describe\n",
    "        joined = []\n",
    "        buffer = \"\"\n",
    "        for i in range(len(text)):\n",
    "            if len(text[i]) < 12: # maybe a menu or simple pagragraph heading? \n",
    "                continue\n",
    "            buffer = buffer + text[i] + ' ' \n",
    "            # TODO: must implement a better way to define pagraphs, e.g., on sentences or paragraph tags\n",
    "            if len(buffer) > 100:\n",
    "                joined.append(buffer.rstrip())\n",
    "                buffer = \"\"\n",
    "        combined_text +=joined # make a big list\n",
    "        documents.append(joined) # make a list of lists\n",
    "        dict_of_processed_docs[key] = return_for_model(joined)\n",
    "    \n",
    "    combined = return_for_model(combined_text)\n",
    "    random.shuffle(combined) #randomly shuffle in order to make test train split\n",
    "    train_index = int(np.round(len(combined)*.8)) #about 80% in the training set\n",
    "    train = combined[:train_index]\n",
    "    test = combined[train_index:]\n",
    "    return train, test, dict_of_processed_docs"
   ]
  },
  {
   "cell_type": "markdown",
   "metadata": {},
   "source": [
    "#### Process Documents for Topic Modelling"
   ]
  },
  {
   "cell_type": "code",
   "execution_count": 7,
   "metadata": {
    "scrolled": false
   },
   "outputs": [
    {
     "name": "stdout",
     "output_type": "stream",
     "text": [
      "Working on 23 documents\n"
     ]
    }
   ],
   "source": [
    "# use the preceeding fuction to process the text data\n",
    "all_train, all_test, all_docs_dict = process_doc_list(documents_dict)\n",
    "# pp = pprint.PrettyPrinter()\n",
    "# pp.pprint(all_docs_dict.keys())"
   ]
  },
  {
   "cell_type": "code",
   "execution_count": 8,
   "metadata": {
    "scrolled": true
   },
   "outputs": [
    {
     "name": "stdout",
     "output_type": "stream",
     "text": [
      "258\n",
      "64\n",
      "23\n"
     ]
    }
   ],
   "source": [
    "print len(all_train)\n",
    "print len(all_test)\n",
    "print len(all_docs_dict.keys())"
   ]
  },
  {
   "cell_type": "code",
   "execution_count": 9,
   "metadata": {},
   "outputs": [
    {
     "name": "stdout",
     "output_type": "stream",
     "text": [
      "[[u'batteri', u'innov', u'flywheel', u'energi', u'storag', u'system', u'start', u'spin', u'power', u'movement'], [u'kinetech', u'power', u'system', u'kps', u'develop', u'low-cost', u'flexibl', u'durat', u'long', u'short', u'flywheel', u'energi', u'storag', u'system', u'fess', u'also', u'known', u'mechan', u'batteri', u'provid', u'non-tox', u'environment', u'friend', u'power', '30', u'year', u'mainten', u'requir'], [u'constant', u'innov', u'hard', u'work', u'behind', u'fess', u'manag', u'creat', u'technolog', u'design', u'high', u'speed', u'hybrid', u'composit', u'flywheel', u'system', u'allow', 'us', u'drive', u'cost', u'without', u'sacrif'], [u'whi', u'strong', u'believ', u'energi', u'storag', u'essenti', u'widespread', u'renew', u'energi', u'adopt', u'commit', u'develop', u'technolog', u'put', 'us', u'one', u'step', u'closer', u'clean', u'futur', u'generat', u'come'], [u'core', u'technolog', u'key', u'advantag', u'innov', u'fess', u'design', u'patent', u'fess', u'design', u'test', u'proven', u'provid', u'long', u'durat', u'energi', u'deliveri', u'sever', u'prototyp', u'system', u'kps', u'constant', u'develop', u'new', u'innov', u'technolog', u'applic'], [u'high', u'speed', u'small', u'volum', u'kps', u'high', u'speed', u'hybrid', u'composit', u'carbon', u'fibr', u'flywheel', u'much', u'smaller', u'similar', u'steel', u'flywheel', u'decreas', u'instal', u'cost', u'make', u'suitabl', u'commerci', u'residenti', u'applic'], [u'uniqu', u'bear', u'technolog', u'bear', u'technolog', u'effici', u'altern', u'magnet', u'bear', u'system', u'without', u'suffer', u'standbi', u'power', u'loss'], [u'flywheel', u'energi', u'storag', u'focus', u'area', u'telecom', u'flywheel', u'energi', u'storag', u'backup', u'system', u'oper', u'outdoor', u'low', u'high', u'temperatur', u'minim'], [u'util', u'renew', u'flexibl', u'fast', u'respons', u'energi', u'storag', u'frequenc', u'regul', u'peak', u'manag', u'deferr', u'renew'], [u'get', u'touch', u'modular', u'flywheel', u'energi', u'storag', u'array', u'adjust', u'need', u'residenti', u'commerci', u'and/or', u'industri'], [u'150', 'wh', u'prototyp', u'test', u'run', u'winner', u'cleantech', u'challeng', u'mexico', u'2017', u'novemb', u'recogn', u'greenmomentum', u'one', u'promis', u'clean', u'technolog', u'compani', u'mexico'], [u'feel', u'energet', u'pleas', u'share', u'energi', u'storag', u'project', u'idea', 'us', u'kinetech', u'power', u'system', u'multi-n', u'compani', u'offic', u'mexico', u'unit', u'state'], [u'kinetech', u'power', u'system', u'monterrey', u'nuevo', u'mexico', '81', u'1183', u'8487', u'210', u'803-1769', u'monday', u'friday', u'9am', u'5pm'], [u'saturday', u'appoint', u'sunday', u'appoint', u'copyright', u'2018', u'kinetech', u'power', u'system', u's.a.', 'de', u'c.v']]\n"
     ]
    }
   ],
   "source": [
    "print(all_docs_dict['Ablexis.txt'])"
   ]
  },
  {
   "cell_type": "code",
   "execution_count": 10,
   "metadata": {},
   "outputs": [],
   "source": [
    "SEGMENT_DIR = BASE_DATA_DIR + \"orgs/segments/\"\n",
    "def pick_firms (firm_file, all_docs_dict):\n",
    "    with open(SEGMENT_DIR + firm_file) as f:\n",
    "        firms = f.readlines()\n",
    "    clnd_file_names = map (lambda x: re.sub('\\.|\\/', '_', x).rstrip('\\r\\n') + '.txt', firms)\n",
    "    segment_dict = {}\n",
    "    for name in clnd_file_names:\n",
    "        if name in all_docs_dict:\n",
    "            segment_dict[name] = all_docs_dict[name]\n",
    "        else: \n",
    "            pass \n",
    "            # print \"Cannot find \" + name\n",
    "    return segment_dict"
   ]
  },
  {
   "cell_type": "code",
   "execution_count": 11,
   "metadata": {},
   "outputs": [
    {
     "name": "stdout",
     "output_type": "stream",
     "text": [
      "Working on 9 documents\n",
      "Working on 9 documents\n",
      "Working on 9 documents\n"
     ]
    }
   ],
   "source": [
    "# create different training sets by industry\n",
    "green_firms_file = \"green_firms.csv\"\n",
    "synbio_firms_file = \"synbio_firms.csv\"\n",
    "nano_firms_file = \"nano_firms.csv\"\n",
    "\n",
    "green_docs_dict= pick_firms(green_firms_file, documents_dict)\n",
    "green_train, green_test, green_docs = process_doc_list(green_docs_dict)\n",
    "\n",
    "synbio_docs_dict= pick_firms(synbio_firms_file, documents_dict)\n",
    "synbio_train, synbio_test, synbio_docs = process_doc_list(synbio_docs_dict)\n",
    "\n",
    "nano_docs_dict= pick_firms(nano_firms_file, documents_dict)\n",
    "nano_train, nano_test, nano_docs = process_doc_list(nano_docs_dict)"
   ]
  },
  {
   "cell_type": "code",
   "execution_count": 12,
   "metadata": {},
   "outputs": [
    {
     "name": "stdout",
     "output_type": "stream",
     "text": [
      "Working on 22 documents\n",
      "Working on 0 documents\n",
      "Working on 0 documents\n"
     ]
    }
   ],
   "source": [
    "small_firms_file = \"small_firms.csv\"\n",
    "medium_firms_file = \"medium_firms.csv\"\n",
    "large_firms_file = \"large_firms.csv\"\n",
    "\n",
    "small_docs_dict= pick_firms(small_firms_file, documents_dict)\n",
    "small_train, small_test, small_docs = process_doc_list(small_docs_dict)\n",
    "\n",
    "medium_docs_dict= pick_firms(medium_firms_file, documents_dict)\n",
    "medium_train, medium_test, medium_docs = process_doc_list(medium_docs_dict)\n",
    "\n",
    "large_docs_dict= pick_firms(large_firms_file, documents_dict)\n",
    "large_train, large_test, large_docs = process_doc_list(large_docs_dict)"
   ]
  },
  {
   "cell_type": "markdown",
   "metadata": {},
   "source": [
    "## Run Topic Modelling"
   ]
  },
  {
   "cell_type": "code",
   "execution_count": 13,
   "metadata": {},
   "outputs": [],
   "source": [
    "def topic_model(train, test, topics):\n",
    "    '''\n",
    "    input: preprocessed test and training data, optionally the number of topics\n",
    "    output: a fitted LDA topic model and the bow representation of test data for model evaluation\n",
    "    '''\n",
    "    random.seed(1)\n",
    "    #create topic model on full text\n",
    "    #will need to run on server when we have more data\n",
    "    full_dict = corpora.Dictionary(train)\n",
    "    DT_matrix = [full_dict.doc2bow(doc) for doc in train]\n",
    "    test_token = [full_dict.doc2bow(doc) for doc in test]\n",
    "    lda = LdaMulticore(DT_matrix, id2word=full_dict, num_topics=topics) \n",
    "    return lda, test_token"
   ]
  },
  {
   "cell_type": "code",
   "execution_count": 14,
   "metadata": {},
   "outputs": [],
   "source": [
    "k = [2, 5, 10, 15, 20, 25, 30, 40 , 50, 75, 100] #possible number of topics\n",
    "def calculate_perplexities(train,test, k):\n",
    "    '''\n",
    "    inputs: preprocessed test and training data, a list of possible number of topics\n",
    "    outputs: log perplexity and perplexity, scored on the test set\n",
    "    '''\n",
    "    log_perplexities = []\n",
    "    perplexity = []\n",
    "    for i in k:\n",
    "        model, test_doc2bow = topic_model(train, test, i)\n",
    "        log_p = model.log_perplexity(test_doc2bow)\n",
    "        log_perplexities.append(log_p)\n",
    "        perp = model.bound(test_doc2bow)\n",
    "        perplexity.append(perp)\n",
    "    return log_perplexities, perplexity"
   ]
  },
  {
   "cell_type": "code",
   "execution_count": 16,
   "metadata": {},
   "outputs": [],
   "source": [
    "all_log_perplexities, all_perplexities = calculate_perplexities(all_train, all_test, k)"
   ]
  },
  {
   "cell_type": "code",
   "execution_count": 17,
   "metadata": {},
   "outputs": [],
   "source": [
    "green_log_perplexities, green_perplexities = calculate_perplexities(green_train, green_test, k)\n",
    "synbio_log_perplexities, synbio_perplexities = calculate_perplexities(synbio_train, synbio_test, k)\n",
    "nano_log_perplexities,nano_perplexities= calculate_perplexities(nano_train, nano_test, k)"
   ]
  },
  {
   "cell_type": "code",
   "execution_count": 29,
   "metadata": {},
   "outputs": [],
   "source": [
    "# small_log_perplexities, small_perplexities = calculate_perplexities(small_train, small_test, k)\n",
    "# medium_log_perplexities, medium_perplexities = calculate_perplexities(medium_train, medium_test, k)\n",
    "# large_log_perplexities,large_perplexities= calculate_perplexities(large_train, large_test, k)"
   ]
  },
  {
   "cell_type": "markdown",
   "metadata": {},
   "source": [
    "#### Perplexity Plots for each Website type"
   ]
  },
  {
   "cell_type": "code",
   "execution_count": 18,
   "metadata": {},
   "outputs": [
    {
     "data": {
      "text/plain": [
       "[<matplotlib.lines.Line2D at 0x7f66dc3e6c10>]"
      ]
     },
     "execution_count": 18,
     "metadata": {},
     "output_type": "execute_result"
    },
    {
     "data": {
      "image/png": "[encoded data removed]",
      "text/plain": [
       "<Figure size 432x288 with 1 Axes>"
      ]
     },
     "metadata": {
      "needs_background": "light"
     },
     "output_type": "display_data"
    }
   ],
   "source": [
    "import matplotlib.pyplot as plt\n",
    "plt.plot(k, all_perplexities)"
   ]
  },
  {
   "cell_type": "code",
   "execution_count": 19,
   "metadata": {},
   "outputs": [
    {
     "data": {
      "text/plain": [
       "[<matplotlib.lines.Line2D at 0x7f66dc321bd0>]"
      ]
     },
     "execution_count": 19,
     "metadata": {},
     "output_type": "execute_result"
    },
    {
     "data": {
      "image/png": "[encoded data removed]",
      "text/plain": [
       "<Figure size 432x288 with 1 Axes>"
      ]
     },
     "metadata": {
      "needs_background": "light"
     },
     "output_type": "display_data"
    }
   ],
   "source": [
    "plt.plot(k, green_perplexities)"
   ]
  },
  {
   "cell_type": "code",
   "execution_count": 20,
   "metadata": {},
   "outputs": [
    {
     "data": {
      "text/plain": [
       "[<matplotlib.lines.Line2D at 0x7f66dc314b10>]"
      ]
     },
     "execution_count": 20,
     "metadata": {},
     "output_type": "execute_result"
    },
    {
     "data": {
      "image/png": "[encoded data removed]",
      "text/plain": [
       "<Figure size 432x288 with 1 Axes>"
      ]
     },
     "metadata": {
      "needs_background": "light"
     },
     "output_type": "display_data"
    }
   ],
   "source": [
    "plt.plot(k, synbio_perplexities)"
   ]
  },
  {
   "cell_type": "code",
   "execution_count": 21,
   "metadata": {},
   "outputs": [
    {
     "data": {
      "text/plain": [
       "[<matplotlib.lines.Line2D at 0x7f66dc27f650>]"
      ]
     },
     "execution_count": 21,
     "metadata": {},
     "output_type": "execute_result"
    },
    {
     "data": {
      "image/png": "[encoded data removed]",
      "text/plain": [
       "<Figure size 432x288 with 1 Axes>"
      ]
     },
     "metadata": {
      "needs_background": "light"
     },
     "output_type": "display_data"
    }
   ],
   "source": [
    "plt.plot(k, nano_perplexities)"
   ]
  },
  {
   "cell_type": "code",
   "execution_count": 34,
   "metadata": {},
   "outputs": [],
   "source": [
    "# plt.plot(k, small_perplexities)"
   ]
  },
  {
   "cell_type": "code",
   "execution_count": 35,
   "metadata": {},
   "outputs": [],
   "source": [
    "# plt.plot(k, medium_perplexities)"
   ]
  },
  {
   "cell_type": "code",
   "execution_count": 36,
   "metadata": {},
   "outputs": [],
   "source": [
    "# plt.plot(k, large_perplexities)"
   ]
  },
  {
   "cell_type": "markdown",
   "metadata": {},
   "source": [
    "#### Predict topics by paragraph"
   ]
  },
  {
   "cell_type": "code",
   "execution_count": 22,
   "metadata": {},
   "outputs": [],
   "source": [
    "# define data structs and train model\n",
    "k = 10\n",
    "topic_by_firm_vector = {} # at the firm level\n",
    "\n",
    "# train on all docs or a subset\n",
    "new_train = all_train + all_test\n",
    "# new_train = synbio_train + synbio_test\n",
    "# new_train = nano_train + nano_test \n",
    "# new_train = green_train + green_test\n",
    "\n",
    "# new_train = small_train + small_test\n",
    "# new_train = medium_train + medium_test \n",
    "# new_train = large_train + large_test\n",
    "\n",
    "full_dict = corpora.Dictionary(new_train)\n",
    "DT_matrix = [full_dict.doc2bow(doc) for doc in new_train]\n",
    "lda = LdaMulticore(DT_matrix, id2word=full_dict, num_topics=k) "
   ]
  },
  {
   "cell_type": "code",
   "execution_count": 23,
   "metadata": {},
   "outputs": [
    {
     "name": "stdout",
     "output_type": "stream",
     "text": [
      "0::[u'power', u'system', u'energi', u'storag', u'flywheel', u'develop', u'kinetech', u'flexibl', u'batteri', u'friend']\n",
      "1::[u'energi', u'technolog', u'storag', u'bear', u'us', u'futur', u'develop', u'put', u'generat', u'believ']\n",
      "2::[u'technolog', u'bear', u'system', u'innov', u'design', u'fess', u'without', u'constant', u'energi', u'flywheel']\n",
      "3::[u'renew', u'energi', u'storag', u'frequenc', u'manag', u'flexibl', u'respons', u'peak', u'deferr', u'fast']\n",
      "4::[u'flywheel', u'energi', u'system', u'high', u'storag', u'fess', u'applic', u'speed', u'kps', u'design']\n",
      "5::[u'mexico', u'compani', u'power', u'system', u'energet', u'idea', u'pleas', u'multi-n', u'feel', u'storag']\n",
      "6::[u'system', u'power', u'energi', u'kinetech', u'storag', u'mexico', u'appoint', u'us', u'innov', u'flywheel']\n",
      "7::[u'mexico', u'energi', u'storag', u'flywheel', u'technolog', u'one', u'clean', u'promis', u'greenmomentum', u'compani']\n",
      "8::[u'energi', u'storag', u'flywheel', u'industri', u'residenti', u'get', u'touch', u'commerci', u'modular', u'array']\n",
      "9::[u'flywheel', u'storag', u'energi', u'high', u'speed', u'residenti', u'commerci', u'renew', u'kps', u'flexibl']\n"
     ]
    }
   ],
   "source": [
    "x=lda.show_topics(num_topics=k, num_words=10,formatted=False)\n",
    "topics_words = [(tp[0], [wd[0] for wd in tp[1]]) for tp in x]\n",
    "\n",
    "#Below Code Prints Topics and Words\n",
    "for topic,words in topics_words:\n",
    "    print(str(topic)+ \"::\"+ str(words))"
   ]
  },
  {
   "cell_type": "code",
   "execution_count": 24,
   "metadata": {},
   "outputs": [],
   "source": [
    "for firm_key in all_docs_dict:\n",
    "    firm_paras = all_docs_dict[firm_key]\n",
    "    main_topic = [] # at the firm level, where each para is an entry\n",
    "    main_topic_probs = [] # same, but for probabilities\n",
    "    para_order = []\n",
    "    para_len = [] \n",
    "    order_num = 1\n",
    "    for para in firm_paras:\n",
    "        para_len.append(len(para))\n",
    "        topic_by_prob = sorted([(i[1],i[0]) for i in lda.get_document_topics(full_dict.doc2bow(para))], reverse = True)\n",
    "        main_topic.append(topic_by_prob[0][1])\n",
    "        main_topic_probs.append(topic_by_prob[0][0])\n",
    "        para_order.append(order_num)\n",
    "        order_num = order_num + 1\n",
    "    firm_df = pd.DataFrame(\n",
    "        {'firm_key': firm_key, \n",
    "         'para_order': para_order,\n",
    "         'num_words': para_len,\n",
    "         'main_topic': main_topic,\n",
    "         'prob': main_topic_probs\n",
    "        })\n",
    "    topic_by_firm_vector[firm_key] = firm_df # set at the firm level "
   ]
  },
  {
   "cell_type": "code",
   "execution_count": 29,
   "metadata": {},
   "outputs": [
    {
     "name": "stdout",
     "output_type": "stream",
     "text": [
      "23\n",
      "[[u'batteri',\n",
      "  u'innov',\n",
      "  u'flywheel',\n",
      "  u'energi',\n",
      "  u'storag',\n",
      "  u'system',\n",
      "  u'start',\n",
      "  u'spin',\n",
      "  u'power',\n",
      "  u'movement'],\n",
      " [u'kinetech',\n",
      "  u'power',\n",
      "  u'system',\n",
      "  u'kps',\n",
      "  u'develop',\n",
      "  u'low-cost',\n",
      "  u'flexibl',\n",
      "  u'durat',\n",
      "  u'long',\n",
      "  u'short',\n",
      "  u'flywheel',\n",
      "  u'energi',\n",
      "  u'storag',\n",
      "  u'system',\n",
      "  u'fess',\n",
      "  u'also',\n",
      "  u'known',\n",
      "  u'mechan',\n",
      "  u'batteri',\n",
      "  u'provid',\n",
      "  u'non-tox',\n",
      "  u'environment',\n",
      "  u'friend',\n",
      "  u'power',\n",
      "  '30',\n",
      "  u'year',\n",
      "  u'mainten',\n",
      "  u'requir'],\n",
      " [u'constant',\n",
      "  u'innov',\n",
      "  u'hard',\n",
      "  u'work',\n",
      "  u'behind',\n",
      "  u'fess',\n",
      "  u'manag',\n",
      "  u'creat',\n",
      "  u'technolog',\n",
      "  u'design',\n",
      "  u'high',\n",
      "  u'speed',\n",
      "  u'hybrid',\n",
      "  u'composit',\n",
      "  u'flywheel',\n",
      "  u'system',\n",
      "  u'allow',\n",
      "  'us',\n",
      "  u'drive',\n",
      "  u'cost',\n",
      "  u'without',\n",
      "  u'sacrif'],\n",
      " [u'whi',\n",
      "  u'strong',\n",
      "  u'believ',\n",
      "  u'energi',\n",
      "  u'storag',\n",
      "  u'essenti',\n",
      "  u'widespread',\n",
      "  u'renew',\n",
      "  u'energi',\n",
      "  u'adopt',\n",
      "  u'commit',\n",
      "  u'develop',\n",
      "  u'technolog',\n",
      "  u'put',\n",
      "  'us',\n",
      "  u'one',\n",
      "  u'step',\n",
      "  u'closer',\n",
      "  u'clean',\n",
      "  u'futur',\n",
      "  u'generat',\n",
      "  u'come'],\n",
      " [u'core',\n",
      "  u'technolog',\n",
      "  u'key',\n",
      "  u'advantag',\n",
      "  u'innov',\n",
      "  u'fess',\n",
      "  u'design',\n",
      "  u'patent',\n",
      "  u'fess',\n",
      "  u'design',\n",
      "  u'test',\n",
      "  u'proven',\n",
      "  u'provid',\n",
      "  u'long',\n",
      "  u'durat',\n",
      "  u'energi',\n",
      "  u'deliveri',\n",
      "  u'sever',\n",
      "  u'prototyp',\n",
      "  u'system',\n",
      "  u'kps',\n",
      "  u'constant',\n",
      "  u'develop',\n",
      "  u'new',\n",
      "  u'innov',\n",
      "  u'technolog',\n",
      "  u'applic'],\n",
      " [u'high',\n",
      "  u'speed',\n",
      "  u'small',\n",
      "  u'volum',\n",
      "  u'kps',\n",
      "  u'high',\n",
      "  u'speed',\n",
      "  u'hybrid',\n",
      "  u'composit',\n",
      "  u'carbon',\n",
      "  u'fibr',\n",
      "  u'flywheel',\n",
      "  u'much',\n",
      "  u'smaller',\n",
      "  u'similar',\n",
      "  u'steel',\n",
      "  u'flywheel',\n",
      "  u'decreas',\n",
      "  u'instal',\n",
      "  u'cost',\n",
      "  u'make',\n",
      "  u'suitabl',\n",
      "  u'commerci',\n",
      "  u'residenti',\n",
      "  u'applic'],\n",
      " [u'uniqu',\n",
      "  u'bear',\n",
      "  u'technolog',\n",
      "  u'bear',\n",
      "  u'technolog',\n",
      "  u'effici',\n",
      "  u'altern',\n",
      "  u'magnet',\n",
      "  u'bear',\n",
      "  u'system',\n",
      "  u'without',\n",
      "  u'suffer',\n",
      "  u'standbi',\n",
      "  u'power',\n",
      "  u'loss'],\n",
      " [u'flywheel',\n",
      "  u'energi',\n",
      "  u'storag',\n",
      "  u'focus',\n",
      "  u'area',\n",
      "  u'telecom',\n",
      "  u'flywheel',\n",
      "  u'energi',\n",
      "  u'storag',\n",
      "  u'backup',\n",
      "  u'system',\n",
      "  u'oper',\n",
      "  u'outdoor',\n",
      "  u'low',\n",
      "  u'high',\n",
      "  u'temperatur',\n",
      "  u'minim'],\n",
      " [u'util',\n",
      "  u'renew',\n",
      "  u'flexibl',\n",
      "  u'fast',\n",
      "  u'respons',\n",
      "  u'energi',\n",
      "  u'storag',\n",
      "  u'frequenc',\n",
      "  u'regul',\n",
      "  u'peak',\n",
      "  u'manag',\n",
      "  u'deferr',\n",
      "  u'renew'],\n",
      " [u'get',\n",
      "  u'touch',\n",
      "  u'modular',\n",
      "  u'flywheel',\n",
      "  u'energi',\n",
      "  u'storag',\n",
      "  u'array',\n",
      "  u'adjust',\n",
      "  u'need',\n",
      "  u'residenti',\n",
      "  u'commerci',\n",
      "  u'and/or',\n",
      "  u'industri'],\n",
      " [u'150',\n",
      "  'wh',\n",
      "  u'prototyp',\n",
      "  u'test',\n",
      "  u'run',\n",
      "  u'winner',\n",
      "  u'cleantech',\n",
      "  u'challeng',\n",
      "  u'mexico',\n",
      "  u'2017',\n",
      "  u'novemb',\n",
      "  u'recogn',\n",
      "  u'greenmomentum',\n",
      "  u'one',\n",
      "  u'promis',\n",
      "  u'clean',\n",
      "  u'technolog',\n",
      "  u'compani',\n",
      "  u'mexico'],\n",
      " [u'feel',\n",
      "  u'energet',\n",
      "  u'pleas',\n",
      "  u'share',\n",
      "  u'energi',\n",
      "  u'storag',\n",
      "  u'project',\n",
      "  u'idea',\n",
      "  'us',\n",
      "  u'kinetech',\n",
      "  u'power',\n",
      "  u'system',\n",
      "  u'multi-n',\n",
      "  u'compani',\n",
      "  u'offic',\n",
      "  u'mexico',\n",
      "  u'unit',\n",
      "  u'state'],\n",
      " [u'kinetech',\n",
      "  u'power',\n",
      "  u'system',\n",
      "  u'monterrey',\n",
      "  u'nuevo',\n",
      "  u'mexico',\n",
      "  '81',\n",
      "  u'1183',\n",
      "  u'8487',\n",
      "  u'210',\n",
      "  u'803-1769',\n",
      "  u'monday',\n",
      "  u'friday',\n",
      "  u'9am',\n",
      "  u'5pm'],\n",
      " [u'saturday',\n",
      "  u'appoint',\n",
      "  u'sunday',\n",
      "  u'appoint',\n",
      "  u'copyright',\n",
      "  u'2018',\n",
      "  u'kinetech',\n",
      "  u'power',\n",
      "  u'system',\n",
      "  u's.a.',\n",
      "  'de',\n",
      "  u'c.v']]\n",
      "       firm_key  main_topic  num_words  para_order      prob\n",
      "0   Ablexis.txt           6         10           1  0.918170\n",
      "1   Ablexis.txt           0         28           2  0.968963\n",
      "2   Ablexis.txt           2         22           3  0.960866\n",
      "3   Ablexis.txt           1         22           4  0.960865\n",
      "4   Ablexis.txt           2         27           5  0.967854\n",
      "5   Ablexis.txt           9         25           6  0.965382\n",
      "6   Ablexis.txt           2         15           7  0.943746\n",
      "7   Ablexis.txt           7         17           8  0.949993\n",
      "8   Ablexis.txt           3         13           9  0.935711\n",
      "9   Ablexis.txt           8         13          10  0.935709\n",
      "10  Ablexis.txt           7         19          11  0.954998\n",
      "11  Ablexis.txt           5         18          12  0.952624\n",
      "12  Ablexis.txt           6         15          13  0.943747\n",
      "13  Ablexis.txt           6         12          14  0.930765\n"
     ]
    }
   ],
   "source": [
    "print len(topic_by_firm_vector.keys())\n",
    "pp = pprint.PrettyPrinter()\n",
    "pp.pprint (all_docs_dict['Ablexis.txt'])\n",
    "print(topic_by_firm_vector['Ablexis.txt'])"
   ]
  },
  {
   "cell_type": "code",
   "execution_count": 30,
   "metadata": {},
   "outputs": [],
   "source": [
    "# write to a single output topic file\n",
    "headers = list(topic_by_firm_vector[topic_by_firm_vector.keys()[0]])\n",
    "with open(out_file, 'a') as f:\n",
    "    f.write(','.join(headers) + '\\n')\n",
    "    for firm_key in topic_by_firm_vector:\n",
    "        df = topic_by_firm_vector[firm_key]\n",
    "        df.to_csv(f, header=False, index=False)"
   ]
  }
 ],
 "metadata": {
  "kernelspec": {
   "display_name": "Python 2",
   "language": "python",
   "name": "python2"
  },
  "language_info": {
   "codemirror_mode": {
    "name": "ipython",
    "version": 2
   },
   "file_extension": ".py",
   "mimetype": "text/x-python",
   "name": "python",
   "nbconvert_exporter": "python",
   "pygments_lexer": "ipython2",
   "version": "2.7.15"
  }
 },
 "nbformat": 4,
 "nbformat_minor": 2
}
